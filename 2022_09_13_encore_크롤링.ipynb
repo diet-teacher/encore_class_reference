{
 "cells": [
  {
   "cell_type": "code",
   "execution_count": 2,
   "id": "573bd365",
   "metadata": {},
   "outputs": [
    {
     "name": "stdout",
     "output_type": "stream",
     "text": [
      "Collecting selenium==4.2.0\n",
      "  Downloading selenium-4.2.0-py3-none-any.whl (983 kB)\n",
      "Collecting trio-websocket~=0.9\n",
      "  Using cached trio_websocket-0.9.2-py3-none-any.whl (16 kB)\n",
      "Collecting trio~=0.17\n",
      "  Using cached trio-0.21.0-py3-none-any.whl (358 kB)\n",
      "Requirement already satisfied: urllib3[secure,socks]~=1.26 in c:\\users\\playdata\\anaconda3\\lib\\site-packages (from selenium==4.2.0) (1.26.9)\n",
      "Requirement already satisfied: attrs>=19.2.0 in c:\\users\\playdata\\anaconda3\\lib\\site-packages (from trio~=0.17->selenium==4.2.0) (21.4.0)\n",
      "Requirement already satisfied: sortedcontainers in c:\\users\\playdata\\anaconda3\\lib\\site-packages (from trio~=0.17->selenium==4.2.0) (2.4.0)\n",
      "Collecting async-generator>=1.9\n",
      "  Using cached async_generator-1.10-py3-none-any.whl (18 kB)\n",
      "Requirement already satisfied: sniffio in c:\\users\\playdata\\anaconda3\\lib\\site-packages (from trio~=0.17->selenium==4.2.0) (1.2.0)\n",
      "Collecting outcome\n",
      "  Using cached outcome-1.2.0-py2.py3-none-any.whl (9.7 kB)\n",
      "Requirement already satisfied: idna in c:\\users\\playdata\\anaconda3\\lib\\site-packages (from trio~=0.17->selenium==4.2.0) (3.3)\n",
      "Requirement already satisfied: cffi>=1.14 in c:\\users\\playdata\\anaconda3\\lib\\site-packages (from trio~=0.17->selenium==4.2.0) (1.15.0)\n",
      "Requirement already satisfied: pycparser in c:\\users\\playdata\\anaconda3\\lib\\site-packages (from cffi>=1.14->trio~=0.17->selenium==4.2.0) (2.21)\n",
      "Collecting wsproto>=0.14\n",
      "  Using cached wsproto-1.2.0-py3-none-any.whl (24 kB)\n",
      "Requirement already satisfied: pyOpenSSL>=0.14 in c:\\users\\playdata\\anaconda3\\lib\\site-packages (from urllib3[secure,socks]~=1.26->selenium==4.2.0) (21.0.0)\n",
      "Requirement already satisfied: certifi in c:\\users\\playdata\\anaconda3\\lib\\site-packages (from urllib3[secure,socks]~=1.26->selenium==4.2.0) (2021.10.8)\n",
      "Requirement already satisfied: cryptography>=1.3.4 in c:\\users\\playdata\\anaconda3\\lib\\site-packages (from urllib3[secure,socks]~=1.26->selenium==4.2.0) (3.4.8)\n",
      "Requirement already satisfied: PySocks!=1.5.7,<2.0,>=1.5.6 in c:\\users\\playdata\\anaconda3\\lib\\site-packages (from urllib3[secure,socks]~=1.26->selenium==4.2.0) (1.7.1)\n",
      "Requirement already satisfied: six>=1.5.2 in c:\\users\\playdata\\anaconda3\\lib\\site-packages (from pyOpenSSL>=0.14->urllib3[secure,socks]~=1.26->selenium==4.2.0) (1.16.0)\n",
      "Collecting h11<1,>=0.9.0\n",
      "  Using cached h11-0.13.0-py3-none-any.whl (58 kB)\n",
      "Installing collected packages: outcome, h11, async-generator, wsproto, trio, trio-websocket, selenium\n",
      "Successfully installed async-generator-1.10 h11-0.13.0 outcome-1.2.0 selenium-4.2.0 trio-0.21.0 trio-websocket-0.9.2 wsproto-1.2.0\n"
     ]
    }
   ],
   "source": [
    "!pip install selenium==4.2.0"
   ]
  },
  {
   "cell_type": "code",
   "execution_count": 3,
   "id": "5e4fc29c",
   "metadata": {},
   "outputs": [
    {
     "name": "stdout",
     "output_type": "stream",
     "text": [
      "Collecting bs4\n",
      "  Using cached bs4-0.0.1.tar.gz (1.1 kB)\n",
      "Requirement already satisfied: beautifulsoup4 in c:\\users\\playdata\\anaconda3\\lib\\site-packages (from bs4) (4.11.1)\n",
      "Requirement already satisfied: soupsieve>1.2 in c:\\users\\playdata\\anaconda3\\lib\\site-packages (from beautifulsoup4->bs4) (2.3.1)\n",
      "Building wheels for collected packages: bs4\n",
      "  Building wheel for bs4 (setup.py): started\n",
      "  Building wheel for bs4 (setup.py): finished with status 'done'\n",
      "  Created wheel for bs4: filename=bs4-0.0.1-py3-none-any.whl size=1272 sha256=1414d2bc9e0178bad74225542787b9475aac4da003283c59d074b6509f85de2e\n",
      "  Stored in directory: c:\\users\\playdata\\appdata\\local\\pip\\cache\\wheels\\73\\2b\\cb\\099980278a0c9a3e57ff1a89875ec07bfa0b6fcbebb9a8cad3\n",
      "Successfully built bs4\n",
      "Installing collected packages: bs4\n",
      "Successfully installed bs4-0.0.1\n"
     ]
    }
   ],
   "source": [
    "!pip install bs4"
   ]
  },
  {
   "cell_type": "code",
   "execution_count": 18,
   "id": "11c07268",
   "metadata": {},
   "outputs": [
    {
     "name": "stdout",
     "output_type": "stream",
     "text": [
      "크롤링할 키워드?강원도\n"
     ]
    },
    {
     "name": "stderr",
     "output_type": "stream",
     "text": [
      "C:\\Users\\Playdata\\AppData\\Local\\Temp\\ipykernel_30808\\3154825694.py:10: DeprecationWarning: executable_path has been deprecated, please pass in a Service object\n",
      "  driver = webdriver.Chrome(path)\n",
      "C:\\Users\\Playdata\\AppData\\Local\\Temp\\ipykernel_30808\\3154825694.py:17: DeprecationWarning: find_element_by_* commands are deprecated. Please use find_element() instead\n",
      "  driver.find_element_by_id(\"search_bar\").click()\n",
      "C:\\Users\\Playdata\\AppData\\Local\\Temp\\ipykernel_30808\\3154825694.py:18: DeprecationWarning: find_element_by_* commands are deprecated. Please use find_element() instead\n",
      "  element = driver.find_element_by_id(\"search_bar\")\n",
      "C:\\Users\\Playdata\\AppData\\Local\\Temp\\ipykernel_30808\\3154825694.py:22: DeprecationWarning: find_element_by_* commands are deprecated. Please use find_element() instead\n",
      "  driver.find_element_by_id(\"search_bt\").click()\n"
     ]
    }
   ],
   "source": [
    "# step0. 필요한 모듈과 라이브러리를 로딩하고 검색어를 입력받는다.\n",
    "from bs4 import BeautifulSoup\n",
    "from selenium import webdriver\n",
    "import time\n",
    "\n",
    "query_txt = input('크롤링할 키워드?')\n",
    "\n",
    "# step1. 크롬 드라이버를 사용해서 웹 브라우저를 실행\n",
    "path = \"c:/Users/Playdata/vscode_encore/chromedriver.exe\"\n",
    "driver = webdriver.Chrome(path)\n",
    "\n",
    "driver.get(\"https://www.verygoodtour.com/Home/PackageMain\")\n",
    "time.sleep(2)\n",
    "\n",
    "# step2. 검색창의 이름을 찾아서 검색어를 입력\n",
    "# driver.find_element_by_id(\"search_bar\").click()\n",
    "driver.find_element_by_id(\"search_bar\").click()\n",
    "element = driver.find_element_by_id(\"search_bar\")\n",
    "element.send_keys(query_txt)\n",
    "\n",
    "# step3. 검색 버튼을 눌러 실행합니다.\n",
    "driver.find_element_by_id(\"search_bt\").click()"
   ]
  },
  {
   "cell_type": "code",
   "execution_count": null,
   "id": "e8c8cb32",
   "metadata": {},
   "outputs": [],
   "source": [
    "# step0. 필요한 모듈과 라이브러리를 로딩하고 검색어를 입력받는다.\n",
    "from bs4 import BeautifulSoup\n",
    "from selenium import webdriver\n",
    "import time\n",
    "\n",
    "query_txt = input('크롤링할 키워드?')\n",
    "\n",
    "# step1. 크롬 드라이버를 사용해서 웹 브라우저를 실행\n",
    "path = \"c:/Users/Playdata/vscode_encore/chromedriver.exe\"\n",
    "driver = webdriver.Chrome(path)\n",
    "\n",
    "driver.get(\"https://www.verygoodtour.com/Home/PackageMain\")\n",
    "time.sleep(2)\n",
    "\n",
    "# step2. 검색창의 이름을 찾아서 검색어를 입력\n",
    "# driver.find_element_by_id(\"search_bar\").click()\n",
    "driver.find_element_by_id(\"search_bar\").click()\n",
    "element = driver.find_element_by_id(\"search_bar\")\n",
    "element.send_keys(query_txt)\n",
    "\n",
    "# step3. 검색 버튼을 눌러 실행합니다.\n",
    "driver.find_element_by_id(\"search_bt\").click()"
   ]
  },
  {
   "cell_type": "code",
   "execution_count": 22,
   "id": "3fb149d1",
   "metadata": {},
   "outputs": [
    {
     "name": "stdout",
     "output_type": "stream",
     "text": [
      "크롤링할 키워드?봄여행\n"
     ]
    },
    {
     "name": "stderr",
     "output_type": "stream",
     "text": [
      "C:\\Users\\Playdata\\AppData\\Local\\Temp\\ipykernel_30808\\873597607.py:10: DeprecationWarning: executable_path has been deprecated, please pass in a Service object\n",
      "  driver = webdriver.Chrome(path)\n",
      "C:\\Users\\Playdata\\AppData\\Local\\Temp\\ipykernel_30808\\873597607.py:16: DeprecationWarning: find_element_by_* commands are deprecated. Please use find_element() instead\n",
      "  driver.find_element_by_id(\"inp_search\").click()\n",
      "C:\\Users\\Playdata\\AppData\\Local\\Temp\\ipykernel_30808\\873597607.py:17: DeprecationWarning: find_element_by_* commands are deprecated. Please use find_element() instead\n",
      "  element = driver.find_element_by_id(\"inp_search\")\n",
      "C:\\Users\\Playdata\\AppData\\Local\\Temp\\ipykernel_30808\\873597607.py:21: DeprecationWarning: find_element_by_link_text is deprecated. Please use find_element(by=By.LINK_TEXT, value=link_text) instead\n",
      "  driver.find_element_by_link_text(\"검색\").click()\n"
     ]
    }
   ],
   "source": [
    "# step0. 필요한 모듈과 라이브러리를 로딩하고 검색어를 입력받는다.\n",
    "from bs4 import BeautifulSoup\n",
    "from selenium import webdriver\n",
    "import time\n",
    "\n",
    "query_txt = input('크롤링할 키워드?')\n",
    "\n",
    "# step1. 크롬 드라이버를 사용해서 웹 브라우저를 실행\n",
    "path = \"c:/Users/Playdata/vscode_encore/chromedriver.exe\"\n",
    "driver = webdriver.Chrome(path)\n",
    "\n",
    "driver.get(\"https://korean.visitkorea.or.kr/main/main.html\")\n",
    "time.sleep(3)\n",
    "\n",
    "# step2. 검색창의 이름을 찾아서 검색어를 입력\n",
    "driver.find_element_by_id(\"inp_search\").click()\n",
    "element = driver.find_element_by_id(\"inp_search\")\n",
    "element.send_keys(query_txt)\n",
    "\n",
    "# step3. 검색 버튼을 눌러 실행합니다.\n",
    "driver.find_element_by_link_text(\"검색\").click()"
   ]
  },
  {
   "cell_type": "code",
   "execution_count": 13,
   "id": "2a2ade00",
   "metadata": {},
   "outputs": [
    {
     "name": "stderr",
     "output_type": "stream",
     "text": [
      "C:\\Users\\Playdata\\AppData\\Local\\Temp\\ipykernel_1416\\993066870.py:8: DeprecationWarning: executable_path has been deprecated, please pass in a Service object\n",
      "  driver = webdriver.Chrome(path)\n"
     ]
    },
    {
     "name": "stdout",
     "output_type": "stream",
     "text": [
      "완료\n"
     ]
    },
    {
     "name": "stderr",
     "output_type": "stream",
     "text": [
      "C:\\Users\\Playdata\\AppData\\Local\\Temp\\ipykernel_1416\\993066870.py:12: DeprecationWarning: find_element_by_* commands are deprecated. Please use find_element() instead\n",
      "  driver.find_element_by_id('btnMenu').click()\n"
     ]
    }
   ],
   "source": [
    "#1. id 사용\n",
    "path = \"c:/Users/Playdata/vscode_encore/chromedriver.exe\"\n",
    "driver = webdriver.Chrome(path)\n",
    "driver.get(\"https://korean.visitkorea.or.kr/main/main.html\")\n",
    "time.sleep(3)\n",
    "driver.find_element_by_id('btnMenu').click()\n",
    "print('완료')"
   ]
  },
  {
   "cell_type": "code",
   "execution_count": 18,
   "id": "afad6c09",
   "metadata": {},
   "outputs": [
    {
     "name": "stderr",
     "output_type": "stream",
     "text": [
      "C:\\Users\\Playdata\\AppData\\Local\\Temp\\ipykernel_1416\\1478305393.py:3: DeprecationWarning: executable_path has been deprecated, please pass in a Service object\n",
      "  driver = webdriver.Chrome(path)\n"
     ]
    },
    {
     "name": "stdout",
     "output_type": "stream",
     "text": [
      "완료\n"
     ]
    },
    {
     "name": "stderr",
     "output_type": "stream",
     "text": [
      "C:\\Users\\Playdata\\AppData\\Local\\Temp\\ipykernel_1416\\1478305393.py:6: DeprecationWarning: find_element_by_tag_name is deprecated. Please use find_element(by=By.TAG_NAME, value=name) instead\n",
      "  driver.find_element_by_tag_name('button').click()\n"
     ]
    }
   ],
   "source": [
    "#1. tag name 사용\n",
    "path = \"c:/Users/Playdata/vscode_encore/chromedriver.exe\"\n",
    "driver = webdriver.Chrome(path)\n",
    "driver.get(\"https://korean.visitkorea.or.kr/main/main.html\")\n",
    "time.sleep(3)\n",
    "driver.find_element_by_tag_name('button').click()\n",
    "print('완료')"
   ]
  },
  {
   "cell_type": "code",
   "execution_count": 24,
   "id": "6231fc0d",
   "metadata": {},
   "outputs": [
    {
     "name": "stderr",
     "output_type": "stream",
     "text": [
      "C:\\Users\\Playdata\\AppData\\Local\\Temp\\ipykernel_1416\\2675619729.py:3: DeprecationWarning: executable_path has been deprecated, please pass in a Service object\n",
      "  driver = webdriver.Chrome(path)\n"
     ]
    },
    {
     "name": "stdout",
     "output_type": "stream",
     "text": [
      "완료\n"
     ]
    },
    {
     "name": "stderr",
     "output_type": "stream",
     "text": [
      "C:\\Users\\Playdata\\AppData\\Local\\Temp\\ipykernel_1416\\2675619729.py:6: DeprecationWarning: find_element_by_xpath is deprecated. Please use find_element(by=By.XPATH, value=xpath) instead\n",
      "  driver.find_element_by_xpath('/html/body/header/div/div/div/div/span').click()\n"
     ]
    }
   ],
   "source": [
    "# xpath 사용\n",
    "path = \"c:/Users/Playdata/vscode_encore/chromedriver.exe\"\n",
    "driver = webdriver.Chrome(path)\n",
    "driver.get(\"https://korean.visitkorea.or.kr/main/main.html\")\n",
    "time.sleep(3)\n",
    "driver.find_element_by_xpath('/html/body/header/div/div/div/div/span').click()\n",
    "print('완료')"
   ]
  },
  {
   "cell_type": "code",
   "execution_count": 34,
   "id": "33dcc344",
   "metadata": {},
   "outputs": [
    {
     "name": "stderr",
     "output_type": "stream",
     "text": [
      "C:\\Users\\Playdata\\AppData\\Local\\Temp\\ipykernel_1416\\4238250270.py:3: DeprecationWarning: executable_path has been deprecated, please pass in a Service object\n",
      "  driver = webdriver.Chrome(path)\n",
      "C:\\Users\\Playdata\\AppData\\Local\\Temp\\ipykernel_1416\\4238250270.py:6: DeprecationWarning: find_element_by_xpath is deprecated. Please use find_element(by=By.XPATH, value=xpath) instead\n",
      "  driver.find_element_by_xpath(\"//span/button[@id='btnMenu']\").click()\n"
     ]
    },
    {
     "name": "stdout",
     "output_type": "stream",
     "text": [
      "완료\n"
     ]
    }
   ],
   "source": [
    "# xpath 사용\n",
    "path = \"c:/Users/Playdata/vscode_encore/chromedriver.exe\"\n",
    "driver = webdriver.Chrome(path)\n",
    "driver.get(\"https://korean.visitkorea.or.kr/main/main.html\")\n",
    "time.sleep(1)\n",
    "driver.find_element_by_xpath(\"//span/button[@id='btnMenu']\").click()\n",
    "print('완료')"
   ]
  },
  {
   "cell_type": "code",
   "execution_count": 38,
   "id": "3e425e0f",
   "metadata": {},
   "outputs": [
    {
     "name": "stderr",
     "output_type": "stream",
     "text": [
      "C:\\Users\\Playdata\\AppData\\Local\\Temp\\ipykernel_1416\\1609867953.py:3: DeprecationWarning: executable_path has been deprecated, please pass in a Service object\n",
      "  driver = webdriver.Chrome(path)\n"
     ]
    },
    {
     "name": "stdout",
     "output_type": "stream",
     "text": [
      "완료\n"
     ]
    },
    {
     "name": "stderr",
     "output_type": "stream",
     "text": [
      "C:\\Users\\Playdata\\AppData\\Local\\Temp\\ipykernel_1416\\1609867953.py:6: DeprecationWarning: find_element_by_xpath is deprecated. Please use find_element(by=By.XPATH, value=xpath) instead\n",
      "  driver.find_element_by_xpath(\"//span[1]\").click()\n"
     ]
    }
   ],
   "source": [
    "# xpath 사용\n",
    "path = \"c:/Users/Playdata/vscode_encore/chromedriver.exe\"\n",
    "driver = webdriver.Chrome(path)\n",
    "driver.get(\"https://korean.visitkorea.or.kr/main/main.html\")\n",
    "time.sleep(1)\n",
    "driver.find_element_by_xpath(\"//span[1]\").click()\n",
    "print('완료')"
   ]
  },
  {
   "cell_type": "code",
   "execution_count": 35,
   "id": "a3dd25af",
   "metadata": {},
   "outputs": [
    {
     "name": "stderr",
     "output_type": "stream",
     "text": [
      "C:\\Users\\Playdata\\AppData\\Local\\Temp\\ipykernel_1416\\319019921.py:3: DeprecationWarning: executable_path has been deprecated, please pass in a Service object\n",
      "  driver = webdriver.Chrome(path)\n"
     ]
    },
    {
     "name": "stdout",
     "output_type": "stream",
     "text": [
      "완료\n"
     ]
    },
    {
     "name": "stderr",
     "output_type": "stream",
     "text": [
      "C:\\Users\\Playdata\\AppData\\Local\\Temp\\ipykernel_1416\\319019921.py:6: DeprecationWarning: find_element_by_css_selector is deprecated. Please use find_element(by=By.CSS_SELECTOR, value=css_selector) instead\n",
      "  driver.find_element_by_css_selector(\"span.menu_btn\").click()\n"
     ]
    }
   ],
   "source": [
    "# css selector 사용\n",
    "path = \"c:/Users/Playdata/vscode_encore/chromedriver.exe\"\n",
    "driver = webdriver.Chrome(path)\n",
    "driver.get(\"https://korean.visitkorea.or.kr/main/main.html\")\n",
    "time.sleep(1)\n",
    "driver.find_element_by_css_selector(\"span.menu_btn\").click()\n",
    "print('완료')"
   ]
  },
  {
   "cell_type": "code",
   "execution_count": 40,
   "id": "2d6e7172",
   "metadata": {},
   "outputs": [
    {
     "name": "stderr",
     "output_type": "stream",
     "text": [
      "C:\\Users\\Playdata\\AppData\\Local\\Temp\\ipykernel_1416\\85588146.py:3: DeprecationWarning: executable_path has been deprecated, please pass in a Service object\n",
      "  driver = webdriver.Chrome(path)\n"
     ]
    },
    {
     "name": "stdout",
     "output_type": "stream",
     "text": [
      "완료\n"
     ]
    },
    {
     "name": "stderr",
     "output_type": "stream",
     "text": [
      "C:\\Users\\Playdata\\AppData\\Local\\Temp\\ipykernel_1416\\85588146.py:6: DeprecationWarning: find_element_by_class_name is deprecated. Please use find_element(by=By.CLASS_NAME, value=name) instead\n",
      "  driver.find_element_by_class_name(\"menu_btn\").click()\n"
     ]
    }
   ],
   "source": [
    "# class name 사용\n",
    "path = \"c:/Users/Playdata/vscode_encore/chromedriver.exe\"\n",
    "driver = webdriver.Chrome(path)\n",
    "driver.get(\"https://korean.visitkorea.or.kr/main/main.html\")\n",
    "time.sleep(1)\n",
    "driver.find_element_by_class_name(\"menu_btn\").click()\n",
    "print('완료')"
   ]
  },
  {
   "cell_type": "code",
   "execution_count": 44,
   "id": "1c3ef73e",
   "metadata": {},
   "outputs": [
    {
     "name": "stderr",
     "output_type": "stream",
     "text": [
      "C:\\Users\\Playdata\\AppData\\Local\\Temp\\ipykernel_1416\\666472521.py:3: DeprecationWarning: executable_path has been deprecated, please pass in a Service object\n",
      "  driver = webdriver.Chrome(path)\n",
      "C:\\Users\\Playdata\\AppData\\Local\\Temp\\ipykernel_1416\\666472521.py:6: DeprecationWarning: find_element_by_* commands are deprecated. Please use find_element() instead\n",
      "  driver.find_element_by_id(\"gnb_other\").click()\n"
     ]
    },
    {
     "name": "stdout",
     "output_type": "stream",
     "text": [
      "완료\n"
     ]
    }
   ],
   "source": [
    "#2. id 사용\n",
    "path = \"c:/Users/Playdata/vscode_encore/chromedriver.exe\"\n",
    "driver = webdriver.Chrome(path)\n",
    "driver.get(\"https://korean.visitkorea.or.kr/main/main.html\")\n",
    "time.sleep(3)\n",
    "driver.find_element_by_id(\"gnb_other\").click()\n",
    "print('완료')"
   ]
  },
  {
   "cell_type": "code",
   "execution_count": 45,
   "id": "9ca239ff",
   "metadata": {},
   "outputs": [
    {
     "name": "stderr",
     "output_type": "stream",
     "text": [
      "C:\\Users\\Playdata\\AppData\\Local\\Temp\\ipykernel_1416\\3257613393.py:3: DeprecationWarning: executable_path has been deprecated, please pass in a Service object\n",
      "  driver = webdriver.Chrome(path)\n"
     ]
    },
    {
     "name": "stdout",
     "output_type": "stream",
     "text": [
      "완료\n"
     ]
    },
    {
     "name": "stderr",
     "output_type": "stream",
     "text": [
      "C:\\Users\\Playdata\\AppData\\Local\\Temp\\ipykernel_1416\\3257613393.py:6: DeprecationWarning: find_element_by_class_name is deprecated. Please use find_element(by=By.CLASS_NAME, value=name) instead\n",
      "  driver.find_element_by_class_name(\"gnbTab\").click()\n"
     ]
    }
   ],
   "source": [
    "#2. CLASS 사용\n",
    "path = \"c:/Users/Playdata/vscode_encore/chromedriver.exe\"\n",
    "driver = webdriver.Chrome(path)\n",
    "driver.get(\"https://korean.visitkorea.or.kr/main/main.html\")\n",
    "time.sleep(3)\n",
    "driver.find_element_by_class_name(\"gnbTab\").click()\n",
    "print('완료')"
   ]
  },
  {
   "cell_type": "code",
   "execution_count": 49,
   "id": "aa11a956",
   "metadata": {},
   "outputs": [
    {
     "name": "stderr",
     "output_type": "stream",
     "text": [
      "C:\\Users\\Playdata\\AppData\\Local\\Temp\\ipykernel_1416\\2900832342.py:3: DeprecationWarning: executable_path has been deprecated, please pass in a Service object\n",
      "  driver = webdriver.Chrome(path)\n"
     ]
    },
    {
     "name": "stdout",
     "output_type": "stream",
     "text": [
      "완료\n"
     ]
    },
    {
     "name": "stderr",
     "output_type": "stream",
     "text": [
      "C:\\Users\\Playdata\\AppData\\Local\\Temp\\ipykernel_1416\\2900832342.py:6: DeprecationWarning: find_element_by_xpath is deprecated. Please use find_element(by=By.XPATH, value=xpath) instead\n",
      "  driver.find_element_by_xpath(\"/html/body/header/div/div/div/ul/li\").click()\n"
     ]
    }
   ],
   "source": [
    "#2. xpath 사용\n",
    "path = \"c:/Users/Playdata/vscode_encore/chromedriver.exe\"\n",
    "driver = webdriver.Chrome(path)\n",
    "driver.get(\"https://korean.visitkorea.or.kr/main/main.html\")\n",
    "time.sleep(3)\n",
    "driver.find_element_by_xpath(\"/html/body/header/div/div/div/ul/li\").click()\n",
    "print('완료')"
   ]
  },
  {
   "cell_type": "code",
   "execution_count": 54,
   "id": "2faf01a7",
   "metadata": {},
   "outputs": [
    {
     "name": "stderr",
     "output_type": "stream",
     "text": [
      "C:\\Users\\Playdata\\AppData\\Local\\Temp\\ipykernel_1416\\863496297.py:3: DeprecationWarning: executable_path has been deprecated, please pass in a Service object\n",
      "  driver = webdriver.Chrome(path)\n",
      "C:\\Users\\Playdata\\AppData\\Local\\Temp\\ipykernel_1416\\863496297.py:6: DeprecationWarning: find_element_by_css_selector is deprecated. Please use find_element(by=By.CSS_SELECTOR, value=css_selector) instead\n",
      "  driver.find_element_by_css_selector(\"a.map_go\").click()\n"
     ]
    }
   ],
   "source": [
    "#4. css_selector 사용\n",
    "path = \"c:/Users/Playdata/vscode_encore/chromedriver.exe\"\n",
    "driver = webdriver.Chrome(path)\n",
    "driver.get(\"https://korean.visitkorea.or.kr/main/main.html\")\n",
    "time.sleep(3)\n",
    "driver.find_element_by_css_selector(\"a.map_go\").click()"
   ]
  },
  {
   "cell_type": "code",
   "execution_count": 55,
   "id": "30ca8c39",
   "metadata": {},
   "outputs": [
    {
     "name": "stderr",
     "output_type": "stream",
     "text": [
      "C:\\Users\\Playdata\\AppData\\Local\\Temp\\ipykernel_1416\\3507225135.py:3: DeprecationWarning: executable_path has been deprecated, please pass in a Service object\n",
      "  driver = webdriver.Chrome(path)\n",
      "C:\\Users\\Playdata\\AppData\\Local\\Temp\\ipykernel_1416\\3507225135.py:6: DeprecationWarning: find_element_by_css_selector is deprecated. Please use find_element(by=By.CSS_SELECTOR, value=css_selector) instead\n",
      "  driver.find_element_by_css_selector(\"a.map_go\").click()\n",
      "C:\\Users\\Playdata\\AppData\\Local\\Temp\\ipykernel_1416\\3507225135.py:8: DeprecationWarning: find_element_by_xpath is deprecated. Please use find_element(by=By.XPATH, value=xpath) instead\n",
      "  driver.find_element_by_xpath(\"//li[@label='tour']\").click()\n",
      "C:\\Users\\Playdata\\AppData\\Local\\Temp\\ipykernel_1416\\3507225135.py:9: DeprecationWarning: find_element_by_xpath is deprecated. Please use find_element(by=By.XPATH, value=xpath) instead\n",
      "  driver.find_element_by_xpath(\"//li[@label='food']\").click()\n",
      "C:\\Users\\Playdata\\AppData\\Local\\Temp\\ipykernel_1416\\3507225135.py:10: DeprecationWarning: find_element_by_xpath is deprecated. Please use find_element(by=By.XPATH, value=xpath) instead\n",
      "  driver.find_element_by_xpath(\"//li[@label='hotel']\").click()\n",
      "C:\\Users\\Playdata\\AppData\\Local\\Temp\\ipykernel_1416\\3507225135.py:11: DeprecationWarning: find_element_by_xpath is deprecated. Please use find_element(by=By.XPATH, value=xpath) instead\n",
      "  driver.find_element_by_xpath(\"//li[@label='parking']\").click()\n"
     ]
    },
    {
     "name": "stdout",
     "output_type": "stream",
     "text": [
      "완료\n"
     ]
    }
   ],
   "source": [
    "#4. css_selector 사용\n",
    "path = \"c:/Users/Playdata/vscode_encore/chromedriver.exe\"\n",
    "driver = webdriver.Chrome(path)\n",
    "driver.get(\"https://korean.visitkorea.or.kr/main/main.html\")\n",
    "time.sleep(3)\n",
    "driver.find_element_by_css_selector(\"a.map_go\").click()\n",
    "time.sleep(1)\n",
    "driver.find_element_by_xpath(\"//li[@label='tour']\").click()\n",
    "driver.find_element_by_xpath(\"//li[@label='food']\").click()\n",
    "driver.find_element_by_xpath(\"//li[@label='hotel']\").click()\n",
    "driver.find_element_by_xpath(\"//li[@label='parking']\").click()\n",
    "print('완료')"
   ]
  },
  {
   "cell_type": "code",
   "execution_count": 56,
   "id": "38050c7f",
   "metadata": {},
   "outputs": [
    {
     "name": "stdout",
     "output_type": "stream",
     "text": [
      "크롤링할 키워드?봄여행\n"
     ]
    },
    {
     "name": "stderr",
     "output_type": "stream",
     "text": [
      "C:\\Users\\Playdata\\AppData\\Local\\Temp\\ipykernel_1416\\3374924872.py:9: DeprecationWarning: executable_path has been deprecated, please pass in a Service object\n",
      "  driver = webdriver.Chrome(path)\n",
      "C:\\Users\\Playdata\\AppData\\Local\\Temp\\ipykernel_1416\\3374924872.py:14: DeprecationWarning: find_element_by_* commands are deprecated. Please use find_element() instead\n",
      "  element = driver.find_element_by_id(\"inp_search\")\n",
      "C:\\Users\\Playdata\\AppData\\Local\\Temp\\ipykernel_1416\\3374924872.py:18: DeprecationWarning: find_element_by_link_text is deprecated. Please use find_element(by=By.LINK_TEXT, value=link_text) instead\n",
      "  driver.find_element_by_link_text(\"검색\").click()\n"
     ]
    }
   ],
   "source": [
    "# step0. 필요한 모듈과 라이브러리를 로딩하고 검색어를 입력받는다.\n",
    "from bs4 import BeautifulSoup\n",
    "from selenium import webdriver\n",
    "import time\n",
    "query_txt = input('크롤링할 키워드?')\n",
    "\n",
    "# step1. 크롬 드라이버를 사용해서 웹 브라우저를 실행\n",
    "path = \"c:/Users/Playdata/vscode_encore/chromedriver.exe\"\n",
    "driver = webdriver.Chrome(path)\n",
    "driver.get(\"https://korean.visitkorea.or.kr/main/main.html\")\n",
    "time.sleep(3)\n",
    "\n",
    "# step2. 검색창의 이름을 찾아서 검색어를 입력\n",
    "element = driver.find_element_by_id(\"inp_search\")\n",
    "element.send_keys(query_txt)\n",
    "\n",
    "# step3. 검색 버튼을 눌러 실행합니다.\n",
    "driver.find_element_by_link_text(\"검색\").click()"
   ]
  },
  {
   "cell_type": "code",
   "execution_count": 59,
   "id": "3ef36510",
   "metadata": {},
   "outputs": [
    {
     "name": "stdout",
     "output_type": "stream",
     "text": [
      "크롤링할 키워드?봄여행\n"
     ]
    },
    {
     "name": "stderr",
     "output_type": "stream",
     "text": [
      "C:\\Users\\Playdata\\AppData\\Local\\Temp\\ipykernel_1416\\750868834.py:9: DeprecationWarning: executable_path has been deprecated, please pass in a Service object\n",
      "  driver = webdriver.Chrome(path)\n",
      "C:\\Users\\Playdata\\AppData\\Local\\Temp\\ipykernel_1416\\750868834.py:14: DeprecationWarning: find_element_by_* commands are deprecated. Please use find_element() instead\n",
      "  element = driver.find_element_by_id(\"inp_search\")\n"
     ]
    }
   ],
   "source": [
    "# step0. 필요한 모듈과 라이브러리를 로딩하고 검색어를 입력받는다.\n",
    "from bs4 import BeautifulSoup\n",
    "from selenium import webdriver\n",
    "import time\n",
    "query_txt = input('크롤링할 키워드?')\n",
    "\n",
    "# step1. 크롬 드라이버를 사용해서 웹 브라우저를 실행\n",
    "path = \"c:/Users/Playdata/vscode_encore/chromedriver.exe\"\n",
    "driver = webdriver.Chrome(path)\n",
    "driver.get(\"https://korean.visitkorea.or.kr/main/main.html\")\n",
    "time.sleep(3)\n",
    "\n",
    "# step2. 검색창의 이름을 찾아서 검색어를 입력\n",
    "element = driver.find_element_by_id(\"inp_search\")\n",
    "element.send_keys(query_txt)\n",
    "\n",
    "# step3. 엔터 버튼을 눌러 실행합니다.\n",
    "enter = webdriver.Keys.RETURN\n",
    "arrowdown = webdriver.Keys.ARROW_DOWN\n",
    "element.send_keys(enter)"
   ]
  },
  {
   "cell_type": "markdown",
   "id": "3d63ee50",
   "metadata": {},
   "source": [
    "## 예제) 네이버 가을여행 검색"
   ]
  },
  {
   "cell_type": "code",
   "execution_count": 69,
   "id": "fce7ce55",
   "metadata": {},
   "outputs": [
    {
     "name": "stdout",
     "output_type": "stream",
     "text": [
      "크롤링할 키워드?가을여행\n"
     ]
    },
    {
     "name": "stderr",
     "output_type": "stream",
     "text": [
      "C:\\Users\\Playdata\\AppData\\Local\\Temp\\ipykernel_1416\\4218359752.py:9: DeprecationWarning: executable_path has been deprecated, please pass in a Service object\n",
      "  driver = webdriver.Chrome(path)\n",
      "C:\\Users\\Playdata\\AppData\\Local\\Temp\\ipykernel_1416\\4218359752.py:15: DeprecationWarning: find_element_by_xpath is deprecated. Please use find_element(by=By.XPATH, value=xpath) instead\n",
      "  element = driver.find_element_by_xpath(\"//div/input[@id='query']\")\n"
     ]
    },
    {
     "name": "stdout",
     "output_type": "stream",
     "text": [
      "완료\n"
     ]
    }
   ],
   "source": [
    "# step0. 필요한 모듈과 라이브러리를 로딩하고 검색어를 입력받는다.\n",
    "from bs4 import BeautifulSoup\n",
    "from selenium import webdriver\n",
    "import time\n",
    "query_txt = input('크롤링할 키워드?')\n",
    "\n",
    "# step1. 크롬 드라이버를 사용해서 웹 브라우저를 실행\n",
    "path = \"c:/Users/Playdata/vscode_encore/chromedriver.exe\"\n",
    "driver = webdriver.Chrome(path)\n",
    "driver.get(\"https://www.naver.com\")\n",
    "time.sleep(3)\n",
    "\n",
    "# step2. 검색창의 이름을 찾아서 검색어를 입력\n",
    "#element = driver.find_element_by_id(\"query\")\n",
    "element = driver.find_element_by_xpath(\"//div/input[@id='query']\")\n",
    "element.send_keys(query_txt)\n",
    "\n",
    "# step3. 엔터 버튼을 눌러 실행합니다.\n",
    "time.sleep(2)\n",
    "enter = webdriver.Keys.RETURN\n",
    "element.send_keys(enter)\n",
    "print('완료')"
   ]
  },
  {
   "cell_type": "code",
   "execution_count": 71,
   "id": "f581fd13",
   "metadata": {},
   "outputs": [
    {
     "name": "stdout",
     "output_type": "stream",
     "text": [
      "크롤링할 키워드?가을여행\n"
     ]
    },
    {
     "name": "stderr",
     "output_type": "stream",
     "text": [
      "C:\\Users\\Playdata\\AppData\\Local\\Temp\\ipykernel_1416\\1724180968.py:9: DeprecationWarning: executable_path has been deprecated, please pass in a Service object\n",
      "  driver = webdriver.Chrome(path)\n",
      "C:\\Users\\Playdata\\AppData\\Local\\Temp\\ipykernel_1416\\1724180968.py:15: DeprecationWarning: find_element_by_xpath is deprecated. Please use find_element(by=By.XPATH, value=xpath) instead\n",
      "  element = driver.find_element_by_xpath(\"//div/input[@id='q']\")\n"
     ]
    },
    {
     "name": "stdout",
     "output_type": "stream",
     "text": [
      "완료\n"
     ]
    }
   ],
   "source": [
    "# step0. 필요한 모듈과 라이브러리를 로딩하고 검색어를 입력받는다.\n",
    "from bs4 import BeautifulSoup\n",
    "from selenium import webdriver\n",
    "import time\n",
    "query_txt = input('크롤링할 키워드?')\n",
    "\n",
    "# step1. 크롬 드라이버를 사용해서 웹 브라우저를 실행\n",
    "path = \"c:/Users/Playdata/vscode_encore/chromedriver.exe\"\n",
    "driver = webdriver.Chrome(path)\n",
    "driver.get(\"https://www.daum.net\")\n",
    "time.sleep(3)\n",
    "\n",
    "# step2. 검색창의 이름을 찾아서 검색어를 입력\n",
    "#element = driver.find_element_by_id(\"query\")\n",
    "element = driver.find_element_by_xpath(\"//div/input[@id='q']\")\n",
    "element.send_keys(query_txt)\n",
    "\n",
    "# step3. 엔터 버튼을 눌러 실행합니다.\n",
    "time.sleep(2)\n",
    "enter = webdriver.Keys.RETURN\n",
    "element.send_keys(enter)\n",
    "print('완료')"
   ]
  },
  {
   "cell_type": "code",
   "execution_count": 73,
   "id": "b5da590c",
   "metadata": {},
   "outputs": [
    {
     "name": "stdout",
     "output_type": "stream",
     "text": [
      "크롤링할 키워드?가을여행\n"
     ]
    },
    {
     "name": "stderr",
     "output_type": "stream",
     "text": [
      "C:\\Users\\Playdata\\AppData\\Local\\Temp\\ipykernel_1416\\2241448664.py:9: DeprecationWarning: executable_path has been deprecated, please pass in a Service object\n",
      "  driver = webdriver.Chrome(path)\n",
      "C:\\Users\\Playdata\\AppData\\Local\\Temp\\ipykernel_1416\\2241448664.py:15: DeprecationWarning: find_element_by_xpath is deprecated. Please use find_element(by=By.XPATH, value=xpath) instead\n",
      "  element = driver.find_element_by_xpath(\"//div/input[@name='q']\")\n"
     ]
    },
    {
     "name": "stdout",
     "output_type": "stream",
     "text": [
      "완료\n"
     ]
    }
   ],
   "source": [
    "# step0. 필요한 모듈과 라이브러리를 로딩하고 검색어를 입력받는다.\n",
    "from bs4 import BeautifulSoup\n",
    "from selenium import webdriver\n",
    "import time\n",
    "query_txt = input('크롤링할 키워드?')\n",
    "\n",
    "# step1. 크롬 드라이버를 사용해서 웹 브라우저를 실행\n",
    "path = \"c:/Users/Playdata/vscode_encore/chromedriver.exe\"\n",
    "driver = webdriver.Chrome(path)\n",
    "driver.get(\"https://www.google.com\")\n",
    "time.sleep(3)\n",
    "\n",
    "# step2. 검색창의 이름을 찾아서 검색어를 입력\n",
    "#element = driver.find_element_by_id(\"query\")\n",
    "element = driver.find_element_by_xpath(\"//div/input[@name='q']\")\n",
    "element.send_keys(query_txt)\n",
    "\n",
    "# step3. 엔터 버튼을 눌러 실행합니다.\n",
    "time.sleep(2)\n",
    "enter = webdriver.Keys.RETURN\n",
    "element.send_keys(enter)\n",
    "print('완료')"
   ]
  },
  {
   "cell_type": "code",
   "execution_count": 74,
   "id": "4e5418cd",
   "metadata": {},
   "outputs": [
    {
     "name": "stdout",
     "output_type": "stream",
     "text": [
      "크롤링할 키워드?가을여행\n"
     ]
    },
    {
     "name": "stderr",
     "output_type": "stream",
     "text": [
      "C:\\Users\\Playdata\\AppData\\Local\\Temp\\ipykernel_1416\\992252375.py:9: DeprecationWarning: executable_path has been deprecated, please pass in a Service object\n",
      "  driver = webdriver.Chrome(path)\n",
      "C:\\Users\\Playdata\\AppData\\Local\\Temp\\ipykernel_1416\\992252375.py:15: DeprecationWarning: find_element_by_xpath is deprecated. Please use find_element(by=By.XPATH, value=xpath) instead\n",
      "  element = driver.find_element_by_xpath(\"//div/input[@name='q']\")\n"
     ]
    },
    {
     "name": "stdout",
     "output_type": "stream",
     "text": [
      "완료\n"
     ]
    }
   ],
   "source": [
    "# step0. 필요한 모듈과 라이브러리를 로딩하고 검색어를 입력받는다.\n",
    "from bs4 import BeautifulSoup\n",
    "from selenium import webdriver\n",
    "import time\n",
    "query_txt = input('크롤링할 키워드?')\n",
    "\n",
    "# step1. 크롬 드라이버를 사용해서 웹 브라우저를 실행\n",
    "path = \"c:/Users/Playdata/vscode_encore/chromedriver.exe\"\n",
    "driver = webdriver.Chrome(path)\n",
    "driver.get(\"https://www.google.com\")\n",
    "time.sleep(3)\n",
    "\n",
    "# step2. 검색창의 이름을 찾아서 검색어를 입력\n",
    "#element = driver.find_element_by_id(\"query\")\n",
    "element = driver.find_element_by_xpath(\"//div/input[@name='q']\")\n",
    "element.send_keys(query_txt)\n",
    "\n",
    "# step3. 엔터 버튼을 눌러 실행합니다.\n",
    "time.sleep(2)\n",
    "element.send_keys('\\n')\n",
    "print('완료')"
   ]
  },
  {
   "cell_type": "markdown",
   "id": "a29c2cc9",
   "metadata": {},
   "source": [
    "# 검색된 결과에서 텍스트 추출 후 저장"
   ]
  },
  {
   "cell_type": "code",
   "execution_count": 1,
   "id": "8239a16c",
   "metadata": {},
   "outputs": [
    {
     "name": "stdout",
     "output_type": "stream",
     "text": [
      "크롤링할 키워드?봄여행\n"
     ]
    },
    {
     "name": "stderr",
     "output_type": "stream",
     "text": [
      "C:\\Users\\Playdata\\AppData\\Local\\Temp\\ipykernel_32072\\1013611484.py:9: DeprecationWarning: executable_path has been deprecated, please pass in a Service object\n",
      "  driver = webdriver.Chrome(path)\n",
      "C:\\Users\\Playdata\\AppData\\Local\\Temp\\ipykernel_32072\\1013611484.py:14: DeprecationWarning: find_element_by_* commands are deprecated. Please use find_element() instead\n",
      "  element = driver.find_element_by_id(\"inp_search\")\n"
     ]
    }
   ],
   "source": [
    "# step0. 필요한 모듈과 라이브러리를 로딩하고 검색어를 입력받는다.\n",
    "from bs4 import BeautifulSoup\n",
    "from selenium import webdriver\n",
    "import time\n",
    "query_txt = input('크롤링할 키워드?')\n",
    "\n",
    "# step1. 크롬 드라이버를 사용해서 웹 브라우저를 실행\n",
    "path = \"c:/Users/Playdata/vscode_encore/chromedriver.exe\"\n",
    "driver = webdriver.Chrome(path)\n",
    "driver.get(\"https://korean.visitkorea.or.kr/main/main.html\")\n",
    "time.sleep(3)\n",
    "\n",
    "# step2. 검색창의 이름을 찾아서 검색어를 입력\n",
    "element = driver.find_element_by_id(\"inp_search\")\n",
    "element.send_keys(query_txt)\n",
    "\n",
    "# step3. 엔터 버튼을 눌러 실행합니다.\n",
    "enter = webdriver.Keys.RETURN\n",
    "element.send_keys(enter)"
   ]
  },
  {
   "cell_type": "code",
   "execution_count": 30,
   "id": "d110a93a",
   "metadata": {},
   "outputs": [
    {
     "name": "stdout",
     "output_type": "stream",
     "text": [
      "크롤링할 키워드?봄여행\n",
      "텍스트 파일 경로 및 이름(\"sample.txt\"): springtour.txt\n"
     ]
    },
    {
     "name": "stderr",
     "output_type": "stream",
     "text": [
      "C:\\Users\\Playdata\\AppData\\Local\\Temp\\ipykernel_32072\\719778334.py:10: DeprecationWarning: executable_path has been deprecated, please pass in a Service object\n",
      "  driver = webdriver.Chrome(path)\n",
      "C:\\Users\\Playdata\\AppData\\Local\\Temp\\ipykernel_32072\\719778334.py:15: DeprecationWarning: find_element_by_* commands are deprecated. Please use find_element() instead\n",
      "  element = driver.find_element_by_id(\"inp_search\")\n"
     ]
    },
    {
     "name": "stdout",
     "output_type": "stream",
     "text": [
      "완료\n"
     ]
    }
   ],
   "source": [
    "# step0. 필요한 모듈과 라이브러리를 로딩하고 검색어를 입력받는다.\n",
    "from bs4 import BeautifulSoup\n",
    "from selenium import webdriver\n",
    "import time, sys\n",
    "\n",
    "query_txt = input('크롤링할 키워드?')\n",
    "f_name = input('텍스트 파일 경로 및 이름(\"sample.txt\"): ')\n",
    "# step1. 크롬 드라이버를 사용해서 웹 브라우저를 실행\n",
    "path = \"c:/Users/Playdata/vscode_encore/chromedriver.exe\"\n",
    "driver = webdriver.Chrome(path)\n",
    "driver.get(\"https://korean.visitkorea.or.kr/main/main.html\")\n",
    "time.sleep(3)\n",
    "\n",
    "# step2. 검색창의 이름을 찾아서 검색어를 입력\n",
    "element = driver.find_element_by_id(\"inp_search\")\n",
    "element.send_keys(query_txt)\n",
    "\n",
    "# step3. 엔터 버튼을 눌러 실행합니다.\n",
    "enter = webdriver.Keys.RETURN\n",
    "element.send_keys(enter)\n",
    "\n",
    "# step4. 결과 화면의 page source를 저장\n",
    "time.sleep(3)\n",
    "full_html = driver.page_source\n",
    "print('완료')\n",
    "\n",
    "time.sleep(1)\n",
    "soup = BeautifulSoup(full_html, 'html.parser')\n",
    "contents = soup.find('ul', class_ = \"list_thumType type1\")\n",
    "\n",
    "with open(f_name, 'a', encoding='utf8') as f:\n",
    "    for i in contents:\n",
    "        print(i.text.strip(), file=f)\n",
    "        print(file=f)"
   ]
  },
  {
   "cell_type": "code",
   "execution_count": 33,
   "id": "e6c2e077",
   "metadata": {},
   "outputs": [
    {
     "name": "stdout",
     "output_type": "stream",
     "text": [
      "크롤링할 키워드?가을여행\n",
      "텍스트 파일 경로 및 이름(\"sample.txt\"): naverblog_springtour.txt\n"
     ]
    },
    {
     "name": "stderr",
     "output_type": "stream",
     "text": [
      "C:\\Users\\Playdata\\AppData\\Local\\Temp\\ipykernel_32072\\1624175077.py:10: DeprecationWarning: executable_path has been deprecated, please pass in a Service object\n",
      "  driver = webdriver.Chrome(path)\n",
      "C:\\Users\\Playdata\\AppData\\Local\\Temp\\ipykernel_32072\\1624175077.py:15: DeprecationWarning: find_element_by_xpath is deprecated. Please use find_element(by=By.XPATH, value=xpath) instead\n",
      "  element = driver.find_element_by_xpath(\"//div/input[@id='query']\")\n",
      "C:\\Users\\Playdata\\AppData\\Local\\Temp\\ipykernel_32072\\1624175077.py:24: DeprecationWarning: find_element_by_css_selector is deprecated. Please use find_element(by=By.CSS_SELECTOR, value=css_selector) instead\n",
      "  driver.find_element_by_css_selector(\"a.api_sub_option\").click()\n"
     ]
    },
    {
     "name": "stdout",
     "output_type": "stream",
     "text": [
      "완료\n"
     ]
    }
   ],
   "source": [
    "# step0. 필요한 모듈과 라이브러리를 로딩하고 검색어를 입력받는다.\n",
    "from bs4 import BeautifulSoup\n",
    "from selenium import webdriver\n",
    "import time, sys\n",
    "\n",
    "query_txt = input('크롤링할 키워드?')\n",
    "f_name = input('텍스트 파일 경로 및 이름(\"sample.txt\"): ')\n",
    "# step1. 크롬 드라이버를 사용해서 웹 브라우저를 실행\n",
    "path = \"c:/Users/Playdata/vscode_encore/chromedriver.exe\"\n",
    "driver = webdriver.Chrome(path)\n",
    "driver.get(\"https://www.naver.com\")\n",
    "time.sleep(3)\n",
    "\n",
    "# step2. 검색창의 이름을 찾아서 검색어를 입력\n",
    "element = driver.find_element_by_xpath(\"//div/input[@id='query']\")\n",
    "element.send_keys(query_txt)\n",
    "\n",
    "# step3. 엔터 버튼을 눌러 실행합니다.\n",
    "enter = webdriver.Keys.RETURN\n",
    "element.send_keys(enter)\n",
    "\n",
    "# # step4. 블로그 전환\n",
    "time.sleep(2)\n",
    "driver.find_element_by_css_selector(\"a.api_sub_option\").click()\n",
    "\n",
    "# step4. 결과 화면의 page source를 저장\n",
    "time.sleep(3)\n",
    "full_html = driver.page_source\n",
    "print('완료')\n",
    "\n",
    "time.sleep(1)\n",
    "soup = BeautifulSoup(full_html, 'html.parser')\n",
    "contents = soup.find('ul', class_ = \"lst_total _list_base\")\n",
    "\n",
    "with open(f_name, 'a', encoding='utf8') as f:\n",
    "    for i in contents:\n",
    "        print(i.text.strip(), file=f)\n",
    "        print(file=f)"
   ]
  },
  {
   "cell_type": "markdown",
   "id": "438fe9f0",
   "metadata": {},
   "source": [
    "## 제목, 지역, 해쉬태그 추출"
   ]
  },
  {
   "cell_type": "code",
   "execution_count": 34,
   "id": "bd5feb24",
   "metadata": {},
   "outputs": [
    {
     "name": "stdout",
     "output_type": "stream",
     "text": [
      "크롤링할 키워드?봄여행\n",
      "텍스트 파일 경로 및 이름(\"sample.txt\"): a\n"
     ]
    },
    {
     "name": "stderr",
     "output_type": "stream",
     "text": [
      "C:\\Users\\Playdata\\AppData\\Local\\Temp\\ipykernel_32072\\674301511.py:10: DeprecationWarning: executable_path has been deprecated, please pass in a Service object\n",
      "  driver = webdriver.Chrome(path)\n",
      "C:\\Users\\Playdata\\AppData\\Local\\Temp\\ipykernel_32072\\674301511.py:15: DeprecationWarning: find_element_by_* commands are deprecated. Please use find_element() instead\n",
      "  element = driver.find_element_by_id(\"inp_search\")\n"
     ]
    },
    {
     "name": "stdout",
     "output_type": "stream",
     "text": [
      "완료\n"
     ]
    }
   ],
   "source": [
    "# step0. 필요한 모듈과 라이브러리를 로딩하고 검색어를 입력받는다.\n",
    "from bs4 import BeautifulSoup\n",
    "from selenium import webdriver\n",
    "import time, sys\n",
    "\n",
    "query_txt = input('크롤링할 키워드?')\n",
    "f_name = input('텍스트 파일 경로 및 이름(\"sample.txt\"): ')\n",
    "# step1. 크롬 드라이버를 사용해서 웹 브라우저를 실행\n",
    "path = \"c:/Users/Playdata/vscode_encore/chromedriver.exe\"\n",
    "driver = webdriver.Chrome(path)\n",
    "driver.get(\"https://korean.visitkorea.or.kr/main/main.html\")\n",
    "time.sleep(3)\n",
    "\n",
    "# step2. 검색창의 이름을 찾아서 검색어를 입력\n",
    "element = driver.find_element_by_id(\"inp_search\")\n",
    "element.send_keys(query_txt)\n",
    "\n",
    "# step3. 엔터 버튼을 눌러 실행합니다.\n",
    "enter = webdriver.Keys.RETURN\n",
    "element.send_keys(enter)\n",
    "\n",
    "# step4. 결과 화면의 page source를 저장\n",
    "time.sleep(3)\n",
    "full_html = driver.page_source\n",
    "print('완료')\n",
    "\n",
    "time.sleep(1)\n",
    "soup = BeautifulSoup(full_html, 'html.parser')\n",
    "\n",
    "# step5. 해쉬태그 관리\n",
    "titles = soup.select('div[class=\"tit\"]>a')\n",
    "locations = soup.select('div[class=\"service\"]>p')\n",
    "hashtags = soup.select('p[class=\"tag_type\"]')\n",
    "cnt = 0\n",
    "for t, l, h in zip(titles, locations, hashtags):\n",
    "    cnt += 1\n",
    "    print('번호: ', cnt)\n",
    "    print('제목: ', t.get_text())\n",
    "    print('지역: ', l.get_text())\n",
    "    print('해쉬태그: ', h.get_text())\n",
    "    print()"
   ]
  },
  {
   "cell_type": "code",
   "execution_count": 50,
   "id": "5f30c20d",
   "metadata": {},
   "outputs": [],
   "source": [
    "titles = soup.select('div[class=\"tit\"]>a')\n",
    "locations = soup.select('div[class=\"service\"]>p')\n",
    "hashtags = soup.select('p[class=\"tag_type\"]')\n",
    "cnt = 0\n",
    "for t, l, h in zip(titles, locations, hashtags):\n",
    "    cnt += 1\n",
    "    print('번호: ', cnt)\n",
    "    print('제목: ', t.get_text())\n",
    "    print('지역: ', l.get_text())\n",
    "    print('해쉬태그: ', h.get_text())\n",
    "    print()"
   ]
  },
  {
   "cell_type": "code",
   "execution_count": 52,
   "id": "d15503e0",
   "metadata": {},
   "outputs": [
    {
     "name": "stdout",
     "output_type": "stream",
     "text": [
      "10 10 10\n"
     ]
    }
   ],
   "source": [
    "print(len(titles), len(locations), len(hashtags))"
   ]
  },
  {
   "cell_type": "code",
   "execution_count": 57,
   "id": "5ab36d89",
   "metadata": {},
   "outputs": [
    {
     "name": "stdout",
     "output_type": "stream",
     "text": [
      "번호:  1\n",
      "제목:  [충주 여행 코스] 봄에 꼭 충주를 가야 하는 이유, 충주 가볼 만한 곳\n",
      "지역:  충청북도 충주시\n",
      "해쉬태그:  #충주여행#충주가볼만한곳#봄여행#봄여행지#충주댐#활옥동굴#중앙탑사적공원#게으른악어 \n",
      "\n",
      "번호:  2\n",
      "제목:  [충남 봄 여행] 낭만 찾아 떠나는 여행, 천안·아산 봄나들이\n",
      "지역:  충청남도 \n",
      "해쉬태그:  #충남여행#충남가볼만한곳#천안여행#천안가볼만한곳#아산여행#아산가볼만한곳#봄나들이#봄나들이여행#봄여행#봄여행지#국내봄여행지추천#벚꽃명소#천호지#단대호수#각원사#현충사#아산현충사#당림미술관#세계꽃식물원 \n",
      "\n",
      "번호:  3\n",
      "제목:  [구례 봄 여행] 달달하게 봄을 즐길 수 있는 구례 봄꽃 명소 4\n",
      "지역:  전라남도 구례군\n",
      "해쉬태그:  #구례여행#구례가볼만한곳#봄꽃명소#봄꽃#봄꽃여행#봄여행#산수유마을#구례산수유마을#화엄사#섬진강#섬진강벚꽃길#쌍산재 \n",
      "\n",
      "번호:  4\n",
      "제목:  [거제] 봄을 따라 걷는 여행, 거제도\n",
      "지역:  경상남도 거제시\n",
      "해쉬태그:  #거제#경남거제#거제도관광지#거제도여행#거제섬여행#거제도#거제도전망좋은곳#거제도여행코스#소낭구펜션#봄여행#한국관광품질인증#봄여행지#남해여행#거제도펜션#거제도숙소#한옥#한옥펜션#바비큐#야외바비큐#해금강#외도보타니아#거제가볼만한곳#맹종죽순체험길#바람의언덕#산책로#바람의언덕길#오션뷰#취사#거제투어 \n",
      "\n",
      "번호:  5\n",
      "제목:  국내 당일치기 여행, 진천 봄나들이 추천 명소\n",
      "지역:  충청북도 진천군\n",
      "해쉬태그:  #진천여행#진천가볼만한곳#한반도지형전망공원#한반도지형#농다리#진천농다리#미르숲#농암정#길상사#봄여행지#봄여행지추천 \n",
      "\n",
      "번호:  6\n",
      "제목:  봄바람 따라 살랑살랑 통영 1박2일 여행코스\n",
      "지역:  경상남도 통영시\n",
      "해쉬태그:  #통영#통영1박2일코스#통영가볼만한곳#장사도해상공원#박경리기념관#미래사#서피랑#봄여행#봄여행지#봄여행지추천#취향따라_떠나는_특별한_보통날#봄여행주간#미리봄_여행지 \n",
      "\n",
      "번호:  7\n",
      "제목:  우리 아이와 봄나들이 갈 시간⏰ 서울 근교 여행지 4\n",
      "지역:  전국 \n",
      "해쉬태그:  #화성여행#화성가볼만한곳#트로피컬베이#파주여행#파주가볼만한곳#애플샤인농원#인천여행#인천가볼만한곳#송도해돋이공원#해돋이공원#서울여행#서울가볼만한곳#선유도공원#봄나들이#봄나들이여행#아이와함께#세시간전#봄여행#당일치기여행 \n",
      "\n",
      "번호:  8\n",
      "제목:  아이와 봄 드라이브 떠나자! 안성 여행지 4\n",
      "지역:  경기도 안성시\n",
      "해쉬태그:  #안성여행#안성가볼만한곳#드라이브여행#봄여행#봄여행지#안성팜랜드#소나무카페#풍사니랑#아메리카나#아이와함께#세시간전 \n",
      "\n",
      "번호:  9\n",
      "제목:  국내 봄 여행지, 군위 비대면 봄나들이 코스\n",
      "지역:  경상북도 군위군\n",
      "해쉬태그:  #군위여행#군위가볼만한곳#삼존석굴#군위삼존석굴#한밤마을#화본역#혜원의집#영화촬영지#화산산성#​화산산성전망대#리틀포레스트 \n",
      "\n",
      "번호:  10\n",
      "제목:  아침부터 밤까지, 봄 냄새 가득한 '사천' 여행\n",
      "지역:  경상남도 사천시\n",
      "해쉬태그:  #사천여행#사천여행코스#사천가볼만한곳#봄여행#수양공원#사천읍성#포담#실안해안도로#삼천포대교 \n",
      "\n"
     ]
    }
   ],
   "source": [
    "cnt = 0\n",
    "for t, l, h in zip(titles, locations, hashtags):\n",
    "    cnt += 1\n",
    "    print('번호: ', cnt)\n",
    "    print('제목: ', t.get_text())\n",
    "    print('지역: ', l.get_text())\n",
    "    print('해쉬태그: ', h.get_text())\n",
    "    print()"
   ]
  },
  {
   "cell_type": "markdown",
   "id": "c0bff944",
   "metadata": {},
   "source": [
    "# 페이지 이동하며 저장"
   ]
  },
  {
   "cell_type": "code",
   "execution_count": null,
   "id": "38700e70",
   "metadata": {},
   "outputs": [],
   "source": [
    "# step0. 필요한 모듈과 라이브러리를 로딩하고 검색어를 입력받는다.\n",
    "from bs4 import BeautifulSoup\n",
    "from selenium import webdriver\n",
    "import time, sys\n",
    "\n",
    "query_txt = input('크롤링할 키워드?')\n",
    "f_name = input('텍스트 파일 경로 및 이름(\"sample.txt\"): ')\n",
    "# step1. 크롬 드라이버를 사용해서 웹 브라우저를 실행\n",
    "path = \"c:/Users/Playdata/vscode_encore/chromedriver.exe\"\n",
    "driver = webdriver.Chrome(path)\n",
    "driver.get(\"https://korean.visitkorea.or.kr/main/main.html\")\n",
    "time.sleep(3)\n",
    "\n",
    "# step2. 검색창의 이름을 찾아서 검색어를 입력\n",
    "element = driver.find_element_by_id(\"inp_search\")\n",
    "element.send_keys(query_txt)\n",
    "\n",
    "# step3. 엔터 버튼을 눌러 실행합니다.\n",
    "enter = webdriver.Keys.RETURN\n",
    "element.send_keys(enter)\n",
    "\n",
    "# step5. 마지막 페이지 번호 확인\n",
    "\n",
    "\n",
    "\n",
    "# step4. 결과 화면의 page source를 저장\n",
    "time.sleep(3)\n",
    "full_html = driver.page_source\n",
    "print('완료')\n",
    "\n",
    "time.sleep(1)\n",
    "soup = BeautifulSoup(full_html, 'html.parser')\n",
    "\n",
    "# step5. 해쉬태그 관리\n",
    "titles = soup.select('div[class=\"tit\"]>a')\n",
    "locations = soup.select('div[class=\"service\"]>p')\n",
    "hashtags = soup.select('p[class=\"tag_type\"]')\n",
    "cnt = 0\n",
    "for t, l, h in zip(titles, locations, hashtags):\n",
    "    cnt += 1\n",
    "    print('번호: ', cnt)\n",
    "    print('제목: ', t.get_text())\n",
    "    print('지역: ', l.get_text())\n",
    "    print('해쉬태그: ', h.get_text())\n",
    "    print()"
   ]
  },
  {
   "cell_type": "code",
   "execution_count": 66,
   "id": "aa36b7af",
   "metadata": {},
   "outputs": [
    {
     "name": "stdout",
     "output_type": "stream",
     "text": [
      "크롤링할 키워드?봄여행\n",
      "텍스트 파일 경로 및 이름(\"sample.txt\"): total_springtour.txt\n"
     ]
    }
   ],
   "source": [
    "# step0. 필요한 모듈과 라이브러리를 로딩하고 검색어를 입력받는다.\n",
    "from bs4 import BeautifulSoup\n",
    "from selenium import webdriver\n",
    "import time, sys\n",
    "\n",
    "query_txt = input('크롤링할 키워드?')\n",
    "f_name = input('텍스트 파일 경로 및 이름(\"sample.txt\"): ')"
   ]
  },
  {
   "cell_type": "code",
   "execution_count": 67,
   "id": "9d999568",
   "metadata": {},
   "outputs": [
    {
     "name": "stderr",
     "output_type": "stream",
     "text": [
      "C:\\Users\\Playdata\\AppData\\Local\\Temp\\ipykernel_32072\\2321002666.py:3: DeprecationWarning: executable_path has been deprecated, please pass in a Service object\n",
      "  driver = webdriver.Chrome(path)\n",
      "C:\\Users\\Playdata\\AppData\\Local\\Temp\\ipykernel_32072\\2321002666.py:8: DeprecationWarning: find_element_by_* commands are deprecated. Please use find_element() instead\n",
      "  element = driver.find_element_by_id(\"inp_search\")\n"
     ]
    },
    {
     "name": "stdout",
     "output_type": "stream",
     "text": [
      "마지막 페이지 이동 완료!\n"
     ]
    },
    {
     "name": "stderr",
     "output_type": "stream",
     "text": [
      "C:\\Users\\Playdata\\AppData\\Local\\Temp\\ipykernel_32072\\2321002666.py:17: DeprecationWarning: find_element_by_link_text is deprecated. Please use find_element(by=By.LINK_TEXT, value=link_text) instead\n",
      "  driver.find_element_by_link_text('끝').click()\n"
     ]
    }
   ],
   "source": [
    "# step1. 크롬 드라이버를 사용해서 웹 브라우저를 실행\n",
    "path = \"c:/Users/Playdata/vscode_encore/chromedriver.exe\"\n",
    "driver = webdriver.Chrome(path)\n",
    "driver.get(\"https://korean.visitkorea.or.kr/main/main.html\")\n",
    "time.sleep(3)\n",
    "\n",
    "# step2. 검색창의 이름을 찾아서 검색어를 입력\n",
    "element = driver.find_element_by_id(\"inp_search\")\n",
    "element.send_keys(query_txt)\n",
    "\n",
    "# step3. 엔터 버튼을 눌러 실행합니다.\n",
    "enter = webdriver.Keys.RETURN\n",
    "element.send_keys(enter)\n",
    "\n",
    "# step4. 마지막 페이지로 이동\n",
    "time.sleep(3)\n",
    "driver.find_element_by_link_text('끝').click()\n",
    "print('마지막 페이지 이동 완료!')"
   ]
  },
  {
   "cell_type": "code",
   "execution_count": 68,
   "id": "690993f2",
   "metadata": {},
   "outputs": [
    {
     "name": "stderr",
     "output_type": "stream",
     "text": [
      "C:\\Users\\Playdata\\AppData\\Local\\Temp\\ipykernel_32072\\3512204471.py:3: DeprecationWarning: executable_path has been deprecated, please pass in a Service object\n",
      "  driver = webdriver.Chrome(path)\n",
      "C:\\Users\\Playdata\\AppData\\Local\\Temp\\ipykernel_32072\\3512204471.py:8: DeprecationWarning: find_element_by_* commands are deprecated. Please use find_element() instead\n",
      "  element = driver.find_element_by_id(\"inp_search\")\n",
      "C:\\Users\\Playdata\\AppData\\Local\\Temp\\ipykernel_32072\\3512204471.py:17: DeprecationWarning: find_element_by_link_text is deprecated. Please use find_element(by=By.LINK_TEXT, value=link_text) instead\n",
      "  driver.find_element_by_link_text('끝').click()\n"
     ]
    },
    {
     "name": "stdout",
     "output_type": "stream",
     "text": [
      "마지막 페이지 이동 완료!\n",
      "마지막 페이지 번호:  139\n"
     ]
    }
   ],
   "source": [
    "# step1. 크롬 드라이버를 사용해서 웹 브라우저를 실행\n",
    "path = \"c:/Users/Playdata/vscode_encore/chromedriver.exe\"\n",
    "driver = webdriver.Chrome(path)\n",
    "driver.get(\"https://korean.visitkorea.or.kr/main/main.html\")\n",
    "time.sleep(3)\n",
    "\n",
    "# step2. 검색창의 이름을 찾아서 검색어를 입력\n",
    "element = driver.find_element_by_id(\"inp_search\")\n",
    "element.send_keys(query_txt)\n",
    "\n",
    "# step3. 엔터 버튼을 눌러 실행합니다.\n",
    "enter = webdriver.Keys.RETURN\n",
    "element.send_keys(enter)\n",
    "\n",
    "# step4. 마지막 페이지로 이동\n",
    "time.sleep(3)\n",
    "driver.find_element_by_link_text('끝').click()\n",
    "print('마지막 페이지 이동 완료!')\n",
    "\n",
    "# step5. 마지막 페이지 번호 확인\n",
    "time.sleep(3)\n",
    "full_html = driver.page_source\n",
    "soup = BeautifulSoup(full_html, 'html.parser')\n",
    "lpno = soup.select('div[id=\"page_box\"]>a')[-1].get_text()\n",
    "print('마지막 페이지 번호: ', lpno)"
   ]
  },
  {
   "cell_type": "code",
   "execution_count": 69,
   "id": "908620af",
   "metadata": {},
   "outputs": [
    {
     "name": "stderr",
     "output_type": "stream",
     "text": [
      "C:\\Users\\Playdata\\AppData\\Local\\Temp\\ipykernel_32072\\3882264059.py:3: DeprecationWarning: executable_path has been deprecated, please pass in a Service object\n",
      "  driver = webdriver.Chrome(path)\n",
      "C:\\Users\\Playdata\\AppData\\Local\\Temp\\ipykernel_32072\\3882264059.py:8: DeprecationWarning: find_element_by_* commands are deprecated. Please use find_element() instead\n",
      "  element = driver.find_element_by_id(\"inp_search\")\n",
      "C:\\Users\\Playdata\\AppData\\Local\\Temp\\ipykernel_32072\\3882264059.py:17: DeprecationWarning: find_element_by_link_text is deprecated. Please use find_element(by=By.LINK_TEXT, value=link_text) instead\n",
      "  driver.find_element_by_link_text('끝').click()\n"
     ]
    },
    {
     "name": "stdout",
     "output_type": "stream",
     "text": [
      "마지막 페이지 이동 완료!\n",
      "마지막 페이지 번호:  139\n",
      "첫 페이지 이동 완료!\n"
     ]
    },
    {
     "name": "stderr",
     "output_type": "stream",
     "text": [
      "C:\\Users\\Playdata\\AppData\\Local\\Temp\\ipykernel_32072\\3882264059.py:29: DeprecationWarning: find_element_by_link_text is deprecated. Please use find_element(by=By.LINK_TEXT, value=link_text) instead\n",
      "  driver.find_element_by_link_text('처음').click()\n"
     ]
    }
   ],
   "source": [
    "# step1. 크롬 드라이버를 사용해서 웹 브라우저를 실행\n",
    "path = \"c:/Users/Playdata/vscode_encore/chromedriver.exe\"\n",
    "driver = webdriver.Chrome(path)\n",
    "driver.get(\"https://korean.visitkorea.or.kr/main/main.html\")\n",
    "time.sleep(3)\n",
    "\n",
    "# step2. 검색창의 이름을 찾아서 검색어를 입력\n",
    "element = driver.find_element_by_id(\"inp_search\")\n",
    "element.send_keys(query_txt)\n",
    "\n",
    "# step3. 엔터 버튼을 눌러 실행합니다.\n",
    "enter = webdriver.Keys.RETURN\n",
    "element.send_keys(enter)\n",
    "\n",
    "# step4. 마지막 페이지로 이동\n",
    "time.sleep(3)\n",
    "driver.find_element_by_link_text('끝').click()\n",
    "print('마지막 페이지 이동 완료!')\n",
    "\n",
    "# step5. 마지막 페이지 번호 확인\n",
    "time.sleep(3)\n",
    "full_html = driver.page_source\n",
    "soup = BeautifulSoup(full_html, 'html.parser')\n",
    "lpno = soup.select('div[id=\"page_box\"]>a')[-1].get_text()\n",
    "print('마지막 페이지 번호: ', lpno)\n",
    "\n",
    "# step6. 다시 첫 페이지로 이동\n",
    "time.sleep(3)\n",
    "driver.find_element_by_link_text('처음').click()\n",
    "print('첫 페이지 이동 완료!')"
   ]
  },
  {
   "cell_type": "code",
   "execution_count": 71,
   "id": "e168e118",
   "metadata": {},
   "outputs": [
    {
     "name": "stderr",
     "output_type": "stream",
     "text": [
      "C:\\Users\\Playdata\\AppData\\Local\\Temp\\ipykernel_32072\\62330994.py:3: DeprecationWarning: executable_path has been deprecated, please pass in a Service object\n",
      "  driver = webdriver.Chrome(path)\n",
      "C:\\Users\\Playdata\\AppData\\Local\\Temp\\ipykernel_32072\\62330994.py:8: DeprecationWarning: find_element_by_* commands are deprecated. Please use find_element() instead\n",
      "  element = driver.find_element_by_id(\"inp_search\")\n",
      "C:\\Users\\Playdata\\AppData\\Local\\Temp\\ipykernel_32072\\62330994.py:17: DeprecationWarning: find_element_by_link_text is deprecated. Please use find_element(by=By.LINK_TEXT, value=link_text) instead\n",
      "  driver.find_element_by_link_text('끝').click()\n"
     ]
    },
    {
     "name": "stdout",
     "output_type": "stream",
     "text": [
      "마지막 페이지 이동 완료!\n",
      "마지막 페이지 번호:  139\n"
     ]
    },
    {
     "name": "stderr",
     "output_type": "stream",
     "text": [
      "C:\\Users\\Playdata\\AppData\\Local\\Temp\\ipykernel_32072\\62330994.py:29: DeprecationWarning: find_element_by_link_text is deprecated. Please use find_element(by=By.LINK_TEXT, value=link_text) instead\n",
      "  driver.find_element_by_link_text('처음').click()\n"
     ]
    },
    {
     "name": "stdout",
     "output_type": "stream",
     "text": [
      "첫 페이지 이동 완료!\n",
      "페이지 번호:  1\n",
      "제목:  왜구 노략질 맞서 세운 터전 '진도 남도진성'\n",
      "지역:  전라남도 진도군\n",
      "해쉬태그:  #추천코스#드라이브코스#국도여행#섬진강#차타고 \n",
      "\n",
      "제목:  나비랑 뛰놀고, 고래뼈 놀이터에서 뒹굴고 '울산대공원'\n",
      "지역:  울산 남구\n",
      "해쉬태그:  #추천코스#드라이브코스#국도여행#금강#차타고 \n",
      "\n",
      "제목:  백합, 품 속에 담아둔 서해를 맛보다\n",
      "지역:  전라북도 김제시\n",
      "해쉬태그:  #추천코스#드라이브코스#국도여행#오십천#차타고 \n",
      "\n"
     ]
    },
    {
     "name": "stderr",
     "output_type": "stream",
     "text": [
      "C:\\Users\\Playdata\\AppData\\Local\\Temp\\ipykernel_32072\\62330994.py:55: DeprecationWarning: find_element_by_link_text is deprecated. Please use find_element(by=By.LINK_TEXT, value=link_text) instead\n",
      "  driver.find_element_by_link_text(str(cnt)).click()\n"
     ]
    },
    {
     "name": "stdout",
     "output_type": "stream",
     "text": [
      "페이지 번호:  2\n",
      "제목:  [충주 여행 코스] 봄에 꼭 충주를 가야 하는 이유, 충주 가볼 만한 곳\n",
      "지역:  충청북도 충주시\n",
      "해쉬태그:  #충주여행#충주가볼만한곳#봄여행#봄여행지#충주댐#활옥동굴#중앙탑사적공원#게으른악어 \n",
      "\n",
      "제목:  [충남 봄 여행] 낭만 찾아 떠나는 여행, 천안·아산 봄나들이\n",
      "지역:  충청남도 \n",
      "해쉬태그:  #충남여행#충남가볼만한곳#천안여행#천안가볼만한곳#아산여행#아산가볼만한곳#봄나들이#봄나들이여행#봄여행#봄여행지#국내봄여행지추천#벚꽃명소#천호지#단대호수#각원사#현충사#아산현충사#당림미술관#세계꽃식물원 \n",
      "\n",
      "제목:  [구례 봄 여행] 달달하게 봄을 즐길 수 있는 구례 봄꽃 명소 4\n",
      "지역:  전라남도 구례군\n",
      "해쉬태그:  #구례여행#구례가볼만한곳#봄꽃명소#봄꽃#봄꽃여행#봄여행#산수유마을#구례산수유마을#화엄사#섬진강#섬진강벚꽃길#쌍산재 \n",
      "\n",
      "제목:  [거제] 봄을 따라 걷는 여행, 거제도\n",
      "지역:  경상남도 거제시\n",
      "해쉬태그:  #거제#경남거제#거제도관광지#거제도여행#거제섬여행#거제도#거제도전망좋은곳#거제도여행코스#소낭구펜션#봄여행#한국관광품질인증#봄여행지#남해여행#거제도펜션#거제도숙소#한옥#한옥펜션#바비큐#야외바비큐#해금강#외도보타니아#거제가볼만한곳#맹종죽순체험길#바람의언덕#산책로#바람의언덕길#오션뷰#취사#거제투어 \n",
      "\n",
      "제목:  국내 당일치기 여행, 진천 봄나들이 추천 명소\n",
      "지역:  충청북도 진천군\n",
      "해쉬태그:  #진천여행#진천가볼만한곳#한반도지형전망공원#한반도지형#농다리#진천농다리#미르숲#농암정#길상사#봄여행지#봄여행지추천 \n",
      "\n",
      "제목:  봄바람 따라 살랑살랑 통영 1박2일 여행코스\n",
      "지역:  경상남도 통영시\n",
      "해쉬태그:  #통영#통영1박2일코스#통영가볼만한곳#장사도해상공원#박경리기념관#미래사#서피랑#봄여행#봄여행지#봄여행지추천#취향따라_떠나는_특별한_보통날#봄여행주간#미리봄_여행지 \n",
      "\n",
      "제목:  우리 아이와 봄나들이 갈 시간⏰ 서울 근교 여행지 4\n",
      "지역:  전국 \n",
      "해쉬태그:  #화성여행#화성가볼만한곳#트로피컬베이#파주여행#파주가볼만한곳#애플샤인농원#인천여행#인천가볼만한곳#송도해돋이공원#해돋이공원#서울여행#서울가볼만한곳#선유도공원#봄나들이#봄나들이여행#아이와함께#세시간전#봄여행#당일치기여행 \n",
      "\n",
      "제목:  아이와 봄 드라이브 떠나자! 안성 여행지 4\n",
      "지역:  경기도 안성시\n",
      "해쉬태그:  #안성여행#안성가볼만한곳#드라이브여행#봄여행#봄여행지#안성팜랜드#소나무카페#풍사니랑#아메리카나#아이와함께#세시간전 \n",
      "\n",
      "제목:  국내 봄 여행지, 군위 비대면 봄나들이 코스\n",
      "지역:  경상북도 군위군\n",
      "해쉬태그:  #군위여행#군위가볼만한곳#삼존석굴#군위삼존석굴#한밤마을#화본역#혜원의집#영화촬영지#화산산성#​화산산성전망대#리틀포레스트 \n",
      "\n",
      "제목:  아침부터 밤까지, 봄 냄새 가득한 '사천' 여행\n",
      "지역:  경상남도 사천시\n",
      "해쉬태그:  #사천여행#사천여행코스#사천가볼만한곳#봄여행#수양공원#사천읍성#포담#실안해안도로#삼천포대교 \n",
      "\n",
      "페이지 번호:  3\n",
      "제목:  [거제도 봄 여행] 노란 꽃과 푸른 바다를 함께 즐길 수 있는, 거제도 봄꽃 명소 3\n",
      "지역:  경상남도 거제시\n",
      "해쉬태그:  #거제여행#거제가볼만한곳#봄여행#봄여행지#거제도#양지암조각공원#공곶이#학동유채꽃밭#유채꽃밭#유채밭#봄꽃명소 \n",
      "\n",
      "제목:  [공주 여행 코스] 봄 나들이도 힐링도 한 번에, 공주 가볼 만한 곳\n",
      "지역:  충청남도 공주시\n",
      "해쉬태그:  #공주여행#공주가볼만한곳#공산성#공주공산성#연미산자연미술공원#연미산#정지산유적#공주고마나루#고마나루#봄나들이#봄나들이여행#역사여행 \n",
      "\n",
      "제목:  [안동 여행 코스] 한국의 멋과 봄을 함께 즐길 수 있는, 안동 나들이\n",
      "지역:  경상북도 안동시\n",
      "해쉬태그:  #안동여행#안동가볼만한곳#봄나들이#봄나들이여행#예끼마을#안동예끼마을#주토피움#동식물체험테마파크#하회마을#안동하회마을#월영교#안동월영교#아이와함께 \n",
      "\n",
      "제목:  올해 봄여행은 어디로? 경상도 벚꽃 명소 6\n",
      "지역:  경상남도 \n",
      "해쉬태그:  #경상도여행#경상도가볼만한곳#김해연지공원#연지공원#진주진양호#진양호#진양호공원#울산무거천#무거천#벚꽃명소#언양이너리트#벚꽃뷰카페#이너리트#거제여자상업고등학교#벚꽃터널#남해왕지마을벚꽃길#왕지마을#왕지마을벚꽃#왕지마을벚꽃길#벚꽃길#세시간전 \n",
      "\n",
      "제목:  봄나들이 가볼 만한 곳, 봄꽃 축제 추천 :: 이월드 별빛벚꽃축제 블라썸 피크닉, 서산유기방가옥, 휴애리매화축제, 태안 세계튤립꽃박람회\n",
      "지역:  전국 \n",
      "해쉬태그:  #대구여행#서산여행#제주여행#태안여행#봄나들이#봄나들이여행#봄꽃축제#이월드별빛벚꽃축제#서산유기방가옥#유기방가옥#휴애리매화축제#태안세계튤립축제 \n",
      "\n",
      "제목:  효리네민박 촬영지부터 매화꽃 명소까지, ♥제주 봄여행 코스♥\n",
      "지역:  제주도 \n",
      "해쉬태그:  #제주3월가볼만한곳#제주3월여행코스#제주도3월여행#효리네민박촬영지#효리네민박여행#제주도여행코스#제주도봄여행추천코스#제주봄에가볼만한곳#제주매화꽃여행#제주여행일정추천#봄꽃놀이#봄꽃여행#TV_속_여행지#TV속촬영지여행#영화&드라마&예능_속_여행지#미리봄_여행지 \n",
      "\n",
      "제목:  [제주]  봄 내음 가득한 제주도민의 봄방학 By 여행작가 슬구\n",
      "지역:  제주도 서귀포시\n",
      "해쉬태그:  #제주도#꿈꾸는노마드#유채꽃#올레길#제주올레길#산방산#봄방학#디지털노마드#한국관광품질인증#펜션#제주도펜션#서귀포시#취사#바비큐#루프탑#오션뷰#테라스#하라케케카페#냠이와잡화점#워케이션 \n",
      "\n",
      "제목:  이국적인 풍경과 아름다운 정원으로 떠나는 봄 여행, 남해 독일마을과 원예예술촌\n",
      "지역:  경상남도 남해군\n",
      "해쉬태그:  #이색적인여행#2019년4월추천가볼만한곳#4월추천가볼만한곳#추천가볼만한곳#공공누리#4월가볼만한곳#월요일엔 저스트 고!#미리봄_여행지 \n",
      "\n",
      "제목:  봄의 유혹, 유채와 튤립을 가슴에 담다 '경남 남해 봄꽃 여행'\n",
      "지역:  경상남도 남해군\n",
      "해쉬태그:  #봄꽃여행#봄꽃열전#봄꽃축제 \n",
      "\n",
      "제목:  봄이니까  알록달록 색감맛집 서울근교 카페\n",
      "지역:  전국 \n",
      "해쉬태그:  #서울여행#서울가볼만한곳#경기광주여행#경기광주가볼만한곳#수원여행#수원가볼만한곳#세시간전#해피베어데이#머메이드레시피#카페그리트#예쁜카페#카페#봄여행 \n",
      "\n",
      "페이지 번호:  4\n",
      "제목:  봄이면 벚꽃, 그래서 창원시 진해\n",
      "지역:  경상남도 창원시\n",
      "해쉬태그:  #공공누리#열린관광_모두의여행#무장애여행지#어르신추천코스#창원시#어르신#시니어추천코스#시니어여행#봄 \n",
      "\n",
      "제목:  이 봄의 끝을 잡고 따스한 봄, 순천으로\n",
      "지역:  전라남도 순천시\n",
      "해쉬태그:  #순천여행#순천가볼만한곳#상사호#브루웍스#순천만국가정원#드라마촬영장#순천드라마촬영장#베니샤프커피#순천카페 \n",
      "\n",
      "제목:  [군산] 과거의 한국이 잠든 군산을 걷다, 호텔 봄\n",
      "지역:  전라북도 군산시\n",
      "해쉬태그:  #군산#군산초원사진관#군산가볼만한곳#군산여행#군산시#군산호텔#전북군산#군산숙소#군산시간여행마을#한국관광품질인증#전라도여행#호텔봄#어메니티#조식#군산영화촬영지#8월의크리스마스#초원사진관#경암동철길마을#군산여행코스#비즈니스호텔#휴게실#라운지#시티뷰 \n",
      "\n",
      "제목:  가장 먼저 도착한 봄을 맞이하러 떠났다, 하화도 꽃섬길\n",
      "지역:  전라남도 여수시\n",
      "해쉬태그:  #2021봄시즌비대면안심관광지25선#여수여행#여수가볼만한곳#하화도#하화도꽃섬길#풍경여행#2021비대면안심관광지#비대면안심관광지#비대면_안심관광지#전라권_비대면관광지#봄_비대면관광지#산책하기좋은 \n",
      "\n",
      "제목:  봄 여행! 기차, 버스 말고, 4色 유람선\n",
      "지역:  전국 \n",
      "해쉬태그:  #유람선#유람선여행#충주호유람선#한강유람선#포항운하유람선#외도유람선#야경투어#미리봄_여행지 \n",
      "\n",
      "제목:  [살아보기 여행-청주편] 2박3일 문의마을 살아보기를 “문의해봄”\n",
      "지역:  충청북도 청주시\n",
      "해쉬태그:  #2022생활관광#생활관광#현지살아보기형#충북문의면#문의마을#여행자센터#문의해봄#충북미션투어#슬로우타임#바위솔화분만들기#마불갤러리#이종국작가#한지체험#구절초연구소#구절초염색체험#정원카페#문의에서#테라리움만들기#문의문화재단지#청남대 \n",
      "\n",
      "제목:  봄을 부르는 아삭아삭 청도 한재미나리\n",
      "지역:  경상북도 청도군\n",
      "해쉬태그:  #청도가볼만하곳#청도맛집#탐복미나리가든#춘천집#맛여행#봄제철음식#먹방여행#미식여행#한재미나리#내고향대표맛여행#미리봄_여행지#청도여행 \n",
      "\n",
      "제목:  날 풀리기만 기다렸다면, 김해로 커플여행 가즈아!\n",
      "지역:  경상남도 김해시\n",
      "해쉬태그:  #김해가볼만한곳#김해가야테마파크#김해한옥체험관#클레이아크김해미술관#김해천문대#커플여행#데이트#김해여행코스#커플여행코스#데이트코스#이색여행#이색여행코스#봄여행주간#취향따라_떠나는_특별한_보통날#봄여행주간#이른봄여행#데이트명소#미리봄_여행지 \n",
      "\n",
      "제목:  동강할미꽃으로 피어난 보랏빛 봄을 만나다 정선 동강 길\n",
      "지역:  강원도 정선군\n",
      "해쉬태그:  #2021봄시즌비대면안심관광지25선#정선여행#정선가볼만한곳#동강#동강생태체험전시관#전시관#동강할미꽃#체험여행#2021비대면안심관광지#비대면안심관광지#비대면_안심관광지#봄_비대면관광지#자연과함께#강원권_비대면관광지 \n",
      "\n",
      "제목:  [행정안전부 X 한국섬진흥원] 2022 찾아가고 싶은 섬 - 봄편 ♥\n",
      "지역:  전국 \n",
      "해쉬태그:  #2022찾아가고싶은섬#2022찾아가고싶은섬_봄섬#섬#봄여행#봄여행지#섬여행#바다여행#테마여행 \n",
      "\n",
      "페이지 번호:  5\n",
      "제목:  다시 찾아온 설렘 가득한 봄, 화포천 습지생태공원\n",
      "지역:  경상남도 김해시\n",
      "해쉬태그:  #2021봄시즌비대면안심관광지25선#김해여행#김해가볼만한곳#화포천습지생태공원#화포천#생태공원#공원#습지#체험여행#2021비대면안심관광지#비대면안심관광지#비대면_안심관광지#경상권_비대면관광지#봄_비대면관광지#산책하기좋은 \n",
      "\n",
      "제목:  [부산] 봄의 활력이 움트는 부산을 감상하다, 호텔 콘트(CONT)\n",
      "지역:  부산 중구\n",
      "해쉬태그:  #품질인증콘텐츠#호텔콘트#호텔콘트(HOTELCONT)#한국관광품질인증추천기사#부산#송정해수욕장#용두산공원#오륙도#부산오륙도#부산여행#전포동#중구#조식#취사#루프탑#마운틴뷰#시티뷰#스파#전포동카페거리#봄#유채꽃#동백꽃#해운대블루라인파크#스카이캡슐#서핑 \n",
      "\n",
      "제목:  봄바람 불어오는 날 떠나요, 보발재 드라이브\n",
      "지역:  충청북도 단양군\n",
      "해쉬태그:  #비대면안심관광지#비대면_안심관광지#2022비대면안심관광지#2022봄시즌비대면안심관광지25선#충청권_비대면관광지#봄_비대면관광지#자연과함께#봄_가볼만한곳#드라이브코스#봄꽃여행 \n",
      "\n",
      "제목:  노란 봄이 손짓하는 서산 유기방가옥\n",
      "지역:  충청남도 서산시\n",
      "해쉬태그:  #색깔있는미리봄#2020년3월추천가볼만한곳#3월추천가볼만한곳#추천가볼만한곳#공공누리#서산여행#서산가볼만한곳#3월가볼만한곳#이른봄여행#맛따라가기#미리봄_여행지#머드맥스 \n",
      "\n",
      "제목:  [경주] 경주의 가장 아름다운 계절을 만나다, <앨리 게스트하우스>\n",
      "지역:  경상북도 경주시\n",
      "해쉬태그:  #경주#경주여행#경주시#앨리게스트하우스#경주숙소#게스트하우스#황리단길#대릉원#첨성대#경주관광#경주1박2일코스#경주숙박#경주품질인증업소#벚꽃#경북#경북추천숙소#조식제공#디스모먼트#메리크래프트#칙#티셔츠제작#테라스#세탁실#시티뷰#봄여행#경주기념품#경주게스트하우스 \n",
      "\n",
      "제목:  봄 소풍 최적의 장소, 올림픽공원\n",
      "지역:  서울 송파구\n",
      "해쉬태그:  #2021봄시즌비대면안심관광지25선#서울여행#서울가볼만한곳#올림픽공원#몽촌토성#조각공원#산책로#산책#공원#2021비대면안심관광지#비대면안심관광지#비대면_안심관광지#봄_비대면관광지#산책하기좋은#수도권_비대면관광지 \n",
      "\n",
      "제목:  [여수] 잠들지 않는 낭만의 도시, 여수를 만끽하다 - 호텔 케니\n",
      "지역:  전라남도 여수시\n",
      "해쉬태그:  #여수#여수해양공원#여수야경명소#여수가볼만한곳#여수갈만한곳#여수섬여행#여수야경#여수해상케이블카#여수밤바다#여수바다#여수추천숙소#여수품질인증숙소#여수숙소#여수시#여수여행#전남#여수호텔#호텔케니#남파랑길#레스토랑#펫동반#반려동물동반#어메니티#오션뷰#오션뷰호텔#여수엑스포공원#자산공원#남해바다#오동도#돌산공원#여수낭만포차거리#봄여행지 \n",
      "\n",
      "제목:  봄처럼 활기차게 놀면서 만나는 도심 속 자연, 경기 군포 초막골 생태공원\n",
      "지역:  경기도 군포시\n",
      "해쉬태그:  #2021봄시즌비대면안심관광지25선#군포여행#군포가볼만한곳#초막골생태공원#생태공원#숲#수리산#야생초#수생동식물#공원#체험여행#놀이터#야영장#2021비대면안심관광지#비대면안심관광지#비대면_안심관광지#수도권_비대면관광지#봄_비대면관광지#산책하기좋은 \n",
      "\n",
      "제목:  언제, 어디서든 안전여행\n",
      "지역:  \n",
      "해쉬태그:  #국민안전여행가이드#안전여행#사계절안전여행#여행트렌드별안전수칙#안전여행카드뉴스 \n",
      "\n",
      "제목:  [울산] 쪽빛 바다 펼쳐지는 풍경 속으로 - 울산 브라운도트 호텔 장생포점\n",
      "지역:  울산 남구\n",
      "해쉬태그:  #울산#울산여행#울산여행코스#브라운도트호텔장생포점#브라운도트호텔#장생포#장생포고래문화마을#장생포해양공원#장생포고래박물관#슬도#태화강#십리대숲#태화강십리대숲#한국관광품질인증#남구#울산호텔#봄여행지#오션뷰#오션뷰호텔#레스토랑#비즈니스센터#비즈니스호텔#워케이션#에어드레서#어메니티#욕조#대왕암공원#태화강국가정원#조식 \n",
      "\n"
     ]
    },
    {
     "name": "stderr",
     "output_type": "stream",
     "text": [
      "C:\\Users\\Playdata\\AppData\\Local\\Temp\\ipykernel_32072\\62330994.py:52: DeprecationWarning: find_element_by_link_text is deprecated. Please use find_element(by=By.LINK_TEXT, value=link_text) instead\n",
      "  driver.find_element_by_link_text('다음').click()\n"
     ]
    },
    {
     "name": "stdout",
     "output_type": "stream",
     "text": [
      "페이지 번호:  6\n",
      "제목:  봄 망울이 몽글몽글 자연과 만나요, 서울 강동구 길동생태공원\n",
      "지역:  서울 강동구\n",
      "해쉬태그:  #2021봄시즌비대면안심관광지25선#서울여행#서울가볼만한곳#길동생태공원#생태공원#산책#체험여행#반딧불이#공원#2021비대면안심관광지#비대면안심관광지#비대면_안심관광지#봄_비대면관광지#산책하기좋은#수도권_비대면관광지 \n",
      "\n",
      "제목:  [꽃 성격 테스트_GGOTI ] 내 성격에 딱 어울리는 꽃은?\n",
      "지역:  전국 \n",
      "해쉬태그:  #꽃MBTI#봄꽃여행지#꽃여행지#봄꽃#봄꽃여행#봄꽃명소#벚꽃#해바라기#산수유#매화#봄여행지#테스트#테마여행 \n",
      "\n",
      "제목:  [드라이브 코스 추천] 차타고 떠나는 대한민국 구석구석 이색여행!\n",
      "지역:  전국 \n",
      "해쉬태그:  #드라이브스루#차타고#비대면여행#언택트여행#드라이브#드라이브코스#드라이브코스추천#캠핑#차박#동해안해안도로#해안도로#테마여행 \n",
      "\n",
      "제목:  벚꽃만 볼 거야? 봄의 하동 즐기는 법 A to Z\n",
      "지역:  경상남도 하동군\n",
      "해쉬태그:  #하동#하동여행#하동가볼만한곳#화개장터#십리벚꽃길#쌍계사#최참판댁#삼성궁#짚와이어#금오산짚와이어#액티비티#봄꽃여행#벚꽃여행#봄에가기좋은곳#인증샷투어#봄꽃축제#프사_백만장_인생샷#벚꽃 \n",
      "\n",
      "제목:  바다와 유채꽃 따라 걷는 낭만 동행 슬도바다길\n",
      "지역:  울산 동구\n",
      "해쉬태그:  #2021봄시즌비대면안심관광지25선#울산여행#울산가볼만한곳#슬도바다길#슬도#소리체험관#울산소리체험관#대왕암#대왕암공원#2021비대면안심관광지#비대면안심관광지#비대면_안심관광지#경상권_비대면관광지#봄_비대면관광지#산책하기좋은 \n",
      "\n",
      "제목:  남쪽에서 찾은 싱그러운 봄맛, 하동·구례의 트렌디한 맛집\n",
      "지역:  경상남도\n",
      "해쉬태그:  #하동여행#하동가볼만한곳#구례맛집#구례가볼만한곳#구례여행#하동맛집#봄제철먹거리#미식여행#오월is_뭔들#구석구석미식회#미리봄_여행지 \n",
      "\n",
      "제목:  봄이 아니어도 친하게 진해. 감성충만 진해여행 코스\n",
      "지역:  경상남도 창원시\n",
      "해쉬태그:  #진해여행코스#소사동마을#진해가볼만한곳#창원여행#진해여행#진해해양공원#진해보타닉뮤지엄#원해루#제황산#제황산모노레일#진해탑#안민고개#초여름_더욱_빛나는 \n",
      "\n",
      "제목:  나른한 봄날, 산뜻한 나물 한 끼 어때?\n",
      "지역:  전국 \n",
      "해쉬태그:  #맛있는여행#봄나물#나물#제철나물#미나리#미나리전#냉이#취나물#쑥#봄여행 \n",
      "\n",
      "제목:  [품슐랭 가이드] 숙소가 곧 여행이다, 연천 알멕스랜드\n",
      "지역:  경기도 연천군\n",
      "해쉬태그:  #연천#연천가볼만한곳#연천추천숙소#연천군캠핑장#연천여행#연천캠핑장#연천군#한국관광품질인증#경기도여행#봄여행지#가족여행#알멕스랜드#연천알멕스랜드#임진강#임진강캠핑#수영장#카트장#실내카트장#산책로#리조트#경기도리조트#경기도캠핑장#취사가능#알멕스카페#키즈카페#캐러밴캠핑장#바비큐 \n",
      "\n",
      "제목:  청주로 실속여행 '가즈아~'\n",
      "지역:  충청북도 청주시\n",
      "해쉬태그:  #무장애여행지#열린관광_모두의여행#장애인추천코스#충북청주#공공누리#장애인추천여행지#모두의관광, 열린여행지 \n",
      "\n",
      "크롤링 완료\n"
     ]
    }
   ],
   "source": [
    "# step1. 크롬 드라이버를 사용해서 웹 브라우저를 실행\n",
    "path = \"c:/Users/Playdata/vscode_encore/chromedriver.exe\"\n",
    "driver = webdriver.Chrome(path)\n",
    "driver.get(\"https://korean.visitkorea.or.kr/main/main.html\")\n",
    "time.sleep(3)\n",
    "\n",
    "# step2. 검색창의 이름을 찾아서 검색어를 입력\n",
    "element = driver.find_element_by_id(\"inp_search\")\n",
    "element.send_keys(query_txt)\n",
    "\n",
    "# step3. 엔터 버튼을 눌러 실행합니다.\n",
    "enter = webdriver.Keys.RETURN\n",
    "element.send_keys(enter)\n",
    "\n",
    "# step4. 마지막 페이지로 이동\n",
    "time.sleep(3)\n",
    "driver.find_element_by_link_text('끝').click()\n",
    "print('마지막 페이지 이동 완료!')\n",
    "\n",
    "# step5. 마지막 페이지 번호 확인\n",
    "time.sleep(3)\n",
    "full_html = driver.page_source\n",
    "soup = BeautifulSoup(full_html, 'html.parser')\n",
    "lpno = soup.select('div[id=\"page_box\"]>a')[-1].get_text()\n",
    "print('마지막 페이지 번호: ', lpno)\n",
    "\n",
    "# step6. 다시 첫 페이지로 이동\n",
    "time.sleep(3)\n",
    "driver.find_element_by_link_text('처음').click()\n",
    "print('첫 페이지 이동 완료!')\n",
    "\n",
    "# step7. 페이지 이동하며 저장\n",
    "targetno = '7'\n",
    "cnt = 2\n",
    "\n",
    "while cnt <= int(targetno):\n",
    "\n",
    "    full_html = driver.page_source\n",
    "    soup = BeautifulSoup(full_html, 'html.parser')\n",
    "    titles = soup.select('div[class=\"tit\"]>a')\n",
    "    locations = soup.select('div[class=\"service\"]>p')\n",
    "    hashtags = soup.select('p[class=\"tag_type\"]')\n",
    "    print('페이지 번호: ', cnt-1)\n",
    "    for t, l, h in zip(titles, locations, hashtags):\n",
    "\n",
    "        print('제목: ', t.get_text())\n",
    "        print('지역: ', l.get_text())\n",
    "        print('해쉬태그: ', h.get_text())\n",
    "        print()\n",
    "    if cnt % 5 == 1:\n",
    "        time.sleep(5)\n",
    "        driver.find_element_by_link_text('다음').click()\n",
    "    else:\n",
    "        time.sleep(5)\n",
    "        driver.find_element_by_link_text(str(cnt)).click()\n",
    "        \n",
    "    cnt += 1\n",
    "\n",
    "print('크롤링 완료')"
   ]
  },
  {
   "cell_type": "code",
   "execution_count": null,
   "id": "2a4983fa",
   "metadata": {},
   "outputs": [],
   "source": []
  }
 ],
 "metadata": {
  "kernelspec": {
   "display_name": "Python 3 (ipykernel)",
   "language": "python",
   "name": "python3"
  },
  "language_info": {
   "codemirror_mode": {
    "name": "ipython",
    "version": 3
   },
   "file_extension": ".py",
   "mimetype": "text/x-python",
   "name": "python",
   "nbconvert_exporter": "python",
   "pygments_lexer": "ipython3",
   "version": "3.9.12"
  }
 },
 "nbformat": 4,
 "nbformat_minor": 5
}
