{
 "cells": [
  {
   "cell_type": "code",
   "execution_count": 4,
   "id": "f70ed12a",
   "metadata": {},
   "outputs": [
    {
     "data": {
      "text/plain": [
       "array([[1, 1, 1],\n",
       "       [1, 1, 1],\n",
       "       [1, 1, 1]], dtype=uint8)"
      ]
     },
     "execution_count": 4,
     "metadata": {},
     "output_type": "execute_result"
    }
   ],
   "source": [
    "import cv2\n",
    "import random\n",
    "import numpy as np\n",
    "kernel = cv2.getStructuringElement(shape=cv2.MORPH_RECT, ksize=(3,3))\n",
    "kernel"
   ]
  },
  {
   "cell_type": "code",
   "execution_count": 5,
   "id": "fece6492",
   "metadata": {},
   "outputs": [],
   "source": [
    "kernel = np.array( ,np.uint8)"
   ]
  },
  {
   "cell_type": "code",
   "execution_count": 46,
   "id": "28f53eb5",
   "metadata": {},
   "outputs": [],
   "source": [
    "lsta = []\n",
    "for i in range(5):\n",
    "    lst2 = []\n",
    "    lsta.append(lst2)\n",
    "    for j in range(5):\n",
    "        lst3 = []\n",
    "        lst2.append(lst3)\n",
    "        for k in range(3):\n",
    "            a = random.randint(-1, 1)\n",
    "            lst3.append(a)"
   ]
  },
  {
   "cell_type": "code",
   "execution_count": 47,
   "id": "3e212e31",
   "metadata": {},
   "outputs": [],
   "source": [
    "lsta = []\n",
    "for i in range(5):\n",
    "    lst2 = []\n",
    "    lsta.append(lst2)\n",
    "    for j in range(5):\n",
    "        lst3 = []\n",
    "        lst2.append(lst3)\n",
    "        for k in range(3):\n",
    "            a = random.randint(-1, 1)\n",
    "            lst3.append(a)\n",
    "lstb = []\n",
    "for i in range(5):\n",
    "    lst2 = []\n",
    "    lstb.append(lst2)\n",
    "    for j in range(5):\n",
    "        lst3 = []\n",
    "        lst2.append(lst3)\n",
    "        for k in range(3):\n",
    "            a = random.randint(-1, 1)\n",
    "            lst3.append(a)"
   ]
  },
  {
   "cell_type": "code",
   "execution_count": 51,
   "id": "57dc7462",
   "metadata": {},
   "outputs": [
    {
     "data": {
      "text/plain": [
       "[[[0, 0, 0], [-1, 1, -1], [0, -1, 1], [-1, 0, 0], [1, 1, 1]],\n",
       " [[1, 1, -1], [0, -1, -1], [1, 0, 0], [0, 1, 0], [-1, 0, 0]],\n",
       " [[-1, 1, 0], [0, 1, 1], [1, 1, 1], [-1, -1, -1], [0, -1, 0]],\n",
       " [[-1, -1, -1], [-1, 0, -1], [-1, 1, -1], [0, -1, 0], [0, 0, 0]],\n",
       " [[1, -1, 0], [0, 1, 0], [0, 0, 0], [0, -1, -1], [-1, -1, 1]]]"
      ]
     },
     "execution_count": 51,
     "metadata": {},
     "output_type": "execute_result"
    }
   ],
   "source": [
    "lsta"
   ]
  },
  {
   "cell_type": "code",
   "execution_count": 52,
   "id": "386c7720",
   "metadata": {},
   "outputs": [
    {
     "data": {
      "text/plain": [
       "[[[-1, 0, 1], [-1, 1, 0], [0, -1, 1], [0, 1, 1], [0, 0, 0]],\n",
       " [[0, -1, 1], [-1, -1, -1], [0, 0, 1], [1, 0, 0], [-1, -1, 0]],\n",
       " [[0, 0, -1], [1, -1, 1], [1, 0, 0], [1, 1, 1], [1, 0, -1]],\n",
       " [[-1, 0, 0], [-1, 1, -1], [0, -1, 1], [0, -1, 1], [0, 0, 1]],\n",
       " [[-1, -1, 1], [0, -1, 0], [0, 0, 1], [0, 0, -1], [1, 1, 1]]]"
      ]
     },
     "execution_count": 52,
     "metadata": {},
     "output_type": "execute_result"
    }
   ],
   "source": [
    "lstb"
   ]
  },
  {
   "cell_type": "code",
   "execution_count": 57,
   "id": "764de344",
   "metadata": {},
   "outputs": [],
   "source": [
    "kernel1 = np.array(lsta ,np.uint8)\n",
    "kernel2 = np.array(lstb ,np.uint8)"
   ]
  },
  {
   "cell_type": "code",
   "execution_count": 58,
   "id": "af806a44",
   "metadata": {},
   "outputs": [
    {
     "data": {
      "text/plain": [
       "array([[[  0,   0,   0],\n",
       "        [255,   1, 255],\n",
       "        [  0, 255,   1],\n",
       "        [255,   0,   0],\n",
       "        [  1,   1,   1]],\n",
       "\n",
       "       [[  1,   1, 255],\n",
       "        [  0, 255, 255],\n",
       "        [  1,   0,   0],\n",
       "        [  0,   1,   0],\n",
       "        [255,   0,   0]],\n",
       "\n",
       "       [[255,   1,   0],\n",
       "        [  0,   1,   1],\n",
       "        [  1,   1,   1],\n",
       "        [255, 255, 255],\n",
       "        [  0, 255,   0]],\n",
       "\n",
       "       [[255, 255, 255],\n",
       "        [255,   0, 255],\n",
       "        [255,   1, 255],\n",
       "        [  0, 255,   0],\n",
       "        [  0,   0,   0]],\n",
       "\n",
       "       [[  1, 255,   0],\n",
       "        [  0,   1,   0],\n",
       "        [  0,   0,   0],\n",
       "        [  0, 255, 255],\n",
       "        [255, 255,   1]]], dtype=uint8)"
      ]
     },
     "execution_count": 58,
     "metadata": {},
     "output_type": "execute_result"
    }
   ],
   "source": [
    "kernel1"
   ]
  },
  {
   "cell_type": "code",
   "execution_count": 50,
   "id": "038dda50",
   "metadata": {},
   "outputs": [
    {
     "data": {
      "text/plain": [
       "array([[[255,   0,   1],\n",
       "        [255,   1,   0],\n",
       "        [  0, 255,   1],\n",
       "        [  0,   1,   1],\n",
       "        [  0,   0,   0]],\n",
       "\n",
       "       [[  0, 255,   1],\n",
       "        [255, 255, 255],\n",
       "        [  0,   0,   1],\n",
       "        [  1,   0,   0],\n",
       "        [255, 255,   0]],\n",
       "\n",
       "       [[  0,   0, 255],\n",
       "        [  1, 255,   1],\n",
       "        [  1,   0,   0],\n",
       "        [  1,   1,   1],\n",
       "        [  1,   0, 255]],\n",
       "\n",
       "       [[255,   0,   0],\n",
       "        [255,   1, 255],\n",
       "        [  0, 255,   1],\n",
       "        [  0, 255,   1],\n",
       "        [  0,   0,   1]],\n",
       "\n",
       "       [[255, 255,   1],\n",
       "        [  0, 255,   0],\n",
       "        [  0,   0,   1],\n",
       "        [  0,   0, 255],\n",
       "        [  1,   1,   1]]], dtype=uint8)"
      ]
     },
     "execution_count": 50,
     "metadata": {},
     "output_type": "execute_result"
    }
   ],
   "source": [
    "kernel2"
   ]
  },
  {
   "cell_type": "code",
   "execution_count": 60,
   "id": "269cf3dd",
   "metadata": {},
   "outputs": [
    {
     "data": {
      "text/plain": [
       "65536"
      ]
     },
     "execution_count": 60,
     "metadata": {},
     "output_type": "execute_result"
    }
   ],
   "source": [
    "2**16"
   ]
  },
  {
   "cell_type": "code",
   "execution_count": null,
   "id": "b8d43cf2",
   "metadata": {},
   "outputs": [],
   "source": []
  }
 ],
 "metadata": {
  "kernelspec": {
   "display_name": "Python 3 (ipykernel)",
   "language": "python",
   "name": "python3"
  },
  "language_info": {
   "codemirror_mode": {
    "name": "ipython",
    "version": 3
   },
   "file_extension": ".py",
   "mimetype": "text/x-python",
   "name": "python",
   "nbconvert_exporter": "python",
   "pygments_lexer": "ipython3",
   "version": "3.9.13"
  }
 },
 "nbformat": 4,
 "nbformat_minor": 5
}
