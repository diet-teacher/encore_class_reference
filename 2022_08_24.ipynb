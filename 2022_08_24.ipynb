{
 "cells": [
  {
   "cell_type": "code",
   "execution_count": 4,
   "id": "4e68a61f",
   "metadata": {},
   "outputs": [
    {
     "name": "stdout",
     "output_type": "stream",
     "text": [
      "(2, 3, 5, 7)\n",
      "(1, 2, 3, 1, 2, ('ab', 'cd'), 3, 4, 5, 6, 7, 8)\n",
      "(1, 2, 3, 1, 2, 3)\n",
      "3\n"
     ]
    }
   ],
   "source": [
    "c = (1,2,3)\n",
    "e = (1,2,('ab', 'cd'), 3,4,5,6,7,8)\n",
    "\n",
    "\n",
    "print(e[1:10:2])\n",
    "print(c+e)\n",
    "print(c*2)\n",
    "print(len(c))\n"
   ]
  },
  {
   "cell_type": "code",
   "execution_count": 39,
   "id": "87baf17c",
   "metadata": {},
   "outputs": [
    {
     "name": "stdout",
     "output_type": "stream",
     "text": [
      "1 2 3\n",
      "1\n",
      "2\n",
      "3\n"
     ]
    }
   ],
   "source": [
    "x,y,z = (1,2,3)\n",
    "print(x,y,z)\n",
    "print(x)\n",
    "print(y)\n",
    "print(z)"
   ]
  },
  {
   "cell_type": "code",
   "execution_count": 41,
   "id": "1b363146",
   "metadata": {},
   "outputs": [],
   "source": [
    "del type"
   ]
  },
  {
   "cell_type": "code",
   "execution_count": 42,
   "id": "964d64a1",
   "metadata": {},
   "outputs": [
    {
     "data": {
      "text/plain": [
       "type"
      ]
     },
     "execution_count": 42,
     "metadata": {},
     "output_type": "execute_result"
    }
   ],
   "source": []
  },
  {
   "cell_type": "code",
   "execution_count": 44,
   "id": "b151a15f",
   "metadata": {},
   "outputs": [
    {
     "name": "stdout",
     "output_type": "stream",
     "text": [
      "<class 'int'>\n",
      "<class 'int'>\n",
      "<class 'int'>\n"
     ]
    }
   ],
   "source": [
    "print(type(x))\n",
    "print(type(y))\n",
    "print(type(z))"
   ]
  },
  {
   "cell_type": "code",
   "execution_count": 6,
   "id": "a7ba29ac",
   "metadata": {},
   "outputs": [
    {
     "name": "stdout",
     "output_type": "stream",
     "text": [
      "<class 'tuple'>\n",
      "<class 'tuple'>\n",
      "<class 'tuple'>\n",
      "['구글', '아마존', '페이스북']\n",
      "('구글', '아마존', '페이스북')\n",
      "<class 'list'>\n",
      "<class 'tuple'>\n"
     ]
    }
   ],
   "source": [
    "DS = ()\n",
    "print(type(DS))\n",
    "t1 = (1,)\n",
    "print(type(t1))\n",
    "t = 1,2,3,4\n",
    "print(type(t))\n",
    "wish = ('구글', '아마존', '페이스북')\n",
    "wish = list(wish)\n",
    "print(wish)\n",
    "\n",
    "wish1 = ['구글', '아마존', '페이스북']\n",
    "\n",
    "wish1 = tuple(wish1)\n",
    "print(wish1)\n",
    "print(type(wish))\n",
    "print(type(wish1))"
   ]
  },
  {
   "cell_type": "code",
   "execution_count": 67,
   "id": "4161c905",
   "metadata": {},
   "outputs": [
    {
     "name": "stdout",
     "output_type": "stream",
     "text": [
      "('a', 'b', 'c')\n"
     ]
    }
   ],
   "source": [
    "x = ('A', 'b', 'c')\n",
    "x = list(x)\n",
    "x[0] = 'a'\n",
    "x = tuple(x)\n",
    "print(x)"
   ]
  },
  {
   "cell_type": "code",
   "execution_count": 50,
   "id": "c79b3429",
   "metadata": {},
   "outputs": [
    {
     "name": "stdout",
     "output_type": "stream",
     "text": [
      "6\n",
      "<class 'int'>\n"
     ]
    }
   ],
   "source": [
    "my_data = (1,2,3)\n",
    "a,b,c = my_data\n",
    "print(a + b +c)"
   ]
  },
  {
   "cell_type": "code",
   "execution_count": 70,
   "id": "33dc6435",
   "metadata": {},
   "outputs": [
    {
     "data": {
      "text/plain": [
       "(4, 2, 1, 8, 9)"
      ]
     },
     "execution_count": 70,
     "metadata": {},
     "output_type": "execute_result"
    }
   ],
   "source": [
    "(4,2,1,8,)+(9,)"
   ]
  },
  {
   "cell_type": "code",
   "execution_count": 90,
   "id": "1cc20c13",
   "metadata": {},
   "outputs": [
    {
     "name": "stdout",
     "output_type": "stream",
     "text": [
      "female\n",
      "30\n"
     ]
    }
   ],
   "source": [
    "dict_mina = {'sex': 'female', 'age': '30', 'name': 'mina'}\n",
    "type(dict_mina)\n",
    "print(dict_mina['sex'])\n",
    "print(dict_mina['age'])"
   ]
  },
  {
   "cell_type": "code",
   "execution_count": 106,
   "id": "d056f229",
   "metadata": {},
   "outputs": [
    {
     "name": "stdout",
     "output_type": "stream",
     "text": [
      "<class 'dict'>\n",
      "<class 'dict'>\n",
      "<class 'dict'>\n",
      "<class 'dict'>\n"
     ]
    }
   ],
   "source": [
    "print(type({1:'good'}))\n",
    "print(type({'a':[1,3,5]}))\n",
    "print(type({'a':(1,3,5)}))\n",
    "print(type({(1,3,5):'a'}))"
   ]
  },
  {
   "cell_type": "code",
   "execution_count": 107,
   "id": "ed66a4a5",
   "metadata": {},
   "outputs": [
    {
     "ename": "TypeError",
     "evalue": "unhashable type: 'list'",
     "output_type": "error",
     "traceback": [
      "\u001b[0;31m---------------------------------------------------------------------------\u001b[0m",
      "\u001b[0;31mTypeError\u001b[0m                                 Traceback (most recent call last)",
      "Input \u001b[0;32mIn [107]\u001b[0m, in \u001b[0;36m<cell line: 1>\u001b[0;34m()\u001b[0m\n\u001b[0;32m----> 1\u001b[0m \u001b[38;5;28mprint\u001b[39m(\u001b[38;5;28mtype\u001b[39m({[\u001b[38;5;241m1\u001b[39m,\u001b[38;5;241m3\u001b[39m,\u001b[38;5;241m4\u001b[39m]:\u001b[38;5;124m'\u001b[39m\u001b[38;5;124ma\u001b[39m\u001b[38;5;124m'\u001b[39m}))\n",
      "\u001b[0;31mTypeError\u001b[0m: unhashable type: 'list'"
     ]
    }
   ],
   "source": [
    "print(type({[1,3,4]:'a'}))"
   ]
  },
  {
   "cell_type": "code",
   "execution_count": 112,
   "id": "0a807737",
   "metadata": {},
   "outputs": [
    {
     "data": {
      "text/plain": [
       "dict"
      ]
     },
     "execution_count": 112,
     "metadata": {},
     "output_type": "execute_result"
    }
   ],
   "source": [
    "lsw = {'name' : 'seung won Lee', 'grade' : 'senior', 'class' : '1'}"
   ]
  },
  {
   "cell_type": "code",
   "execution_count": 115,
   "id": "be6fbc05",
   "metadata": {},
   "outputs": [
    {
     "name": "stdout",
     "output_type": "stream",
     "text": [
      "{'name': 'seung won Lee', 'grade': 'senior', 'class': '1'}\n",
      "seung won Lee\n",
      "senior\n",
      "1\n"
     ]
    }
   ],
   "source": [
    "print(lsw)\n",
    "print(lsw['name'])\n",
    "print(lsw['grade'])\n",
    "print(lsw['class'])"
   ]
  },
  {
   "cell_type": "code",
   "execution_count": 117,
   "id": "4f9ba755",
   "metadata": {},
   "outputs": [
    {
     "name": "stdout",
     "output_type": "stream",
     "text": [
      "{'name': 'seung won Lee', 'class': '1'}\n"
     ]
    }
   ],
   "source": [
    "lsw.pop('grade')\n",
    "print(lsw)"
   ]
  },
  {
   "cell_type": "code",
   "execution_count": 120,
   "id": "269aefc5",
   "metadata": {},
   "outputs": [
    {
     "name": "stdout",
     "output_type": "stream",
     "text": [
      "{'name': 'seung won Lee', 'class': '1', 'sex': 'male'}\n",
      "{'name': 'seung won Lee', 'class': '1', 'sex': 'male', 'PN': '01012345678'}\n"
     ]
    }
   ],
   "source": [
    "lsw['sex'] = 'male'\n",
    "print(lsw)\n",
    "lsw['PN'] = '01012345678'\n",
    "print(lsw)"
   ]
  },
  {
   "cell_type": "code",
   "execution_count": 121,
   "id": "a0f54ab6",
   "metadata": {},
   "outputs": [
    {
     "name": "stdout",
     "output_type": "stream",
     "text": [
      "{'name': 'seung won Lee', 'class': '1', 'PN': '01012345678'}\n"
     ]
    }
   ],
   "source": [
    "del lsw['sex']\n",
    "print(lsw)"
   ]
  },
  {
   "cell_type": "code",
   "execution_count": 134,
   "id": "f35c0e47",
   "metadata": {},
   "outputs": [
    {
     "data": {
      "text/plain": [
       "'83'"
      ]
     },
     "execution_count": 134,
     "metadata": {},
     "output_type": "execute_result"
    }
   ],
   "source": [
    "score = {'a' : '99', 'b' : '91', 'c': '83', 'd' : '100'}\n",
    "score['c']"
   ]
  },
  {
   "cell_type": "code",
   "execution_count": 135,
   "id": "e2c72568",
   "metadata": {},
   "outputs": [
    {
     "name": "stdout",
     "output_type": "stream",
     "text": [
      "{'name': ['a', 'b', 'c']}\n"
     ]
    }
   ],
   "source": [
    "name = {'name' : ['a', 'b', 'c']}\n"
   ]
  },
  {
   "cell_type": "code",
   "execution_count": 158,
   "id": "789319f9",
   "metadata": {},
   "outputs": [
    {
     "data": {
      "text/plain": [
       "dict_keys(['gender', 'age', 'name'])"
      ]
     },
     "execution_count": 158,
     "metadata": {},
     "output_type": "execute_result"
    }
   ],
   "source": [
    "a = {'gender':'Female','age':'30','name':'Kristina'}\n",
    "a.keys()"
   ]
  },
  {
   "cell_type": "code",
   "execution_count": 160,
   "id": "152b5392",
   "metadata": {},
   "outputs": [
    {
     "data": {
      "text/plain": [
       "['gender', 'age', 'name']"
      ]
     },
     "execution_count": 160,
     "metadata": {},
     "output_type": "execute_result"
    }
   ],
   "source": [
    "list(a.keys())"
   ]
  },
  {
   "cell_type": "code",
   "execution_count": 138,
   "id": "88e51dc5",
   "metadata": {},
   "outputs": [
    {
     "data": {
      "text/plain": [
       "dict_values(['Female', '30', 'Kristina'])"
      ]
     },
     "execution_count": 138,
     "metadata": {},
     "output_type": "execute_result"
    }
   ],
   "source": [
    "a.values()"
   ]
  },
  {
   "cell_type": "code",
   "execution_count": 162,
   "id": "ff9babe8",
   "metadata": {},
   "outputs": [
    {
     "data": {
      "text/plain": [
       "dict_items([('gender', 'Female'), ('age', '30'), ('name', 'Kristina')])"
      ]
     },
     "execution_count": 162,
     "metadata": {},
     "output_type": "execute_result"
    }
   ],
   "source": [
    "a.items()"
   ]
  },
  {
   "cell_type": "code",
   "execution_count": 163,
   "id": "4f2a2792",
   "metadata": {},
   "outputs": [
    {
     "ename": "TypeError",
     "evalue": "get expected at least 1 argument, got 0",
     "output_type": "error",
     "traceback": [
      "\u001b[0;31m---------------------------------------------------------------------------\u001b[0m",
      "\u001b[0;31mTypeError\u001b[0m                                 Traceback (most recent call last)",
      "Input \u001b[0;32mIn [163]\u001b[0m, in \u001b[0;36m<cell line: 1>\u001b[0;34m()\u001b[0m\n\u001b[0;32m----> 1\u001b[0m \u001b[38;5;28mtype\u001b[39m(\u001b[43ma\u001b[49m\u001b[38;5;241;43m.\u001b[39;49m\u001b[43mget\u001b[49m\u001b[43m(\u001b[49m\u001b[43m)\u001b[49m)\n",
      "\u001b[0;31mTypeError\u001b[0m: get expected at least 1 argument, got 0"
     ]
    }
   ],
   "source": []
  },
  {
   "cell_type": "code",
   "execution_count": 140,
   "id": "421bc34f",
   "metadata": {},
   "outputs": [
    {
     "name": "stdout",
     "output_type": "stream",
     "text": [
      "{}\n"
     ]
    }
   ],
   "source": [
    "a.clear()\n",
    "print(a)"
   ]
  },
  {
   "cell_type": "code",
   "execution_count": 8,
   "id": "89e53a8a",
   "metadata": {},
   "outputs": [
    {
     "data": {
      "text/plain": [
       "'Female'"
      ]
     },
     "execution_count": 8,
     "metadata": {},
     "output_type": "execute_result"
    }
   ],
   "source": [
    "a = {'gender':'Female','age':30,'name':'Kristina'}\n",
    "a.get('gender')"
   ]
  },
  {
   "cell_type": "code",
   "execution_count": 9,
   "id": "ca31b85c",
   "metadata": {},
   "outputs": [],
   "source": [
    "a['height'] = '170'"
   ]
  },
  {
   "cell_type": "code",
   "execution_count": 10,
   "id": "3a9141b4",
   "metadata": {},
   "outputs": [
    {
     "data": {
      "text/plain": [
       "'Female'"
      ]
     },
     "execution_count": 10,
     "metadata": {},
     "output_type": "execute_result"
    }
   ],
   "source": [
    "a['gender']"
   ]
  },
  {
   "cell_type": "code",
   "execution_count": 11,
   "id": "408f7b7f",
   "metadata": {},
   "outputs": [
    {
     "data": {
      "text/plain": [
       "'170'"
      ]
     },
     "execution_count": 11,
     "metadata": {},
     "output_type": "execute_result"
    }
   ],
   "source": [
    "a.get('height')"
   ]
  },
  {
   "cell_type": "code",
   "execution_count": 12,
   "id": "c990c4bc",
   "metadata": {},
   "outputs": [
    {
     "data": {
      "text/plain": [
       "'170'"
      ]
     },
     "execution_count": 12,
     "metadata": {},
     "output_type": "execute_result"
    }
   ],
   "source": [
    "a.get('height','데이터 없음')"
   ]
  },
  {
   "cell_type": "code",
   "execution_count": 145,
   "id": "ea4b7784",
   "metadata": {},
   "outputs": [
    {
     "data": {
      "text/plain": [
       "True"
      ]
     },
     "execution_count": 145,
     "metadata": {},
     "output_type": "execute_result"
    }
   ],
   "source": [
    "'gender' in a"
   ]
  },
  {
   "cell_type": "code",
   "execution_count": 146,
   "id": "5dd1e1b2",
   "metadata": {},
   "outputs": [
    {
     "data": {
      "text/plain": [
       "False"
      ]
     },
     "execution_count": 146,
     "metadata": {},
     "output_type": "execute_result"
    }
   ],
   "source": [
    "'height' in a"
   ]
  },
  {
   "cell_type": "code",
   "execution_count": 3,
   "id": "b343d679",
   "metadata": {},
   "outputs": [
    {
     "ename": "NameError",
     "evalue": "name 'a' is not defined",
     "output_type": "error",
     "traceback": [
      "\u001b[0;31m---------------------------------------------------------------------------\u001b[0m",
      "\u001b[0;31mNameError\u001b[0m                                 Traceback (most recent call last)",
      "Input \u001b[0;32mIn [3]\u001b[0m, in \u001b[0;36m<cell line: 1>\u001b[0;34m()\u001b[0m\n\u001b[0;32m----> 1\u001b[0m \u001b[43ma\u001b[49m[\u001b[38;5;124m'\u001b[39m\u001b[38;5;124mheight\u001b[39m\u001b[38;5;124m'\u001b[39m] \u001b[38;5;241m=\u001b[39m \u001b[38;5;124m'\u001b[39m\u001b[38;5;124m170\u001b[39m\u001b[38;5;124m'\u001b[39m\n",
      "\u001b[0;31mNameError\u001b[0m: name 'a' is not defined"
     ]
    }
   ],
   "source": [
    "a['height'] = '170'"
   ]
  },
  {
   "cell_type": "code",
   "execution_count": 4,
   "id": "b9dddd73",
   "metadata": {},
   "outputs": [
    {
     "ename": "NameError",
     "evalue": "name 'a' is not defined",
     "output_type": "error",
     "traceback": [
      "\u001b[0;31m---------------------------------------------------------------------------\u001b[0m",
      "\u001b[0;31mNameError\u001b[0m                                 Traceback (most recent call last)",
      "Input \u001b[0;32mIn [4]\u001b[0m, in \u001b[0;36m<cell line: 1>\u001b[0;34m()\u001b[0m\n\u001b[0;32m----> 1\u001b[0m \u001b[38;5;124m'\u001b[39m\u001b[38;5;124mheight\u001b[39m\u001b[38;5;124m'\u001b[39m \u001b[38;5;129;01min\u001b[39;00m \u001b[43ma\u001b[49m\n",
      "\u001b[0;31mNameError\u001b[0m: name 'a' is not defined"
     ]
    }
   ],
   "source": [
    "'height' in a"
   ]
  },
  {
   "cell_type": "code",
   "execution_count": 172,
   "id": "5542cc32",
   "metadata": {},
   "outputs": [
    {
     "data": {
      "text/plain": [
       "dict_items([('gender', 'Female'), ('age', 30), ('name', 'Kristina')])"
      ]
     },
     "execution_count": 172,
     "metadata": {},
     "output_type": "execute_result"
    }
   ],
   "source": [
    "a.items()"
   ]
  },
  {
   "cell_type": "code",
   "execution_count": 200,
   "id": "1a30054d",
   "metadata": {},
   "outputs": [
    {
     "data": {
      "text/plain": [
       "set"
      ]
     },
     "execution_count": 200,
     "metadata": {},
     "output_type": "execute_result"
    }
   ],
   "source": [
    "s = {1}\n",
    "type(s)"
   ]
  },
  {
   "cell_type": "code",
   "execution_count": 204,
   "id": "841d5eae",
   "metadata": {},
   "outputs": [
    {
     "data": {
      "text/plain": [
       "set"
      ]
     },
     "execution_count": 204,
     "metadata": {},
     "output_type": "execute_result"
    }
   ],
   "source": [
    "s1 = {()}\n",
    "type(s1)"
   ]
  },
  {
   "cell_type": "code",
   "execution_count": 206,
   "id": "ced29c0a",
   "metadata": {},
   "outputs": [
    {
     "name": "stdout",
     "output_type": "stream",
     "text": [
      "set()\n",
      "<class 'set'>\n"
     ]
    }
   ],
   "source": [
    "s2 = set()\n",
    "print(s2)\n",
    "print(type(s2))"
   ]
  },
  {
   "cell_type": "code",
   "execution_count": 208,
   "id": "14106aab",
   "metadata": {},
   "outputs": [
    {
     "name": "stdout",
     "output_type": "stream",
     "text": [
      "{'d', 'b', 'a', 'f', 'e', 'c'}\n"
     ]
    }
   ],
   "source": [
    "sc = set('abcdef')\n",
    "print(sc)"
   ]
  },
  {
   "cell_type": "code",
   "execution_count": 193,
   "id": "1c7ef8e7",
   "metadata": {},
   "outputs": [
    {
     "data": {
      "text/plain": [
       "set"
      ]
     },
     "execution_count": 193,
     "metadata": {},
     "output_type": "execute_result"
    }
   ],
   "source": [
    "type(sc)"
   ]
  },
  {
   "cell_type": "code",
   "execution_count": 212,
   "id": "2c46ad74",
   "metadata": {},
   "outputs": [
    {
     "data": {
      "text/plain": [
       "['d', 'b', 'a', 'f', 'e', 'c']"
      ]
     },
     "execution_count": 212,
     "metadata": {},
     "output_type": "execute_result"
    }
   ],
   "source": [
    "list(sc)"
   ]
  },
  {
   "cell_type": "code",
   "execution_count": 222,
   "id": "8d14c96a",
   "metadata": {},
   "outputs": [
    {
     "name": "stdout",
     "output_type": "stream",
     "text": [
      "{3, 4, 5}\n",
      "{3, 4, 5}\n"
     ]
    }
   ],
   "source": [
    "x = {1,2,3,4,5}\n",
    "y = {3,4,5,6,7}\n",
    "print(x&y) #xy의 교집합\n",
    "print(x.intersection(y))"
   ]
  },
  {
   "cell_type": "code",
   "execution_count": 223,
   "id": "a6cce6e5",
   "metadata": {},
   "outputs": [
    {
     "name": "stdout",
     "output_type": "stream",
     "text": [
      "{1, 2, 3, 4, 5, 6, 7}\n"
     ]
    }
   ],
   "source": [
    "x|y #xy 합집합\n",
    "print(x.union(y))"
   ]
  },
  {
   "cell_type": "code",
   "execution_count": 225,
   "id": "55de2280",
   "metadata": {},
   "outputs": [
    {
     "name": "stdout",
     "output_type": "stream",
     "text": [
      "{1, 2}\n",
      "{1, 2}\n",
      "{6, 7}\n"
     ]
    }
   ],
   "source": [
    "print(x-y) #x차집합\n",
    "print(x.difference(y))\n",
    "print(y.difference(x))"
   ]
  },
  {
   "cell_type": "code",
   "execution_count": 217,
   "id": "f25fff6b",
   "metadata": {},
   "outputs": [
    {
     "data": {
      "text/plain": [
       "{6, 7}"
      ]
     },
     "execution_count": 217,
     "metadata": {},
     "output_type": "execute_result"
    }
   ],
   "source": [
    "y-x #y 차집합"
   ]
  },
  {
   "cell_type": "code",
   "execution_count": 218,
   "id": "c2579993",
   "metadata": {},
   "outputs": [
    {
     "data": {
      "text/plain": [
       "{1, 2, 6, 7}"
      ]
     },
     "execution_count": 218,
     "metadata": {},
     "output_type": "execute_result"
    }
   ],
   "source": [
    "x^y #x차집합, y차집합 의 합"
   ]
  },
  {
   "cell_type": "code",
   "execution_count": 238,
   "id": "ebffb1d1",
   "metadata": {},
   "outputs": [
    {
     "name": "stdout",
     "output_type": "stream",
     "text": [
      "{1, 2, 3, 4, 5, 10, 11, 12}\n"
     ]
    }
   ],
   "source": [
    "x.add(10)\n",
    "print(x)"
   ]
  },
  {
   "cell_type": "code",
   "execution_count": 248,
   "id": "84127e04",
   "metadata": {},
   "outputs": [
    {
     "name": "stdout",
     "output_type": "stream",
     "text": [
      "{13, 11, 12}\n"
     ]
    }
   ],
   "source": [
    "x.update([11,12,13])\n",
    "print(x)"
   ]
  },
  {
   "cell_type": "code",
   "execution_count": 249,
   "id": "b1d891b6",
   "metadata": {},
   "outputs": [
    {
     "name": "stdout",
     "output_type": "stream",
     "text": [
      "{11, 12}\n"
     ]
    }
   ],
   "source": [
    "x.pop()\n",
    "print(x)"
   ]
  },
  {
   "cell_type": "code",
   "execution_count": 302,
   "id": "0e6636fc",
   "metadata": {},
   "outputs": [
    {
     "name": "stdout",
     "output_type": "stream",
     "text": [
      "{'메로나': 1000, '폴라포': 1200, '빵빠레': 1800, '죠스바': 1200, '월드콘': 1500, '우유': 1000}\n"
     ]
    }
   ],
   "source": [
    "ds = {'메로나':1000, '폴라포':1200, '빵빠레':1800}\n",
    "ds.update({'죠스바':1200,'월드콘':1500})\n",
    "ds['우유'] = 1000 \n",
    "print(ds)"
   ]
  },
  {
   "cell_type": "code",
   "execution_count": 306,
   "id": "a0d27de5",
   "metadata": {},
   "outputs": [
    {
     "name": "stdout",
     "output_type": "stream",
     "text": [
      "메로나 가격 : 1000\n"
     ]
    }
   ],
   "source": [
    "print('%s' %'메로나 가격 :' , ds['메로나'])"
   ]
  },
  {
   "cell_type": "code",
   "execution_count": 260,
   "id": "6088cb73",
   "metadata": {},
   "outputs": [
    {
     "name": "stdout",
     "output_type": "stream",
     "text": [
      "{'메로나': 1200, '폴라포': 1200, '빵빠레': 1800, '죠스바': 1200, '월드콘': 1500}\n"
     ]
    }
   ],
   "source": [
    "ds['메로나'] = 1200\n",
    "print(ds)"
   ]
  },
  {
   "cell_type": "code",
   "execution_count": 262,
   "id": "d19705d1",
   "metadata": {},
   "outputs": [
    {
     "name": "stdout",
     "output_type": "stream",
     "text": [
      "{'폴라포': 1200, '빵빠레': 1800, '죠스바': 1200, '월드콘': 1500}\n"
     ]
    }
   ],
   "source": [
    "del ds['메로나']\n",
    "print(ds)"
   ]
  },
  {
   "cell_type": "code",
   "execution_count": 267,
   "id": "50beccb1",
   "metadata": {},
   "outputs": [],
   "source": [
    "ic = {'메로나':[300, 20], '비비빅':[400, 3], '죠스바':[250, 100]}"
   ]
  },
  {
   "cell_type": "code",
   "execution_count": 307,
   "id": "9ca0cd23",
   "metadata": {},
   "outputs": [
    {
     "name": "stdout",
     "output_type": "stream",
     "text": [
      "{'이름': ['가격', '재고'], '메로나': [300, 20], '비비빅': [400, 3], '죠스바': [250, 100]}\n"
     ]
    }
   ],
   "source": [
    "ic1 = {'이름' : ['가격', '재고'], '메로나' : [300 , 20], '비비빅' : [400, 3], '죠스바' : [250, 100]}\n",
    "print(ic1)"
   ]
  },
  {
   "cell_type": "code",
   "execution_count": 312,
   "id": "929594af",
   "metadata": {},
   "outputs": [
    {
     "name": "stdout",
     "output_type": "stream",
     "text": [
      "300 원\n",
      "20 원\n"
     ]
    }
   ],
   "source": [
    "print(ic1['메로나'][0],'원')\n",
    "print(ic1['메로나'][1],'원')"
   ]
  },
  {
   "cell_type": "code",
   "execution_count": 313,
   "id": "b3ecad2c",
   "metadata": {},
   "outputs": [
    {
     "name": "stdout",
     "output_type": "stream",
     "text": [
      "{'이름': ['가격', '재고'], '메로나': [300, 20], '비비빅': [400, 3], '죠스바': [250, 100], '월드콘': [500, 7]}\n"
     ]
    }
   ],
   "source": [
    "ic1['월드콘'] = [500, 7]\n",
    "print(ic1)"
   ]
  },
  {
   "cell_type": "code",
   "execution_count": 351,
   "id": "881c4342",
   "metadata": {},
   "outputs": [
    {
     "name": "stdout",
     "output_type": "stream",
     "text": [
      "7\n",
      "3\n",
      "10\n",
      "25\n",
      "1.4142135623730951\n",
      "2.5\n",
      "2\n",
      "1\n",
      "-3\n"
     ]
    }
   ],
   "source": [
    "x1, x2, x3 = 2, 5, 9\n",
    "\n",
    "print(x1 + x2)\n",
    "print(x2 - x1)\n",
    "print(x1 * x2)\n",
    "print(x2**2)\n",
    "print(x1**0.5)\n",
    "print(x2 / x1)\n",
    "print(x2//x1)\n",
    "print(x2%x1)\n",
    "print(x1 - x2)"
   ]
  },
  {
   "cell_type": "code",
   "execution_count": 352,
   "id": "ba4c2da8",
   "metadata": {},
   "outputs": [
    {
     "name": "stdout",
     "output_type": "stream",
     "text": [
      "25\n",
      "15\n",
      "30\n",
      "10.0\n"
     ]
    }
   ],
   "source": [
    "a = 20\n",
    "a += 5\n",
    "print(a)\n",
    "a -= 10\n",
    "print(a)\n",
    "a *= 2\n",
    "print(a)\n",
    "a /= 3\n",
    "print(a)\n"
   ]
  },
  {
   "cell_type": "code",
   "execution_count": 353,
   "id": "dc8928e9",
   "metadata": {},
   "outputs": [
    {
     "name": "stdout",
     "output_type": "stream",
     "text": [
      "12\n",
      "-36\n"
     ]
    }
   ],
   "source": [
    "c = 3\n",
    "b = 2\n",
    "c *= (2+b)\n",
    "print(c)\n",
    "c *= (b-5)\n",
    "print(c)"
   ]
  },
  {
   "cell_type": "code",
   "execution_count": 373,
   "id": "85845be5",
   "metadata": {},
   "outputs": [
    {
     "name": "stdout",
     "output_type": "stream",
     "text": [
      "1 False\n",
      "2 True\n",
      "3 True\n",
      "4 False\n",
      "5 False\n",
      "6 True\n",
      "7 True\n",
      "8 True\n",
      "False\n",
      "False\n"
     ]
    }
   ],
   "source": [
    "a = 95\n",
    "print('1',a==90)\n",
    "print('2',a!=90)\n",
    "print('3',a>90)\n",
    "print('4',a<90)\n",
    "print('5',a<=90)\n",
    "print('6',a>=90)\n",
    "print('7',a>=90 and a<=100)\n",
    "print('8', 100>=a>=90)\n",
    "print(110>=a>=100)\n",
    "print(70>=a>=80)"
   ]
  },
  {
   "cell_type": "code",
   "execution_count": 391,
   "id": "276b77ba",
   "metadata": {},
   "outputs": [
    {
     "name": "stdout",
     "output_type": "stream",
     "text": [
      "True\n",
      "False\n",
      "False\n",
      "140644532354560\n",
      "140644525742976\n",
      "[1, 2, 'hello world', 'A']\n",
      "140644532354560\n",
      "False\n"
     ]
    }
   ],
   "source": [
    "a = [1,2,'hello world']\n",
    "b = [1,2,'hello world']\n",
    "print(a==b)\n",
    "print(a!=b)\n",
    "print(id(a)==id(b))\n",
    "print(id(a))\n",
    "print(id(b))\n",
    "a.append('A')\n",
    "print(a)\n",
    "print(id(a))\n",
    "print(a==b)"
   ]
  },
  {
   "cell_type": "code",
   "execution_count": 390,
   "id": "83531958",
   "metadata": {},
   "outputs": [
    {
     "name": "stdout",
     "output_type": "stream",
     "text": [
      "False\n",
      "True\n"
     ]
    }
   ],
   "source": [
    "print(a is b) # id(a)==id(b)\n",
    "print(a is not b) # id(a)!=id(b)"
   ]
  },
  {
   "cell_type": "code",
   "execution_count": 398,
   "id": "136868f9",
   "metadata": {},
   "outputs": [
    {
     "name": "stdout",
     "output_type": "stream",
     "text": [
      "True\n",
      "True\n"
     ]
    }
   ],
   "source": [
    "member = [1,2,'Hello World']\n",
    "print(2 in member)\n",
    "member.remove(2)\n",
    "print(2 not in member)"
   ]
  },
  {
   "cell_type": "code",
   "execution_count": 401,
   "id": "c5ab59ed",
   "metadata": {},
   "outputs": [
    {
     "data": {
      "text/plain": [
       "True"
      ]
     },
     "execution_count": 401,
     "metadata": {},
     "output_type": "execute_result"
    }
   ],
   "source": [
    "member_dict = {'a':1, 'b':2, 'c':3}\n",
    "'a' in member_dict"
   ]
  },
  {
   "cell_type": "code",
   "execution_count": 402,
   "id": "ff9ed17d",
   "metadata": {},
   "outputs": [
    {
     "data": {
      "text/plain": [
       "False"
      ]
     },
     "execution_count": 402,
     "metadata": {},
     "output_type": "execute_result"
    }
   ],
   "source": [
    "member_dict = {'a':1, 'b':2, 'c':3}\n",
    "1 in member_dict"
   ]
  },
  {
   "cell_type": "code",
   "execution_count": 413,
   "id": "71b9dc8e",
   "metadata": {},
   "outputs": [
    {
     "name": "stdout",
     "output_type": "stream",
     "text": [
      "False\n",
      "True\n",
      "False\n",
      "True\n",
      "True\n",
      "False\n"
     ]
    }
   ],
   "source": [
    "a = True\n",
    "b = False\n",
    "print(a and b)\n",
    "print(a or b)\n",
    "print(not a)\n",
    "print(not b)\n",
    "print(not (a and b))\n",
    "print(not (a or b))"
   ]
  },
  {
   "cell_type": "code",
   "execution_count": 416,
   "id": "d3913f75",
   "metadata": {},
   "outputs": [
    {
     "name": "stdout",
     "output_type": "stream",
     "text": [
      "홍길동 30 173.7\n"
     ]
    }
   ],
   "source": [
    "name = '홍길동'\n",
    "age = 30\n",
    "height = 173.7\n",
    "\n",
    "print(name,    age,    height)"
   ]
  },
  {
   "cell_type": "code",
   "execution_count": 424,
   "id": "2a12f886",
   "metadata": {},
   "outputs": [
    {
     "name": "stdout",
     "output_type": "stream",
     "text": [
      "x=10,y=20\n"
     ]
    }
   ],
   "source": [
    "x = 10\n",
    "y = 20\n",
    "print('x=' + str(x) + \",\" + 'y=' + str(y))"
   ]
  },
  {
   "cell_type": "code",
   "execution_count": 437,
   "id": "56e381c7",
   "metadata": {},
   "outputs": [
    {
     "data": {
      "text/plain": [
       "<function sum(iterable, /, start=0)>"
      ]
     },
     "execution_count": 437,
     "metadata": {},
     "output_type": "execute_result"
    }
   ],
   "source": []
  },
  {
   "cell_type": "code",
   "execution_count": 436,
   "id": "a1908d61",
   "metadata": {},
   "outputs": [
    {
     "data": {
      "text/plain": [
       "<function sum(iterable, /, start=0)>"
      ]
     },
     "execution_count": 436,
     "metadata": {},
     "output_type": "execute_result"
    }
   ],
   "source": []
  },
  {
   "cell_type": "code",
   "execution_count": 432,
   "id": "3282c448",
   "metadata": {},
   "outputs": [
    {
     "name": "stdout",
     "output_type": "stream",
     "text": [
      "두 과목 점수 : 80, 87\n",
      "합계 : 167, 평균 : 83.5\n"
     ]
    }
   ],
   "source": [
    "score1 = 80\n",
    "score2 = 87\n",
    "\n",
    "sum_12 = score1 + score2\n",
    "avg_12 = sum_12/2\n",
    "\n",
    "print(\"두 과목 점수 : \"+str(score1)+\", \"+str(score2))\n",
    "print(\"합계 : \" + str(sum_12)+', '+'평균 : '+str(avg_12))"
   ]
  },
  {
   "cell_type": "code",
   "execution_count": 438,
   "id": "56694bed",
   "metadata": {},
   "outputs": [
    {
     "name": "stdout",
     "output_type": "stream",
     "text": [
      "두 과목 점수 : 80,87\n",
      "합계 : 167, 평균 : 83.50\n"
     ]
    }
   ],
   "source": [
    "score1 = 80\n",
    "score2 = 87\n",
    "\n",
    "sum_12 = score1 + score2\n",
    "avg_12 = sum_12/2\n",
    "\n",
    "print('두 과목 점수 : %d,%d' %(score1, score2))\n",
    "print('합계 : %d, 평균 : %.2f' %(sum_12, avg_12))"
   ]
  },
  {
   "cell_type": "code",
   "execution_count": 446,
   "id": "3d2270ef",
   "metadata": {},
   "outputs": [
    {
     "name": "stdout",
     "output_type": "stream",
     "text": [
      "2020/3/5\n"
     ]
    }
   ],
   "source": [
    "year = 2020\n",
    "month = 3\n",
    "day = 5\n",
    "\n",
    "print(year, month, day, sep='/')"
   ]
  },
  {
   "cell_type": "code",
   "execution_count": 479,
   "id": "1c4d848e",
   "metadata": {},
   "outputs": [
    {
     "name": "stdout",
     "output_type": "stream",
     "text": [
      "안녕하세요. 반갑습니다.\n",
      "안녕하세요.반갑습니다.\n"
     ]
    }
   ],
   "source": [
    "a = '안녕하세요.'\n",
    "b = '반갑습니다.'\n",
    "print(a, end=' ')\n",
    "print(b)\n",
    "print(a, end='')\n",
    "print(b)\n"
   ]
  },
  {
   "cell_type": "code",
   "execution_count": 499,
   "id": "790783c8",
   "metadata": {},
   "outputs": [
    {
     "name": "stdout",
     "output_type": "stream",
     "text": [
      "이름을 입력하세요:이승원\n",
      "이승원님 반갑습니다\n"
     ]
    }
   ],
   "source": [
    "name = input('이름을 입력하세요:')\n",
    "\n",
    "print(name,'님 반갑습니다', sep='')"
   ]
  },
  {
   "cell_type": "code",
   "execution_count": 500,
   "id": "b0cc792e",
   "metadata": {},
   "outputs": [
    {
     "name": "stdout",
     "output_type": "stream",
     "text": [
      "이름을 입력하세요:이승원\n",
      "이승원님 반갑습니다.\n"
     ]
    }
   ],
   "source": [
    "name = input('이름을 입력하세요:')\n",
    "\n",
    "print('%s님 반갑습니다.'%name)"
   ]
  },
  {
   "cell_type": "code",
   "execution_count": 506,
   "id": "3023c47e",
   "metadata": {
    "scrolled": true
   },
   "outputs": [
    {
     "name": "stdout",
     "output_type": "stream",
     "text": [
      "첫 번째 숫자를 입력하세요:10\n",
      "두 번째 숫자를 입력하세요:20\n",
      "30\n"
     ]
    }
   ],
   "source": [
    "n1 = input('첫 번째 숫자를 입력하세요:')\n",
    "n2 = input('두 번째 숫자를 입력하세요:')\n",
    "\n",
    "print(int(n1)+int(n2))"
   ]
  },
  {
   "cell_type": "code",
   "execution_count": 513,
   "id": "73e94ac7",
   "metadata": {},
   "outputs": [
    {
     "name": "stdout",
     "output_type": "stream",
     "text": [
      "인치(inch)를 입력하세요:32.8\n",
      "센티미터:83.31\n"
     ]
    }
   ],
   "source": [
    "a = input(\"인치(inch)를 입력하세요:\")\n",
    "print('센티미터:%.2f' %(float(a)*2.54))"
   ]
  },
  {
   "cell_type": "code",
   "execution_count": 514,
   "id": "e694c783",
   "metadata": {},
   "outputs": [
    {
     "name": "stdout",
     "output_type": "stream",
     "text": [
      "인치를 입력하세요:32.8\n",
      "센치미터는 83.31\n"
     ]
    }
   ],
   "source": [
    "inch = float(input('인치를 입력하세요:'))\n",
    "cm = inch *2.54\n",
    "print('센치미터는 %.2f' %cm)"
   ]
  },
  {
   "cell_type": "code",
   "execution_count": 517,
   "id": "8289c39d",
   "metadata": {},
   "outputs": [
    {
     "name": "stdout",
     "output_type": "stream",
     "text": [
      "\n",
      "프로그램명 : 두 수 더하기\n",
      "작성자 : 홍길동\n",
      "직성일 : 2022.9.1\n",
      "\n",
      "30\n"
     ]
    }
   ],
   "source": [
    "print(\"\"\"\n",
    "프로그램명 : 두 수 더하기\n",
    "작성자 : 홍길동\n",
    "직성일 : 2022.9.1\n",
    "\"\"\")\n",
    "\n",
    "a = 10 #변수 a에 10 저장\n",
    "b = 20 #변수 b에 20 저장\n",
    "c = a+b #변수 c에 a+b저장\n",
    "\n",
    "#결과물을 출력한다.\n",
    "print(c)"
   ]
  },
  {
   "cell_type": "code",
   "execution_count": 520,
   "id": "8472de48",
   "metadata": {},
   "outputs": [
    {
     "name": "stdout",
     "output_type": "stream",
     "text": [
      "삼각형 밑변의 길이:10\n",
      "삼각형 높이:3\n",
      "삼각형의 면적:15.0\n"
     ]
    }
   ],
   "source": [
    "width = float(input('삼각형 밑변의 길이:'))\n",
    "height = float(input('삼각형 높이:'))\n",
    "area = width*height/2\n",
    "print('삼각형의 면적:%.1f'%area)"
   ]
  },
  {
   "cell_type": "code",
   "execution_count": 525,
   "id": "743cf5aa",
   "metadata": {},
   "outputs": [
    {
     "name": "stdout",
     "output_type": "stream",
     "text": [
      "800\n",
      "3\n",
      "5000\n",
      "물건가격 : 800원\n",
      "구매개수 : 3개\n",
      "지불금액 : 5000원\n",
      "거스름돈 : 2600원\n"
     ]
    }
   ],
   "source": [
    "p = int(input())\n",
    "q = int(input())\n",
    "m = int(input())\n",
    "c = m - p * q\n",
    "\n",
    "\n",
    "print(\"물건가격 : %d원\"%p)\n",
    "print(\"구매개수 : %d개\"%q)\n",
    "print(\"지불금액 : %d원\"%m)\n",
    "print(\"거스름돈 : %d원\"%c)"
   ]
  },
  {
   "cell_type": "code",
   "execution_count": 523,
   "id": "ad2e009f",
   "metadata": {},
   "outputs": [
    {
     "name": "stdout",
     "output_type": "stream",
     "text": [
      "물건가격 : 800원\n",
      "구매개수 : 3개\n",
      "지불금액 : 5000원\n",
      "거스름돈 : 2600원\n"
     ]
    }
   ],
   "source": [
    "p = 800\n",
    "q = 3\n",
    "m = 5000\n",
    "c = m-p*q\n",
    "print(\"물건가격 : %d원\"%p)\n",
    "print(\"구매개수 : %d개\"%q)\n",
    "print(\"지불금액 : %d원\"%m)\n",
    "print(\"거스름돈 : %d원\"%c)"
   ]
  },
  {
   "cell_type": "code",
   "execution_count": 526,
   "id": "ee63de32",
   "metadata": {},
   "outputs": [
    {
     "name": "stdout",
     "output_type": "stream",
     "text": [
      "4\n",
      "4 -4\n"
     ]
    }
   ],
   "source": [
    "x=20\n",
    "y=4\n",
    "x=y%x\n",
    "print(x)\n",
    "y-=x*2\n",
    "print(x,y)"
   ]
  },
  {
   "cell_type": "code",
   "execution_count": null,
   "id": "14ad2bc5",
   "metadata": {},
   "outputs": [],
   "source": []
  }
 ],
 "metadata": {
  "kernelspec": {
   "display_name": "Python 3 (ipykernel)",
   "language": "python",
   "name": "python3"
  },
  "language_info": {
   "codemirror_mode": {
    "name": "ipython",
    "version": 3
   },
   "file_extension": ".py",
   "mimetype": "text/x-python",
   "name": "python",
   "nbconvert_exporter": "python",
   "pygments_lexer": "ipython3",
   "version": "3.9.12"
  }
 },
 "nbformat": 4,
 "nbformat_minor": 5
}
