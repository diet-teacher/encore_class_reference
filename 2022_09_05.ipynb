{
 "cells": [
  {
   "cell_type": "code",
   "execution_count": 1,
   "id": "e968d95d",
   "metadata": {},
   "outputs": [],
   "source": [
    "class Encore:\n",
    "    def __init__(self, name, age):\n",
    "        self.name = name\n",
    "        self.age = age"
   ]
  },
  {
   "cell_type": "code",
   "execution_count": 3,
   "id": "d0bc54dc",
   "metadata": {},
   "outputs": [],
   "source": [
    "mem1 = Encore('엔코아', 20)"
   ]
  },
  {
   "cell_type": "code",
   "execution_count": 4,
   "id": "5d4fac4a",
   "metadata": {},
   "outputs": [
    {
     "data": {
      "text/plain": [
       "20"
      ]
     },
     "execution_count": 4,
     "metadata": {},
     "output_type": "execute_result"
    }
   ],
   "source": [
    "mem1.age"
   ]
  },
  {
   "cell_type": "code",
   "execution_count": 5,
   "id": "08189174",
   "metadata": {},
   "outputs": [
    {
     "data": {
      "text/plain": [
       "'엔코아'"
      ]
     },
     "execution_count": 5,
     "metadata": {},
     "output_type": "execute_result"
    }
   ],
   "source": [
    "mem1.name"
   ]
  },
  {
   "cell_type": "code",
   "execution_count": 39,
   "id": "78f82967",
   "metadata": {},
   "outputs": [],
   "source": [
    "class Encore:\n",
    "    def __init__(self, name, age):\n",
    "        self.name = name\n",
    "        self.age = age\n",
    "        \n",
    "    def showMember(self):\n",
    "        print('이름 : %s' %self.name)\n",
    "        print('나이 : %d' %self.age)"
   ]
  },
  {
   "cell_type": "code",
   "execution_count": 40,
   "id": "82b0f13a",
   "metadata": {},
   "outputs": [],
   "source": [
    "mem2 = Encore('이승원', 32)"
   ]
  },
  {
   "cell_type": "code",
   "execution_count": 41,
   "id": "1ef7d99e",
   "metadata": {},
   "outputs": [
    {
     "name": "stdout",
     "output_type": "stream",
     "text": [
      "이름 : 이승원\n",
      "나이 : 32\n"
     ]
    }
   ],
   "source": [
    "mem2.showMember()"
   ]
  },
  {
   "cell_type": "code",
   "execution_count": 42,
   "id": "af9f4364",
   "metadata": {},
   "outputs": [],
   "source": [
    "mem3 = Encore('안지영', 20)"
   ]
  },
  {
   "cell_type": "code",
   "execution_count": 44,
   "id": "9dd14bf1",
   "metadata": {},
   "outputs": [
    {
     "name": "stdout",
     "output_type": "stream",
     "text": [
      "이름 : 안지영\n",
      "나이 : 20\n"
     ]
    }
   ],
   "source": [
    "mem3.showMember()"
   ]
  },
  {
   "cell_type": "code",
   "execution_count": 47,
   "id": "7a43db45",
   "metadata": {},
   "outputs": [],
   "source": [
    "members = [Encore('이승원', 32),\n",
    "          Encore('안지영', 20)]"
   ]
  },
  {
   "cell_type": "code",
   "execution_count": 46,
   "id": "d9238b47",
   "metadata": {},
   "outputs": [
    {
     "name": "stdout",
     "output_type": "stream",
     "text": [
      "이름 : 이승원\n",
      "나이 : 32\n"
     ]
    }
   ],
   "source": [
    "members[0].showMember()"
   ]
  },
  {
   "cell_type": "code",
   "execution_count": 48,
   "id": "0859a565",
   "metadata": {},
   "outputs": [
    {
     "name": "stdout",
     "output_type": "stream",
     "text": [
      "이름 : 이승원\n",
      "나이 : 32\n",
      "이름 : 안지영\n",
      "나이 : 20\n"
     ]
    }
   ],
   "source": [
    "for i in members:\n",
    "    i.showMember()"
   ]
  },
  {
   "cell_type": "code",
   "execution_count": 49,
   "id": "45d70467",
   "metadata": {},
   "outputs": [],
   "source": [
    "class Calculator:\n",
    "    \n",
    "    result = 0\n",
    "    \n",
    "    def __init__(self, num):\n",
    "        self.num = num\n",
    "    \n",
    "    def add(a):\n",
    "        global result\n",
    "        result += a\n",
    "        return result\n"
   ]
  },
  {
   "cell_type": "code",
   "execution_count": 50,
   "id": "a57f9f11",
   "metadata": {},
   "outputs": [
    {
     "ename": "TypeError",
     "evalue": "__init__() missing 1 required positional argument: 'num'",
     "output_type": "error",
     "traceback": [
      "\u001b[0;31m---------------------------------------------------------------------------\u001b[0m",
      "\u001b[0;31mTypeError\u001b[0m                                 Traceback (most recent call last)",
      "Input \u001b[0;32mIn [50]\u001b[0m, in \u001b[0;36m<cell line: 1>\u001b[0;34m()\u001b[0m\n\u001b[0;32m----> 1\u001b[0m cal1 \u001b[38;5;241m=\u001b[39m \u001b[43mCalculator\u001b[49m\u001b[43m(\u001b[49m\u001b[43m)\u001b[49m\n\u001b[1;32m      2\u001b[0m cal2 \u001b[38;5;241m=\u001b[39m Calculator()\n",
      "\u001b[0;31mTypeError\u001b[0m: __init__() missing 1 required positional argument: 'num'"
     ]
    }
   ],
   "source": [
    "cal1 = Calculator()\n",
    "cal2 = Calculator()"
   ]
  },
  {
   "cell_type": "code",
   "execution_count": 77,
   "id": "8fc621d3",
   "metadata": {},
   "outputs": [],
   "source": [
    "class Calculator:\n",
    "    result = 0\n",
    "    def add(self, number):\n",
    "        self.number = number\n",
    "\n",
    "    def inc(self):\n",
    "        global result\n",
    "        result += self\n",
    "        return result"
   ]
  },
  {
   "cell_type": "code",
   "execution_count": 78,
   "id": "726f45e7",
   "metadata": {},
   "outputs": [],
   "source": [
    "cal1 = Calculator()\n",
    "cal2 = Calculator()"
   ]
  },
  {
   "cell_type": "code",
   "execution_count": 79,
   "id": "00552559",
   "metadata": {},
   "outputs": [
    {
     "name": "stdout",
     "output_type": "stream",
     "text": [
      "None\n",
      "None\n",
      "None\n",
      "None\n"
     ]
    }
   ],
   "source": [
    "print(cal1.add(3))\n",
    "print(cal1.add(4))\n",
    "print(cal2.add(3))\n",
    "print(cal2.add(7))"
   ]
  },
  {
   "cell_type": "code",
   "execution_count": 84,
   "id": "fea7b798",
   "metadata": {},
   "outputs": [],
   "source": [
    "class Calculator:\n",
    "    \n",
    "    def __init__(self):\n",
    "        self.result = 0\n",
    "\n",
    "    def add(self, num):\n",
    "        self.result += num\n",
    "        return self.result"
   ]
  },
  {
   "cell_type": "code",
   "execution_count": 85,
   "id": "8f8c1804",
   "metadata": {},
   "outputs": [],
   "source": [
    "cal1 = Calculator()\n",
    "cal2 = Calculator()"
   ]
  },
  {
   "cell_type": "code",
   "execution_count": 86,
   "id": "11165d0e",
   "metadata": {},
   "outputs": [
    {
     "name": "stdout",
     "output_type": "stream",
     "text": [
      "3\n",
      "7\n",
      "3\n",
      "10\n"
     ]
    }
   ],
   "source": [
    "print(cal1.add(3)) #self.result = 0 > add +3 > self.result = 3\n",
    "print(cal1.add(4)) #self.result = 3 > add +4 > self.result = 7\n",
    "print(cal2.add(3)) #self.result = 0 > add +3 > self.result = 3\n",
    "print(cal2.add(7)) #self.result = 0 > add +7 > self.result = 10"
   ]
  },
  {
   "cell_type": "code",
   "execution_count": 88,
   "id": "64e05e39",
   "metadata": {},
   "outputs": [],
   "source": [
    "class Calculator:\n",
    "    result = 0\n",
    "#    def __init__(self):\n",
    "#        self.result = 0\n",
    "\n",
    "    def add(self, num):\n",
    "        Calculator.result += num\n",
    "        return Calculator.result"
   ]
  },
  {
   "cell_type": "code",
   "execution_count": 89,
   "id": "53d1cf10",
   "metadata": {},
   "outputs": [],
   "source": [
    "cal1 = Calculator()\n",
    "cal2 = Calculator()"
   ]
  },
  {
   "cell_type": "code",
   "execution_count": 90,
   "id": "ccd57fc4",
   "metadata": {},
   "outputs": [
    {
     "name": "stdout",
     "output_type": "stream",
     "text": [
      "3\n",
      "7\n",
      "10\n",
      "17\n"
     ]
    }
   ],
   "source": [
    "print(cal1.add(3)) #self.result = 0 > add +3 > self.result = 3\n",
    "print(cal1.add(4)) #self.result = 3 > add +4 > self.result = 7\n",
    "print(cal2.add(3)) #self.result = 7 > add +3 > self.result = 10\n",
    "print(cal2.add(7)) #self.result = 10 > add +7 > self.result = 17"
   ]
  },
  {
   "cell_type": "code",
   "execution_count": 95,
   "id": "ef2709f0",
   "metadata": {},
   "outputs": [],
   "source": [
    "class Calculator:\n",
    "    result = 0\n",
    "#    def __init__(self):\n",
    "#        self.result = 0\n",
    "\n",
    "    def add(self, num):\n",
    "        self.result += num\n",
    "        return self.result"
   ]
  },
  {
   "cell_type": "code",
   "execution_count": 96,
   "id": "f8c6719e",
   "metadata": {},
   "outputs": [],
   "source": [
    "cal1 = Calculator()\n",
    "cal2 = Calculator()"
   ]
  },
  {
   "cell_type": "code",
   "execution_count": 97,
   "id": "a6c33d43",
   "metadata": {},
   "outputs": [
    {
     "name": "stdout",
     "output_type": "stream",
     "text": [
      "3\n",
      "7\n",
      "3\n",
      "10\n"
     ]
    }
   ],
   "source": [
    "print(cal1.add(3)) #self.result = 0 > add +3 > self.result = 3\n",
    "print(cal1.add(4)) #self.result = 3 > add +4 > self.result = 7\n",
    "print(cal2.add(3)) #self.result = 0 > add +3 > self.result = 3\n",
    "print(cal2.add(7)) #self.result = 0 > add +7 > self.result = 10"
   ]
  },
  {
   "cell_type": "code",
   "execution_count": 105,
   "id": "e85feaeb",
   "metadata": {},
   "outputs": [
    {
     "name": "stdout",
     "output_type": "stream",
     "text": [
      "------------------------------\n",
      "func() 함수입니다.\n",
      "------------------------------ \n",
      "\n",
      "------------------------------\n",
      "func() 함수입니다.\n",
      "------------------------------ \n",
      "\n",
      "id of f1 :  4381498336\n",
      "id of f2 :  4381498336 \n",
      "\n",
      "id of p1 :  140321682235104\n",
      "id of p2 :  140322007465888 \n",
      "\n",
      "p1.name :  kim\n",
      "p2.name :  park\n",
      "------------------------------\n",
      "안녕하세요.\n",
      "id(self) :  140321682235104\n",
      "self.name :  kim\n",
      "------------------------------ \n",
      "\n",
      "------------------------------\n",
      "안녕하세요.\n",
      "id(self) :  140322007465888\n",
      "self.name :  park\n",
      "------------------------------ \n",
      "\n"
     ]
    }
   ],
   "source": [
    "def func():\n",
    "    print('-'*30)\n",
    "    print('func() 함수입니다.')\n",
    "    print('-'*30, '\\n')\n",
    "    \n",
    "f1 = func()\n",
    "f2 = func()\n",
    "print('id of f1 : ', id(f1))\n",
    "print('id of f2 : ', id(f2),'\\n')\n",
    "\n",
    "class Person:\n",
    "    def __init__(self):\n",
    "        self.name = ''\n",
    "        \n",
    "    \n",
    "    def say_hello(self):\n",
    "        print('-'*30)\n",
    "        print('안녕하세요.')\n",
    "        print('id(self) : ', id(self))\n",
    "        print('self.name : ', self.name)\n",
    "        print('-'*30, '\\n')\n",
    "p1 = Person()\n",
    "p2 = Person()\n",
    "print('id of p1 : ', id(p1))\n",
    "print('id of p2 : ', id(p2),'\\n')\n",
    "p1.name = 'kim'\n",
    "p2.name = 'park'\n",
    "print('p1.name : ', p1.name)\n",
    "print('p2.name : ', p2.name)\n",
    "p1.say_hello()\n",
    "p2.say_hello()"
   ]
  },
  {
   "cell_type": "code",
   "execution_count": 108,
   "id": "e671a87e",
   "metadata": {},
   "outputs": [],
   "source": [
    "class Person:    \n",
    "\n",
    "    def say_hello(self):\n",
    "        print('-'*30)\n",
    "        print('안녕하세요.')\n",
    "        print('id(self) : ', id(self))\n",
    "        print('self.name : ', self.name)\n",
    "        print('-'*30, '\\n')\n"
   ]
  },
  {
   "cell_type": "code",
   "execution_count": 109,
   "id": "86deb2bc",
   "metadata": {},
   "outputs": [
    {
     "name": "stdout",
     "output_type": "stream",
     "text": [
      "id of p1 :  140321682233760\n",
      "id of p2 :  140321682233904 \n",
      "\n"
     ]
    }
   ],
   "source": [
    "p1 = Person()\n",
    "p2 = Person()\n",
    "print('id of p1 : ', id(p1))\n",
    "print('id of p2 : ', id(p2),'\\n')\n"
   ]
  },
  {
   "cell_type": "code",
   "execution_count": 110,
   "id": "a8033afb",
   "metadata": {},
   "outputs": [
    {
     "name": "stdout",
     "output_type": "stream",
     "text": [
      "p1.name :  kim\n",
      "p2.name :  park\n",
      "------------------------------\n",
      "안녕하세요.\n",
      "id(self) :  140321682233760\n",
      "self.name :  kim\n",
      "------------------------------ \n",
      "\n",
      "------------------------------\n",
      "안녕하세요.\n",
      "id(self) :  140321682233904\n",
      "self.name :  park\n",
      "------------------------------ \n",
      "\n"
     ]
    }
   ],
   "source": [
    "p1.name = 'kim'\n",
    "p2.name = 'park'\n",
    "print('p1.name : ', p1.name)\n",
    "print('p2.name : ', p2.name)\n",
    "p1.say_hello()\n",
    "p2.say_hello()"
   ]
  },
  {
   "cell_type": "code",
   "execution_count": 145,
   "id": "b4930dda",
   "metadata": {},
   "outputs": [],
   "source": [
    "class Book:\n",
    "    def title(self):\n",
    "        name.book = name\n",
    "    def book_info_input(author):\n",
    "        self.author = author\n",
    "    def book_info_print():\n",
    "        print('%s/%s'%(name.book, self.author))"
   ]
  },
  {
   "cell_type": "code",
   "execution_count": 148,
   "id": "0c75af67",
   "metadata": {},
   "outputs": [
    {
     "name": "stdout",
     "output_type": "stream",
     "text": [
      "<bound method Book.book_info_input of <__main__.Book object at 0x7f9f43232070>>\n"
     ]
    }
   ],
   "source": []
  },
  {
   "cell_type": "code",
   "execution_count": 139,
   "id": "15bac302",
   "metadata": {},
   "outputs": [
    {
     "name": "stdout",
     "output_type": "stream",
     "text": [
      "b1.title :  메밀꽃 필 무렵\n",
      "b2.title :  마지막 잎새\n"
     ]
    },
    {
     "ename": "TypeError",
     "evalue": "book_info_input() missing 1 required positional argument: 'author'",
     "output_type": "error",
     "traceback": [
      "\u001b[0;31m---------------------------------------------------------------------------\u001b[0m",
      "\u001b[0;31mTypeError\u001b[0m                                 Traceback (most recent call last)",
      "Input \u001b[0;32mIn [139]\u001b[0m, in \u001b[0;36m<cell line: 7>\u001b[0;34m()\u001b[0m\n\u001b[1;32m      5\u001b[0m \u001b[38;5;28mprint\u001b[39m(\u001b[38;5;124m'\u001b[39m\u001b[38;5;124mb1.title : \u001b[39m\u001b[38;5;124m'\u001b[39m, b1\u001b[38;5;241m.\u001b[39mtitle)\n\u001b[1;32m      6\u001b[0m \u001b[38;5;28mprint\u001b[39m(\u001b[38;5;124m'\u001b[39m\u001b[38;5;124mb2.title : \u001b[39m\u001b[38;5;124m'\u001b[39m, b2\u001b[38;5;241m.\u001b[39mtitle)\n\u001b[0;32m----> 7\u001b[0m \u001b[38;5;28mprint\u001b[39m(\u001b[43mb1\u001b[49m\u001b[38;5;241;43m.\u001b[39;49m\u001b[43mbook_info_input\u001b[49m\u001b[43m(\u001b[49m\u001b[43m)\u001b[49m)\n\u001b[1;32m      8\u001b[0m b1\u001b[38;5;241m.\u001b[39mbook_info_input(\u001b[38;5;124m'\u001b[39m\u001b[38;5;124m이효석\u001b[39m\u001b[38;5;124m'\u001b[39m)\n\u001b[1;32m      9\u001b[0m b2\u001b[38;5;241m.\u001b[39mbook_info_input(\u001b[38;5;124m'\u001b[39m\u001b[38;5;124m오헨리\u001b[39m\u001b[38;5;124m'\u001b[39m)\n",
      "\u001b[0;31mTypeError\u001b[0m: book_info_input() missing 1 required positional argument: 'author'"
     ]
    }
   ],
   "source": [
    "b1 = Book()\n",
    "b2 = Book()\n",
    "b1.title = '메밀꽃 필 무렵'\n",
    "b2.title = '마지막 잎새'\n",
    "print('b1.title : ', b1.title)\n",
    "print('b2.title : ', b2.title)\n",
    "print(b1.book_info_input())\n",
    "b1.book_info_input('이효석')\n",
    "b2.book_info_input('오헨리')\n",
    "b1.book_info_print()\n",
    "b2.book_info_print()"
   ]
  },
  {
   "cell_type": "code",
   "execution_count": 149,
   "id": "b3e50bb9",
   "metadata": {},
   "outputs": [],
   "source": [
    "class Book:\n",
    "\n",
    "    def book_info_input(self, writer):\n",
    "        self.writer = writer\n",
    "    def book_info_print(self):\n",
    "        print(f'{self.title}/{self.writer}')"
   ]
  },
  {
   "cell_type": "code",
   "execution_count": 150,
   "id": "51fed685",
   "metadata": {},
   "outputs": [],
   "source": [
    "b1 = Book()\n",
    "b2 = Book()"
   ]
  },
  {
   "cell_type": "code",
   "execution_count": 151,
   "id": "15ac9041",
   "metadata": {},
   "outputs": [
    {
     "name": "stdout",
     "output_type": "stream",
     "text": [
      "b1.title :  메밀꽃 필 무렵\n",
      "b2.title :  마지막 잎새\n"
     ]
    }
   ],
   "source": [
    "b1.title = '메밀꽃 필 무렵'\n",
    "b2.title = '마지막 잎새'\n",
    "print('b1.title : ', b1.title)\n",
    "print('b2.title : ', b2.title)"
   ]
  },
  {
   "cell_type": "code",
   "execution_count": 152,
   "id": "cf49919c",
   "metadata": {},
   "outputs": [
    {
     "name": "stdout",
     "output_type": "stream",
     "text": [
      "메밀꽃 필 무렵/이효석\n",
      "마지막 잎새/오헨리\n"
     ]
    }
   ],
   "source": [
    "b1.book_info_input('이효석')\n",
    "b2.book_info_input('오헨리')\n",
    "b1.book_info_print()\n",
    "b2.book_info_print()"
   ]
  },
  {
   "cell_type": "code",
   "execution_count": 180,
   "id": "1c838d37",
   "metadata": {},
   "outputs": [],
   "source": [
    "class Circle:\n",
    "    pi = 3.141592\n",
    "    def __init__(self, radius):\n",
    "        self.radius = radius\n",
    "    def getArea(self):\n",
    "        Area = (self.radius ** 2) * Circle.pi\n",
    "        return Area\n",
    "    def getCircum(self):\n",
    "        Circum = (self.radius * 2) * Circle.pi\n",
    "        return Circum"
   ]
  },
  {
   "cell_type": "code",
   "execution_count": 181,
   "id": "03f87d1b",
   "metadata": {},
   "outputs": [
    {
     "name": "stdout",
     "output_type": "stream",
     "text": [
      "반지름 : 10\n",
      "원의 면적 : 314.16\n",
      "원주의 길이 : 62.83\n"
     ]
    }
   ],
   "source": [
    "cir1 = Circle(10)\n",
    "print('반지름 : %d'%cir1.radius)\n",
    "print('원의 면적 : %.2f'%cir1.getArea())\n",
    "print('원주의 길이 : %.2f'%cir1.getCircum())"
   ]
  },
  {
   "cell_type": "code",
   "execution_count": 182,
   "id": "3f6ed8b4",
   "metadata": {},
   "outputs": [
    {
     "name": "stdout",
     "output_type": "stream",
     "text": [
      "반지름 : 5\n",
      "원의 면적 : 78.54\n",
      "원주의 길이 : 31.42\n"
     ]
    }
   ],
   "source": [
    "cir2 = Circle(5)\n",
    "print('반지름 : %d'%cir2.radius)\n",
    "print('원의 면적 : %.2f'%cir2.getArea())\n",
    "print('원주의 길이 : %.2f'%cir2.getCircum())"
   ]
  },
  {
   "cell_type": "code",
   "execution_count": 212,
   "id": "457ff82d",
   "metadata": {},
   "outputs": [],
   "source": [
    "class SumAvg:\n",
    "    title = '--3과목 합계와 평균--'\n",
    "    def __init__(self, name, kor, eng, math):\n",
    "        self.name = name\n",
    "        self.kor = kor\n",
    "        self.eng = eng\n",
    "        self.math = math\n",
    "    def getSum(self):\n",
    "        total = self.kor + self.eng + self.math\n",
    "        return total\n",
    "    def getAvg(self):\n",
    "        return (self.kor + self.eng + self.math) / 3"
   ]
  },
  {
   "cell_type": "code",
   "execution_count": 213,
   "id": "615bf3b7",
   "metadata": {},
   "outputs": [
    {
     "name": "stdout",
     "output_type": "stream",
     "text": [
      "--3과목 합계와 평균--\n",
      "이름 : 강감찬\n",
      "국어 : 85, 영어 : 90, 수학 : 83\n",
      "합계 : 258\n",
      "평균 : 86.0\n"
     ]
    }
   ],
   "source": [
    "s1 = SumAvg('강감찬', 85, 90, 83)\n",
    "\n",
    "print(SumAvg.title)\n",
    "print('이름 : %s'%s1.name)\n",
    "print('국어 : %d, 영어 : %d, 수학 : %d'%(s1.kor, s1.eng, s1.math))\n",
    "print('합계 : %d'%(s1.getSum()))\n",
    "print('평균 : %.1f'%(s1.getAvg()))"
   ]
  },
  {
   "cell_type": "code",
   "execution_count": 214,
   "id": "da2677f3",
   "metadata": {},
   "outputs": [],
   "source": [
    "class SumAvg:\n",
    "    title = '--3과목 합계와 평균--'\n",
    "    def __init__(self, name, kor, eng, math):\n",
    "        self.name = name\n",
    "        self.kor = kor\n",
    "        self.eng = eng\n",
    "        self.math = math\n",
    "    def getSum(self):\n",
    "        total = self.kor + self.eng + self.math\n",
    "        return total\n",
    "    def getAvg(self):\n",
    "        return self.getSum() / 3"
   ]
  },
  {
   "cell_type": "code",
   "execution_count": 217,
   "id": "b45c23d9",
   "metadata": {},
   "outputs": [
    {
     "name": "stdout",
     "output_type": "stream",
     "text": [
      "--3과목 합계와 평균--\n",
      "이름 : 강감찬\n",
      "국어 : 85, 영어 : 90, 수학 : 83\n",
      "합계 : 258\n",
      "평균 : 86.0\n"
     ]
    }
   ],
   "source": [
    "s1 = SumAvg('강감찬', 85, 90, 83)\n",
    "\n",
    "print(SumAvg.title)\n",
    "print('이름 : %s'%s1.name)\n",
    "print('국어 : %d, 영어 : %d, 수학 : %d'%(s1.kor, s1.eng, s1.math))\n",
    "print('합계 : %d'%s1.getSum())\n",
    "print('평균 : %.1f'%s1.getAvg())"
   ]
  },
  {
   "cell_type": "code",
   "execution_count": 224,
   "id": "73355937",
   "metadata": {},
   "outputs": [],
   "source": [
    "s2 = SumAvg('강강강', 85, 94, 83)"
   ]
  },
  {
   "cell_type": "code",
   "execution_count": 225,
   "id": "fa078791",
   "metadata": {},
   "outputs": [
    {
     "data": {
      "text/plain": [
       "87.33333333333333"
      ]
     },
     "execution_count": 225,
     "metadata": {},
     "output_type": "execute_result"
    }
   ],
   "source": [
    "s2.getAvg()"
   ]
  },
  {
   "cell_type": "code",
   "execution_count": 241,
   "id": "430ebb39",
   "metadata": {},
   "outputs": [],
   "source": [
    "class Calculator:\n",
    "    \n",
    "    def __init__(self):\n",
    "        self.total = 0\n",
    "    def some_numbers(self, *args):\n",
    "        self.args = args\n",
    "        return self.args\n",
    "    def total(self):\n",
    "        for i in some_numbers():\n",
    "            self.total += i\n",
    "        return self.total"
   ]
  },
  {
   "cell_type": "code",
   "execution_count": 242,
   "id": "4c9e4d7e",
   "metadata": {},
   "outputs": [
    {
     "ename": "TypeError",
     "evalue": "'int' object is not callable",
     "output_type": "error",
     "traceback": [
      "\u001b[0;31m---------------------------------------------------------------------------\u001b[0m",
      "\u001b[0;31mTypeError\u001b[0m                                 Traceback (most recent call last)",
      "Input \u001b[0;32mIn [242]\u001b[0m, in \u001b[0;36m<cell line: 3>\u001b[0;34m()\u001b[0m\n\u001b[1;32m      1\u001b[0m a \u001b[38;5;241m=\u001b[39m Calculator()\n\u001b[1;32m      2\u001b[0m a\u001b[38;5;241m.\u001b[39msome_numbers(\u001b[38;5;241m2\u001b[39m,\u001b[38;5;241m4\u001b[39m,\u001b[38;5;241m6\u001b[39m)\n\u001b[0;32m----> 3\u001b[0m \u001b[43ma\u001b[49m\u001b[38;5;241;43m.\u001b[39;49m\u001b[43mtotal\u001b[49m\u001b[43m(\u001b[49m\u001b[43m)\u001b[49m\n\u001b[1;32m      4\u001b[0m \u001b[38;5;28mprint\u001b[39m(a\u001b[38;5;241m.\u001b[39msome_numbers())\n",
      "\u001b[0;31mTypeError\u001b[0m: 'int' object is not callable"
     ]
    }
   ],
   "source": [
    "a = Calculator()\n",
    "a.some_numbers(2,4,6)\n",
    "a.total()\n",
    "print(a.some_numbers())"
   ]
  },
  {
   "cell_type": "code",
   "execution_count": 244,
   "id": "dcfbcae0",
   "metadata": {},
   "outputs": [
    {
     "data": {
      "text/plain": [
       "12"
      ]
     },
     "execution_count": 244,
     "metadata": {},
     "output_type": "execute_result"
    }
   ],
   "source": [
    "class Calculator:\n",
    "    def some_numbers(self, *args):\n",
    "        self.args = args\n",
    "    def total(self):\n",
    "        return sum(self.args)\n",
    "    \n",
    "\n",
    "\n",
    "a = Calculator()\n",
    "a.some_numbers(2,4,6)\n",
    "a.total()"
   ]
  },
  {
   "cell_type": "code",
   "execution_count": 245,
   "id": "08cd7e4c",
   "metadata": {},
   "outputs": [
    {
     "data": {
      "text/plain": [
       "15"
      ]
     },
     "execution_count": 245,
     "metadata": {},
     "output_type": "execute_result"
    }
   ],
   "source": [
    "b = Calculator()\n",
    "b.some_numbers(1,2,3,4,5)\n",
    "b.total()"
   ]
  },
  {
   "cell_type": "code",
   "execution_count": 246,
   "id": "b88ae01c",
   "metadata": {},
   "outputs": [
    {
     "data": {
      "text/plain": [
       "(2, 4, 6)"
      ]
     },
     "execution_count": 246,
     "metadata": {},
     "output_type": "execute_result"
    }
   ],
   "source": [
    "a.args"
   ]
  },
  {
   "cell_type": "code",
   "execution_count": 247,
   "id": "37217962",
   "metadata": {},
   "outputs": [
    {
     "data": {
      "text/plain": [
       "(1, 2, 3, 4, 5)"
      ]
     },
     "execution_count": 247,
     "metadata": {},
     "output_type": "execute_result"
    }
   ],
   "source": [
    "b.args"
   ]
  },
  {
   "cell_type": "code",
   "execution_count": 255,
   "id": "54534270",
   "metadata": {},
   "outputs": [],
   "source": [
    "class Operation():\n",
    "    def add(self, num1, num2):\n",
    "        return num1+num2\n",
    "    def mul(self, num1, num2):\n",
    "        return num1*num2\n",
    "    def sub(self, num1, num2):\n",
    "        return num1-num2\n",
    "    def div(self, num1, num2):\n",
    "        return num1/num2"
   ]
  },
  {
   "cell_type": "code",
   "execution_count": 257,
   "id": "4c613da6",
   "metadata": {},
   "outputs": [
    {
     "name": "stdout",
     "output_type": "stream",
     "text": [
      "첫 번째 수를 입력하세요. : 3\n",
      "두 번째 수를 입력하세요. : 4\n",
      "7\n",
      "12\n",
      "-1\n",
      "0.75\n"
     ]
    }
   ],
   "source": [
    "x = Operation()\n",
    "f = int(input('첫 번째 수를 입력하세요. : ')) #3\n",
    "s = int(input('두 번째 수를 입력하세요. : ')) #4\n",
    "\n",
    "print(x.add(f,s))\n",
    "print(x.mul(f,s))\n",
    "print(x.sub(f,s))\n",
    "print(x.div(f,s))"
   ]
  },
  {
   "cell_type": "code",
   "execution_count": 259,
   "id": "f7e2304b",
   "metadata": {},
   "outputs": [],
   "source": [
    "class Operation():\n",
    "    def add(self, f, s):\n",
    "        self.f = f\n",
    "        self.s = s\n",
    "        return self.f+self.s\n",
    "    def mul(self, f, s):\n",
    "        self.f = f\n",
    "        self.s = s\n",
    "        return self.f*self.s\n",
    "    def sub(self, f, s):\n",
    "        self.f = f\n",
    "        self.s = s\n",
    "        return self.f-self.s\n",
    "    def div(self, f, s):\n",
    "        self.f = f\n",
    "        self.s = s\n",
    "        return self.f/self.s"
   ]
  },
  {
   "cell_type": "code",
   "execution_count": 260,
   "id": "bac95323",
   "metadata": {},
   "outputs": [
    {
     "name": "stdout",
     "output_type": "stream",
     "text": [
      "첫 번째 수를 입력하세요. : 3\n",
      "두 번째 수를 입력하세요. : 4\n",
      "7\n",
      "12\n",
      "-1\n",
      "0.75\n"
     ]
    }
   ],
   "source": [
    "x = Operation()\n",
    "f = int(input('첫 번째 수를 입력하세요. : ')) #3\n",
    "s = int(input('두 번째 수를 입력하세요. : ')) #4\n",
    "\n",
    "print(x.add(f,s))\n",
    "print(x.mul(f,s))\n",
    "print(x.sub(f,s))\n",
    "print(x.div(f,s))"
   ]
  },
  {
   "cell_type": "code",
   "execution_count": 261,
   "id": "0665b55e",
   "metadata": {},
   "outputs": [],
   "source": [
    "class Operation():\n",
    "    def __init__(self,f,s):\n",
    "        self.f = f\n",
    "        self.s = s\n",
    "    def add(self):       \n",
    "        return self.f+self.s\n",
    "    def mul(self):     \n",
    "        return self.f*self.s\n",
    "    def sub(self):\n",
    "        return self.f-self.s\n",
    "    def div(self):\n",
    "        return self.f/self.s"
   ]
  },
  {
   "cell_type": "code",
   "execution_count": 263,
   "id": "40222e5c",
   "metadata": {},
   "outputs": [
    {
     "name": "stdout",
     "output_type": "stream",
     "text": [
      "첫 번째 수를 입력하세요. : 3\n",
      "두 번째 수를 입력하세요. : 4\n",
      "7\n",
      "12\n",
      "-1\n",
      "0.75\n"
     ]
    }
   ],
   "source": [
    "\n",
    "f = int(input('첫 번째 수를 입력하세요. : ')) #3\n",
    "s = int(input('두 번째 수를 입력하세요. : ')) #4\n",
    "x = Operation(f,s)\n",
    "print(x.add())\n",
    "print(x.mul())\n",
    "print(x.sub())\n",
    "print(x.div())"
   ]
  },
  {
   "cell_type": "code",
   "execution_count": 274,
   "id": "45b7df22",
   "metadata": {},
   "outputs": [],
   "source": [
    "class Triangle:\n",
    "    def __init__(self, width, height):\n",
    "        self.width = width\n",
    "        self.height = height\n",
    "        print('width =',self.width)\n",
    "        print('height =',self.height)\n",
    "    def calculation(self):\n",
    "        return self.width * self.height / 2"
   ]
  },
  {
   "cell_type": "code",
   "execution_count": 277,
   "id": "3f18c8ef",
   "metadata": {},
   "outputs": [
    {
     "name": "stdout",
     "output_type": "stream",
     "text": [
      "width = 3\n",
      "height = 4\n"
     ]
    }
   ],
   "source": [
    "t1 = Triangle(3,4)"
   ]
  },
  {
   "cell_type": "code",
   "execution_count": 278,
   "id": "2283648c",
   "metadata": {},
   "outputs": [
    {
     "data": {
      "text/plain": [
       "6.0"
      ]
     },
     "execution_count": 278,
     "metadata": {},
     "output_type": "execute_result"
    }
   ],
   "source": [
    "t1.calculation()"
   ]
  },
  {
   "cell_type": "code",
   "execution_count": 279,
   "id": "67d7e251",
   "metadata": {},
   "outputs": [
    {
     "name": "stdout",
     "output_type": "stream",
     "text": [
      "width = 10\n",
      "height = 20\n"
     ]
    },
    {
     "data": {
      "text/plain": [
       "100.0"
      ]
     },
     "execution_count": 279,
     "metadata": {},
     "output_type": "execute_result"
    }
   ],
   "source": [
    "t2 = Triangle(10,20)\n",
    "t2.calculation()"
   ]
  },
  {
   "cell_type": "code",
   "execution_count": null,
   "id": "2d4f1eac",
   "metadata": {},
   "outputs": [],
   "source": [
    "a = 'We are the champions!'\n",
    "b=a."
   ]
  },
  {
   "cell_type": "code",
   "execution_count": 289,
   "id": "49ad0381",
   "metadata": {},
   "outputs": [],
   "source": [
    "class EngSentence:\n",
    "    def __init__(self, sentence):\n",
    "        self.sentence = sentence\n",
    "    def reverse(self):\n",
    "        return self.sentence[::-1]\n",
    "    def insertHypen(self):\n",
    "        return self.sentence.replace(' ', '-')"
   ]
  },
  {
   "cell_type": "code",
   "execution_count": 290,
   "id": "e98e0a14",
   "metadata": {
    "scrolled": true
   },
   "outputs": [
    {
     "name": "stdout",
     "output_type": "stream",
     "text": [
      "역순 : !snoipmahc eht era eW\n",
      "하이픈(-) 삽입 : We-are-the-champions!\n"
     ]
    }
   ],
   "source": [
    "a = 'We are the champions!'\n",
    "eng1 = EngSentence(a)\n",
    "print('역순 : %s'%eng1.reverse())\n",
    "print('하이픈(-) 삽입 : %s'%eng1.insertHypen())"
   ]
  },
  {
   "cell_type": "code",
   "execution_count": 297,
   "id": "f1fc3b7b",
   "metadata": {},
   "outputs": [],
   "source": [
    "class EngSentence:\n",
    "    def __init__(self, sentence):\n",
    "        self.sentence = sentence\n",
    "        self.length = len(sentence)\n",
    "    def reverse(self):\n",
    "        tmp = str()\n",
    "        for i in range(1, self.length+1):\n",
    "            tmp += self.sentence[-i]            \n",
    "        return tmp\n",
    "    def insertHypen(self):\n",
    "        tmp = str()\n",
    "        for i in self.sentence:\n",
    "            if i ==' ':\n",
    "                tmp += '-'\n",
    "            else:\n",
    "                tmp += i\n",
    "        return tmp"
   ]
  },
  {
   "cell_type": "code",
   "execution_count": 298,
   "id": "5772c11c",
   "metadata": {},
   "outputs": [
    {
     "name": "stdout",
     "output_type": "stream",
     "text": [
      "역순 : !snoipmahc eht era eW\n",
      "하이픈(-) 삽입 : We-are-the-champions!\n"
     ]
    }
   ],
   "source": [
    "a = 'We are the champions!'\n",
    "eng1 = EngSentence(a)\n",
    "print('역순 : %s'%eng1.reverse())\n",
    "print('하이픈(-) 삽입 : %s'%eng1.insertHypen())"
   ]
  },
  {
   "cell_type": "code",
   "execution_count": 301,
   "id": "ca71456c",
   "metadata": {},
   "outputs": [],
   "source": [
    "class Operation():\n",
    "    def __init__(self, f, s):\n",
    "        self.f = f\n",
    "        self.s = s\n",
    "    def add(self):\n",
    "        return self.f+self.s\n",
    "    def mul(self):\n",
    "        return self.f*self.s\n",
    "    def sub(self):\n",
    "        return self.f-self.s\n",
    "    def div(self):\n",
    "        return self.f/self.s"
   ]
  },
  {
   "cell_type": "code",
   "execution_count": 302,
   "id": "43bbe073",
   "metadata": {},
   "outputs": [
    {
     "data": {
      "text/plain": [
       "14"
      ]
     },
     "execution_count": 302,
     "metadata": {},
     "output_type": "execute_result"
    }
   ],
   "source": [
    "class Sample(Operation):\n",
    "    pass\n",
    "a = Sample(5,9)\n",
    "a.add()"
   ]
  },
  {
   "cell_type": "code",
   "execution_count": 303,
   "id": "e3965d04",
   "metadata": {},
   "outputs": [
    {
     "data": {
      "text/plain": [
       "45"
      ]
     },
     "execution_count": 303,
     "metadata": {},
     "output_type": "execute_result"
    }
   ],
   "source": [
    "a.mul()"
   ]
  },
  {
   "cell_type": "code",
   "execution_count": 304,
   "id": "815acab5",
   "metadata": {},
   "outputs": [
    {
     "data": {
      "text/plain": [
       "-4"
      ]
     },
     "execution_count": 304,
     "metadata": {},
     "output_type": "execute_result"
    }
   ],
   "source": [
    "a.sub()"
   ]
  },
  {
   "cell_type": "code",
   "execution_count": 305,
   "id": "4ab2bcb6",
   "metadata": {},
   "outputs": [
    {
     "data": {
      "text/plain": [
       "0.5555555555555556"
      ]
     },
     "execution_count": 305,
     "metadata": {},
     "output_type": "execute_result"
    }
   ],
   "source": [
    "a.div()"
   ]
  },
  {
   "cell_type": "code",
   "execution_count": 311,
   "id": "321d227c",
   "metadata": {},
   "outputs": [],
   "source": [
    "class Sample(Operation):\n",
    "    def squ(self):\n",
    "        return self.f**self.s"
   ]
  },
  {
   "cell_type": "code",
   "execution_count": 313,
   "id": "6eb9cead",
   "metadata": {},
   "outputs": [
    {
     "data": {
      "text/plain": [
       "729"
      ]
     },
     "execution_count": 313,
     "metadata": {},
     "output_type": "execute_result"
    }
   ],
   "source": [
    "a=Sample(9,3)\n",
    "a.squ()"
   ]
  },
  {
   "cell_type": "code",
   "execution_count": 323,
   "id": "671b6673",
   "metadata": {},
   "outputs": [],
   "source": [
    "class Sample(Operation):\n",
    "        def div(self):\n",
    "            if self.s == 0:\n",
    "                return 0\n",
    "            else:\n",
    "                return self.f/self.s"
   ]
  },
  {
   "cell_type": "code",
   "execution_count": 324,
   "id": "dbdd9368",
   "metadata": {},
   "outputs": [],
   "source": [
    "a = Sample(4,0)"
   ]
  },
  {
   "cell_type": "code",
   "execution_count": 325,
   "id": "a95696f8",
   "metadata": {},
   "outputs": [
    {
     "data": {
      "text/plain": [
       "0"
      ]
     },
     "execution_count": 325,
     "metadata": {},
     "output_type": "execute_result"
    }
   ],
   "source": [
    "a.div()"
   ]
  },
  {
   "cell_type": "code",
   "execution_count": 347,
   "id": "78699a0f",
   "metadata": {},
   "outputs": [],
   "source": [
    "class Person:\n",
    "    def __init__(self, name, age):\n",
    "        self.name = name\n",
    "        self.age = age\n",
    "    def printinfo(self):\n",
    "        print('name:',self.name)\n",
    "        print('age:', self.age)"
   ]
  },
  {
   "cell_type": "code",
   "execution_count": 348,
   "id": "34d69b3f",
   "metadata": {},
   "outputs": [],
   "source": [
    "p1 = Person('홍길동', 99)\n",
    "p2 = Person('토끼', 200)"
   ]
  },
  {
   "cell_type": "markdown",
   "id": "97211c8a",
   "metadata": {},
   "source": [
    "###dd"
   ]
  },
  {
   "cell_type": "code",
   "execution_count": 334,
   "id": "8c051603",
   "metadata": {},
   "outputs": [
    {
     "name": "stdout",
     "output_type": "stream",
     "text": [
      "홍길동 99\n",
      "토끼 200\n"
     ]
    }
   ],
   "source": [
    "print(p1.name, p1.age)\n",
    "print(p2.name, p2.age)"
   ]
  },
  {
   "cell_type": "code",
   "execution_count": 349,
   "id": "92835656",
   "metadata": {},
   "outputs": [
    {
     "name": "stdout",
     "output_type": "stream",
     "text": [
      "name: 홍길동\n",
      "age: 99\n"
     ]
    }
   ],
   "source": [
    "p1.printinfo()"
   ]
  },
  {
   "cell_type": "code",
   "execution_count": 343,
   "id": "ddd7d281",
   "metadata": {},
   "outputs": [],
   "source": [
    "p1 = Over('홍길동', 99)"
   ]
  },
  {
   "cell_type": "code",
   "execution_count": 345,
   "id": "f3045cf5",
   "metadata": {},
   "outputs": [
    {
     "name": "stdout",
     "output_type": "stream",
     "text": [
      "홍길동 99\n"
     ]
    }
   ],
   "source": [
    "p1.printinfo()"
   ]
  },
  {
   "cell_type": "code",
   "execution_count": 372,
   "id": "6416c009",
   "metadata": {},
   "outputs": [],
   "source": [
    "class Student(Person):\n",
    "    def __init__(self, name, age, school, major):\n",
    "        self.name = name\n",
    "        self.age = age\n",
    "        self.school = school\n",
    "        self.major = major\n",
    "    def printinfo(self):\n",
    "        print('이름 : ', self.name)\n",
    "        print('나이 : ', self.age)\n",
    "        print('학교 : ', self.school)\n",
    "        print('전공 : ', self.major)"
   ]
  },
  {
   "cell_type": "code",
   "execution_count": 373,
   "id": "a82949af",
   "metadata": {},
   "outputs": [],
   "source": [
    "s1 = Student('홍길동', 98, 'encore', 'bigdata')\n",
    "s2 = Student('토끼', 201, 'encore', 'bigdata')"
   ]
  },
  {
   "cell_type": "code",
   "execution_count": 374,
   "id": "66b68ac6",
   "metadata": {},
   "outputs": [
    {
     "name": "stdout",
     "output_type": "stream",
     "text": [
      "이름 :  홍길동\n",
      "나이 :  98\n",
      "학교 :  encore\n",
      "전공 :  bigdata\n",
      "이름 :  토끼\n",
      "나이 :  201\n",
      "학교 :  encore\n",
      "전공 :  bigdata\n"
     ]
    }
   ],
   "source": [
    "s1.printinfo()\n",
    "s2.printinfo()"
   ]
  },
  {
   "cell_type": "code",
   "execution_count": 378,
   "id": "e079f58a",
   "metadata": {},
   "outputs": [],
   "source": [
    "class Student(Person):\n",
    "    def __init__(self, name, age, school, major):\n",
    "        super().__init__(name, age)\n",
    "        self.school = school\n",
    "        self.major = major\n",
    "    def printinfo(self):\n",
    "        super().printinfo()\n",
    "        print('학교 : ', self.school)\n",
    "        print('전공 : ', self.major)"
   ]
  },
  {
   "cell_type": "code",
   "execution_count": 379,
   "id": "8764bf22",
   "metadata": {},
   "outputs": [],
   "source": [
    "p1 = Student('홍길동', 98, 'encore', 'bigdata')\n",
    "p2 = Student('토끼', 201, 'encore', 'bigdata')"
   ]
  },
  {
   "cell_type": "code",
   "execution_count": 380,
   "id": "6e48ed90",
   "metadata": {},
   "outputs": [
    {
     "name": "stdout",
     "output_type": "stream",
     "text": [
      "name: 홍길동\n",
      "age: 98\n",
      "학교 :  encore\n",
      "전공 :  bigdata\n",
      "name: 토끼\n",
      "age: 201\n",
      "학교 :  encore\n",
      "전공 :  bigdata\n"
     ]
    }
   ],
   "source": [
    "p1.printinfo()\n",
    "p2.printinfo()"
   ]
  },
  {
   "cell_type": "code",
   "execution_count": 369,
   "id": "7eb65828",
   "metadata": {},
   "outputs": [
    {
     "name": "stdout",
     "output_type": "stream",
     "text": [
      "name: 홍길동\n",
      "age: 98\n"
     ]
    }
   ],
   "source": [
    "s1.printinfo()"
   ]
  },
  {
   "cell_type": "code",
   "execution_count": 409,
   "id": "7854443c",
   "metadata": {},
   "outputs": [],
   "source": [
    "class Father:\n",
    "    def __init__(self):\n",
    "        print('Father 생성자')\n",
    "class Mother:\n",
    "    def __init__(self):\n",
    "        print('Mother 생성자')\n",
    "class Child:\n",
    "    def __init__(self):\n",
    "        print('Child 생성자') "
   ]
  },
  {
   "cell_type": "code",
   "execution_count": 410,
   "id": "79b6307c",
   "metadata": {},
   "outputs": [
    {
     "name": "stdout",
     "output_type": "stream",
     "text": [
      "Father 생성자\n",
      "Mother 생성자\n",
      "Child 생성자\n"
     ]
    }
   ],
   "source": [
    "f = Father()\n",
    "m = Mother()\n",
    "c = Child()"
   ]
  },
  {
   "cell_type": "code",
   "execution_count": 425,
   "id": "3125dbe8",
   "metadata": {},
   "outputs": [],
   "source": [
    "class Child(Father, Mother):\n",
    "    def __init__(self):\n",
    "        super().__init__()\n",
    "        print('Child 생성자') "
   ]
  },
  {
   "cell_type": "code",
   "execution_count": 426,
   "id": "2ee6d2e9",
   "metadata": {},
   "outputs": [
    {
     "name": "stdout",
     "output_type": "stream",
     "text": [
      "Father 생성자\n",
      "Child 생성자\n"
     ]
    }
   ],
   "source": [
    "c = Child()"
   ]
  },
  {
   "cell_type": "code",
   "execution_count": 427,
   "id": "0e77c8ae",
   "metadata": {},
   "outputs": [
    {
     "data": {
      "text/plain": [
       "(__main__.Child, __main__.Father, __main__.Mother, object)"
      ]
     },
     "execution_count": 427,
     "metadata": {},
     "output_type": "execute_result"
    }
   ],
   "source": [
    "Child.__mro__"
   ]
  },
  {
   "cell_type": "code",
   "execution_count": 428,
   "id": "1ad3ecd8",
   "metadata": {},
   "outputs": [],
   "source": [
    "class Father:\n",
    "    def __init__(self):\n",
    "        print('Father 생성자')\n",
    "    def getFather(self, father):\n",
    "        self.father = father\n",
    "        return self.father\n",
    "class Mother:\n",
    "    def __init__(self):\n",
    "        print('Mother 생성자')\n",
    "    def getMother(self, mother):\n",
    "        self.mother = mother\n",
    "        return self.mother\n",
    "class Child:\n",
    "    def __init__(self):\n",
    "        print('Child 생성자') \n",
    "    def getChild(self, child):\n",
    "        self.child = child\n",
    "        return self.child"
   ]
  },
  {
   "cell_type": "code",
   "execution_count": 430,
   "id": "3222e5aa",
   "metadata": {},
   "outputs": [
    {
     "name": "stdout",
     "output_type": "stream",
     "text": [
      "Father 생성자\n",
      "Mother 생성자\n",
      "Child 생성자\n"
     ]
    }
   ],
   "source": [
    "f1 = Father()\n",
    "m1 = Mother()\n",
    "c1 = Child()"
   ]
  },
  {
   "cell_type": "code",
   "execution_count": 432,
   "id": "ae80f2be",
   "metadata": {},
   "outputs": [
    {
     "name": "stdout",
     "output_type": "stream",
     "text": [
      "아버지\n",
      "어머니\n",
      "자식\n"
     ]
    }
   ],
   "source": [
    "print(f1.getFather('아버지'))\n",
    "print(m1.getMother('어머니'))\n",
    "print(c1.getChild('자식'))"
   ]
  },
  {
   "cell_type": "code",
   "execution_count": 433,
   "id": "e016dff6",
   "metadata": {},
   "outputs": [],
   "source": [
    "class Child(Father, Mother):\n",
    "    def __init__(self):\n",
    "        super().__init__()\n",
    "        print('Child 생성자') \n",
    "    def getChild(self, child):\n",
    "        self.child = child\n",
    "        return self.child"
   ]
  },
  {
   "cell_type": "code",
   "execution_count": 434,
   "id": "2db6d9d6",
   "metadata": {},
   "outputs": [
    {
     "name": "stdout",
     "output_type": "stream",
     "text": [
      "Father 생성자\n",
      "Child 생성자\n"
     ]
    }
   ],
   "source": [
    "c1 = Child()"
   ]
  },
  {
   "cell_type": "code",
   "execution_count": 441,
   "id": "a3236031",
   "metadata": {},
   "outputs": [
    {
     "data": {
      "text/plain": [
       "'아버지'"
      ]
     },
     "execution_count": 441,
     "metadata": {},
     "output_type": "execute_result"
    }
   ],
   "source": [
    "c1.getFather('아버지')"
   ]
  },
  {
   "cell_type": "code",
   "execution_count": 439,
   "id": "5e3984cd",
   "metadata": {},
   "outputs": [
    {
     "data": {
      "text/plain": [
       "'어머니'"
      ]
     },
     "execution_count": 439,
     "metadata": {},
     "output_type": "execute_result"
    }
   ],
   "source": [
    "c1.getMother('어머니')"
   ]
  },
  {
   "cell_type": "code",
   "execution_count": 437,
   "id": "4e1b3333",
   "metadata": {},
   "outputs": [
    {
     "data": {
      "text/plain": [
       "'자식'"
      ]
     },
     "execution_count": 437,
     "metadata": {},
     "output_type": "execute_result"
    }
   ],
   "source": [
    "c1.getChild('자식')"
   ]
  },
  {
   "cell_type": "code",
   "execution_count": 442,
   "id": "6ca1de73",
   "metadata": {},
   "outputs": [],
   "source": [
    "class Student(Person):\n",
    "    def __init__(self, name, age, school, major):\n",
    "        super().__init__(name, age)\n",
    "        self.school = school\n",
    "        self.major = major\n",
    "    def printinfo(self):\n",
    "        super().printinfo()\n",
    "        print('학교 : ', self.school)\n",
    "        print('전공 : ', self.major)\n",
    "    def __str__(self):\n",
    "        return f'{self.school}에 {self.major}전공인 나이 {self.age}살인 {self.name}입니다.'"
   ]
  },
  {
   "cell_type": "code",
   "execution_count": 443,
   "id": "83895c77",
   "metadata": {},
   "outputs": [],
   "source": [
    "s1 = Student('홍길동', 98, 'encore', 'bigdata')\n",
    "s2 = Student('토끼', 201, 'encore', 'bigdata')"
   ]
  },
  {
   "cell_type": "code",
   "execution_count": 444,
   "id": "d1cec01f",
   "metadata": {},
   "outputs": [
    {
     "data": {
      "text/plain": [
       "'encore에 bigdata전공인 나이 98살인 홍길동입니다.'"
      ]
     },
     "execution_count": 444,
     "metadata": {},
     "output_type": "execute_result"
    }
   ],
   "source": [
    "str(s1)"
   ]
  },
  {
   "cell_type": "code",
   "execution_count": 445,
   "id": "5ee8278d",
   "metadata": {},
   "outputs": [
    {
     "data": {
      "text/plain": [
       "'99'"
      ]
     },
     "execution_count": 445,
     "metadata": {},
     "output_type": "execute_result"
    }
   ],
   "source": [
    "str(99)"
   ]
  },
  {
   "cell_type": "code",
   "execution_count": null,
   "id": "88ab4c08",
   "metadata": {},
   "outputs": [],
   "source": []
  }
 ],
 "metadata": {
  "kernelspec": {
   "display_name": "Python 3 (ipykernel)",
   "language": "python",
   "name": "python3"
  },
  "language_info": {
   "codemirror_mode": {
    "name": "ipython",
    "version": 3
   },
   "file_extension": ".py",
   "mimetype": "text/x-python",
   "name": "python",
   "nbconvert_exporter": "python",
   "pygments_lexer": "ipython3",
   "version": "3.9.13"
  }
 },
 "nbformat": 4,
 "nbformat_minor": 5
}
