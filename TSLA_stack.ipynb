{
 "cells": [
  {
   "cell_type": "markdown",
   "id": "cda0509d",
   "metadata": {},
   "source": [
    "## Tesla 주가 예측 실습\n",
    " * 2018년 ~ 2021년 데이터를 활용해 2022년 결과를 예측하고 실제값과 비교\n",
    " * Convoluation 1D 사용"
   ]
  },
  {
   "cell_type": "code",
   "execution_count": 375,
   "id": "a8110bf0",
   "metadata": {},
   "outputs": [],
   "source": [
    "import tensorflow as tf\n",
    "import numpy as np\n",
    "import pandas as pd\n",
    "import matplotlib.pyplot as plt\n",
    "from tensorflow.keras.models import Sequential\n",
    "from tensorflow.keras.layers import Dense, Dropout, Conv1D, LSTM\n",
    "from sklearn.preprocessing import MinMaxScaler\n",
    "from sklearn.model_selection import TimeSeriesSplit"
   ]
  },
  {
   "cell_type": "markdown",
   "id": "617c0f09",
   "metadata": {},
   "source": [
    "### 데이터 불러오기\n",
    "* 데이터 출처 : yahoo finance(https://finance.yahoo.com/quote/TSLA/history?period1=1514764800&period2=1669334400&interval=1d&filter=history&frequency=1d&includeAdjustedClose=true)"
   ]
  },
  {
   "cell_type": "code",
   "execution_count": 376,
   "id": "e258727a",
   "metadata": {},
   "outputs": [
    {
     "data": {
      "text/html": [
       "<div>\n",
       "<style scoped>\n",
       "    .dataframe tbody tr th:only-of-type {\n",
       "        vertical-align: middle;\n",
       "    }\n",
       "\n",
       "    .dataframe tbody tr th {\n",
       "        vertical-align: top;\n",
       "    }\n",
       "\n",
       "    .dataframe thead th {\n",
       "        text-align: right;\n",
       "    }\n",
       "</style>\n",
       "<table border=\"1\" class=\"dataframe\">\n",
       "  <thead>\n",
       "    <tr style=\"text-align: right;\">\n",
       "      <th></th>\n",
       "      <th>Date</th>\n",
       "      <th>Open</th>\n",
       "      <th>High</th>\n",
       "      <th>Low</th>\n",
       "      <th>Close</th>\n",
       "      <th>Adj Close</th>\n",
       "      <th>Volume</th>\n",
       "    </tr>\n",
       "  </thead>\n",
       "  <tbody>\n",
       "    <tr>\n",
       "      <th>0</th>\n",
       "      <td>2018-01-02</td>\n",
       "      <td>20.799999</td>\n",
       "      <td>21.474001</td>\n",
       "      <td>20.733334</td>\n",
       "      <td>21.368668</td>\n",
       "      <td>21.368668</td>\n",
       "      <td>65283000</td>\n",
       "    </tr>\n",
       "    <tr>\n",
       "      <th>1</th>\n",
       "      <td>2018-01-03</td>\n",
       "      <td>21.400000</td>\n",
       "      <td>21.683332</td>\n",
       "      <td>21.036667</td>\n",
       "      <td>21.150000</td>\n",
       "      <td>21.150000</td>\n",
       "      <td>67822500</td>\n",
       "    </tr>\n",
       "    <tr>\n",
       "      <th>2</th>\n",
       "      <td>2018-01-04</td>\n",
       "      <td>20.858000</td>\n",
       "      <td>21.236668</td>\n",
       "      <td>20.378668</td>\n",
       "      <td>20.974667</td>\n",
       "      <td>20.974667</td>\n",
       "      <td>149194500</td>\n",
       "    </tr>\n",
       "    <tr>\n",
       "      <th>3</th>\n",
       "      <td>2018-01-05</td>\n",
       "      <td>21.108000</td>\n",
       "      <td>21.149332</td>\n",
       "      <td>20.799999</td>\n",
       "      <td>21.105333</td>\n",
       "      <td>21.105333</td>\n",
       "      <td>68868000</td>\n",
       "    </tr>\n",
       "    <tr>\n",
       "      <th>4</th>\n",
       "      <td>2018-01-08</td>\n",
       "      <td>21.066668</td>\n",
       "      <td>22.468000</td>\n",
       "      <td>21.033333</td>\n",
       "      <td>22.427334</td>\n",
       "      <td>22.427334</td>\n",
       "      <td>147891000</td>\n",
       "    </tr>\n",
       "    <tr>\n",
       "      <th>...</th>\n",
       "      <td>...</td>\n",
       "      <td>...</td>\n",
       "      <td>...</td>\n",
       "      <td>...</td>\n",
       "      <td>...</td>\n",
       "      <td>...</td>\n",
       "      <td>...</td>\n",
       "    </tr>\n",
       "    <tr>\n",
       "      <th>1229</th>\n",
       "      <td>2022-11-17</td>\n",
       "      <td>183.960007</td>\n",
       "      <td>186.160004</td>\n",
       "      <td>180.899994</td>\n",
       "      <td>183.169998</td>\n",
       "      <td>183.169998</td>\n",
       "      <td>64336000</td>\n",
       "    </tr>\n",
       "    <tr>\n",
       "      <th>1230</th>\n",
       "      <td>2022-11-18</td>\n",
       "      <td>185.050003</td>\n",
       "      <td>185.190002</td>\n",
       "      <td>176.550003</td>\n",
       "      <td>180.190002</td>\n",
       "      <td>180.190002</td>\n",
       "      <td>75904900</td>\n",
       "    </tr>\n",
       "    <tr>\n",
       "      <th>1231</th>\n",
       "      <td>2022-11-21</td>\n",
       "      <td>175.850006</td>\n",
       "      <td>176.770004</td>\n",
       "      <td>167.539993</td>\n",
       "      <td>167.869995</td>\n",
       "      <td>167.869995</td>\n",
       "      <td>92882700</td>\n",
       "    </tr>\n",
       "    <tr>\n",
       "      <th>1232</th>\n",
       "      <td>2022-11-22</td>\n",
       "      <td>168.630005</td>\n",
       "      <td>170.919998</td>\n",
       "      <td>166.190002</td>\n",
       "      <td>169.910004</td>\n",
       "      <td>169.910004</td>\n",
       "      <td>78452300</td>\n",
       "    </tr>\n",
       "    <tr>\n",
       "      <th>1233</th>\n",
       "      <td>2022-11-23</td>\n",
       "      <td>173.570007</td>\n",
       "      <td>183.619995</td>\n",
       "      <td>172.500000</td>\n",
       "      <td>183.199997</td>\n",
       "      <td>183.199997</td>\n",
       "      <td>109536700</td>\n",
       "    </tr>\n",
       "  </tbody>\n",
       "</table>\n",
       "<p>1234 rows × 7 columns</p>\n",
       "</div>"
      ],
      "text/plain": [
       "            Date        Open        High         Low       Close   Adj Close     Volume\n",
       "0     2018-01-02   20.799999   21.474001   20.733334   21.368668   21.368668   65283000\n",
       "1     2018-01-03   21.400000   21.683332   21.036667   21.150000   21.150000   67822500\n",
       "2     2018-01-04   20.858000   21.236668   20.378668   20.974667   20.974667  149194500\n",
       "3     2018-01-05   21.108000   21.149332   20.799999   21.105333   21.105333   68868000\n",
       "4     2018-01-08   21.066668   22.468000   21.033333   22.427334   22.427334  147891000\n",
       "...          ...         ...         ...         ...         ...         ...        ...\n",
       "1229  2022-11-17  183.960007  186.160004  180.899994  183.169998  183.169998   64336000\n",
       "1230  2022-11-18  185.050003  185.190002  176.550003  180.190002  180.190002   75904900\n",
       "1231  2022-11-21  175.850006  176.770004  167.539993  167.869995  167.869995   92882700\n",
       "1232  2022-11-22  168.630005  170.919998  166.190002  169.910004  169.910004   78452300\n",
       "1233  2022-11-23  173.570007  183.619995  172.500000  183.199997  183.199997  109536700\n",
       "\n",
       "[1234 rows x 7 columns]"
      ]
     },
     "execution_count": 376,
     "metadata": {},
     "output_type": "execute_result"
    }
   ],
   "source": [
    "raw_df = pd.read_csv('./TSLA.csv')  \n",
    "raw_df"
   ]
  },
  {
   "cell_type": "code",
   "execution_count": 377,
   "id": "63db32fb",
   "metadata": {},
   "outputs": [
    {
     "data": {
      "image/png": "[encoded data removed]",
      "text/plain": [
       "<Figure size 432x288 with 1 Axes>"
      ]
     },
     "metadata": {
      "needs_background": "light"
     },
     "output_type": "display_data"
    }
   ],
   "source": [
    "# 그래프로 추이 확인 \n",
    "# 최종가 기준\n",
    "\n",
    "plt.title('TESLA STCOK PRICE')\n",
    "plt.ylabel('price')\n",
    "plt.ylim(0, 430)\n",
    "plt.xlabel('period')\n",
    "plt.grid()\n",
    "plt.plot(raw_df['Adj Close'], label='Adj Close')\n",
    "\n",
    "plt.show()"
   ]
  },
  {
   "cell_type": "code",
   "execution_count": 378,
   "id": "13b9cbf4",
   "metadata": {},
   "outputs": [
    {
     "data": {
      "text/html": [
       "<div>\n",
       "<style scoped>\n",
       "    .dataframe tbody tr th:only-of-type {\n",
       "        vertical-align: middle;\n",
       "    }\n",
       "\n",
       "    .dataframe tbody tr th {\n",
       "        vertical-align: top;\n",
       "    }\n",
       "\n",
       "    .dataframe thead th {\n",
       "        text-align: right;\n",
       "    }\n",
       "</style>\n",
       "<table border=\"1\" class=\"dataframe\">\n",
       "  <thead>\n",
       "    <tr style=\"text-align: right;\">\n",
       "      <th></th>\n",
       "      <th>Date</th>\n",
       "      <th>Open</th>\n",
       "      <th>High</th>\n",
       "      <th>Low</th>\n",
       "      <th>Close</th>\n",
       "      <th>Adj Close</th>\n",
       "      <th>Volume</th>\n",
       "    </tr>\n",
       "  </thead>\n",
       "  <tbody>\n",
       "    <tr>\n",
       "      <th>0</th>\n",
       "      <td>2018-01-02</td>\n",
       "      <td>20.799999</td>\n",
       "      <td>21.474001</td>\n",
       "      <td>20.733334</td>\n",
       "      <td>21.368668</td>\n",
       "      <td>21.368668</td>\n",
       "      <td>65283000</td>\n",
       "    </tr>\n",
       "    <tr>\n",
       "      <th>1</th>\n",
       "      <td>2018-01-03</td>\n",
       "      <td>21.400000</td>\n",
       "      <td>21.683332</td>\n",
       "      <td>21.036667</td>\n",
       "      <td>21.150000</td>\n",
       "      <td>21.150000</td>\n",
       "      <td>67822500</td>\n",
       "    </tr>\n",
       "    <tr>\n",
       "      <th>2</th>\n",
       "      <td>2018-01-04</td>\n",
       "      <td>20.858000</td>\n",
       "      <td>21.236668</td>\n",
       "      <td>20.378668</td>\n",
       "      <td>20.974667</td>\n",
       "      <td>20.974667</td>\n",
       "      <td>149194500</td>\n",
       "    </tr>\n",
       "    <tr>\n",
       "      <th>3</th>\n",
       "      <td>2018-01-05</td>\n",
       "      <td>21.108000</td>\n",
       "      <td>21.149332</td>\n",
       "      <td>20.799999</td>\n",
       "      <td>21.105333</td>\n",
       "      <td>21.105333</td>\n",
       "      <td>68868000</td>\n",
       "    </tr>\n",
       "    <tr>\n",
       "      <th>4</th>\n",
       "      <td>2018-01-08</td>\n",
       "      <td>21.066668</td>\n",
       "      <td>22.468000</td>\n",
       "      <td>21.033333</td>\n",
       "      <td>22.427334</td>\n",
       "      <td>22.427334</td>\n",
       "      <td>147891000</td>\n",
       "    </tr>\n",
       "    <tr>\n",
       "      <th>...</th>\n",
       "      <td>...</td>\n",
       "      <td>...</td>\n",
       "      <td>...</td>\n",
       "      <td>...</td>\n",
       "      <td>...</td>\n",
       "      <td>...</td>\n",
       "      <td>...</td>\n",
       "    </tr>\n",
       "    <tr>\n",
       "      <th>246</th>\n",
       "      <td>2018-12-24</td>\n",
       "      <td>20.900000</td>\n",
       "      <td>20.966667</td>\n",
       "      <td>19.680000</td>\n",
       "      <td>19.692667</td>\n",
       "      <td>19.692667</td>\n",
       "      <td>83398500</td>\n",
       "    </tr>\n",
       "    <tr>\n",
       "      <th>247</th>\n",
       "      <td>2018-12-26</td>\n",
       "      <td>20.000000</td>\n",
       "      <td>21.798000</td>\n",
       "      <td>19.606001</td>\n",
       "      <td>21.739332</td>\n",
       "      <td>21.739332</td>\n",
       "      <td>122446500</td>\n",
       "    </tr>\n",
       "    <tr>\n",
       "      <th>248</th>\n",
       "      <td>2018-12-27</td>\n",
       "      <td>21.322666</td>\n",
       "      <td>21.478001</td>\n",
       "      <td>20.100000</td>\n",
       "      <td>21.075333</td>\n",
       "      <td>21.075333</td>\n",
       "      <td>128626500</td>\n",
       "    </tr>\n",
       "    <tr>\n",
       "      <th>249</th>\n",
       "      <td>2018-12-28</td>\n",
       "      <td>21.540001</td>\n",
       "      <td>22.416000</td>\n",
       "      <td>21.227333</td>\n",
       "      <td>22.257999</td>\n",
       "      <td>22.257999</td>\n",
       "      <td>149085000</td>\n",
       "    </tr>\n",
       "    <tr>\n",
       "      <th>250</th>\n",
       "      <td>2018-12-31</td>\n",
       "      <td>22.519333</td>\n",
       "      <td>22.614000</td>\n",
       "      <td>21.684000</td>\n",
       "      <td>22.186666</td>\n",
       "      <td>22.186666</td>\n",
       "      <td>94534500</td>\n",
       "    </tr>\n",
       "  </tbody>\n",
       "</table>\n",
       "<p>251 rows × 7 columns</p>\n",
       "</div>"
      ],
      "text/plain": [
       "           Date       Open       High        Low      Close  Adj Close     Volume\n",
       "0    2018-01-02  20.799999  21.474001  20.733334  21.368668  21.368668   65283000\n",
       "1    2018-01-03  21.400000  21.683332  21.036667  21.150000  21.150000   67822500\n",
       "2    2018-01-04  20.858000  21.236668  20.378668  20.974667  20.974667  149194500\n",
       "3    2018-01-05  21.108000  21.149332  20.799999  21.105333  21.105333   68868000\n",
       "4    2018-01-08  21.066668  22.468000  21.033333  22.427334  22.427334  147891000\n",
       "..          ...        ...        ...        ...        ...        ...        ...\n",
       "246  2018-12-24  20.900000  20.966667  19.680000  19.692667  19.692667   83398500\n",
       "247  2018-12-26  20.000000  21.798000  19.606001  21.739332  21.739332  122446500\n",
       "248  2018-12-27  21.322666  21.478001  20.100000  21.075333  21.075333  128626500\n",
       "249  2018-12-28  21.540001  22.416000  21.227333  22.257999  22.257999  149085000\n",
       "250  2018-12-31  22.519333  22.614000  21.684000  22.186666  22.186666   94534500\n",
       "\n",
       "[251 rows x 7 columns]"
      ]
     },
     "execution_count": 378,
     "metadata": {},
     "output_type": "execute_result"
    }
   ],
   "source": [
    "# 초반에 주가가 너무 낮음 \n",
    "df_2018 = raw_df[raw_df['Date'] <= '2019-01-01']\n",
    "df_2018"
   ]
  },
  {
   "cell_type": "code",
   "execution_count": 379,
   "id": "49439d9a",
   "metadata": {},
   "outputs": [
    {
     "data": {
      "image/png": "[encoded data removed]",
      "text/plain": [
       "<Figure size 432x288 with 1 Axes>"
      ]
     },
     "metadata": {
      "needs_background": "light"
     },
     "output_type": "display_data"
    }
   ],
   "source": [
    "# 2018 주가 확인\n",
    "plt.title('TESLA STCOK PRICE')\n",
    "plt.ylabel('price')\n",
    "plt.ylim(0, 420)\n",
    "plt.xlabel('period')\n",
    "plt.grid()\n",
    "plt.plot(df_2018['Adj Close'], label='Adj Close')\n",
    "\n",
    "plt.show()"
   ]
  },
  {
   "cell_type": "code",
   "execution_count": 380,
   "id": "d8ab0185",
   "metadata": {},
   "outputs": [
    {
     "data": {
      "text/html": [
       "<div>\n",
       "<style scoped>\n",
       "    .dataframe tbody tr th:only-of-type {\n",
       "        vertical-align: middle;\n",
       "    }\n",
       "\n",
       "    .dataframe tbody tr th {\n",
       "        vertical-align: top;\n",
       "    }\n",
       "\n",
       "    .dataframe thead th {\n",
       "        text-align: right;\n",
       "    }\n",
       "</style>\n",
       "<table border=\"1\" class=\"dataframe\">\n",
       "  <thead>\n",
       "    <tr style=\"text-align: right;\">\n",
       "      <th></th>\n",
       "      <th>Date</th>\n",
       "      <th>Open</th>\n",
       "      <th>High</th>\n",
       "      <th>Low</th>\n",
       "      <th>Close</th>\n",
       "      <th>Adj Close</th>\n",
       "      <th>Volume</th>\n",
       "    </tr>\n",
       "  </thead>\n",
       "  <tbody>\n",
       "    <tr>\n",
       "      <th>251</th>\n",
       "      <td>2019-01-02</td>\n",
       "      <td>20.406668</td>\n",
       "      <td>21.008667</td>\n",
       "      <td>19.920000</td>\n",
       "      <td>20.674667</td>\n",
       "      <td>20.674667</td>\n",
       "      <td>174879000</td>\n",
       "    </tr>\n",
       "    <tr>\n",
       "      <th>252</th>\n",
       "      <td>2019-01-03</td>\n",
       "      <td>20.466667</td>\n",
       "      <td>20.626667</td>\n",
       "      <td>19.825333</td>\n",
       "      <td>20.024000</td>\n",
       "      <td>20.024000</td>\n",
       "      <td>104478000</td>\n",
       "    </tr>\n",
       "    <tr>\n",
       "      <th>253</th>\n",
       "      <td>2019-01-04</td>\n",
       "      <td>20.400000</td>\n",
       "      <td>21.200001</td>\n",
       "      <td>20.181999</td>\n",
       "      <td>21.179333</td>\n",
       "      <td>21.179333</td>\n",
       "      <td>110911500</td>\n",
       "    </tr>\n",
       "    <tr>\n",
       "      <th>254</th>\n",
       "      <td>2019-01-07</td>\n",
       "      <td>21.448000</td>\n",
       "      <td>22.449333</td>\n",
       "      <td>21.183332</td>\n",
       "      <td>22.330667</td>\n",
       "      <td>22.330667</td>\n",
       "      <td>113268000</td>\n",
       "    </tr>\n",
       "    <tr>\n",
       "      <th>255</th>\n",
       "      <td>2019-01-08</td>\n",
       "      <td>22.797333</td>\n",
       "      <td>22.934000</td>\n",
       "      <td>21.801332</td>\n",
       "      <td>22.356667</td>\n",
       "      <td>22.356667</td>\n",
       "      <td>105127500</td>\n",
       "    </tr>\n",
       "    <tr>\n",
       "      <th>...</th>\n",
       "      <td>...</td>\n",
       "      <td>...</td>\n",
       "      <td>...</td>\n",
       "      <td>...</td>\n",
       "      <td>...</td>\n",
       "      <td>...</td>\n",
       "      <td>...</td>\n",
       "    </tr>\n",
       "    <tr>\n",
       "      <th>1229</th>\n",
       "      <td>2022-11-17</td>\n",
       "      <td>183.960007</td>\n",
       "      <td>186.160004</td>\n",
       "      <td>180.899994</td>\n",
       "      <td>183.169998</td>\n",
       "      <td>183.169998</td>\n",
       "      <td>64336000</td>\n",
       "    </tr>\n",
       "    <tr>\n",
       "      <th>1230</th>\n",
       "      <td>2022-11-18</td>\n",
       "      <td>185.050003</td>\n",
       "      <td>185.190002</td>\n",
       "      <td>176.550003</td>\n",
       "      <td>180.190002</td>\n",
       "      <td>180.190002</td>\n",
       "      <td>75904900</td>\n",
       "    </tr>\n",
       "    <tr>\n",
       "      <th>1231</th>\n",
       "      <td>2022-11-21</td>\n",
       "      <td>175.850006</td>\n",
       "      <td>176.770004</td>\n",
       "      <td>167.539993</td>\n",
       "      <td>167.869995</td>\n",
       "      <td>167.869995</td>\n",
       "      <td>92882700</td>\n",
       "    </tr>\n",
       "    <tr>\n",
       "      <th>1232</th>\n",
       "      <td>2022-11-22</td>\n",
       "      <td>168.630005</td>\n",
       "      <td>170.919998</td>\n",
       "      <td>166.190002</td>\n",
       "      <td>169.910004</td>\n",
       "      <td>169.910004</td>\n",
       "      <td>78452300</td>\n",
       "    </tr>\n",
       "    <tr>\n",
       "      <th>1233</th>\n",
       "      <td>2022-11-23</td>\n",
       "      <td>173.570007</td>\n",
       "      <td>183.619995</td>\n",
       "      <td>172.500000</td>\n",
       "      <td>183.199997</td>\n",
       "      <td>183.199997</td>\n",
       "      <td>109536700</td>\n",
       "    </tr>\n",
       "  </tbody>\n",
       "</table>\n",
       "<p>983 rows × 7 columns</p>\n",
       "</div>"
      ],
      "text/plain": [
       "            Date        Open        High         Low       Close   Adj Close     Volume\n",
       "251   2019-01-02   20.406668   21.008667   19.920000   20.674667   20.674667  174879000\n",
       "252   2019-01-03   20.466667   20.626667   19.825333   20.024000   20.024000  104478000\n",
       "253   2019-01-04   20.400000   21.200001   20.181999   21.179333   21.179333  110911500\n",
       "254   2019-01-07   21.448000   22.449333   21.183332   22.330667   22.330667  113268000\n",
       "255   2019-01-08   22.797333   22.934000   21.801332   22.356667   22.356667  105127500\n",
       "...          ...         ...         ...         ...         ...         ...        ...\n",
       "1229  2022-11-17  183.960007  186.160004  180.899994  183.169998  183.169998   64336000\n",
       "1230  2022-11-18  185.050003  185.190002  176.550003  180.190002  180.190002   75904900\n",
       "1231  2022-11-21  175.850006  176.770004  167.539993  167.869995  167.869995   92882700\n",
       "1232  2022-11-22  168.630005  170.919998  166.190002  169.910004  169.910004   78452300\n",
       "1233  2022-11-23  173.570007  183.619995  172.500000  183.199997  183.199997  109536700\n",
       "\n",
       "[983 rows x 7 columns]"
      ]
     },
     "execution_count": 380,
     "metadata": {},
     "output_type": "execute_result"
    }
   ],
   "source": [
    "# 현재주가 예측에 있어서 정확도를 떨어뜨릴 것 같아 빼기로 함\n",
    "\n",
    "raw_df = raw_df[raw_df['Date'] >= '2019-01-01']\n",
    "raw_df"
   ]
  },
  {
   "cell_type": "code",
   "execution_count": 381,
   "id": "8077f6b8",
   "metadata": {},
   "outputs": [
    {
     "data": {
      "image/png": "[encoded data removed]",
      "text/plain": [
       "<Figure size 432x288 with 1 Axes>"
      ]
     },
     "metadata": {
      "needs_background": "light"
     },
     "output_type": "display_data"
    }
   ],
   "source": [
    "plt.title('TESLA STCOK PRICE')\n",
    "plt.ylabel('price')\n",
    "plt.ylim(0, 430)\n",
    "plt.xlabel('period')\n",
    "plt.grid()\n",
    "plt.plot(raw_df['Adj Close'], label='Adj Close')\n",
    "\n",
    "plt.show()"
   ]
  },
  {
   "cell_type": "markdown",
   "id": "590c58cf",
   "metadata": {},
   "source": [
    "### 데이터 전처리"
   ]
  },
  {
   "cell_type": "code",
   "execution_count": 382,
   "id": "13cf76ad",
   "metadata": {},
   "outputs": [
    {
     "data": {
      "text/html": [
       "<div>\n",
       "<style scoped>\n",
       "    .dataframe tbody tr th:only-of-type {\n",
       "        vertical-align: middle;\n",
       "    }\n",
       "\n",
       "    .dataframe tbody tr th {\n",
       "        vertical-align: top;\n",
       "    }\n",
       "\n",
       "    .dataframe thead th {\n",
       "        text-align: right;\n",
       "    }\n",
       "</style>\n",
       "<table border=\"1\" class=\"dataframe\">\n",
       "  <thead>\n",
       "    <tr style=\"text-align: right;\">\n",
       "      <th></th>\n",
       "      <th>Open</th>\n",
       "      <th>High</th>\n",
       "      <th>Low</th>\n",
       "      <th>Close</th>\n",
       "      <th>Adj Close</th>\n",
       "      <th>Volume</th>\n",
       "    </tr>\n",
       "  </thead>\n",
       "  <tbody>\n",
       "    <tr>\n",
       "      <th>count</th>\n",
       "      <td>983.000000</td>\n",
       "      <td>983.000000</td>\n",
       "      <td>983.000000</td>\n",
       "      <td>983.000000</td>\n",
       "      <td>983.000000</td>\n",
       "      <td>9.830000e+02</td>\n",
       "    </tr>\n",
       "    <tr>\n",
       "      <th>mean</th>\n",
       "      <td>159.477633</td>\n",
       "      <td>163.171535</td>\n",
       "      <td>155.405202</td>\n",
       "      <td>159.363110</td>\n",
       "      <td>159.363110</td>\n",
       "      <td>1.332937e+08</td>\n",
       "    </tr>\n",
       "    <tr>\n",
       "      <th>std</th>\n",
       "      <td>117.940238</td>\n",
       "      <td>120.578623</td>\n",
       "      <td>114.906614</td>\n",
       "      <td>117.733191</td>\n",
       "      <td>117.733191</td>\n",
       "      <td>9.466376e+07</td>\n",
       "    </tr>\n",
       "    <tr>\n",
       "      <th>min</th>\n",
       "      <td>12.073333</td>\n",
       "      <td>12.445333</td>\n",
       "      <td>11.799333</td>\n",
       "      <td>11.931333</td>\n",
       "      <td>11.931333</td>\n",
       "      <td>2.940180e+07</td>\n",
       "    </tr>\n",
       "    <tr>\n",
       "      <th>25%</th>\n",
       "      <td>26.210667</td>\n",
       "      <td>27.328333</td>\n",
       "      <td>25.886000</td>\n",
       "      <td>26.987667</td>\n",
       "      <td>26.987667</td>\n",
       "      <td>7.312650e+07</td>\n",
       "    </tr>\n",
       "    <tr>\n",
       "      <th>50%</th>\n",
       "      <td>190.779999</td>\n",
       "      <td>195.729996</td>\n",
       "      <td>182.589996</td>\n",
       "      <td>190.563339</td>\n",
       "      <td>190.563339</td>\n",
       "      <td>1.000119e+08</td>\n",
       "    </tr>\n",
       "    <tr>\n",
       "      <th>75%</th>\n",
       "      <td>253.014999</td>\n",
       "      <td>257.413330</td>\n",
       "      <td>246.396667</td>\n",
       "      <td>252.541664</td>\n",
       "      <td>252.541664</td>\n",
       "      <td>1.582928e+08</td>\n",
       "    </tr>\n",
       "    <tr>\n",
       "      <th>max</th>\n",
       "      <td>411.470001</td>\n",
       "      <td>414.496674</td>\n",
       "      <td>405.666656</td>\n",
       "      <td>409.970001</td>\n",
       "      <td>409.970001</td>\n",
       "      <td>9.140820e+08</td>\n",
       "    </tr>\n",
       "  </tbody>\n",
       "</table>\n",
       "</div>"
      ],
      "text/plain": [
       "             Open        High         Low       Close   Adj Close        Volume\n",
       "count  983.000000  983.000000  983.000000  983.000000  983.000000  9.830000e+02\n",
       "mean   159.477633  163.171535  155.405202  159.363110  159.363110  1.332937e+08\n",
       "std    117.940238  120.578623  114.906614  117.733191  117.733191  9.466376e+07\n",
       "min     12.073333   12.445333   11.799333   11.931333   11.931333  2.940180e+07\n",
       "25%     26.210667   27.328333   25.886000   26.987667   26.987667  7.312650e+07\n",
       "50%    190.779999  195.729996  182.589996  190.563339  190.563339  1.000119e+08\n",
       "75%    253.014999  257.413330  246.396667  252.541664  252.541664  1.582928e+08\n",
       "max    411.470001  414.496674  405.666656  409.970001  409.970001  9.140820e+08"
      ]
     },
     "execution_count": 382,
     "metadata": {},
     "output_type": "execute_result"
    }
   ],
   "source": [
    "# 통계 정보 확인\n",
    "raw_df.describe()"
   ]
  },
  {
   "cell_type": "code",
   "execution_count": 383,
   "id": "3ef3ddaa",
   "metadata": {},
   "outputs": [
    {
     "data": {
      "text/plain": [
       "Date         0\n",
       "Open         0\n",
       "High         0\n",
       "Low          0\n",
       "Close        0\n",
       "Adj Close    0\n",
       "Volume       0\n",
       "dtype: int64"
      ]
     },
     "execution_count": 383,
     "metadata": {},
     "output_type": "execute_result"
    }
   ],
   "source": [
    "# 결측치 확인\n",
    "raw_df.isnull().sum()\n",
    "\n",
    "# lucky~~~"
   ]
  },
  {
   "cell_type": "code",
   "execution_count": 384,
   "id": "90db3520",
   "metadata": {},
   "outputs": [
    {
     "name": "stdout",
     "output_type": "stream",
     "text": [
      "         Open      High       Low     Close  Adj Close    Volume\n",
      "0    0.020865  0.021299  0.020618  0.021966   0.021966  0.164440\n",
      "1    0.021015  0.020349  0.020377  0.020331   0.020331  0.084863\n",
      "2    0.020848  0.021775  0.021283  0.023234   0.023234  0.092135\n",
      "3    0.023472  0.024882  0.023825  0.026126   0.026126  0.094798\n",
      "4    0.026850  0.026088  0.025394  0.026192   0.026192  0.085597\n",
      "..        ...       ...       ...       ...        ...       ...\n",
      "978  0.430366  0.432071  0.429334  0.430206   0.430206  0.039488\n",
      "979  0.433095  0.429658  0.418290  0.422719   0.422719  0.052565\n",
      "980  0.410060  0.408716  0.395414  0.391768   0.391768  0.071756\n",
      "981  0.391983  0.394165  0.391986  0.396893   0.396893  0.055444\n",
      "982  0.404352  0.425753  0.408007  0.430281   0.430281  0.090581\n",
      "\n",
      "[983 rows x 6 columns]\n"
     ]
    }
   ],
   "source": [
    "# 정규화\n",
    "\n",
    "scaler = MinMaxScaler()\n",
    "scale_cols = ['Open', 'High', 'Low', 'Close', 'Adj Close', 'Volume']\n",
    "scaled_df = scaler.fit_transform(raw_df[scale_cols])\n",
    "scaled_df = pd.DataFrame(scaled_df, columns=scale_cols)\n",
    "\n",
    "print(scaled_df)"
   ]
  },
  {
   "cell_type": "code",
   "execution_count": 385,
   "id": "79712249",
   "metadata": {},
   "outputs": [
    {
     "name": "stdout",
     "output_type": "stream",
     "text": [
      "(757, 6)\n",
      "(226, 6)\n"
     ]
    }
   ],
   "source": [
    "# 2022년 idx를 기준으로 분리\n",
    "idx = raw_df[raw_df.Date <= '2022-01-01'].shape[0]\n",
    "\n",
    "TRAIN = scaled_df[0:idx]\n",
    "TEST = scaled_df[idx:]\n",
    "\n",
    "print(TRAIN.shape)\n",
    "print(TEST.shape)"
   ]
  },
  {
   "cell_type": "code",
   "execution_count": 386,
   "id": "5a54c9ed",
   "metadata": {},
   "outputs": [],
   "source": [
    "# 입력 파라미터 feature, label => numpy type\n",
    "\n",
    "def make_sequene_dataset(feature, label, window_size):\n",
    "\n",
    "    feature_list = []      # 생성될 feature list\n",
    "    label_list = []        # 생성될 label list\n",
    "\n",
    "    for i in range(len(feature)-window_size):\n",
    "\n",
    "        feature_list.append(feature[i:i+window_size])\n",
    "        label_list.append(label[i+window_size])\n",
    "\n",
    "    return np.array(feature_list), np.array(label_list)"
   ]
  },
  {
   "cell_type": "code",
   "execution_count": 387,
   "id": "c13423a2",
   "metadata": {},
   "outputs": [],
   "source": [
    "# feature_df, label_df 생성\n",
    "\n",
    "feature_cols = [ 'Adj Close' ]\n",
    "label_cols = [ 'Adj Close' ]\n",
    "\n",
    "train_feature = pd.DataFrame(TRAIN, columns=feature_cols)\n",
    "test_feature = pd.DataFrame(TEST, columns=feature_cols)\n",
    "train_label =  pd.DataFrame(TRAIN, columns=label_cols)\n",
    "test_label =  pd.DataFrame(TEST, columns=label_cols)"
   ]
  },
  {
   "cell_type": "code",
   "execution_count": 388,
   "id": "3ad1526a",
   "metadata": {},
   "outputs": [
    {
     "name": "stdout",
     "output_type": "stream",
     "text": [
      "(757, 1) (757, 1)\n",
      "(226, 1) (226, 1)\n"
     ]
    }
   ],
   "source": [
    "# DataFrame => Numpy 변환\n",
    "\n",
    "train_feature_np = train_feature.to_numpy()\n",
    "test_feature_np = test_feature.to_numpy()\n",
    "train_label_np = train_label.to_numpy()\n",
    "test_label_np = test_label.to_numpy()\n",
    "\n",
    "print(train_feature_np.shape, train_label_np.shape)\n",
    "print(test_feature_np.shape, test_label_np.shape)"
   ]
  },
  {
   "cell_type": "code",
   "execution_count": 389,
   "id": "bff26cea",
   "metadata": {},
   "outputs": [
    {
     "name": "stdout",
     "output_type": "stream",
     "text": [
      "(727, 30, 1) (727, 1)\n",
      "(196, 30, 1) (196, 1)\n"
     ]
    }
   ],
   "source": [
    "window_size = 30\n",
    "\n",
    "x_train, y_train = make_sequene_dataset(train_feature_np, train_label_np, window_size)\n",
    "x_test, y_test = make_sequene_dataset(test_feature_np, test_label_np, window_size)\n",
    "\n",
    "print(x_train.shape, y_train.shape)\n",
    "print(x_test.shape, y_test.shape)"
   ]
  },
  {
   "cell_type": "code",
   "execution_count": 390,
   "id": "eee85945",
   "metadata": {},
   "outputs": [
    {
     "data": {
      "text/plain": [
       "array([[[0.02196604],\n",
       "        [0.02033136],\n",
       "        [0.02323392],\n",
       "        ...,\n",
       "        [0.02242161],\n",
       "        [0.02224909],\n",
       "        [0.02163944]],\n",
       "\n",
       "       [[0.02033136],\n",
       "        [0.02323392],\n",
       "        [0.02612644],\n",
       "        ...,\n",
       "        [0.02224909],\n",
       "        [0.02163944],\n",
       "        [0.02090249]],\n",
       "\n",
       "       [[0.02323392],\n",
       "        [0.02612644],\n",
       "        [0.02619176],\n",
       "        ...,\n",
       "        [0.02163944],\n",
       "        [0.02090249],\n",
       "        [0.02159087]],\n",
       "\n",
       "       ...,\n",
       "\n",
       "       [[0.81867757],\n",
       "        [0.85329732],\n",
       "        [0.88200474],\n",
       "        ...,\n",
       "        [0.86357269],\n",
       "        [0.88613334],\n",
       "        [0.88155255]],\n",
       "\n",
       "       [[0.85329732],\n",
       "        [0.88200474],\n",
       "        [0.88817667],\n",
       "        ...,\n",
       "        [0.88613334],\n",
       "        [0.88155255],\n",
       "        [0.87964316]],\n",
       "\n",
       "       [[0.88200474],\n",
       "        [0.88817667],\n",
       "        [0.92224371],\n",
       "        ...,\n",
       "        [0.88155255],\n",
       "        [0.87964316],\n",
       "        [0.86636976]]])"
      ]
     },
     "execution_count": 390,
     "metadata": {},
     "output_type": "execute_result"
    }
   ],
   "source": [
    "x_train"
   ]
  },
  {
   "cell_type": "markdown",
   "id": "ae872860",
   "metadata": {},
   "source": [
    "### 모델링"
   ]
  },
  {
   "cell_type": "code",
   "execution_count": 404,
   "id": "04ea2db8",
   "metadata": {},
   "outputs": [],
   "source": [
    "# model 생성\n",
    "\n",
    "model1 = Sequential()\n",
    "model1.add(Conv1D(filters=5, kernel_size=10, strides=1, padding='SAME', activation='elu'))\n",
    "model1.add(Dense(128))\n",
    "model1.add(Dense(1, activation='linear'))\n",
    "\n",
    "model1.compile(loss='mse', optimizer='adam', metrics=['mse'])"
   ]
  },
  {
   "cell_type": "code",
   "execution_count": 405,
   "id": "b9f751d8",
   "metadata": {},
   "outputs": [],
   "source": [
    "model2 = Sequential()\n",
    "model2.add(Dense(128, activation='elu', input_shape=x_train[0].shape))\n",
    "model2.add(Dense(128, activation='elu'))\n",
    "model2.add(Dense(1, activation='linear'))\n",
    "\n",
    "model2.compile(loss='mse', optimizer='adam', metrics=['mse'])"
   ]
  },
  {
   "cell_type": "code",
   "execution_count": 406,
   "id": "7ec2751c",
   "metadata": {},
   "outputs": [],
   "source": [
    "model3 = Sequential()\n",
    "model3.add(LSTM(128, activation='elu', input_shape=x_train[0].shape))\n",
    "model3.add(Dense(128, activation='elu'))\n",
    "model3.add(Dense(1, activation='linear'))\n",
    "\n",
    "model3.compile(loss='mse', optimizer='adam', metrics=['mse'])"
   ]
  },
  {
   "cell_type": "code",
   "execution_count": 394,
   "id": "82bd0de6",
   "metadata": {
    "scrolled": true
   },
   "outputs": [
    {
     "name": "stdout",
     "output_type": "stream",
     "text": [
      "Epoch 1/30\n",
      "37/37 [==============================] - 2s 12ms/step - loss: 0.0350 - mse: 0.0350 - val_loss: 0.0260 - val_mse: 0.0260\n",
      "Epoch 2/30\n",
      "37/37 [==============================] - 0s 4ms/step - loss: 0.0049 - mse: 0.0049 - val_loss: 0.0165 - val_mse: 0.0165\n",
      "Epoch 3/30\n",
      "37/37 [==============================] - 0s 4ms/step - loss: 0.0042 - mse: 0.0042 - val_loss: 0.0156 - val_mse: 0.0156\n",
      "Epoch 4/30\n",
      "37/37 [==============================] - 0s 5ms/step - loss: 0.0042 - mse: 0.0042 - val_loss: 0.0181 - val_mse: 0.0181\n",
      "Epoch 5/30\n",
      "37/37 [==============================] - 0s 3ms/step - loss: 0.0040 - mse: 0.0040 - val_loss: 0.0144 - val_mse: 0.0144\n",
      "Epoch 6/30\n",
      "37/37 [==============================] - 0s 3ms/step - loss: 0.0039 - mse: 0.0039 - val_loss: 0.0145 - val_mse: 0.0145\n",
      "Epoch 7/30\n",
      "37/37 [==============================] - 0s 4ms/step - loss: 0.0038 - mse: 0.0038 - val_loss: 0.0125 - val_mse: 0.0125\n",
      "Epoch 8/30\n",
      "37/37 [==============================] - 0s 5ms/step - loss: 0.0041 - mse: 0.0041 - val_loss: 0.0123 - val_mse: 0.0123\n",
      "Epoch 9/30\n",
      "37/37 [==============================] - 0s 3ms/step - loss: 0.0038 - mse: 0.0038 - val_loss: 0.0153 - val_mse: 0.0153\n",
      "Epoch 10/30\n",
      "37/37 [==============================] - 0s 3ms/step - loss: 0.0036 - mse: 0.0036 - val_loss: 0.0154 - val_mse: 0.0154\n",
      "Epoch 11/30\n",
      "37/37 [==============================] - 0s 4ms/step - loss: 0.0035 - mse: 0.0035 - val_loss: 0.0113 - val_mse: 0.0113\n",
      "Epoch 12/30\n",
      "37/37 [==============================] - 0s 4ms/step - loss: 0.0036 - mse: 0.0036 - val_loss: 0.0110 - val_mse: 0.0110\n",
      "Epoch 13/30\n",
      "37/37 [==============================] - 0s 6ms/step - loss: 0.0035 - mse: 0.0035 - val_loss: 0.0111 - val_mse: 0.0111\n",
      "Epoch 14/30\n",
      "37/37 [==============================] - 0s 3ms/step - loss: 0.0036 - mse: 0.0036 - val_loss: 0.0133 - val_mse: 0.0133\n",
      "Epoch 15/30\n",
      "37/37 [==============================] - 0s 3ms/step - loss: 0.0034 - mse: 0.0034 - val_loss: 0.0158 - val_mse: 0.0158\n",
      "Epoch 16/30\n",
      "37/37 [==============================] - 0s 2ms/step - loss: 0.0032 - mse: 0.0032 - val_loss: 0.0114 - val_mse: 0.0114\n",
      "Epoch 17/30\n",
      "37/37 [==============================] - 0s 4ms/step - loss: 0.0032 - mse: 0.0032 - val_loss: 0.0103 - val_mse: 0.0103\n",
      "Epoch 18/30\n",
      "37/37 [==============================] - 0s 3ms/step - loss: 0.0031 - mse: 0.0031 - val_loss: 0.0161 - val_mse: 0.0161\n",
      "Epoch 19/30\n",
      "37/37 [==============================] - 0s 4ms/step - loss: 0.0033 - mse: 0.0033 - val_loss: 0.0130 - val_mse: 0.0130\n",
      "Epoch 20/30\n",
      "37/37 [==============================] - 0s 3ms/step - loss: 0.0031 - mse: 0.0031 - val_loss: 0.0108 - val_mse: 0.0108\n",
      "Epoch 21/30\n",
      "37/37 [==============================] - 0s 4ms/step - loss: 0.0030 - mse: 0.0030 - val_loss: 0.0121 - val_mse: 0.0121\n",
      "Epoch 22/30\n",
      "37/37 [==============================] - 0s 3ms/step - loss: 0.0030 - mse: 0.0030 - val_loss: 0.0120 - val_mse: 0.0120\n"
     ]
    },
    {
     "data": {
      "text/plain": [
       "<keras.callbacks.History at 0x1eef134ed00>"
      ]
     },
     "execution_count": 394,
     "metadata": {},
     "output_type": "execute_result"
    }
   ],
   "source": [
    "from tensorflow.keras.callbacks import EarlyStopping\n",
    "\n",
    "early_stop = EarlyStopping(monitor='val_loss', patience=5)\n",
    "\n",
    "model1.fit(x_train, y_train, \n",
    "          validation_split=0.2,\n",
    "          epochs=30, batch_size=16,\n",
    "          callbacks=[early_stop])"
   ]
  },
  {
   "cell_type": "code",
   "execution_count": 395,
   "id": "3d178f94",
   "metadata": {},
   "outputs": [
    {
     "name": "stdout",
     "output_type": "stream",
     "text": [
      "Epoch 1/30\n",
      "37/37 [==============================] - 1s 14ms/step - loss: 0.0096 - mse: 0.0096 - val_loss: 0.0109 - val_mse: 0.0109\n",
      "Epoch 2/30\n",
      "37/37 [==============================] - 0s 5ms/step - loss: 0.0031 - mse: 0.0031 - val_loss: 0.0080 - val_mse: 0.0080\n",
      "Epoch 3/30\n",
      "37/37 [==============================] - 0s 5ms/step - loss: 0.0032 - mse: 0.0032 - val_loss: 0.0097 - val_mse: 0.0097\n",
      "Epoch 4/30\n",
      "37/37 [==============================] - 0s 7ms/step - loss: 0.0029 - mse: 0.0029 - val_loss: 0.0082 - val_mse: 0.0082\n",
      "Epoch 5/30\n",
      "37/37 [==============================] - 0s 5ms/step - loss: 0.0030 - mse: 0.0030 - val_loss: 0.0134 - val_mse: 0.0134\n",
      "Epoch 6/30\n",
      "37/37 [==============================] - 0s 4ms/step - loss: 0.0030 - mse: 0.0030 - val_loss: 0.0088 - val_mse: 0.0088\n",
      "Epoch 7/30\n",
      "37/37 [==============================] - 0s 4ms/step - loss: 0.0030 - mse: 0.0030 - val_loss: 0.0112 - val_mse: 0.0112\n"
     ]
    },
    {
     "data": {
      "text/plain": [
       "<keras.callbacks.History at 0x1eef27c9730>"
      ]
     },
     "execution_count": 395,
     "metadata": {},
     "output_type": "execute_result"
    }
   ],
   "source": [
    "from tensorflow.keras.callbacks import EarlyStopping\n",
    "\n",
    "early_stop = EarlyStopping(monitor='val_loss', patience=5)\n",
    "\n",
    "model2.fit(x_train, y_train, \n",
    "          validation_split=0.2,\n",
    "          epochs=30, batch_size=16,\n",
    "          callbacks=[early_stop])"
   ]
  },
  {
   "cell_type": "code",
   "execution_count": 396,
   "id": "f7bbcf77",
   "metadata": {},
   "outputs": [
    {
     "name": "stdout",
     "output_type": "stream",
     "text": [
      "Epoch 1/30\n",
      "37/37 [==============================] - 3s 22ms/step - loss: 0.0052 - mse: 0.0052 - val_loss: 0.0025 - val_mse: 0.0025\n",
      "Epoch 2/30\n",
      "37/37 [==============================] - 1s 15ms/step - loss: 5.8961e-04 - mse: 5.8961e-04 - val_loss: 0.0019 - val_mse: 0.0019\n",
      "Epoch 3/30\n",
      "37/37 [==============================] - 1s 17ms/step - loss: 4.1943e-04 - mse: 4.1943e-04 - val_loss: 0.0021 - val_mse: 0.0021\n",
      "Epoch 4/30\n",
      "37/37 [==============================] - 1s 16ms/step - loss: 3.9980e-04 - mse: 3.9980e-04 - val_loss: 0.0025 - val_mse: 0.0025\n",
      "Epoch 5/30\n",
      "37/37 [==============================] - 1s 16ms/step - loss: 4.3859e-04 - mse: 4.3859e-04 - val_loss: 0.0019 - val_mse: 0.0019\n",
      "Epoch 6/30\n",
      "37/37 [==============================] - 1s 16ms/step - loss: 3.8098e-04 - mse: 3.8098e-04 - val_loss: 0.0016 - val_mse: 0.0016\n",
      "Epoch 7/30\n",
      "37/37 [==============================] - 1s 18ms/step - loss: 3.5558e-04 - mse: 3.5558e-04 - val_loss: 0.0016 - val_mse: 0.0016\n",
      "Epoch 8/30\n",
      "37/37 [==============================] - 1s 18ms/step - loss: 3.8003e-04 - mse: 3.8003e-04 - val_loss: 0.0013 - val_mse: 0.0013\n",
      "Epoch 9/30\n",
      "37/37 [==============================] - 1s 17ms/step - loss: 3.4280e-04 - mse: 3.4280e-04 - val_loss: 0.0015 - val_mse: 0.0015\n",
      "Epoch 10/30\n",
      "37/37 [==============================] - 1s 17ms/step - loss: 3.4312e-04 - mse: 3.4312e-04 - val_loss: 0.0016 - val_mse: 0.0016\n",
      "Epoch 11/30\n",
      "37/37 [==============================] - 1s 16ms/step - loss: 2.9348e-04 - mse: 2.9348e-04 - val_loss: 0.0036 - val_mse: 0.0036\n",
      "Epoch 12/30\n",
      "37/37 [==============================] - 1s 15ms/step - loss: 3.1680e-04 - mse: 3.1680e-04 - val_loss: 0.0011 - val_mse: 0.0011\n",
      "Epoch 13/30\n",
      "37/37 [==============================] - 1s 17ms/step - loss: 2.9247e-04 - mse: 2.9247e-04 - val_loss: 0.0015 - val_mse: 0.0015\n",
      "Epoch 14/30\n",
      "37/37 [==============================] - 1s 20ms/step - loss: 3.0600e-04 - mse: 3.0600e-04 - val_loss: 0.0015 - val_mse: 0.0015\n",
      "Epoch 15/30\n",
      "37/37 [==============================] - 1s 17ms/step - loss: 3.1691e-04 - mse: 3.1691e-04 - val_loss: 9.7033e-04 - val_mse: 9.7033e-04\n",
      "Epoch 16/30\n",
      "37/37 [==============================] - 1s 17ms/step - loss: 3.5293e-04 - mse: 3.5293e-04 - val_loss: 0.0010 - val_mse: 0.0010\n",
      "Epoch 17/30\n",
      "37/37 [==============================] - 1s 17ms/step - loss: 2.8495e-04 - mse: 2.8495e-04 - val_loss: 0.0010 - val_mse: 0.0010\n",
      "Epoch 18/30\n",
      "37/37 [==============================] - 1s 17ms/step - loss: 3.3409e-04 - mse: 3.3409e-04 - val_loss: 0.0011 - val_mse: 0.0011\n",
      "Epoch 19/30\n",
      "37/37 [==============================] - 1s 24ms/step - loss: 2.8202e-04 - mse: 2.8202e-04 - val_loss: 9.3639e-04 - val_mse: 9.3639e-04\n",
      "Epoch 20/30\n",
      "37/37 [==============================] - 1s 16ms/step - loss: 2.6762e-04 - mse: 2.6762e-04 - val_loss: 9.7764e-04 - val_mse: 9.7764e-04\n",
      "Epoch 21/30\n",
      "37/37 [==============================] - 1s 19ms/step - loss: 3.2119e-04 - mse: 3.2119e-04 - val_loss: 0.0023 - val_mse: 0.0023\n",
      "Epoch 22/30\n",
      "37/37 [==============================] - 1s 16ms/step - loss: 3.0636e-04 - mse: 3.0636e-04 - val_loss: 0.0010 - val_mse: 0.0010\n",
      "Epoch 23/30\n",
      "37/37 [==============================] - 1s 16ms/step - loss: 2.8249e-04 - mse: 2.8249e-04 - val_loss: 8.5472e-04 - val_mse: 8.5472e-04\n",
      "Epoch 24/30\n",
      "37/37 [==============================] - 1s 32ms/step - loss: 2.4641e-04 - mse: 2.4641e-04 - val_loss: 0.0011 - val_mse: 0.0011\n",
      "Epoch 25/30\n",
      "37/37 [==============================] - 1s 20ms/step - loss: 2.5547e-04 - mse: 2.5547e-04 - val_loss: 7.8944e-04 - val_mse: 7.8944e-04\n",
      "Epoch 26/30\n",
      "37/37 [==============================] - 1s 21ms/step - loss: 2.6264e-04 - mse: 2.6264e-04 - val_loss: 7.6939e-04 - val_mse: 7.6939e-04\n",
      "Epoch 27/30\n",
      "37/37 [==============================] - 1s 25ms/step - loss: 2.5810e-04 - mse: 2.5810e-04 - val_loss: 0.0012 - val_mse: 0.0012\n",
      "Epoch 28/30\n",
      "37/37 [==============================] - 1s 21ms/step - loss: 2.7775e-04 - mse: 2.7775e-04 - val_loss: 9.0802e-04 - val_mse: 9.0802e-04\n",
      "Epoch 29/30\n",
      "37/37 [==============================] - 1s 25ms/step - loss: 2.5008e-04 - mse: 2.5008e-04 - val_loss: 7.4129e-04 - val_mse: 7.4129e-04\n",
      "Epoch 30/30\n",
      "37/37 [==============================] - 1s 24ms/step - loss: 2.7175e-04 - mse: 2.7175e-04 - val_loss: 7.8743e-04 - val_mse: 7.8743e-04\n"
     ]
    },
    {
     "data": {
      "text/plain": [
       "<keras.callbacks.History at 0x1eef2dd9e50>"
      ]
     },
     "execution_count": 396,
     "metadata": {},
     "output_type": "execute_result"
    }
   ],
   "source": [
    "early_stop = EarlyStopping(monitor='val_loss', patience=5)\n",
    "\n",
    "model3.fit(x_train, y_train, \n",
    "          validation_split=0.2,\n",
    "          epochs=30, batch_size=16,\n",
    "          callbacks=[early_stop])"
   ]
  },
  {
   "cell_type": "code",
   "execution_count": 397,
   "id": "82697ef7",
   "metadata": {
    "scrolled": true
   },
   "outputs": [
    {
     "name": "stdout",
     "output_type": "stream",
     "text": [
      "7/7 [==============================] - 0s 2ms/step - loss: 0.0122 - mse: 0.0122\n",
      "7/7 [==============================] - 0s 2ms/step - loss: 0.0105 - mse: 0.0105\n",
      "7/7 [==============================] - 0s 7ms/step - loss: 0.0011 - mse: 0.0011\n",
      "[0.012228582985699177, 0.012228582985699177]\n",
      "[0.010470390319824219, 0.010470390319824219]\n",
      "[0.0010717888362705708, 0.0010717888362705708]\n"
     ]
    }
   ],
   "source": [
    "# 모델별 mse 확인\n",
    "mse1 = model1.evaluate(x_test, y_test)\n",
    "mse2 = model2.evaluate(x_test, y_test)\n",
    "mse3 = model3.evaluate(x_test, y_test)\n",
    "print(mse1)\n",
    "print(mse2)\n",
    "print(mse3)"
   ]
  },
  {
   "cell_type": "code",
   "execution_count": 398,
   "id": "967753dc",
   "metadata": {
    "scrolled": true
   },
   "outputs": [
    {
     "name": "stdout",
     "output_type": "stream",
     "text": [
      "7/7 [==============================] - 0s 2ms/step\n",
      "7/7 [==============================] - 0s 2ms/step\n",
      "7/7 [==============================] - 0s 2ms/step\n",
      "(196, 30, 1) (196, 30, 1) (196, 30, 1)\n"
     ]
    }
   ],
   "source": [
    "pred1 = model1.predict(x_test)\n",
    "pred2 = model2.predict(x_test)\n",
    "pred3 = model2.predict(x_test)\n",
    "\n",
    "print(pred1.shape, pred2.shape, pred3.shape)"
   ]
  },
  {
   "cell_type": "code",
   "execution_count": 407,
   "id": "34cc2575",
   "metadata": {
    "scrolled": true
   },
   "outputs": [
    {
     "data": {
      "text/plain": [
       "(196, 1)"
      ]
     },
     "execution_count": 407,
     "metadata": {},
     "output_type": "execute_result"
    }
   ],
   "source": [
    "y_test.shape"
   ]
  },
  {
   "cell_type": "code",
   "execution_count": 408,
   "id": "d6c140ba",
   "metadata": {},
   "outputs": [
    {
     "name": "stdout",
     "output_type": "stream",
     "text": [
      "(196, 30, 1)\n"
     ]
    }
   ],
   "source": [
    "print(pred1.shape)"
   ]
  },
  {
   "cell_type": "code",
   "execution_count": 402,
   "id": "8c462fda",
   "metadata": {},
   "outputs": [],
   "source": [
    "# # 차원 낳추기\n"
   ]
  },
  {
   "cell_type": "code",
   "execution_count": 403,
   "id": "22a289ed",
   "metadata": {
    "scrolled": true
   },
   "outputs": [
    {
     "ename": "ValueError",
     "evalue": "x and y can be no greater than 2D, but have shapes (196,) and (196, 30, 1)",
     "output_type": "error",
     "traceback": [
      "\u001b[1;31m---------------------------------------------------------------------------\u001b[0m",
      "\u001b[1;31mValueError\u001b[0m                                Traceback (most recent call last)",
      "Input \u001b[1;32mIn [403]\u001b[0m, in \u001b[0;36m<cell line: 7>\u001b[1;34m()\u001b[0m\n\u001b[0;32m      5\u001b[0m plt\u001b[38;5;241m.\u001b[39mxlabel(\u001b[38;5;124m'\u001b[39m\u001b[38;5;124mperiod\u001b[39m\u001b[38;5;124m'\u001b[39m)\n\u001b[0;32m      6\u001b[0m plt\u001b[38;5;241m.\u001b[39mplot(y_test, label\u001b[38;5;241m=\u001b[39m\u001b[38;5;124m'\u001b[39m\u001b[38;5;124mactual\u001b[39m\u001b[38;5;124m'\u001b[39m, color\u001b[38;5;241m=\u001b[39m\u001b[38;5;124m'\u001b[39m\u001b[38;5;124mred\u001b[39m\u001b[38;5;124m'\u001b[39m)\n\u001b[1;32m----> 7\u001b[0m \u001b[43mplt\u001b[49m\u001b[38;5;241;43m.\u001b[39;49m\u001b[43mplot\u001b[49m\u001b[43m(\u001b[49m\u001b[43mpred1\u001b[49m\u001b[43m,\u001b[49m\u001b[43m \u001b[49m\u001b[43mlabel\u001b[49m\u001b[38;5;241;43m=\u001b[39;49m\u001b[38;5;124;43m'\u001b[39;49m\u001b[38;5;124;43mprediction1\u001b[39;49m\u001b[38;5;124;43m'\u001b[39;49m\u001b[43m,\u001b[49m\u001b[43m \u001b[49m\u001b[43mcolor\u001b[49m\u001b[38;5;241;43m=\u001b[39;49m\u001b[38;5;124;43m'\u001b[39;49m\u001b[38;5;124;43mgreen\u001b[39;49m\u001b[38;5;124;43m'\u001b[39;49m\u001b[43m)\u001b[49m\n\u001b[0;32m      8\u001b[0m plt\u001b[38;5;241m.\u001b[39mplot(pred2, label\u001b[38;5;241m=\u001b[39m\u001b[38;5;124m'\u001b[39m\u001b[38;5;124mprediction2\u001b[39m\u001b[38;5;124m'\u001b[39m, color\u001b[38;5;241m=\u001b[39m\u001b[38;5;124m'\u001b[39m\u001b[38;5;124mpink\u001b[39m\u001b[38;5;124m'\u001b[39m)\n\u001b[0;32m      9\u001b[0m plt\u001b[38;5;241m.\u001b[39mplot(pred3, label\u001b[38;5;241m=\u001b[39m\u001b[38;5;124m'\u001b[39m\u001b[38;5;124mprediction3\u001b[39m\u001b[38;5;124m'\u001b[39m, color\u001b[38;5;241m=\u001b[39m\u001b[38;5;124m'\u001b[39m\u001b[38;5;124mblue\u001b[39m\u001b[38;5;124m'\u001b[39m)\n",
      "File \u001b[1;32mC:\\ProgramData\\Anaconda3\\lib\\site-packages\\matplotlib\\pyplot.py:2757\u001b[0m, in \u001b[0;36mplot\u001b[1;34m(scalex, scaley, data, *args, **kwargs)\u001b[0m\n\u001b[0;32m   2755\u001b[0m \u001b[38;5;129m@_copy_docstring_and_deprecators\u001b[39m(Axes\u001b[38;5;241m.\u001b[39mplot)\n\u001b[0;32m   2756\u001b[0m \u001b[38;5;28;01mdef\u001b[39;00m \u001b[38;5;21mplot\u001b[39m(\u001b[38;5;241m*\u001b[39margs, scalex\u001b[38;5;241m=\u001b[39m\u001b[38;5;28;01mTrue\u001b[39;00m, scaley\u001b[38;5;241m=\u001b[39m\u001b[38;5;28;01mTrue\u001b[39;00m, data\u001b[38;5;241m=\u001b[39m\u001b[38;5;28;01mNone\u001b[39;00m, \u001b[38;5;241m*\u001b[39m\u001b[38;5;241m*\u001b[39mkwargs):\n\u001b[1;32m-> 2757\u001b[0m     \u001b[38;5;28;01mreturn\u001b[39;00m gca()\u001b[38;5;241m.\u001b[39mplot(\n\u001b[0;32m   2758\u001b[0m         \u001b[38;5;241m*\u001b[39margs, scalex\u001b[38;5;241m=\u001b[39mscalex, scaley\u001b[38;5;241m=\u001b[39mscaley,\n\u001b[0;32m   2759\u001b[0m         \u001b[38;5;241m*\u001b[39m\u001b[38;5;241m*\u001b[39m({\u001b[38;5;124m\"\u001b[39m\u001b[38;5;124mdata\u001b[39m\u001b[38;5;124m\"\u001b[39m: data} \u001b[38;5;28;01mif\u001b[39;00m data \u001b[38;5;129;01mis\u001b[39;00m \u001b[38;5;129;01mnot\u001b[39;00m \u001b[38;5;28;01mNone\u001b[39;00m \u001b[38;5;28;01melse\u001b[39;00m {}), \u001b[38;5;241m*\u001b[39m\u001b[38;5;241m*\u001b[39mkwargs)\n",
      "File \u001b[1;32mC:\\ProgramData\\Anaconda3\\lib\\site-packages\\matplotlib\\axes\\_axes.py:1632\u001b[0m, in \u001b[0;36mAxes.plot\u001b[1;34m(self, scalex, scaley, data, *args, **kwargs)\u001b[0m\n\u001b[0;32m   1390\u001b[0m \u001b[38;5;124;03m\"\"\"\u001b[39;00m\n\u001b[0;32m   1391\u001b[0m \u001b[38;5;124;03mPlot y versus x as lines and/or markers.\u001b[39;00m\n\u001b[0;32m   1392\u001b[0m \n\u001b[1;32m   (...)\u001b[0m\n\u001b[0;32m   1629\u001b[0m \u001b[38;5;124;03m(``'green'``) or hex strings (``'#008000'``).\u001b[39;00m\n\u001b[0;32m   1630\u001b[0m \u001b[38;5;124;03m\"\"\"\u001b[39;00m\n\u001b[0;32m   1631\u001b[0m kwargs \u001b[38;5;241m=\u001b[39m cbook\u001b[38;5;241m.\u001b[39mnormalize_kwargs(kwargs, mlines\u001b[38;5;241m.\u001b[39mLine2D)\n\u001b[1;32m-> 1632\u001b[0m lines \u001b[38;5;241m=\u001b[39m [\u001b[38;5;241m*\u001b[39m\u001b[38;5;28mself\u001b[39m\u001b[38;5;241m.\u001b[39m_get_lines(\u001b[38;5;241m*\u001b[39margs, data\u001b[38;5;241m=\u001b[39mdata, \u001b[38;5;241m*\u001b[39m\u001b[38;5;241m*\u001b[39mkwargs)]\n\u001b[0;32m   1633\u001b[0m \u001b[38;5;28;01mfor\u001b[39;00m line \u001b[38;5;129;01min\u001b[39;00m lines:\n\u001b[0;32m   1634\u001b[0m     \u001b[38;5;28mself\u001b[39m\u001b[38;5;241m.\u001b[39madd_line(line)\n",
      "File \u001b[1;32mC:\\ProgramData\\Anaconda3\\lib\\site-packages\\matplotlib\\axes\\_base.py:312\u001b[0m, in \u001b[0;36m_process_plot_var_args.__call__\u001b[1;34m(self, data, *args, **kwargs)\u001b[0m\n\u001b[0;32m    310\u001b[0m     this \u001b[38;5;241m+\u001b[39m\u001b[38;5;241m=\u001b[39m args[\u001b[38;5;241m0\u001b[39m],\n\u001b[0;32m    311\u001b[0m     args \u001b[38;5;241m=\u001b[39m args[\u001b[38;5;241m1\u001b[39m:]\n\u001b[1;32m--> 312\u001b[0m \u001b[38;5;28;01myield from\u001b[39;00m \u001b[38;5;28;43mself\u001b[39;49m\u001b[38;5;241;43m.\u001b[39;49m\u001b[43m_plot_args\u001b[49m\u001b[43m(\u001b[49m\u001b[43mthis\u001b[49m\u001b[43m,\u001b[49m\u001b[43m \u001b[49m\u001b[43mkwargs\u001b[49m\u001b[43m)\u001b[49m\n",
      "File \u001b[1;32mC:\\ProgramData\\Anaconda3\\lib\\site-packages\\matplotlib\\axes\\_base.py:501\u001b[0m, in \u001b[0;36m_process_plot_var_args._plot_args\u001b[1;34m(self, tup, kwargs, return_kwargs)\u001b[0m\n\u001b[0;32m    498\u001b[0m     \u001b[38;5;28;01mraise\u001b[39;00m \u001b[38;5;167;01mValueError\u001b[39;00m(\u001b[38;5;124mf\u001b[39m\u001b[38;5;124m\"\u001b[39m\u001b[38;5;124mx and y must have same first dimension, but \u001b[39m\u001b[38;5;124m\"\u001b[39m\n\u001b[0;32m    499\u001b[0m                      \u001b[38;5;124mf\u001b[39m\u001b[38;5;124m\"\u001b[39m\u001b[38;5;124mhave shapes \u001b[39m\u001b[38;5;132;01m{\u001b[39;00mx\u001b[38;5;241m.\u001b[39mshape\u001b[38;5;132;01m}\u001b[39;00m\u001b[38;5;124m and \u001b[39m\u001b[38;5;132;01m{\u001b[39;00my\u001b[38;5;241m.\u001b[39mshape\u001b[38;5;132;01m}\u001b[39;00m\u001b[38;5;124m\"\u001b[39m)\n\u001b[0;32m    500\u001b[0m \u001b[38;5;28;01mif\u001b[39;00m x\u001b[38;5;241m.\u001b[39mndim \u001b[38;5;241m>\u001b[39m \u001b[38;5;241m2\u001b[39m \u001b[38;5;129;01mor\u001b[39;00m y\u001b[38;5;241m.\u001b[39mndim \u001b[38;5;241m>\u001b[39m \u001b[38;5;241m2\u001b[39m:\n\u001b[1;32m--> 501\u001b[0m     \u001b[38;5;28;01mraise\u001b[39;00m \u001b[38;5;167;01mValueError\u001b[39;00m(\u001b[38;5;124mf\u001b[39m\u001b[38;5;124m\"\u001b[39m\u001b[38;5;124mx and y can be no greater than 2D, but have \u001b[39m\u001b[38;5;124m\"\u001b[39m\n\u001b[0;32m    502\u001b[0m                      \u001b[38;5;124mf\u001b[39m\u001b[38;5;124m\"\u001b[39m\u001b[38;5;124mshapes \u001b[39m\u001b[38;5;132;01m{\u001b[39;00mx\u001b[38;5;241m.\u001b[39mshape\u001b[38;5;132;01m}\u001b[39;00m\u001b[38;5;124m and \u001b[39m\u001b[38;5;132;01m{\u001b[39;00my\u001b[38;5;241m.\u001b[39mshape\u001b[38;5;132;01m}\u001b[39;00m\u001b[38;5;124m\"\u001b[39m)\n\u001b[0;32m    503\u001b[0m \u001b[38;5;28;01mif\u001b[39;00m x\u001b[38;5;241m.\u001b[39mndim \u001b[38;5;241m==\u001b[39m \u001b[38;5;241m1\u001b[39m:\n\u001b[0;32m    504\u001b[0m     x \u001b[38;5;241m=\u001b[39m x[:, np\u001b[38;5;241m.\u001b[39mnewaxis]\n",
      "\u001b[1;31mValueError\u001b[0m: x and y can be no greater than 2D, but have shapes (196,) and (196, 30, 1)"
     ]
    },
    {
     "data": {
      "image/png": "[encoded data removed]",
      "text/plain": [
       "<Figure size 864x432 with 1 Axes>"
      ]
     },
     "metadata": {
      "needs_background": "light"
     },
     "output_type": "display_data"
    }
   ],
   "source": [
    "# 예측값 그래프 그리기\n",
    "plt.figure(figsize=(12, 6))\n",
    "plt.title('Prediction')\n",
    "plt.ylabel('adj close')\n",
    "plt.xlabel('period')\n",
    "plt.plot(y_test, label='actual', color='red')\n",
    "# plt.plot(pred1, label='prediction1', color='green')\n",
    "# plt.plot(pred2, label='prediction2', color='pink')\n",
    "# plt.plot(pred3, label='prediction3', color='blue')\n",
    "plt.grid()\n",
    "plt.legend(loc='best')\n",
    "\n",
    "plt.show()"
   ]
  },
  {
   "cell_type": "code",
   "execution_count": null,
   "id": "592d4dea",
   "metadata": {},
   "outputs": [],
   "source": []
  },
  {
   "cell_type": "code",
   "execution_count": null,
   "id": "002c6251",
   "metadata": {},
   "outputs": [],
   "source": []
  }
 ],
 "metadata": {
  "kernelspec": {
   "display_name": "Python 3 (ipykernel)",
   "language": "python",
   "name": "python3"
  },
  "language_info": {
   "codemirror_mode": {
    "name": "ipython",
    "version": 3
   },
   "file_extension": ".py",
   "mimetype": "text/x-python",
   "name": "python",
   "nbconvert_exporter": "python",
   "pygments_lexer": "ipython3",
   "version": "3.9.12"
  }
 },
 "nbformat": 4,
 "nbformat_minor": 5
}
