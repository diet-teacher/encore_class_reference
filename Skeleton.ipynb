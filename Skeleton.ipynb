{
 "cells": [
  {
   "cell_type": "code",
   "execution_count": 1,
   "metadata": {},
   "outputs": [
    {
     "data": {
      "text/plain": [
       "-1"
      ]
     },
     "execution_count": 1,
     "metadata": {},
     "output_type": "execute_result"
    }
   ],
   "source": [
    "import cv2\n",
    "import numpy as np\n",
    "\n",
    "# 이미지를 읽어서 바이너리 스케일로 변환\n",
    "path = './강의 파일/5 실습이미지데이터/'\n",
    "src = cv2.imread(path + 'human1.jpg', 0)\n",
    "_, img = cv2.threshold(src, 127, 255, \n",
    "                         cv2.THRESH_BINARY_INV+cv2.THRESH_OTSU)\n",
    "kernel = np.ones((3,3),np.uint8)\n",
    "erode = cv2.morphologyEx(img,cv2.MORPH_ERODE,kernel,iterations=2)\n",
    "dilate = cv2.morphologyEx(erode,cv2.MORPH_DILATE,kernel,iterations=20)\n",
    "rst = cv2.morphologyEx(dilate,cv2.MORPH_ERODE,kernel,iterations=18)\n",
    "\n",
    "\n",
    "cv2.imshow('src', src)\n",
    "cv2.imshow('img', img)\n",
    "cv2.imshow('erode', erode)\n",
    "cv2.imshow('dilate', dilate)\n",
    "cv2.imshow('result', rst)\n",
    "cv2.waitKey()\n",
    "cv2.destroyAllWindows()\n",
    "cv2.waitKey(1)"
   ]
  },
  {
   "cell_type": "code",
   "execution_count": 2,
   "metadata": {},
   "outputs": [
    {
     "data": {
      "text/plain": [
       "-1"
      ]
     },
     "execution_count": 2,
     "metadata": {},
     "output_type": "execute_result"
    }
   ],
   "source": [
    "# 거리 변환 ---①\n",
    "dst = cv2.distanceTransform(rst, cv2.DIST_L2, 5)\n",
    "# 거리 값을 0 ~ 255 범위로 정규화 ---②\n",
    "dst1 = (dst/(dst.max()-dst.min()) * 255).astype(np.uint8)\n",
    "# 거리 값에 쓰레시홀드로 완전한 뼈대 찾기 ---③\n",
    "skeleton = cv2.adaptiveThreshold(dst1, 255, \n",
    "                                 cv2.ADAPTIVE_THRESH_GAUSSIAN_C,\n",
    "                                 cv2.THRESH_BINARY, 7, -1)\n",
    "# 결과 출력\n",
    "cv2.imshow('dst', dst)\n",
    "cv2.imshow('dst1', dst1)\n",
    "cv2.imshow('skel', skeleton)\n",
    "cv2.waitKey()\n",
    "cv2.destroyAllWindows()\n",
    "cv2.waitKey(1)"
   ]
  },
  {
   "cell_type": "code",
   "execution_count": null,
   "metadata": {},
   "outputs": [],
   "source": []
  }
 ],
 "metadata": {
  "kernelspec": {
   "display_name": "Python 3",
   "language": "python",
   "name": "python3"
  },
  "language_info": {
   "codemirror_mode": {
    "name": "ipython",
    "version": 3
   },
   "file_extension": ".py",
   "mimetype": "text/x-python",
   "name": "python",
   "nbconvert_exporter": "python",
   "pygments_lexer": "ipython3",
   "version": "3.8.3"
  }
 },
 "nbformat": 4,
 "nbformat_minor": 4
}
