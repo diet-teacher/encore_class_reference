{
 "cells": [
  {
   "cell_type": "code",
   "execution_count": 1,
   "id": "884b0a35",
   "metadata": {},
   "outputs": [
    {
     "name": "stdout",
     "output_type": "stream",
     "text": [
      "안녕하세요\n"
     ]
    }
   ],
   "source": [
    "print('안녕하세요')"
   ]
  },
  {
   "cell_type": "code",
   "execution_count": 6,
   "id": "d611a33e",
   "metadata": {},
   "outputs": [
    {
     "name": "stdout",
     "output_type": "stream",
     "text": [
      "50\n"
     ]
    }
   ],
   "source": [
    "a = 20\n",
    "b = 30\n",
    "c = a + b\n",
    "print(c)"
   ]
  },
  {
   "cell_type": "code",
   "execution_count": 7,
   "id": "e4e1b198",
   "metadata": {},
   "outputs": [
    {
     "name": "stdout",
     "output_type": "stream",
     "text": [
      "20 Mac 30 70 홍길동 1997 20.3\n"
     ]
    }
   ],
   "source": [
    "x = 20\n",
    "Computer = 'Mac'\n",
    "Age = 30\n",
    "my_score = 70\n",
    "_name =  '홍길동'\n",
    "MyBirthYear = 1997\n",
    "data2 = 20.3\n",
    "print(x, Computer, Age, my_score, _name, \n",
    "     MyBirthYear, data2)"
   ]
  },
  {
   "cell_type": "code",
   "execution_count": 4,
   "id": "9bd017b2",
   "metadata": {},
   "outputs": [
    {
     "data": {
      "text/plain": [
       "''"
      ]
     },
     "execution_count": 4,
     "metadata": {},
     "output_type": "execute_result"
    }
   ],
   "source": [
    "_"
   ]
  },
  {
   "cell_type": "code",
   "execution_count": 9,
   "id": "1c6ce89d",
   "metadata": {},
   "outputs": [
    {
     "data": {
      "text/plain": [
       "<function globals()>"
      ]
     },
     "execution_count": 9,
     "metadata": {},
     "output_type": "execute_result"
    }
   ],
   "source": [
    "globals"
   ]
  },
  {
   "cell_type": "code",
   "execution_count": 10,
   "id": "68d76252",
   "metadata": {},
   "outputs": [
    {
     "data": {
      "text/plain": [
       "{'__name__': '__main__',\n",
       " '__doc__': 'Automatically created module for IPython interactive environment',\n",
       " '__package__': None,\n",
       " '__loader__': None,\n",
       " '__spec__': None,\n",
       " '__builtin__': <module 'builtins' (built-in)>,\n",
       " '__builtins__': <module 'builtins' (built-in)>,\n",
       " '_ih': ['',\n",
       "  \"print('안녕하세요')\",\n",
       "  'a = 20\\nb = 30\\nc = a + b\\nprint(c)',\n",
       "  'a = 20\\nb = 30\\nc = a + b\\nprint(c)',\n",
       "  'a = 20\\nb = 30\\nc = a + b\\nprint(c)',\n",
       "  'a = 20\\nb = 30\\nc = a + b\\nprint(c)',\n",
       "  'a = 20\\nb = 30\\nc = a + b\\nprint(c)',\n",
       "  \"x = 20\\nComputer = 'Mac'\\nAge = 30\\nmy_score = 70\\n_name =  '홍길동'\\nMyBirthYear = 1997\\ndata2 = 20.3\\nprint(x, Computer, Age, my_score, _name, \\n     MyBirthYear, data2)\",\n",
       "  '_',\n",
       "  'globals',\n",
       "  'globals()'],\n",
       " '_oh': {8: '', 9: <function globals()>},\n",
       " '_dh': [WindowsPath('C:/Users/Playdata')],\n",
       " 'In': ['',\n",
       "  \"print('안녕하세요')\",\n",
       "  'a = 20\\nb = 30\\nc = a + b\\nprint(c)',\n",
       "  'a = 20\\nb = 30\\nc = a + b\\nprint(c)',\n",
       "  'a = 20\\nb = 30\\nc = a + b\\nprint(c)',\n",
       "  'a = 20\\nb = 30\\nc = a + b\\nprint(c)',\n",
       "  'a = 20\\nb = 30\\nc = a + b\\nprint(c)',\n",
       "  \"x = 20\\nComputer = 'Mac'\\nAge = 30\\nmy_score = 70\\n_name =  '홍길동'\\nMyBirthYear = 1997\\ndata2 = 20.3\\nprint(x, Computer, Age, my_score, _name, \\n     MyBirthYear, data2)\",\n",
       "  '_',\n",
       "  'globals',\n",
       "  'globals()'],\n",
       " 'Out': {8: '', 9: <function globals()>},\n",
       " 'get_ipython': <bound method InteractiveShell.get_ipython of <ipykernel.zmqshell.ZMQInteractiveShell object at 0x000001B1FD015D30>>,\n",
       " 'exit': <IPython.core.autocall.ZMQExitAutocall at 0x1b1fd058880>,\n",
       " 'quit': <IPython.core.autocall.ZMQExitAutocall at 0x1b1fd058880>,\n",
       " '_': <function globals()>,\n",
       " '__': '',\n",
       " '___': '',\n",
       " '_i': 'globals',\n",
       " '_ii': '_',\n",
       " '_iii': \"x = 20\\nComputer = 'Mac'\\nAge = 30\\nmy_score = 70\\n_name =  '홍길동'\\nMyBirthYear = 1997\\ndata2 = 20.3\\nprint(x, Computer, Age, my_score, _name, \\n     MyBirthYear, data2)\",\n",
       " '_i1': \"print('안녕하세요')\",\n",
       " '_i2': 'a = 20\\nb = 30\\nc = a + b\\nprint(c)',\n",
       " 'a': 20,\n",
       " 'b': 30,\n",
       " 'c': 50,\n",
       " '_i3': 'a = 20\\nb = 30\\nc = a + b\\nprint(c)',\n",
       " '_i4': 'a = 20\\nb = 30\\nc = a + b\\nprint(c)',\n",
       " '_i5': 'a = 20\\nb = 30\\nc = a + b\\nprint(c)',\n",
       " '_i6': 'a = 20\\nb = 30\\nc = a + b\\nprint(c)',\n",
       " '_i7': \"x = 20\\nComputer = 'Mac'\\nAge = 30\\nmy_score = 70\\n_name =  '홍길동'\\nMyBirthYear = 1997\\ndata2 = 20.3\\nprint(x, Computer, Age, my_score, _name, \\n     MyBirthYear, data2)\",\n",
       " 'x': 20,\n",
       " 'Computer': 'Mac',\n",
       " 'Age': 30,\n",
       " 'my_score': 70,\n",
       " '_name': '홍길동',\n",
       " 'MyBirthYear': 1997,\n",
       " 'data2': 20.3,\n",
       " '_i8': '_',\n",
       " '_8': '',\n",
       " '_i9': 'globals',\n",
       " '_9': <function globals()>,\n",
       " '_i10': 'globals()'}"
      ]
     },
     "execution_count": 10,
     "metadata": {},
     "output_type": "execute_result"
    }
   ],
   "source": [
    "globals()"
   ]
  },
  {
   "cell_type": "code",
   "execution_count": 11,
   "id": "057f25c5",
   "metadata": {},
   "outputs": [
    {
     "ename": "SyntaxError",
     "evalue": "invalid syntax (3107512467.py, line 1)",
     "output_type": "error",
     "traceback": [
      "\u001b[1;36m  Input \u001b[1;32mIn [11]\u001b[1;36m\u001b[0m\n\u001b[1;33m    eng score = 90\u001b[0m\n\u001b[1;37m        ^\u001b[0m\n\u001b[1;31mSyntaxError\u001b[0m\u001b[1;31m:\u001b[0m invalid syntax\n"
     ]
    }
   ],
   "source": [
    "eng score = 90"
   ]
  },
  {
   "cell_type": "code",
   "execution_count": 12,
   "id": "537b47cb",
   "metadata": {},
   "outputs": [
    {
     "ename": "SyntaxError",
     "evalue": "invalid syntax (254633518.py, line 1)",
     "output_type": "error",
     "traceback": [
      "\u001b[1;36m  Input \u001b[1;32mIn [12]\u001b[1;36m\u001b[0m\n\u001b[1;33m    7font = '굴림'\u001b[0m\n\u001b[1;37m     ^\u001b[0m\n\u001b[1;31mSyntaxError\u001b[0m\u001b[1;31m:\u001b[0m invalid syntax\n"
     ]
    }
   ],
   "source": [
    "7font = '굴림'"
   ]
  },
  {
   "cell_type": "code",
   "execution_count": 13,
   "id": "c4d13d61",
   "metadata": {},
   "outputs": [
    {
     "ename": "SyntaxError",
     "evalue": "invalid syntax (3743021166.py, line 1)",
     "output_type": "error",
     "traceback": [
      "\u001b[1;36m  Input \u001b[1;32mIn [13]\u001b[1;36m\u001b[0m\n\u001b[1;33m    percent% = 100\u001b[0m\n\u001b[1;37m             ^\u001b[0m\n\u001b[1;31mSyntaxError\u001b[0m\u001b[1;31m:\u001b[0m invalid syntax\n"
     ]
    }
   ],
   "source": [
    "percent% = 100"
   ]
  },
  {
   "cell_type": "code",
   "execution_count": 14,
   "id": "903e8b37",
   "metadata": {},
   "outputs": [
    {
     "ename": "NameError",
     "evalue": "name 'animal' is not defined",
     "output_type": "error",
     "traceback": [
      "\u001b[1;31m---------------------------------------------------------------------------\u001b[0m",
      "\u001b[1;31mNameError\u001b[0m                                 Traceback (most recent call last)",
      "Input \u001b[1;32mIn [14]\u001b[0m, in \u001b[0;36m<cell line: 1>\u001b[1;34m()\u001b[0m\n\u001b[1;32m----> 1\u001b[0m \u001b[43manimal\u001b[49m\n",
      "\u001b[1;31mNameError\u001b[0m: name 'animal' is not defined"
     ]
    }
   ],
   "source": [
    "animal# = '사슴'"
   ]
  },
  {
   "cell_type": "code",
   "execution_count": 15,
   "id": "87d1986d",
   "metadata": {
    "scrolled": true
   },
   "outputs": [
    {
     "name": "stdout",
     "output_type": "stream",
     "text": [
      "365\n",
      "<class 'int'>\n"
     ]
    }
   ],
   "source": [
    "a = 365\n",
    "print(a)\n",
    "print(type(a))"
   ]
  },
  {
   "cell_type": "code",
   "execution_count": 16,
   "id": "8d796158",
   "metadata": {},
   "outputs": [
    {
     "name": "stdout",
     "output_type": "stream",
     "text": [
      "365\n",
      "<class 'int'>\n"
     ]
    }
   ],
   "source": [
    "b = 0b101101101\n",
    "print(b)\n",
    "print(type(b))"
   ]
  },
  {
   "cell_type": "code",
   "execution_count": 17,
   "id": "119665e3",
   "metadata": {},
   "outputs": [
    {
     "name": "stdout",
     "output_type": "stream",
     "text": [
      "365\n"
     ]
    }
   ],
   "source": [
    "c = 0o555\n",
    "print(c)"
   ]
  },
  {
   "cell_type": "code",
   "execution_count": 18,
   "id": "5f6a0e6e",
   "metadata": {},
   "outputs": [
    {
     "name": "stdout",
     "output_type": "stream",
     "text": [
      "365\n"
     ]
    }
   ],
   "source": [
    "d = 0x16d\n",
    "print(d)"
   ]
  },
  {
   "cell_type": "code",
   "execution_count": 19,
   "id": "5594216d",
   "metadata": {},
   "outputs": [
    {
     "data": {
      "text/plain": [
       "int"
      ]
     },
     "execution_count": 19,
     "metadata": {},
     "output_type": "execute_result"
    }
   ],
   "source": [
    "type(d)"
   ]
  },
  {
   "cell_type": "code",
   "execution_count": 20,
   "id": "409e726c",
   "metadata": {},
   "outputs": [
    {
     "name": "stdout",
     "output_type": "stream",
     "text": [
      "3.14 -3.14 314.15 0.031415\n"
     ]
    }
   ],
   "source": [
    "fa = 3.14\n",
    "fb = -3.14\n",
    "fc = 3.1415e2\n",
    "fd = 3.1415e-2\n",
    "print(fa, fb, fc, fd)"
   ]
  },
  {
   "cell_type": "code",
   "execution_count": 21,
   "id": "12bfadd2",
   "metadata": {},
   "outputs": [
    {
     "data": {
      "text/plain": [
       "float"
      ]
     },
     "execution_count": 21,
     "metadata": {},
     "output_type": "execute_result"
    }
   ],
   "source": [
    "type(fa)"
   ]
  },
  {
   "cell_type": "code",
   "execution_count": 22,
   "id": "9e3a4ba4",
   "metadata": {},
   "outputs": [
    {
     "name": "stdout",
     "output_type": "stream",
     "text": [
      "82.5\n"
     ]
    }
   ],
   "source": [
    "kor, eng, math, coding = 95, 60, 75, 100\n",
    "print((kor+eng+math+coding)/4)"
   ]
  },
  {
   "cell_type": "code",
   "execution_count": 24,
   "id": "2d74b17d",
   "metadata": {},
   "outputs": [],
   "source": [
    "an_apple = 27\n",
    "an_example = 42"
   ]
  },
  {
   "cell_type": "code",
   "execution_count": 26,
   "id": "9aeb949d",
   "metadata": {},
   "outputs": [],
   "source": [
    "del an_example"
   ]
  },
  {
   "cell_type": "code",
   "execution_count": 27,
   "id": "51870a20",
   "metadata": {},
   "outputs": [],
   "source": [
    "an_apple?"
   ]
  },
  {
   "cell_type": "code",
   "execution_count": 29,
   "id": "319f0eef",
   "metadata": {},
   "outputs": [],
   "source": [
    "?an_apple"
   ]
  },
  {
   "cell_type": "code",
   "execution_count": 30,
   "id": "bc0662c1",
   "metadata": {},
   "outputs": [],
   "source": [
    "??an_apple"
   ]
  },
  {
   "cell_type": "code",
   "execution_count": 31,
   "id": "dde7231b",
   "metadata": {},
   "outputs": [],
   "source": [
    "ba = True\n",
    "bb = False"
   ]
  },
  {
   "cell_type": "code",
   "execution_count": 32,
   "id": "bef8f2f6",
   "metadata": {},
   "outputs": [
    {
     "name": "stdout",
     "output_type": "stream",
     "text": [
      "True\n",
      "False\n",
      "False\n",
      "False\n"
     ]
    }
   ],
   "source": [
    "print(ba and ba)\n",
    "print(ba and bb)\n",
    "print(bb and ba)\n",
    "print(bb and bb)"
   ]
  },
  {
   "cell_type": "code",
   "execution_count": 33,
   "id": "61545ae1",
   "metadata": {
    "scrolled": true
   },
   "outputs": [
    {
     "name": "stdout",
     "output_type": "stream",
     "text": [
      "True\n",
      "True\n",
      "True\n",
      "False\n"
     ]
    }
   ],
   "source": [
    "print(ba or ba)\n",
    "print(ba or bb)\n",
    "print(bb or ba)\n",
    "print(bb or bb)"
   ]
  },
  {
   "cell_type": "code",
   "execution_count": 36,
   "id": "b2320f87",
   "metadata": {},
   "outputs": [
    {
     "data": {
      "text/plain": [
       "False"
      ]
     },
     "execution_count": 36,
     "metadata": {},
     "output_type": "execute_result"
    }
   ],
   "source": [
    "6 == 5"
   ]
  },
  {
   "cell_type": "code",
   "execution_count": 38,
   "id": "8ead867f",
   "metadata": {},
   "outputs": [
    {
     "data": {
      "text/plain": [
       "False"
      ]
     },
     "execution_count": 38,
     "metadata": {},
     "output_type": "execute_result"
    }
   ],
   "source": [
    "6 != 6"
   ]
  },
  {
   "cell_type": "code",
   "execution_count": 44,
   "id": "b7619855",
   "metadata": {},
   "outputs": [
    {
     "data": {
      "text/plain": [
       "True"
      ]
     },
     "execution_count": 44,
     "metadata": {},
     "output_type": "execute_result"
    }
   ],
   "source": [
    "4 >= 4"
   ]
  },
  {
   "cell_type": "code",
   "execution_count": 45,
   "id": "9f8f63d2",
   "metadata": {
    "scrolled": true
   },
   "outputs": [
    {
     "data": {
      "text/plain": [
       "bool"
      ]
     },
     "execution_count": 45,
     "metadata": {},
     "output_type": "execute_result"
    }
   ],
   "source": [
    "type(True)"
   ]
  },
  {
   "cell_type": "code",
   "execution_count": 46,
   "id": "4907c7df",
   "metadata": {},
   "outputs": [
    {
     "data": {
      "text/plain": [
       "True"
      ]
     },
     "execution_count": 46,
     "metadata": {},
     "output_type": "execute_result"
    }
   ],
   "source": [
    "bool(30)"
   ]
  },
  {
   "cell_type": "code",
   "execution_count": 47,
   "id": "393eade7",
   "metadata": {},
   "outputs": [
    {
     "data": {
      "text/plain": [
       "True"
      ]
     },
     "execution_count": 47,
     "metadata": {},
     "output_type": "execute_result"
    }
   ],
   "source": [
    "bool('안녕하세요')"
   ]
  },
  {
   "cell_type": "code",
   "execution_count": 48,
   "id": "342ccc58",
   "metadata": {},
   "outputs": [
    {
     "data": {
      "text/plain": [
       "False"
      ]
     },
     "execution_count": 48,
     "metadata": {},
     "output_type": "execute_result"
    }
   ],
   "source": [
    "bool(\"\")"
   ]
  },
  {
   "cell_type": "code",
   "execution_count": 49,
   "id": "37f5aae7",
   "metadata": {},
   "outputs": [
    {
     "data": {
      "text/plain": [
       "False"
      ]
     },
     "execution_count": 49,
     "metadata": {},
     "output_type": "execute_result"
    }
   ],
   "source": [
    "bool([])"
   ]
  },
  {
   "cell_type": "code",
   "execution_count": 50,
   "id": "061f1623",
   "metadata": {},
   "outputs": [
    {
     "data": {
      "text/plain": [
       "False"
      ]
     },
     "execution_count": 50,
     "metadata": {},
     "output_type": "execute_result"
    }
   ],
   "source": [
    "bool(())"
   ]
  },
  {
   "cell_type": "code",
   "execution_count": 51,
   "id": "428b522c",
   "metadata": {},
   "outputs": [
    {
     "data": {
      "text/plain": [
       "False"
      ]
     },
     "execution_count": 51,
     "metadata": {},
     "output_type": "execute_result"
    }
   ],
   "source": [
    "bool(0)"
   ]
  },
  {
   "cell_type": "code",
   "execution_count": 55,
   "id": "bca289fa",
   "metadata": {},
   "outputs": [
    {
     "name": "stdout",
     "output_type": "stream",
     "text": [
      "Hello world\n",
      "<class 'str'>\n"
     ]
    }
   ],
   "source": [
    "sa = 'Hello world'\n",
    "print(sa)\n",
    "print(type(sa))"
   ]
  },
  {
   "cell_type": "code",
   "execution_count": 57,
   "id": "c68f26d2",
   "metadata": {},
   "outputs": [
    {
     "name": "stdout",
     "output_type": "stream",
     "text": [
      "Tom's favorite food\n"
     ]
    }
   ],
   "source": [
    "sb = \"Tom's favorite food\"\n",
    "print(sb)"
   ]
  },
  {
   "cell_type": "code",
   "execution_count": 58,
   "id": "49343717",
   "metadata": {},
   "outputs": [
    {
     "name": "stdout",
     "output_type": "stream",
     "text": [
      "\"You are right.\" I said\n"
     ]
    }
   ],
   "source": [
    "sc = '\"You are right.\" I said'\n",
    "print(sc)"
   ]
  },
  {
   "cell_type": "code",
   "execution_count": 60,
   "id": "d2d7cfd7",
   "metadata": {},
   "outputs": [
    {
     "name": "stdout",
     "output_type": "stream",
     "text": [
      "Tom's favorite\n",
      "food\n"
     ]
    }
   ],
   "source": [
    "sd = \"\"\"Tom's favorite\n",
    "food\"\"\"\n",
    "print(sd)"
   ]
  },
  {
   "cell_type": "code",
   "execution_count": 63,
   "id": "18797a25",
   "metadata": {},
   "outputs": [
    {
     "name": "stdout",
     "output_type": "stream",
     "text": [
      "\"You are right.\" \n",
      "I said.\n"
     ]
    }
   ],
   "source": [
    "se = '\"You are right.\" \\nI said.'\n",
    "print(se)"
   ]
  },
  {
   "cell_type": "code",
   "execution_count": 62,
   "id": "2a1cf7f1",
   "metadata": {},
   "outputs": [
    {
     "name": "stdout",
     "output_type": "stream",
     "text": [
      "12\n",
      "34\n"
     ]
    }
   ],
   "source": [
    "se = '12\\n34'\n",
    "print(se)"
   ]
  },
  {
   "cell_type": "code",
   "execution_count": 69,
   "id": "df041065",
   "metadata": {},
   "outputs": [
    {
     "name": "stdout",
     "output_type": "stream",
     "text": [
      "\u0000\n"
     ]
    }
   ],
   "source": [
    "sg = '\\000'\n",
    "print(sg)"
   ]
  },
  {
   "cell_type": "code",
   "execution_count": 71,
   "id": "a45ff252",
   "metadata": {},
   "outputs": [
    {
     "name": "stdout",
     "output_type": "stream",
     "text": [
      "\u0000\n"
     ]
    }
   ],
   "source": [
    "print(sg)"
   ]
  },
  {
   "cell_type": "code",
   "execution_count": 72,
   "id": "0c08e343",
   "metadata": {},
   "outputs": [
    {
     "name": "stdout",
     "output_type": "stream",
     "text": [
      "30 30\n",
      "<class 'int'> <class 'str'>\n"
     ]
    }
   ],
   "source": [
    "a, b = 30, '30'\n",
    "print(a, b)\n",
    "print(type(a), type(b))"
   ]
  },
  {
   "cell_type": "code",
   "execution_count": 73,
   "id": "5488530a",
   "metadata": {},
   "outputs": [
    {
     "data": {
      "text/plain": [
       "'this is the first halfand this is the second half'"
      ]
     },
     "execution_count": 73,
     "metadata": {},
     "output_type": "execute_result"
    }
   ],
   "source": [
    "\"this is the first half\" + \"and this is the second half\""
   ]
  },
  {
   "cell_type": "code",
   "execution_count": 75,
   "id": "719d8bde",
   "metadata": {},
   "outputs": [
    {
     "name": "stdout",
     "output_type": "stream",
     "text": [
      "영어 점수: 80점\n"
     ]
    }
   ],
   "source": [
    "eng = 80\n",
    "result = '영어 점수: '+ str(eng) +'점'\n",
    "print(result)"
   ]
  },
  {
   "cell_type": "code",
   "execution_count": 76,
   "id": "29785a21",
   "metadata": {},
   "outputs": [
    {
     "data": {
      "text/plain": [
       "'80'"
      ]
     },
     "execution_count": 76,
     "metadata": {},
     "output_type": "execute_result"
    }
   ],
   "source": [
    "str(eng)"
   ]
  },
  {
   "cell_type": "code",
   "execution_count": 77,
   "id": "c934b738",
   "metadata": {},
   "outputs": [
    {
     "name": "stdout",
     "output_type": "stream",
     "text": [
      "__________________________________________________\n"
     ]
    }
   ],
   "source": [
    "print('_'*50)"
   ]
  },
  {
   "cell_type": "code",
   "execution_count": 79,
   "id": "57ea7aa9",
   "metadata": {},
   "outputs": [
    {
     "data": {
      "text/plain": [
       "49"
      ]
     },
     "execution_count": 79,
     "metadata": {},
     "output_type": "execute_result"
    }
   ],
   "source": [
    "len(\"this is the first half\" + \"and this is the second half\")"
   ]
  },
  {
   "cell_type": "code",
   "execution_count": 80,
   "id": "9f003e0d",
   "metadata": {},
   "outputs": [
    {
     "data": {
      "text/plain": [
       "1"
      ]
     },
     "execution_count": 80,
     "metadata": {},
     "output_type": "execute_result"
    }
   ],
   "source": [
    "len('a')"
   ]
  },
  {
   "cell_type": "code",
   "execution_count": 81,
   "id": "2a9a2445",
   "metadata": {},
   "outputs": [
    {
     "data": {
      "text/plain": [
       "'t'"
      ]
     },
     "execution_count": 81,
     "metadata": {},
     "output_type": "execute_result"
    }
   ],
   "source": [
    "sa = 'this is a string'\n",
    "sa[0]"
   ]
  },
  {
   "cell_type": "code",
   "execution_count": 82,
   "id": "9c26be49",
   "metadata": {},
   "outputs": [
    {
     "data": {
      "text/plain": [
       "'g'"
      ]
     },
     "execution_count": 82,
     "metadata": {},
     "output_type": "execute_result"
    }
   ],
   "source": [
    "sa[-1]"
   ]
  },
  {
   "cell_type": "code",
   "execution_count": 83,
   "id": "aa3ed3cb",
   "metadata": {},
   "outputs": [
    {
     "data": {
      "text/plain": [
       "' '"
      ]
     },
     "execution_count": 83,
     "metadata": {},
     "output_type": "execute_result"
    }
   ],
   "source": [
    "sa[4]"
   ]
  },
  {
   "cell_type": "code",
   "execution_count": 86,
   "id": "0b60d946",
   "metadata": {},
   "outputs": [
    {
     "data": {
      "text/plain": [
       "'this is'"
      ]
     },
     "execution_count": 86,
     "metadata": {},
     "output_type": "execute_result"
    }
   ],
   "source": [
    "sa[:7]"
   ]
  },
  {
   "cell_type": "code",
   "execution_count": 88,
   "id": "4ec1d788",
   "metadata": {},
   "outputs": [
    {
     "data": {
      "text/plain": [
       "'string'"
      ]
     },
     "execution_count": 88,
     "metadata": {},
     "output_type": "execute_result"
    }
   ],
   "source": [
    "sa[-6:]"
   ]
  },
  {
   "cell_type": "code",
   "execution_count": 89,
   "id": "47ac147e",
   "metadata": {},
   "outputs": [
    {
     "data": {
      "text/plain": [
       "'this is a string'"
      ]
     },
     "execution_count": 89,
     "metadata": {},
     "output_type": "execute_result"
    }
   ],
   "source": [
    "sa"
   ]
  },
  {
   "cell_type": "code",
   "execution_count": 90,
   "id": "3245d487",
   "metadata": {},
   "outputs": [
    {
     "data": {
      "text/plain": [
       "'this is a string'"
      ]
     },
     "execution_count": 90,
     "metadata": {},
     "output_type": "execute_result"
    }
   ],
   "source": [
    "sa[:]"
   ]
  },
  {
   "cell_type": "code",
   "execution_count": 91,
   "id": "8032d305",
   "metadata": {},
   "outputs": [
    {
     "data": {
      "text/plain": [
       "'this is a string'"
      ]
     },
     "execution_count": 91,
     "metadata": {},
     "output_type": "execute_result"
    }
   ],
   "source": [
    "sa"
   ]
  },
  {
   "cell_type": "code",
   "execution_count": 95,
   "id": "6e5c24db",
   "metadata": {},
   "outputs": [
    {
     "data": {
      "text/plain": [
       "'this is a rope'"
      ]
     },
     "execution_count": 95,
     "metadata": {},
     "output_type": "execute_result"
    }
   ],
   "source": [
    "sa[:-6] + 'rope'"
   ]
  },
  {
   "cell_type": "code",
   "execution_count": 97,
   "id": "9adaee7b",
   "metadata": {},
   "outputs": [],
   "source": [
    "?sa.replace"
   ]
  },
  {
   "cell_type": "code",
   "execution_count": 98,
   "id": "967b17e7",
   "metadata": {},
   "outputs": [
    {
     "data": {
      "text/plain": [
       "'this is a rope'"
      ]
     },
     "execution_count": 98,
     "metadata": {},
     "output_type": "execute_result"
    }
   ],
   "source": [
    "sa.replace('string', 'rope')"
   ]
  },
  {
   "cell_type": "code",
   "execution_count": 99,
   "id": "4a95c36f",
   "metadata": {},
   "outputs": [],
   "source": [
    "??sa.replace"
   ]
  },
  {
   "cell_type": "markdown",
   "id": "5bbc2e48",
   "metadata": {},
   "source": [
    "##### 문자열 포맷 기능 연습"
   ]
  },
  {
   "cell_type": "code",
   "execution_count": 4,
   "id": "15b47245",
   "metadata": {},
   "outputs": [
    {
     "name": "stdout",
     "output_type": "stream",
     "text": [
      "나는 김수영입니다\n"
     ]
    }
   ],
   "source": [
    "name = '김수영'\n",
    "print('나는 %s입니다' % name)"
   ]
  },
  {
   "cell_type": "code",
   "execution_count": 2,
   "id": "98c719e0",
   "metadata": {},
   "outputs": [
    {
     "name": "stdout",
     "output_type": "stream",
     "text": [
      "나이는 20입니다\n"
     ]
    }
   ],
   "source": [
    "age = 20\n",
    "print('나이는 %d입니다' % age)"
   ]
  },
  {
   "cell_type": "code",
   "execution_count": 8,
   "id": "c138a636",
   "metadata": {},
   "outputs": [
    {
     "name": "stdout",
     "output_type": "stream",
     "text": [
      "2022-12-31\n"
     ]
    }
   ],
   "source": [
    "year  = 2022\n",
    "month = 12\n",
    "day   = 31\n",
    "print('%d-%02d-%02d' %(year, month, day))"
   ]
  },
  {
   "cell_type": "code",
   "execution_count": 10,
   "id": "6b0ab853",
   "metadata": {},
   "outputs": [
    {
     "name": "stdout",
     "output_type": "stream",
     "text": [
      "키는 172.50입니다\n"
     ]
    }
   ],
   "source": [
    "height = 172.5\n",
    "print('키는 %.2f입니다' % height)"
   ]
  },
  {
   "cell_type": "code",
   "execution_count": 11,
   "id": "fb27f662",
   "metadata": {},
   "outputs": [
    {
     "name": "stdout",
     "output_type": "stream",
     "text": [
      "I have 3 children\n"
     ]
    }
   ],
   "source": [
    "print('I have %d children' % 3)"
   ]
  },
  {
   "cell_type": "code",
   "execution_count": 20,
   "id": "bcd90692",
   "metadata": {},
   "outputs": [
    {
     "name": "stdout",
     "output_type": "stream",
     "text": [
      "I have 3.14 children wow\n"
     ]
    }
   ],
   "source": [
    "e = 3\n",
    "print('I have %s children %s' % (3.14, 'wow'))"
   ]
  },
  {
   "cell_type": "code",
   "execution_count": 23,
   "id": "92c9da21",
   "metadata": {},
   "outputs": [
    {
     "data": {
      "text/plain": [
       "'This is 100% True!'"
      ]
     },
     "execution_count": 23,
     "metadata": {},
     "output_type": "execute_result"
    }
   ],
   "source": [
    "'This is %s%% True!' % 100"
   ]
  },
  {
   "cell_type": "code",
   "execution_count": 25,
   "id": "3ec1e84f",
   "metadata": {},
   "outputs": [
    {
     "data": {
      "text/plain": [
       "'      Good'"
      ]
     },
     "execution_count": 25,
     "metadata": {},
     "output_type": "execute_result"
    }
   ],
   "source": [
    "\"%10s\" % 'Good'"
   ]
  },
  {
   "cell_type": "code",
   "execution_count": 26,
   "id": "8fbe4410",
   "metadata": {},
   "outputs": [
    {
     "data": {
      "text/plain": [
       "'Good      '"
      ]
     },
     "execution_count": 26,
     "metadata": {},
     "output_type": "execute_result"
    }
   ],
   "source": [
    "\"%-10s\" % 'Good'"
   ]
  },
  {
   "cell_type": "code",
   "execution_count": 27,
   "id": "3180d16d",
   "metadata": {},
   "outputs": [
    {
     "data": {
      "text/plain": [
       "'3.14'"
      ]
     },
     "execution_count": 27,
     "metadata": {},
     "output_type": "execute_result"
    }
   ],
   "source": [
    "pi = 3.141592\n",
    "\"%.2f\" % pi"
   ]
  },
  {
   "cell_type": "code",
   "execution_count": 29,
   "id": "47bb60e9",
   "metadata": {},
   "outputs": [
    {
     "data": {
      "text/plain": [
       "'3.14                '"
      ]
     },
     "execution_count": 29,
     "metadata": {},
     "output_type": "execute_result"
    }
   ],
   "source": [
    "\"%-20.2f\" % pi"
   ]
  },
  {
   "cell_type": "code",
   "execution_count": 35,
   "id": "fdde4257",
   "metadata": {},
   "outputs": [
    {
     "name": "stdout",
     "output_type": "stream",
     "text": [
      "이름: 최시연, 나이: 33세, 시력: 1.5\n"
     ]
    }
   ],
   "source": [
    "name = '최시연'\n",
    "age  = 33\n",
    "eyesight = 1.5\n",
    "\n",
    "a = '이름: {}'.format(name)\n",
    "b = '나이: {}세'.format(age)\n",
    "c = '시력: {}'.format(eyesight)\n",
    "print(a+\",\", b+\",\", c)"
   ]
  },
  {
   "cell_type": "code",
   "execution_count": 43,
   "id": "183a05b5",
   "metadata": {},
   "outputs": [
    {
     "name": "stdout",
     "output_type": "stream",
     "text": [
      "I have 3 children\n",
      "I have three children\n",
      "I have 3 children\n",
      "I have 3 children wow\n",
      "I have wow children 3\n"
     ]
    }
   ],
   "source": [
    "g = 3\n",
    "print('I have {} children'.format(3))\n",
    "print('I have {} children'.format('three'))\n",
    "print('I have {} children'.format(g))\n",
    "print('I have {} children {}'.format(3, 'wow'))\n",
    "print('I have {1} children {0}'.format(3, 'wow'))"
   ]
  },
  {
   "cell_type": "code",
   "execution_count": 52,
   "id": "8535a359",
   "metadata": {},
   "outputs": [
    {
     "name": "stdout",
     "output_type": "stream",
     "text": [
      "good                \n",
      "                good\n",
      "        good        \n",
      "********good********\n"
     ]
    }
   ],
   "source": [
    "print(\"{0:<20}\".format('good'))\n",
    "print(\"{0:>20}\".format('good'))\n",
    "print(\"{0:^20}\".format('good'))\n",
    "print(\"{0:*^20}\".format('good'))"
   ]
  },
  {
   "cell_type": "code",
   "execution_count": 55,
   "id": "cfe89459",
   "metadata": {},
   "outputs": [
    {
     "name": "stdout",
     "output_type": "stream",
     "text": [
      "4.56 Argentine Pesos are worth US$1\n"
     ]
    }
   ],
   "source": [
    "a = 4.5560\n",
    "b = 'Argentine Pesos'\n",
    "c = 1\n",
    "print('{0:.2f} {1} are worth US${2}'.format(a, b, c))"
   ]
  },
  {
   "cell_type": "code",
   "execution_count": 57,
   "id": "9779795f",
   "metadata": {},
   "outputs": [
    {
     "name": "stdout",
     "output_type": "stream",
     "text": [
      "{우리집}에 자주놀러와요\n"
     ]
    }
   ],
   "source": [
    "print('{{우리집}}에 {}놀러와요'.format('자주'))"
   ]
  },
  {
   "cell_type": "code",
   "execution_count": 59,
   "id": "44f0d443",
   "metadata": {},
   "outputs": [
    {
     "name": "stdout",
     "output_type": "stream",
     "text": [
      "I have 3 children wow\n",
      "I have 5 children wow\n"
     ]
    }
   ],
   "source": [
    "a = 3\n",
    "b = 'wow'\n",
    "print(f'I have {a} children {b}')\n",
    "print(f'I have {a+2} children {b}')"
   ]
  },
  {
   "cell_type": "code",
   "execution_count": 72,
   "id": "996e0833",
   "metadata": {},
   "outputs": [
    {
     "name": "stdout",
     "output_type": "stream",
     "text": [
      "{good}{day}\n"
     ]
    }
   ],
   "source": [
    "print(f'{{good}}''{day}')"
   ]
  },
  {
   "cell_type": "code",
   "execution_count": 62,
   "id": "7f7aaac3",
   "metadata": {},
   "outputs": [],
   "source": [
    "del day"
   ]
  },
  {
   "cell_type": "code",
   "execution_count": 73,
   "id": "ddead7cf",
   "metadata": {},
   "outputs": [],
   "source": [
    "sa = 'Korean culture'"
   ]
  },
  {
   "cell_type": "code",
   "execution_count": 77,
   "id": "6614afeb",
   "metadata": {},
   "outputs": [
    {
     "name": "stdout",
     "output_type": "stream",
     "text": [
      "2\n",
      "0\n",
      "0\n"
     ]
    }
   ],
   "source": [
    "print(sa.count('u'))\n",
    "print(sa.find('K')) # 없는 문자는 -1 반환\n",
    "print(sa.index('K')) # 없는 문자는 에러 반환"
   ]
  },
  {
   "cell_type": "code",
   "execution_count": 85,
   "id": "f72dfc2b",
   "metadata": {},
   "outputs": [
    {
     "name": "stdout",
     "output_type": "stream",
     "text": [
      "K o r e a n   c u l t u r e\n",
      "1,2,3,4,5,6,7,8,9\n"
     ]
    }
   ],
   "source": [
    "print(\" \".join(sa))\n",
    "print(','.join('123456789'))"
   ]
  },
  {
   "cell_type": "code",
   "execution_count": 87,
   "id": "a7986321",
   "metadata": {},
   "outputs": [
    {
     "name": "stdout",
     "output_type": "stream",
     "text": [
      "KOREAN CULTURE\n",
      "korean culture\n"
     ]
    }
   ],
   "source": [
    "print(sa.upper())\n",
    "print(sa.lower())"
   ]
  },
  {
   "cell_type": "code",
   "execution_count": 90,
   "id": "5b4fc7b4",
   "metadata": {},
   "outputs": [
    {
     "name": "stdout",
     "output_type": "stream",
     "text": [
      "Korean\n",
      "Korean    \n",
      "    Korean\n"
     ]
    }
   ],
   "source": [
    "print('    Korean    '.strip())\n",
    "print('    Korean    '.lstrip())\n",
    "print('    Korean    '.rstrip())"
   ]
  },
  {
   "cell_type": "code",
   "execution_count": 5,
   "id": "c4a05f1e",
   "metadata": {},
   "outputs": [
    {
     "name": "stdout",
     "output_type": "stream",
     "text": [
      "C:\\nano\n",
      "C:\\nano\n",
      "c:\n",
      "ano\n"
     ]
    }
   ],
   "source": [
    "#1.\n",
    "print(r'C:\\nano')\n",
    "print('C:\\\\nano')\n",
    "print('c:\\nano')"
   ]
  },
  {
   "cell_type": "code",
   "execution_count": 101,
   "id": "fa94581f",
   "metadata": {
    "scrolled": true
   },
   "outputs": [
    {
     "name": "stdout",
     "output_type": "stream",
     "text": [
      "990316\n",
      "2030998\n",
      "2\n"
     ]
    }
   ],
   "source": [
    "#2. \n",
    "iu = '990316-2030998'\n",
    "print(iu[:6])\n",
    "print(iu[-7:])\n",
    "print(iu[7])"
   ]
  },
  {
   "cell_type": "code",
   "execution_count": 102,
   "id": "87e5559c",
   "metadata": {},
   "outputs": [
    {
     "name": "stdout",
     "output_type": "stream",
     "text": [
      "a@b@c@d\n"
     ]
    }
   ],
   "source": [
    "#3.\n",
    "print('a:b:c:d'.replace(':', '@'))"
   ]
  },
  {
   "cell_type": "code",
   "execution_count": 104,
   "id": "3b42da8d",
   "metadata": {},
   "outputs": [
    {
     "name": "stdout",
     "output_type": "stream",
     "text": [
      "['a', 'b', 'c', 'd']\n"
     ]
    }
   ],
   "source": [
    "#4.\n",
    "print('a&b&c&d'.split('&'))"
   ]
  },
  {
   "cell_type": "code",
   "execution_count": 109,
   "id": "ca7fd9fc",
   "metadata": {
    "scrolled": true
   },
   "outputs": [
    {
     "name": "stdout",
     "output_type": "stream",
     "text": [
      "<class 'str'>\n",
      "<class 'int'>\n",
      "<class 'int'>\n",
      "<class 'str'>\n"
     ]
    }
   ],
   "source": [
    "#5.\n",
    "print(type('720'))\n",
    "print(type(int('720')))\n",
    "print(type(100))\n",
    "print(type(str(100)))"
   ]
  },
  {
   "cell_type": "code",
   "execution_count": 117,
   "id": "95a406c1",
   "metadata": {},
   "outputs": [
    {
     "data": {
      "text/plain": [
       "'홀홀홀'"
      ]
     },
     "execution_count": 117,
     "metadata": {},
     "output_type": "execute_result"
    }
   ],
   "source": [
    "#6.\n",
    "game = '짝홀짝홀짝홀'\n",
    "game[1::2]"
   ]
  },
  {
   "cell_type": "code",
   "execution_count": 6,
   "id": "3fd1aed4",
   "metadata": {},
   "outputs": [
    {
     "name": "stdout",
     "output_type": "stream",
     "text": [
      "010 1234 5678\n",
      "01012345678\n"
     ]
    }
   ],
   "source": [
    "#7.\n",
    "pn = '010-1234-5678'\n",
    "print(pn[:3], pn[4:8], pn[-4:])\n",
    "print(pn.replace('-', ''))"
   ]
  },
  {
   "cell_type": "code",
   "execution_count": 120,
   "id": "d19f9aec",
   "metadata": {},
   "outputs": [
    {
     "name": "stdout",
     "output_type": "stream",
     "text": [
      "com\n"
     ]
    }
   ],
   "source": [
    "#8.\n",
    "ssurl = 'https://www.samsung.com'\n",
    "print(ssurl[-3:])"
   ]
  },
  {
   "cell_type": "markdown",
   "id": "bb06802e",
   "metadata": {},
   "source": [
    "#### list type"
   ]
  },
  {
   "cell_type": "code",
   "execution_count": 121,
   "id": "cb772d1c",
   "metadata": {},
   "outputs": [
    {
     "name": "stdout",
     "output_type": "stream",
     "text": [
      "[]\n",
      "<class 'list'>\n"
     ]
    }
   ],
   "source": [
    "# list 생성\n",
    "a = []\n",
    "print(a)\n",
    "print(type(a))"
   ]
  },
  {
   "cell_type": "code",
   "execution_count": 122,
   "id": "7c19e757",
   "metadata": {},
   "outputs": [
    {
     "name": "stdout",
     "output_type": "stream",
     "text": [
      "[1, 2, 3, 4, 5]\n"
     ]
    }
   ],
   "source": [
    "b = [1,2,3,4,5]\n",
    "print(b)"
   ]
  },
  {
   "cell_type": "code",
   "execution_count": 124,
   "id": "a610130c",
   "metadata": {},
   "outputs": [
    {
     "name": "stdout",
     "output_type": "stream",
     "text": [
      "['red', 'blue', 'yellow']\n"
     ]
    }
   ],
   "source": [
    "c = ['red', 'blue', 'yellow']\n",
    "print(c)"
   ]
  },
  {
   "cell_type": "code",
   "execution_count": 125,
   "id": "21e6096d",
   "metadata": {},
   "outputs": [
    {
     "name": "stdout",
     "output_type": "stream",
     "text": [
      "[1, 2, 'red', 'blue']\n"
     ]
    }
   ],
   "source": [
    "d = [1,2,'red','blue']\n",
    "print(d)"
   ]
  },
  {
   "cell_type": "code",
   "execution_count": 126,
   "id": "107f2ae6",
   "metadata": {},
   "outputs": [
    {
     "name": "stdout",
     "output_type": "stream",
     "text": [
      "[1, 2, ['red', 'blue']]\n"
     ]
    }
   ],
   "source": [
    "e = [1,2,['red','blue']]\n",
    "print(e)"
   ]
  },
  {
   "cell_type": "code",
   "execution_count": 129,
   "id": "f241ca18",
   "metadata": {
    "scrolled": false
   },
   "outputs": [
    {
     "name": "stdout",
     "output_type": "stream",
     "text": [
      "l: [['a', 'b'], [1, 2, 3]]\n",
      "a\n"
     ]
    }
   ],
   "source": [
    "l = [['a','b'], [1, 2, 3]]\n",
    "print('l:', l)\n",
    "print(l[0][0])"
   ]
  },
  {
   "cell_type": "code",
   "execution_count": 8,
   "id": "87e395a1",
   "metadata": {},
   "outputs": [
    {
     "name": "stdout",
     "output_type": "stream",
     "text": [
      "1\n",
      "4\n",
      "5\n"
     ]
    }
   ],
   "source": [
    "b = [1,2,3,4,5]\n",
    "print(b[0])\n",
    "print(b[0] + b[2])\n",
    "print(b[-1])"
   ]
  },
  {
   "cell_type": "code",
   "execution_count": 133,
   "id": "7c206e75",
   "metadata": {
    "scrolled": true
   },
   "outputs": [
    {
     "name": "stdout",
     "output_type": "stream",
     "text": [
      "[1, 2, 3, 4, 5, ['a', 'b', 'c', 'd'], 6, 7, 8, 9]\n",
      "1\n",
      "9\n",
      "['a', 'b', 'c', 'd']\n",
      "c\n",
      "d\n"
     ]
    }
   ],
   "source": [
    "new_a = [1,2,3,4,5,['a','b','c','d'],6,7,8,9]\n",
    "print(new_a)\n",
    "print(new_a[0])\n",
    "print(new_a[-1])\n",
    "print(new_a[5])\n",
    "print(new_a[5][2])\n",
    "print(new_a[5][3])"
   ]
  },
  {
   "cell_type": "code",
   "execution_count": 10,
   "id": "43f7efd7",
   "metadata": {},
   "outputs": [
    {
     "name": "stdout",
     "output_type": "stream",
     "text": [
      "10\n",
      "101\n"
     ]
    }
   ],
   "source": [
    "new_a = [1,2,3,4,5,['a','b',[100,101,102],'c','d'],6,7,8,9]\n",
    "print(len(new_a))\n",
    "print(new_a[5][2][1])"
   ]
  },
  {
   "cell_type": "code",
   "execution_count": 11,
   "id": "5f1dadef",
   "metadata": {},
   "outputs": [
    {
     "name": "stdout",
     "output_type": "stream",
     "text": [
      "[1, 2, 3, 4]\n",
      "[4, 5]\n",
      "[1, 2, 3, 4, 5, ['a', 'b', [100, 101, 102], 'c', 'd']]\n",
      "[1, 3, 5, 6, 8]\n",
      "[1, 4]\n",
      "[1, 5]\n"
     ]
    }
   ],
   "source": [
    "print(b[:4])\n",
    "print(b[3:])\n",
    "print(new_a[:6])\n",
    "print(new_a[::2])\n",
    "print(new_a[:4:3])\n",
    "print(new_a[:5:4])"
   ]
  },
  {
   "cell_type": "code",
   "execution_count": 161,
   "id": "9b0075fc",
   "metadata": {},
   "outputs": [
    {
     "name": "stdout",
     "output_type": "stream",
     "text": [
      "[100, 102]\n"
     ]
    }
   ],
   "source": [
    "# new_a에서 100, 102를 출력하세요\n",
    "print(new_a[5][2][::2])"
   ]
  },
  {
   "cell_type": "code",
   "execution_count": 12,
   "id": "6e7be60b",
   "metadata": {
    "scrolled": true
   },
   "outputs": [
    {
     "data": {
      "text/plain": [
       "[100, 102]"
      ]
     },
     "execution_count": 12,
     "metadata": {},
     "output_type": "execute_result"
    }
   ],
   "source": [
    "a = new_a[5]\n",
    "b = a[2]\n",
    "b[::2]"
   ]
  },
  {
   "cell_type": "code",
   "execution_count": 168,
   "id": "5fce947b",
   "metadata": {},
   "outputs": [],
   "source": [
    "a = [1,2,3,4]\n",
    "b = [5,6,7,8]"
   ]
  },
  {
   "cell_type": "code",
   "execution_count": 176,
   "id": "19dae722",
   "metadata": {
    "scrolled": true
   },
   "outputs": [
    {
     "name": "stdout",
     "output_type": "stream",
     "text": [
      "[1, 2, 3, 4, 5, 6, 7, 8]\n",
      "[1, 2, 3, 4, 1, 2, 3, 4]\n",
      "4\n",
      "1\n",
      "8\n",
      "[5, 6, 7, 8, 'good']\n"
     ]
    }
   ],
   "source": [
    "print(a + b)\n",
    "print(a * 2)\n",
    "print(len(a))\n",
    "print(len([12345678]))\n",
    "print(len('12345678'))\n",
    "print(b + ['good'])"
   ]
  },
  {
   "cell_type": "code",
   "execution_count": 179,
   "id": "11031a88",
   "metadata": {},
   "outputs": [],
   "source": [
    "a[3] = 9"
   ]
  },
  {
   "cell_type": "code",
   "execution_count": 180,
   "id": "ee01698c",
   "metadata": {
    "scrolled": true
   },
   "outputs": [
    {
     "data": {
      "text/plain": [
       "[1, 2, 3, 9]"
      ]
     },
     "execution_count": 180,
     "metadata": {},
     "output_type": "execute_result"
    }
   ],
   "source": [
    "a"
   ]
  },
  {
   "cell_type": "markdown",
   "id": "d80c0c13",
   "metadata": {},
   "source": [
    "##### list method"
   ]
  },
  {
   "cell_type": "code",
   "execution_count": 182,
   "id": "1f792902",
   "metadata": {},
   "outputs": [],
   "source": [
    "a = [1,2,3,4,['a','b','c']]\n",
    "b = [6,7,8,9]"
   ]
  },
  {
   "cell_type": "code",
   "execution_count": 189,
   "id": "797910f4",
   "metadata": {
    "scrolled": false
   },
   "outputs": [
    {
     "name": "stdout",
     "output_type": "stream",
     "text": [
      "5\n",
      "30\n",
      "9\n",
      "6\n"
     ]
    }
   ],
   "source": [
    "print(len(a))\n",
    "print(sum(b))\n",
    "print(max(b))\n",
    "print(min(b))"
   ]
  },
  {
   "cell_type": "code",
   "execution_count": 192,
   "id": "7056a989",
   "metadata": {},
   "outputs": [],
   "source": [
    "del(b[0])\n",
    "b = [6,7,8,9]\n",
    "del b[:3]\n",
    "type(str(b[0]))"
   ]
  },
  {
   "cell_type": "code",
   "execution_count": 200,
   "id": "272951db",
   "metadata": {},
   "outputs": [],
   "source": [
    "b = ['6', '7', '8', '9']\n",
    "b.append('10')"
   ]
  },
  {
   "cell_type": "code",
   "execution_count": 201,
   "id": "a217aa25",
   "metadata": {},
   "outputs": [
    {
     "data": {
      "text/plain": [
       "['6', '7', '8', '9', '10']"
      ]
     },
     "execution_count": 201,
     "metadata": {},
     "output_type": "execute_result"
    }
   ],
   "source": [
    "b"
   ]
  },
  {
   "cell_type": "code",
   "execution_count": 13,
   "id": "52a9d2df",
   "metadata": {},
   "outputs": [
    {
     "name": "stdout",
     "output_type": "stream",
     "text": [
      "{2, 3, 4, 5, 6, 7}\n"
     ]
    }
   ],
   "source": [
    "c = [2,5,6,7,3,4,7]\n",
    "print(set(c))"
   ]
  },
  {
   "cell_type": "code",
   "execution_count": 12,
   "id": "a17c0b73",
   "metadata": {},
   "outputs": [
    {
     "data": {
      "text/plain": [
       "{1, 3, 4, 5, 6}"
      ]
     },
     "execution_count": 12,
     "metadata": {},
     "output_type": "execute_result"
    }
   ],
   "source": []
  },
  {
   "cell_type": "code",
   "execution_count": 202,
   "id": "a84e5fb6",
   "metadata": {},
   "outputs": [],
   "source": [
    "b.append(['11', '12'])"
   ]
  },
  {
   "cell_type": "code",
   "execution_count": 203,
   "id": "17f6c029",
   "metadata": {},
   "outputs": [
    {
     "data": {
      "text/plain": [
       "['6', '7', '8', '9', '10', ['11', '12']]"
      ]
     },
     "execution_count": 203,
     "metadata": {},
     "output_type": "execute_result"
    }
   ],
   "source": [
    "b"
   ]
  },
  {
   "cell_type": "code",
   "execution_count": 204,
   "id": "809209c4",
   "metadata": {},
   "outputs": [],
   "source": [
    "b.extend(['11', '12'])"
   ]
  },
  {
   "cell_type": "code",
   "execution_count": 205,
   "id": "02785085",
   "metadata": {},
   "outputs": [
    {
     "data": {
      "text/plain": [
       "['6', '7', '8', '9', '10', ['11', '12'], '11', '12']"
      ]
     },
     "execution_count": 205,
     "metadata": {},
     "output_type": "execute_result"
    }
   ],
   "source": [
    "b"
   ]
  },
  {
   "cell_type": "code",
   "execution_count": 1,
   "id": "78f9f085",
   "metadata": {},
   "outputs": [],
   "source": [
    "c = ['6', '9', '8', '7']\n",
    "c.sort(reverse=False)"
   ]
  },
  {
   "cell_type": "code",
   "execution_count": 2,
   "id": "dc2ed2a4",
   "metadata": {},
   "outputs": [],
   "source": [
    "c.sort(reverse=True)"
   ]
  },
  {
   "cell_type": "code",
   "execution_count": 3,
   "id": "4ca7b411",
   "metadata": {},
   "outputs": [
    {
     "data": {
      "text/plain": [
       "['9', '8', '7', '6']"
      ]
     },
     "execution_count": 3,
     "metadata": {},
     "output_type": "execute_result"
    }
   ],
   "source": [
    "c"
   ]
  },
  {
   "cell_type": "code",
   "execution_count": 6,
   "id": "488136ea",
   "metadata": {},
   "outputs": [
    {
     "name": "stdout",
     "output_type": "stream",
     "text": [
      "['6', '7', '8', '9']\n"
     ]
    }
   ],
   "source": [
    "c.sort()\n",
    "print(c)"
   ]
  },
  {
   "cell_type": "code",
   "execution_count": 4,
   "id": "567fcd52",
   "metadata": {},
   "outputs": [],
   "source": [
    "d = ['x', 'y', 'z']\n",
    "d.sort()"
   ]
  },
  {
   "cell_type": "code",
   "execution_count": 5,
   "id": "f9a07062",
   "metadata": {},
   "outputs": [
    {
     "data": {
      "text/plain": [
       "['x', 'y', 'z']"
      ]
     },
     "execution_count": 5,
     "metadata": {},
     "output_type": "execute_result"
    }
   ],
   "source": [
    "d"
   ]
  },
  {
   "cell_type": "code",
   "execution_count": 212,
   "id": "01de7834",
   "metadata": {
    "scrolled": true
   },
   "outputs": [
    {
     "data": {
      "text/plain": [
       "['7', '8', '9', '6']"
      ]
     },
     "execution_count": 212,
     "metadata": {},
     "output_type": "execute_result"
    }
   ],
   "source": [
    "c = ['6', '9', '8', '7']\n",
    "c.reverse()\n",
    "c"
   ]
  },
  {
   "cell_type": "code",
   "execution_count": 213,
   "id": "39cfff16",
   "metadata": {
    "scrolled": true
   },
   "outputs": [
    {
     "data": {
      "text/plain": [
       "2"
      ]
     },
     "execution_count": 213,
     "metadata": {},
     "output_type": "execute_result"
    }
   ],
   "source": [
    "c.index('9')"
   ]
  },
  {
   "cell_type": "code",
   "execution_count": 215,
   "id": "d771c8c8",
   "metadata": {},
   "outputs": [],
   "source": [
    "# c.index('5') --> error"
   ]
  },
  {
   "cell_type": "code",
   "execution_count": 216,
   "id": "ce93d1f8",
   "metadata": {},
   "outputs": [
    {
     "data": {
      "text/plain": [
       "['7', '8', '9', '6', '10']"
      ]
     },
     "execution_count": 216,
     "metadata": {},
     "output_type": "execute_result"
    }
   ],
   "source": [
    "c.insert(4, '10')\n",
    "c"
   ]
  },
  {
   "cell_type": "code",
   "execution_count": 217,
   "id": "85c4af87",
   "metadata": {},
   "outputs": [
    {
     "data": {
      "text/plain": [
       "['5', '7', '8', '9', '6', '10']"
      ]
     },
     "execution_count": 217,
     "metadata": {},
     "output_type": "execute_result"
    }
   ],
   "source": [
    "c.insert(0, '5')\n",
    "c"
   ]
  },
  {
   "cell_type": "code",
   "execution_count": 219,
   "id": "090b6e7f",
   "metadata": {
    "scrolled": true
   },
   "outputs": [
    {
     "name": "stdout",
     "output_type": "stream",
     "text": [
      "['3', '3', '4', '5']\n"
     ]
    }
   ],
   "source": [
    "e = ['3', '4', '3', '4', '5']\n",
    "e.remove('4')\n",
    "print(e)"
   ]
  },
  {
   "cell_type": "code",
   "execution_count": 220,
   "id": "3d3a7599",
   "metadata": {},
   "outputs": [
    {
     "name": "stdout",
     "output_type": "stream",
     "text": [
      "['3', '3', '5']\n"
     ]
    }
   ],
   "source": [
    "e.remove('4')"
   ]
  },
  {
   "cell_type": "code",
   "execution_count": 221,
   "id": "4f531a2b",
   "metadata": {},
   "outputs": [
    {
     "data": {
      "text/plain": [
       "'5'"
      ]
     },
     "execution_count": 221,
     "metadata": {},
     "output_type": "execute_result"
    }
   ],
   "source": [
    "e.pop()"
   ]
  },
  {
   "cell_type": "code",
   "execution_count": 222,
   "id": "f4e3ecfb",
   "metadata": {},
   "outputs": [
    {
     "name": "stdout",
     "output_type": "stream",
     "text": [
      "['3', '3']\n"
     ]
    }
   ],
   "source": [
    "print(e)"
   ]
  },
  {
   "cell_type": "code",
   "execution_count": 225,
   "id": "9e6978d9",
   "metadata": {},
   "outputs": [
    {
     "ename": "IndexError",
     "evalue": "pop from empty list",
     "output_type": "error",
     "traceback": [
      "\u001b[1;31m---------------------------------------------------------------------------\u001b[0m",
      "\u001b[1;31mIndexError\u001b[0m                                Traceback (most recent call last)",
      "Input \u001b[1;32mIn [225]\u001b[0m, in \u001b[0;36m<cell line: 1>\u001b[1;34m()\u001b[0m\n\u001b[1;32m----> 1\u001b[0m \u001b[43me\u001b[49m\u001b[38;5;241;43m.\u001b[39;49m\u001b[43mpop\u001b[49m\u001b[43m(\u001b[49m\u001b[43m)\u001b[49m\n\u001b[0;32m      2\u001b[0m \u001b[38;5;28mprint\u001b[39m(e)\n",
      "\u001b[1;31mIndexError\u001b[0m: pop from empty list"
     ]
    }
   ],
   "source": [
    "e.pop()\n",
    "print(e)"
   ]
  },
  {
   "cell_type": "code",
   "execution_count": 23,
   "id": "b0540da4",
   "metadata": {},
   "outputs": [
    {
     "data": {
      "text/plain": [
       "False"
      ]
     },
     "execution_count": 23,
     "metadata": {},
     "output_type": "execute_result"
    }
   ],
   "source": [
    "a='skdhfiuesklf'\n",
    "a.startswith('S')"
   ]
  },
  {
   "cell_type": "code",
   "execution_count": 227,
   "id": "74f30b91",
   "metadata": {},
   "outputs": [
    {
     "data": {
      "text/plain": [
       "0"
      ]
     },
     "execution_count": 227,
     "metadata": {},
     "output_type": "execute_result"
    }
   ],
   "source": [
    "c = [6,6,6,6,6,7,8,9]\n",
    "c.count(5)"
   ]
  },
  {
   "cell_type": "code",
   "execution_count": 228,
   "id": "e8f9ca69",
   "metadata": {},
   "outputs": [],
   "source": [
    "c.append(4)"
   ]
  },
  {
   "cell_type": "code",
   "execution_count": 229,
   "id": "24c62423",
   "metadata": {},
   "outputs": [
    {
     "data": {
      "text/plain": [
       "[6, 6, 6, 6, 6, 7, 8, 9, 4]"
      ]
     },
     "execution_count": 229,
     "metadata": {},
     "output_type": "execute_result"
    }
   ],
   "source": [
    "c"
   ]
  },
  {
   "cell_type": "code",
   "execution_count": 231,
   "id": "ad590e57",
   "metadata": {},
   "outputs": [],
   "source": [
    "c.extend([5])"
   ]
  },
  {
   "cell_type": "code",
   "execution_count": 232,
   "id": "ed2d8b61",
   "metadata": {
    "scrolled": true
   },
   "outputs": [
    {
     "data": {
      "text/plain": [
       "[6, 6, 6, 6, 6, 7, 8, 9, 4, 5]"
      ]
     },
     "execution_count": 232,
     "metadata": {},
     "output_type": "execute_result"
    }
   ],
   "source": [
    "c"
   ]
  },
  {
   "cell_type": "markdown",
   "id": "ee3506b5",
   "metadata": {},
   "source": [
    "### 연습문제"
   ]
  },
  {
   "cell_type": "code",
   "execution_count": 235,
   "id": "c0bc1980",
   "metadata": {},
   "outputs": [
    {
     "name": "stdout",
     "output_type": "stream",
     "text": [
      "We are the world\n"
     ]
    }
   ],
   "source": [
    "#1. \n",
    "print(' '.join(['We', 'are', 'the', 'world']))"
   ]
  },
  {
   "cell_type": "code",
   "execution_count": 240,
   "id": "e7c1b4ff",
   "metadata": {},
   "outputs": [
    {
     "data": {
      "text/plain": [
       "[8, 8, 8, 1, 5]"
      ]
     },
     "execution_count": 240,
     "metadata": {},
     "output_type": "execute_result"
    }
   ],
   "source": [
    "#2.\n",
    "a = [8,8,8]\n",
    "a + [1,5]"
   ]
  },
  {
   "cell_type": "code",
   "execution_count": 241,
   "id": "306f3ea8",
   "metadata": {
    "scrolled": true
   },
   "outputs": [
    {
     "data": {
      "text/plain": [
       "[8, 8, 8, 'cola']"
      ]
     },
     "execution_count": 241,
     "metadata": {},
     "output_type": "execute_result"
    }
   ],
   "source": [
    "a.extend(['cola'])\n",
    "a"
   ]
  },
  {
   "cell_type": "code",
   "execution_count": 242,
   "id": "3970fa46",
   "metadata": {},
   "outputs": [],
   "source": [
    "m_r = ['알라딘', '토이스토리', '기생충']"
   ]
  },
  {
   "cell_type": "code",
   "execution_count": 243,
   "id": "900377d4",
   "metadata": {},
   "outputs": [],
   "source": [
    "m_r.append('롱 리브 더 킹')"
   ]
  },
  {
   "cell_type": "code",
   "execution_count": 244,
   "id": "71525727",
   "metadata": {},
   "outputs": [
    {
     "data": {
      "text/plain": [
       "['알라딘', '토이스토리', '기생충', '롱 리브 더 킹']"
      ]
     },
     "execution_count": 244,
     "metadata": {},
     "output_type": "execute_result"
    }
   ],
   "source": [
    "m_r"
   ]
  },
  {
   "cell_type": "code",
   "execution_count": 245,
   "id": "1af800a2",
   "metadata": {},
   "outputs": [
    {
     "data": {
      "text/plain": [
       "['알라딘', '토이스토리', '슈퍼맨 리턴즈', '기생충', '롱 리브 더 킹']"
      ]
     },
     "execution_count": 245,
     "metadata": {},
     "output_type": "execute_result"
    }
   ],
   "source": [
    "m_r.insert(2, '슈퍼맨 리턴즈')\n",
    "m_r"
   ]
  },
  {
   "cell_type": "code",
   "execution_count": 246,
   "id": "c9c81a23",
   "metadata": {},
   "outputs": [
    {
     "data": {
      "text/plain": [
       "['알라딘', '토이스토리', '슈퍼맨 리턴즈', '롱 리브 더 킹']"
      ]
     },
     "execution_count": 246,
     "metadata": {},
     "output_type": "execute_result"
    }
   ],
   "source": [
    "m_r.remove('기생충')\n",
    "m_r"
   ]
  },
  {
   "cell_type": "code",
   "execution_count": 247,
   "id": "bf836ae7",
   "metadata": {
    "scrolled": true
   },
   "outputs": [
    {
     "name": "stdout",
     "output_type": "stream",
     "text": [
      "['BTS', '엑소', '뉴이스트', 'Black Pink', '아이즈원', '트와이스']\n"
     ]
    }
   ],
   "source": [
    "a = ['BTS', '엑소', '뉴이스트']\n",
    "b = ['Black Pink', '아이즈원', '트와이스']\n",
    "ab = a + b\n",
    "print(ab)"
   ]
  },
  {
   "cell_type": "markdown",
   "id": "238d2723",
   "metadata": {},
   "source": [
    "# 2022-08-24"
   ]
  },
  {
   "cell_type": "code",
   "execution_count": 12,
   "id": "d436824a",
   "metadata": {
    "scrolled": false
   },
   "outputs": [
    {
     "name": "stdout",
     "output_type": "stream",
     "text": [
      "1\n",
      "7\n",
      "28\n",
      "7\n",
      "4.0\n",
      "[1, 3, 5, 7]\n",
      "[2, 4, 6]\n",
      "[7, 6, 5, 4, 3, 2, 1]\n"
     ]
    }
   ],
   "source": [
    "# list 연습문제\n",
    "num = [1,2,3,4,5,6,7]\n",
    "print(min(num))\n",
    "print(max(num))\n",
    "print(sum(num))\n",
    "print(len(num))\n",
    "print(sum(num) / len(num))\n",
    "# price[1:]\n",
    "print(num[::2])\n",
    "print(num[1::2])\n",
    "print(num[::-1])"
   ]
  },
  {
   "cell_type": "code",
   "execution_count": 24,
   "id": "ebe78082",
   "metadata": {
    "scrolled": true
   },
   "outputs": [
    {
     "name": "stdout",
     "output_type": "stream",
     "text": [
      "['구글', '아마존', '페이스북']\n"
     ]
    }
   ],
   "source": [
    "string = '구글/아마존/페이스북'\n",
    "wish = string.split('/')\n",
    "#wish = [string[:2], string[3:6], sting[-4:]]\n",
    "print(wish)"
   ]
  },
  {
   "cell_type": "markdown",
   "id": "03ae9d39",
   "metadata": {},
   "source": [
    "## tuple"
   ]
  },
  {
   "cell_type": "code",
   "execution_count": 15,
   "id": "6f2220c2",
   "metadata": {},
   "outputs": [
    {
     "name": "stdout",
     "output_type": "stream",
     "text": [
      "<class 'tuple'>\n",
      "<class 'tuple'>\n",
      "() ()\n"
     ]
    }
   ],
   "source": [
    "t = ()\n",
    "t1 = tuple()\n",
    "print(type(t))\n",
    "print(type(t1))\n",
    "print(t, t1)"
   ]
  },
  {
   "cell_type": "code",
   "execution_count": 27,
   "id": "52ad33ef",
   "metadata": {
    "scrolled": true
   },
   "outputs": [
    {
     "name": "stdout",
     "output_type": "stream",
     "text": [
      "<class 'int'> <class 'tuple'> <class 'tuple'>\n",
      "1 (1,) (1,)\n"
     ]
    }
   ],
   "source": [
    "t2 = (1)\n",
    "t3 = (1,)\n",
    "t4 = 1,\n",
    "print(type(t2), type(t3), type(t4))\n",
    "print(t2, t3, t4)"
   ]
  },
  {
   "cell_type": "code",
   "execution_count": 19,
   "id": "cd2b427b",
   "metadata": {},
   "outputs": [
    {
     "name": "stdout",
     "output_type": "stream",
     "text": [
      "<class 'tuple'> (1, 2, 3)\n"
     ]
    }
   ],
   "source": [
    "t5 = 1,2,3\n",
    "print(type(t5), t5)"
   ]
  },
  {
   "cell_type": "code",
   "execution_count": 20,
   "id": "9e84e760",
   "metadata": {},
   "outputs": [
    {
     "data": {
      "text/plain": [
       "1"
      ]
     },
     "execution_count": 20,
     "metadata": {},
     "output_type": "execute_result"
    }
   ],
   "source": [
    "e = (1,2,('ab', 'cd'),3,4)\n",
    "e[0]"
   ]
  },
  {
   "cell_type": "code",
   "execution_count": 21,
   "id": "ddb1965c",
   "metadata": {},
   "outputs": [
    {
     "ename": "TypeError",
     "evalue": "'tuple' object doesn't support item deletion",
     "output_type": "error",
     "traceback": [
      "\u001b[1;31m---------------------------------------------------------------------------\u001b[0m",
      "\u001b[1;31mTypeError\u001b[0m                                 Traceback (most recent call last)",
      "Input \u001b[1;32mIn [21]\u001b[0m, in \u001b[0;36m<cell line: 1>\u001b[1;34m()\u001b[0m\n\u001b[1;32m----> 1\u001b[0m \u001b[38;5;28;01mdel\u001b[39;00m e[\u001b[38;5;241m0\u001b[39m]\n",
      "\u001b[1;31mTypeError\u001b[0m: 'tuple' object doesn't support item deletion"
     ]
    }
   ],
   "source": [
    "del e[0]"
   ]
  },
  {
   "cell_type": "code",
   "execution_count": 22,
   "id": "a3a0a53d",
   "metadata": {},
   "outputs": [
    {
     "ename": "AttributeError",
     "evalue": "'tuple' object has no attribute 'remove'",
     "output_type": "error",
     "traceback": [
      "\u001b[1;31m---------------------------------------------------------------------------\u001b[0m",
      "\u001b[1;31mAttributeError\u001b[0m                            Traceback (most recent call last)",
      "Input \u001b[1;32mIn [22]\u001b[0m, in \u001b[0;36m<cell line: 1>\u001b[1;34m()\u001b[0m\n\u001b[1;32m----> 1\u001b[0m \u001b[43me\u001b[49m\u001b[38;5;241;43m.\u001b[39;49m\u001b[43mremove\u001b[49m(\u001b[38;5;241m1\u001b[39m)\n",
      "\u001b[1;31mAttributeError\u001b[0m: 'tuple' object has no attribute 'remove'"
     ]
    }
   ],
   "source": [
    "e.remove(1)\n",
    "e.pop()"
   ]
  },
  {
   "cell_type": "code",
   "execution_count": 24,
   "id": "21ce1b2c",
   "metadata": {},
   "outputs": [],
   "source": [
    "c = 1, 2, 3\n",
    "e = 1, 2, ('ab', 'cd'), 3, 4"
   ]
  },
  {
   "cell_type": "code",
   "execution_count": 25,
   "id": "bed43457",
   "metadata": {},
   "outputs": [
    {
     "data": {
      "text/plain": [
       "(1, 2, ('ab', 'cd'), 3, 4)"
      ]
     },
     "execution_count": 25,
     "metadata": {},
     "output_type": "execute_result"
    }
   ],
   "source": [
    "e[:]"
   ]
  },
  {
   "cell_type": "code",
   "execution_count": 26,
   "id": "520162e9",
   "metadata": {
    "scrolled": true
   },
   "outputs": [
    {
     "data": {
      "text/plain": [
       "(1, 2, 3, 1, 2, ('ab', 'cd'), 3, 4)"
      ]
     },
     "execution_count": 26,
     "metadata": {},
     "output_type": "execute_result"
    }
   ],
   "source": [
    "c + e"
   ]
  },
  {
   "cell_type": "code",
   "execution_count": 27,
   "id": "72e9d0cc",
   "metadata": {},
   "outputs": [
    {
     "data": {
      "text/plain": [
       "(1, 2, 3, 1, 2, 3)"
      ]
     },
     "execution_count": 27,
     "metadata": {},
     "output_type": "execute_result"
    }
   ],
   "source": [
    "c * 2"
   ]
  },
  {
   "cell_type": "code",
   "execution_count": 28,
   "id": "e7ea6267",
   "metadata": {},
   "outputs": [
    {
     "data": {
      "text/plain": [
       "3"
      ]
     },
     "execution_count": 28,
     "metadata": {},
     "output_type": "execute_result"
    }
   ],
   "source": [
    "len(c)"
   ]
  },
  {
   "cell_type": "code",
   "execution_count": 29,
   "id": "73ba004d",
   "metadata": {},
   "outputs": [],
   "source": [
    "x, y, z = 1, 2, 3"
   ]
  },
  {
   "cell_type": "code",
   "execution_count": 30,
   "id": "318f26a4",
   "metadata": {},
   "outputs": [
    {
     "name": "stdout",
     "output_type": "stream",
     "text": [
      "1 2 3\n"
     ]
    }
   ],
   "source": [
    "print(x, y, z)"
   ]
  },
  {
   "cell_type": "code",
   "execution_count": null,
   "id": "a16e59c2",
   "metadata": {},
   "outputs": [],
   "source": [
    "# x, y, z = 1, 2, 3"
   ]
  },
  {
   "cell_type": "code",
   "execution_count": 31,
   "id": "6d55a0e0",
   "metadata": {},
   "outputs": [
    {
     "data": {
      "text/plain": [
       "tuple"
      ]
     },
     "execution_count": 31,
     "metadata": {},
     "output_type": "execute_result"
    }
   ],
   "source": [
    "ds = () # ds = tuple()\n",
    "type(ds)"
   ]
  },
  {
   "cell_type": "code",
   "execution_count": 32,
   "id": "47d8e85a",
   "metadata": {},
   "outputs": [
    {
     "data": {
      "text/plain": [
       "tuple"
      ]
     },
     "execution_count": 32,
     "metadata": {},
     "output_type": "execute_result"
    }
   ],
   "source": [
    "ds1 = (1,)\n",
    "type(ds1)"
   ]
  },
  {
   "cell_type": "code",
   "execution_count": 33,
   "id": "63411031",
   "metadata": {},
   "outputs": [
    {
     "data": {
      "text/plain": [
       "tuple"
      ]
     },
     "execution_count": 33,
     "metadata": {},
     "output_type": "execute_result"
    }
   ],
   "source": [
    "t = 1,2,3,4\n",
    "type(t)"
   ]
  },
  {
   "cell_type": "code",
   "execution_count": 29,
   "id": "f4c15f83",
   "metadata": {},
   "outputs": [
    {
     "name": "stdout",
     "output_type": "stream",
     "text": [
      "('A', 'b', 'c')\n",
      "<class 'tuple'>\n"
     ]
    }
   ],
   "source": [
    "x = ('a', 'b', 'c')\n",
    "x = list(x)\n",
    "x[0] = 'A'\n",
    "x = tuple(x)\n",
    "print(x)\n",
    "print(type(x))"
   ]
  },
  {
   "cell_type": "code",
   "execution_count": 30,
   "id": "f13bcac8",
   "metadata": {},
   "outputs": [],
   "source": [
    "wish = ('구글', '아마존', '페이스북')\n",
    "wish = list(wish)\n",
    "wish = tuple(wish)"
   ]
  },
  {
   "cell_type": "code",
   "execution_count": 31,
   "id": "48602aab",
   "metadata": {},
   "outputs": [
    {
     "data": {
      "text/plain": [
       "('구글', '아마존', '페이스북')"
      ]
     },
     "execution_count": 31,
     "metadata": {},
     "output_type": "execute_result"
    }
   ],
   "source": [
    "wish"
   ]
  },
  {
   "cell_type": "code",
   "execution_count": 33,
   "id": "b9bfec84",
   "metadata": {},
   "outputs": [
    {
     "name": "stdout",
     "output_type": "stream",
     "text": [
      "6\n",
      "<class 'int'>\n"
     ]
    }
   ],
   "source": [
    "my_data = 1,2,3\n",
    "a,b,c = my_data\n",
    "print(a+b+c)\n",
    "print(type(a))"
   ]
  },
  {
   "cell_type": "code",
   "execution_count": 37,
   "id": "37fa0c9d",
   "metadata": {},
   "outputs": [
    {
     "name": "stdout",
     "output_type": "stream",
     "text": [
      "(4, 2, 1, 8, 9)\n"
     ]
    }
   ],
   "source": [
    "y = (4,2,1,8) \n",
    "x = y + (9,)\n",
    "print(x)"
   ]
  },
  {
   "cell_type": "code",
   "execution_count": 48,
   "id": "85752b61",
   "metadata": {},
   "outputs": [],
   "source": [
    "mina = {'성별':'여성', '나이':30,\n",
    "       '이름':'Mina'}"
   ]
  },
  {
   "cell_type": "code",
   "execution_count": 49,
   "id": "fb527bb0",
   "metadata": {
    "scrolled": true
   },
   "outputs": [
    {
     "data": {
      "text/plain": [
       "dict"
      ]
     },
     "execution_count": 49,
     "metadata": {},
     "output_type": "execute_result"
    }
   ],
   "source": [
    "type(mina)"
   ]
  },
  {
   "cell_type": "code",
   "execution_count": 50,
   "id": "9622aa3f",
   "metadata": {
    "scrolled": true
   },
   "outputs": [
    {
     "data": {
      "text/plain": [
       "{'성별': '여성', '나이': 30, '이름': 'Mina'}"
      ]
     },
     "execution_count": 50,
     "metadata": {},
     "output_type": "execute_result"
    }
   ],
   "source": [
    "mina"
   ]
  },
  {
   "cell_type": "code",
   "execution_count": 53,
   "id": "2857736d",
   "metadata": {
    "scrolled": true
   },
   "outputs": [
    {
     "name": "stdout",
     "output_type": "stream",
     "text": [
      "여성\n",
      "30\n",
      "Mina\n"
     ]
    }
   ],
   "source": [
    "print(mina['성별'])\n",
    "print(mina['나이'])\n",
    "print(mina['이름'])"
   ]
  },
  {
   "cell_type": "code",
   "execution_count": 54,
   "id": "cc691772",
   "metadata": {},
   "outputs": [
    {
     "ename": "KeyError",
     "evalue": "'여성'",
     "output_type": "error",
     "traceback": [
      "\u001b[1;31m---------------------------------------------------------------------------\u001b[0m",
      "\u001b[1;31mKeyError\u001b[0m                                  Traceback (most recent call last)",
      "Input \u001b[1;32mIn [54]\u001b[0m, in \u001b[0;36m<cell line: 1>\u001b[1;34m()\u001b[0m\n\u001b[1;32m----> 1\u001b[0m \u001b[43mmina\u001b[49m\u001b[43m[\u001b[49m\u001b[38;5;124;43m'\u001b[39;49m\u001b[38;5;124;43m여성\u001b[39;49m\u001b[38;5;124;43m'\u001b[39;49m\u001b[43m]\u001b[49m\n",
      "\u001b[1;31mKeyError\u001b[0m: '여성'"
     ]
    }
   ],
   "source": [
    "mina['여성']"
   ]
  },
  {
   "cell_type": "code",
   "execution_count": 55,
   "id": "4253acf3",
   "metadata": {},
   "outputs": [
    {
     "data": {
      "text/plain": [
       "dict"
      ]
     },
     "execution_count": 55,
     "metadata": {},
     "output_type": "execute_result"
    }
   ],
   "source": [
    "myongji_js = {}\n",
    "type(myongji_js)"
   ]
  },
  {
   "cell_type": "code",
   "execution_count": 56,
   "id": "d85e58ad",
   "metadata": {},
   "outputs": [],
   "source": [
    "myongji_js['name'] = 'mina'"
   ]
  },
  {
   "cell_type": "code",
   "execution_count": 57,
   "id": "b617ab55",
   "metadata": {},
   "outputs": [
    {
     "data": {
      "text/plain": [
       "{'name': 'mina'}"
      ]
     },
     "execution_count": 57,
     "metadata": {},
     "output_type": "execute_result"
    }
   ],
   "source": [
    "myongji_js"
   ]
  },
  {
   "cell_type": "code",
   "execution_count": 58,
   "id": "89c610ab",
   "metadata": {},
   "outputs": [
    {
     "data": {
      "text/plain": [
       "{'name': 'mina', 'school_year': 4, 'class_no': 1}"
      ]
     },
     "execution_count": 58,
     "metadata": {},
     "output_type": "execute_result"
    }
   ],
   "source": [
    "myongji_js['school_year'] = 4\n",
    "myongji_js['class_no'] = 1\n",
    "myongji_js"
   ]
  },
  {
   "cell_type": "code",
   "execution_count": 59,
   "id": "df7275b4",
   "metadata": {},
   "outputs": [],
   "source": [
    "del myongji_js['school_year']"
   ]
  },
  {
   "cell_type": "code",
   "execution_count": 60,
   "id": "4b508252",
   "metadata": {},
   "outputs": [
    {
     "data": {
      "text/plain": [
       "{'name': 'mina', 'class_no': 1}"
      ]
     },
     "execution_count": 60,
     "metadata": {},
     "output_type": "execute_result"
    }
   ],
   "source": [
    "myongji_js"
   ]
  },
  {
   "cell_type": "code",
   "execution_count": 61,
   "id": "856b3a72",
   "metadata": {},
   "outputs": [],
   "source": [
    "result = {'A':99, 'B':91, 'C':83, 'D':100}"
   ]
  },
  {
   "cell_type": "code",
   "execution_count": 62,
   "id": "f57f8188",
   "metadata": {},
   "outputs": [
    {
     "data": {
      "text/plain": [
       "{'A': 99, 'B': 91, 'C': 83, 'D': 100}"
      ]
     },
     "execution_count": 62,
     "metadata": {},
     "output_type": "execute_result"
    }
   ],
   "source": [
    "result"
   ]
  },
  {
   "cell_type": "code",
   "execution_count": 63,
   "id": "a87736d1",
   "metadata": {},
   "outputs": [
    {
     "data": {
      "text/plain": [
       "83"
      ]
     },
     "execution_count": 63,
     "metadata": {},
     "output_type": "execute_result"
    }
   ],
   "source": [
    "result['C']"
   ]
  },
  {
   "cell_type": "code",
   "execution_count": 42,
   "id": "41d80ba0",
   "metadata": {},
   "outputs": [],
   "source": [
    "name = {'name':'A', 'name':'B', 'name':'C', 'name' : 'D'}"
   ]
  },
  {
   "cell_type": "code",
   "execution_count": 43,
   "id": "45944108",
   "metadata": {},
   "outputs": [
    {
     "name": "stdout",
     "output_type": "stream",
     "text": [
      "{'name': 'D'}\n"
     ]
    }
   ],
   "source": [
    "print(name)"
   ]
  },
  {
   "cell_type": "code",
   "execution_count": 47,
   "id": "99445a44",
   "metadata": {
    "scrolled": true
   },
   "outputs": [],
   "source": [
    "na = {'mame':['A','B','C'], 'numb' : ['1','2','33']}"
   ]
  },
  {
   "cell_type": "code",
   "execution_count": 55,
   "id": "f1a2e0a5",
   "metadata": {},
   "outputs": [
    {
     "name": "stdout",
     "output_type": "stream",
     "text": [
      "B\n",
      "33\n"
     ]
    }
   ],
   "source": [
    "print(na['mame'][1])\n",
    "print(na['numb'][2])"
   ]
  },
  {
   "cell_type": "code",
   "execution_count": 65,
   "id": "2c024da6",
   "metadata": {},
   "outputs": [
    {
     "name": "stdout",
     "output_type": "stream",
     "text": [
      "{'gender': 'female', 'age': 30, 'name': 'Kristina'}\n",
      "{'gender': 'female', 'age': 30, 'name': 'Kristina', 'grade': 'freshman'}\n"
     ]
    }
   ],
   "source": [
    "a = {'gender':'female', 'age':30, 'name':'Kristina'}\n",
    "print(a)\n",
    "a['grade'] = 'freshman'\n",
    "print(a)"
   ]
  },
  {
   "cell_type": "code",
   "execution_count": 58,
   "id": "74aae556",
   "metadata": {},
   "outputs": [
    {
     "name": "stdout",
     "output_type": "stream",
     "text": [
      "<class 'dict_keys'>\n",
      "dict_keys(['gender', 'age', 'name', 'grade'])\n",
      "['gender', 'age', 'name', 'grade']\n"
     ]
    }
   ],
   "source": [
    "print(type(a.keys()))\n",
    "print(a.keys())\n",
    "print(list(a.keys()))"
   ]
  },
  {
   "cell_type": "code",
   "execution_count": 59,
   "id": "ad2a6bf9",
   "metadata": {},
   "outputs": [
    {
     "data": {
      "text/plain": [
       "dict_values(['female', 30, 'Kristina', 'freshman'])"
      ]
     },
     "execution_count": 59,
     "metadata": {},
     "output_type": "execute_result"
    }
   ],
   "source": [
    "a.values()"
   ]
  },
  {
   "cell_type": "code",
   "execution_count": 60,
   "id": "73d62f01",
   "metadata": {
    "scrolled": true
   },
   "outputs": [
    {
     "data": {
      "text/plain": [
       "[('gender', 'female'),\n",
       " ('age', 30),\n",
       " ('name', 'Kristina'),\n",
       " ('grade', 'freshman')]"
      ]
     },
     "execution_count": 60,
     "metadata": {},
     "output_type": "execute_result"
    }
   ],
   "source": [
    "list(a.items())"
   ]
  },
  {
   "cell_type": "code",
   "execution_count": 61,
   "id": "739560f5",
   "metadata": {},
   "outputs": [],
   "source": [
    "a.clear()"
   ]
  },
  {
   "cell_type": "code",
   "execution_count": 62,
   "id": "926db406",
   "metadata": {},
   "outputs": [
    {
     "data": {
      "text/plain": [
       "{}"
      ]
     },
     "execution_count": 62,
     "metadata": {},
     "output_type": "execute_result"
    }
   ],
   "source": [
    "a"
   ]
  },
  {
   "cell_type": "code",
   "execution_count": 66,
   "id": "73fdb22d",
   "metadata": {},
   "outputs": [
    {
     "data": {
      "text/plain": [
       "{'gender': 'female', 'age': 30, 'name': 'Kristina', 'grade': 'freshman'}"
      ]
     },
     "execution_count": 66,
     "metadata": {},
     "output_type": "execute_result"
    }
   ],
   "source": [
    "a"
   ]
  },
  {
   "cell_type": "code",
   "execution_count": 67,
   "id": "2c8d1e25",
   "metadata": {},
   "outputs": [
    {
     "data": {
      "text/plain": [
       "'female'"
      ]
     },
     "execution_count": 67,
     "metadata": {},
     "output_type": "execute_result"
    }
   ],
   "source": [
    "a['gender']"
   ]
  },
  {
   "cell_type": "code",
   "execution_count": 68,
   "id": "dca7cc4a",
   "metadata": {},
   "outputs": [
    {
     "data": {
      "text/plain": [
       "'female'"
      ]
     },
     "execution_count": 68,
     "metadata": {},
     "output_type": "execute_result"
    }
   ],
   "source": [
    "a.get('gender')"
   ]
  },
  {
   "cell_type": "code",
   "execution_count": 69,
   "id": "eb21251d",
   "metadata": {},
   "outputs": [
    {
     "data": {
      "text/plain": [
       "'데이터없음'"
      ]
     },
     "execution_count": 69,
     "metadata": {},
     "output_type": "execute_result"
    }
   ],
   "source": [
    "a.get('height', '데이터없음')"
   ]
  },
  {
   "cell_type": "code",
   "execution_count": 84,
   "id": "0dbe9e45",
   "metadata": {},
   "outputs": [
    {
     "data": {
      "text/plain": [
       "True"
      ]
     },
     "execution_count": 84,
     "metadata": {},
     "output_type": "execute_result"
    }
   ],
   "source": [
    "'gender' in a"
   ]
  },
  {
   "cell_type": "code",
   "execution_count": 70,
   "id": "bcd57ff6",
   "metadata": {},
   "outputs": [
    {
     "data": {
      "text/plain": [
       "False"
      ]
     },
     "execution_count": 70,
     "metadata": {},
     "output_type": "execute_result"
    }
   ],
   "source": [
    "'freshman' in a"
   ]
  },
  {
   "cell_type": "code",
   "execution_count": 85,
   "id": "08730b21",
   "metadata": {},
   "outputs": [
    {
     "data": {
      "text/plain": [
       "False"
      ]
     },
     "execution_count": 85,
     "metadata": {},
     "output_type": "execute_result"
    }
   ],
   "source": [
    "'height' in a"
   ]
  },
  {
   "cell_type": "code",
   "execution_count": 71,
   "id": "9fb63733",
   "metadata": {},
   "outputs": [
    {
     "data": {
      "text/plain": [
       "False"
      ]
     },
     "execution_count": 71,
     "metadata": {},
     "output_type": "execute_result"
    }
   ],
   "source": [
    "30 in a"
   ]
  },
  {
   "cell_type": "code",
   "execution_count": 72,
   "id": "ba5f9368",
   "metadata": {},
   "outputs": [
    {
     "data": {
      "text/plain": [
       "True"
      ]
     },
     "execution_count": 72,
     "metadata": {},
     "output_type": "execute_result"
    }
   ],
   "source": [
    "'age' in a"
   ]
  },
  {
   "cell_type": "code",
   "execution_count": 88,
   "id": "7d91e9b7",
   "metadata": {},
   "outputs": [
    {
     "data": {
      "text/plain": [
       "set"
      ]
     },
     "execution_count": 88,
     "metadata": {},
     "output_type": "execute_result"
    }
   ],
   "source": [
    "sa = {1}\n",
    "type(sa)"
   ]
  },
  {
   "cell_type": "code",
   "execution_count": 89,
   "id": "530d2fe4",
   "metadata": {},
   "outputs": [
    {
     "data": {
      "text/plain": [
       "dict"
      ]
     },
     "execution_count": 89,
     "metadata": {},
     "output_type": "execute_result"
    }
   ],
   "source": [
    "sb = {}\n",
    "type(sb)"
   ]
  },
  {
   "cell_type": "code",
   "execution_count": 91,
   "id": "95e77f2e",
   "metadata": {},
   "outputs": [
    {
     "data": {
      "text/plain": [
       "set"
      ]
     },
     "execution_count": 91,
     "metadata": {},
     "output_type": "execute_result"
    }
   ],
   "source": [
    "sb = set()\n",
    "type(sb)"
   ]
  },
  {
   "cell_type": "code",
   "execution_count": 97,
   "id": "bb6d87b7",
   "metadata": {},
   "outputs": [
    {
     "data": {
      "text/plain": [
       "set"
      ]
     },
     "execution_count": 97,
     "metadata": {},
     "output_type": "execute_result"
    }
   ],
   "source": [
    "type({()})"
   ]
  },
  {
   "cell_type": "code",
   "execution_count": 98,
   "id": "36654254",
   "metadata": {},
   "outputs": [
    {
     "name": "stdout",
     "output_type": "stream",
     "text": [
      "{'c', 'e', 'd', 'b', 'f', 'a'}\n"
     ]
    }
   ],
   "source": [
    "sc = set('abcdef')\n",
    "print(sc)"
   ]
  },
  {
   "cell_type": "code",
   "execution_count": 100,
   "id": "c0b4e1da",
   "metadata": {},
   "outputs": [
    {
     "data": {
      "text/plain": [
       "'c'"
      ]
     },
     "execution_count": 100,
     "metadata": {},
     "output_type": "execute_result"
    }
   ],
   "source": [
    "list(sc)[0]"
   ]
  },
  {
   "cell_type": "code",
   "execution_count": 101,
   "id": "e700dd9f",
   "metadata": {},
   "outputs": [],
   "source": [
    "# 집합의 특징\n",
    "x = {1,2,3,4,5}\n",
    "y = {3,4,5,6,7}"
   ]
  },
  {
   "cell_type": "code",
   "execution_count": 106,
   "id": "a91571a1",
   "metadata": {},
   "outputs": [
    {
     "name": "stdout",
     "output_type": "stream",
     "text": [
      "{3, 4, 5}\n",
      "{3, 4, 5}\n"
     ]
    }
   ],
   "source": [
    "print(x & y) # 교집합\n",
    "print(x.intersection(y))"
   ]
  },
  {
   "cell_type": "code",
   "execution_count": 107,
   "id": "71926a3c",
   "metadata": {},
   "outputs": [
    {
     "name": "stdout",
     "output_type": "stream",
     "text": [
      "{1, 2, 3, 4, 5, 6, 7}\n",
      "{1, 2, 3, 4, 5, 6, 7}\n"
     ]
    }
   ],
   "source": [
    "print(x | y)\n",
    "print(x.union(y))"
   ]
  },
  {
   "cell_type": "code",
   "execution_count": 108,
   "id": "11ff1b60",
   "metadata": {},
   "outputs": [
    {
     "name": "stdout",
     "output_type": "stream",
     "text": [
      "{1, 2}\n",
      "{1, 2}\n"
     ]
    }
   ],
   "source": [
    "print(x - y)\n",
    "print(x.difference(y))"
   ]
  },
  {
   "cell_type": "code",
   "execution_count": 109,
   "id": "8bd65b08",
   "metadata": {},
   "outputs": [
    {
     "name": "stdout",
     "output_type": "stream",
     "text": [
      "{6, 7}\n",
      "{6, 7}\n"
     ]
    }
   ],
   "source": [
    "print(y - x)\n",
    "print(y.difference(x))"
   ]
  },
  {
   "cell_type": "code",
   "execution_count": 110,
   "id": "7ff86c1c",
   "metadata": {},
   "outputs": [
    {
     "data": {
      "text/plain": [
       "{1, 2, 6, 7}"
      ]
     },
     "execution_count": 110,
     "metadata": {},
     "output_type": "execute_result"
    }
   ],
   "source": [
    "x ^ y"
   ]
  },
  {
   "cell_type": "code",
   "execution_count": 111,
   "id": "2bcc13d2",
   "metadata": {},
   "outputs": [
    {
     "data": {
      "text/plain": [
       "{1, 2, 3, 4, 5}"
      ]
     },
     "execution_count": 111,
     "metadata": {},
     "output_type": "execute_result"
    }
   ],
   "source": [
    "x"
   ]
  },
  {
   "cell_type": "code",
   "execution_count": 115,
   "id": "46a7ba69",
   "metadata": {},
   "outputs": [
    {
     "name": "stdout",
     "output_type": "stream",
     "text": [
      "{1, 2, 3, 4, 5, 10}\n"
     ]
    }
   ],
   "source": [
    "x.add(10)\n",
    "print(x)"
   ]
  },
  {
   "cell_type": "code",
   "execution_count": 119,
   "id": "305dc2f5",
   "metadata": {},
   "outputs": [
    {
     "name": "stdout",
     "output_type": "stream",
     "text": [
      "{1, 2, 3, 4, 5, 10, 11, 12, 13}\n"
     ]
    }
   ],
   "source": [
    "x.update([11,12,13])\n",
    "print(x)"
   ]
  },
  {
   "cell_type": "code",
   "execution_count": 120,
   "id": "20839733",
   "metadata": {},
   "outputs": [
    {
     "name": "stdout",
     "output_type": "stream",
     "text": [
      "{1, 2, 3, 4, 5, 10, 11, 12}\n"
     ]
    }
   ],
   "source": [
    "x.remove(13)\n",
    "print(x)"
   ]
  },
  {
   "cell_type": "code",
   "execution_count": 126,
   "id": "c2af13c2",
   "metadata": {},
   "outputs": [
    {
     "data": {
      "text/plain": [
       "3"
      ]
     },
     "execution_count": 126,
     "metadata": {},
     "output_type": "execute_result"
    }
   ],
   "source": [
    "x.pop()"
   ]
  },
  {
   "cell_type": "code",
   "execution_count": 129,
   "id": "81526395",
   "metadata": {},
   "outputs": [
    {
     "data": {
      "text/plain": [
       "False"
      ]
     },
     "execution_count": 129,
     "metadata": {},
     "output_type": "execute_result"
    }
   ],
   "source": [
    "s = 'abc'\n",
    "s[1].upper() in ['A', 'E', 'I', 'O', 'U']"
   ]
  },
  {
   "cell_type": "code",
   "execution_count": 130,
   "id": "218e18a5",
   "metadata": {},
   "outputs": [
    {
     "data": {
      "text/plain": [
       "dict"
      ]
     },
     "execution_count": 130,
     "metadata": {},
     "output_type": "execute_result"
    }
   ],
   "source": [
    "ds = {}\n",
    "type(ds)"
   ]
  },
  {
   "cell_type": "code",
   "execution_count": 131,
   "id": "493aad35",
   "metadata": {},
   "outputs": [
    {
     "name": "stdout",
     "output_type": "stream",
     "text": [
      "{'메로나': 1000, '폴라포': 1200, '빵빠레': 1800}\n"
     ]
    }
   ],
   "source": [
    "icecream = {'메로나':1000,\n",
    "           '폴라포':1200,\n",
    "           '빵빠레':1800}\n",
    "print(icecream)"
   ]
  },
  {
   "cell_type": "code",
   "execution_count": 132,
   "id": "6dbc05ed",
   "metadata": {
    "scrolled": true
   },
   "outputs": [
    {
     "name": "stdout",
     "output_type": "stream",
     "text": [
      "{'메로나': 1000, '폴라포': 1200, '빵빠레': 1800, '죠스바': 1200, '월드콘': 1500}\n"
     ]
    }
   ],
   "source": [
    "icecream['죠스바'] = 1200\n",
    "icecream['월드콘'] = 1500\n",
    "print(icecream)"
   ]
  },
  {
   "cell_type": "code",
   "execution_count": 135,
   "id": "e554a75d",
   "metadata": {},
   "outputs": [
    {
     "name": "stdout",
     "output_type": "stream",
     "text": [
      "메로나 가격:  1000\n"
     ]
    }
   ],
   "source": [
    "print('메로나 가격: ', icecream['메로나'])"
   ]
  },
  {
   "cell_type": "code",
   "execution_count": 136,
   "id": "695115cd",
   "metadata": {
    "scrolled": true
   },
   "outputs": [
    {
     "name": "stdout",
     "output_type": "stream",
     "text": [
      "{'메로나': 1200, '폴라포': 1200, '빵빠레': 1800, '죠스바': 1200, '월드콘': 1500}\n"
     ]
    }
   ],
   "source": [
    "icecream['메로나'] = 1200\n",
    "print(icecream)"
   ]
  },
  {
   "cell_type": "code",
   "execution_count": 137,
   "id": "26b2cfd6",
   "metadata": {},
   "outputs": [],
   "source": [
    "del icecream['메로나']"
   ]
  },
  {
   "cell_type": "code",
   "execution_count": 138,
   "id": "ad9771e3",
   "metadata": {},
   "outputs": [
    {
     "name": "stdout",
     "output_type": "stream",
     "text": [
      "{'폴라포': 1200, '빵빠레': 1800, '죠스바': 1200, '월드콘': 1500}\n"
     ]
    }
   ],
   "source": [
    "print(icecream)"
   ]
  },
  {
   "cell_type": "code",
   "execution_count": 139,
   "id": "f229be01",
   "metadata": {},
   "outputs": [
    {
     "name": "stdout",
     "output_type": "stream",
     "text": [
      "{'메로나': [300, 20], '비비빅': [400, 3], '죠스바': [250, 100]}\n"
     ]
    }
   ],
   "source": [
    "inventory = {'메로나':[300, 20],\n",
    "            '비비빅':[400, 3],\n",
    "            '죠스바':[250, 100]}\n",
    "print(inventory)"
   ]
  },
  {
   "cell_type": "code",
   "execution_count": 143,
   "id": "e855b2ef",
   "metadata": {},
   "outputs": [
    {
     "name": "stdout",
     "output_type": "stream",
     "text": [
      "300 원\n",
      "20 개\n"
     ]
    }
   ],
   "source": [
    "print(inventory['메로나'][0], '원')\n",
    "print(inventory['메로나'][1], '개')"
   ]
  },
  {
   "cell_type": "code",
   "execution_count": 144,
   "id": "d6459432",
   "metadata": {},
   "outputs": [
    {
     "name": "stdout",
     "output_type": "stream",
     "text": [
      "{'메로나': [300, 20], '비비빅': [400, 3], '죠스바': [250, 100], '월드콘': [500, 7]}\n"
     ]
    }
   ],
   "source": [
    "inventory['월드콘'] = [500,7]\n",
    "print(inventory)"
   ]
  },
  {
   "cell_type": "markdown",
   "id": "d28c22ca",
   "metadata": {},
   "source": [
    "### 연산자"
   ]
  },
  {
   "cell_type": "code",
   "execution_count": 146,
   "id": "d8b8767d",
   "metadata": {
    "scrolled": false
   },
   "outputs": [
    {
     "name": "stdout",
     "output_type": "stream",
     "text": [
      "7\n",
      "3\n",
      "10\n",
      "4\n",
      "1.4142135623730951\n",
      "2.5\n",
      "2\n",
      "1\n"
     ]
    }
   ],
   "source": [
    "x1 = 2\n",
    "x2 = 5\n",
    "print(x1 + x2)\n",
    "print(x2 - x1)\n",
    "print(x1 * x2)\n",
    "print(x1 ** 2)\n",
    "print(x1 ** 0.5)\n",
    "print(x2 / x1)\n",
    "print(x2 // x1)\n",
    "print(x2 % x1)"
   ]
  },
  {
   "cell_type": "code",
   "execution_count": 147,
   "id": "bd4661e4",
   "metadata": {
    "scrolled": false
   },
   "outputs": [
    {
     "data": {
      "text/plain": [
       "25"
      ]
     },
     "execution_count": 147,
     "metadata": {},
     "output_type": "execute_result"
    }
   ],
   "source": [
    "# 할당 연산자\n",
    "a = 20\n",
    "a += 5\n",
    "print(a)"
   ]
  },
  {
   "cell_type": "code",
   "execution_count": 148,
   "id": "258e68c6",
   "metadata": {},
   "outputs": [
    {
     "name": "stdout",
     "output_type": "stream",
     "text": [
      "15\n"
     ]
    }
   ],
   "source": [
    "a -= 10\n",
    "print(a)"
   ]
  },
  {
   "cell_type": "code",
   "execution_count": 149,
   "id": "ec4b5614",
   "metadata": {},
   "outputs": [
    {
     "name": "stdout",
     "output_type": "stream",
     "text": [
      "30\n"
     ]
    }
   ],
   "source": [
    "a *= 2\n",
    "print(a)"
   ]
  },
  {
   "cell_type": "code",
   "execution_count": 150,
   "id": "9b1ffc8f",
   "metadata": {},
   "outputs": [
    {
     "name": "stdout",
     "output_type": "stream",
     "text": [
      "10.0\n"
     ]
    }
   ],
   "source": [
    "a /= 3\n",
    "print(a)"
   ]
  },
  {
   "cell_type": "code",
   "execution_count": 151,
   "id": "7ca95875",
   "metadata": {},
   "outputs": [
    {
     "name": "stdout",
     "output_type": "stream",
     "text": [
      "12\n"
     ]
    }
   ],
   "source": [
    "c = 3\n",
    "b = 2\n",
    "\n",
    "c *= (2 + b)\n",
    "print(c)"
   ]
  },
  {
   "cell_type": "code",
   "execution_count": 152,
   "id": "c0e829bc",
   "metadata": {},
   "outputs": [
    {
     "name": "stdout",
     "output_type": "stream",
     "text": [
      "-36\n"
     ]
    }
   ],
   "source": [
    "c *= (b - 5)\n",
    "print(c)"
   ]
  },
  {
   "cell_type": "code",
   "execution_count": 153,
   "id": "cfa5a588",
   "metadata": {},
   "outputs": [
    {
     "data": {
      "text/plain": [
       "False"
      ]
     },
     "execution_count": 153,
     "metadata": {},
     "output_type": "execute_result"
    }
   ],
   "source": [
    "a = 95\n",
    "a == 90"
   ]
  },
  {
   "cell_type": "code",
   "execution_count": 154,
   "id": "e029af0d",
   "metadata": {},
   "outputs": [
    {
     "data": {
      "text/plain": [
       "True"
      ]
     },
     "execution_count": 154,
     "metadata": {},
     "output_type": "execute_result"
    }
   ],
   "source": [
    "a != 90"
   ]
  },
  {
   "cell_type": "code",
   "execution_count": 155,
   "id": "b412f9d4",
   "metadata": {},
   "outputs": [
    {
     "data": {
      "text/plain": [
       "True"
      ]
     },
     "execution_count": 155,
     "metadata": {},
     "output_type": "execute_result"
    }
   ],
   "source": [
    "a > 90"
   ]
  },
  {
   "cell_type": "code",
   "execution_count": 156,
   "id": "220bcfc8",
   "metadata": {},
   "outputs": [
    {
     "data": {
      "text/plain": [
       "False"
      ]
     },
     "execution_count": 156,
     "metadata": {},
     "output_type": "execute_result"
    }
   ],
   "source": [
    "a < 90"
   ]
  },
  {
   "cell_type": "code",
   "execution_count": 157,
   "id": "923e4d29",
   "metadata": {},
   "outputs": [
    {
     "data": {
      "text/plain": [
       "True"
      ]
     },
     "execution_count": 157,
     "metadata": {},
     "output_type": "execute_result"
    }
   ],
   "source": [
    "a >= 90"
   ]
  },
  {
   "cell_type": "code",
   "execution_count": 158,
   "id": "6de7848c",
   "metadata": {},
   "outputs": [
    {
     "data": {
      "text/plain": [
       "False"
      ]
     },
     "execution_count": 158,
     "metadata": {},
     "output_type": "execute_result"
    }
   ],
   "source": [
    "a <= 90"
   ]
  },
  {
   "cell_type": "code",
   "execution_count": 159,
   "id": "ab9e84e2",
   "metadata": {},
   "outputs": [
    {
     "data": {
      "text/plain": [
       "True"
      ]
     },
     "execution_count": 159,
     "metadata": {},
     "output_type": "execute_result"
    }
   ],
   "source": [
    "a >= 90 and a <= 100"
   ]
  },
  {
   "cell_type": "code",
   "execution_count": 160,
   "id": "6aead0e5",
   "metadata": {},
   "outputs": [
    {
     "data": {
      "text/plain": [
       "True"
      ]
     },
     "execution_count": 160,
     "metadata": {},
     "output_type": "execute_result"
    }
   ],
   "source": [
    "90 <= a <= 100"
   ]
  },
  {
   "cell_type": "code",
   "execution_count": 161,
   "id": "52e984e5",
   "metadata": {},
   "outputs": [
    {
     "data": {
      "text/plain": [
       "False"
      ]
     },
     "execution_count": 161,
     "metadata": {},
     "output_type": "execute_result"
    }
   ],
   "source": [
    "100 <= a <= 110"
   ]
  },
  {
   "cell_type": "code",
   "execution_count": 162,
   "id": "878d485b",
   "metadata": {},
   "outputs": [
    {
     "data": {
      "text/plain": [
       "False"
      ]
     },
     "execution_count": 162,
     "metadata": {},
     "output_type": "execute_result"
    }
   ],
   "source": [
    "70 <= a <= 80"
   ]
  },
  {
   "cell_type": "code",
   "execution_count": 2,
   "id": "bd1acdb4",
   "metadata": {},
   "outputs": [],
   "source": [
    "a = [1,2,'Hello World']\n",
    "b = [1,2,'Hello World']"
   ]
  },
  {
   "cell_type": "code",
   "execution_count": 164,
   "id": "7ac43bd6",
   "metadata": {},
   "outputs": [
    {
     "data": {
      "text/plain": [
       "True"
      ]
     },
     "execution_count": 164,
     "metadata": {},
     "output_type": "execute_result"
    }
   ],
   "source": [
    "a == b"
   ]
  },
  {
   "cell_type": "code",
   "execution_count": 165,
   "id": "587b40da",
   "metadata": {},
   "outputs": [
    {
     "data": {
      "text/plain": [
       "False"
      ]
     },
     "execution_count": 165,
     "metadata": {},
     "output_type": "execute_result"
    }
   ],
   "source": [
    "a != b"
   ]
  },
  {
   "cell_type": "code",
   "execution_count": 3,
   "id": "2d77db87",
   "metadata": {
    "scrolled": true
   },
   "outputs": [
    {
     "name": "stdout",
     "output_type": "stream",
     "text": [
      "140264113452544\n",
      "140264113549184\n"
     ]
    }
   ],
   "source": [
    "print(id(a))\n",
    "print(id(b))"
   ]
  },
  {
   "cell_type": "code",
   "execution_count": 4,
   "id": "c1e86bb8",
   "metadata": {},
   "outputs": [
    {
     "data": {
      "text/plain": [
       "True"
      ]
     },
     "execution_count": 4,
     "metadata": {},
     "output_type": "execute_result"
    }
   ],
   "source": [
    "id(a) != id(b)"
   ]
  },
  {
   "cell_type": "code",
   "execution_count": 5,
   "id": "05d11d9e",
   "metadata": {},
   "outputs": [
    {
     "name": "stdout",
     "output_type": "stream",
     "text": [
      "[1, 2, 'Hello World', 'A']\n"
     ]
    }
   ],
   "source": [
    "a.append('A')\n",
    "print(a)"
   ]
  },
  {
   "cell_type": "code",
   "execution_count": 6,
   "id": "ba43a329",
   "metadata": {},
   "outputs": [
    {
     "data": {
      "text/plain": [
       "140264113452544"
      ]
     },
     "execution_count": 6,
     "metadata": {},
     "output_type": "execute_result"
    }
   ],
   "source": [
    "id(a)"
   ]
  },
  {
   "cell_type": "code",
   "execution_count": 172,
   "id": "784bb4eb",
   "metadata": {},
   "outputs": [
    {
     "data": {
      "text/plain": [
       "False"
      ]
     },
     "execution_count": 172,
     "metadata": {},
     "output_type": "execute_result"
    }
   ],
   "source": [
    "a is b # id(a) == id(b)"
   ]
  },
  {
   "cell_type": "code",
   "execution_count": 173,
   "id": "55e7a812",
   "metadata": {},
   "outputs": [
    {
     "data": {
      "text/plain": [
       "True"
      ]
     },
     "execution_count": 173,
     "metadata": {},
     "output_type": "execute_result"
    }
   ],
   "source": [
    "a is not b # id(a) != id(b)"
   ]
  },
  {
   "cell_type": "code",
   "execution_count": 174,
   "id": "0947c4ca",
   "metadata": {},
   "outputs": [],
   "source": [
    "member = [1,2,'Hello World']"
   ]
  },
  {
   "cell_type": "code",
   "execution_count": 175,
   "id": "30b8c87c",
   "metadata": {},
   "outputs": [
    {
     "data": {
      "text/plain": [
       "True"
      ]
     },
     "execution_count": 175,
     "metadata": {},
     "output_type": "execute_result"
    }
   ],
   "source": [
    "2 in member"
   ]
  },
  {
   "cell_type": "code",
   "execution_count": 176,
   "id": "a4e1a988",
   "metadata": {},
   "outputs": [
    {
     "data": {
      "text/plain": [
       "False"
      ]
     },
     "execution_count": 176,
     "metadata": {},
     "output_type": "execute_result"
    }
   ],
   "source": [
    "3 in member"
   ]
  },
  {
   "cell_type": "code",
   "execution_count": 178,
   "id": "a6fed794",
   "metadata": {},
   "outputs": [
    {
     "data": {
      "text/plain": [
       "True"
      ]
     },
     "execution_count": 178,
     "metadata": {},
     "output_type": "execute_result"
    }
   ],
   "source": [
    "3 not in member"
   ]
  },
  {
   "cell_type": "code",
   "execution_count": 180,
   "id": "28562080",
   "metadata": {},
   "outputs": [
    {
     "data": {
      "text/plain": [
       "False"
      ]
     },
     "execution_count": 180,
     "metadata": {},
     "output_type": "execute_result"
    }
   ],
   "source": [
    "member_dict = {'a':1, 'b':2, 'c':3}\n",
    "1 in member_dict"
   ]
  },
  {
   "cell_type": "code",
   "execution_count": 7,
   "id": "54d10c97",
   "metadata": {},
   "outputs": [
    {
     "name": "stdout",
     "output_type": "stream",
     "text": [
      "False\n",
      "True\n",
      "False\n",
      "False\n",
      "True\n",
      "True\n",
      "False\n",
      "True\n",
      "False\n",
      "True\n",
      "True\n"
     ]
    }
   ],
   "source": [
    "a = True\n",
    "b = False\n",
    "print(a and b)\n",
    "print(a and a)\n",
    "print(b and b)\n",
    "print(b and a)\n",
    "print(a or b)\n",
    "print(a or a)\n",
    "print(b or b)\n",
    "print(b or a)\n",
    "print(not a)\n",
    "print(not b)\n",
    "print(not(a and b))"
   ]
  },
  {
   "cell_type": "code",
   "execution_count": 186,
   "id": "14726e67",
   "metadata": {},
   "outputs": [
    {
     "name": "stdout",
     "output_type": "stream",
     "text": [
      "홍길동 30 173.7\n"
     ]
    }
   ],
   "source": [
    "name   = '홍길동'\n",
    "age    = 30\n",
    "height = 173.7\n",
    "print(name, age, height)"
   ]
  },
  {
   "cell_type": "code",
   "execution_count": 189,
   "id": "fc8aa65a",
   "metadata": {},
   "outputs": [
    {
     "name": "stdout",
     "output_type": "stream",
     "text": [
      "x = 10,y = 20\n"
     ]
    }
   ],
   "source": [
    "x = 10\n",
    "y = 20\n",
    "print('x = '+ str(x) + ',' + 'y = ' + str(y))"
   ]
  },
  {
   "cell_type": "code",
   "execution_count": 191,
   "id": "fd6e8a7a",
   "metadata": {},
   "outputs": [
    {
     "name": "stdout",
     "output_type": "stream",
     "text": [
      "두 과목 점수 : 80, 87\n",
      "합계 : 167, 평균 : 83.50\n"
     ]
    }
   ],
   "source": [
    "score1 = 80\n",
    "score2 = 87\n",
    "sum_12 = score1 + score2\n",
    "avg_12 = sum_12 / 2\n",
    "print('두 과목 점수 : %d, %d' % (score1, score2))\n",
    "print('합계 : %d, 평균 : %.2f' % (sum_12, avg_12))"
   ]
  },
  {
   "cell_type": "code",
   "execution_count": 193,
   "id": "794f895d",
   "metadata": {},
   "outputs": [
    {
     "name": "stdout",
     "output_type": "stream",
     "text": [
      "2020/3/5\n"
     ]
    }
   ],
   "source": [
    "# separator\n",
    "year = 2020\n",
    "month = 3\n",
    "day = 5\n",
    "print(year, month, day, sep='/')"
   ]
  },
  {
   "cell_type": "code",
   "execution_count": 198,
   "id": "b6a1254f",
   "metadata": {},
   "outputs": [
    {
     "name": "stdout",
     "output_type": "stream",
     "text": [
      "안녕하세요. 반갑습니다.\n",
      "안녕하세요.반갑습니다.\n"
     ]
    }
   ],
   "source": [
    "# end =\n",
    "a = '안녕하세요.'\n",
    "b = '반갑습니다.'\n",
    "print(a, end=' ')\n",
    "print(b)\n",
    "print(a, end='')\n",
    "print(b)"
   ]
  },
  {
   "cell_type": "code",
   "execution_count": 201,
   "id": "4093c9a7",
   "metadata": {},
   "outputs": [
    {
     "name": "stdout",
     "output_type": "stream",
     "text": [
      "5\n"
     ]
    },
    {
     "data": {
      "text/plain": [
       "'5'"
      ]
     },
     "execution_count": 201,
     "metadata": {},
     "output_type": "execute_result"
    }
   ],
   "source": [
    "input()"
   ]
  },
  {
   "cell_type": "code",
   "execution_count": 200,
   "id": "aaa87f76",
   "metadata": {},
   "outputs": [],
   "source": [
    "a = 1"
   ]
  },
  {
   "cell_type": "code",
   "execution_count": 202,
   "id": "b02b0b8e",
   "metadata": {
    "scrolled": false
   },
   "outputs": [
    {
     "name": "stdout",
     "output_type": "stream",
     "text": [
      "1\n"
     ]
    },
    {
     "data": {
      "text/plain": [
       "'1'"
      ]
     },
     "execution_count": 202,
     "metadata": {},
     "output_type": "execute_result"
    }
   ],
   "source": [
    "input()"
   ]
  },
  {
   "cell_type": "code",
   "execution_count": 203,
   "id": "add6fd58",
   "metadata": {
    "scrolled": true
   },
   "outputs": [
    {
     "name": "stdout",
     "output_type": "stream",
     "text": [
      "3\n"
     ]
    },
    {
     "data": {
      "text/plain": [
       "'3'"
      ]
     },
     "execution_count": 203,
     "metadata": {},
     "output_type": "execute_result"
    }
   ],
   "source": [
    "input()"
   ]
  },
  {
   "cell_type": "code",
   "execution_count": 204,
   "id": "784d0604",
   "metadata": {},
   "outputs": [],
   "source": [
    "a = 1"
   ]
  },
  {
   "cell_type": "code",
   "execution_count": 208,
   "id": "99110ef6",
   "metadata": {},
   "outputs": [
    {
     "name": "stdout",
     "output_type": "stream",
     "text": [
      "이름을 입력하세요:홍길동\n",
      "홍길동님 반갑습니다.\n"
     ]
    }
   ],
   "source": [
    "name = input('이름을 입력하세요:')\n",
    "print('%s님 반갑습니다.' % name)"
   ]
  },
  {
   "cell_type": "code",
   "execution_count": 206,
   "id": "f6bca8fa",
   "metadata": {},
   "outputs": [
    {
     "name": "stdout",
     "output_type": "stream",
     "text": [
      "홍길동\n"
     ]
    }
   ],
   "source": [
    "print(name)"
   ]
  },
  {
   "cell_type": "code",
   "execution_count": 210,
   "id": "33829526",
   "metadata": {},
   "outputs": [
    {
     "name": "stdout",
     "output_type": "stream",
     "text": [
      "첫 번째 숫자를 입력하세요:10\n",
      "두 번째 숫자를 입력하세요:20\n",
      "30\n"
     ]
    }
   ],
   "source": [
    "a = input('첫 번째 숫자를 입력하세요:')\n",
    "b = input('두 번째 숫자를 입력하세요:')\n",
    "print(int(a) + int(b))"
   ]
  },
  {
   "cell_type": "code",
   "execution_count": 211,
   "id": "de3135c0",
   "metadata": {},
   "outputs": [
    {
     "name": "stdout",
     "output_type": "stream",
     "text": [
      "인치(inch)를 입력하세요:32.8\n",
      "센티미터: 83.31\n"
     ]
    }
   ],
   "source": [
    "inch = float(input('인치(inch)를 입력하세요:'))\n",
    "cm = inch * 2.54\n",
    "print('센티미터: %.2f' % cm)"
   ]
  },
  {
   "cell_type": "code",
   "execution_count": 215,
   "id": "4980d3f1",
   "metadata": {},
   "outputs": [
    {
     "name": "stdout",
     "output_type": "stream",
     "text": [
      "\n",
      "프로그램명: 두 수 더하기\n",
      "작성자: 홍길동\n",
      "작성일: 2022.9.1\n",
      "\n",
      "30\n"
     ]
    }
   ],
   "source": [
    "print(\"\"\"\n",
    "프로그램명: 두 수 더하기\n",
    "작성자: 홍길동\n",
    "작성일: 2022.9.1\n",
    "\"\"\")\n",
    "a = 10 # 변수 a에 10 저장\n",
    "b = 20 \n",
    "c = a + b\n",
    "print(c)"
   ]
  },
  {
   "cell_type": "code",
   "execution_count": 216,
   "id": "f166788b",
   "metadata": {},
   "outputs": [
    {
     "name": "stdout",
     "output_type": "stream",
     "text": [
      "삼각형의 밑변 길이:10\n",
      "삼각형의 높이:3\n",
      "삼각형의 면적: 15.0\n"
     ]
    }
   ],
   "source": [
    "# width = 10\n",
    "# height = 3\n",
    "width = int(input('삼각형의 밑변 길이:'))\n",
    "height = int(input('삼각형의 높이:'))\n",
    "area = width * height / 2\n",
    "print('삼각형의 면적: %.1f' % area)"
   ]
  },
  {
   "cell_type": "code",
   "execution_count": 217,
   "id": "83b5c280",
   "metadata": {},
   "outputs": [
    {
     "name": "stdout",
     "output_type": "stream",
     "text": [
      "물건가격 : 800 원\n",
      "물건가격 : 800 원\n",
      "구매개수 : 3 개\n",
      "지불금액 : 5000 원\n",
      "거스름돈 : 2600 원\n"
     ]
    }
   ],
   "source": [
    "price = 800\n",
    "buy = 3\n",
    "pay = 5000\n",
    "change = pay - price * buy\n",
    "print('물건가격 : %d 원' % price)\n",
    "print('물건가격 :', price, '원')\n",
    "print('구매개수 : %d 개' % buy)\n",
    "print('지불금액 :', pay, '원')\n",
    "print('거스름돈 :', change, '원')"
   ]
  },
  {
   "cell_type": "code",
   "execution_count": 220,
   "id": "f32e602e",
   "metadata": {},
   "outputs": [
    {
     "name": "stdout",
     "output_type": "stream",
     "text": [
      "4\n"
     ]
    }
   ],
   "source": [
    "x = 20\n",
    "y = 4\n",
    "x = y % x\n",
    "print(x)"
   ]
  },
  {
   "cell_type": "code",
   "execution_count": 221,
   "id": "1a68d164",
   "metadata": {},
   "outputs": [
    {
     "name": "stdout",
     "output_type": "stream",
     "text": [
      "4 -4\n"
     ]
    }
   ],
   "source": [
    "y = y - (x * 2)\n",
    "print(x, y)"
   ]
  },
  {
   "cell_type": "code",
   "execution_count": null,
   "id": "6b85b14a",
   "metadata": {},
   "outputs": [],
   "source": []
  }
 ],
 "metadata": {
  "kernelspec": {
   "display_name": "Python 3 (ipykernel)",
   "language": "python",
   "name": "python3"
  },
  "language_info": {
   "codemirror_mode": {
    "name": "ipython",
    "version": 3
   },
   "file_extension": ".py",
   "mimetype": "text/x-python",
   "name": "python",
   "nbconvert_exporter": "python",
   "pygments_lexer": "ipython3",
   "version": "3.9.12"
  }
 },
 "nbformat": 4,
 "nbformat_minor": 5
}
