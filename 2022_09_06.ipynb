{
 "cells": [
  {
   "cell_type": "code",
   "execution_count": 2,
   "id": "95b4c1b6",
   "metadata": {},
   "outputs": [],
   "source": [
    "import greet1"
   ]
  },
  {
   "cell_type": "code",
   "execution_count": 3,
   "id": "a71eb0f9",
   "metadata": {},
   "outputs": [
    {
     "ename": "NameError",
     "evalue": "name 'great1' is not defined",
     "output_type": "error",
     "traceback": [
      "\u001b[0;31m---------------------------------------------------------------------------\u001b[0m",
      "\u001b[0;31mNameError\u001b[0m                                 Traceback (most recent call last)",
      "Input \u001b[0;32mIn [3]\u001b[0m, in \u001b[0;36m<cell line: 1>\u001b[0;34m()\u001b[0m\n\u001b[0;32m----> 1\u001b[0m \u001b[38;5;28;01mimport\u001b[39;00m \u001b[38;5;21;01mgreet2\u001b[39;00m\n",
      "File \u001b[0;32m~/greet2.py:1\u001b[0m, in \u001b[0;36m<module>\u001b[0;34m\u001b[0m\n\u001b[0;32m----> 1\u001b[0m \u001b[38;5;28mprint\u001b[39m(\u001b[43mgreat1\u001b[49m\u001b[38;5;241m.\u001b[39mhello1(\u001b[38;5;124m'\u001b[39m\u001b[38;5;124m김은성\u001b[39m\u001b[38;5;124m'\u001b[39m))\n\u001b[1;32m      2\u001b[0m \u001b[38;5;28mprint\u001b[39m(greet1\u001b[38;5;241m.\u001b[39mhello2(\u001b[38;5;124m'\u001b[39m\u001b[38;5;124m박찬준\u001b[39m\u001b[38;5;124m'\u001b[39m))\n\u001b[1;32m      3\u001b[0m \u001b[38;5;28mprint\u001b[39m(great1\u001b[38;5;241m.\u001b[39mhello3(\u001b[38;5;124m'\u001b[39m\u001b[38;5;124m이승원\u001b[39m\u001b[38;5;124m'\u001b[39m))\n",
      "\u001b[0;31mNameError\u001b[0m: name 'great1' is not defined"
     ]
    }
   ],
   "source": [
    "import greet2"
   ]
  },
  {
   "cell_type": "code",
   "execution_count": 4,
   "id": "4258cbd5",
   "metadata": {},
   "outputs": [
    {
     "ename": "SyntaxError",
     "evalue": "invalid syntax (greet3.py, line 10)",
     "output_type": "error",
     "traceback": [
      "Traceback \u001b[0;36m(most recent call last)\u001b[0m:\n",
      "  File \u001b[1;32m/opt/anaconda3/lib/python3.9/site-packages/IPython/core/interactiveshell.py:3369\u001b[0m in \u001b[1;35mrun_code\u001b[0m\n    exec(code_obj, self.user_global_ns, self.user_ns)\n",
      "\u001b[0;36m  Input \u001b[0;32mIn [4]\u001b[0;36m in \u001b[0;35m<cell line: 1>\u001b[0;36m\u001b[0m\n\u001b[0;31m    import greet3\u001b[0m\n",
      "\u001b[0;36m  File \u001b[0;32m~/greet3.py:10\u001b[0;36m\u001b[0m\n\u001b[0;31m    form math import sqrt\u001b[0m\n\u001b[0m         ^\u001b[0m\n\u001b[0;31mSyntaxError\u001b[0m\u001b[0;31m:\u001b[0m invalid syntax\n"
     ]
    }
   ],
   "source": [
    "import greet3"
   ]
  },
  {
   "cell_type": "code",
   "execution_count": 8,
   "id": "6f6adc13",
   "metadata": {},
   "outputs": [],
   "source": [
    "import greet1"
   ]
  },
  {
   "cell_type": "code",
   "execution_count": 6,
   "id": "39759f4d",
   "metadata": {},
   "outputs": [
    {
     "ename": "NameError",
     "evalue": "name 'great' is not defined",
     "output_type": "error",
     "traceback": [
      "\u001b[0;31m---------------------------------------------------------------------------\u001b[0m",
      "\u001b[0;31mNameError\u001b[0m                                 Traceback (most recent call last)",
      "Input \u001b[0;32mIn [6]\u001b[0m, in \u001b[0;36m<cell line: 1>\u001b[0;34m()\u001b[0m\n\u001b[0;32m----> 1\u001b[0m \u001b[38;5;28;01mimport\u001b[39;00m \u001b[38;5;21;01mgreet2\u001b[39;00m\n",
      "File \u001b[0;32m~/greet2.py:1\u001b[0m, in \u001b[0;36m<module>\u001b[0;34m\u001b[0m\n\u001b[0;32m----> 1\u001b[0m \u001b[38;5;28mprint\u001b[39m(\u001b[43mgreat\u001b[49m\u001b[38;5;241m.\u001b[39mhello1(\u001b[38;5;124m'\u001b[39m\u001b[38;5;124m김은성\u001b[39m\u001b[38;5;124m'\u001b[39m))\n\u001b[1;32m      2\u001b[0m \u001b[38;5;28mprint\u001b[39m(greet\u001b[38;5;241m.\u001b[39mhello2(\u001b[38;5;124m'\u001b[39m\u001b[38;5;124m박찬준\u001b[39m\u001b[38;5;124m'\u001b[39m))\n\u001b[1;32m      3\u001b[0m \u001b[38;5;28mprint\u001b[39m(great\u001b[38;5;241m.\u001b[39mhello3(\u001b[38;5;124m'\u001b[39m\u001b[38;5;124m이승원\u001b[39m\u001b[38;5;124m'\u001b[39m))\n",
      "\u001b[0;31mNameError\u001b[0m: name 'great' is not defined"
     ]
    }
   ],
   "source": [
    "import greet2"
   ]
  },
  {
   "cell_type": "code",
   "execution_count": 7,
   "id": "408b44d3",
   "metadata": {},
   "outputs": [
    {
     "ename": "SyntaxError",
     "evalue": "invalid syntax (greet3.py, line 10)",
     "output_type": "error",
     "traceback": [
      "Traceback \u001b[0;36m(most recent call last)\u001b[0m:\n",
      "  File \u001b[1;32m/opt/anaconda3/lib/python3.9/site-packages/IPython/core/interactiveshell.py:3369\u001b[0m in \u001b[1;35mrun_code\u001b[0m\n    exec(code_obj, self.user_global_ns, self.user_ns)\n",
      "\u001b[0;36m  Input \u001b[0;32mIn [7]\u001b[0;36m in \u001b[0;35m<cell line: 1>\u001b[0;36m\u001b[0m\n\u001b[0;31m    import greet3\u001b[0m\n",
      "\u001b[0;36m  File \u001b[0;32m~/greet3.py:10\u001b[0;36m\u001b[0m\n\u001b[0;31m    form math import sqrt\u001b[0m\n\u001b[0m         ^\u001b[0m\n\u001b[0;31mSyntaxError\u001b[0m\u001b[0;31m:\u001b[0m invalid syntax\n"
     ]
    }
   ],
   "source": [
    "import greet3"
   ]
  },
  {
   "cell_type": "code",
   "execution_count": 9,
   "id": "8118db92",
   "metadata": {},
   "outputs": [],
   "source": [
    "import greet1"
   ]
  },
  {
   "cell_type": "code",
   "execution_count": 10,
   "id": "e7b29f6b",
   "metadata": {},
   "outputs": [
    {
     "ename": "NameError",
     "evalue": "name 'hello1' is not defined",
     "output_type": "error",
     "traceback": [
      "\u001b[0;31m---------------------------------------------------------------------------\u001b[0m",
      "\u001b[0;31mNameError\u001b[0m                                 Traceback (most recent call last)",
      "Input \u001b[0;32mIn [10]\u001b[0m, in \u001b[0;36m<cell line: 1>\u001b[0;34m()\u001b[0m\n\u001b[0;32m----> 1\u001b[0m \u001b[43mhello1\u001b[49m(\u001b[38;5;124m'\u001b[39m\u001b[38;5;124mdd\u001b[39m\u001b[38;5;124m'\u001b[39m)\n",
      "\u001b[0;31mNameError\u001b[0m: name 'hello1' is not defined"
     ]
    }
   ],
   "source": [
    "hello1('dd')"
   ]
  },
  {
   "cell_type": "code",
   "execution_count": 38,
   "id": "bf56160a",
   "metadata": {},
   "outputs": [],
   "source": [
    "import greet1"
   ]
  },
  {
   "cell_type": "code",
   "execution_count": 39,
   "id": "3fbb90c1",
   "metadata": {},
   "outputs": [
    {
     "name": "stdout",
     "output_type": "stream",
     "text": [
      "김은성님 안녕하세요.\n",
      "박찬준님 반갑습니다.\n",
      "이승원님 만나서 반가워요.\n"
     ]
    }
   ],
   "source": [
    "print(greet1.hello1('김은성'))\n",
    "print(greet1.hello2('박찬준'))\n",
    "print(greet1.hello3('이승원'))"
   ]
  },
  {
   "cell_type": "code",
   "execution_count": 40,
   "id": "27b87064",
   "metadata": {},
   "outputs": [],
   "source": [
    "import greet2"
   ]
  },
  {
   "cell_type": "code",
   "execution_count": 41,
   "id": "66809a6c",
   "metadata": {},
   "outputs": [],
   "source": [
    "import greet2"
   ]
  },
  {
   "cell_type": "code",
   "execution_count": 42,
   "id": "f55d020e",
   "metadata": {},
   "outputs": [],
   "source": [
    "import greet2"
   ]
  },
  {
   "cell_type": "code",
   "execution_count": 43,
   "id": "f321ab8f",
   "metadata": {},
   "outputs": [
    {
     "data": {
      "text/plain": [
       "'dd님 안녕하세요.'"
      ]
     },
     "execution_count": 43,
     "metadata": {},
     "output_type": "execute_result"
    }
   ],
   "source": [
    "greet1.hello1('dd')"
   ]
  },
  {
   "cell_type": "code",
   "execution_count": 44,
   "id": "340e9142",
   "metadata": {},
   "outputs": [],
   "source": [
    "import greet3"
   ]
  },
  {
   "cell_type": "code",
   "execution_count": 45,
   "id": "bf0aecc0",
   "metadata": {},
   "outputs": [
    {
     "name": "stdout",
     "output_type": "stream",
     "text": [
      "dd\n"
     ]
    }
   ],
   "source": [
    "print('dd')"
   ]
  },
  {
   "cell_type": "code",
   "execution_count": 4,
   "id": "9ce870ff",
   "metadata": {},
   "outputs": [],
   "source": [
    "import math_encore1"
   ]
  },
  {
   "cell_type": "code",
   "execution_count": 5,
   "id": "b1308079",
   "metadata": {},
   "outputs": [
    {
     "name": "stdout",
     "output_type": "stream",
     "text": [
      "3.141592\n",
      "12.566368\n",
      "7.5415920000000005\n"
     ]
    }
   ],
   "source": [
    "import math_encore2"
   ]
  },
  {
   "cell_type": "code",
   "execution_count": 9,
   "id": "9906e5fe",
   "metadata": {},
   "outputs": [
    {
     "name": "stdout",
     "output_type": "stream",
     "text": [
      "3.141592\n"
     ]
    }
   ],
   "source": [
    "print(math_encore1.pi)"
   ]
  },
  {
   "cell_type": "code",
   "execution_count": 12,
   "id": "a6b18f90",
   "metadata": {},
   "outputs": [
    {
     "name": "stdout",
     "output_type": "stream",
     "text": [
      "12.566368\n"
     ]
    }
   ],
   "source": [
    "print(math_encore1.Math.circle_area(2,2))"
   ]
  },
  {
   "cell_type": "code",
   "execution_count": 14,
   "id": "b71109b0",
   "metadata": {},
   "outputs": [
    {
     "name": "stdout",
     "output_type": "stream",
     "text": [
      "7.5415920000000005\n"
     ]
    }
   ],
   "source": [
    "print(math_encore1.add(math_encore1.pi,4.4))"
   ]
  },
  {
   "cell_type": "code",
   "execution_count": 19,
   "id": "85320049",
   "metadata": {},
   "outputs": [],
   "source": [
    "import math_encore2"
   ]
  },
  {
   "cell_type": "code",
   "execution_count": 5,
   "id": "7eccafc3",
   "metadata": {},
   "outputs": [],
   "source": [
    "import md1"
   ]
  },
  {
   "cell_type": "code",
   "execution_count": 4,
   "id": "bb6fecd3",
   "metadata": {},
   "outputs": [
    {
     "name": "stdout",
     "output_type": "stream",
     "text": [
      "10~20 사이의 소수:\n",
      "11\n",
      "13\n",
      "15\n",
      "17\n",
      "19\n"
     ]
    }
   ],
   "source": [
    "import md2"
   ]
  },
  {
   "cell_type": "code",
   "execution_count": 3,
   "id": "da0598f9",
   "metadata": {},
   "outputs": [
    {
     "data": {
      "text/plain": [
       "'__main__'"
      ]
     },
     "execution_count": 3,
     "metadata": {},
     "output_type": "execute_result"
    }
   ],
   "source": [
    "__name__"
   ]
  },
  {
   "cell_type": "code",
   "execution_count": null,
   "id": "5cb303f1",
   "metadata": {},
   "outputs": [],
   "source": []
  },
  {
   "cell_type": "code",
   "execution_count": 6,
   "id": "e7e3f536",
   "metadata": {},
   "outputs": [
    {
     "name": "stdout",
     "output_type": "stream",
     "text": [
      "자연수 입력:5\n",
      "5은 소수임^]\n"
     ]
    }
   ],
   "source": [
    "def isPrime(n):\n",
    "    for i in range(2,n):\n",
    "        if n %i == 0:\n",
    "            return False\n",
    "        return True\n",
    "    \n",
    "if __name__ ==\"__main__\":\n",
    "    n = int(input('자연수 입력:'))\n",
    "    if isPrime(n):\n",
    "        print(f'{n}은 소수임^]')"
   ]
  },
  {
   "cell_type": "code",
   "execution_count": 27,
   "id": "2a67e824",
   "metadata": {},
   "outputs": [],
   "source": [
    "import math as m"
   ]
  },
  {
   "cell_type": "code",
   "execution_count": 9,
   "id": "b44acb34",
   "metadata": {},
   "outputs": [
    {
     "name": "stdout",
     "output_type": "stream",
     "text": [
      "floor(7.7) : 7\n"
     ]
    }
   ],
   "source": [
    "print('floor(7.7) : %d'%math.floor(7.7)) #내림"
   ]
  },
  {
   "cell_type": "code",
   "execution_count": 10,
   "id": "73ed7b42",
   "metadata": {},
   "outputs": [
    {
     "name": "stdout",
     "output_type": "stream",
     "text": [
      "ceil(10.1):11\n"
     ]
    }
   ],
   "source": [
    "print('ceil(10.1):%d'%math.ceil(10.1)) #올림 "
   ]
  },
  {
   "cell_type": "code",
   "execution_count": 11,
   "id": "04debf6e",
   "metadata": {},
   "outputs": [
    {
     "name": "stdout",
     "output_type": "stream",
     "text": [
      "round(8.6):9\n"
     ]
    }
   ],
   "source": [
    "print('round(8.6):%d'%round(8.6)) #반올림"
   ]
  },
  {
   "cell_type": "code",
   "execution_count": 12,
   "id": "49da2e70",
   "metadata": {},
   "outputs": [
    {
     "name": "stdout",
     "output_type": "stream",
     "text": [
      "5의 팩토리얼 : 120\n"
     ]
    }
   ],
   "source": [
    "print('5의 팩토리얼 : %d'%math.factorial(5)) #그 수 이하의 모든 양의 정수의 곱"
   ]
  },
  {
   "cell_type": "code",
   "execution_count": 28,
   "id": "f4b9ce22",
   "metadata": {},
   "outputs": [
    {
     "data": {
      "text/plain": [
       "3.141592653589793"
      ]
     },
     "execution_count": 28,
     "metadata": {},
     "output_type": "execute_result"
    }
   ],
   "source": [
    "m.pi"
   ]
  },
  {
   "cell_type": "code",
   "execution_count": 39,
   "id": "ac644be6",
   "metadata": {},
   "outputs": [
    {
     "name": "stdout",
     "output_type": "stream",
     "text": [
      "sin(pi/2) : 1.00\n"
     ]
    }
   ],
   "source": [
    "print('sin(pi/2) : %.2f'%math.sin(m.pi/2))"
   ]
  },
  {
   "cell_type": "code",
   "execution_count": 40,
   "id": "1847adec",
   "metadata": {},
   "outputs": [
    {
     "name": "stdout",
     "output_type": "stream",
     "text": [
      "cos(pi) : -1.00\n"
     ]
    }
   ],
   "source": [
    "print('cos(pi) : %.2f' %math.cos(m.pi))"
   ]
  },
  {
   "cell_type": "code",
   "execution_count": 41,
   "id": "f2a03d38",
   "metadata": {},
   "outputs": [
    {
     "name": "stdout",
     "output_type": "stream",
     "text": [
      "tan(pi*2) : -0.00\n"
     ]
    }
   ],
   "source": [
    "print('tan(pi*2) : %.2f'%math.tan(m.pi*2))"
   ]
  },
  {
   "cell_type": "code",
   "execution_count": 42,
   "id": "b0cb6aa6",
   "metadata": {},
   "outputs": [
    {
     "name": "stdout",
     "output_type": "stream",
     "text": [
      "pow(2**4) : 16.00\n"
     ]
    }
   ],
   "source": [
    "print('pow(2**4) : %.2f'%m.pow(2,4))"
   ]
  },
  {
   "cell_type": "code",
   "execution_count": 34,
   "id": "6e9e2d88",
   "metadata": {},
   "outputs": [
    {
     "name": "stdout",
     "output_type": "stream",
     "text": [
      "sqrt(48) : 7\n"
     ]
    }
   ],
   "source": [
    "print('sqrt(48) : %d'%math.sqrt(49))"
   ]
  },
  {
   "cell_type": "code",
   "execution_count": 38,
   "id": "718f494a",
   "metadata": {},
   "outputs": [
    {
     "name": "stdout",
     "output_type": "stream",
     "text": [
      "log10(100) : 2.00\n"
     ]
    }
   ],
   "source": [
    "print('log10(100) : %.2f'%math.log10(100))"
   ]
  },
  {
   "cell_type": "code",
   "execution_count": 43,
   "id": "d6694b48",
   "metadata": {},
   "outputs": [],
   "source": [
    "import random"
   ]
  },
  {
   "cell_type": "code",
   "execution_count": 45,
   "id": "1c8984ff",
   "metadata": {},
   "outputs": [
    {
     "data": {
      "text/plain": [
       "0.8674790468299743"
      ]
     },
     "execution_count": 45,
     "metadata": {},
     "output_type": "execute_result"
    }
   ],
   "source": [
    "random.random()"
   ]
  },
  {
   "cell_type": "code",
   "execution_count": 51,
   "id": "ecfcaa0b",
   "metadata": {},
   "outputs": [],
   "source": [
    "a = []\n",
    "for i in range(3):\n",
    "    a.append(random.random())"
   ]
  },
  {
   "cell_type": "code",
   "execution_count": 52,
   "id": "cc4f18a5",
   "metadata": {},
   "outputs": [
    {
     "name": "stdout",
     "output_type": "stream",
     "text": [
      "[0.24203212809718266, 0.42586987588083103, 0.5079005351213494]\n"
     ]
    }
   ],
   "source": [
    "print(a)"
   ]
  },
  {
   "cell_type": "code",
   "execution_count": 67,
   "id": "e96e7986",
   "metadata": {},
   "outputs": [
    {
     "name": "stdout",
     "output_type": "stream",
     "text": [
      "[9, 3, 3, 7, 1]\n"
     ]
    }
   ],
   "source": [
    "b = []\n",
    "for i in range(5):\n",
    "    b.append(random.randrange(1,11,2))\n",
    "print(b)"
   ]
  },
  {
   "cell_type": "code",
   "execution_count": 81,
   "id": "e3f93489",
   "metadata": {},
   "outputs": [
    {
     "name": "stdout",
     "output_type": "stream",
     "text": [
      "[2, 3, 3, 4, 5]\n"
     ]
    }
   ],
   "source": [
    "c = []\n",
    "for i in range(5):\n",
    "    c.append(random.randint(1,6))\n",
    "print(c)"
   ]
  },
  {
   "cell_type": "code",
   "execution_count": null,
   "id": "01f8a3d8",
   "metadata": {},
   "outputs": [],
   "source": [
    "d = ['가위','바위','보']\n",
    "rpc = []\n",
    "for i in range(5):\n",
    "    rpc.append(random.choice(d))"
   ]
  },
  {
   "cell_type": "markdown",
   "id": "edbb5950",
   "metadata": {},
   "source": [
    " d"
   ]
  },
  {
   "cell_type": "raw",
   "id": "29959ea0",
   "metadata": {},
   "source": [
    "print\n"
   ]
  },
  {
   "cell_type": "code",
   "execution_count": 80,
   "id": "75c38f6d",
   "metadata": {},
   "outputs": [
    {
     "name": "stdout",
     "output_type": "stream",
     "text": [
      "['바위', '보', '바위', '바위', '보']\n"
     ]
    }
   ],
   "source": [
    "print(rpc)"
   ]
  },
  {
   "cell_type": "code",
   "execution_count": 87,
   "id": "1d8e3132",
   "metadata": {},
   "outputs": [
    {
     "name": "stdout",
     "output_type": "stream",
     "text": [
      "['오렌지', '바나나', '사과']\n",
      "['사과', '바나나', '오렌지']\n",
      "['오렌지', '사과', '바나나']\n"
     ]
    }
   ],
   "source": [
    "f = ['사과', '바나나', '오렌지']\n",
    "for i in range(3):\n",
    "    random.shuffle(f)\n",
    "    print(f)"
   ]
  },
  {
   "cell_type": "code",
   "execution_count": 107,
   "id": "a586f02f",
   "metadata": {},
   "outputs": [
    {
     "name": "stdout",
     "output_type": "stream",
     "text": [
      "나 : 4, 상대 : 5\n",
      "패배\n",
      "게임 횟수 : 1, 승리 횟수 : 0\n",
      "다시 게임을 하시겠습니까? : f\n",
      "----------------------------------------\n"
     ]
    }
   ],
   "source": [
    "p = 0\n",
    "w = 0\n",
    "while True:\n",
    "    m = random.randint(1,6)\n",
    "    e = random.randint(1,6)\n",
    "    print('나 : %d, 상대 : %d'%(m, e))\n",
    "    if m > e:\n",
    "        w += 1\n",
    "        print('승리')\n",
    "        \n",
    "    elif m == e:\n",
    "        print('무승부')\n",
    "    else:\n",
    "        print('패배')\n",
    "    p += 1\n",
    "    print('게임 횟수 : %d, 승리 횟수 : %d'%(p, w))\n",
    "    q = input('다시 게임을 하시겠습니까? : ')\n",
    "    print('-'*40)\n",
    "    if q != 'y':\n",
    "        break"
   ]
  },
  {
   "cell_type": "code",
   "execution_count": 108,
   "id": "0663a80a",
   "metadata": {},
   "outputs": [
    {
     "name": "stdout",
     "output_type": "stream",
     "text": [
      "나 : 2, 상대 : 5\n",
      "패배\n",
      "게임 횟수 : 1, 승리 횟수 : 0\n",
      "다시 게임을 하시겠습니까? : f\n",
      "----------------------------------------\n"
     ]
    }
   ],
   "source": [
    "import 주사위게임"
   ]
  },
  {
   "cell_type": "code",
   "execution_count": 116,
   "id": "9a528b3b",
   "metadata": {},
   "outputs": [
    {
     "name": "stdout",
     "output_type": "stream",
     "text": [
      "나 : 바위, 상대 : 바위\n",
      "무승부\n",
      "게임 횟수 1, 승리 횟수 0\n",
      "계속하시려면 yy\n",
      "----------------------------------------\n",
      "나 : 바위, 상대 : 바위\n",
      "무승부\n",
      "게임 횟수 2, 승리 횟수 0\n",
      "계속하시려면 yy\n",
      "----------------------------------------\n",
      "나 : 가위, 상대 : 바위\n",
      "패배\n",
      "게임 횟수 3, 승리 횟수 0\n",
      "계속하시려면 yy\n",
      "----------------------------------------\n",
      "나 : 바위, 상대 : 바위\n",
      "무승부\n",
      "게임 횟수 4, 승리 횟수 0\n",
      "계속하시려면 yy\n",
      "----------------------------------------\n",
      "나 : 바위, 상대 : 가위\n",
      "승리\n",
      "게임 횟수 5, 승리 횟수 1\n",
      "계속하시려면 yy\n",
      "----------------------------------------\n",
      "나 : 가위, 상대 : 바위\n",
      "패배\n",
      "게임 횟수 6, 승리 횟수 1\n",
      "계속하시려면 yy\n",
      "----------------------------------------\n",
      "나 : 보, 상대 : 바위\n",
      "승리\n",
      "게임 횟수 7, 승리 횟수 2\n",
      "계속하시려면 yy\n",
      "----------------------------------------\n",
      "나 : 가위, 상대 : 바위\n",
      "패배\n",
      "게임 횟수 8, 승리 횟수 2\n",
      "계속하시려면 yy\n",
      "----------------------------------------\n",
      "나 : 가위, 상대 : 가위\n",
      "무승부\n",
      "게임 횟수 9, 승리 횟수 2\n",
      "계속하시려면 yy\n",
      "----------------------------------------\n",
      "나 : 보, 상대 : 바위\n",
      "승리\n",
      "게임 횟수 10, 승리 횟수 3\n",
      "계속하시려면 yy\n",
      "----------------------------------------\n",
      "나 : 가위, 상대 : 보\n",
      "승리\n",
      "게임 횟수 11, 승리 횟수 4\n",
      "계속하시려면 yy\n",
      "----------------------------------------\n",
      "나 : 가위, 상대 : 보\n",
      "승리\n",
      "게임 횟수 12, 승리 횟수 5\n",
      "계속하시려면 yy\n",
      "----------------------------------------\n",
      "나 : 보, 상대 : 가위\n",
      "패배\n",
      "게임 횟수 13, 승리 횟수 5\n",
      "계속하시려면 yy\n",
      "----------------------------------------\n",
      "나 : 바위, 상대 : 보\n",
      "패배\n",
      "게임 횟수 14, 승리 횟수 5\n",
      "계속하시려면 yy\n",
      "----------------------------------------\n",
      "나 : 가위, 상대 : 바위\n",
      "패배\n",
      "게임 횟수 15, 승리 횟수 5\n",
      "계속하시려면 yy\n",
      "----------------------------------------\n",
      "나 : 보, 상대 : 바위\n",
      "승리\n",
      "게임 횟수 16, 승리 횟수 6\n",
      "계속하시려면 yy\n",
      "----------------------------------------\n",
      "나 : 보, 상대 : 보\n",
      "무승부\n",
      "게임 횟수 17, 승리 횟수 6\n",
      "계속하시려면 yy\n",
      "----------------------------------------\n",
      "나 : 바위, 상대 : 보\n",
      "패배\n",
      "게임 횟수 18, 승리 횟수 6\n",
      "계속하시려면 yy\n",
      "----------------------------------------\n",
      "나 : 가위, 상대 : 바위\n",
      "패배\n",
      "게임 횟수 19, 승리 횟수 6\n"
     ]
    },
    {
     "ename": "KeyboardInterrupt",
     "evalue": "Interrupted by user",
     "output_type": "error",
     "traceback": [
      "\u001b[0;31m---------------------------------------------------------------------------\u001b[0m",
      "\u001b[0;31mKeyboardInterrupt\u001b[0m                         Traceback (most recent call last)",
      "Input \u001b[0;32mIn [116]\u001b[0m, in \u001b[0;36m<cell line: 5>\u001b[0;34m()\u001b[0m\n\u001b[1;32m     32\u001b[0m p \u001b[38;5;241m+\u001b[39m\u001b[38;5;241m=\u001b[39m \u001b[38;5;241m1\u001b[39m\n\u001b[1;32m     33\u001b[0m \u001b[38;5;28mprint\u001b[39m(\u001b[38;5;124m'\u001b[39m\u001b[38;5;124m게임 횟수 \u001b[39m\u001b[38;5;132;01m%d\u001b[39;00m\u001b[38;5;124m, 승리 횟수 \u001b[39m\u001b[38;5;132;01m%d\u001b[39;00m\u001b[38;5;124m'\u001b[39m\u001b[38;5;241m%\u001b[39m(p, w))\n\u001b[0;32m---> 34\u001b[0m q \u001b[38;5;241m=\u001b[39m \u001b[38;5;28;43minput\u001b[39;49m\u001b[43m(\u001b[49m\u001b[38;5;124;43m'\u001b[39;49m\u001b[38;5;124;43m계속하시려면 y\u001b[39;49m\u001b[38;5;124;43m'\u001b[39;49m\u001b[43m)\u001b[49m\n\u001b[1;32m     35\u001b[0m \u001b[38;5;28mprint\u001b[39m(\u001b[38;5;124m'\u001b[39m\u001b[38;5;124m-\u001b[39m\u001b[38;5;124m'\u001b[39m\u001b[38;5;241m*\u001b[39m\u001b[38;5;241m40\u001b[39m)\n\u001b[1;32m     36\u001b[0m \u001b[38;5;28;01mif\u001b[39;00m q \u001b[38;5;241m!=\u001b[39m \u001b[38;5;124m'\u001b[39m\u001b[38;5;124my\u001b[39m\u001b[38;5;124m'\u001b[39m:\n",
      "File \u001b[0;32m/opt/anaconda3/lib/python3.9/site-packages/ipykernel/kernelbase.py:1075\u001b[0m, in \u001b[0;36mKernel.raw_input\u001b[0;34m(self, prompt)\u001b[0m\n\u001b[1;32m   1071\u001b[0m \u001b[38;5;28;01mif\u001b[39;00m \u001b[38;5;129;01mnot\u001b[39;00m \u001b[38;5;28mself\u001b[39m\u001b[38;5;241m.\u001b[39m_allow_stdin:\n\u001b[1;32m   1072\u001b[0m     \u001b[38;5;28;01mraise\u001b[39;00m StdinNotImplementedError(\n\u001b[1;32m   1073\u001b[0m         \u001b[38;5;124m\"\u001b[39m\u001b[38;5;124mraw_input was called, but this frontend does not support input requests.\u001b[39m\u001b[38;5;124m\"\u001b[39m\n\u001b[1;32m   1074\u001b[0m     )\n\u001b[0;32m-> 1075\u001b[0m \u001b[38;5;28;01mreturn\u001b[39;00m \u001b[38;5;28;43mself\u001b[39;49m\u001b[38;5;241;43m.\u001b[39;49m\u001b[43m_input_request\u001b[49m\u001b[43m(\u001b[49m\n\u001b[1;32m   1076\u001b[0m \u001b[43m    \u001b[49m\u001b[38;5;28;43mstr\u001b[39;49m\u001b[43m(\u001b[49m\u001b[43mprompt\u001b[49m\u001b[43m)\u001b[49m\u001b[43m,\u001b[49m\n\u001b[1;32m   1077\u001b[0m \u001b[43m    \u001b[49m\u001b[38;5;28;43mself\u001b[39;49m\u001b[38;5;241;43m.\u001b[39;49m\u001b[43m_parent_ident\u001b[49m\u001b[43m[\u001b[49m\u001b[38;5;124;43m\"\u001b[39;49m\u001b[38;5;124;43mshell\u001b[39;49m\u001b[38;5;124;43m\"\u001b[39;49m\u001b[43m]\u001b[49m\u001b[43m,\u001b[49m\n\u001b[1;32m   1078\u001b[0m \u001b[43m    \u001b[49m\u001b[38;5;28;43mself\u001b[39;49m\u001b[38;5;241;43m.\u001b[39;49m\u001b[43mget_parent\u001b[49m\u001b[43m(\u001b[49m\u001b[38;5;124;43m\"\u001b[39;49m\u001b[38;5;124;43mshell\u001b[39;49m\u001b[38;5;124;43m\"\u001b[39;49m\u001b[43m)\u001b[49m\u001b[43m,\u001b[49m\n\u001b[1;32m   1079\u001b[0m \u001b[43m    \u001b[49m\u001b[43mpassword\u001b[49m\u001b[38;5;241;43m=\u001b[39;49m\u001b[38;5;28;43;01mFalse\u001b[39;49;00m\u001b[43m,\u001b[49m\n\u001b[1;32m   1080\u001b[0m \u001b[43m\u001b[49m\u001b[43m)\u001b[49m\n",
      "File \u001b[0;32m/opt/anaconda3/lib/python3.9/site-packages/ipykernel/kernelbase.py:1120\u001b[0m, in \u001b[0;36mKernel._input_request\u001b[0;34m(self, prompt, ident, parent, password)\u001b[0m\n\u001b[1;32m   1117\u001b[0m             \u001b[38;5;28;01mbreak\u001b[39;00m\n\u001b[1;32m   1118\u001b[0m \u001b[38;5;28;01mexcept\u001b[39;00m \u001b[38;5;167;01mKeyboardInterrupt\u001b[39;00m:\n\u001b[1;32m   1119\u001b[0m     \u001b[38;5;66;03m# re-raise KeyboardInterrupt, to truncate traceback\u001b[39;00m\n\u001b[0;32m-> 1120\u001b[0m     \u001b[38;5;28;01mraise\u001b[39;00m \u001b[38;5;167;01mKeyboardInterrupt\u001b[39;00m(\u001b[38;5;124m\"\u001b[39m\u001b[38;5;124mInterrupted by user\u001b[39m\u001b[38;5;124m\"\u001b[39m) \u001b[38;5;28;01mfrom\u001b[39;00m \u001b[38;5;28mNone\u001b[39m\n\u001b[1;32m   1121\u001b[0m \u001b[38;5;28;01mexcept\u001b[39;00m \u001b[38;5;167;01mException\u001b[39;00m:\n\u001b[1;32m   1122\u001b[0m     \u001b[38;5;28mself\u001b[39m\u001b[38;5;241m.\u001b[39mlog\u001b[38;5;241m.\u001b[39mwarning(\u001b[38;5;124m\"\u001b[39m\u001b[38;5;124mInvalid Message:\u001b[39m\u001b[38;5;124m\"\u001b[39m, exc_info\u001b[38;5;241m=\u001b[39m\u001b[38;5;28;01mTrue\u001b[39;00m)\n",
      "\u001b[0;31mKeyboardInterrupt\u001b[0m: Interrupted by user"
     ]
    }
   ],
   "source": [
    "d = ['가위','바위','보']\n",
    "p = 0\n",
    "w = 0\n",
    "while True:\n",
    "    m = random.choice(d)\n",
    "    e = random.choice(d)\n",
    "    print('나 : %s, 상대 : %s'%(m,e))\n",
    "    if m == '가위':\n",
    "        if e == '가위':\n",
    "            print('무승부')\n",
    "        elif e ==  '바위':\n",
    "            print('패배')\n",
    "        else:\n",
    "            print('승리')\n",
    "            w += 1\n",
    "    elif m == '바위':\n",
    "        if e == '바위':\n",
    "            print('무승부')\n",
    "        elif e ==  '보':\n",
    "            print('패배')\n",
    "        else:\n",
    "            print('승리')\n",
    "            w += 1\n",
    "    else:\n",
    "        if e == '보':\n",
    "            print('무승부')\n",
    "        elif e ==  '가위':\n",
    "            print('패배')\n",
    "        else:\n",
    "            print('승리')\n",
    "            w += 1\n",
    "    p += 1\n",
    "    print('게임 횟수 %d, 승리 횟수 %d'%(p, w))\n",
    "    q = input('계속하시려면 y')\n",
    "    print('-'*40)\n",
    "    if q != 'y':\n",
    "        break"
   ]
  },
  {
   "cell_type": "code",
   "execution_count": 114,
   "id": "458a5dd3",
   "metadata": {},
   "outputs": [],
   "source": [
    "import 가위바위보"
   ]
  },
  {
   "cell_type": "code",
   "execution_count": 129,
   "id": "53d5553f",
   "metadata": {},
   "outputs": [],
   "source": [
    "import datetime"
   ]
  },
  {
   "cell_type": "code",
   "execution_count": 135,
   "id": "baeb0898",
   "metadata": {},
   "outputs": [],
   "source": []
  },
  {
   "cell_type": "code",
   "execution_count": null,
   "id": "3bea1984",
   "metadata": {},
   "outputs": [],
   "source": []
  },
  {
   "cell_type": "code",
   "execution_count": 149,
   "id": "a96c3881",
   "metadata": {},
   "outputs": [
    {
     "name": "stdout",
     "output_type": "stream",
     "text": [
      "[출력 결과]\n",
      "년 : 2022\n",
      "월 : 9\n",
      "일 : 6\n",
      "시 : 15\n",
      "분 : 36\n",
      "초 : 19\n",
      "2022/09/06 PM03/36/19  Tuesday\n"
     ]
    }
   ],
   "source": [
    "today = datetime.datetime.now()\n",
    "print('[출력 결과]')\n",
    "print('년 : %s'%today.year)\n",
    "print('월 : %s'%today.month)\n",
    "print('일 : %s'%today.day)\n",
    "print('시 : %s'%today.hour)\n",
    "print('분 : %s'%today.minute)\n",
    "print('초 : %s'%today.second)\n",
    "print(today.strftime('%Y/%m/%d %p%I/%M/%S  %A'))"
   ]
  },
  {
   "cell_type": "code",
   "execution_count": 150,
   "id": "705bf924",
   "metadata": {},
   "outputs": [],
   "source": []
  },
  {
   "cell_type": "code",
   "execution_count": 145,
   "id": "dd477c1c",
   "metadata": {},
   "outputs": [
    {
     "data": {
      "text/plain": [
       "'2022/09/06 PM03/27/25'"
      ]
     },
     "execution_count": 145,
     "metadata": {},
     "output_type": "execute_result"
    }
   ],
   "source": [
    "today.strftime('%Y/%m/%d %p%I/%M/%S')"
   ]
  },
  {
   "cell_type": "code",
   "execution_count": 152,
   "id": "0c70293a",
   "metadata": {},
   "outputs": [],
   "source": [
    "import time"
   ]
  },
  {
   "cell_type": "markdown",
   "id": "6e45c96c",
   "metadata": {},
   "source": [
    "# \n"
   ]
  },
  {
   "cell_type": "code",
   "execution_count": 157,
   "id": "3ee6e6b8",
   "metadata": {},
   "outputs": [],
   "source": [
    "t1 = time.time()"
   ]
  },
  {
   "cell_type": "code",
   "execution_count": 158,
   "id": "8eea372b",
   "metadata": {},
   "outputs": [
    {
     "name": "stdout",
     "output_type": "stream",
     "text": [
      "time.time() =  1662446697.5858781 \n",
      "\n"
     ]
    }
   ],
   "source": [
    "print('time.time() = ', t1,'\\n')"
   ]
  },
  {
   "cell_type": "code",
   "execution_count": 162,
   "id": "be272f13",
   "metadata": {},
   "outputs": [],
   "source": [
    "start = time.time()"
   ]
  },
  {
   "cell_type": "code",
   "execution_count": 163,
   "id": "1a0d10b0",
   "metadata": {},
   "outputs": [
    {
     "data": {
      "text/plain": [
       "8.795943975448608"
      ]
     },
     "execution_count": 163,
     "metadata": {},
     "output_type": "execute_result"
    }
   ],
   "source": [
    "time.time() -start"
   ]
  },
  {
   "cell_type": "code",
   "execution_count": 164,
   "id": "a5ba3789",
   "metadata": {},
   "outputs": [
    {
     "name": "stdout",
     "output_type": "stream",
     "text": [
      "Tue Sep  6 15:44:57 2022\n"
     ]
    }
   ],
   "source": [
    "str1 = time.ctime(t1)\n",
    "print(str1)"
   ]
  },
  {
   "cell_type": "code",
   "execution_count": 165,
   "id": "8923f175",
   "metadata": {},
   "outputs": [
    {
     "data": {
      "text/plain": [
       "'Tue Sep  6 15:49:40 2022'"
      ]
     },
     "execution_count": 165,
     "metadata": {},
     "output_type": "execute_result"
    }
   ],
   "source": [
    "time.ctime()"
   ]
  },
  {
   "cell_type": "code",
   "execution_count": 166,
   "id": "a3fb076e",
   "metadata": {},
   "outputs": [
    {
     "name": "stdout",
     "output_type": "stream",
     "text": [
      "time.struct_time(tm_year=2022, tm_mon=9, tm_mday=6, tm_hour=6, tm_min=49, tm_sec=53, tm_wday=1, tm_yday=249, tm_isdst=0) \n",
      "\n"
     ]
    }
   ],
   "source": [
    "t2 = time.gmtime()\n",
    "print(t2,'\\n')\n"
   ]
  },
  {
   "cell_type": "code",
   "execution_count": 161,
   "id": "5c3fa3c5",
   "metadata": {},
   "outputs": [
    {
     "name": "stdout",
     "output_type": "stream",
     "text": [
      "time.struct_time(tm_year=2022, tm_mon=9, tm_mday=6, tm_hour=15, tm_min=44, tm_sec=59, tm_wday=1, tm_yday=249, tm_isdst=0)\n",
      "현재 날짜 : 2022년 9월 6일\n",
      "현재 시간 : 15시 44분 59초\n"
     ]
    }
   ],
   "source": [
    "t3 = time.localtime()\n",
    "print(t3)\n",
    "print('현재 날짜 : {}년 {}월 {}일'.format(t3.tm_year, t3.tm_mon, t3.tm_mday))\n",
    "print('현재 시간 : {}시 {}분 {}초'.format(t3.tm_hour, t3.tm_min, t3.tm_sec))"
   ]
  },
  {
   "cell_type": "code",
   "execution_count": 167,
   "id": "db336305",
   "metadata": {},
   "outputs": [],
   "source": [
    "import os"
   ]
  },
  {
   "cell_type": "code",
   "execution_count": 168,
   "id": "5a2b8140",
   "metadata": {},
   "outputs": [
    {
     "name": "stdout",
     "output_type": "stream",
     "text": [
      "현재 운영체제 :  posix\n",
      "현재 폴더 :  /Users/iseung-won\n",
      "현재 폴더 내부의 요소 :  ['2022_08_29.ipynb', 'md2.py', '.eclipse', '.config', 'scores.txt', 'Music', 'math_encore2.py', '2022_08_30.ipynb', '.condarc', 'Untitled5.ipynb', 'code2.py', 'Untitled1.ipynb', '.DS_Store', 'code3.py', '.CFUserTextEncoding', '.xonshrc', 'Untitled3.ipynb', 'encore20220826.ipynb', 'Untitled.ipynb', '.zshrc', 'encore_0831.ipynb', 'Untitled4.ipynb', '주사위게임.py', 'Untitled6.ipynb', 'Pictures', '2022_08_31.ipynb', '.atom', '.zprofile', 'greet3.py', '.zsh_history', 'Untitled2.ipynb', '.ipython', 'greet2.py', 'Desktop', 'Library', 'eclipse-workspace', '.matplotlib', '__pycache__', '.spyder-py3', '2022_09_06.ipynb', 'greet1.py', 'encore_0902.ipynb', 'Public', 'write.txt', '.idlerc', '.tcshrc', 'encore_0829 (1).ipynb', 'encore.txt', '.anaconda', '2022_08_24.ipynb', '3단.txt', 'Movies', '2022_08_26.ipynb', 'Applications', '.Trash', '가위바위보.py', '2022_09_02.ipynb', 'timehh.py', 'test.txt', '.ipynb_checkpoints', '.jupyter', '엔코아 파이썬 csv 실습 예제들', 'Documents', '2022_09_05.ipynb', '2022_encore_1 (1).ipynb', '.vscode', '.bash_profile', 'encore_0901.ipynb', 'code4.py', 'score.txt', '2022_08_23.ipynb', 'Downloads', 'hello.txt', '.continuum', '.cache', 'encore_0825.ipynb', 'md1.py', 'math_encore1.py', '.zsh_sessions', 'sample2.txt', '내장함수 연습.ipynb', '2022_09_01.ipynb', '.conda', '2022_08_25.ipynb', 'new.txt', 'code1.py', 'sample3.txt']\n",
      "현재 운영체제 :  posix\n"
     ]
    }
   ],
   "source": [
    "print('현재 운영체제 : ', os.name)\n",
    "print('현재 폴더 : ', os.getcwd())\n",
    "print('현재 폴더 내부의 요소 : ', os.listdir())\n",
    "print('현재 운영체제 : ', os.name)"
   ]
  },
  {
   "cell_type": "code",
   "execution_count": 169,
   "id": "971962a3",
   "metadata": {},
   "outputs": [],
   "source": [
    "os.mkdir('hello')\n",
    "os.rmdir('hello')"
   ]
  },
  {
   "cell_type": "code",
   "execution_count": 1,
   "id": "98269945",
   "metadata": {},
   "outputs": [
    {
     "ename": "NameError",
     "evalue": "name 'mypack' is not defined",
     "output_type": "error",
     "traceback": [
      "\u001b[0;31m---------------------------------------------------------------------------\u001b[0m",
      "\u001b[0;31mNameError\u001b[0m                                 Traceback (most recent call last)",
      "Input \u001b[0;32mIn [1]\u001b[0m, in \u001b[0;36m<cell line: 1>\u001b[0;34m()\u001b[0m\n\u001b[0;32m----> 1\u001b[0m \u001b[43mmypack\u001b[49m\u001b[38;5;241m/\u001b[39m\u001b[38;5;21m__init__\u001b[39m\u001b[38;5;241m.\u001b[39mpy\n",
      "\u001b[0;31mNameError\u001b[0m: name 'mypack' is not defined"
     ]
    }
   ],
   "source": [
    "mypack/__init__.py"
   ]
  },
  {
   "cell_type": "code",
   "execution_count": 7,
   "id": "fcfddaef",
   "metadata": {},
   "outputs": [],
   "source": [
    "from mypack.subpack1 import *\n",
    "from mypack.subpack2 import *"
   ]
  },
  {
   "cell_type": "code",
   "execution_count": 10,
   "id": "32b3ef89",
   "metadata": {},
   "outputs": [
    {
     "ename": "NameError",
     "evalue": "name 'mypack' is not defined",
     "output_type": "error",
     "traceback": [
      "\u001b[0;31m---------------------------------------------------------------------------\u001b[0m",
      "\u001b[0;31mNameError\u001b[0m                                 Traceback (most recent call last)",
      "Input \u001b[0;32mIn [10]\u001b[0m, in \u001b[0;36m<cell line: 1>\u001b[0;34m()\u001b[0m\n\u001b[0;32m----> 1\u001b[0m \u001b[43mmypack\u001b[49m\u001b[38;5;241m/\u001b[39msubpack1\u001b[38;5;241m/\u001b[39mfmdl\u001b[38;5;241m.\u001b[39mpy\u001b[38;5;241m.\u001b[39mf1()\n",
      "\u001b[0;31mNameError\u001b[0m: name 'mypack' is not defined"
     ]
    }
   ],
   "source": [
    "mypack/subpack1/fmdl.py.f1()"
   ]
  },
  {
   "cell_type": "code",
   "execution_count": 12,
   "id": "05d13823",
   "metadata": {},
   "outputs": [
    {
     "name": "stdout",
     "output_type": "stream",
     "text": [
      "정수 입력 : 5센티미터\n"
     ]
    },
    {
     "ename": "ValueError",
     "evalue": "invalid literal for int() with base 10: '5센티미터'",
     "output_type": "error",
     "traceback": [
      "\u001b[0;31m---------------------------------------------------------------------------\u001b[0m",
      "\u001b[0;31mValueError\u001b[0m                                Traceback (most recent call last)",
      "Input \u001b[0;32mIn [12]\u001b[0m, in \u001b[0;36m<cell line: 1>\u001b[0;34m()\u001b[0m\n\u001b[0;32m----> 1\u001b[0m number \u001b[38;5;241m=\u001b[39m \u001b[38;5;28;43mint\u001b[39;49m\u001b[43m(\u001b[49m\u001b[38;5;28;43minput\u001b[39;49m\u001b[43m(\u001b[49m\u001b[38;5;124;43m'\u001b[39;49m\u001b[38;5;124;43m정수 입력 : \u001b[39;49m\u001b[38;5;124;43m'\u001b[39;49m\u001b[43m)\u001b[49m\u001b[43m)\u001b[49m\n\u001b[1;32m      3\u001b[0m \u001b[38;5;28mprint\u001b[39m(\u001b[38;5;124m'\u001b[39m\u001b[38;5;124m원의 반지름 : \u001b[39m\u001b[38;5;124m'\u001b[39m, number)\n\u001b[1;32m      4\u001b[0m \u001b[38;5;28mprint\u001b[39m(\u001b[38;5;124m'\u001b[39m\u001b[38;5;124m원의 둘레 : \u001b[39m\u001b[38;5;124m'\u001b[39m, \u001b[38;5;241m2\u001b[39m\u001b[38;5;241m*\u001b[39m\u001b[38;5;241m3.14\u001b[39m\u001b[38;5;241m*\u001b[39mnumber)\n",
      "\u001b[0;31mValueError\u001b[0m: invalid literal for int() with base 10: '5센티미터'"
     ]
    }
   ],
   "source": [
    "number = int(input('정수 입력 : '))\n",
    "\n",
    "print('원의 반지름 : ', number)\n",
    "print('원의 둘레 : ', 2*3.14*number)\n",
    "print('원의 넓이 : ', 3.14*number*number)"
   ]
  },
  {
   "cell_type": "code",
   "execution_count": 18,
   "id": "0e462ab4",
   "metadata": {},
   "outputs": [
    {
     "name": "stdout",
     "output_type": "stream",
     "text": [
      "정수 입력 : 5\n",
      "원의 반지름 :  5\n",
      "원의 둘레 :  31.400000000000002\n",
      "원의 넓이 :  78.5\n"
     ]
    }
   ],
   "source": [
    "number = input('정수 입력 : ')\n",
    "\n",
    "if number.isdigit():\n",
    "    num = int(number)\n",
    "    print('원의 반지름 : ', num)\n",
    "    print('원의 둘레 : ', 2*3.14*num)\n",
    "    print('원의 넓이 : ', 3.14*num*num)\n",
    "else:\n",
    "    print('숫자를 입력하세요.')"
   ]
  },
  {
   "cell_type": "code",
   "execution_count": 22,
   "id": "70e2c914",
   "metadata": {},
   "outputs": [
    {
     "name": "stdout",
     "output_type": "stream",
     "text": [
      "정수 입력 : 5c\n",
      "잘못 입력 했습니다.\n"
     ]
    }
   ],
   "source": [
    "try:\n",
    "    number = int(input('정수 입력 : '))\n",
    "    print('원의 반지름 : ', number)\n",
    "    print('원의 둘레 : ', 2*3.14*number)\n",
    "    print('원의 넓이 : ', 3.14*number*number)\n",
    "except:\n",
    "    print('잘못 입력 했습니다.')"
   ]
  },
  {
   "cell_type": "code",
   "execution_count": 27,
   "id": "a74d4551",
   "metadata": {},
   "outputs": [
    {
     "name": "stdout",
     "output_type": "stream",
     "text": [
      "1\n",
      "list index out of range\n",
      "<class 'IndexError'>\n"
     ]
    }
   ],
   "source": [
    "try:\n",
    "    test = [1,2,3]\n",
    "    print(test[0])\n",
    "    print(test[4])\n",
    "    print(test[1])\n",
    "except IndexError as err:\n",
    "    print(err)\n",
    "    print(IndexError)"
   ]
  },
  {
   "cell_type": "code",
   "execution_count": 30,
   "id": "179726d5",
   "metadata": {},
   "outputs": [
    {
     "name": "stdout",
     "output_type": "stream",
     "text": [
      "1\n"
     ]
    },
    {
     "ename": "IndexError",
     "evalue": "list index out of range",
     "output_type": "error",
     "traceback": [
      "\u001b[0;31m---------------------------------------------------------------------------\u001b[0m",
      "\u001b[0;31mIndexError\u001b[0m                                Traceback (most recent call last)",
      "Input \u001b[0;32mIn [30]\u001b[0m, in \u001b[0;36m<cell line: 3>\u001b[0;34m()\u001b[0m\n\u001b[1;32m      1\u001b[0m test \u001b[38;5;241m=\u001b[39m [\u001b[38;5;241m1\u001b[39m,\u001b[38;5;241m2\u001b[39m,\u001b[38;5;241m3\u001b[39m]\n\u001b[1;32m      2\u001b[0m \u001b[38;5;28mprint\u001b[39m(test[\u001b[38;5;241m0\u001b[39m])\n\u001b[0;32m----> 3\u001b[0m \u001b[38;5;28mprint\u001b[39m(\u001b[43mtest\u001b[49m\u001b[43m[\u001b[49m\u001b[38;5;241;43m4\u001b[39;49m\u001b[43m]\u001b[49m)\n\u001b[1;32m      4\u001b[0m \u001b[38;5;28mprint\u001b[39m(test[\u001b[38;5;241m1\u001b[39m])\n",
      "\u001b[0;31mIndexError\u001b[0m: list index out of range"
     ]
    }
   ],
   "source": [
    "test = [1,2,3]\n",
    "print(test[0])\n",
    "print(test[4])\n",
    "print(test[1])"
   ]
  },
  {
   "cell_type": "code",
   "execution_count": 28,
   "id": "9701dbeb",
   "metadata": {},
   "outputs": [
    {
     "name": "stdout",
     "output_type": "stream",
     "text": [
      "첫번째 숫자 입력 : 3\n",
      "두번째 숫자 입력 : p\n"
     ]
    },
    {
     "ename": "ValueError",
     "evalue": "invalid literal for int() with base 10: 'p'",
     "output_type": "error",
     "traceback": [
      "\u001b[0;31m---------------------------------------------------------------------------\u001b[0m",
      "\u001b[0;31mValueError\u001b[0m                                Traceback (most recent call last)",
      "Input \u001b[0;32mIn [28]\u001b[0m, in \u001b[0;36m<cell line: 2>\u001b[0;34m()\u001b[0m\n\u001b[1;32m      1\u001b[0m num1 \u001b[38;5;241m=\u001b[39m \u001b[38;5;28mint\u001b[39m(\u001b[38;5;28minput\u001b[39m(\u001b[38;5;124m'\u001b[39m\u001b[38;5;124m첫번째 숫자 입력 : \u001b[39m\u001b[38;5;124m'\u001b[39m))\n\u001b[0;32m----> 2\u001b[0m num2 \u001b[38;5;241m=\u001b[39m \u001b[38;5;28;43mint\u001b[39;49m\u001b[43m(\u001b[49m\u001b[38;5;28;43minput\u001b[39;49m\u001b[43m(\u001b[49m\u001b[38;5;124;43m'\u001b[39;49m\u001b[38;5;124;43m두번째 숫자 입력 : \u001b[39;49m\u001b[38;5;124;43m'\u001b[39;49m\u001b[43m)\u001b[49m\u001b[43m)\u001b[49m\n\u001b[1;32m      3\u001b[0m \u001b[38;5;28mprint\u001b[39m(num1 \u001b[38;5;241m+\u001b[39m num2)\n",
      "\u001b[0;31mValueError\u001b[0m: invalid literal for int() with base 10: 'p'"
     ]
    }
   ],
   "source": [
    "num1 = int(input('첫번째 숫자 입력 : '))\n",
    "num2 = int(input('두번째 숫자 입력 : '))\n",
    "print(num1 + num2)"
   ]
  },
  {
   "cell_type": "code",
   "execution_count": 31,
   "id": "eda212ae",
   "metadata": {},
   "outputs": [
    {
     "name": "stdout",
     "output_type": "stream",
     "text": [
      "첫번째 숫자 입력 : 1\n",
      "두번째 숫자 입력 : p\n",
      "숫자를 입력하세요 invalid literal for int() with base 10: 'p'\n"
     ]
    }
   ],
   "source": [
    "try:\n",
    "    num1 = int(input('첫번째 숫자 입력 : '))\n",
    "    num2 = int(input('두번째 숫자 입력 : '))\n",
    "    print(num1 + num2)\n",
    "except ValueError as err:\n",
    "    print('숫자를 입력하세요', err)\n",
    "else:\n",
    "    print(num1+num2)"
   ]
  },
  {
   "cell_type": "code",
   "execution_count": 32,
   "id": "08863f34",
   "metadata": {},
   "outputs": [],
   "source": [
    "!python mypack/subpack2/gmdl.py"
   ]
  },
  {
   "cell_type": "code",
   "execution_count": 33,
   "id": "dc3f9bdb",
   "metadata": {},
   "outputs": [],
   "source": [
    "import sys"
   ]
  },
  {
   "cell_type": "code",
   "execution_count": 34,
   "id": "e40214a7",
   "metadata": {},
   "outputs": [
    {
     "data": {
      "text/plain": [
       "['/opt/anaconda3/lib/python3.9/site-packages/ipykernel_launcher.py',\n",
       " '-f',\n",
       " '/Users/iseung-won/Library/Jupyter/runtime/kernel-a6a8cc6f-6692-43d3-99a1-c98b3233e67b.json']"
      ]
     },
     "execution_count": 34,
     "metadata": {},
     "output_type": "execute_result"
    }
   ],
   "source": [
    "sys.argv"
   ]
  },
  {
   "cell_type": "code",
   "execution_count": null,
   "id": "6b9dabfa",
   "metadata": {},
   "outputs": [],
   "source": []
  }
 ],
 "metadata": {
  "kernelspec": {
   "display_name": "Python 3 (ipykernel)",
   "language": "python",
   "name": "python3"
  },
  "language_info": {
   "codemirror_mode": {
    "name": "ipython",
    "version": 3
   },
   "file_extension": ".py",
   "mimetype": "text/x-python",
   "name": "python",
   "nbconvert_exporter": "python",
   "pygments_lexer": "ipython3",
   "version": "3.9.13"
  }
 },
 "nbformat": 4,
 "nbformat_minor": 5
}
