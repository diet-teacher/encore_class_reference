{
 "cells": [
  {
   "cell_type": "code",
   "execution_count": 5,
   "id": "d45d44ab",
   "metadata": {},
   "outputs": [],
   "source": [
    "# 마우스와 워터셰드로 배경 분리 (watershed.py)\n",
    "import cv2\n",
    "import numpy as np\n",
    "\n",
    "img = cv2.imread('/Users/iseung-won/images/sp')\n",
    "rows, cols = img.shape[:2]\n",
    "img_draw = img.copy()\n",
    "# 마커 생성, 모든 요소는 0으로 초기화 ---①\n",
    "marker = np.zeros((rows, cols), np.int32)\n",
    "markerId = 1        # 마커 아이디는 1에서 시작\n",
    "colors = []         # 마커 선택한 영역 색상 저장할 공간\n",
    "isDragging = False  # 드래그 여부 확인 변수\n",
    "# 마우스 이벤트 처리 함수\n",
    "def onMouse(event, x, y, flags, param):\n",
    "    global img_draw, marker, markerId, isDragging\n",
    "    if event == cv2.EVENT_LBUTTONDOWN:  # 왼쪽 마우스 버튼 다운, 드래그 시작\n",
    "        isDragging = True\n",
    "        # 각 마커의 아이디와 현 위치의 색상 값을 쌍으로 매핑해서 저장\n",
    "        colors.append((markerId, img[y,x]))\n",
    "    elif event == cv2.EVENT_MOUSEMOVE:  # 마우스 움직임\n",
    "        if isDragging:                  # 드래그 진행 중\n",
    "            # 마우스 좌표에 해당하는 마커의 좌표에 동일한 마커 아이디로 채워 넣기 ---②\n",
    "            marker[y,x] = markerId\n",
    "            # 마커 표시한 곳을 빨강색점으로 표시해서 출력\n",
    "            cv2.circle(img_draw, (x,y), 3, (0,0,255), -1)\n",
    "            cv2.imshow('watershed', img_draw)\n",
    "    elif event == cv2.EVENT_LBUTTONUP:  # 왼쪽 마우스 버튼 업\n",
    "        if isDragging:\n",
    "            isDragging = False          # 드래그 중지\n",
    "            # 다음 마커 선택을 위해 마커 아이디 증가 ---③\n",
    "            markerId +=1\n",
    "    elif event == cv2.EVENT_RBUTTONDOWN: # 오른쪽 마우스 버튼 누름\n",
    "            # 모아 놓은 마커를 이용해서 워터 쉐드 적용 ---④\n",
    "            cv2.watershed(img, marker)\n",
    "            # 마커에 -1로 표시된 경계를 초록색으로 표시  ---⑤\n",
    "            img_draw[marker == -1] = (0,255,0)\n",
    "            for mid, color in colors: # 선택한 마커 아이디 갯수 만큼 반복\n",
    "                # 같은 마커 아이디 값을 갖는 영역을 마커 선택한 색상으로 채우기 ---⑥\n",
    "                img_draw[marker==mid] = color\n",
    "            cv2.imshow('watershed', img_draw) # 표시한 결과 출력\n",
    "# 화면 출력\n",
    "cv2.imshow('watershed', img)\n",
    "cv2.setMouseCallback('watershed', onMouse)\n",
    "cv2.waitKey(0)\n",
    "cv2.destroyAllWindows()"
   ]
  },
  {
   "cell_type": "code",
   "execution_count": null,
   "id": "1978dec8",
   "metadata": {},
   "outputs": [],
   "source": []
  }
 ],
 "metadata": {
  "kernelspec": {
   "display_name": "Python 3 (ipykernel)",
   "language": "python",
   "name": "python3"
  },
  "language_info": {
   "codemirror_mode": {
    "name": "ipython",
    "version": 3
   },
   "file_extension": ".py",
   "mimetype": "text/x-python",
   "name": "python",
   "nbconvert_exporter": "python",
   "pygments_lexer": "ipython3",
   "version": "3.9.13"
  }
 },
 "nbformat": 4,
 "nbformat_minor": 5
}
