{
 "cells": [
  {
   "cell_type": "code",
   "execution_count": 4,
   "id": "350e66b8",
   "metadata": {},
   "outputs": [],
   "source": [
    "import cv2\n",
    "import numpy as np\n",
    "import matplotlib.pyplot as plt"
   ]
  },
  {
   "cell_type": "code",
   "execution_count": 5,
   "id": "15916efa",
   "metadata": {},
   "outputs": [
    {
     "data": {
      "text/plain": [
       "-1"
      ]
     },
     "execution_count": 5,
     "metadata": {},
     "output_type": "execute_result"
    }
   ],
   "source": [
    "src = cv2.imread('/Users/iseung-won/lena.jpg', cv2.IMREAD_GRAYSCALE)\n",
    "ret, bina = cv2.threshold(src, 120, 255, cv2.THRESH_BINARY)\n",
    "\n",
    "kernel = cv2.getStructuringElement(shape=cv2.MORPH_RECT, ksize=(3,3))\n",
    "\n",
    "ero = cv2.erode(bina, kernel, iterations=1)\n",
    "dil = cv2.dilate(bina, kernel, iterations=1)\n",
    "open1 = cv2.morphologyEx(bina, cv2.MORPH_OPEN, kernel, iterations=1)\n",
    "close1 = cv2.morphologyEx(bina, cv2.MORPH_CLOSE, kernel, iterations=1)\n",
    "tophat1 = cv2.morphologyEx(bina, cv2.MORPH_TOPHAT, kernel, iterations=1)\n",
    "blackhat1 = cv2.morphologyEx(bina, cv2.MORPH_BLACKHAT, kernel, iterations=1)\n",
    "\n",
    "cv2.imshow('binary', bina)\n",
    "cv2.imshow('erode', ero)\n",
    "cv2.imshow('dilate', dil)\n",
    "cv2.imshow('open', open1)\n",
    "cv2.imshow('close', close1)\n",
    "cv2.imshow('tophat', tophat1)\n",
    "cv2.imshow('blackhat', blackhat1)\n",
    "\n",
    "cv2.waitKey()\n",
    "cv2.destroyAllWindows()\n",
    "cv2.waitKey(1)"
   ]
  },
  {
   "cell_type": "code",
   "execution_count": 29,
   "id": "6bb24da1",
   "metadata": {},
   "outputs": [
    {
     "data": {
      "text/plain": [
       "-1"
      ]
     },
     "execution_count": 29,
     "metadata": {},
     "output_type": "execute_result"
    }
   ],
   "source": [
    "src = cv2.imread('/Users/iseung-won/lena.jpg', cv2.IMREAD_GRAYSCALE)\n",
    "ret, bina = cv2.threshold(src, 0, 255, cv2.THRESH_BINARY+cv2.THRESH_OTSU)\n",
    "\n",
    "kernel = cv2.getStructuringElement(shape=cv2.MORPH_RECT, ksize=(3,3))\n",
    "\n",
    "ero = cv2.erode(bina, kernel, iterations=1)\n",
    "dil = cv2.dilate(bina, kernel, iterations=1)\n",
    "open1 = cv2.morphologyEx(bina, cv2.MORPH_OPEN, kernel, iterations=1)\n",
    "close1 = cv2.morphologyEx(bina, cv2.MORPH_CLOSE, kernel, iterations=1)\n",
    "gradient1 = cv2.morphologyEx(bina, cv2.MORPH_GRADIENT, kernel)\n",
    "tophat1 = cv2.morphologyEx(bina, cv2.MORPH_TOPHAT, kernel, iterations=1)\n",
    "blackhat1 = cv2.morphologyEx(bina, cv2.MORPH_BLACKHAT, kernel, iterations=1)\n",
    "\n",
    "cv2.imshow('binary', bina)\n",
    "cv2.imshow('erode', ero)\n",
    "cv2.imshow('dilate', dil)\n",
    "cv2.imshow('open', open1)\n",
    "cv2.imshow('close', close1)\n",
    "cv2.imshow('gradient', gradient1)\n",
    "cv2.imshow('tophat', tophat1)\n",
    "cv2.imshow('blackhat', blackhat1)\n",
    "\n",
    "cv2.waitKey()\n",
    "cv2.destroyAllWindows()\n",
    "cv2.waitKey(1)"
   ]
  },
  {
   "cell_type": "code",
   "execution_count": 32,
   "id": "ba113f74",
   "metadata": {},
   "outputs": [
    {
     "data": {
      "text/plain": [
       "-1"
      ]
     },
     "execution_count": 32,
     "metadata": {},
     "output_type": "execute_result"
    }
   ],
   "source": [
    "src = cv2.imread('/Users/iseung-won/lena.jpg', cv2.IMREAD_GRAYSCALE)\n",
    "ret, bina = cv2.threshold(src, 0, 255, cv2.THRESH_BINARY+cv2.THRESH_OTSU)\n",
    "\n",
    "kernel = cv2.getStructuringElement(shape=cv2.MORPH_RECT, ksize=(3,3))\n",
    "\n",
    "ero = cv2.erode(bina, kernel, iterations=2)\n",
    "dil = cv2.dilate(bina, kernel, iterations=2)\n",
    "open1 = cv2.morphologyEx(bina, cv2.MORPH_OPEN, kernel, iterations=2)\n",
    "close1 = cv2.morphologyEx(bina, cv2.MORPH_CLOSE, kernel, iterations=2)\n",
    "gradient1 = cv2.morphologyEx(bina, cv2.MORPH_GRADIENT, kernel)\n",
    "tophat1 = cv2.morphologyEx(bina, cv2.MORPH_TOPHAT, kernel, iterations=2)\n",
    "blackhat1 = cv2.morphologyEx(bina, cv2.MORPH_BLACKHAT, kernel, iterations=2)\n",
    "\n",
    "cv2.imshow('binary', bina)\n",
    "cv2.imshow('erode', ero)\n",
    "cv2.imshow('dilate', dil)\n",
    "cv2.imshow('open', open1)\n",
    "cv2.imshow('close', close1)\n",
    "cv2.imshow('gradient', gradient1)\n",
    "cv2.imshow('tophat', tophat1)\n",
    "cv2.imshow('blackhat', blackhat1)\n",
    "\n",
    "cv2.waitKey()\n",
    "cv2.destroyAllWindows()\n",
    "cv2.waitKey(1)"
   ]
  },
  {
   "cell_type": "code",
   "execution_count": 33,
   "id": "3a0690a1",
   "metadata": {},
   "outputs": [
    {
     "data": {
      "text/plain": [
       "-1"
      ]
     },
     "execution_count": 33,
     "metadata": {},
     "output_type": "execute_result"
    }
   ],
   "source": [
    "import cv2\n",
    "src = cv2.imread('/Users/iseung-won/lena.jpg', 0)\n",
    "ret, dst = cv2.threshold(src, 0, 255, cv2.THRESH_BINARY+cv2.THRESH_OTSU)\n",
    "i = 2 # 2 이상부터 입이 없어진다\n",
    "kernel = cv2.getStructuringElement(shape=cv2.MORPH_RECT, ksize=(3,3))\n",
    "erode = cv2.morphologyEx(dst, cv2.MORPH_ERODE, kernel, iterations = i)\n",
    "dilate = cv2.morphologyEx(dst, cv2.MORPH_DILATE, kernel, iterations = i)\n",
    "closing = cv2.morphologyEx(dst, cv2.MORPH_CLOSE, kernel, iterations = i)\n",
    "opening = cv2.morphologyEx(closing, cv2.MORPH_OPEN, kernel, iterations = i)\n",
    "gradient = cv2.morphologyEx(opening, cv2.MORPH_GRADIENT, kernel)\n",
    "tophat = cv2.morphologyEx(dst, cv2.MORPH_TOPHAT, kernel, iterations = i)\n",
    "blackhat = cv2.morphologyEx(dst, cv2.MORPH_BLACKHAT, kernel, iterations = i)\n",
    "cv2.imshow('blackhat', blackhat)\n",
    "cv2.imshow('tophat', tophat)\n",
    "cv2.imshow('gradient', gradient)\n",
    "cv2.imshow('closing', closing)\n",
    "cv2.imshow('opening', opening)\n",
    "cv2.imshow('dilate', dilate)\n",
    "cv2.imshow('erode', erode)\n",
    "cv2.imshow('dst', dst)\n",
    "cv2.waitKey()\n",
    "cv2.destroyAllWindows()\n",
    "cv2.waitKey(1)"
   ]
  },
  {
   "cell_type": "code",
   "execution_count": 2,
   "id": "387cbe2f",
   "metadata": {},
   "outputs": [],
   "source": [
    "import cv2\n",
    "import numpy as np\n",
    "import matplotlib.pyplot as plt"
   ]
  },
  {
   "cell_type": "code",
   "execution_count": 92,
   "id": "e56d9a56",
   "metadata": {},
   "outputs": [
    {
     "name": "stdout",
     "output_type": "stream",
     "text": [
      "x = 340\n",
      "y = 110\n",
      "width = 121\n",
      "height = 121\n",
      "area = 11289\n",
      "centroid = [[245.44863972 255.13168773]\n",
      " [400.         170.        ]\n",
      " [250.         250.        ]\n",
      " [350.         400.        ]]\n",
      "x = 180\n",
      "y = 180\n",
      "width = 141\n",
      "height = 141\n",
      "area = 15373\n",
      "centroid = [[245.44863972 255.13168773]\n",
      " [400.         170.        ]\n",
      " [250.         250.        ]\n",
      " [350.         400.        ]]\n",
      "x = 300\n",
      "y = 350\n",
      "width = 101\n",
      "height = 101\n",
      "area = 7845\n",
      "centroid = [[245.44863972 255.13168773]\n",
      " [400.         170.        ]\n",
      " [250.         250.        ]\n",
      " [350.         400.        ]]\n",
      "ret 10.0\n",
      "labels [0 1 2 3]\n"
     ]
    }
   ],
   "source": [
    "src = cv2.imread('/Users/iseung-won/circles.jpg', cv2.IMREAD_GRAYSCALE)\n",
    "\n",
    "ret, dst = cv2.threshold(src, 0, 255, cv2.THRESH_BINARY+cv2.THRESH_OTSU) #0과 255로 극과 극으로 나눔\n",
    "dst_r = cv2.bitwise_not(dst) #0과 255 밝기를 반전 시켜줌\n",
    "cnt, labels, stats, centroid = cv2.connectedComponentsWithStats(dst_r) # 정보 저장\n",
    "\n",
    "\n",
    "\n",
    "font = cv2.FONT_HERSHEY_SIMPLEX\n",
    "x1 = 400\n",
    "y1 = 170\n",
    "size1 = 121,121\n",
    "angle1 = 0\n",
    "\n",
    "x2 = 250\n",
    "y2 = 250\n",
    "size2 = 141,141\n",
    "angle2 = 0\n",
    "\n",
    "x3 = 350\n",
    "y3 = 400\n",
    "size3 = 101,101\n",
    "angle3 = 0\n",
    "\n",
    "rect1 = ((x1,y1), size1, angle1)\n",
    "rect2 = ((x2,y2), size2, angle2)\n",
    "rect3 = ((x3,y3), size3, angle3)\n",
    "\n",
    "\n",
    "\n",
    "\n",
    "cv2.putText(dst,'label=1', (340, 110), font, 1, (150,0,255), 2)\n",
    "cv2.putText(dst,'label=2', (180, 180), font, 1, (150,0,255), 2)\n",
    "cv2.putText(dst,'label=3', (300, 350), font, 1, (150,0,255), 2)\n",
    "box1 = cv2.boxPoints(rect1).astype(np.int32)\n",
    "box2 = cv2.boxPoints(rect2).astype(np.int32)\n",
    "box3 = cv2.boxPoints(rect3).astype(np.int32)\n",
    "\n",
    "cv2.rectangle(dst, (0,0), (512,512), 0, 3)\n",
    "cv2.polylines(dst, [box1], True, (0,0,0), 2)\n",
    "cv2.polylines(dst, [box2], True, (0,0,0), 2)\n",
    "cv2.polylines(dst, [box3], True, (0,0,0), 2)\n",
    "cv2.circle(dst, (400,170), 1, (255,255,255), 6)\n",
    "cv2.circle(dst, (250,250), 1, (255,255, 255), 6)\n",
    "cv2.circle(dst, (350,400), 1, (255,255,255), 6)\n",
    "\n",
    "for i in range(1, cnt): # 각각의 객체 정보에 들어가기 위해 반복문. 범위를 1부터 시작한 이유는 배경을 제외\n",
    "    (x, y, width, height, area) = stats[i]\n",
    "    print('x =', x)\n",
    "    print('y =', y)\n",
    "    print('width =', width)\n",
    "    print('height =', height)\n",
    "    print('area =', area)\n",
    "    print('centroid =', centroid)\n",
    "    \n",
    "\n",
    "\n",
    "cv2.imshow('src', src)\n",
    "cv2.imshow('dst', dst)\n",
    "cv2.imshow('rev', dst_r)\n",
    "\n",
    "cv2.waitKey()\n",
    "cv2.destroyAllWindows()\n",
    "cv2.waitKey(1)\n",
    "\n",
    "\n",
    "print('ret', ret)\n",
    "print('labels', np.unique(labels))"
   ]
  },
  {
   "cell_type": "code",
   "execution_count": 6,
   "id": "7fb37ec9",
   "metadata": {},
   "outputs": [
    {
     "data": {
      "text/plain": [
       "-1"
      ]
     },
     "execution_count": 6,
     "metadata": {},
     "output_type": "execute_result"
    }
   ],
   "source": [
    "dst_f = cv2.imread('/Users/iseung-won/circles.jpg')\n",
    "\n",
    "font = cv2.FONT_HERSHEY_SIMPLEX\n",
    "x1 = 400\n",
    "y1 = 170\n",
    "size1 = 121,121\n",
    "angle1 = 0\n",
    "\n",
    "x2 = 250\n",
    "y2 = 250\n",
    "size2 = 141,141\n",
    "angle2 = 0\n",
    "\n",
    "x3 = 350\n",
    "y3 = 400\n",
    "size3 = 101,101\n",
    "angle3 = 0\n",
    "\n",
    "rect1 = ((x1,y1), size1, angle1)\n",
    "rect2 = ((x2,y2), size2, angle2)\n",
    "rect3 = ((x3,y3), size3, angle3)\n",
    "\n",
    "\n",
    "cv2.putText(dst_f,'label=1', (340, 110), font, 1, (255,0,0), 2)\n",
    "cv2.putText(dst_f,'label=2', (180, 180), font, 1, (255,0,0), 2)\n",
    "cv2.putText(dst_f,'label=3', (300, 350), font, 1, (255,0,0), 2)\n",
    "box1 = cv2.boxPoints(rect1).astype(np.int32)\n",
    "box2 = cv2.boxPoints(rect2).astype(np.int32)\n",
    "box3 = cv2.boxPoints(rect3).astype(np.int32)\n",
    "\n",
    "cv2.rectangle(dst_f, (0,0), (512,512), (255,0,0), 10)\n",
    "cv2.polylines(dst_f, [box1], True, (0,0,255), 2)\n",
    "cv2.polylines(dst_f, [box2], True, (0,0,255), 2)\n",
    "cv2.polylines(dst_f, [box3], True, (0,0,255), 2)\n",
    "cv2.circle(dst_f, (400,170), 1, (0,0,255), 3)\n",
    "cv2.circle(dst_f, (250,250), 1, (0,0,255), 3)\n",
    "cv2.circle(dst_f, (350,400), 1, (0,0,255), 3)\n",
    "cv2.circle(dst_f, (245,255), 1, (255,0,0), 6)\n",
    "\n",
    "    \n",
    "\n",
    "\n",
    "cv2.imshow('final', dst_f)\n",
    "\n",
    "\n",
    "cv2.waitKey()\n",
    "cv2.destroyAllWindows()\n",
    "cv2.waitKey(1)"
   ]
  },
  {
   "cell_type": "code",
   "execution_count": 9,
   "id": "c7816da3",
   "metadata": {
    "scrolled": true
   },
   "outputs": [
    {
     "data": {
      "text/plain": [
       "-1"
      ]
     },
     "execution_count": 9,
     "metadata": {},
     "output_type": "execute_result"
    }
   ],
   "source": [
    "# 강사님 코드\n",
    "\n",
    "import cv2\n",
    "import numpy as np\n",
    "# Circle 영상에 컨버트 칼라와 쓰레스홀드를 주었다.\n",
    "src = cv2.imread('/Users/iseung-won/circles.jpg')\n",
    "gray = cv2.cvtColor(src, cv2.COLOR_BGR2GRAY)\n",
    "ret, res = cv2.threshold(gray, 128, 255, cv2.THRESH_BINARY_INV) # Thresh binary inverse를 걸었다.\n",
    "# 그래서 검은게 하얀색으로 하얀게 검은색으로 바뀌었다.\n",
    "cv2.imshow('src', src)\n",
    "cv2.imshow('res', res)\n",
    "cv2.waitKey()\n",
    "cv2.destroyAllWindows()\n",
    "cv2.waitKey(1)\n",
    "# 이 CCL 적용하면 우리가 원하는 것은 1, 2, 3 레이블링 하는 것, 컴포넌트 레이블링을 한다."
   ]
  },
  {
   "cell_type": "code",
   "execution_count": 11,
   "id": "0319064f",
   "metadata": {},
   "outputs": [
    {
     "name": "stdout",
     "output_type": "stream",
     "text": [
      "ret= 4\n",
      "labels [0 1 2 3]\n",
      "norm labels [  0  85 170 255]\n"
     ]
    },
    {
     "data": {
      "text/plain": [
       "-1"
      ]
     },
     "execution_count": 11,
     "metadata": {},
     "output_type": "execute_result"
    }
   ],
   "source": [
    "ret, labels = cv2.connectedComponents(res)\n",
    "print('ret=', ret)\n",
    "print('labels', np.unique(labels))\n",
    "labels = cv2.normalize(src=labels, dst=labels, alpha=0, beta=255, norm_type=cv2.NORM_MINMAX, dtype=cv2.CV_8U)\n",
    "print('norm labels', np.unique(labels))\n",
    "cv2.imshow('src', src)\n",
    "cv2.imshow('labels', labels)\n",
    "cv2.waitKey()\n",
    "cv2.destroyAllWindows()\n",
    "cv2.waitKey(1)\n",
    "# 이건 그냥 커넥티드 컴포넌트를 한 것이므로 이거 보다는 아래에 있는 것을 하는 게 낳지 않을까"
   ]
  },
  {
   "cell_type": "code",
   "execution_count": 12,
   "id": "c17eaa67",
   "metadata": {},
   "outputs": [
    {
     "name": "stdout",
     "output_type": "stream",
     "text": [
      "ret= 4\n",
      "labels= [0 1 2 3]\n",
      "stats= [[     0      0    512    512 227637]\n",
      " [   340    110    121    121  11289]\n",
      " [   180    180    141    141  15373]\n",
      " [   300    350    101    101   7845]]\n",
      "centroids= [[245.44863972 255.13168773]\n",
      " [400.         170.        ]\n",
      " [250.         250.        ]\n",
      " [350.         400.        ]]\n"
     ]
    },
    {
     "data": {
      "text/plain": [
       "-1"
      ]
     },
     "execution_count": 12,
     "metadata": {},
     "output_type": "execute_result"
    }
   ],
   "source": [
    "# 이걸 하게 되면 바로 끝이 난다. 영역과 무게 중심을 다 찾아 줍니다.\n",
    "ret, labels, stats, centroids = cv2.connectedComponentsWithStats(res)\n",
    "print('ret=', ret)\n",
    "print('labels=', np.unique(labels))\n",
    "print('stats=', stats)\n",
    "print('centroids=', centroids)\n",
    "dst = src.copy()\n",
    "cv2.circle(dst, (int(centroids[0][0]), int(centroids[0][1])), radius=5, color=(255,0,0), thickness=-1)\n",
    "cv2.circle(dst, (int(centroids[1][0]), int(centroids[1][1])), radius=3, color=(0,0,255), thickness=-1)\n",
    "cv2.circle(dst, (int(centroids[2][0]), int(centroids[2][1])), radius=3, color=(0,0,255), thickness=-1)\n",
    "cv2.circle(dst, (int(centroids[3][0]), int(centroids[3][1])), radius=3, color=(0,0,255), thickness=-1)\n",
    "cv2.rectangle(dst, (stats[0][0], stats[0][1]), (stats[0][0]+stats[0][2], stats[0][1]+stats[0][3]), [255,0,0], 5)\n",
    "cv2.rectangle(dst, (stats[1][0], stats[1][1]), (stats[1][0]+stats[1][2], stats[1][1]+stats[1][3]), [0,0,255])\n",
    "cv2.rectangle(dst, (stats[2][0], stats[2][1]), (stats[2][0]+stats[2][2], stats[2][1]+stats[2][3]), [0,0,255])\n",
    "cv2.rectangle(dst, (stats[3][0], stats[3][1]), (stats[3][0]+stats[3][2], stats[3][1]+stats[3][3]), [0,0,255])\n",
    "font = cv2.FONT_HERSHEY_SIMPLEX\n",
    "cv2.putText(dst, 'label=1', (stats[1][0], stats[1][1]), font, 0.5, (255, 0, 0), 1)\n",
    "cv2.putText(dst, 'label=2', (stats[2][0], stats[2][1]), font, 0.5, (255, 0, 0), 1)\n",
    "cv2.putText(dst, 'label=3', (stats[3][0], stats[3][1]), font, 0.5, (255, 0, 0), 1)\n",
    "cv2.imshow('src', src)\n",
    "cv2.imshow('dst', dst)\n",
    "cv2.waitKey()\n",
    "cv2.destroyAllWindows()\n",
    "cv2.waitKey(1)"
   ]
  },
  {
   "cell_type": "code",
   "execution_count": 102,
   "id": "193cbf67",
   "metadata": {},
   "outputs": [
    {
     "data": {
      "text/plain": [
       "-1"
      ]
     },
     "execution_count": 102,
     "metadata": {},
     "output_type": "execute_result"
    }
   ],
   "source": [
    "# 2차 미분 가우시안 블러 적용 후 \n",
    "\n",
    "import cv2\n",
    "import numpy as np\n",
    "src = cv2.imread('/Users/iseung-won/lena.jpg', 0)\n",
    "\n",
    "dstg1 = cv2.GaussianBlur(src, ksize=(3,3), sigmaX=0.0, borderType=cv2.BORDER_CONSTANT)\n",
    "dstg2 = cv2.GaussianBlur(src, ksize=(3,3), sigmaX=10.0, borderType=cv2.BORDER_CONSTANT)\n",
    "dstg3 = cv2.GaussianBlur(src, ksize=(3,3), sigmaX=1.0, sigmaY=10.0, borderType=cv2.BORDER_CONSTANT)\n",
    "\n",
    "lap1 = cv2.Laplacian(dstg1, cv2.CV_32F)\n",
    "lap2 = cv2.Laplacian(dstg2, cv2.CV_32F)\n",
    "lap3 = cv2.Laplacian(dstg3, cv2.CV_32F)\n",
    "\n",
    "\n",
    "dst1 = cv2.convertScaleAbs(lap1)\n",
    "dst2 = cv2.convertScaleAbs(lap2)\n",
    "dst3 = cv2.convertScaleAbs(lap3)\n",
    "\n",
    "dst_n1 = cv2.normalize(dst1, None, 0, 255, cv2.NORM_MINMAX)\n",
    "dst_n2 = cv2.normalize(dst2, None, 0, 255, cv2.NORM_MINMAX)\n",
    "dst_n3 = cv2.normalize(dst3, None, 0, 255, cv2.NORM_MINMAX)\n",
    "\n",
    "gx = cv2.Sobel(src, ddepth=cv2.CV_32F, dx=1, dy=0, ksize=3)\n",
    "gy = cv2.Sobel(src, ddepth=cv2.CV_32F, dx=0, dy=1, ksize=3)\n",
    "mag = cv2.magnitude(gx, gy)\n",
    "dstM = cv2.normalize(mag, 0, 255, norm_type=cv2.NORM_MINMAX, dtype=cv2.CV_8U)\n",
    "\n",
    "\n",
    "cv2.imshow('dstM', dstM)\n",
    "cv2.imshow('dst1', dst1)\n",
    "# cv2.imshow('dst_n1', dst_n1)\n",
    "# cv2.imshow('dst_n2', dst_n2)\n",
    "# cv2.imshow('dst_n3', dst_n3)\n",
    "cv2.waitKey()\n",
    "cv2.destroyAllWindows()\n",
    "cv2.waitKey(1)"
   ]
  },
  {
   "cell_type": "code",
   "execution_count": 13,
   "id": "b092cca8",
   "metadata": {},
   "outputs": [
    {
     "data": {
      "text/plain": [
       "-1"
      ]
     },
     "execution_count": 13,
     "metadata": {},
     "output_type": "execute_result"
    }
   ],
   "source": [
    "\n",
    "src = cv2.imread('/Users/iseung-won/lena.jpg', cv2.IMREAD_GRAYSCALE)\n",
    "dstg = cv2.GaussianBlur(src, ksize=(3,3), sigmaX=0.0, borderType=cv2.BORDER_CONSTANT)\n",
    "\n",
    "gx = cv2.Sobel(dstg, ddepth=cv2.CV_32F, dx=1, dy=0, ksize=3)\n",
    "gy = cv2.Sobel(dstg, ddepth=cv2.CV_32F, dx=0, dy=1, ksize=3)\n",
    "combine = gx.astype(np.uint8) + gy.astype(np.uint8)\n",
    "\n",
    "# gxc = cv2.Canny(gx.astype(np.uint8), 150, 160)\n",
    "# gyc = cv2.Canny(gy.astype(np.uint8), 150, 160)\n",
    "gcc150_160 = cv2.Canny(combine, 150, 160)\n",
    "gcc200_210 = cv2.Canny(combine, 200, 210)\n",
    "gcc230_240 = cv2.Canny(combine, 230,240)\n",
    "gcc200_201 = cv2.Canny(combine, 200, 201)\n",
    "gcc254_255 = cv2.Canny(combine, 254, 255)\n",
    "gcc170_180 = cv2.Canny(combine, 150, 151)\n",
    "\n",
    "mag = cv2.magnitude(gx, gy)\n",
    "dstM = cv2.normalize(mag, 0, 255, norm_type=cv2.NORM_MINMAX, dtype=cv2.CV_8U)\n",
    "\n",
    "cv2.imshow('dstg', dstg)\n",
    "cv2.imshow('dstM', dstM)\n",
    "cv2.imshow('combine', combine)\n",
    "# cv2.imshow('gyx', gxc)\n",
    "# cv2.imshow('gyc', gyc)\n",
    "cv2.imshow('gcc150_160', gcc150_160)\n",
    "cv2.imshow('gcc200_210', gcc200_210)\n",
    "cv2.imshow('gcc230_240', gcc230_240)\n",
    "cv2.imshow('gcc200_201', gcc200_201)\n",
    "cv2.imshow('gcc254_255', gcc254_255)\n",
    "cv2.imshow('gcc170_180', gcc170_180)\n",
    "cv2.waitKey()\n",
    "cv2.destroyAllWindows()\n",
    "cv2.waitKey(1)\n",
    "\n",
    "\n",
    "# 캐니는 원본 파일에다가 하는 거라고 함\n",
    "#괘니 가우시안 쓰고 가져다 붙이고 한듯"
   ]
  },
  {
   "cell_type": "code",
   "execution_count": 146,
   "id": "699b0b97",
   "metadata": {},
   "outputs": [
    {
     "data": {
      "text/plain": [
       "-1"
      ]
     },
     "execution_count": 146,
     "metadata": {},
     "output_type": "execute_result"
    }
   ],
   "source": [
    "src = cv2.imread('/Users/iseung-won/lena.jpg', cv2.IMREAD_GRAYSCALE)\n",
    "dstg = cv2.GaussianBlur(src, ksize=(3,3), sigmaX=0.0, borderType=cv2.BORDER_CONSTANT)\n",
    "\n",
    "gx = cv2.Sobel(dstg, ddepth=cv2.CV_32F, dx=1, dy=0, ksize=3)\n",
    "gy = cv2.Sobel(dstg, ddepth=cv2.CV_32F, dx=0, dy=1, ksize=3)\n",
    "\n",
    "mag = cv2.magnitude(gx, gy)\n",
    "dstM = cv2.normalize(mag, 0, 255, norm_type=cv2.NORM_MINMAX, dtype=cv2.CV_8U)\n",
    "\n",
    "gcc150_200 = cv2.Canny(src, 150, 200)\n",
    "gcc50_200 = cv2.Canny(src, 50, 200)\n",
    "gcc100_200 = cv2.Canny(src, 100, 200)\n",
    "cv2.imshow('dstM', dstM)\n",
    "cv2.imshow('gcc150_200', gcc150_200)\n",
    "cv2.imshow('gcc50_200', gcc50_200)\n",
    "cv2.imshow('gcc100_200', gcc100_200)\n",
    "cv2.waitKey()\n",
    "cv2.destroyAllWindows()\n",
    "cv2.waitKey(1)"
   ]
  },
  {
   "cell_type": "code",
   "execution_count": 14,
   "id": "749da63c",
   "metadata": {},
   "outputs": [
    {
     "data": {
      "text/plain": [
       "-1"
      ]
     },
     "execution_count": 14,
     "metadata": {},
     "output_type": "execute_result"
    }
   ],
   "source": [
    "# 강사님 코드\n",
    "\n",
    "import cv2\n",
    "import numpy as np\n",
    "src = cv2.imread('/Users/iseung-won/lena.jpg', cv2.IMREAD_GRAYSCALE)\n",
    "gx = cv2.Sobel(src, cv2.CV_32F, 1, 0, ksize=3) # x 방향 미분\n",
    "gy = cv2.Sobel(src, cv2.CV_32F, 0, 1, ksize=3) # y 방향 미분\n",
    "mag = cv2.magnitude(gx, gy)\n",
    "dstM = cv2.normalize(mag, 0, 255, cv2.NORM_MINMAX)\n",
    "edges1 = cv2.Canny(src, 50, 100)\n",
    "edges2 = cv2.Canny(src, 50, 200)\n",
    "cv2.imshow('src', src)\n",
    "cv2.imshow('mag', dstM)\n",
    "cv2.imshow('edges1', edges1)\n",
    "cv2.imshow('edges2', edges2)\n",
    "cv2.waitKey()\n",
    "cv2.destroyAllWindows()\n",
    "cv2.waitKey(1)"
   ]
  },
  {
   "cell_type": "code",
   "execution_count": 15,
   "id": "e4cabbca",
   "metadata": {},
   "outputs": [
    {
     "name": "stdout",
     "output_type": "stream",
     "text": [
      "[[[ 3.0000000e+02  0.0000000e+00]]\n",
      "\n",
      " [[ 1.9900000e+02  0.0000000e+00]]\n",
      "\n",
      " [[ 1.9900000e+02  1.5707964e+00]]\n",
      "\n",
      " [[ 3.0000000e+02  1.5707964e+00]]\n",
      "\n",
      " [[ 2.9600000e+02  1.5882496e+00]]\n",
      "\n",
      " [[ 1.9500000e+02  1.5882496e+00]]\n",
      "\n",
      " [[-2.9600000e+02  3.1241393e+00]]\n",
      "\n",
      " [[-1.9500000e+02  3.1241393e+00]]\n",
      "\n",
      " [[ 2.0300000e+02  1.7453292e-02]]\n",
      "\n",
      " [[ 3.0400000e+02  1.7453292e-02]]\n",
      "\n",
      " [[ 2.0300000e+02  1.5533431e+00]]\n",
      "\n",
      " [[ 3.0400000e+02  1.5533431e+00]]]\n",
      "[[[199 296 199 201]]\n",
      "\n",
      " [[300 296 300 200]]\n",
      "\n",
      " [[200 300 294 300]]\n",
      "\n",
      " [[201 199 296 199]]]\n"
     ]
    }
   ],
   "source": [
    "src = cv2.imread('/Users/iseung-won/rect.jpg', cv2.IMREAD_GRAYSCALE)\n",
    "edges = cv2.Canny(src, 50, 200)\n",
    "hl = cv2.HoughLines(edges, rho=1, theta=np.pi/180.0, threshold=50)\n",
    "hlp = cv2.HoughLinesP(edges, rho=1, theta=np.pi/180.0, threshold=50)\n",
    "\n",
    "cv2.imshow('edges', edges)\n",
    "# cv2.imshow('hl', hl)\n",
    "# cv2.imshow('hlp', hlp)\n",
    "\n",
    "# cv2.waitKey()\n",
    "# cv2.destroyAllWindows()\n",
    "# cv2.waitKey(1)\n",
    "print(hl)\n",
    "print(hlp)"
   ]
  },
  {
   "cell_type": "code",
   "execution_count": 24,
   "id": "eb5b75bc",
   "metadata": {},
   "outputs": [
    {
     "ename": "ValueError",
     "evalue": "too many values to unpack (expected 3)",
     "output_type": "error",
     "traceback": [
      "\u001b[0;31m---------------------------------------------------------------------------\u001b[0m",
      "\u001b[0;31mValueError\u001b[0m                                Traceback (most recent call last)",
      "\u001b[0;32m/var/folders/fl/lytw3yqx5913yh2tcxgw3d740000gn/T/ipykernel_1242/2223095355.py\u001b[0m in \u001b[0;36m<module>\u001b[0;34m\u001b[0m\n\u001b[1;32m      8\u001b[0m \u001b[0;34m\u001b[0m\u001b[0m\n\u001b[1;32m      9\u001b[0m \u001b[0;32mfor\u001b[0m \u001b[0mline\u001b[0m \u001b[0;32min\u001b[0m \u001b[0mhl\u001b[0m\u001b[0;34m:\u001b[0m\u001b[0;34m\u001b[0m\u001b[0;34m\u001b[0m\u001b[0m\n\u001b[0;32m---> 10\u001b[0;31m     \u001b[0mrho\u001b[0m\u001b[0;34m,\u001b[0m \u001b[0mtheta\u001b[0m\u001b[0;34m,\u001b[0m \u001b[0mthreshold\u001b[0m \u001b[0;34m=\u001b[0m \u001b[0mhl\u001b[0m\u001b[0;34m\u001b[0m\u001b[0;34m\u001b[0m\u001b[0m\n\u001b[0m\u001b[1;32m     11\u001b[0m     \u001b[0ma\u001b[0m \u001b[0;34m=\u001b[0m \u001b[0mnp\u001b[0m\u001b[0;34m.\u001b[0m\u001b[0mcos\u001b[0m\u001b[0;34m(\u001b[0m\u001b[0mtheta\u001b[0m\u001b[0;34m)\u001b[0m\u001b[0;34m\u001b[0m\u001b[0;34m\u001b[0m\u001b[0m\n\u001b[1;32m     12\u001b[0m     \u001b[0mb\u001b[0m \u001b[0;34m=\u001b[0m \u001b[0mnp\u001b[0m\u001b[0;34m.\u001b[0m\u001b[0msin\u001b[0m\u001b[0;34m(\u001b[0m\u001b[0mtheta\u001b[0m\u001b[0;34m)\u001b[0m\u001b[0;34m\u001b[0m\u001b[0;34m\u001b[0m\u001b[0m\n",
      "\u001b[0;31mValueError\u001b[0m: too many values to unpack (expected 3)"
     ]
    }
   ],
   "source": [
    "src = cv2.imread('/Users/iseung-won/rect.jpg', cv2.IMREAD_GRAYSCALE)\n",
    "\n",
    "edges = cv2.Canny(src,50,150,apertureSize=3)\n",
    "\n",
    "hlp = cv2.HoughLinesP(edges, rho=1, theta=np.pi/180.0, threshold=50)\n",
    "\n",
    "hl = cv2.HoughLines(edges, rho=1, theta=np.pi/180.0, threshold=50)\n",
    "\n",
    "for line in hl:\n",
    "    rho, theta, threshold = hl\n",
    "    a = np.cos(theta)\n",
    "    b = np.sin(theta)\n",
    "    x0 = a*rho\n",
    "    y0 = b*rho\n",
    "    x1 = int(x0+1000*(-b))\n",
    "    y1 = int(y0+1000*(a))\n",
    "    x2 = int(x0-1000*(-b))    \n",
    "    y2 = int(y0-1000*(a))    \n",
    "\n",
    "cv2.line(src,(x1,y1),(x2,y2),(0,0,255),2)\n",
    "\n",
    "\n",
    "cv2.imshow('edges', edges)\n",
    "cv2.imshow('src', src)\n",
    "# cv2.imshow('hlp', hlp)\n",
    "\n",
    "cv2.waitKey()\n",
    "cv2.destroyAllWindows()\n",
    "cv2.waitKey(1)\n",
    "print(hl)\n",
    "print(hlp)\n",
    "\n"
   ]
  },
  {
   "cell_type": "code",
   "execution_count": 18,
   "id": "75fceba2",
   "metadata": {},
   "outputs": [
    {
     "name": "stdout",
     "output_type": "stream",
     "text": [
      "lines.shape = (4, 1, 4)\n",
      "[[[ 3.0000000e+02  0.0000000e+00]]\n",
      "\n",
      " [[ 1.9900000e+02  0.0000000e+00]]\n",
      "\n",
      " [[ 1.9900000e+02  1.5707964e+00]]\n",
      "\n",
      " [[ 3.0000000e+02  1.5707964e+00]]\n",
      "\n",
      " [[ 2.9600000e+02  1.5882496e+00]]\n",
      "\n",
      " [[ 1.9500000e+02  1.5882496e+00]]\n",
      "\n",
      " [[-2.9600000e+02  3.1241393e+00]]\n",
      "\n",
      " [[-1.9500000e+02  3.1241393e+00]]\n",
      "\n",
      " [[ 2.0300000e+02  1.7453292e-02]]\n",
      "\n",
      " [[ 3.0400000e+02  1.7453292e-02]]\n",
      "\n",
      " [[ 2.0300000e+02  1.5533431e+00]]\n",
      "\n",
      " [[ 3.0400000e+02  1.5533431e+00]]]\n",
      "[[[199 296 199 201]]\n",
      "\n",
      " [[300 296 300 200]]\n",
      "\n",
      " [[200 300 294 300]]\n",
      "\n",
      " [[201 199 296 199]]]\n"
     ]
    }
   ],
   "source": [
    "src = cv2.imread('/Users/iseung-won/rect.jpg', cv2.IMREAD_GRAYSCALE)\n",
    "\n",
    "edges = cv2.Canny(src,50,150,apertureSize=3)\n",
    "\n",
    "lines = cv2.HoughLinesP(edges, rho=1, theta=np.pi/180.0, threshold=50)\n",
    "print('lines.shape =', lines.shape)\n",
    "# hl = cv2.HoughLines(edges, rho=1, theta=np.pi/180.0, threshold=50)\n",
    "\n",
    "\n",
    "\n",
    "\n",
    "cv2.line(src,(x1,y1),(x2,y2),(0,0,255),2)\n",
    "\n",
    "\n",
    "cv2.imshow('edges', edges)\n",
    "cv2.imshow('src', src)\n",
    "# cv2.imshow('hlp', hlp)\n",
    "\n",
    "cv2.waitKey()\n",
    "cv2.destroyAllWindows()\n",
    "cv2.waitKey(1)\n",
    "print(hl)\n",
    "print(hlp)\n",
    "\n",
    "\n"
   ]
  },
  {
   "cell_type": "code",
   "execution_count": 165,
   "id": "630cadc5",
   "metadata": {},
   "outputs": [
    {
     "name": "stdout",
     "output_type": "stream",
     "text": [
      "lines.shape= (4, 1, 4)\n"
     ]
    },
    {
     "data": {
      "text/plain": [
       "-1"
      ]
     },
     "execution_count": 165,
     "metadata": {},
     "output_type": "execute_result"
    }
   ],
   "source": [
    "# 강사님 코드\n",
    "\n",
    "src = cv2.imread('/Users/iseung-won/rect.jpg')\n",
    "gray = cv2.cvtColor(src, cv2.COLOR_BGR2GRAY)\n",
    "# 캐니 에지\n",
    "edges = cv2.Canny(gray, 30, 70)\n",
    "# xy 평면을 rho theta 평면 변환\n",
    "lines = cv2.HoughLinesP(edges, rho=1, theta=np.pi/180.0, threshold=50)\n",
    "print('lines.shape=', lines.shape)\n",
    "for line in lines:\n",
    "    x1, y1, x2, y2 = line[0]\n",
    "    cv2.line(src, (x1, y1), (x2, y2), (0, 0, 255), 2)\n",
    "cv2.imshow('canny', edges)\n",
    "cv2.imshow('src', src)\n",
    "cv2.waitKey()\n",
    "cv2.destroyAllWindows()\n",
    "cv2.waitKey(1)"
   ]
  },
  {
   "cell_type": "code",
   "execution_count": 181,
   "id": "418c4520",
   "metadata": {},
   "outputs": [
    {
     "name": "stdout",
     "output_type": "stream",
     "text": [
      "lines.shape= (12, 1, 2)\n"
     ]
    },
    {
     "data": {
      "text/plain": [
       "array([[[ 3.0000000e+02,  0.0000000e+00]],\n",
       "\n",
       "       [[ 1.9900000e+02,  0.0000000e+00]],\n",
       "\n",
       "       [[ 1.9900000e+02,  1.5707964e+00]],\n",
       "\n",
       "       [[ 3.0000000e+02,  1.5707964e+00]],\n",
       "\n",
       "       [[ 2.9600000e+02,  1.5882496e+00]],\n",
       "\n",
       "       [[ 1.9500000e+02,  1.5882496e+00]],\n",
       "\n",
       "       [[-2.9600000e+02,  3.1241393e+00]],\n",
       "\n",
       "       [[-1.9500000e+02,  3.1241393e+00]],\n",
       "\n",
       "       [[ 2.0300000e+02,  1.7453292e-02]],\n",
       "\n",
       "       [[ 3.0400000e+02,  1.7453292e-02]],\n",
       "\n",
       "       [[ 2.0300000e+02,  1.5533431e+00]],\n",
       "\n",
       "       [[ 3.0400000e+02,  1.5533431e+00]]], dtype=float32)"
      ]
     },
     "execution_count": 181,
     "metadata": {},
     "output_type": "execute_result"
    }
   ],
   "source": [
    "# 강사님 코드\n",
    "\n",
    "src = cv2.imread('/Users/iseung-won/rect.jpg')\n",
    "gray = cv2.cvtColor(src, cv2.COLOR_BGR2GRAY)\n",
    "# 캐니 에지\n",
    "edges = cv2.Canny(gray, 30, 70)\n",
    "# xy 평면을 rho theta 평면 변환\n",
    "lines = cv2.HoughLines(edges, rho=1, theta=np.pi/180.0, threshold=50)\n",
    "print('lines.shape=', lines.shape)\n",
    "lines\n",
    "# for line in lines:\n",
    "#     x1, y1, x2, y2 = line[0]\n",
    "#     cv2.line(src, (x1, y1), (x2, y2), (0, 0, 255), 2)\n",
    "# cv2.imshow('canny', edges)\n",
    "# cv2.imshow('src', src)\n",
    "# cv2.waitKey()\n",
    "# cv2.destroyAllWindows()\n",
    "# cv2.waitKey(1)"
   ]
  },
  {
   "cell_type": "code",
   "execution_count": 192,
   "id": "bc341c7a",
   "metadata": {},
   "outputs": [
    {
     "name": "stdout",
     "output_type": "stream",
     "text": [
      "lines.shape= (6397, 1, 4)\n"
     ]
    },
    {
     "data": {
      "text/plain": [
       "array([[[363, 135, 374, 127]],\n",
       "\n",
       "       [[164, 227, 164, 227]],\n",
       "\n",
       "       [[147, 493, 147, 493]],\n",
       "\n",
       "       ...,\n",
       "\n",
       "       [[247, 229, 247, 229]],\n",
       "\n",
       "       [[451,  52, 451,  52]],\n",
       "\n",
       "       [[215, 272, 215, 271]]], dtype=int32)"
      ]
     },
     "execution_count": 192,
     "metadata": {},
     "output_type": "execute_result"
    }
   ],
   "source": [
    "src = cv2.imread('/Users/iseung-won/lena.jpg')\n",
    "gray = cv2.cvtColor(src, cv2.COLOR_BGR2GRAY)\n",
    "# 캐니 에지\n",
    "edges = cv2.Canny(gray, 100, 200)\n",
    "# xy 평면을 rho theta 평면 변환\n",
    "lines = cv2.HoughLinesP(edges, rho=5, theta=np.pi/180.0, threshold=30)\n",
    "print('lines.shape=', lines.shape)\n",
    "for line in lines:\n",
    "    x1, y1, x2, y2 = line[0]\n",
    "    cv2.line(src, (x1, y1), (x2, y2), (0, 0, 255), 2)\n",
    "cv2.imshow('canny', edges)\n",
    "cv2.imshow('src', src)\n",
    "cv2.waitKey()\n",
    "cv2.destroyAllWindows()\n",
    "cv2.waitKey(1)\n",
    "lines"
   ]
  },
  {
   "cell_type": "code",
   "execution_count": 208,
   "id": "16d04f8c",
   "metadata": {},
   "outputs": [
    {
     "name": "stdout",
     "output_type": "stream",
     "text": [
      "[[[249.5 250.5  69.6]\n",
      "  [400.5 170.5  60.6]\n",
      "  [350.5 400.5  49.6]\n",
      "  [198.5 245.5  20.2]\n",
      "  [292.5 224.5  21.7]]]\n"
     ]
    },
    {
     "data": {
      "text/plain": [
       "-1"
      ]
     },
     "execution_count": 208,
     "metadata": {},
     "output_type": "execute_result"
    }
   ],
   "source": [
    "src = cv2.imread('/Users/iseung-won/circles.jpg')\n",
    "gray = cv2.cvtColor(src, cv2.COLOR_BGR2GRAY)\n",
    "\n",
    "edges = cv2.Canny(gray, 100, 200)\n",
    "lines = cv2.HoughCircles(edges, method = cv2.HOUGH_GRADIENT, dp=1, minDist=50, param2=15)\n",
    "print(lines)\n",
    "for line in lines:\n",
    "    for i in range(len(line)):\n",
    "        x, y, r = line[i]\n",
    "        cv2.circle(src, (round(x), round(y)), round(r), (0, 0, 255), 2)\n",
    "\n",
    "cv2.imshow('canny', edges)\n",
    "cv2.imshow('src', src)\n",
    "cv2.waitKey()\n",
    "cv2.destroyAllWindows()\n",
    "cv2.waitKey(1)\n"
   ]
  },
  {
   "cell_type": "code",
   "execution_count": 220,
   "id": "1602f09f",
   "metadata": {},
   "outputs": [
    {
     "name": "stdout",
     "output_type": "stream",
     "text": [
      "[[[250.5 251.5  68.5]\n",
      "  [400.5 168.5  60.6]\n",
      "  [348.5 399.5  48.5]]]\n"
     ]
    },
    {
     "data": {
      "text/plain": [
       "-1"
      ]
     },
     "execution_count": 220,
     "metadata": {},
     "output_type": "execute_result"
    }
   ],
   "source": [
    "src = cv2.imread('/Users/iseung-won/circles.jpg')\n",
    "gray = cv2.cvtColor(src, cv2.COLOR_BGR2GRAY)\n",
    "\n",
    "\n",
    "lines = cv2.HoughCircles(gray, method = cv2.HOUGH_GRADIENT, dp=1, minDist=50, param2=15)\n",
    "print(lines)\n",
    "for line in lines:\n",
    "    for i in range(len(line)):\n",
    "        x, y, r = line[i]\n",
    "        cv2.circle(src, (round(x), round(y)), round(r), (0, 0, 255), 2)\n",
    "\n",
    "cv2.imshow('canny', edges)\n",
    "cv2.imshow('src', src)\n",
    "cv2.waitKey()\n",
    "cv2.destroyAllWindows()\n",
    "cv2.waitKey(1)\n",
    "\n"
   ]
  },
  {
   "cell_type": "code",
   "execution_count": 234,
   "id": "b75dfe03",
   "metadata": {},
   "outputs": [
    {
     "name": "stdout",
     "output_type": "stream",
     "text": [
      "[[[235.5 345.5 148.1]\n",
      "  [490.5 440.5 329.3]\n",
      "  [  9.5 227.5 203.3]\n",
      "  [220.5 136.5  93.1]\n",
      "  [425.5 227.5  67.4]\n",
      "  [ 82.5 511.5  70.2]]]\n"
     ]
    },
    {
     "data": {
      "text/plain": [
       "-1"
      ]
     },
     "execution_count": 234,
     "metadata": {},
     "output_type": "execute_result"
    }
   ],
   "source": [
    "src = cv2.imread('/Users/iseung-won/lena.jpg')\n",
    "gray = cv2.cvtColor(src, cv2.COLOR_BGR2GRAY)\n",
    "\n",
    "edges = cv2.Canny(gray, 50, 200)\n",
    "lines = cv2.HoughCircles(edges, method = cv2.HOUGH_GRADIENT, dp=1, minDist=200, param2=50)\n",
    "print(lines)\n",
    "for line in lines[0, :]:\n",
    "    x, y, r = line\n",
    "    cv2.circle(src, (round(x), round(y)), round(r), (0, 0, 255), 2)\n",
    "\n",
    "cv2.imshow('canny', edges)\n",
    "cv2.imshow('src', src)\n",
    "cv2.waitKey()\n",
    "cv2.destroyAllWindows()\n",
    "cv2.waitKey(1)"
   ]
  },
  {
   "cell_type": "code",
   "execution_count": 232,
   "id": "bed22acd",
   "metadata": {},
   "outputs": [
    {
     "name": "stdout",
     "output_type": "stream",
     "text": [
      "[[[235.5 345.5 148.1]\n",
      "  [490.5 440.5 329.3]\n",
      "  [  9.5 227.5 203.3]]]\n"
     ]
    },
    {
     "data": {
      "text/plain": [
       "-1"
      ]
     },
     "execution_count": 232,
     "metadata": {},
     "output_type": "execute_result"
    }
   ],
   "source": [
    "src = cv2.imread('/Users/iseung-won/lena.jpg')\n",
    "gray = cv2.cvtColor(src, cv2.COLOR_BGR2GRAY)\n",
    "\n",
    "edges = cv2.Canny(gray, 50, 200)\n",
    "lines = cv2.HoughCircles(edges, method = cv2.HOUGH_GRADIENT, dp=1, minDist=250, param2=50)\n",
    "print(lines)\n",
    "for line in lines[0, :]:\n",
    "    x, y, r = line\n",
    "    cv2.circle(src, (round(x), round(y)), round(r), (0, 0, 255), 2)\n",
    "\n",
    "cv2.imshow('canny', edges)\n",
    "cv2.imshow('src', src)\n",
    "cv2.waitKey()\n",
    "cv2.destroyAllWindows()\n",
    "cv2.waitKey(1)"
   ]
  },
  {
   "cell_type": "code",
   "execution_count": 231,
   "id": "7b82eec4",
   "metadata": {},
   "outputs": [
    {
     "name": "stdout",
     "output_type": "stream",
     "text": [
      "[[[234.5 347.5 148.1]]]\n"
     ]
    },
    {
     "data": {
      "text/plain": [
       "-1"
      ]
     },
     "execution_count": 231,
     "metadata": {},
     "output_type": "execute_result"
    }
   ],
   "source": [
    "src = cv2.imread('/Users/iseung-won/lena.jpg')\n",
    "gray = cv2.cvtColor(src, cv2.COLOR_BGR2GRAY)\n",
    "\n",
    "edges = cv2.Canny(gray, 50, 200)\n",
    "lines = cv2.HoughCircles(edges, method = cv2.HOUGH_GRADIENT, dp=1, minDist=255, param2=70)\n",
    "print(lines)\n",
    "for line in lines[0, :]:\n",
    "    x, y, r = line\n",
    "    cv2.circle(src, (round(x), round(y)), round(r), (0, 0, 255), 2)\n",
    "\n",
    "cv2.imshow('canny', edges)\n",
    "cv2.imshow('src', src)\n",
    "cv2.waitKey()\n",
    "cv2.destroyAllWindows()\n",
    "cv2.waitKey(1)"
   ]
  },
  {
   "cell_type": "code",
   "execution_count": null,
   "id": "090f8f3f",
   "metadata": {},
   "outputs": [],
   "source": []
  }
 ],
 "metadata": {
  "kernelspec": {
   "display_name": "Python 3 (ipykernel)",
   "language": "python",
   "name": "python3"
  },
  "language_info": {
   "codemirror_mode": {
    "name": "ipython",
    "version": 3
   },
   "file_extension": ".py",
   "mimetype": "text/x-python",
   "name": "python",
   "nbconvert_exporter": "python",
   "pygments_lexer": "ipython3",
   "version": "3.9.13"
  }
 },
 "nbformat": 4,
 "nbformat_minor": 5
}
