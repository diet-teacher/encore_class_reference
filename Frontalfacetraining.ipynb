{
 "cells": [
  {
   "cell_type": "code",
   "execution_count": null,
   "metadata": {},
   "outputs": [],
   "source": [
    "import cv2 #OpenCV 영상처리\n",
    "import time\n",
    "\n",
    "#classifier\n",
    "cascPath = '/Users/iseung-won/xml/haarcascade_frontalface_default.xml'\n",
    "faceCascade = cv2.CascadeClassifier(cascPath)\n",
    "\n",
    "#video caputure setting\n",
    "capture = cv2.VideoCapture(0)\n",
    "capture.set(cv2.CAP_PROP_FRAME_WIDTH,1280) #CAP_PROP_FRAME_WIDTH == 3\n",
    "capture.set(cv2.CAP_PROP_FRAME_HEIGHT,960) #CAP_PROP_FRAME_HEIGHT == 4\n",
    "\n",
    "#console message\n",
    "face_id = input('\\n enter user id end press <return> ==> ')\n",
    "print(\"\\n [INFO] Initializing face capture. Look the camera and wait ...\")\n",
    "\n",
    "count = 0 # # of caputre face images\n",
    "#영상 처리 및 출력\n",
    "while True: \n",
    "    ret, frame = capture.read() #카메라 상태 및 프레임\n",
    "    # frame = cv2.flip(frame, 1) #좌우반전(1), 상하반전(0)\n",
    "    \n",
    "    gray = cv2.cvtColor(frame, cv2.COLOR_BGR2GRAY)\n",
    "    faces = faceCascade.detectMultiScale(\n",
    "        gray,#검출하고자 하는 원본이미지\n",
    "        scaleFactor = 1.2, #검색 윈도우 확대 비율, 1보다 커야 한다\n",
    "        minNeighbors = 6, #얼굴 사이 최소 간격(픽셀)\n",
    "        minSize=(20,20) #얼굴 최소 크기. 이것보다 작으면 무시\n",
    "    )\n",
    "\n",
    "    #얼굴에 대해 rectangle 출력\n",
    "    for (x,y,w,h) in faces:\n",
    "        cv2.rectangle(frame,(x,y),(x+w,y+h),(255,0,0),2)\n",
    "        #inputOutputArray, point1 , 2, colorBGR, thickness)\n",
    "        count += 1\n",
    "        cv2.imwrite('/Users/iseung-won/my_face/object.'+str(face_id)+'.'+str(count)+\".jpg\",\n",
    "                    gray[y:y+h, x:x+w])\n",
    "\n",
    "    #종료 조건\n",
    "    if cv2.waitKey(1) > 0 : break #키 입력이 있을 때 반복문 종료\n",
    "    if count >= 100 : break #100 face sample\n",
    "    \n",
    "print(\"\\n [INFO] Exiting Program and cleanup stuff\")\n",
    "\n",
    "capture.release() #메모리 해제\n",
    "cv2.destroyAllWindows()#모든 윈도우 창 닫기\n",
    "cv2.waitKey(1)"
   ]
  },
  {
   "cell_type": "code",
   "execution_count": 4,
   "metadata": {},
   "outputs": [
    {
     "ename": "AttributeError",
     "evalue": "module 'cv2' has no attribute 'face'",
     "output_type": "error",
     "traceback": [
      "\u001b[0;31m---------------------------------------------------------------------------\u001b[0m",
      "\u001b[0;31mAttributeError\u001b[0m                            Traceback (most recent call last)",
      "\u001b[0;32m/var/folders/fl/lytw3yqx5913yh2tcxgw3d740000gn/T/ipykernel_1393/2685967893.py\u001b[0m in \u001b[0;36m<module>\u001b[0;34m\u001b[0m\n\u001b[1;32m      5\u001b[0m \u001b[0;34m\u001b[0m\u001b[0m\n\u001b[1;32m      6\u001b[0m \u001b[0;34m\u001b[0m\u001b[0m\n\u001b[0;32m----> 7\u001b[0;31m \u001b[0mrecognizer\u001b[0m \u001b[0;34m=\u001b[0m \u001b[0mcv2\u001b[0m\u001b[0;34m.\u001b[0m\u001b[0mface\u001b[0m\u001b[0;34m.\u001b[0m\u001b[0mLBPHFaceRecognizer_create\u001b[0m\u001b[0;34m(\u001b[0m\u001b[0;34m)\u001b[0m\u001b[0;34m\u001b[0m\u001b[0;34m\u001b[0m\u001b[0m\n\u001b[0m\u001b[1;32m      8\u001b[0m \u001b[0mdetector\u001b[0m \u001b[0;34m=\u001b[0m \u001b[0mcv2\u001b[0m\u001b[0;34m.\u001b[0m\u001b[0mCascadeClassifier\u001b[0m\u001b[0;34m(\u001b[0m\u001b[0;34m'/Users/iseung-won/xml/haarcascade_frontalface_default.xml'\u001b[0m\u001b[0;34m)\u001b[0m\u001b[0;34m\u001b[0m\u001b[0;34m\u001b[0m\u001b[0m\n\u001b[1;32m      9\u001b[0m \u001b[0;34m\u001b[0m\u001b[0m\n",
      "\u001b[0;31mAttributeError\u001b[0m: module 'cv2' has no attribute 'face'"
     ]
    }
   ],
   "source": [
    "import cv2\n",
    "import numpy as np\n",
    "from PIL import Image #python imaging library\n",
    "import os\n",
    "\n",
    "\n",
    "recognizer = cv2.face.LBPHFaceRecognizer_create()\n",
    "detector = cv2.CascadeClassifier('/Users/iseung-won/xml/haarcascade_frontalface_default.xml')\n",
    "\n",
    "imagePaths = ['/Users/iseung-won/my_face/'+f for f in os.listdir('/Users/iseung-won/my_face/') \n",
    "              if f.startswith('o')]\n",
    "\n",
    "faceSamples = []\n",
    "ids = []\n",
    "for imagePath in imagePaths:\n",
    "    src = cv2.imread(imagePath, 0)\n",
    "    #user id\n",
    "    id = int(os.path.split(imagePath)[-1].split(\".\")[1])\n",
    "    \n",
    "    #얼굴 샘플\n",
    "    faces = detector.detectMultiScale(src)\n",
    "    for(x,y,w,h) in faces:\n",
    "        faceSamples.append(src[y:y+h,x:x+w])\n",
    "        ids.append(id)\n",
    "print(faceSamples)\n",
    "print(ids)\n",
    "print(len(faceSamples))\n",
    "print(len(ids))\n",
    "\n",
    "recognizer.train(faceSamples, np.array(ids))\n",
    "recognizer.write('/Users/iseung-won/trainer.yml')\n",
    "print('\\n [INFO] {0} faces trained. Exiting Program'.format(len(np.unique(ids))))"
   ]
  },
  {
   "cell_type": "code",
   "execution_count": 11,
   "metadata": {},
   "outputs": [
    {
     "name": "stdout",
     "output_type": "stream",
     "text": [
      "\n",
      " [INFO] Exiting Program and cleanup stuff\n"
     ]
    },
    {
     "data": {
      "text/plain": [
       "-1"
      ]
     },
     "execution_count": 11,
     "metadata": {},
     "output_type": "execute_result"
    }
   ],
   "source": [
    "import cv2\n",
    "import numpy as np\n",
    "\n",
    "recognizer = cv2.face.LBPHFaceRecognizer_create()\n",
    "recognizer.read('/Users/iseung-won/trainer.yml')\n",
    "cascadePath = '/Users/iseung-won/xml/haarcascade_frontalface_default.xml'\n",
    "faceCascade = cv2.CascadeClassifier(cascadePath)\n",
    "font = cv2.FONT_HERSHEY_SIMPLEX\n",
    "\n",
    "id = 0\n",
    "\n",
    "names = ['Seung Won','Seung_WOn', 'shake', 'cup']\n",
    "\n",
    "cam = cv2.VideoCapture(0)\n",
    "cam.set(cv2.CAP_PROP_FRAME_WIDTH, 1280)\n",
    "cam.set(cv2.CAP_PROP_FRAME_HEIGHT, 960)\n",
    "\n",
    "minW = 0.1 * cam.get(cv2.CAP_PROP_FRAME_WIDTH)\n",
    "minH = 0.1 * cam.get(cv2.CAP_PROP_FRAME_HEIGHT)\n",
    "\n",
    "while True:\n",
    "    ret, img = cam.read()\n",
    "    gray = cv2.cvtColor(img, cv2.COLOR_BGR2GRAY)\n",
    "\n",
    "    faces = faceCascade.detectMultiScale(\n",
    "        gray,\n",
    "        scaleFactor=1.2,\n",
    "        minNeighbors=6,\n",
    "        minSize=(int(minW), int(minH))\n",
    "    )\n",
    "\n",
    "    for(x,y,w,h) in faces:\n",
    "        cv2.rectangle(img, (x,y), (x+w,y+h), (0,255,0),2)\n",
    "        id, confidence = recognizer.predict(gray[y:y+h, x:x+w])\n",
    "\n",
    "        if confidence < 55 :\n",
    "            id = names[id]\n",
    "        else:\n",
    "            id = \"unknown\"\n",
    "        \n",
    "        confidence = \"  {0}%\".format(round(100-confidence))\n",
    "\n",
    "        cv2.putText(img,str(id), (x+5,y-5),font,1,(255,255,255),2)\n",
    "        cv2.putText(img,str(confidence), (x+5,y+h-5),font,1,(255,255,0),1)\n",
    "    \n",
    "    cv2.imshow('camera',img)\n",
    "    if cv2.waitKey(1) > 0 : break\n",
    "\n",
    "print(\"\\n [INFO] Exiting Program and cleanup stuff\")\n",
    "cam.release()\n",
    "cv2.destroyAllWindows()\n",
    "cv2.waitKey(1)"
   ]
  },
  {
   "cell_type": "code",
   "execution_count": null,
   "metadata": {},
   "outputs": [],
   "source": []
  }
 ],
 "metadata": {
  "kernelspec": {
   "display_name": "Python 3 (ipykernel)",
   "language": "python",
   "name": "python3"
  },
  "language_info": {
   "codemirror_mode": {
    "name": "ipython",
    "version": 3
   },
   "file_extension": ".py",
   "mimetype": "text/x-python",
   "name": "python",
   "nbconvert_exporter": "python",
   "pygments_lexer": "ipython3",
   "version": "3.9.13"
  }
 },
 "nbformat": 4,
 "nbformat_minor": 4
}
