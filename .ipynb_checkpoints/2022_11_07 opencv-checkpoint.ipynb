{
 "cells": [
  {
   "cell_type": "code",
   "execution_count": 1,
   "id": "db5c48e1",
   "metadata": {},
   "outputs": [],
   "source": [
    "import cv2\n",
    "import numpy as np\n",
    "import pandas as pd"
   ]
  },
  {
   "cell_type": "code",
   "execution_count": 2,
   "id": "570c2203",
   "metadata": {},
   "outputs": [],
   "source": [
    "img = cv2.imread('./lena.jpg', cv2.IMREAD_GRAYSCALE)\n",
    "# 20,30 위치의 밝기 값을 val에 저장\n",
    "val = img[30,20]\n",
    "\n",
    "#200, 100위치의 밝기 값을 50으로 설정\n",
    "img[100,200] = 50\n",
    "\n",
    "cv2.imshow('new', img)\n",
    "cv2.waitKey()\n",
    "cv2.destroyAllWindows()"
   ]
  },
  {
   "cell_type": "code",
   "execution_count": 5,
   "id": "0b4042bc",
   "metadata": {},
   "outputs": [
    {
     "data": {
      "text/plain": [
       "array([157, 157, 158, 159, 159, 159, 159, 159, 159, 160, 157, 161, 162,\n",
       "       159, 160, 158, 157, 161, 159, 161, 161, 161, 163, 161, 163, 165,\n",
       "       166, 167, 167, 167, 168, 168, 167, 167, 166, 166, 167, 167, 165,\n",
       "       163, 162, 159, 161, 161, 156, 157, 160, 158, 160, 163, 164, 164,\n",
       "       166, 163, 159, 158, 146, 140, 140, 133, 128, 117, 110, 101,  97,\n",
       "        90,  91,  88,  84,  86,  88,  91,  97, 102, 100,  99,  96, 104,\n",
       "       105, 106, 107, 104, 107, 105, 109, 104, 103,  99, 106, 108, 105,\n",
       "       101, 102, 103, 102, 104, 106, 109, 101, 102, 102, 107, 105, 110,\n",
       "       107, 108, 107, 107, 110, 111, 113, 117, 115, 118, 119, 122, 122,\n",
       "       123, 122, 123, 124, 124, 123, 127, 127, 127, 124, 124, 125, 129,\n",
       "       124, 126, 126, 128, 124, 129, 129, 128, 134, 126, 126, 124, 124,\n",
       "       125, 128, 127, 130, 127, 131, 127, 130, 128, 128, 128, 129, 128,\n",
       "       131, 127, 128, 131, 129, 129, 132, 134, 130, 128, 129, 128, 130,\n",
       "       135, 129, 130, 131, 127, 131, 130, 131, 128, 133, 131, 130, 128,\n",
       "       127, 132, 134, 131, 125, 128, 127, 134, 136, 140, 133, 131, 133,\n",
       "       131, 130, 131, 131, 137, 132, 130, 128, 126, 124, 122, 122, 123,\n",
       "       124, 119, 125, 124, 124, 124, 120, 126, 124, 123, 126, 125, 127,\n",
       "       131, 128, 128, 129, 129, 127, 125, 125, 127, 127, 126, 127, 121,\n",
       "       123, 125, 127, 127, 123, 127, 129, 124, 132, 133, 133, 132, 128,\n",
       "       129, 131, 130, 133, 131, 131, 131, 129, 138, 132, 131, 129, 130,\n",
       "       133, 134, 131, 126, 128, 126, 124, 125, 128, 130, 129, 127, 126,\n",
       "       130, 131, 131, 130, 127, 127, 130, 134, 131, 127, 125, 124, 128,\n",
       "       127, 122, 126, 127, 125, 125, 127, 127, 126, 127, 130, 124, 130,\n",
       "       130, 125, 129, 131, 130, 128, 128, 133, 131, 121, 121, 122, 114,\n",
       "       116, 119, 117, 116, 120, 118, 117, 113, 112, 111, 110, 111, 111,\n",
       "       109, 107, 106, 111, 114, 118, 121, 126, 133, 136, 136, 137, 141,\n",
       "       145, 149, 152, 152, 153, 157, 157, 157, 157, 157, 159, 162, 163,\n",
       "       162, 158, 160, 159, 160, 160, 158, 157, 160, 161, 158, 157, 160,\n",
       "       161, 161, 159, 157, 160, 159, 158, 157, 157, 158, 159, 159, 159,\n",
       "       161, 155, 157, 154, 157, 153, 157, 158, 157, 155, 153, 153, 154,\n",
       "       155, 156, 155, 158, 158, 157, 157, 158, 156, 152, 152, 152, 153,\n",
       "       152, 151, 150, 150, 151, 149, 149, 147, 146, 146, 147, 145, 142,\n",
       "       145, 158, 177, 194, 203, 206, 209, 212, 216, 216, 217, 219, 221,\n",
       "       222, 222, 221, 225, 218, 211, 204, 186, 158, 126, 103, 100, 107,\n",
       "       110, 110, 114, 117, 117, 117, 114, 114, 118, 120, 118, 118, 122,\n",
       "       124, 118, 123, 118, 125, 119, 117, 120, 121, 119, 126, 123, 126,\n",
       "       119, 122, 126, 129, 131, 128, 132, 130, 133, 132, 132, 123, 116,\n",
       "        98,  75,  48,  42,  40,  45,  42,  48,  49,  46,  47,  48,  45,\n",
       "        44,  43,  49,  48,  42,  47,  50,  49,  55,  54,  51,  50,  48,\n",
       "        48,  55,  59,  57,  56], dtype=uint8)"
      ]
     },
     "execution_count": 5,
     "metadata": {},
     "output_type": "execute_result"
    }
   ],
   "source": [
    "img[30]"
   ]
  },
  {
   "cell_type": "code",
   "execution_count": 11,
   "id": "c26814e4",
   "metadata": {},
   "outputs": [
    {
     "name": "stdout",
     "output_type": "stream",
     "text": [
      "512\n",
      "512\n",
      "161\n",
      "[111 136 228]\n"
     ]
    }
   ],
   "source": [
    "print(len(img[30]))\n",
    "print(len(img[:,20]))\n",
    "print(img[30,20])\n",
    "img_bgr = cv2.imread('./lena.jpg')\n",
    "print(img_bgr[30,20])"
   ]
  },
  {
   "cell_type": "code",
   "execution_count": 13,
   "id": "bcba515b",
   "metadata": {},
   "outputs": [
    {
     "data": {
      "text/plain": [
       "array([ 89,  88,  81,  83,  86,  93,  91,  94,  90,  87,  88,  90,  90,\n",
       "        91,  90,  86,  92,  95,  91,  86,  88,  88,  86,  89,  92, 100,\n",
       "       110, 115, 125, 127, 136, 144, 147, 150, 156, 160, 161, 160, 162,\n",
       "       166, 167, 168, 168, 166, 164, 164, 164, 164, 169, 165, 166, 163,\n",
       "       162, 160, 151, 148, 144, 140, 137, 127, 122, 112, 107,  95,  94,\n",
       "        81,  74,  73,  76,  78,  77,  82,  87,  85,  90,  93,  96,  98,\n",
       "        95,  97,  94, 105, 106, 103,  98, 106, 106, 103,  98, 102, 102,\n",
       "        99,  98, 101, 103, 101,  94, 101, 105, 103, 108, 101, 104, 100,\n",
       "       106, 105, 107, 109, 110, 112, 112, 108, 109, 110, 114, 114, 117,\n",
       "       113, 114, 114, 117, 118, 121, 121, 120, 116, 117, 118, 124, 116,\n",
       "       119, 121, 121, 120, 133, 142, 140, 122, 110, 105, 107, 110, 107,\n",
       "       109, 107, 111, 118, 117, 121, 110, 108, 109, 109, 109, 111, 110,\n",
       "       112, 114, 114, 123, 116, 120, 119, 123, 113, 107, 121, 122, 122,\n",
       "       122, 126, 125, 115, 119, 128, 117, 117, 119, 123, 132, 135, 123,\n",
       "       128, 125, 132, 129, 131, 117, 134, 144, 134, 133, 133, 144, 143,\n",
       "       141, 136, 129, 133, 137,  50, 143, 145, 132, 147, 144, 142, 139,\n",
       "       132, 138, 144, 135, 129, 129, 131, 143, 139, 135, 133, 140, 137,\n",
       "       137, 139, 145, 156, 154, 161, 168, 158, 158, 146, 131, 128, 147,\n",
       "       173, 189, 198, 198, 189, 190, 192, 196, 193, 189, 194, 200, 203,\n",
       "       208, 202, 195, 196, 205, 208, 207, 206, 206, 202, 200, 196, 193,\n",
       "       195, 200, 203, 202, 195, 194, 204, 212, 197, 187, 197, 198, 199,\n",
       "       197, 197, 198, 205, 199, 202, 202, 202, 201, 203, 208, 209, 206,\n",
       "       205, 207, 204, 205, 205, 206, 209, 211, 211, 209, 209, 209, 210,\n",
       "       211, 210, 209, 211, 214, 213, 215, 217, 218, 219, 220, 223, 227,\n",
       "       225, 225, 224, 193, 144, 112, 108,  84,  61,  69,  72,  79,  76,\n",
       "        83,  83,  86,  86,  94,  98, 101, 109, 117, 123, 126, 137, 138,\n",
       "       142, 148, 151, 152, 153, 155, 153, 158, 155, 152, 157, 156, 152,\n",
       "       155, 150, 151, 158, 150, 158, 159, 165, 155, 146, 138, 137, 133,\n",
       "       120, 113, 104,  88,  87,  61,  48,  47,  37,  39,  40,  45,  36,\n",
       "        44,  46,  55,  59,  70,  80,  93, 101, 113, 120, 124, 129, 133,\n",
       "       138, 141, 147, 149, 150, 149, 147, 147, 147, 146, 142, 144, 143,\n",
       "       139, 139, 144, 146, 145, 145, 143, 144, 146, 146, 145, 146, 150,\n",
       "       150, 151, 155, 156, 154, 156, 150, 136, 120,  83,  55,  39,  37,\n",
       "        43,  42,  40,  42,  35,  41,  47,  38,  43,  44,  47,  61,  53,\n",
       "        49,  52,  61,  57,  63,  60,  56,  55,  54,  51,  51,  54,  53,\n",
       "        45,  43,  42,  47,  53,  55,  59,  62,  58,  54,  47,  43,  44,\n",
       "        52,  53,  45,  43,  58,  55,  54,  56,  57,  54,  55,  64,  61,\n",
       "        63,  66,  68,  67,  78,  89, 111, 125, 135, 143, 146, 147, 144,\n",
       "       143, 145, 151, 153, 150, 143, 140, 143, 151, 160, 162, 163, 165,\n",
       "       165, 164, 163, 163, 164], dtype=uint8)"
      ]
     },
     "execution_count": 13,
     "metadata": {},
     "output_type": "execute_result"
    }
   ],
   "source": [
    "img[100]"
   ]
  },
  {
   "cell_type": "code",
   "execution_count": 15,
   "id": "66289387",
   "metadata": {},
   "outputs": [],
   "source": [
    "cv2.imshow('new', img[90:110, 190:210])\n",
    "cv2.waitKey()\n",
    "cv2.destroyAllWindows()"
   ]
  },
  {
   "cell_type": "code",
   "execution_count": 19,
   "id": "b071ad75",
   "metadata": {},
   "outputs": [
    {
     "name": "stdout",
     "output_type": "stream",
     "text": [
      "512 512\n",
      "256 256\n"
     ]
    }
   ],
   "source": [
    "img = cv2.imread('./lena.jpg', cv2.IMREAD_GRAYSCALE)\n",
    "(h,w) = img.shape\n",
    "print(h,w)\n",
    "(cy,cx) = (h//2, w//2)\n",
    "print(cy,cx)\n",
    "\n",
    "#왼쪽 위 원점부터 중간점까지 사각형 영역을 ROI에 저장\n",
    "roi = img[0:cy, 0:cx]\n",
    "\n",
    "cv2.imshow('img', img)\n",
    "cv2.imshow('ROI', roi)\n",
    "cv2.waitKey()\n",
    "cv2.destroyAllWindows()"
   ]
  },
  {
   "cell_type": "code",
   "execution_count": 27,
   "id": "5e803d5d",
   "metadata": {},
   "outputs": [
    {
     "name": "stdout",
     "output_type": "stream",
     "text": [
      "512 512\n",
      "128 128\n"
     ]
    }
   ],
   "source": [
    "#레나 얼굴만\n",
    "\n",
    "img = cv2.imread('./lena.jpg', cv2.IMREAD_GRAYSCALE)\n",
    "(h,w) = img.shape\n",
    "print(h,w)\n",
    "(cy,cx) = (h//2, w//2)\n",
    "(hs,ws) = cy//2, cx//2\n",
    "(he,we) = cy+hs, cx+ws\n",
    "print(hs,ws)\n",
    "\n",
    "roi_f = img[hs:he, ws:we]\n",
    "\n",
    "cv2.imshow('img', img)\n",
    "cv2.imshow('ROI', roi_f)\n",
    "cv2.waitKey()\n",
    "cv2.destroyAllWindows()"
   ]
  },
  {
   "cell_type": "code",
   "execution_count": null,
   "id": "25a53e6b",
   "metadata": {},
   "outputs": [],
   "source": [
    "# 레나 점\n",
    "\n",
    "img = cv2.imread('./lena.jpg', cv2.IMREAD_GRAYSCALE)\n",
    "\n",
    "dst = img.copy()\n",
    "dst = \n",
    "\n",
    "cv2.imshow('img', img)\n",
    "cv2.imshow('p', p)\n",
    "cv2.waitKey()\n",
    "cv2.destroyAllWindows()"
   ]
  },
  {
   "cell_type": "code",
   "execution_count": 33,
   "id": "ccbb7912",
   "metadata": {},
   "outputs": [],
   "source": [
    "# copy\n",
    "src = cv2.imread('./lena.jpg', 0)\n",
    "dst = src.copy()\n",
    "(h,w) = dst.shape\n",
    "(cy,cx) = (h//2, w//2)\n",
    "(hs,ws) = cy//2, cx//2\n",
    "(he,we) = cy+hs, cx+ws\n",
    "\n",
    "dst[hs:he,ws:we] = 0\n",
    "cv2.imshow('src', src)\n",
    "cv2.imshow('dst', dst)\n",
    "cv2.waitKey()\n",
    "cv2.destroyAllWindows()"
   ]
  },
  {
   "cell_type": "code",
   "execution_count": 46,
   "id": "68d4fcc4",
   "metadata": {},
   "outputs": [
    {
     "data": {
      "text/plain": [
       "array([[163, 162, 161, ..., 170, 154, 130],\n",
       "       [162, 162, 162, ..., 173, 155, 126],\n",
       "       [162, 162, 163, ..., 170, 155, 128],\n",
       "       ...,\n",
       "       [ 43,  42,  51, ..., 103, 101,  99],\n",
       "       [ 41,  42,  55, ..., 103, 105, 106],\n",
       "       [ 42,  44,  57, ..., 102, 106, 109]], dtype=uint8)"
      ]
     },
     "execution_count": 46,
     "metadata": {},
     "output_type": "execute_result"
    }
   ],
   "source": [
    "# src 영상을 각각 b, g, r 층으로 copy해서 컬러로 변환\n",
    "\n",
    "src = cv2.imread('./lena.jpg')\n",
    "bw = cv2.imread('./lena.jpg', 0)\n",
    "\n",
    "color = src[0]\n",
    "\n",
    "\n",
    "cv2.imshow('src', src)\n",
    "cv2.imshow('bw', bw)\n",
    "cv2.waitKey()\n",
    "cv2.destroyAllWindows()\n",
    "bw"
   ]
  },
  {
   "cell_type": "code",
   "execution_count": 76,
   "id": "c9e3381c",
   "metadata": {},
   "outputs": [
    {
     "ename": "ValueError",
     "evalue": "setting an array element with a sequence.",
     "output_type": "error",
     "traceback": [
      "\u001b[1;31m---------------------------------------------------------------------------\u001b[0m",
      "\u001b[1;31mTypeError\u001b[0m                                 Traceback (most recent call last)",
      "\u001b[1;31mTypeError\u001b[0m: only size-1 arrays can be converted to Python scalars",
      "\nThe above exception was the direct cause of the following exception:\n",
      "\u001b[1;31mValueError\u001b[0m                                Traceback (most recent call last)",
      "Input \u001b[1;32mIn [76]\u001b[0m, in \u001b[0;36m<cell line: 1>\u001b[1;34m()\u001b[0m\n\u001b[1;32m----> 1\u001b[0m bw[\u001b[38;5;241m0\u001b[39m][\u001b[38;5;241m0\u001b[39m] \u001b[38;5;241m=\u001b[39m src[\u001b[38;5;241m0\u001b[39m][\u001b[38;5;241m0\u001b[39m]\n",
      "\u001b[1;31mValueError\u001b[0m: setting an array element with a sequence."
     ]
    }
   ],
   "source": [
    "bw[0][0] = src[0][0]"
   ]
  },
  {
   "cell_type": "code",
   "execution_count": 64,
   "id": "dc2124b5",
   "metadata": {},
   "outputs": [
    {
     "ename": "ValueError",
     "evalue": "setting an array element with a sequence.",
     "output_type": "error",
     "traceback": [
      "\u001b[1;31m---------------------------------------------------------------------------\u001b[0m",
      "\u001b[1;31mTypeError\u001b[0m                                 Traceback (most recent call last)",
      "\u001b[1;31mTypeError\u001b[0m: only size-1 arrays can be converted to Python scalars",
      "\nThe above exception was the direct cause of the following exception:\n",
      "\u001b[1;31mValueError\u001b[0m                                Traceback (most recent call last)",
      "Input \u001b[1;32mIn [64]\u001b[0m, in \u001b[0;36m<cell line: 1>\u001b[1;34m()\u001b[0m\n\u001b[0;32m      1\u001b[0m \u001b[38;5;28;01mfor\u001b[39;00m i \u001b[38;5;129;01min\u001b[39;00m \u001b[38;5;28mrange\u001b[39m(\u001b[38;5;28mlen\u001b[39m(src[\u001b[38;5;241m0\u001b[39m])):\n\u001b[1;32m----> 2\u001b[0m     bw[\u001b[38;5;241m0\u001b[39m][i] \u001b[38;5;241m=\u001b[39m src[\u001b[38;5;241m0\u001b[39m][i]\n\u001b[0;32m      4\u001b[0m \u001b[38;5;28mprint\u001b[39m(bw[\u001b[38;5;241m0\u001b[39m])\n",
      "\u001b[1;31mValueError\u001b[0m: setting an array element with a sequence."
     ]
    }
   ],
   "source": [
    "for i in range(len(src[0])):\n",
    "    bw[0][i] = src[0][i]\n",
    "    \n",
    "print(bw[0])"
   ]
  },
  {
   "cell_type": "code",
   "execution_count": 109,
   "id": "0912a217",
   "metadata": {},
   "outputs": [],
   "source": [
    "src = cv2.imread('./lena.jpg')\n",
    "dst = cv2.imread('./lena.jpg')\n",
    "\n",
    "h = dst.shape[0]\n",
    "w = dst.shape[1]\n",
    "(cy,cx) = (h//2, w//2)\n",
    "(hs,ws) = cy//2, cx//2\n",
    "(he,we) = cy+hs, cx+ws\n",
    "\n",
    "dst[hs:he,ws:we] = [255,255,255]\n",
    "\n",
    "\n",
    "cv2.imshow('src', src)\n",
    "cv2.imshow('dst', dst)\n",
    "cv2.waitKey()\n",
    "cv2.destroyAllWindows()"
   ]
  },
  {
   "cell_type": "code",
   "execution_count": 11,
   "id": "f14e20c3",
   "metadata": {},
   "outputs": [
    {
     "name": "stdout",
     "output_type": "stream",
     "text": [
      "[[[128. 138. 225.]\n",
      "  [127. 137. 224.]\n",
      "  [126. 136. 224.]\n",
      "  ...\n",
      "  [126. 145. 236.]\n",
      "  [110. 129. 220.]\n",
      "  [ 86. 104. 197.]]\n",
      "\n",
      " [[127. 137. 224.]\n",
      "  [127. 137. 224.]\n",
      "  [127. 137. 224.]\n",
      "  ...\n",
      "  [130. 150. 235.]\n",
      "  [112. 132. 217.]\n",
      "  [ 83. 102. 189.]]\n",
      "\n",
      " [[127. 137. 224.]\n",
      "  [127. 137. 224.]\n",
      "  [128. 138. 225.]\n",
      "  ...\n",
      "  [127. 148. 230.]\n",
      "  [111. 133. 215.]\n",
      "  [ 84. 105. 190.]]\n",
      "\n",
      " ...\n",
      "\n",
      " [[ 55.  21.  82.]\n",
      "  [ 54.  20.  81.]\n",
      "  [ 62.  28.  92.]\n",
      "  ...\n",
      "  [ 82.  71. 175.]\n",
      "  [ 78.  68. 175.]\n",
      "  [ 74.  65. 175.]]\n",
      "\n",
      " [[ 53.  19.  80.]\n",
      "  [ 54.  20.  81.]\n",
      "  [ 66.  32.  96.]\n",
      "  ...\n",
      "  [ 82.  69. 177.]\n",
      "  [ 80.  71. 181.]\n",
      "  [ 81.  72. 183.]]\n",
      "\n",
      " [[ 54.  20.  81.]\n",
      "  [ 56.  22.  83.]\n",
      "  [ 68.  34.  98.]\n",
      "  ...\n",
      "  [ 81.  68. 176.]\n",
      "  [ 81.  72. 183.]\n",
      "  [ 84.  74. 188.]]]\n"
     ]
    }
   ],
   "source": [
    "import cv2\n",
    "import numpy as np\n",
    "import pandas as pd\n",
    "\n",
    "src = cv2.imread('./lena.jpg')\n",
    "dst = np.zeros([512,512,3])\n",
    "\n",
    "dst[:, :, 0] = src[:,:,0]\n",
    "dst[:, :, 1] = src[:,:,1]\n",
    "dst[:, :, 2] = src[:,:,2]\n",
    "dst_int = dst_int = dst.astype(np.uint8)\n",
    "\n",
    "cv2.imshow('src', src)\n",
    "cv2.imshow('dst', dst_int)\n",
    "cv2.waitKey()\n",
    "cv2.destroyAllWindows()\n",
    "print(dst)"
   ]
  },
  {
   "cell_type": "code",
   "execution_count": 12,
   "id": "b5e4a810",
   "metadata": {},
   "outputs": [
    {
     "name": "stdout",
     "output_type": "stream",
     "text": [
      "[[[163 163 163]\n",
      "  [162 162 162]\n",
      "  [161 161 161]\n",
      "  ...\n",
      "  [170 170 170]\n",
      "  [154 154 154]\n",
      "  [130 130 130]]\n",
      "\n",
      " [[162 162 162]\n",
      "  [162 162 162]\n",
      "  [162 162 162]\n",
      "  ...\n",
      "  [173 173 173]\n",
      "  [155 155 155]\n",
      "  [126 126 126]]\n",
      "\n",
      " [[162 162 162]\n",
      "  [162 162 162]\n",
      "  [163 163 163]\n",
      "  ...\n",
      "  [170 170 170]\n",
      "  [155 155 155]\n",
      "  [128 128 128]]\n",
      "\n",
      " ...\n",
      "\n",
      " [[ 43  43  43]\n",
      "  [ 42  42  42]\n",
      "  [ 51  51  51]\n",
      "  ...\n",
      "  [103 103 103]\n",
      "  [101 101 101]\n",
      "  [ 99  99  99]]\n",
      "\n",
      " [[ 41  41  41]\n",
      "  [ 42  42  42]\n",
      "  [ 55  55  55]\n",
      "  ...\n",
      "  [103 103 103]\n",
      "  [105 105 105]\n",
      "  [106 106 106]]\n",
      "\n",
      " [[ 42  42  42]\n",
      "  [ 44  44  44]\n",
      "  [ 57  57  57]\n",
      "  ...\n",
      "  [102 102 102]\n",
      "  [106 106 106]\n",
      "  [109 109 109]]]\n"
     ]
    }
   ],
   "source": [
    "src = cv2.imread('./lena.jpg',0)\n",
    "dst = np.zeros([512,512,3])\n",
    "\n",
    "dst[:, :, 0] = src.copy()\n",
    "dst[:, :, 1] = src.copy()\n",
    "dst[:, :, 2] = src.copy()\n",
    "\n",
    "dst_int = dst.astype(np.uint8)\n",
    "dst_int\n",
    "cv2.imshow('src', src)\n",
    "cv2.imshow('dst_int', dst_int)\n",
    "cv2.waitKey()\n",
    "cv2.destroyAllWindows()\n",
    "print(dst_int)"
   ]
  },
  {
   "cell_type": "code",
   "execution_count": 13,
   "id": "1c725828",
   "metadata": {},
   "outputs": [
    {
     "name": "stdout",
     "output_type": "stream",
     "text": [
      "[[[163. 163. 163.]\n",
      "  [162. 162. 162.]\n",
      "  [161. 161. 161.]\n",
      "  ...\n",
      "  [170. 170. 170.]\n",
      "  [154. 154. 154.]\n",
      "  [130. 130. 130.]]\n",
      "\n",
      " [[162. 162. 162.]\n",
      "  [162. 162. 162.]\n",
      "  [162. 162. 162.]\n",
      "  ...\n",
      "  [173. 173. 173.]\n",
      "  [155. 155. 155.]\n",
      "  [126. 126. 126.]]\n",
      "\n",
      " [[162. 162. 162.]\n",
      "  [162. 162. 162.]\n",
      "  [163. 163. 163.]\n",
      "  ...\n",
      "  [170. 170. 170.]\n",
      "  [155. 155. 155.]\n",
      "  [128. 128. 128.]]\n",
      "\n",
      " ...\n",
      "\n",
      " [[ 43.  43.  43.]\n",
      "  [ 42.  42.  42.]\n",
      "  [ 51.  51.  51.]\n",
      "  ...\n",
      "  [103. 103. 103.]\n",
      "  [101. 101. 101.]\n",
      "  [ 99.  99.  99.]]\n",
      "\n",
      " [[ 41.  41.  41.]\n",
      "  [ 42.  42.  42.]\n",
      "  [ 55.  55.  55.]\n",
      "  ...\n",
      "  [103. 103. 103.]\n",
      "  [105. 105. 105.]\n",
      "  [106. 106. 106.]]\n",
      "\n",
      " [[ 42.  42.  42.]\n",
      "  [ 44.  44.  44.]\n",
      "  [ 57.  57.  57.]\n",
      "  ...\n",
      "  [102. 102. 102.]\n",
      "  [106. 106. 106.]\n",
      "  [109. 109. 109.]]]\n"
     ]
    }
   ],
   "source": [
    "src = cv2.imread('./lena.jpg',0)\n",
    "dst = np.zeros([512,512,3])\n",
    "\n",
    "dst[:, :, 0] = src.copy()\n",
    "dst[:, :, 1] = src.copy()\n",
    "dst[:, :, 2] = src.copy()\n",
    "\n",
    "dst[180:400,180:400] = [255,255,255]\n",
    "\n",
    "dst_int = dst.astype(np.uint8)\n",
    "dst_int\n",
    "cv2.imshow('src', src)\n",
    "cv2.imshow('dst_int', dst_int)\n",
    "cv2.waitKey()\n",
    "cv2.destroyAllWindows()\n",
    "print(dst)"
   ]
  },
  {
   "cell_type": "code",
   "execution_count": 14,
   "id": "dc213ac6",
   "metadata": {},
   "outputs": [
    {
     "data": {
      "text/plain": [
       "array([163., 163.,  23.])"
      ]
     },
     "execution_count": 14,
     "metadata": {},
     "output_type": "execute_result"
    }
   ],
   "source": [
    "dst[0,0] = [dst[0,0,0],dst[0,0,1], np.random.randint(0,255)]\n",
    "dst[0,0]"
   ]
  },
  {
   "cell_type": "code",
   "execution_count": 26,
   "id": "07282541",
   "metadata": {},
   "outputs": [
    {
     "name": "stdout",
     "output_type": "stream",
     "text": [
      "[[[163 163  11]\n",
      "  [162 162 225]\n",
      "  [161 161 108]\n",
      "  ...\n",
      "  [170 170  97]\n",
      "  [154 154  30]\n",
      "  [130 130  96]]\n",
      "\n",
      " [[162 162 149]\n",
      "  [162 162  99]\n",
      "  [162 162  97]\n",
      "  ...\n",
      "  [173 173  94]\n",
      "  [155 155  35]\n",
      "  [126 126 225]]\n",
      "\n",
      " [[162 162  64]\n",
      "  [162 162  93]\n",
      "  [163 163 223]\n",
      "  ...\n",
      "  [170 170 162]\n",
      "  [155 155  55]\n",
      "  [128 128 155]]\n",
      "\n",
      " ...\n",
      "\n",
      " [[ 43  43  73]\n",
      "  [ 42  42 243]\n",
      "  [ 51  51 142]\n",
      "  ...\n",
      "  [103 103  33]\n",
      "  [101 101 130]\n",
      "  [ 99  99 147]]\n",
      "\n",
      " [[ 41  41 193]\n",
      "  [ 42  42 161]\n",
      "  [ 55  55 121]\n",
      "  ...\n",
      "  [103 103   6]\n",
      "  [105 105 226]\n",
      "  [106 106  21]]\n",
      "\n",
      " [[ 42  42   3]\n",
      "  [ 44  44  20]\n",
      "  [ 57  57   2]\n",
      "  ...\n",
      "  [102 102 101]\n",
      "  [106 106 237]\n",
      "  [109 109 216]]]\n"
     ]
    }
   ],
   "source": [
    "src = cv2.imread('./lena.jpg',0)\n",
    "dst = np.zeros([512,512,3])\n",
    "\n",
    "dst[:, :, 0] = src.copy()\n",
    "dst[:, :, 1] = src.copy()\n",
    "dst[:, :, 2] = src.copy()\n",
    "\n",
    "\n",
    "for x in range(len(dst[0])):\n",
    "    for y in range(len(dst[:,0])):\n",
    "        dst[x,y] = [dst[x,y,0], dst[x,y,1],np.random.randint(0,255)]\n",
    "cv2.imshow('src', src)\n",
    "cv2.imshow('dst_int', np.uint8(dst))\n",
    "cv2.waitKey()\n",
    "cv2.destroyAllWindows()\n",
    "print(np.uint8(dst))"
   ]
  },
  {
   "cell_type": "code",
   "execution_count": 23,
   "id": "78b27c45",
   "metadata": {},
   "outputs": [],
   "source": [
    "src = cv2.imread('./lena.jpg',0)\n",
    "dst = np.zeros([512,512,3])\n",
    "\n",
    "dst[:, :, 0] = src.copy()\n",
    "dst[:, :, 1] = src.copy()\n",
    "dst[:, :, 2] = src.copy()\n",
    "\n",
    "\n",
    "\n",
    "for x in range(len(dst[0])):\n",
    "    for y in range(len(dst[:,0])):\n",
    "        dst[x,y] = [dst[x,y,0], np.random.randint(0,255) ,np.random.randint(0,255)]\n",
    "cv2.imshow('src', src)\n",
    "cv2.imshow('dst_int', np.uint8(dst))\n",
    "cv2.waitKey()\n",
    "cv2.destroyAllWindows()"
   ]
  },
  {
   "cell_type": "code",
   "execution_count": 24,
   "id": "1c8cb67a",
   "metadata": {},
   "outputs": [],
   "source": [
    "src = cv2.imread('./lena.jpg',0)\n",
    "dst = np.zeros([512,512,3])\n",
    "\n",
    "dst[:, :, 0] = src.copy()\n",
    "dst[:, :, 1] = src.copy()\n",
    "dst[:, :, 2] = src.copy()\n",
    "\n",
    "\n",
    "\n",
    "for x in range(len(dst[0])):\n",
    "    for y in range(len(dst[:,0])):\n",
    "        dst[x,y] = [np.random.randint(0,255), np.random.randint(0,255) ,np.random.randint(0,255)]\n",
    "cv2.imshow('src', src)\n",
    "cv2.imshow('dst_int', np.uint8(dst))\n",
    "cv2.waitKey()\n",
    "cv2.destroyAllWindows()\n"
   ]
  },
  {
   "cell_type": "code",
   "execution_count": 33,
   "id": "b9aa7086",
   "metadata": {},
   "outputs": [],
   "source": [
    "lena = './lena.jpg'\n",
    "img = cv2.imread(lena)\n",
    "rgbsp = cv2.split(img)\n",
    "rgbmg = cv2.merge(rgbsp)\n",
    "cv2.imshow('rgbmg', rgbmg)\n",
    "cv2.waitKey()\n",
    "cv2.destroyAllWindows()"
   ]
  },
  {
   "cell_type": "code",
   "execution_count": 34,
   "id": "eb121854",
   "metadata": {},
   "outputs": [
    {
     "name": "stdout",
     "output_type": "stream",
     "text": [
      "<class 'tuple'>\n",
      "<class 'numpy.ndarray'>\n",
      "[[128 127 126 ... 126 110  86]\n",
      " [127 127 127 ... 130 112  83]\n",
      " [127 127 128 ... 127 111  84]\n",
      " ...\n",
      " [ 55  54  62 ...  82  78  74]\n",
      " [ 53  54  66 ...  82  80  81]\n",
      " [ 54  56  68 ...  81  81  84]]\n"
     ]
    }
   ],
   "source": [
    "lena = './lena.jpg'\n",
    "img = cv2.imread(lena)\n",
    "rgbsp = cv2.split(img)\n",
    "print(type(rgbsp))\n",
    "print(type(rgbsp[0]))\n",
    "print(rgbsp[0])"
   ]
  },
  {
   "cell_type": "code",
   "execution_count": 35,
   "id": "fad916ca",
   "metadata": {},
   "outputs": [],
   "source": [
    "b = img[:,:,0]\n",
    "g = img[:,:,1]\n",
    "r = img[:,:,2]"
   ]
  },
  {
   "cell_type": "code",
   "execution_count": 36,
   "id": "f0668f17",
   "metadata": {},
   "outputs": [
    {
     "data": {
      "text/plain": [
       "-1"
      ]
     },
     "execution_count": 36,
     "metadata": {},
     "output_type": "execute_result"
    }
   ],
   "source": [
    "cv2.imshow('img', img)\n",
    "cv2.imshow('blue', rgbsp[0])\n",
    "cv2.imshow('green', rgbsp[1])\n",
    "cv2.imshow('red', rgbsp[2])\n",
    "cv2.imshow('b', b)\n",
    "cv2.imshow('g', g)\n",
    "cv2.imshow('r', r)\n",
    "cv2.waitKey()\n",
    "cv2.destroyAllWindows()\n",
    "cv2.waitKey(1)"
   ]
  },
  {
   "cell_type": "code",
   "execution_count": 38,
   "id": "4b64c87a",
   "metadata": {},
   "outputs": [
    {
     "data": {
      "text/plain": [
       "-1"
      ]
     },
     "execution_count": 38,
     "metadata": {},
     "output_type": "execute_result"
    }
   ],
   "source": [
    "new = np.zeros([512,512,3])\n",
    "for x in range(512):\n",
    "    for y in range(512):\n",
    "        new[x,y] = [b[x,y], g[x,y], r[x,y]]\n",
    "\n",
    "dst = cv2.merge([b,g,r])\n",
    "\n",
    "cv2.imshow('self_merge', np.uint8(new))\n",
    "cv2.imshow('func_merge', dst)\n",
    "cv2.waitKey()\n",
    "cv2.destroyAllWindows()\n",
    "cv2.waitKey(1)"
   ]
  },
  {
   "cell_type": "code",
   "execution_count": 60,
   "id": "66ec9806",
   "metadata": {},
   "outputs": [],
   "source": [
    "lena = './lena.jpg'\n",
    "src = cv2.imread(lena)\n",
    "gray = cv2.cvtColor(src, cv2.COLOR_BGR2GRAY)\n",
    "yCrCv = cv2.cvtColor(src, cv2.COLOR_BGR2YCrCb)\n",
    "hsv = cv2.cvtColor(src, cv2.COLOR_BGR2HSV)\n",
    "\n",
    "cv2.imshow('src', src)\n",
    "cv2.imshow('gray', gray)\n",
    "cv2.imshow('yCrCv', yCrCv)\n",
    "cv2.imshow('hsv', hsv)\n",
    "cv2.waitKey()\n",
    "cv2.destroyAllWindows()"
   ]
  },
  {
   "cell_type": "code",
   "execution_count": 53,
   "id": "9f34a66e",
   "metadata": {},
   "outputs": [
    {
     "name": "stdout",
     "output_type": "stream",
     "text": [
      "(512, 512)\n"
     ]
    }
   ],
   "source": [
    "lena = './lena.jpg'\n",
    "src = cv2.imread(lena, cv2.IMREAD_GRAYSCALE)\n",
    "print(src.shape)\n",
    "\n",
    "dst1 = cv2.resize(src, dsize=(320, 240))\n",
    "dst2 = cv2.resize(src, dsize=(0,0), fx=1.5, fy=1.2)\n",
    "\n",
    "cv2.imshow('dst1',dst1)\n",
    "cv2.imshow('dst2', dst2)\n",
    "cv2.waitKey()\n",
    "cv2.destroyAllWindows()"
   ]
  },
  {
   "cell_type": "code",
   "execution_count": 3,
   "id": "a1e9904b",
   "metadata": {},
   "outputs": [
    {
     "name": "stdout",
     "output_type": "stream",
     "text": [
      "(512, 512)\n",
      "dst1.shape (300, 800)\n",
      "dst2.shape (922, 768)\n"
     ]
    }
   ],
   "source": [
    "import cv2\n",
    "import numpy as np\n",
    "import pandas as pd\n",
    "\n",
    "lena = './lena.jpg'\n",
    "src = cv2.imread(lena, cv2.IMREAD_GRAYSCALE)\n",
    "print(src.shape)\n",
    "\n",
    "dst1 = cv2.resize(src, dsize=(800, 300))\n",
    "dst2 = cv2.resize(src, dsize=(0,0), fx=1.5, fy=1.8)\n",
    "\n",
    "print('dst1.shape', dst1.shape)\n",
    "print('dst2.shape', dst2.shape)\n",
    "cv2.imshow('dst1',dst1) #x, y 순서가 다름\n",
    "cv2.imshow('dst2', dst2)\n",
    "cv2.waitKey()\n",
    "cv2.destroyAllWindows()\n",
    "\n"
   ]
  },
  {
   "cell_type": "code",
   "execution_count": 4,
   "id": "175f89f6",
   "metadata": {},
   "outputs": [
    {
     "name": "stdout",
     "output_type": "stream",
     "text": [
      "(512, 512)\n"
     ]
    }
   ],
   "source": [
    "\n",
    "\n",
    "lena = './lena.jpg'\n",
    "src = cv2.imread(lena, cv2.IMREAD_GRAYSCALE)\n",
    "print(src.shape)\n",
    "\n",
    "dst3 = cv2.rotate(dst1, cv2.ROTATE_90_CLOCKWISE)\n",
    "dst4 = cv2.rotate(dst2, cv2.ROTATE_90_COUNTERCLOCKWISE)\n",
    "dst5 = cv2.rotate(dst3, cv2.ROTATE_90_CLOCKWISE)\n",
    "\n",
    "cv2.imshow('dst3', dst3)\n",
    "cv2.imshow('dst4', dst4)\n",
    "cv2.imshow('dst5', dst5)\n",
    "cv2.waitKey()\n",
    "cv2.destroyAllWindows()"
   ]
  },
  {
   "cell_type": "code",
   "execution_count": 14,
   "id": "0cfbb3a1",
   "metadata": {},
   "outputs": [],
   "source": [
    "src = cv2.imread(lena)\n",
    "rows, cols, channels = src.shape\n",
    "\n",
    "M1 = cv2.getRotationMatrix2D((rows/2, cols/2),45,0.3)\n",
    "M2 = cv2.getRotationMatrix2D((rows/2, cols/2),-45,0.7)\n",
    "dst1 = cv2.warpAffine(src, M1, (rows, cols))\n",
    "dst2 = cv2.warpAffine(src, M2, (rows, cols))\n",
    "\n",
    "cv2.imshow('dst1', dst1)\n",
    "cv2.imshow('dst2', dst2)\n",
    "cv2.waitKey()\n",
    "cv2.destroyAllWindows()"
   ]
  },
  {
   "cell_type": "code",
   "execution_count": 15,
   "id": "60dbe3f3",
   "metadata": {},
   "outputs": [
    {
     "name": "stdout",
     "output_type": "stream",
     "text": [
      "Collecting imutils\n",
      "  Downloading imutils-0.5.4.tar.gz (17 kB)\n",
      "  Preparing metadata (setup.py): started\n",
      "  Preparing metadata (setup.py): finished with status 'done'\n",
      "Building wheels for collected packages: imutils\n",
      "  Building wheel for imutils (setup.py): started\n",
      "  Building wheel for imutils (setup.py): finished with status 'done'\n",
      "  Created wheel for imutils: filename=imutils-0.5.4-py3-none-any.whl size=25872 sha256=e989207f802829ba59208a00a7acfb2b537fb21ba8aaac748765a2d0b2174781\n",
      "  Stored in directory: c:\\users\\playdata\\appdata\\local\\pip\\cache\\wheels\\f4\\4b\\8b\\a9c23da464a09c6ad0a131c1752079bc85f9f1677c7b78e87d\n",
      "Successfully built imutils\n",
      "Installing collected packages: imutils\n",
      "Successfully installed imutils-0.5.4\n",
      "Note: you may need to restart the kernel to use updated packages.\n"
     ]
    }
   ],
   "source": [
    "pip install imutils"
   ]
  },
  {
   "cell_type": "code",
   "execution_count": 1,
   "id": "0a5a6de7",
   "metadata": {},
   "outputs": [],
   "source": [
    "import imutils\n",
    "import cv2\n",
    "import numpy as np\n",
    "import pandas as pd"
   ]
  },
  {
   "cell_type": "code",
   "execution_count": 19,
   "id": "96557b25",
   "metadata": {},
   "outputs": [],
   "source": [
    "image = './lena.jpg'\n",
    "src = cv2.imread(image)\n",
    "\n",
    "tran = imutils.translate(src, 10, 30)\n",
    "rot = imutils.rotate(src, angle=10, center=(src.shape[0]//2,src.shape[1]//2))\n",
    "res = imutils.resize(src, width=100, height=10000, inter=3)\n",
    "\n",
    "cv2.imshow('translate',tran)\n",
    "cv2.imshow('rotate',rot)\n",
    "cv2.imshow('resize',res)\n",
    "cv2.waitKey()\n",
    "cv2.destroyAllWindows()"
   ]
  },
  {
   "cell_type": "code",
   "execution_count": 27,
   "id": "14fd922f",
   "metadata": {},
   "outputs": [
    {
     "data": {
      "text/plain": [
       "-1"
      ]
     },
     "execution_count": 27,
     "metadata": {},
     "output_type": "execute_result"
    }
   ],
   "source": [
    "import imutils\n",
    "src = cv2.imread('./lena.jpg')\n",
    "rows, cols, channels = src.shape\n",
    "dst1 = imutils.translate(src, 10, 30)\n",
    "dst2 = imutils.rotate(src, angle=10, center=(rows/2, cols/2), scale=1.0)\n",
    "dst3 = imutils.resize(src, width=800, height=100)\n",
    "cv2.imshow('src', src)\n",
    "cv2.imshow('dst', dst1)\n",
    "cv2.imshow('dst2', dst2)\n",
    "cv2.imshow('dst3', dst3)\n",
    "cv2.waitKey()\n",
    "cv2.destroyAllWindows()\n",
    "cv2.waitKey(1)"
   ]
  },
  {
   "cell_type": "code",
   "execution_count": null,
   "id": "def2277f",
   "metadata": {},
   "outputs": [],
   "source": [
    "# cv2.add(src1, src2)\n",
    "# cv2.addWeighted(src1, alpha, src2, beta, gamma,)\n",
    "# cv2.subtract(src1, src2)\n",
    "# cv2.scaleAdd\n",
    "# cv2.multiply\n",
    "# cv2.divide"
   ]
  },
  {
   "cell_type": "code",
   "execution_count": 70,
   "id": "63fef4fd",
   "metadata": {},
   "outputs": [],
   "source": [
    "import imutils\n",
    "import cv2\n",
    "import numpy as np\n",
    "import pandas as pd\n",
    "\n",
    "lena = './lena.jpg'\n",
    "src1 = cv2.imread(lena, cv2.IMREAD_GRAYSCALE)\n",
    "src2 = np.zeros(shape=(512,512), dtype=np.uint8) + 100\n",
    "\n",
    "dst1 = src1 + src2\n",
    "dst2 = cv2.add(src1, src2)\n",
    "\n",
    "cv2.imshow('dst1', dst1)\n",
    "cv2.imshow('dst2', dst2)\n",
    "cv2.waitKey()\n",
    "cv2.destroyAllWindows()"
   ]
  },
  {
   "cell_type": "code",
   "execution_count": 51,
   "id": "e06f8c63",
   "metadata": {},
   "outputs": [],
   "source": [
    "src1 = cv2.imread('./lena.jpg')\n",
    "src2 = cv2.imread('./baboon.jpg')\n",
    "\n",
    "dst1 = cv2.addWeighted(src1, 0.2, scr2, 0.8,0)\n",
    "dst2 = cv2.addWeighted(src1, 0.5, scr2, 0.5,0)\n",
    "\n",
    "cv2.imshow('dst1', dst1)\n",
    "cv2.imshow('dst2', dst2)\n",
    "cv2.waitKey()\n",
    "cv2.destroyAllWindows()"
   ]
  },
  {
   "cell_type": "code",
   "execution_count": 52,
   "id": "8cc1bd44",
   "metadata": {},
   "outputs": [
    {
     "name": "stdout",
     "output_type": "stream",
     "text": [
      "[[[128 138 225]\n",
      "  [127 137 224]]\n",
      "\n",
      " [[127 137 224]\n",
      "  [127 137 224]]]\n",
      "[[[106 148 160]\n",
      "  [ 15  60  71]]\n",
      "\n",
      " [[ 53 112 131]\n",
      "  [ 54 106 123]]]\n"
     ]
    }
   ],
   "source": [
    "print(src1[:2,:2])\n",
    "print(src2[:2,:2])"
   ]
  },
  {
   "cell_type": "code",
   "execution_count": 53,
   "id": "7da39b05",
   "metadata": {},
   "outputs": [
    {
     "data": {
      "text/plain": [
       "array([[[110, 146, 173],\n",
       "        [ 37,  75, 102]],\n",
       "\n",
       "       [[ 68, 117, 150],\n",
       "        [ 69, 112, 143]]], dtype=uint8)"
      ]
     },
     "execution_count": 53,
     "metadata": {},
     "output_type": "execute_result"
    }
   ],
   "source": [
    "cv2.addWeighted(src1[:2,:2], 0.2, src2[:2,:2], 0.8,0)"
   ]
  },
  {
   "cell_type": "code",
   "execution_count": 54,
   "id": "a1829aab",
   "metadata": {},
   "outputs": [
    {
     "data": {
      "text/plain": [
       "array([[[117, 143, 192],\n",
       "        [ 71,  98, 148]],\n",
       "\n",
       "       [[ 90, 124, 178],\n",
       "        [ 90, 122, 174]]], dtype=uint8)"
      ]
     },
     "execution_count": 54,
     "metadata": {},
     "output_type": "execute_result"
    }
   ],
   "source": [
    "cv2.addWeighted(src1[:2,:2], 0.5, src2[:2,:2], 0.5,0)"
   ]
  },
  {
   "cell_type": "code",
   "execution_count": 69,
   "id": "7df6437d",
   "metadata": {},
   "outputs": [
    {
     "name": "stdout",
     "output_type": "stream",
     "text": [
      "ret = 130.0\n"
     ]
    }
   ],
   "source": [
    "src = cv2.imread('./lena.jpg', cv2.IMREAD_GRAYSCALE)\n",
    "ret, dst = cv2.threshold(src, 130, 255, cv2.THRESH_BINARY)\n",
    "print('ret =', ret)\n",
    "\n",
    "cv2.imshow('src', src)\n",
    "cv2.imshow('dst', dst)\n",
    "cv2.waitKey()\n",
    "cv2.destroyAllWindows()"
   ]
  },
  {
   "cell_type": "code",
   "execution_count": 71,
   "id": "7b7b2cbd",
   "metadata": {},
   "outputs": [
    {
     "name": "stdout",
     "output_type": "stream",
     "text": [
      "ret = 120.0\n"
     ]
    }
   ],
   "source": [
    "src = cv2.imread('./lena.jpg', cv2.IMREAD_GRAYSCALE)\n",
    "ret, dst = cv2.threshold(src, 120, 255, cv2.THRESH_BINARY_INV)\n",
    "print('ret =', ret)\n",
    "\n",
    "cv2.imshow('src', src)\n",
    "cv2.imshow('dst', dst)\n",
    "cv2.waitKey()\n",
    "cv2.destroyAllWindows()"
   ]
  },
  {
   "cell_type": "code",
   "execution_count": 92,
   "id": "54656110",
   "metadata": {},
   "outputs": [
    {
     "name": "stdout",
     "output_type": "stream",
     "text": [
      "ret = 185.0\n"
     ]
    }
   ],
   "source": [
    "src = cv2.imread('./cup.png', 0)\n",
    "ret, dst = cv2.threshold(src, 185, 255, cv2.THRESH_BINARY)\n",
    "print('ret =', ret)\n",
    "\n",
    "cv2.imshow('src', src)\n",
    "cv2.imshow('dst', dst)\n",
    "cv2.waitKey()\n",
    "cv2.destroyAllWindows()"
   ]
  },
  {
   "cell_type": "code",
   "execution_count": 84,
   "id": "adf7ba09",
   "metadata": {},
   "outputs": [
    {
     "name": "stdout",
     "output_type": "stream",
     "text": [
      "ret = 120.0\n"
     ]
    }
   ],
   "source": [
    "src = cv2.imread('./cup.png')\n",
    "ret, dst = cv2.threshold(src, 185, 255, cv2.THRESH_BINARY)\n",
    "print('ret =', ret)\n",
    "\n",
    "cv2.imshow('src', src)\n",
    "cv2.imshow('dst', dst)\n",
    "cv2.waitKey()\n",
    "cv2.destroyAllWindows()"
   ]
  },
  {
   "cell_type": "code",
   "execution_count": 95,
   "id": "1fb2d83a",
   "metadata": {},
   "outputs": [
    {
     "name": "stdout",
     "output_type": "stream",
     "text": [
      "ret = 185.0\n"
     ]
    }
   ],
   "source": [
    "src = cv2.imread('./cup.png',0)\n",
    "ret, dst = cv2.threshold(src, 185, 255, cv2.THRESH_BINARY_INV)\n",
    "print('ret =', ret)\n",
    "\n",
    "cv2.imshow('src', src)\n",
    "cv2.imshow('dst', dst)\n",
    "cv2.waitKey()\n",
    "cv2.destroyAllWindows()"
   ]
  },
  {
   "cell_type": "code",
   "execution_count": 105,
   "id": "0eae5942",
   "metadata": {},
   "outputs": [
    {
     "name": "stdout",
     "output_type": "stream",
     "text": [
      "ret = 255.0\n"
     ]
    }
   ],
   "source": [
    "src = cv2.imread('./cup.png',0)\n",
    "ret, dst = cv2.threshold(src, 255, 255, cv2.THRESH_TRUNC)\n",
    "print('ret =', ret)\n",
    "\n",
    "cv2.imshow('src', src)\n",
    "cv2.imshow('dst', dst)\n",
    "cv2.waitKey()\n",
    "cv2.destroyAllWindows()"
   ]
  },
  {
   "cell_type": "code",
   "execution_count": 119,
   "id": "e1b19994",
   "metadata": {},
   "outputs": [
    {
     "name": "stdout",
     "output_type": "stream",
     "text": [
      "ret = 190.0\n"
     ]
    }
   ],
   "source": [
    "src = cv2.imread('./cup.png',0)\n",
    "ret, dst = cv2.threshold(src, 190, 255, cv2.THRESH_TOZERO)\n",
    "print('ret =', ret)\n",
    "\n",
    "cv2.imshow('src', src)\n",
    "cv2.imshow('dst', dst)\n",
    "cv2.waitKey()\n",
    "cv2.destroyAllWindows()"
   ]
  },
  {
   "cell_type": "code",
   "execution_count": 114,
   "id": "2dd02ce5",
   "metadata": {},
   "outputs": [
    {
     "name": "stdout",
     "output_type": "stream",
     "text": [
      "ret = 180.0\n"
     ]
    }
   ],
   "source": [
    "src = cv2.imread('./cup.png',0)\n",
    "ret, dst = cv2.threshold(src, 180, 255, cv2.THRESH_TOZERO_INV)\n",
    "print('ret =', ret)\n",
    "\n",
    "cv2.imshow('src', src)\n",
    "cv2.imshow('dst', dst)\n",
    "cv2.waitKey()\n",
    "cv2.destroyAllWindows()"
   ]
  },
  {
   "cell_type": "code",
   "execution_count": 161,
   "id": "4ea24c85",
   "metadata": {},
   "outputs": [],
   "source": [
    "src = cv2.imread('./opencv_logo.png', 0)\n",
    "ret, dst = cv2.threshold(src, 200, 255, cv2.THRESH_BINARY)\n",
    "\n",
    "cv2.imshow('src', src)\n",
    "cv2.imshow('dst', dst)\n",
    "cv2.waitKey()\n",
    "cv2.destroyAllWindows()"
   ]
  },
  {
   "cell_type": "code",
   "execution_count": 159,
   "id": "5e8ae789",
   "metadata": {},
   "outputs": [],
   "source": [
    "src = cv2.imread('./opencv_logo.png')\n",
    "ret, dst = cv2.threshold(src, 150, 255, cv2.THRESH_BINARY_INV)\n",
    "\n",
    "cv2.imshow('src', src)\n",
    "cv2.imshow('dst', dst)\n",
    "cv2.waitKey()\n",
    "cv2.destroyAllWindows()"
   ]
  },
  {
   "cell_type": "code",
   "execution_count": 162,
   "id": "a9e4fa74",
   "metadata": {},
   "outputs": [],
   "source": [
    "src = cv2.imread('./opencv_logo.png', 0)\n",
    "ret, dst = cv2.threshold(src, 200, 255, cv2.THRESH_BINARY_INV)\n",
    "\n",
    "cv2.imshow('src', src)\n",
    "cv2.imshow('dst', dst)\n",
    "cv2.waitKey()\n",
    "cv2.destroyAllWindows()"
   ]
  },
  {
   "cell_type": "code",
   "execution_count": 158,
   "id": "9d087ee8",
   "metadata": {},
   "outputs": [],
   "source": [
    "#### src = cv2.imread('./opencv_logo.png',)\n",
    "ret, dst = cv2.threshold(src,50, 255, cv2.THRESH_TOZERO)\n",
    "\n",
    "cv2.imshow('src', src)\n",
    "cv2.imshow('dst', dst)\n",
    "cv2.waitKey()\n",
    "cv2.destroyAllWindows()"
   ]
  },
  {
   "cell_type": "code",
   "execution_count": 165,
   "id": "c6bc1da4",
   "metadata": {},
   "outputs": [
    {
     "name": "stdout",
     "output_type": "stream",
     "text": [
      "[163 162 161 160 163 157 163 162 165 161]\n",
      "[255 255 255 255 255 255 255 255 255 255]\n"
     ]
    }
   ],
   "source": [
    "src1 = cv2.imread('./lena.jpg',0)\n",
    "src2 = np.zeros(shape=(512,512), dtype=np.uint8) + 255\n",
    "\n",
    "print(src1[0,:10])\n",
    "print(src2[0,:10])"
   ]
  },
  {
   "cell_type": "code",
   "execution_count": 166,
   "id": "64fc63a6",
   "metadata": {},
   "outputs": [
    {
     "name": "stdout",
     "output_type": "stream",
     "text": [
      "[163 162 161 160 163 157 163 162 165 161]\n",
      "[92 93 94 95 92 98 92 93 90 94]\n"
     ]
    }
   ],
   "source": [
    "dst1 = 255-src1 #inverse\n",
    "print(src1[0,:10])\n",
    "print(dst1[0,:10])"
   ]
  },
  {
   "cell_type": "code",
   "execution_count": 167,
   "id": "7a1dc626",
   "metadata": {},
   "outputs": [
    {
     "name": "stdout",
     "output_type": "stream",
     "text": [
      "[163 162 161 160 163 157 163 162 165 161]\n",
      "[92 93 94 95 92 98 92 93 90 94]\n"
     ]
    }
   ],
   "source": [
    "dst2 = cv2.subtract(src2, src1)\n",
    "print(src1[0,:10])\n",
    "print(dst2[0,:10])"
   ]
  },
  {
   "cell_type": "code",
   "execution_count": 169,
   "id": "4ddbb4be",
   "metadata": {},
   "outputs": [
    {
     "name": "stdout",
     "output_type": "stream",
     "text": [
      "[163 162 161 160 163 157 163 162 165 161]\n",
      "[255 255 255 255 255 255 255 255 255 255]\n"
     ]
    }
   ],
   "source": [
    "dst3 = cv2.compare(dst1, dst2, cv2.CMP_EQ)\n",
    "print(src1[0,:10])\n",
    "print(dst3[0,:10])"
   ]
  },
  {
   "cell_type": "code",
   "execution_count": 170,
   "id": "c2422bb0",
   "metadata": {},
   "outputs": [
    {
     "name": "stdout",
     "output_type": "stream",
     "text": [
      "[163 162 161 160 163 157 163 162 165 161]\n",
      "[0 0 0 0 0 0 0 0 0 0]\n"
     ]
    }
   ],
   "source": [
    "dst4 = cv2.compare(dst1, dst2, cv2.CMP_NE)\n",
    "print(src1[0,:10])\n",
    "print(dst4[0,:10])"
   ]
  },
  {
   "cell_type": "code",
   "execution_count": 171,
   "id": "ec651989",
   "metadata": {},
   "outputs": [
    {
     "name": "stdout",
     "output_type": "stream",
     "text": [
      "[163 162 161 160 163 157 163 162 165 161]\n",
      "[0 0 0 0 0 0 0 0 0 0]\n"
     ]
    }
   ],
   "source": [
    "dst5 = cv2.compare(dst1, dst2, cv2.CMP_GT)\n",
    "print(src1[0,:10])\n",
    "print(dst5[0,:10])"
   ]
  },
  {
   "cell_type": "code",
   "execution_count": 172,
   "id": "34515d2d",
   "metadata": {},
   "outputs": [
    {
     "name": "stdout",
     "output_type": "stream",
     "text": [
      "[163 162 161 160 163 157 163 162 165 161]\n",
      "[255 255 255 255 255 255 255 255 255 255]\n"
     ]
    }
   ],
   "source": [
    "dst6 = cv2.compare(dst1, dst2, cv2.CMP_GE)\n",
    "print(src1[0,:10])\n",
    "print(dst6[0,:10])"
   ]
  },
  {
   "cell_type": "code",
   "execution_count": 173,
   "id": "92a75e38",
   "metadata": {},
   "outputs": [
    {
     "name": "stdout",
     "output_type": "stream",
     "text": [
      "[163 162 161 160 163 157 163 162 165 161]\n",
      "[0 0 0 0 0 0 0 0 0 0]\n"
     ]
    }
   ],
   "source": [
    "dst7 = cv2.compare(dst1, dst2, cv2.CMP_LT)\n",
    "print(src1[0,:10])\n",
    "print(dst7[0,:10])"
   ]
  },
  {
   "cell_type": "code",
   "execution_count": 174,
   "id": "4e6722d4",
   "metadata": {},
   "outputs": [
    {
     "name": "stdout",
     "output_type": "stream",
     "text": [
      "[163 162 161 160 163 157 163 162 165 161]\n",
      "[255 255 255 255 255 255 255 255 255 255]\n"
     ]
    }
   ],
   "source": [
    "dst8 = cv2.compare(dst1, dst2, cv2.CMP_LE)\n",
    "print(src1[0,:10])\n",
    "print(dst8[0,:10])"
   ]
  },
  {
   "cell_type": "code",
   "execution_count": 176,
   "id": "c92c464c",
   "metadata": {},
   "outputs": [],
   "source": [
    "cv2.imshow('src1', src1)\n",
    "cv2.imshow('dst1', dst1)\n",
    "cv2.imshow('dst2', dst2)\n",
    "cv2.imshow('dst3', dst3)\n",
    "cv2.imshow('dst4', dst4)\n",
    "cv2.imshow('dst5', dst5)\n",
    "cv2.imshow('dst6', dst6)\n",
    "cv2.imshow('dst7', dst7)\n",
    "cv2.imshow('dst8', dst8)\n",
    "\n",
    "cv2.waitKey()\n",
    "cv2.destroyAllWindows()"
   ]
  },
  {
   "cell_type": "code",
   "execution_count": null,
   "id": "f5bfe1ac",
   "metadata": {},
   "outputs": [],
   "source": []
  }
 ],
 "metadata": {
  "kernelspec": {
   "display_name": "Python 3 (ipykernel)",
   "language": "python",
   "name": "python3"
  },
  "language_info": {
   "codemirror_mode": {
    "name": "ipython",
    "version": 3
   },
   "file_extension": ".py",
   "mimetype": "text/x-python",
   "name": "python",
   "nbconvert_exporter": "python",
   "pygments_lexer": "ipython3",
   "version": "3.9.13"
  }
 },
 "nbformat": 4,
 "nbformat_minor": 5
}
