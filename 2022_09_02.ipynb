{
 "cells": [
  {
   "cell_type": "code",
   "execution_count": 1,
   "id": "14739b14",
   "metadata": {},
   "outputs": [],
   "source": [
    "class MyClass:\n",
    "    \n",
    "    def one(self, number):\n",
    "        self.number = number #클래스 속성 ->인스턴스 속성으로 바꿔줘야 함\n",
    "    \n",
    "    def inc_10(self):\n",
    "        self.number += 10\n",
    "    \n",
    "    def inc_20(self):\n",
    "        self.number += 20"
   ]
  },
  {
   "cell_type": "code",
   "execution_count": 2,
   "id": "d7e702b1",
   "metadata": {},
   "outputs": [],
   "source": [
    "m3 = MyClass()\n",
    "m4 = MyClass()"
   ]
  },
  {
   "cell_type": "code",
   "execution_count": 3,
   "id": "5d917c71",
   "metadata": {},
   "outputs": [],
   "source": [
    "m3.one(100)"
   ]
  },
  {
   "cell_type": "code",
   "execution_count": 4,
   "id": "f23d78c5",
   "metadata": {},
   "outputs": [],
   "source": [
    "m4.one(100)"
   ]
  },
  {
   "cell_type": "code",
   "execution_count": 5,
   "id": "52b928e8",
   "metadata": {},
   "outputs": [],
   "source": [
    "m5 = MyClass()"
   ]
  },
  {
   "cell_type": "code",
   "execution_count": 6,
   "id": "09a0684c",
   "metadata": {},
   "outputs": [],
   "source": [
    "m5.one(0)"
   ]
  },
  {
   "cell_type": "code",
   "execution_count": 8,
   "id": "ab3c5cf7",
   "metadata": {},
   "outputs": [],
   "source": [
    "m5.inc_10()"
   ]
  },
  {
   "cell_type": "code",
   "execution_count": 9,
   "id": "14bb2ab1",
   "metadata": {},
   "outputs": [
    {
     "data": {
      "text/plain": [
       "10"
      ]
     },
     "execution_count": 9,
     "metadata": {},
     "output_type": "execute_result"
    }
   ],
   "source": [
    "m5.number"
   ]
  },
  {
   "cell_type": "code",
   "execution_count": 10,
   "id": "aedaa5c9",
   "metadata": {},
   "outputs": [
    {
     "data": {
      "text/plain": [
       "__main__.MyClass"
      ]
     },
     "execution_count": 10,
     "metadata": {},
     "output_type": "execute_result"
    }
   ],
   "source": [
    "type(m5)"
   ]
  },
  {
   "cell_type": "code",
   "execution_count": 27,
   "id": "885fecaf",
   "metadata": {},
   "outputs": [],
   "source": [
    "class Encore:\n",
    "    \n",
    "    def f(self,a,b):\n",
    "        self.a = a\n",
    "        self.b = b \n",
    "\n",
    "x = Encore()\n",
    "y = Encore()\n",
    "x.f(5,8)\n",
    "y.f(6,7)"
   ]
  },
  {
   "cell_type": "code",
   "execution_count": 32,
   "id": "ff950df2",
   "metadata": {},
   "outputs": [
    {
     "name": "stdout",
     "output_type": "stream",
     "text": [
      "5\n",
      "8\n"
     ]
    }
   ],
   "source": [
    "print(x.a)\n",
    "print(x.b)"
   ]
  },
  {
   "cell_type": "code",
   "execution_count": 34,
   "id": "12e46453",
   "metadata": {},
   "outputs": [
    {
     "name": "stdout",
     "output_type": "stream",
     "text": [
      "6\n",
      "7\n"
     ]
    }
   ],
   "source": [
    "print(y.a)\n",
    "print(y.b)"
   ]
  },
  {
   "cell_type": "code",
   "execution_count": 38,
   "id": "748fc5bb",
   "metadata": {},
   "outputs": [
    {
     "name": "stdout",
     "output_type": "stream",
     "text": [
      "영희 140561302744688\n",
      "경희 140561285124912\n"
     ]
    }
   ],
   "source": [
    "class Woman:\n",
    "    address = '서울'\n",
    "    def __init__(self, name):\n",
    "        self.name = name\n",
    "w1 = Woman('영희')\n",
    "w2 = Woman('경희')\n",
    "\n",
    "print(w1.name, id(w1.name))\n",
    "print(w2.name, id(w2.name))"
   ]
  },
  {
   "cell_type": "code",
   "execution_count": 39,
   "id": "e96ac12f",
   "metadata": {},
   "outputs": [
    {
     "name": "stdout",
     "output_type": "stream",
     "text": [
      "서울 140561302672176\n",
      "서울 140561302672176\n"
     ]
    }
   ],
   "source": [
    "print(w1.address, id(w1.address))\n",
    "print(w2.address, id(w2.address))\n"
   ]
  },
  {
   "cell_type": "code",
   "execution_count": 40,
   "id": "d78302a2",
   "metadata": {},
   "outputs": [
    {
     "name": "stdout",
     "output_type": "stream",
     "text": [
      "서울 140561302672176\n"
     ]
    }
   ],
   "source": [
    "print(Woman.address, id(Woman.address))"
   ]
  },
  {
   "cell_type": "code",
   "execution_count": 44,
   "id": "ef48c548",
   "metadata": {},
   "outputs": [
    {
     "ename": "AttributeError",
     "evalue": "type object 'Woman' has no attribute 'name'",
     "output_type": "error",
     "traceback": [
      "\u001b[0;31m---------------------------------------------------------------------------\u001b[0m",
      "\u001b[0;31mAttributeError\u001b[0m                            Traceback (most recent call last)",
      "Input \u001b[0;32mIn [44]\u001b[0m, in \u001b[0;36m<cell line: 1>\u001b[0;34m()\u001b[0m\n\u001b[0;32m----> 1\u001b[0m \u001b[38;5;28mprint\u001b[39m(\u001b[43mWoman\u001b[49m\u001b[38;5;241;43m.\u001b[39;49m\u001b[43mname\u001b[49m)\n",
      "\u001b[0;31mAttributeError\u001b[0m: type object 'Woman' has no attribute 'name'"
     ]
    }
   ],
   "source": [
    "print(Woman.name)"
   ]
  },
  {
   "cell_type": "code",
   "execution_count": 47,
   "id": "0c4de8e3",
   "metadata": {},
   "outputs": [
    {
     "name": "stdout",
     "output_type": "stream",
     "text": [
      "부산 140560455612912\n",
      "부산 140560455612912\n",
      "부산 140560455612912\n"
     ]
    }
   ],
   "source": [
    "Woman.address = \"부산\"\n",
    "print(w1.address, id(w1.address))\n",
    "print(w2.address, id(w2.address))\n",
    "print(Woman.address, id(Woman.address))"
   ]
  },
  {
   "cell_type": "code",
   "execution_count": null,
   "id": "0d4bbd76",
   "metadata": {},
   "outputs": [],
   "source": []
  }
 ],
 "metadata": {
  "kernelspec": {
   "display_name": "Python 3 (ipykernel)",
   "language": "python",
   "name": "python3"
  },
  "language_info": {
   "codemirror_mode": {
    "name": "ipython",
    "version": 3
   },
   "file_extension": ".py",
   "mimetype": "text/x-python",
   "name": "python",
   "nbconvert_exporter": "python",
   "pygments_lexer": "ipython3",
   "version": "3.9.12"
  }
 },
 "nbformat": 4,
 "nbformat_minor": 5
}
