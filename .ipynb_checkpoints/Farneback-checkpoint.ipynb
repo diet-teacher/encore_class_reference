{
 "cells": [
  {
   "cell_type": "code",
   "execution_count": 8,
   "metadata": {},
   "outputs": [],
   "source": [
    "import cv2\n",
    "import numpy as np\n",
    "\n",
    "#1\n",
    "# flow 를 그리는 함수 생성\n",
    "def drawFlow(img, flow, thresh=2, stride=8):\n",
    "    h, w = img.shape[:2]\n",
    "    mag, ang = cv2.cartToPolar(flow[...,0], flow[...,1]) # 옵티컬플로우로부터 크기와 각도를 추출\n",
    "    flow2 = np.int32(flow)\n",
    "    for y in range(0, h, stride):\n",
    "        for x in range(0, w, stride):\n",
    "            dx, dy = flow2[y, x]\n",
    "            if mag[y, x] > thresh: # 크기가 일정 이상만 원과 선을 그림\n",
    "                cv2.circle(img, (x, y), 2, (0,255,0), -1)\n",
    "                cv2.line(img, (x, y), (x+dx, y+dy), (255,0,0),1)"
   ]
  },
  {
   "cell_type": "code",
   "execution_count": 9,
   "metadata": {},
   "outputs": [],
   "source": [
    "#2\n",
    "\n",
    "# cap = cv2.VideoCapture(path + 'vtest.avi')\n",
    "cap = cv2.VideoCapture('/Users/iseung-won/images/vtest.avi')\n",
    "\n",
    "if (not cap.isOpened()):\n",
    "    print('Error opening video')\n",
    "    \n",
    "height, width = (int(cap.get(cv2.CAP_PROP_FRAME_HEIGHT)), int(cap.get(cv2.CAP_PROP_FRAME_WIDTH)))\n",
    "hsv = np.zeros((height, width, 3), dtype=np.uint8)\n",
    "\n",
    "ret, frame = cap.read()\n",
    "imgP = cv2.cvtColor(frame, cv2.COLOR_BGR2GRAY) # 프레임을 그레이로 변환\n",
    "\n",
    "TH = 2\n",
    "AREA_TH = 50\n",
    "mode = cv2.RETR_EXTERNAL # 윤곽선\n",
    "method = cv2.CHAIN_APPROX_SIMPLE # 윤곽선 포인트만 저장\n",
    "params = dict(pyr_scale=0.5, levels=3, winsize=15, iterations=3, poly_n=5, poly_sigma=1.2, flags=0)\n",
    "# 옵티컬 파나백용 파라미터, 피라미드 스케일 (0.5 보통 올라갈수록 절반씩 줄인다), 피라미드 레벨, 윈사이즈는 평균필터 크기, 세번 돌린다\n",
    "# poly는 각 화소의 다항식으로 근사값을 찾는데 5나 7 사용, 차원, 시그마는 가우시안 쓰는데 1.2 그정도"
   ]
  },
  {
   "cell_type": "code",
   "execution_count": 10,
   "metadata": {},
   "outputs": [
    {
     "name": "stdout",
     "output_type": "stream",
     "text": [
      "t = 1\n"
     ]
    },
    {
     "data": {
      "text/plain": [
       "-1"
      ]
     },
     "execution_count": 10,
     "metadata": {},
     "output_type": "execute_result"
    }
   ],
   "source": [
    "#3\n",
    "t = 0\n",
    "while True:\n",
    "    ret, frame = cap.read()\n",
    "    if not ret:\n",
    "        break\n",
    "    t += 1\n",
    "    print('t =', t)\n",
    "    imgC = cv2.cvtColor(frame, cv2.COLOR_BGR2GRAY)\n",
    "    imgC = cv2.GaussianBlur(imgC, (5,5), 0.5)\n",
    "    \n",
    "    #3-1\n",
    "    flow = cv2.calcOpticalFlowFarneback(imgP, imgC, None, **params) # 이전, 현재 프레임 옵티컬프레임 저장\n",
    "    drawFlow(frame, flow, TH) # 옵티컬플로우 그림\n",
    "    # opticalflow lucas는 두번쓰는 경우가 많은데, 정확도가 상대적으로 떨어지다 보니 서로 비교했는데,\n",
    "    # 파나벡은 한번만 사용, 코드는 간편\n",
    "    \n",
    "    #3-2\n",
    "    mag, ang = cv2.cartToPolar(flow[...,0], flow[...,1])\n",
    "    ret, bImage = cv2.threshold(mag, TH, 255, cv2.THRESH_BINARY) # 기준치 이상값만 1, 나머지 0\n",
    "    bImage = bImage.astype(np.uint8) # 타입 변경\n",
    "    contours, hierarchy = cv2.findContours(bImage, mode, method)\n",
    "    for i, cnt in enumerate(contours):\n",
    "        area = cv2.contourArea(cnt)\n",
    "        if area > AREA_TH:\n",
    "            x, y, width, height = cv2.boundingRect(cnt)\n",
    "            cv2.rectangle(frame, (x, y), (x+width, y+height), (0,0,255), 2)\n",
    "    # 컨투어를 구해서 바운딩박스 구하고 사각형 그리기\n",
    "            \n",
    "    #3-3\n",
    "    cv2.imshow('frame', frame)\n",
    "    imgP = imgC.copy()\n",
    "    key = cv2.waitKey(25)\n",
    "    if key == 27:\n",
    "        break\n",
    "\n",
    "if cap.isOpened():\n",
    "    cap.release()\n",
    "cv2.destroyAllWindows()\n",
    "cv2.waitKey(1)\n",
    "# 루카스는 마우스로 ROI 지정, 파나백은 특징을 구할 필요 없음. 모든 픽셀에 대해 다 계산 하므로, 대신 속도는 아주 느리다\n",
    "# 사실 요즘엔 트랙킹 할 수 있는 좋은 기술이 많이 나와서 옵티컬 플로우를 사용할 필요는 없다."
   ]
  },
  {
   "cell_type": "code",
   "execution_count": null,
   "metadata": {},
   "outputs": [],
   "source": []
  }
 ],
 "metadata": {
  "kernelspec": {
   "display_name": "Python 3 (ipykernel)",
   "language": "python",
   "name": "python3"
  },
  "language_info": {
   "codemirror_mode": {
    "name": "ipython",
    "version": 3
   },
   "file_extension": ".py",
   "mimetype": "text/x-python",
   "name": "python",
   "nbconvert_exporter": "python",
   "pygments_lexer": "ipython3",
   "version": "3.9.13"
  }
 },
 "nbformat": 4,
 "nbformat_minor": 4
}
