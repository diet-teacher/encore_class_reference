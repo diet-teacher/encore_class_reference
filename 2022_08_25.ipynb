{
 "cells": [
  {
   "cell_type": "code",
   "execution_count": 184,
   "id": "84e63a3b",
   "metadata": {},
   "outputs": [
    {
     "name": "stdout",
     "output_type": "stream",
     "text": [
      "성 :  홍\n",
      "이름 :  길동\n",
      "홍길동의 나이 : 30세, 키 : 171.50cm\n"
     ]
    }
   ],
   "source": [
    "name = \"홍길동\"\n",
    "age = 30\n",
    "height = 171.5\n",
    "\n",
    "print('성 : ', name[0])\n",
    "print('이름 : ', name[1:3])\n",
    "print(\"홍길동의 나이 : %d세, 키 : %.2fcm\" %(age, height))"
   ]
  },
  {
   "cell_type": "code",
   "execution_count": 190,
   "id": "fcc7cb9c",
   "metadata": {},
   "outputs": [
    {
     "name": "stdout",
     "output_type": "stream",
     "text": [
      "성 : 홍\n",
      "이름 :  길동\n",
      "홍길동의 나이 : 30세, 키 : 171.50cm\n"
     ]
    }
   ],
   "source": [
    "name = \"홍길동\"\n",
    "age = 30\n",
    "height = 171.5\n",
    "\n",
    "print('성 : {}'.format(name[0]))\n",
    "print('이름 : ', name[1:])\n",
    "print(\"홍길동의 나이 : %d세, 키 : %.2fcm\" %(age, height))"
   ]
  },
  {
   "cell_type": "code",
   "execution_count": 17,
   "id": "7e0844de",
   "metadata": {},
   "outputs": [
    {
     "name": "stdout",
     "output_type": "stream",
     "text": [
      "성 : 홍\n",
      "이름 :  길\n",
      "홍길동의 나이 : 30세, 키 : 171.50cm\n"
     ]
    }
   ],
   "source": [
    "name = \"홍길동\"\n",
    "age = 30\n",
    "height = 171.5\n",
    "\n",
    "print('성 : %s' %(name[0]))\n",
    "print('이름 : ', name[1:2])\n",
    "print(\"홍길동의 나이 : %d세, 키 : %.2fcm\" %(age, height))"
   ]
  },
  {
   "cell_type": "code",
   "execution_count": 27,
   "id": "94c08ac4",
   "metadata": {},
   "outputs": [
    {
     "ename": "SyntaxError",
     "evalue": "unexpected EOF while parsing (3523374901.py, line 8)",
     "output_type": "error",
     "traceback": [
      "\u001b[0;36m  Input \u001b[0;32mIn [27]\u001b[0;36m\u001b[0m\n\u001b[0;31m    print('이름 %s, 국어 : %d, 영어 : %d, 수학 : %d, 평균 : %.1f점' %(name, int(kor), int(eng), int(math), int(avg))\u001b[0m\n\u001b[0m                                                                                                         ^\u001b[0m\n\u001b[0;31mSyntaxError\u001b[0m\u001b[0;31m:\u001b[0m unexpected EOF while parsing\n"
     ]
    }
   ],
   "source": [
    "name = input('학생이름을 입력하세요 : ')\n",
    "kor = input('국어 성적을 입력하세요 : ')\n",
    "eng = input('영어 성적을 입력하세요 : ')\n",
    "math = input('수학 성적을 입력하세요 : ')\n",
    "s = int(kor) + int(eng) + int(math)\n",
    "avg = s / 3\n",
    "\n",
    "print('이름 %s, 국어 : %d, 영어 : %d, 수학 : %d, 평균 : %.1f점' %(name, int(kor), int(eng), int(math), int(avg))"
   ]
  },
  {
   "cell_type": "code",
   "execution_count": 67,
   "id": "70e69af4",
   "metadata": {},
   "outputs": [
    {
     "name": "stdout",
     "output_type": "stream",
     "text": [
      "학생이름을 입력하세요 : tt\n",
      "국어 성적을 입력하세요 : 64\n",
      "영어 성적을 입력하세요 : 75\n",
      "수학 성적을 입력하세요 : 856\n",
      "이름 : tt, 국어 : 64, 영어 : 75, 수학 : 856, 평균 : 331.7점\n"
     ]
    }
   ],
   "source": [
    "name = input('학생이름을 입력하세요 : ')\n",
    "kor = int(input('국어 성적을 입력하세요 : '))\n",
    "eng = int(input('영어 성적을 입력하세요 : '))\n",
    "math = int(input('수학 성적을 입력하세요 : '))\n",
    "avg = (int(kor)+int(eng)+int(math)) / 3\n",
    "\n",
    "\n",
    "print('이름 : %s, 국어 : %d, 영어 : %d, 수학 : %d, 평균 : %.1f점' %(name, kor, eng, math, avg))"
   ]
  },
  {
   "cell_type": "code",
   "execution_count": null,
   "id": "d1780f91",
   "metadata": {},
   "outputs": [],
   "source": [
    "kor"
   ]
  },
  {
   "cell_type": "code",
   "execution_count": 58,
   "id": "3296a7fc",
   "metadata": {},
   "outputs": [
    {
     "name": "stdout",
     "output_type": "stream",
     "text": [
      "{'num': '1', 'name': '김철수', 'kor': 90, 'eng': 80, 'math': 85, 'total': 0, 'avg': 0.0, 'order': 0}\n",
      "0\n",
      "1\n"
     ]
    }
   ],
   "source": [
    "#연산자 활용\n",
    "\n",
    "a = [\n",
    "    {'num':'1','name':'김철수','kor':90,'eng':80,'math':85,'total':0,'avg':0.0,'order':0},\n",
    "    {'num':'2','name':'박제동','kor':90,'eng':85,'math':90,'total':0,'avg':0.0,'order':0},\n",
    "    {'num':'3','name':'홍길동','kor':80,'eng':80,'math':80,'total':0,'avg':0.0,'order':0}\n",
    "]\n",
    "\n",
    "# 1번 학생 정보\n",
    "print(a[0])\n",
    "\n",
    "# 1번 학생 총점\n",
    "print(a[0]['total'])\n",
    "\n",
    "# 1번 학생 총점 변경\n",
    "a[0]['total'] = 1\n",
    "print(a[0]['total'])"
   ]
  },
  {
   "cell_type": "code",
   "execution_count": 71,
   "id": "2f0d1336",
   "metadata": {},
   "outputs": [
    {
     "name": "stdout",
     "output_type": "stream",
     "text": [
      "255\n",
      "265\n",
      "240\n",
      "85.0\n",
      "88.33333333333333\n",
      "80.0\n"
     ]
    }
   ],
   "source": [
    "a[0]['total'] = a[0]['kor'] + a[0]['eng'] +a[0]['math'] #1번 학생 총점 입력\n",
    "a[1]['total'] = a[1]['kor'] + a[1]['eng'] +a[1]['math'] #2번 학생 총점 입력\n",
    "a[2]['total'] = a[2]['kor'] + a[2]['eng'] +a[2]['math'] #3번 학생 총점 입력\n",
    "print(a[0]['total']) #1번 학생 결과 출력\n",
    "print(a[1]['total']) #2번 학생 결과 출력\n",
    "print(a[2]['total']) #3번 학생 결과 출력\n",
    "a[0]['avg'] = a[0]['total']/3 #1번 학생 평균 입력\n",
    "a[1]['avg'] = a[1]['total']/3 #2번 학생 평균 입력\n",
    "a[2]['avg'] = a[2]['total']/3 #3번 학생 평균 입력\n",
    "print(a[0]['avg']) #1번 학생 결과 출력\n",
    "print(a[1]['avg']) #2번 학생 결과 출력\n",
    "print(a[2]['avg']) #3번 학생 결과 출력"
   ]
  },
  {
   "cell_type": "code",
   "execution_count": 84,
   "id": "9d94e0e4",
   "metadata": {},
   "outputs": [
    {
     "name": "stdout",
     "output_type": "stream",
     "text": [
      "[{'num': '1', 'name': '김철수', 'kor': 90, 'eng': 80, 'math': 85, 'total': 255, 'avg': 85.0, 'order': 0}, {'num': '2', 'name': '박제동', 'kor': 90, 'eng': 85, 'math': 90, 'total': 265, 'avg': 88.33333333333333, 'order': 0}, {'num': '3', 'name': '홍길동', 'kor': 80, 'eng': 80, 'math': 80, 'total': 240, 'avg': 80.0, 'order': 0}]\n"
     ]
    }
   ],
   "source": [
    "print(a)"
   ]
  },
  {
   "cell_type": "code",
   "execution_count": 93,
   "id": "101ee385",
   "metadata": {},
   "outputs": [
    {
     "name": "stdout",
     "output_type": "stream",
     "text": [
      "[{'num': '1', 'name': '김철수', 'kor': 90, 'eng': 80, 'math': 85, 'total': 255, 'avg': 85.0, 'order': 0}, {'num': '2', 'name': '박제동', 'kor': 90, 'eng': 85, 'math': 90, 'total': 265, 'avg': 88.33333333333333, 'order': 0}, {'num': '3', 'name': '홍길동', 'kor': 80, 'eng': 80, 'math': 80, 'total': 240, 'avg': 80.0, 'order': 0}, {'학급평균': 0, '국어평균': 0, '영어평균': 0, '수학평균': 0}]\n"
     ]
    }
   ],
   "source": [
    "a.append({'학급평균':0, '국어평균':0, '영어평균':0,'수학평균':0,})\n",
    "print(a)"
   ]
  },
  {
   "cell_type": "code",
   "execution_count": 101,
   "id": "efc82c4e",
   "metadata": {},
   "outputs": [
    {
     "name": "stdout",
     "output_type": "stream",
     "text": [
      "84.44\n",
      "86.67\n",
      "81.67\n",
      "85.00\n"
     ]
    }
   ],
   "source": [
    "# 학급 평균 구하기\n",
    "a[3]['학급평균'] = (a[0]['avg']+a[1]['avg']+a[2]['avg'])/ 3\n",
    "# 국어 평균 구하기\n",
    "a[3]['국어평균'] = (a[0]['kor']+a[1]['kor']+a[2]['kor'])/ 3\n",
    "# 영어 평균 구하기\n",
    "a[3]['영어평균'] = (a[0]['eng']+a[1]['eng']+a[2]['eng'])/ 3\n",
    "# 수학 평균 구하기\n",
    "a[3]['수학평균'] = (a[0]['math']+a[1]['math']+a[2]['math'])/3\n",
    "\n",
    "print('%.2f' %a[3]['학급평균'])\n",
    "print('%.2f' %a[3]['국어평균'])\n",
    "print('%.2f' %a[3]['영어평균'])\n",
    "print('%.2f' %a[3]['수학평균'])"
   ]
  },
  {
   "cell_type": "code",
   "execution_count": 109,
   "id": "f113b385",
   "metadata": {},
   "outputs": [
    {
     "name": "stdout",
     "output_type": "stream",
     "text": [
      "참입니다\n"
     ]
    }
   ],
   "source": [
    "if True:\n",
    "    print('참입니다')\n",
    "else:\n",
    "    print('거짓입니다.')"
   ]
  },
  {
   "cell_type": "code",
   "execution_count": 105,
   "id": "5c7a5e14",
   "metadata": {},
   "outputs": [
    {
     "name": "stdout",
     "output_type": "stream",
     "text": [
      "거짓입니다.\n"
     ]
    }
   ],
   "source": [
    "if False:\n",
    "    print('참입니다')\n",
    "else:\n",
    "        print('거짓입니다.')"
   ]
  },
  {
   "cell_type": "code",
   "execution_count": 129,
   "id": "8a2de768",
   "metadata": {},
   "outputs": [
    {
     "name": "stdout",
     "output_type": "stream",
     "text": [
      "숫자를 입력하세요 : -4\n",
      "   0또는 음수!    \n"
     ]
    }
   ],
   "source": [
    "x = int(input('숫자를 입력하세요 : '))\n",
    "if x>0:\n",
    "    print('{:^18}'.format('양수!'))\n",
    "else: \n",
    "    print('{:^14}'.format('0또는 음수!'))"
   ]
  },
  {
   "cell_type": "code",
   "execution_count": 135,
   "id": "0b4b5bdf",
   "metadata": {},
   "outputs": [
    {
     "name": "stdout",
     "output_type": "stream",
     "text": [
      "가지고 있는 돈은?4999\n",
      "버스를 탄다.\n"
     ]
    }
   ],
   "source": [
    "money = int(input('가지고 있는 돈은?'))\n",
    "if money>=5000:\n",
    "    print('택시를 탄다.')\n",
    "else:\n",
    "    print('버스를 탄다.')"
   ]
  },
  {
   "cell_type": "code",
   "execution_count": 145,
   "id": "3f9ffbf3",
   "metadata": {},
   "outputs": [
    {
     "name": "stdout",
     "output_type": "stream",
     "text": [
      "평점을 입력하세요. : 4.4\n",
      "'장학금 수여 대상' \n",
      "   축하합니다!\n"
     ]
    }
   ],
   "source": [
    "grade = float(input('평점을 입력하세요. : '))\n",
    "if grade >= 4.3:\n",
    "    print(\"'장학금 수여 대상' \\n   축하합니다!\")"
   ]
  },
  {
   "cell_type": "code",
   "execution_count": 144,
   "id": "514759b1",
   "metadata": {},
   "outputs": [
    {
     "name": "stdout",
     "output_type": "stream",
     "text": [
      "평점을 입력하세요. : 4\n",
      "장학금 수여 대상이 아닙니다.\n"
     ]
    }
   ],
   "source": [
    "grade = float(input('평점을 입력하세요. : '))\n",
    "if grade >= 4.3:\n",
    "    print(\"'장학금 수여 대상' \\n   축하합니다!\")\n",
    "else:\n",
    "    print('장학금 수여 대상이 아닙니다.')"
   ]
  },
  {
   "cell_type": "code",
   "execution_count": 150,
   "id": "428fad3a",
   "metadata": {},
   "outputs": [
    {
     "name": "stdout",
     "output_type": "stream",
     "text": [
      "숫자를 입력하세요. : 17\n",
      "홀수입니다.\n"
     ]
    }
   ],
   "source": [
    "num = int(input('숫자를 입력하세요. : '))\n",
    "\n",
    "if num%2==0:\n",
    "    print('짝수입니다.')\n",
    "else:\n",
    "    print('홀수입니다.')"
   ]
  },
  {
   "cell_type": "code",
   "execution_count": 156,
   "id": "014557ef",
   "metadata": {},
   "outputs": [
    {
     "name": "stdout",
     "output_type": "stream",
     "text": [
      "숫자를 입력하세요. : 2\n",
      "2 짝수이다.\n",
      "짝짝짝\n",
      "if문 끝\n"
     ]
    }
   ],
   "source": [
    "su = int(input('숫자를 입력하세요. : '))\n",
    "\n",
    "if su%2==0:\n",
    "    print('%d 짝수이다.' %su)\n",
    "    print('짝짝짝')\n",
    "else:\n",
    "    print('%d 홀수이다.' %su)\n",
    "    print('홀홀홀')\n",
    "print('if문 끝')"
   ]
  },
  {
   "cell_type": "code",
   "execution_count": 161,
   "id": "1711c711",
   "metadata": {},
   "outputs": [
    {
     "name": "stdout",
     "output_type": "stream",
     "text": [
      "나이를 입력하세요. : 32\n",
      "키를 입력하세요. : 173\n",
      "보통키\n"
     ]
    }
   ],
   "source": [
    "age = int(input('나이를 입력하세요. : '))\n",
    "height = int(input('키를 입력하세요. : '))\n",
    "\n",
    "if age>=40:\n",
    "    if height >= 170:\n",
    "        print('큰키')\n",
    "    else:\n",
    "        print('보통키')\n",
    "else:\n",
    "    if height >= 175:\n",
    "        print('큰키')\n",
    "    else:\n",
    "        print('보통키')"
   ]
  },
  {
   "cell_type": "code",
   "execution_count": 182,
   "id": "82d57a0b",
   "metadata": {},
   "outputs": [
    {
     "name": "stdout",
     "output_type": "stream",
     "text": [
      "점수를 입력하세요. : 89\n",
      "B\n"
     ]
    }
   ],
   "source": [
    "score = int(input('점수를 입력하세요. : '))\n",
    "if score >= 90:\n",
    "    print('A')\n",
    "else:\n",
    "    if score <90 and score >=80:\n",
    "        print('B')\n",
    "    else:\n",
    "        if score <80 and score >=70:\n",
    "                print('C')\n",
    "        else:\n",
    "            if score <70 and score >=60:\n",
    "                    print('D')\n",
    "            else:\n",
    "                    print('F')\n",
    "                "
   ]
  },
  {
   "cell_type": "code",
   "execution_count": 179,
   "id": "22841138",
   "metadata": {},
   "outputs": [
    {
     "name": "stdout",
     "output_type": "stream",
     "text": [
      "점수를 입력하세요. : 67\n",
      "D\n",
      "if문 끝\n"
     ]
    }
   ],
   "source": [
    "score = int(input('점수를 입력하세요. : '))\n",
    "if score >= 90:\n",
    "    print('A')\n",
    "elif score <90 and score >=80:\n",
    "        print('B')\n",
    "elif score <80 and score >=70:\n",
    "        print('C')\n",
    "elif score <70 and score >=60:\n",
    "        print('D')\n",
    "else:\n",
    "        print('F')\n",
    "\n",
    "print('if문 끝')"
   ]
  },
  {
   "cell_type": "code",
   "execution_count": 191,
   "id": "a24dec38",
   "metadata": {},
   "outputs": [
    {
     "name": "stdout",
     "output_type": "stream",
     "text": [
      "필기 성적을 입력하세요 : 3\n",
      "실기 성적을 입력하세요 : 3\n",
      "불합격!\n",
      "if 문 끝\n"
     ]
    }
   ],
   "source": [
    "score1 = int(input('필기 성적을 입력하세요 : '))\n",
    "score2 = int(input('실기 성적을 입력하세요 : '))\n",
    "\n",
    "if score1>=80 and score2>=80: #필기 점수와 실기 점수 모두 80이상 일때 합격\n",
    "    print('합격!')\n",
    "else:\n",
    "    print('불합격!')\n",
    "print('if 문 끝')"
   ]
  },
  {
   "cell_type": "markdown",
   "id": "9a83846d",
   "metadata": {},
   "source": []
  },
  {
   "cell_type": "code",
   "execution_count": 207,
   "id": "d141773a",
   "metadata": {},
   "outputs": [
    {
     "name": "stdout",
     "output_type": "stream",
     "text": [
      "아이디를 입력하세요 : 22\n",
      "회원 레벨을 입력하세요. : 22\n",
      "관리자가 아니다.\n"
     ]
    }
   ],
   "source": [
    "i = input('아이디를 입력하세요 : ')\n",
    "l = int(input('회원 레벨을 입력하세요. : '))\n",
    "\n",
    "if i == 'admin':\n",
    "    print('관리자이다.')\n",
    "elif l == 1:\n",
    "    print('관리자이다.')\n",
    "else:\n",
    "        print('관리자가 아니다.')"
   ]
  },
  {
   "cell_type": "code",
   "execution_count": 210,
   "id": "d1192d25",
   "metadata": {},
   "outputs": [
    {
     "name": "stdout",
     "output_type": "stream",
     "text": [
      "아이디를 입력하세요 : d\n",
      "회원 레벨을 입력하세요. : 1\n",
      "관리자이다.\n"
     ]
    }
   ],
   "source": [
    "i = input('아이디를 입력하세요 : ')\n",
    "l = int(input('회원 레벨을 입력하세요. : '))\n",
    "\n",
    "if i == 'admin' or l == 1:\n",
    "    print('관리자이다.')\n",
    "else:\n",
    "    print('관리자가 아니다.')"
   ]
  },
  {
   "cell_type": "code",
   "execution_count": 219,
   "id": "54df68ca",
   "metadata": {},
   "outputs": [
    {
     "name": "stdout",
     "output_type": "stream",
     "text": [
      "이름을 입력하세요. : \n",
      "이름이 입력되지 않았다.\n"
     ]
    }
   ],
   "source": [
    "name = input('이름을 입력하세요. : ')\n",
    "if not name: #아무것도 입력하지 않고 enter시 '이름이 입력되지 않았다.' 출력\n",
    "    print('이름이 입력되지 않았다.')\n",
    "else: #입력된 값을 이름으로 출력 \n",
    "    print('이름 : %s' %name)"
   ]
  },
  {
   "cell_type": "code",
   "execution_count": 301,
   "id": "32c12f57",
   "metadata": {},
   "outputs": [
    {
     "name": "stdout",
     "output_type": "stream",
     "text": [
      "나이를 입력하세요. : 3\n",
      "무료\n"
     ]
    }
   ],
   "source": [
    "pay = '3000원'\n",
    "age = int(input('나이를 입력하세요. : '))\n",
    "\n",
    "if age >=65 or age<7:\n",
    "    print('무료')\n",
    "else:\n",
    "    print('입장료 : %s' %pay)"
   ]
  },
  {
   "cell_type": "code",
   "execution_count": 303,
   "id": "6aca856f",
   "metadata": {},
   "outputs": [
    {
     "name": "stdout",
     "output_type": "stream",
     "text": [
      "나이를 입력하세요. : 66\n"
     ]
    }
   ],
   "source": [
    "pay = '3000원'\n",
    "age = int(input('나이를 입력하세요. : '))\n",
    "\n",
    "if age >=65 or age<7:\n",
    "    pay = '무료'\n",
    "\n",
    "else:\n",
    "    print('입장료 %s' %pay)"
   ]
  },
  {
   "cell_type": "code",
   "execution_count": 226,
   "id": "c9b07d29",
   "metadata": {},
   "outputs": [
    {
     "name": "stdout",
     "output_type": "stream",
     "text": [
      "비밀번호를 입력하세요. : 12345\n",
      "로그인 되었습니다.\n"
     ]
    }
   ],
   "source": [
    "p = '12345'\n",
    "pp = input('비밀번호를 입력하세요. : ')\n",
    "if p==pp:\n",
    "    print('로그인 되었습니다.')\n",
    "else:\n",
    "    print('비밀번로 Not OK!')"
   ]
  },
  {
   "cell_type": "code",
   "execution_count": 269,
   "id": "73ba63b2",
   "metadata": {},
   "outputs": [
    {
     "name": "stdout",
     "output_type": "stream",
     "text": [
      "월을 입력하세요. : 1\n",
      "1월은 겨울입니다.\n"
     ]
    }
   ],
   "source": [
    "q = int(input('월을 입력하세요. : '))\n",
    "if q >=3 and q <=5:\n",
    "    print('%d월은 봄입니다.'%q)\n",
    "elif q==6 or q==7 or q==8:\n",
    "    print('%d월은 여름입니다.'%q)\n",
    "elif 9<=q<=11:\n",
    "    print('%d월은 가을입니다.'%q)\n",
    "elif q in [12,1,2]:\n",
    "    print('%d월은 겨울입니다.'%q)"
   ]
  },
  {
   "cell_type": "code",
   "execution_count": 270,
   "id": "1802a9ca",
   "metadata": {},
   "outputs": [
    {
     "name": "stdout",
     "output_type": "stream",
     "text": [
      "월을 입력하세요. : 7\n",
      "7월은 여름입니다.\n"
     ]
    }
   ],
   "source": [
    "q = int(input('월을 입력하세요. : '))\n",
    "if q >=3 and q <=5:\n",
    "    print('%d월은 봄입니다.'%q)\n",
    "if q==6 or q==7 or q==8:\n",
    "    print('%d월은 여름입니다.'%q)\n",
    "if 9<=q<=11:\n",
    "    print('%d월은 가을입니다.'%q)\n",
    "if q in [12,1,2]:\n",
    "    print('%d월은 겨울입니다.'%q)"
   ]
  },
  {
   "cell_type": "code",
   "execution_count": 5,
   "id": "b1032209",
   "metadata": {},
   "outputs": [
    {
     "name": "stdout",
     "output_type": "stream",
     "text": [
      "승리26\n",
      "패배237\n",
      "9.885931558935361\n"
     ]
    }
   ],
   "source": [
    "w = int(input('승리'))\n",
    "l = int(input('패배'))\n",
    "r = w/(w+l)*100\n",
    "print(r)\n"
   ]
  },
  {
   "cell_type": "code",
   "execution_count": 4,
   "id": "0feac144",
   "metadata": {},
   "outputs": [
    {
     "name": "stdout",
     "output_type": "stream",
     "text": [
      "좌석 종류를 입력해주세요.(1. 일반실, 2특실) 1\n",
      "일반실입니다.\n"
     ]
    }
   ],
   "source": [
    "s = int(input('좌석 종류를 입력해주세요.(1. 일반실, 2특실) '))\n",
    "if s == 1:\n",
    "    print('일반실입니다.')\n",
    "elif s == 2:\n",
    "    print('특실입니다.')\n",
    "else:\n",
    "    print('%d는 없는 좌석입니다.'%s)"
   ]
  },
  {
   "cell_type": "code",
   "execution_count": 282,
   "id": "d6c18f17",
   "metadata": {},
   "outputs": [
    {
     "name": "stdout",
     "output_type": "stream",
     "text": [
      "좌석 종류를 입력해주세요.(1. 일반실, 2특실) 3\n",
      "3는 없는 좌석입니다.\n"
     ]
    }
   ],
   "source": [
    "s = int(input('좌석 종류를 입력해주세요.(1. 일반실, 2특실) '))\n",
    "if s == 1:\n",
    "    print('일반실입니다.')\n",
    "if s == 2:\n",
    "    print('특실입니다.')\n",
    "if s not in [1,2]:\n",
    "    print('%d는 없는 좌석입니다.'%s)"
   ]
  },
  {
   "cell_type": "code",
   "execution_count": 353,
   "id": "89fafde1",
   "metadata": {},
   "outputs": [
    {
     "name": "stdout",
     "output_type": "stream",
     "text": [
      "좌석 종류를 입력해 주세요(1:일반실, 2특실)2\n",
      "특실입니다.\n"
     ]
    }
   ],
   "source": [
    "seat = input('좌석 종류를 입력해 주세요(1:일반실, 2특실)')\n",
    "seat1 = '일반실'\n",
    "seat2 = '특실'\n",
    "\n",
    "if seat == '1':\n",
    "    print('%s입니다.' %seat1)\n",
    "elif seat == '2':\n",
    "    print('%s입니다.' %seat2)"
   ]
  },
  {
   "cell_type": "code",
   "execution_count": 290,
   "id": "453cbb54",
   "metadata": {},
   "outputs": [
    {
     "name": "stdout",
     "output_type": "stream",
     "text": [
      "영어 알파벳을 입력하세요. : w\n",
      "w는(은) 모음이다.\n"
     ]
    }
   ],
   "source": [
    "a = input('영어 알파벳을 입력하세요. : ')\n",
    "if a in ['w','W','e','E','y','Y','u','U','i','I','o','O','a','A']:\n",
    "    print(\"%s는(은) 모음이다.\" %a)\n",
    "elif a in ['q','Q','r','R','t','T','p','P','s','S','d','D','f','F','g','G','h','H','j','J','k','K','l','L','z','Z','x','X','c','C','v','V','b','B','n','N','m','M']:\n",
    "    print('%s는(은) 자음이다.' %a)\n",
    "    "
   ]
  },
  {
   "cell_type": "code",
   "execution_count": 339,
   "id": "3b8c212e",
   "metadata": {},
   "outputs": [
    {
     "name": "stdout",
     "output_type": "stream",
     "text": [
      "알파벡을 입력하세요. :d\n",
      "d는(은) 자음이다.\n"
     ]
    }
   ],
   "source": [
    "char = input('알파벡을 입력하세요. :')\n",
    "char2 = char.upper()\n",
    "if char2 in ['A', 'E', 'I', 'O', 'U', 'W']:\n",
    "    print('%s는(은) 모음이다.' %char)\n",
    "else:\n",
    "    print('%s는(은) 자음이다.' %char)"
   ]
  },
  {
   "cell_type": "code",
   "execution_count": 340,
   "id": "313b956c",
   "metadata": {},
   "outputs": [
    {
     "name": "stdout",
     "output_type": "stream",
     "text": [
      "첫 번째 정수를 입력하세요. :12\n",
      "두 번째 정수를 입력하세요. :33\n",
      "세 번째 정수를 입력하세요. :43\n",
      "입력된 세 수 12, 33, 43중에서 가장 큰 수는 43입니다.\n"
     ]
    }
   ],
   "source": [
    "i1 = int(input('첫 번째 정수를 입력하세요. :'))\n",
    "i2 = int(input('두 번째 정수를 입력하세요. :'))\n",
    "i3 = int(input('세 번째 정수를 입력하세요. :'))\n",
    "\n",
    "l = [i1,i2,i3] \t#입력받은 값들을 리스트 l에 저장\n",
    "l.sort() \t#데이터들을 오름차순 정렬\n",
    "l2 = l[-1] \t\t#정렬된 리스트에서 가장 큰 마지막 데이터를 l2에 입력\n",
    "print('입력된 세 수 %d, %d, %d중에서 가장 큰 수는 %d입니다.'%(i1,i2,i3,l2))"
   ]
  },
  {
   "cell_type": "code",
   "execution_count": 343,
   "id": "d77416f8",
   "metadata": {},
   "outputs": [
    {
     "ename": "SyntaxError",
     "evalue": "invalid syntax (4181173588.py, line 1)",
     "output_type": "error",
     "traceback": [
      "\u001b[0;36m  Input \u001b[0;32mIn [343]\u001b[0;36m\u001b[0m\n\u001b[0;31m    del if\u001b[0m\n\u001b[0m        ^\u001b[0m\n\u001b[0;31mSyntaxError\u001b[0m\u001b[0;31m:\u001b[0m invalid syntax\n"
     ]
    }
   ],
   "source": [
    "del if"
   ]
  },
  {
   "cell_type": "code",
   "execution_count": 341,
   "id": "a36c39bc",
   "metadata": {},
   "outputs": [
    {
     "ename": "SyntaxError",
     "evalue": "invalid syntax (651327731.py, line 7)",
     "output_type": "error",
     "traceback": [
      "\u001b[0;36m  Input \u001b[0;32mIn [341]\u001b[0;36m\u001b[0m\n\u001b[0;31m    elif i2 >= i1 and i2 >=i3: # i2이 i1, i3보다 크면 i2을 출력\u001b[0m\n\u001b[0m    ^\u001b[0m\n\u001b[0;31mSyntaxError\u001b[0m\u001b[0;31m:\u001b[0m invalid syntax\n"
     ]
    }
   ],
   "source": [
    "i1 = int(input('첫 번째 정수를 입력하세요. :'))\n",
    "i2 = int(input('두 번째 정수를 입력하세요. :'))\n",
    "i3 = int(input('세 번째 정수를 입력하세요. :'))\n",
    "\n",
    "if i1 >= i2 and i1 >=i3: # i1이 i2, i3보다 크면 i1을 출력\n",
    "    print('입력된 세 수 %d, %d, %d중에서 가장 큰 수는 %d입니다.'%(i1,i2,i3,i1)\n",
    "elif i2 >= i1 and i2 >=i3: # i2이 i1, i3보다 크면 i2을 출력\n",
    "    print('입력된 세 수 %d, %d, %d중에서 가장 큰 수는 %d입니다.'%(i1,i2,i3,i2)\n",
    "else: # i1, i2가 i3보다 크지 않을 경우 i3출력\n",
    "    print('입력된 세 수 %d, %d, %d중에서 가장 큰 수는 %d입니다.'%(i1,i2,i3,i3)"
   ]
  },
  {
   "cell_type": "code",
   "execution_count": 364,
   "id": "bc9b1f1d",
   "metadata": {},
   "outputs": [
    {
     "name": "stdout",
     "output_type": "stream",
     "text": [
      "첫 번째 정수를 입력하세요. :33\n",
      "두 번째 정수를 입력하세요. :33\n",
      "세 번째 정수를 입력하세요. :24\n",
      "입력된 세 수 33, 33, 24중에서 가장 큰 수는 33입니다.\n"
     ]
    }
   ],
   "source": [
    "i1 = int(input('첫 번째 정수를 입력하세요. :'))\n",
    "i2 = int(input('두 번째 정수를 입력하세요. :'))\n",
    "i3 = int(input('세 번째 정수를 입력하세요. :'))\n",
    "\n",
    "if i1 >= i2 and i1 >=i3:\n",
    "    print('입력된 세 수 %d, %d, %d중에서 가장 큰 수는 %d입니다.'%(i1,i2,i3,i1))\n",
    "elif i2 >= i1 and i2 >=i3:\n",
    "    print('입력된 세 수 %d, %d, %d중에서 가장 큰 수는 %d입니다.'%(i1,i2,i3,i2))\n",
    "else:\n",
    "    print('입력된 세 수 %d, %d, %d중에서 가장 큰 수는 %d입니다.'%(i1,i2,i3,i3))"
   ]
  },
  {
   "cell_type": "code",
   "execution_count": 366,
   "id": "f529553c",
   "metadata": {},
   "outputs": [
    {
     "name": "stdout",
     "output_type": "stream",
     "text": [
      "첫 번째 정수를 입력하세요. :43\n",
      "두 번째 정수를 입력하세요. :3\n",
      "세 번째 정수를 입력하세요. :2\n",
      "입력된 세 수 43, 3, 2중에서 가장 큰 수는 43입니다.\n"
     ]
    }
   ],
   "source": [
    "num1 = int(input('첫 번째 정수를 입력하세요. :'))\n",
    "num2 = int(input('두 번째 정수를 입력하세요. :'))\n",
    "num3 = int(input('세 번째 정수를 입력하세요. :'))\n",
    "\n",
    "if num1 >= num2 and num2 >= num3:\n",
    "    largest = num1\n",
    "elif num2>=num1 and num2>=num3:\n",
    "    largest = num2\n",
    "else:\n",
    "    largest = num3\n",
    "    \n",
    "print('입력된 세 수 %d, %d, %d중에서 가장 큰 수는 %d입니다.'%(num1,num2,num3,largest))"
   ]
  },
  {
   "cell_type": "code",
   "execution_count": 363,
   "id": "98e810fd",
   "metadata": {},
   "outputs": [
    {
     "name": "stdout",
     "output_type": "stream",
     "text": [
      "서비스 만족도 : \n",
      " 1:매우 만족\n",
      " 2:만족\n",
      " 3:만족\n",
      "만족도 입력(1 또는 2 또는 3) : 2\n",
      "음식값 입력(예:8000) :9000\n",
      "서비스 만족도 : 매우 만족, 팁 : 900\n"
     ]
    }
   ],
   "source": [
    "print('서비스 만족도 : \\n 1:매우 만족\\n 2:만족\\n 3:만족')\n",
    "m = input('만족도 입력(1 또는 2 또는 3) : ')\n",
    "if m == '1':\n",
    "    p = int(input('음식값 입력(예:8000) :'))\n",
    "    print('서비스 만족도 : 매우 만족, 팁 : %d'%(p*20/100))\n",
    "elif m == '2':\n",
    "    p = int(input('음식값 입력(예:8000) :'))\n",
    "    print('서비스 만족도 : 매우 만족, 팁 : %d'%(p*10/100))\n",
    "elif m == '3':\n",
    "    p = int(input('음식값 입력(예:8000) :'))\n",
    "    print('서비스 만족도 : 매우 만족, 팁 : %d'%(p*15/100))"
   ]
  },
  {
   "cell_type": "code",
   "execution_count": 375,
   "id": "8fdf5807",
   "metadata": {},
   "outputs": [
    {
     "name": "stdout",
     "output_type": "stream",
     "text": [
      "서비스 만족도 : \n",
      "1. 매우 만족\n",
      "2. 만족\n",
      "3. 불만족 서비스\n",
      "만족도 입력(1 또는 2또는 3 : )3\n",
      "음식값 입력 (예:8000원) : 1000\n",
      "서비스 만족도 : 매우만족, 팁 : 50원\n"
     ]
    }
   ],
   "source": [
    "print('''서비스 만족도 : \n",
    "1. 매우 만족\n",
    "2. 만족\n",
    "3. 불만족 서비스''')\n",
    "a = input('만족도 입력(1 또는 2또는 3 : )')\n",
    "price = int(input('음식값 입력 (예:8000원) : '))\n",
    "\n",
    "if a =='1':\n",
    "    tip = price * 0.2\n",
    "    service = '매우 만족'\n",
    "elif a=='2':\n",
    "    tip = price * 0.1\n",
    "    service = '만족'\n",
    "elif a=='3':\n",
    "    tip = price * 0.05\n",
    "    service = '매우만족'\n",
    "print('서비스 만족도 : %s, 팁 : %d원'%(service, tip))"
   ]
  },
  {
   "cell_type": "code",
   "execution_count": 371,
   "id": "86c92693",
   "metadata": {},
   "outputs": [
    {
     "name": "stdout",
     "output_type": "stream",
     "text": [
      "서비스 만족도 : \n",
      "1. 매우 만족\n",
      "2. 만족\n",
      "3. 불만족 서비스\n",
      "만족도 입력(1 또는 2또는 3 : )1\n",
      "음식값 입력 (예:8000원) : 1\n"
     ]
    }
   ],
   "source": [
    "print('''서비스 만족도 : \n",
    "1. 매우 만족\n",
    "2. 만족\n",
    "3. 불만족 서비스''')\n",
    "a = input('만족도 입력(1 또는 2또는 3 : )')\n",
    "price = int(input('음식값 입력 (예:8000원) : '))"
   ]
  },
  {
   "cell_type": "code",
   "execution_count": 381,
   "id": "3856a216",
   "metadata": {},
   "outputs": [
    {
     "name": "stdout",
     "output_type": "stream",
     "text": [
      "서비스 만족도 : \n",
      "* 1 : 매우 만족\n",
      "* 2 : 만족\n",
      "* 3 : 불만족 서비스\n",
      "\n",
      "만족도를 입력하세요(1 또는 2 또는 3) : 1\n",
      "음식값을 입력하세요(예 : 8000) : 9000\n",
      "서비스 만족도 : 매우 만족, 팁 : 1800원\n"
     ]
    }
   ],
   "source": [
    "print('''서비스 만족도 : \n",
    "* 1 : 매우 만족\n",
    "* 2 : 만족\n",
    "* 3 : 불만족 서비스\n",
    "''')\n",
    "# 1 : 가격의 20%\n",
    "# 2 : 가격의 10%\n",
    "# 3 : 가격의 5%\n",
    "\n",
    "sa = int(input('만족도를 입력하세요(1 또는 2 또는 3) : '))\n",
    "price = int(input('음식값을 입력하세요(예 : 8000) : '))\n",
    "\n",
    "#### 딕셔너리 이용 한 줄 코드 ####\n",
    "    \n",
    "sa_s = {1:['매우 만족', 0.2], 2:['만족', 0.1], 3:['불만족', 0.05]}\n",
    "\n",
    "print('서비스 만족도 : %s, 팁 : %d원' %(sa_s[sa][0], price * sa_s[sa][1]))"
   ]
  },
  {
   "cell_type": "code",
   "execution_count": 404,
   "id": "725df39d",
   "metadata": {},
   "outputs": [
    {
     "name": "stdout",
     "output_type": "stream",
     "text": [
      "현재 년을 입력해 주세요 : 2022\n",
      "현재 월을 입력해 주세요 : 8\n",
      "현재 일을 입력해 주세요 : 25\n",
      "출생 년을 입력해 주세요 : 1991\n",
      "출생 월을 입력해 주세요 : 6\n",
      "출생 일을 입력해 주세요 : 30\n",
      "-----------------------------------\n",
      "오늘 날짜 : 2022년 8월 25일\n",
      "생년월일 : 1991년 6월 30일\n",
      "-----------------------------------\n",
      "만 나이 : 30세\n"
     ]
    }
   ],
   "source": [
    "year  = int(input('현재 년을 입력해 주세요 : '))  \n",
    "month = int(input('현재 월을 입력해 주세요 : '))\n",
    "day   = int(input('현재 일을 입력해 주세요 : '))\n",
    "by    = int(input('출생 년을 입력해 주세요 : '))\n",
    "bm    = int(input('출생 월을 입력해 주세요 : ')) \n",
    "bd    = int(input('출생 일을 입력해 주세요 : '))\n",
    "print('-----------------------------------')\n",
    "print('오늘 날짜 : %d년 %d월 %d일'%(year, month, day))\n",
    "print('생년월일 : %d년 %d월 %d일'%(by,bm,bd))\n",
    "print('-----------------------------------')\n",
    "\n",
    "if month >= bm and day >= bd:\n",
    "    ma = year - by\n",
    "else:\n",
    "    ma = year - by - 1\n",
    "print('만 나이 : %d세'%ma)"
   ]
  },
  {
   "cell_type": "code",
   "execution_count": 383,
   "id": "91528c12",
   "metadata": {},
   "outputs": [
    {
     "name": "stdout",
     "output_type": "stream",
     "text": [
      "현재 년을 입력해 주세요 : 2022\n",
      "현재 월을 입력해 주세요 : 8\n",
      "현재 일을 입력해 주세요 : 25\n",
      "출생 년을 입력해 주세요 : 1991\n",
      "출생 월을 입력해 주세요 : 8\n",
      "출생 일을 입력해 주세요 : 23\n",
      "-----------------------------------\n",
      "오늘 날짜 : 2022년 8월 25일\n",
      "생년월일 : 1991년 8월 23일\n",
      "-----------------------------------\n",
      "만 나이 : 31세\n"
     ]
    }
   ],
   "source": [
    "year  = int(input('현재 년을 입력해 주세요 : '))  \n",
    "month = int(input('현재 월을 입력해 주세요 : '))\n",
    "day   = int(input('현재 일을 입력해 주세요 : '))\n",
    "by    = int(input('출생 년을 입력해 주세요 : '))\n",
    "bm    = int(input('출생 월을 입력해 주세요 : ')) \n",
    "bd    = int(input('출생 일을 입력해 주세요 : '))\n",
    "print('-----------------------------------')\n",
    "print('오늘 날짜 : %d년 %d월 %d일'%(year, month, day))\n",
    "print('생년월일 : %d년 %d월 %d일'%(by,bm,bd))\n",
    "print('-----------------------------------')\n",
    "\n",
    "if month >= bm and day >= bd:\n",
    "    ma = year - by\n",
    "else:\n",
    "    ma = year - by - 1\n",
    "print('만 나이 : %d세'%ma)"
   ]
  },
  {
   "cell_type": "code",
   "execution_count": 395,
   "id": "e3d96e85",
   "metadata": {},
   "outputs": [
    {
     "name": "stdout",
     "output_type": "stream",
     "text": [
      "현재 년을 입력해 주세요 : 2022\n",
      "현재 월을 입력해 주세요 : 8\n",
      "현재 일을 입력해 주세요 : 25\n",
      "출생 년을 입력해 주세요 : 1991\n",
      "출생 월을 입력해 주세요 : 8\n",
      "출생 일을 입력해 주세요 : 26\n",
      "-----------------------------------\n",
      "오늘 날짜 : 2022년 8월 25일\n",
      "생년월일 : 1991년 8월 26일\n",
      "-----------------------------------\n",
      "만 나이 : 30세\n"
     ]
    }
   ],
   "source": [
    "year  = int(input('현재 년을 입력해 주세요 : '))  \n",
    "month = int(input('현재 월을 입력해 주세요 : '))\n",
    "day   = int(input('현재 일을 입력해 주세요 : '))\n",
    "by    = int(input('출생 년을 입력해 주세요 : '))\n",
    "bm    = int(input('출생 월을 입력해 주세요 : ')) \n",
    "bd    = int(input('출생 일을 입력해 주세요 : '))\n",
    "print('-----------------------------------')\n",
    "print('오늘 날짜 : %d년 %d월 %d일'%(year, month, day))\n",
    "print('생년월일 : %d년 %d월 %d일'%(by,bm,bd))\n",
    "print('-----------------------------------')\n",
    "\n",
    "if month > bm:\n",
    "    ma = year - by\n",
    "    if day >= bd:\n",
    "        ma = year - by\n",
    "    else:\n",
    "        ma = year - by - 1\n",
    "else:\n",
    "    ma = year - by - 1\n",
    "print('만 나이 : %d세'%ma)"
   ]
  },
  {
   "cell_type": "code",
   "execution_count": 397,
   "id": "3e9f0d1b",
   "metadata": {},
   "outputs": [
    {
     "name": "stdout",
     "output_type": "stream",
     "text": [
      "총점을 입력해 주세요. : 50\n",
      "failure\n"
     ]
    }
   ],
   "source": [
    "score=int(input('총점을 입력해 주세요. : '))\n",
    "if score >= 60:\n",
    "    message = 'success'\n",
    "else:\n",
    "    message = 'failure'\n",
    "print(message)"
   ]
  },
  {
   "cell_type": "code",
   "execution_count": 402,
   "id": "86af8638",
   "metadata": {},
   "outputs": [
    {
     "name": "stdout",
     "output_type": "stream",
     "text": [
      "총점을 입력해 주세요. : 50\n",
      "failure\n"
     ]
    }
   ],
   "source": [
    "score=int(input('총점을 입력해 주세요. : '))\n",
    "\n",
    "message = \"success\" if score >= 60 else \"failure\"\n",
    "print(message)"
   ]
  },
  {
   "cell_type": "code",
   "execution_count": null,
   "id": "6566c85f",
   "metadata": {},
   "outputs": [],
   "source": []
  }
 ],
 "metadata": {
  "kernelspec": {
   "display_name": "Python 3 (ipykernel)",
   "language": "python",
   "name": "python3"
  },
  "language_info": {
   "codemirror_mode": {
    "name": "ipython",
    "version": 3
   },
   "file_extension": ".py",
   "mimetype": "text/x-python",
   "name": "python",
   "nbconvert_exporter": "python",
   "pygments_lexer": "ipython3",
   "version": "3.9.12"
  }
 },
 "nbformat": 4,
 "nbformat_minor": 5
}
