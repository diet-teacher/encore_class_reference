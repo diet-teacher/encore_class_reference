{
 "cells": [
  {
   "cell_type": "code",
   "execution_count": 2,
   "metadata": {},
   "outputs": [],
   "source": [
    "import pandas as pd\n",
    "import numpy as np\n",
    "import matplotlib.pyplot as plt\n",
    "import seaborn as sns\n",
    "from sklearn.preprocessing import LabelEncoder\n",
    "from sklearn.model_selection import train_test_split, GridSearchCV\n",
    "from sklearn.tree import DecisionTreeClassifier\n",
    "from sklearn.ensemble import RandomForestClassifier\n",
    "from sklearn.ensemble import BaggingClassifier\n",
    "from sklearn.ensemble import ExtraTreesClassifier \n",
    "from sklearn.neighbors import KNeighborsClassifier\n",
    "from sklearn.linear_model import LogisticRegression\n",
    "from sklearn.svm import SVC\n",
    "from sklearn.ensemble import VotingClassifier\n",
    "from sklearn.model_selection import GridSearchCV, cross_val_score\n",
    "from sklearn.ensemble import GradientBoostingClassifier\n",
    "from sklearn.metrics import mean_squared_error\n",
    "from sklearn.tree import plot_tree\n",
    "from sklearn import metrics\n",
    "import warnings\n",
    "warnings.filterwarnings('ignore')\n",
    "\n",
    "df = pd.read_csv('./train.csv')\n",
    "df_kg = pd.read_csv('./test.csv')\n",
    "df1 = df.copy()\n",
    "df1.set_index('PassengerId', inplace=True)\n",
    "df_kg.set_index('PassengerId', inplace=True)\n",
    "df1.drop(['Name'], axis=1, inplace=True)\n",
    "df_kg.drop(['Name'], axis=1, inplace=True)\n",
    "\n",
    "df_kg.Cabin.astype(str)\n",
    "\n",
    "# 결측치 처리\n",
    "df1.Cabin.fillna('N', inplace=True)\n",
    "df1.Embarked.fillna('S', inplace=True)\n",
    "df1.Age.fillna(df1.Age.median(), inplace=True)\n",
    "df_kg.Cabin.fillna('N', inplace=True)\n",
    "df_kg.Fare.fillna(df1.Fare.median(), inplace=True)\n",
    "df_kg.Age.fillna(df1.Age.median(), inplace=True)\n",
    "\n",
    "df1.Cabin = df1.Cabin.apply(lambda x:x[0])\n",
    "df_kg.Cabin = df_kg.Cabin.apply(lambda x:x[0])\n",
    "\n",
    "# 인코딩\n",
    "og_columns = df1.columns[(df1.dtypes=='O')|(df1.dtypes=='category')|(df1.dtypes=='bool')]\n",
    "og_columns\n",
    "\n",
    "for i in og_columns:\n",
    "    globals()[f'df1_{i}_encoder'] = LabelEncoder()\n",
    "    globals()[f'df1_{i}_encoder'].fit(df1[i])\n",
    "    globals()[f'df_kg_{i}_encoder'] = LabelEncoder()\n",
    "    globals()[f'df_kg_{i}_encoder'].fit(df_kg[i])\n",
    "    df1[i] = globals()[f'df1_{i}_encoder'].transform(df1[i])\n",
    "    df_kg[i] = globals()[f'df_kg_{i}_encoder'].transform(df_kg[i])\n",
    "\n",
    "# X, y 분리\n",
    "X = df1.drop('Survived', axis=1)\n",
    "y = df1.Survived\n",
    "\n",
    "# train, test 분리\n",
    "X_train, X_val, y_train, y_val = train_test_split(X, y, test_size=0.1, random_state=19)"
   ]
  },
  {
   "cell_type": "code",
   "execution_count": 3,
   "metadata": {},
   "outputs": [
    {
     "name": "stdout",
     "output_type": "stream",
     "text": [
      "gbm 교차검증: 0.831\n",
      "gbm 예측점수: 0.844\n"
     ]
    }
   ],
   "source": [
    "gbm_clf = GradientBoostingClassifier()\n",
    "\n",
    "gbm_results = cross_val_score(gbm_clf, X_train, y_train, scoring='accuracy', cv=10, n_jobs=4)\n",
    "print('gbm 교차검증:', round(np.mean(gbm_results), 3))\n",
    "\n",
    "gbm_clf.fit(X_train, y_train)\n",
    "print('gbm 예측점수:', round(np.mean(gbm_clf.score(X_val, y_val)), 3))"
   ]
  },
  {
   "cell_type": "code",
   "execution_count": 4,
   "metadata": {},
   "outputs": [
    {
     "name": "stdout",
     "output_type": "stream",
     "text": [
      "Requirement already satisfied: hyperopt in /opt/anaconda3/lib/python3.9/site-packages (0.2.7)\n",
      "Requirement already satisfied: cloudpickle in /opt/anaconda3/lib/python3.9/site-packages (from hyperopt) (2.0.0)\n",
      "Requirement already satisfied: networkx>=2.2 in /opt/anaconda3/lib/python3.9/site-packages (from hyperopt) (2.7.1)\n",
      "Requirement already satisfied: tqdm in /opt/anaconda3/lib/python3.9/site-packages (from hyperopt) (4.64.0)\n",
      "Requirement already satisfied: future in /opt/anaconda3/lib/python3.9/site-packages (from hyperopt) (0.18.2)\n",
      "Requirement already satisfied: six in /opt/anaconda3/lib/python3.9/site-packages (from hyperopt) (1.16.0)\n",
      "Requirement already satisfied: numpy in /opt/anaconda3/lib/python3.9/site-packages (from hyperopt) (1.21.5)\n",
      "Requirement already satisfied: py4j in /opt/anaconda3/lib/python3.9/site-packages (from hyperopt) (0.10.9.7)\n",
      "Requirement already satisfied: scipy in /opt/anaconda3/lib/python3.9/site-packages (from hyperopt) (1.7.3)\n"
     ]
    }
   ],
   "source": [
    "!pip install hyperopt"
   ]
  },
  {
   "cell_type": "code",
   "execution_count": 6,
   "metadata": {},
   "outputs": [
    {
     "name": "stdout",
     "output_type": "stream",
     "text": [
      "100%|██████| 500/500 [01:00<00:00,  8.31trial/s, best loss: -0.8333333333333334]\n"
     ]
    }
   ],
   "source": [
    "from sklearn.metrics import accuracy_score\n",
    "from hyperopt import fmin, hp, tpe, Trials, space_eval, STATUS_OK\n",
    "\n",
    "def gbm_objective(search_space):\n",
    "    model = GradientBoostingClassifier(**search_space)\n",
    "    model.fit(X_train, y_train)\n",
    "    y_pred = model.predict(X_val)\n",
    "    accuracy = accuracy_score(y_val, y_pred)\n",
    "    return {'loss': -accuracy, 'status': STATUS_OK}\n",
    "\n",
    "# new search space\n",
    "search_space={'loss':hp.choice('loss', ['deviance', 'exponential']),\n",
    "              'max_depth':hp.choice('max_depth', range(2, 10)),\n",
    "              'min_samples_split':hp.uniform('min_samples_split', 0.1, 1),\n",
    "              'min_samples_leaf':hp.choice('min_samples_leaf', range(1, 30)),\n",
    "              'max_features':hp.choice('max_features', [None, 'sqrt', 'log2']),\n",
    "              'min_impurity_decrease':hp.uniform('min_impurity_decrease', 0.1, 1),\n",
    "              'ccp_alpha':hp.uniform('ccp_alpha', 0.01, 1),\n",
    "              'learning_rate':hp.choice('learning_rate', [0.1, 0.01]),\n",
    "              'n_estimators':hp.choice('n_estimators', [100, 200, 300, 400, 500,1000])}\n",
    "\n",
    "# set the hyperparam tuning algorithm\n",
    "algorithm=tpe.suggest\n",
    "# implement Hyperopt\n",
    "best_params = fmin(fn=gbm_objective,\n",
    "                   space=search_space,\n",
    "                   algo=algorithm,\n",
    "                   max_evals=500)\n",
    "\n",
    "params1 = space_eval(search_space, best_params)"
   ]
  },
  {
   "cell_type": "code",
   "execution_count": 7,
   "metadata": {},
   "outputs": [
    {
     "data": {
      "text/plain": [
       "{'ccp_alpha': 0.02209896228779237,\n",
       " 'learning_rate': 0.1,\n",
       " 'loss': 'deviance',\n",
       " 'max_depth': 3,\n",
       " 'max_features': None,\n",
       " 'min_impurity_decrease': 0.6259859842770042,\n",
       " 'min_samples_leaf': 8,\n",
       " 'min_samples_split': 0.7506608069875994,\n",
       " 'n_estimators': 300}"
      ]
     },
     "execution_count": 7,
     "metadata": {},
     "output_type": "execute_result"
    }
   ],
   "source": [
    "params1"
   ]
  },
  {
   "cell_type": "code",
   "execution_count": 10,
   "metadata": {},
   "outputs": [
    {
     "data": {
      "text/plain": [
       "0.8333333333333334"
      ]
     },
     "execution_count": 10,
     "metadata": {},
     "output_type": "execute_result"
    }
   ],
   "source": [
    "best_gbm_clf = GradientBoostingClassifier(**params1)\n",
    "best_gbm_clf.fit(X_train, y_train)\n",
    "best_gbm_clf.score(X_val, y_val)"
   ]
  },
  {
   "cell_type": "code",
   "execution_count": 11,
   "metadata": {},
   "outputs": [
    {
     "data": {
      "text/plain": [
       "GradientBoostingClassifier(ccp_alpha=0.02209896228779237,\n",
       "                           min_impurity_decrease=0.6259859842770042,\n",
       "                           min_samples_leaf=8,\n",
       "                           min_samples_split=0.7506608069875994,\n",
       "                           n_estimators=300)"
      ]
     },
     "execution_count": 11,
     "metadata": {},
     "output_type": "execute_result"
    }
   ],
   "source": [
    "best_gbm_clf.fit(X_train, y_train)"
   ]
  },
  {
   "cell_type": "code",
   "execution_count": 44,
   "metadata": {},
   "outputs": [],
   "source": [
    "kg_upload = df_kg.copy()\n",
    "kg_upload['Survived'] = best_gbm_clf.predict(df_kg)\n",
    "kg_upload.Survived.to_csv('./kaggle_upload_boosting2.csv')"
   ]
  },
  {
   "cell_type": "code",
   "execution_count": null,
   "metadata": {},
   "outputs": [],
   "source": []
  }
 ],
 "metadata": {
  "kernelspec": {
   "display_name": "Python 3 (ipykernel)",
   "language": "python",
   "name": "python3"
  },
  "language_info": {
   "codemirror_mode": {
    "name": "ipython",
    "version": 3
   },
   "file_extension": ".py",
   "mimetype": "text/x-python",
   "name": "python",
   "nbconvert_exporter": "python",
   "pygments_lexer": "ipython3",
   "version": "3.9.13"
  }
 },
 "nbformat": 4,
 "nbformat_minor": 4
}
