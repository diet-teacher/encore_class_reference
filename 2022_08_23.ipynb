{
 "cells": [
  {
   "cell_type": "code",
   "execution_count": 3,
   "id": "6d53ba00",
   "metadata": {},
   "outputs": [
    {
     "name": "stdout",
     "output_type": "stream",
     "text": [
      "나는 20입니다.\n"
     ]
    }
   ],
   "source": [
    "age = 20\n",
    "print('나는 %d입니다.' %age)"
   ]
  },
  {
   "cell_type": "code",
   "execution_count": 4,
   "id": "71ed9277",
   "metadata": {},
   "outputs": [
    {
     "name": "stdout",
     "output_type": "stream",
     "text": [
      "나는 이승원 입니다\n"
     ]
    }
   ],
   "source": [
    "name = '이승원'\n",
    "print('나는 %s 입니다' %name)"
   ]
  },
  {
   "cell_type": "code",
   "execution_count": 22,
   "id": "294dbfbc",
   "metadata": {},
   "outputs": [
    {
     "name": "stdout",
     "output_type": "stream",
     "text": [
      "2022-11-05\n"
     ]
    }
   ],
   "source": [
    "year = 2022 \n",
    "month = 11\n",
    "day = 5\n",
    "print('%d-%02d-%02d' %(year, month, day))"
   ]
  },
  {
   "cell_type": "code",
   "execution_count": 37,
   "id": "53e0a12c",
   "metadata": {},
   "outputs": [
    {
     "name": "stdout",
     "output_type": "stream",
     "text": [
      "키는 172.50입니다.\n"
     ]
    }
   ],
   "source": [
    "height = 172.5\n",
    "print('키는 %.2f입니다.'%height)"
   ]
  },
  {
   "cell_type": "markdown",
   "id": "c2a21028",
   "metadata": {},
   "source": []
  },
  {
   "cell_type": "code",
   "execution_count": 1,
   "id": "50dce172",
   "metadata": {},
   "outputs": [
    {
     "name": "stdout",
     "output_type": "stream",
     "text": [
      "나는 20입니다.\n",
      "나는 이승원 입니다\n",
      "2022-11-05\n",
      "키는 172.50입니다.\n"
     ]
    }
   ],
   "source": [
    "age = 20\n",
    "print('나는 %d입니다.' %age)\n",
    "\n",
    "name = '이승원'\n",
    "print('나는 %s 입니다' %name)\n",
    "\n",
    "year = 2022 \n",
    "month = 11\n",
    "day = 5\n",
    "print('%d-%02d-%02d' %(year, month, day))\n",
    "\n",
    "height = 172.5\n",
    "print('키는 %.2f입니다.'%height)"
   ]
  },
  {
   "cell_type": "code",
   "execution_count": 62,
   "id": "d157097c",
   "metadata": {},
   "outputs": [
    {
     "name": "stdout",
     "output_type": "stream",
     "text": [
      "I have three children\n",
      "I hava 3 children\n",
      "I hava 3.14 children wow\n"
     ]
    }
   ],
   "source": [
    "num = 'three'\n",
    "e = 3\n",
    "pi = 3.14\n",
    "str = 'wow'\n",
    "\n",
    "print('I have %s children' %num)\n",
    "print('I hava %d children' %e)\n",
    "print('I hava %.2f children %s' %(pi, str))"
   ]
  },
  {
   "cell_type": "code",
   "execution_count": 1,
   "id": "8e4656b7",
   "metadata": {},
   "outputs": [
    {
     "ename": "SyntaxError",
     "evalue": "invalid syntax (2583178773.py, line 1)",
     "output_type": "error",
     "traceback": [
      "\u001b[0;36m  Input \u001b[0;32mIn [1]\u001b[0;36m\u001b[0m\n\u001b[0;31m    print('This is %s True!' %100%)\u001b[0m\n\u001b[0m                                  ^\u001b[0m\n\u001b[0;31mSyntaxError\u001b[0m\u001b[0;31m:\u001b[0m invalid syntax\n"
     ]
    }
   ],
   "source": [
    "print('This is %s True!' %100%)"
   ]
  },
  {
   "cell_type": "code",
   "execution_count": 67,
   "id": "3dccd328",
   "metadata": {},
   "outputs": [
    {
     "name": "stdout",
     "output_type": "stream",
     "text": [
      "This is 100% True!\n"
     ]
    }
   ],
   "source": [
    "print('This is %s True!' %'100%')"
   ]
  },
  {
   "cell_type": "code",
   "execution_count": 3,
   "id": "f82d9398",
   "metadata": {},
   "outputs": [
    {
     "name": "stdout",
     "output_type": "stream",
     "text": [
      "This is 100% True!\n"
     ]
    }
   ],
   "source": [
    "print('This is %d%% True!' %100)"
   ]
  },
  {
   "cell_type": "code",
   "execution_count": 5,
   "id": "6e5c6715",
   "metadata": {},
   "outputs": [
    {
     "name": "stdout",
     "output_type": "stream",
     "text": [
      "This is 100% True!\n",
      "This is 100% True!\n"
     ]
    }
   ],
   "source": [
    "print('This is %s True!' %'100%')\n",
    "print('This is %d%% True!' %100)"
   ]
  },
  {
   "cell_type": "code",
   "execution_count": 66,
   "id": "9b6c5017",
   "metadata": {},
   "outputs": [
    {
     "name": "stdout",
     "output_type": "stream",
     "text": [
      "\"      good\"\n"
     ]
    }
   ],
   "source": [
    "word = 'good'\n",
    "print('\"%10s\"' %word)"
   ]
  },
  {
   "cell_type": "code",
   "execution_count": 60,
   "id": "296dfba3",
   "metadata": {},
   "outputs": [
    {
     "name": "stdout",
     "output_type": "stream",
     "text": [
      "\"good      \"\n"
     ]
    }
   ],
   "source": [
    "word = 'good'\n",
    "print('\"%-10s\"' %word)"
   ]
  },
  {
   "cell_type": "code",
   "execution_count": 10,
   "id": "98ac7501",
   "metadata": {},
   "outputs": [
    {
     "name": "stdout",
     "output_type": "stream",
     "text": [
      "\"      good\"\n",
      "\"good      \"\n",
      "              3.1416\n",
      "3.1416              \n"
     ]
    }
   ],
   "source": [
    "word = 'good'\n",
    "\n",
    "print('\"%10s\"' %word)\n",
    "\n",
    "print('\"%-10s\"' %word)\n",
    "\n",
    "pi = 3.141592\n",
    "\n",
    "print(\"%20.4f\" %pi)\n",
    "\n",
    "print(\"%-20.4f\" %pi)"
   ]
  },
  {
   "cell_type": "code",
   "execution_count": 58,
   "id": "25d18c5e",
   "metadata": {},
   "outputs": [
    {
     "name": "stdout",
     "output_type": "stream",
     "text": [
      "                3.14\n"
     ]
    }
   ],
   "source": [
    "pi = 3.141592\n",
    "print(\"%20.2f\" %pi)"
   ]
  },
  {
   "cell_type": "code",
   "execution_count": 7,
   "id": "5f3c214e",
   "metadata": {},
   "outputs": [
    {
     "name": "stdout",
     "output_type": "stream",
     "text": [
      "3.14                \n"
     ]
    }
   ],
   "source": [
    "pi = 3.141592\n",
    "print(\"%-20.2f\" %pi)"
   ]
  },
  {
   "cell_type": "code",
   "execution_count": 48,
   "id": "f8309ecb",
   "metadata": {},
   "outputs": [
    {
     "name": "stdout",
     "output_type": "stream",
     "text": [
      "이름 : 최시연, 나이 : 33세, 시력 : 1.5\n"
     ]
    }
   ],
   "source": [
    "name = '최시연'\n",
    "age = 33\n",
    "eyesight = 1.5\n",
    "print('이름 : %s, 나이 : %d세, 시력 : %.1f' %(name, age, eyesight))"
   ]
  },
  {
   "cell_type": "code",
   "execution_count": 13,
   "id": "6ab065ed",
   "metadata": {},
   "outputs": [
    {
     "name": "stdout",
     "output_type": "stream",
     "text": [
      "이름 : 최시연 , 나이 : 33 , 시력 : 1.5\n"
     ]
    }
   ],
   "source": [
    "name = '최시연'\n",
    "age = 33\n",
    "eyesight = 1.5\n",
    "\n",
    "a = '이름 : {}'.format(name)\n",
    "b = '나이 : {}'.format(age)\n",
    "c = '시력 : {}'.format(eyesight)\n",
    "print(a,\",\",b,',',c)"
   ]
  },
  {
   "cell_type": "code",
   "execution_count": 14,
   "id": "b05377c4",
   "metadata": {},
   "outputs": [
    {
     "name": "stdout",
     "output_type": "stream",
     "text": [
      "I have 3 children\n",
      "I have three children\n",
      "I have 3 children\n",
      "I have 3 children wow\n",
      "I have wow children 3\n"
     ]
    }
   ],
   "source": [
    "print('I have {} children' .format(3))\n",
    "print('I have {} children' .format('three'))\n",
    "\n",
    "g = 3\n",
    "print('I have {} children' .format(g))\n",
    "print('I have {} children {}' .format(g, 'wow'))\n",
    "print('I have {1} children {0}' .format(g, 'wow'))"
   ]
  },
  {
   "cell_type": "code",
   "execution_count": 78,
   "id": "6c35e469",
   "metadata": {},
   "outputs": [
    {
     "name": "stdout",
     "output_type": "stream",
     "text": [
      "I have three children\n"
     ]
    }
   ],
   "source": [
    "print('I have {} children' .format('three'))"
   ]
  },
  {
   "cell_type": "code",
   "execution_count": 79,
   "id": "a9ddb883",
   "metadata": {},
   "outputs": [
    {
     "name": "stdout",
     "output_type": "stream",
     "text": [
      "I have 3 children\n"
     ]
    }
   ],
   "source": [
    "g = 3\n",
    "print('I have {} children' .format(g))"
   ]
  },
  {
   "cell_type": "code",
   "execution_count": 49,
   "id": "e55f608e",
   "metadata": {},
   "outputs": [
    {
     "name": "stdout",
     "output_type": "stream",
     "text": [
      "I have wow children 3\n"
     ]
    }
   ],
   "source": [
    "g = 3\n",
    "print('I have {1} children {0}' .format(g, 'wow'))"
   ]
  },
  {
   "cell_type": "code",
   "execution_count": 17,
   "id": "d2033a83",
   "metadata": {},
   "outputs": [
    {
     "name": "stdout",
     "output_type": "stream",
     "text": [
      "'good                          '\n",
      "'                good'\n",
      "'                    good                     '\n",
      "'!!!!!!!!!!!!!good!!!!!!!!!!!!!'\n",
      "'**********************************************good'\n"
     ]
    }
   ],
   "source": [
    "print(\"'{0:<30}'\" .format('good'))\n",
    "print(\"'{0:>20}'\" .format('good'))\n",
    "print(\"'{0:^45}'\" .format('good'))\n",
    "print(\"'{0:!^30}'\" .format('good'))\n",
    "print(\"'{0:*>50}'\" .format('good'))"
   ]
  },
  {
   "cell_type": "code",
   "execution_count": 107,
   "id": "3e7e91b6",
   "metadata": {
    "scrolled": true
   },
   "outputs": [
    {
     "name": "stdout",
     "output_type": "stream",
     "text": [
      "'****************good'\n"
     ]
    }
   ],
   "source": [
    "print(\"'{0:*>20}'\" .format('good'))"
   ]
  },
  {
   "cell_type": "code",
   "execution_count": 88,
   "id": "c08f9179",
   "metadata": {},
   "outputs": [
    {
     "name": "stdout",
     "output_type": "stream",
     "text": [
      "'        good        '\n"
     ]
    }
   ],
   "source": [
    "print(\"'{0:^20}'\" .format('good'))"
   ]
  },
  {
   "cell_type": "code",
   "execution_count": 45,
   "id": "6e8ed383",
   "metadata": {},
   "outputs": [
    {
     "name": "stdout",
     "output_type": "stream",
     "text": [
      "'$$$$$$$$good$$$$$$$$'\n"
     ]
    }
   ],
   "source": [
    "print(\"'{0:$^20}'\" .format('good'))"
   ]
  },
  {
   "cell_type": "code",
   "execution_count": 60,
   "id": "f567acb1",
   "metadata": {
    "scrolled": true
   },
   "outputs": [
    {
     "name": "stdout",
     "output_type": "stream",
     "text": [
      "********4.56******** Agrentine Pesos are worth US$1\n",
      "{우리집}에 $$$$$$$$$자주$$$$$$$$$ 놀러와요\n"
     ]
    }
   ],
   "source": [
    "a = 4.5560\n",
    "b = 'Agrentine Pesos'\n",
    "c = 1\n",
    "print('{1:*^20.2f} {0} are worth US${2}'.format(b, a, c))\n",
    "\n",
    "print('{{우리집}}에 {0:$^20} 놀러와요'.format('자주'))"
   ]
  },
  {
   "cell_type": "code",
   "execution_count": 39,
   "id": "d8f6c1be",
   "metadata": {},
   "outputs": [
    {
     "name": "stdout",
     "output_type": "stream",
     "text": [
      "I have wow children 5\n"
     ]
    }
   ],
   "source": [
    "a = 3\n",
    "b = 'wow'\n",
    "\n",
    "print(f'I have {b} children {a+2}')"
   ]
  },
  {
   "cell_type": "code",
   "execution_count": 36,
   "id": "fa880e8f",
   "metadata": {},
   "outputs": [
    {
     "name": "stdout",
     "output_type": "stream",
     "text": [
      "{add}\n"
     ]
    }
   ],
   "source": []
  },
  {
   "cell_type": "code",
   "execution_count": 55,
   "id": "9a19fec5",
   "metadata": {},
   "outputs": [
    {
     "name": "stdout",
     "output_type": "stream",
     "text": [
      "I have wow children 5\n",
      "{good}{day}\n"
     ]
    }
   ],
   "source": [
    "a = 3\n",
    "b = 'wow'\n",
    "\n",
    "print(f'I have {b} children {a+2}')\n",
    "\n",
    "a = '{day}'\n",
    "print(f'{{good}}{a}')"
   ]
  },
  {
   "cell_type": "code",
   "execution_count": 47,
   "id": "f33f60c7",
   "metadata": {},
   "outputs": [
    {
     "ename": "NameError",
     "evalue": "name 'good' is not defined",
     "output_type": "error",
     "traceback": [
      "\u001b[0;31m---------------------------------------------------------------------------\u001b[0m",
      "\u001b[0;31mNameError\u001b[0m                                 Traceback (most recent call last)",
      "Input \u001b[0;32mIn [47]\u001b[0m, in \u001b[0;36m<cell line: 1>\u001b[0;34m()\u001b[0m\n\u001b[0;32m----> 1\u001b[0m \u001b[38;5;28mprint\u001b[39m(\u001b[38;5;124mf\u001b[39m\u001b[38;5;124m'\u001b[39m\u001b[38;5;132;01m{\u001b[39;00mgood\u001b[38;5;132;01m}\u001b[39;00m\u001b[38;5;124m'\u001b[39m\u001b[38;5;124m'\u001b[39m\u001b[38;5;132;01m{day}\u001b[39;00m\u001b[38;5;124m'\u001b[39m)\n",
      "\u001b[0;31mNameError\u001b[0m: name 'good' is not defined"
     ]
    }
   ],
   "source": [
    "print(f'{good}''{day}')"
   ]
  },
  {
   "cell_type": "code",
   "execution_count": 54,
   "id": "57275e89",
   "metadata": {},
   "outputs": [
    {
     "name": "stdout",
     "output_type": "stream",
     "text": [
      "{frlskjh}{skjdhf}{djkfhsdfu}\n"
     ]
    }
   ],
   "source": [
    "print(f'{{frlskjh}}''{skjdhf}''{djkfhsdfu}')"
   ]
  },
  {
   "cell_type": "code",
   "execution_count": 32,
   "id": "b509a6a6",
   "metadata": {},
   "outputs": [
    {
     "ename": "SyntaxError",
     "evalue": "EOL while scanning string literal (2492299766.py, line 1)",
     "output_type": "error",
     "traceback": [
      "\u001b[0;36m  Input \u001b[0;32mIn [32]\u001b[0;36m\u001b[0m\n\u001b[0;31m    print(f'{}''goog)\u001b[0m\n\u001b[0m                     ^\u001b[0m\n\u001b[0;31mSyntaxError\u001b[0m\u001b[0;31m:\u001b[0m EOL while scanning string literal\n"
     ]
    }
   ],
   "source": [
    "print(f'{}''goog)"
   ]
  },
  {
   "cell_type": "code",
   "execution_count": 45,
   "id": "63793e97",
   "metadata": {},
   "outputs": [
    {
     "name": "stdout",
     "output_type": "stream",
     "text": [
      "{good}{day}\n"
     ]
    }
   ],
   "source": [
    "print(f'{{good}}''{day}')"
   ]
  },
  {
   "cell_type": "code",
   "execution_count": 59,
   "id": "80bf10e4",
   "metadata": {},
   "outputs": [
    {
     "name": "stdout",
     "output_type": "stream",
     "text": [
      "{day}{dood}\n"
     ]
    }
   ],
   "source": [
    "a = '{day}'\n",
    "print(f'{a}''{dood}')"
   ]
  },
  {
   "cell_type": "code",
   "execution_count": 69,
   "id": "39b931f1",
   "metadata": {},
   "outputs": [
    {
     "name": "stdout",
     "output_type": "stream",
     "text": [
      "I have wow children 5\n",
      "{good}{a}\n",
      "{good}{day}{닝ㄹ해ㅑㄴㄷ}\n",
      "<class 'str'>\n"
     ]
    }
   ],
   "source": [
    "a = 3\n",
    "b = 'wow'\n",
    "\n",
    "print(f'I have {b} children {a+2}')\t\t#변수 a, b를 {}사이에 넣어서 바로 출력이 가능하다,\n",
    "\t\t\t\t\t\t\t\t\t\t#int타입의 경우 {}안에서 연산 후 출력 가능\n",
    "\n",
    "\n",
    "a = '{day}'\n",
    "print(f'{{good}}''{a}')\t\t#print(f'{good}''{a})의 경우 'good'은 변수로 선언 된적이 없으므로 에러가 발생하지만\n",
    "\t\t\t\t\t\t\t#{{}}처럼 중 괄호를 두번 감싸주게되면 '{good}'으로 출력이 되며 그 다음 문자들은 \n",
    "                            #중괄호를 두번씩 포장할 필요가 없어진다.\t\t\n",
    "\n",
    "print(f'{{good}}''{day}''{닝ㄹ해ㅑㄴㄷ}') \n",
    "\n",
    "print(type(f'{1123}'))"
   ]
  },
  {
   "cell_type": "code",
   "execution_count": 61,
   "id": "20e13bcc",
   "metadata": {},
   "outputs": [
    {
     "name": "stdout",
     "output_type": "stream",
     "text": [
      "{good}{a}\n"
     ]
    }
   ],
   "source": [
    "a = '{day}'\n",
    "print(f'{{good}}''{a}')"
   ]
  },
  {
   "cell_type": "code",
   "execution_count": 134,
   "id": "02d05cc8",
   "metadata": {},
   "outputs": [
    {
     "name": "stdout",
     "output_type": "stream",
     "text": [
      "{good}{day}\n"
     ]
    }
   ],
   "source": [
    "print(f'{{good}}''{day}')"
   ]
  },
  {
   "cell_type": "code",
   "execution_count": 132,
   "id": "189a8599",
   "metadata": {},
   "outputs": [],
   "source": [
    "del day"
   ]
  },
  {
   "cell_type": "code",
   "execution_count": 138,
   "id": "ff411581",
   "metadata": {},
   "outputs": [
    {
     "name": "stdout",
     "output_type": "stream",
     "text": [
      "2\n"
     ]
    }
   ],
   "source": [
    "sa = \"Korean culture\"\n",
    "u = \"u\"\n",
    "print(sa.count(u))"
   ]
  },
  {
   "cell_type": "code",
   "execution_count": 73,
   "id": "155c85a9",
   "metadata": {},
   "outputs": [
    {
     "ename": "SyntaxError",
     "evalue": "f-string: expecting '}' (4179881717.py, line 1)",
     "output_type": "error",
     "traceback": [
      "\u001b[0;36m  Input \u001b[0;32mIn [73]\u001b[0;36m\u001b[0m\n\u001b[0;31m    print(f'{'good'}')\u001b[0m\n\u001b[0m              ^\u001b[0m\n\u001b[0;31mSyntaxError\u001b[0m\u001b[0;31m:\u001b[0m f-string: expecting '}'\n"
     ]
    }
   ],
   "source": [
    "print(f'{'good'}')"
   ]
  },
  {
   "cell_type": "code",
   "execution_count": 74,
   "id": "a67f73d7",
   "metadata": {},
   "outputs": [
    {
     "ename": "NameError",
     "evalue": "name 'good' is not defined",
     "output_type": "error",
     "traceback": [
      "\u001b[0;31m---------------------------------------------------------------------------\u001b[0m",
      "\u001b[0;31mNameError\u001b[0m                                 Traceback (most recent call last)",
      "Input \u001b[0;32mIn [74]\u001b[0m, in \u001b[0;36m<cell line: 1>\u001b[0;34m()\u001b[0m\n\u001b[0;32m----> 1\u001b[0m \u001b[38;5;28mprint\u001b[39m(\u001b[38;5;124mf\u001b[39m\u001b[38;5;124m'\u001b[39m\u001b[38;5;132;01m{\u001b[39;00mgood\u001b[38;5;132;01m}\u001b[39;00m\u001b[38;5;124m'\u001b[39m)\n",
      "\u001b[0;31mNameError\u001b[0m: name 'good' is not defined"
     ]
    }
   ],
   "source": [
    "print(f'{good}')"
   ]
  },
  {
   "cell_type": "code",
   "execution_count": null,
   "id": "16ca474f",
   "metadata": {},
   "outputs": [],
   "source": [
    "#여기서 부터 블로그 2부"
   ]
  },
  {
   "cell_type": "code",
   "execution_count": null,
   "id": "2f2b2c50",
   "metadata": {},
   "outputs": [],
   "source": [
    "#여기서 부터 블로그 2부"
   ]
  },
  {
   "cell_type": "code",
   "execution_count": null,
   "id": "597cf846",
   "metadata": {},
   "outputs": [],
   "source": [
    "#여기서 부터 블로그 2부"
   ]
  },
  {
   "cell_type": "code",
   "execution_count": 3,
   "id": "736e286e",
   "metadata": {},
   "outputs": [
    {
     "name": "stdout",
     "output_type": "stream",
     "text": [
      "7\n",
      "7\n"
     ]
    }
   ],
   "source": [
    "sa = \"korean Kculture\"\n",
    "K = \"K\"\n",
    "print(sa.find(K))\n",
    "print(sa.index(K))"
   ]
  },
  {
   "cell_type": "code",
   "execution_count": 150,
   "id": "de83b72b",
   "metadata": {},
   "outputs": [
    {
     "name": "stdout",
     "output_type": "stream",
     "text": [
      "K o r e a n   c u l t u r e\n"
     ]
    }
   ],
   "source": [
    "sa = \"Korean culture\"\n",
    "print(' '.join(sa))"
   ]
  },
  {
   "cell_type": "code",
   "execution_count": 155,
   "id": "171243c9",
   "metadata": {},
   "outputs": [
    {
     "name": "stdout",
     "output_type": "stream",
     "text": [
      "1,2,3,4,5,6,7,8,9,0\n"
     ]
    }
   ],
   "source": [
    "num = '1234567890'\n",
    "print(','.join(num))"
   ]
  },
  {
   "cell_type": "code",
   "execution_count": 182,
   "id": "10e14d52",
   "metadata": {
    "scrolled": true
   },
   "outputs": [
    {
     "name": "stdout",
     "output_type": "stream",
     "text": [
      "KOREAN CULTURE\n",
      "korean culture\n",
      "Korean\n",
      "     Korean\n",
      "Korean     \n",
      "American culture\n",
      "['Korean', 'culture']\n",
      "['Korean ', ' culture']\n"
     ]
    }
   ],
   "source": [
    "sa = \"Korean culture\"\n",
    "\n",
    "print(sa.upper())\n",
    "print(sa.lower())\n",
    "print('     Korean     '.strip())\n",
    "print('     Korean     '.rstrip())\n",
    "print('     Korean     '.lstrip())\n",
    "print(sa.replace('Korean', 'American'))\n",
    "print(sa.split())\n",
    "print('Korean & culture'.split(sep='&'))"
   ]
  },
  {
   "cell_type": "code",
   "execution_count": 254,
   "id": "e18617eb",
   "metadata": {},
   "outputs": [
    {
     "name": "stdout",
     "output_type": "stream",
     "text": [
      "C:\\nano\n",
      "C:\\nano\n"
     ]
    }
   ],
   "source": [
    "print('C:\\\\nano')\n",
    "print(r'C:\\nano')"
   ]
  },
  {
   "cell_type": "code",
   "execution_count": 262,
   "id": "768e191e",
   "metadata": {},
   "outputs": [
    {
     "name": "stdout",
     "output_type": "stream",
     "text": [
      "['990316', '2030998']\n",
      "990316\n",
      "2030998\n",
      "2\n",
      "2\n"
     ]
    }
   ],
   "source": [
    "IU = \"990316-2030998\"\n",
    "print(IU.split(sep=\"-\"))\n",
    "print(IU[:6]) \n",
    "print(IU[-7:])\n",
    "print(IU[7])\n",
    "print(IU[7:8])"
   ]
  },
  {
   "cell_type": "code",
   "execution_count": 200,
   "id": "7dbdb301",
   "metadata": {},
   "outputs": [
    {
     "name": "stdout",
     "output_type": "stream",
     "text": [
      "a@b@c@d\n"
     ]
    }
   ],
   "source": [
    "print(\"a:b:c:d\".replace(':', '@'))"
   ]
  },
  {
   "cell_type": "code",
   "execution_count": 4,
   "id": "1423c63f",
   "metadata": {},
   "outputs": [
    {
     "name": "stdout",
     "output_type": "stream",
     "text": [
      "['a', 'b', 'cd']\n",
      "['a', 'b', 'cd']\n"
     ]
    }
   ],
   "source": [
    "print(\"a&b&cd\".split(sep='&'))\n",
    "print(\"a&b&cd\".split('&'))"
   ]
  },
  {
   "cell_type": "code",
   "execution_count": 340,
   "id": "73f6369c",
   "metadata": {},
   "outputs": [],
   "source": [
    "del str"
   ]
  },
  {
   "cell_type": "code",
   "execution_count": 329,
   "id": "26c29171",
   "metadata": {},
   "outputs": [
    {
     "name": "stdout",
     "output_type": "stream",
     "text": [
      "<class 'int'>\n"
     ]
    }
   ],
   "source": [
    "print(type(100))"
   ]
  },
  {
   "cell_type": "code",
   "execution_count": 328,
   "id": "1e02a816",
   "metadata": {
    "scrolled": true
   },
   "outputs": [
    {
     "name": "stdout",
     "output_type": "stream",
     "text": [
      "100\n",
      "<class 'int'>\n",
      "100\n",
      "<class 'str'>\n"
     ]
    }
   ],
   "source": [
    "num = 100\n",
    "print(num)\n",
    "print(type(num))\n",
    "\n",
    "num_str = \"{}\".format(num)\n",
    "print(num_str)\n",
    "print(type(num_str))"
   ]
  },
  {
   "cell_type": "code",
   "execution_count": 61,
   "id": "6ae4c53b",
   "metadata": {},
   "outputs": [
    {
     "name": "stdout",
     "output_type": "stream",
     "text": [
      "100\n",
      "100\n",
      "100\n",
      "<class 'str'>\n",
      "<class 'int'>\n"
     ]
    }
   ],
   "source": [
    "B = 100\n",
    "\n",
    "print(B)\n",
    "type(B)\n",
    "str(B)\n",
    "print(B)\n",
    "print(str(B))\n",
    "print(type(str(B)))\n",
    "print(type(B))\n"
   ]
  },
  {
   "cell_type": "code",
   "execution_count": 62,
   "id": "661beab5",
   "metadata": {},
   "outputs": [
    {
     "data": {
      "text/plain": [
       "str"
      ]
     },
     "execution_count": 62,
     "metadata": {},
     "output_type": "execute_result"
    }
   ],
   "source": [
    "str"
   ]
  },
  {
   "cell_type": "code",
   "execution_count": 270,
   "id": "1687f026",
   "metadata": {},
   "outputs": [
    {
     "name": "stdout",
     "output_type": "stream",
     "text": [
      "홀홀홀\n",
      "홀홀홀\n",
      "짝짝짝\n",
      "짝홀\n"
     ]
    }
   ],
   "source": [
    "game = \"짝홀짝홀짝홀\"\n",
    "print(game.replace('짝',\"\"))\n",
    "\n",
    "print(game[1::2])\n",
    "print(game[0::2])\n",
    "print(game[0::3])"
   ]
  },
  {
   "cell_type": "code",
   "execution_count": 219,
   "id": "441462f0",
   "metadata": {},
   "outputs": [
    {
     "name": "stdout",
     "output_type": "stream",
     "text": [
      "01012345678\n"
     ]
    }
   ],
   "source": [
    "PN = \"010-1234-5678\"\n",
    "print(PN.replace(\"-\",\"\"))"
   ]
  },
  {
   "cell_type": "code",
   "execution_count": 271,
   "id": "30269d63",
   "metadata": {},
   "outputs": [
    {
     "name": "stdout",
     "output_type": "stream",
     "text": [
      "010 1234 5678\n"
     ]
    }
   ],
   "source": [
    "print(PN[0:3],PN[4:8], PN[-4:])"
   ]
  },
  {
   "cell_type": "code",
   "execution_count": 272,
   "id": "df774a30",
   "metadata": {},
   "outputs": [
    {
     "name": "stdout",
     "output_type": "stream",
     "text": [
      "com\n",
      "com\n"
     ]
    }
   ],
   "source": [
    "print('https://www.samsung.com'[20:])\n",
    "print('https://www.samsung.com'[-3:])"
   ]
  },
  {
   "cell_type": "code",
   "execution_count": 284,
   "id": "acc007dc",
   "metadata": {},
   "outputs": [],
   "source": [
    "### list type"
   ]
  },
  {
   "cell_type": "code",
   "execution_count": 286,
   "id": "b1855d6b",
   "metadata": {},
   "outputs": [
    {
     "name": "stdout",
     "output_type": "stream",
     "text": [
      "[]\n",
      "<class 'list'>\n",
      "[1, 2, 3, 4, 5]\n",
      "<class 'list'>\n",
      "['red', 'blue', 'yellow']\n",
      "<class 'list'>\n",
      "[1, 2, 'red', 'blue']\n",
      "<class 'list'>\n",
      "[1, 2, '[red, blue]']\n",
      "<class 'list'>\n"
     ]
    }
   ],
   "source": [
    "a = []\n",
    "print(a)\n",
    "print(type(a))\n",
    "b = [1,2,3,4,5]\n",
    "print(b)\n",
    "print(type(b))\n",
    "c = ['red', 'blue', 'yellow']\n",
    "print(c)\n",
    "print(type(c))\n",
    "d = [1,2,'red', 'blue']\n",
    "print(d)\n",
    "print(type(d))\n",
    "e = [1,2,'[red, blue]']\n",
    "print(e)\n",
    "print(type(e))"
   ]
  },
  {
   "cell_type": "code",
   "execution_count": 287,
   "id": "88730e64",
   "metadata": {},
   "outputs": [
    {
     "name": "stdout",
     "output_type": "stream",
     "text": [
      "[]\n",
      "[2, 3, 4]\n",
      "[2, 3, 4, 5]\n",
      "[1]\n",
      "[1, 2, 3, 4, 5]\n"
     ]
    }
   ],
   "source": [
    "print(b[2:1])\n",
    "print(b[1:-1])\n",
    "print(b[1:])\n",
    "print(b[:1])\n",
    "print(b[:])"
   ]
  },
  {
   "cell_type": "code",
   "execution_count": 289,
   "id": "2c49911d",
   "metadata": {},
   "outputs": [
    {
     "name": "stdout",
     "output_type": "stream",
     "text": [
      "L : [['a', 'b'], [1, 2, 3]]\n",
      "a\n",
      "2\n",
      "3\n"
     ]
    }
   ],
   "source": [
    "L = [['a','b'],[1,2,3]]\n",
    "print('L :', L)\n",
    "print(L[0][0])\n",
    "print(L[1][1])\n",
    "print(L[1][2])"
   ]
  },
  {
   "cell_type": "code",
   "execution_count": 291,
   "id": "36143db8",
   "metadata": {},
   "outputs": [
    {
     "name": "stdout",
     "output_type": "stream",
     "text": [
      "1\n",
      "4\n",
      "5\n"
     ]
    }
   ],
   "source": [
    "b = [1,2,3,4,5]\n",
    "\n",
    "print(b[0])\n",
    "print(b[0]+b[2])\n",
    "print(b[-1])"
   ]
  },
  {
   "cell_type": "code",
   "execution_count": 308,
   "id": "b76a1451",
   "metadata": {
    "scrolled": true
   },
   "outputs": [
    {
     "name": "stdout",
     "output_type": "stream",
     "text": [
      "[1, 2, 3, 4, 5, ['a', 'b', 'c', [100, 101, 102], 'd'], 7, 8, 9]\n",
      "1\n",
      "9\n",
      "['a', 'b', 'c', [100, 101, 102], 'd']\n",
      "c\n",
      "[100, 101, 102]\n",
      "101\n"
     ]
    }
   ],
   "source": [
    "new_a = [1,2,3,4,5,['a','b','c',[100,101,102], 'd'],7,8,9]\n",
    "\n",
    "print(new_a)\n",
    "\n",
    "print(new_a[0])\n",
    "\n",
    "print(new_a[-1])\n",
    "\n",
    "print(new_a[5])\n",
    "\n",
    "print(new_a[5][2])\n",
    "\n",
    "print(new_a[5][3])\n",
    "\n",
    "print(new_a[5][3][1])"
   ]
  },
  {
   "cell_type": "code",
   "execution_count": 309,
   "id": "0ff7c55f",
   "metadata": {},
   "outputs": [
    {
     "name": "stdout",
     "output_type": "stream",
     "text": [
      "[1, 2, 3, 4]\n"
     ]
    }
   ],
   "source": [
    "b = [1,2,3,4,5]\n",
    "print(b[:4])"
   ]
  },
  {
   "cell_type": "code",
   "execution_count": 313,
   "id": "07d480c9",
   "metadata": {},
   "outputs": [
    {
     "name": "stdout",
     "output_type": "stream",
     "text": [
      "1234\n"
     ]
    }
   ],
   "source": [
    "c = \"12345\"\n",
    "print(c[0:4])"
   ]
  },
  {
   "cell_type": "code",
   "execution_count": 314,
   "id": "012df8cc",
   "metadata": {},
   "outputs": [
    {
     "name": "stdout",
     "output_type": "stream",
     "text": [
      "[4, 5]\n"
     ]
    }
   ],
   "source": [
    "print(b[3:])"
   ]
  },
  {
   "cell_type": "code",
   "execution_count": 367,
   "id": "045495e7",
   "metadata": {},
   "outputs": [
    {
     "name": "stdout",
     "output_type": "stream",
     "text": [
      "[1, 2, 3, 4, 5, ['a', 'b', 'c', [100, 101, 102], 'd']]\n",
      "1 3 5\n",
      "1 4\n",
      "1 5\n",
      "[1, 3, 5, 7, 9]\n",
      "[1, 3, 5, 7]\n",
      "[1, 4]\n",
      "[100, 102]\n",
      "[100, 102]\n"
     ]
    }
   ],
   "source": [
    "print(new_a[:6])\n",
    "print(new_a[0],new_a[2],new_a[4])\n",
    "print(new_a[0],new_a[3])\n",
    "print(new_a[0],new_a[4])\n",
    "print(new_a[::2])\n",
    "print(new_a[:7:2])\n",
    "print(new_a[:4:3])\n",
    "print(new_a[5][3][0::2])\n",
    "print(new_a[5][3][::2])"
   ]
  },
  {
   "cell_type": "code",
   "execution_count": 391,
   "id": "9581cf85",
   "metadata": {},
   "outputs": [
    {
     "name": "stdout",
     "output_type": "stream",
     "text": [
      "[1, 2, 3, 4, 6, 7, 8, 9]\n",
      "[1, 2, 3, 4, 1, 2, 3, 4]\n",
      "4\n",
      "1\n",
      "8\n",
      "[6, 7, 8, 9, 'good']\n"
     ]
    }
   ],
   "source": [
    "a = [1,2,3,4]\n",
    "b = [6,7,8,9]\n",
    "k = [12345678]\n",
    "m = '12345678'\n",
    "c = 'good'\n",
    "new_c = ['good']\n",
    "\n",
    "\n",
    "print(a+b)\n",
    "print(a*2)\n",
    "print(len(a))\n",
    "print(len(k))\n",
    "print(len(m))\n",
    "#print(b+c) -- 문자열은 리스트와 더하기가 안됨\n",
    "print(b+new_c)"
   ]
  },
  {
   "cell_type": "code",
   "execution_count": 407,
   "id": "5ed19590",
   "metadata": {},
   "outputs": [
    {
     "name": "stdout",
     "output_type": "stream",
     "text": [
      "9\n"
     ]
    }
   ],
   "source": [
    "a = [1,2,3,4]\n",
    "a[3] = 9\n",
    "print(a[3])"
   ]
  },
  {
   "cell_type": "code",
   "execution_count": 408,
   "id": "d0c6f92d",
   "metadata": {},
   "outputs": [
    {
     "name": "stdout",
     "output_type": "stream",
     "text": [
      "1239\n"
     ]
    }
   ],
   "source": [
    "n = '1234'\n",
    "print(n.replace('4', '9'))"
   ]
  },
  {
   "cell_type": "code",
   "execution_count": 462,
   "id": "e3175927",
   "metadata": {},
   "outputs": [
    {
     "name": "stdout",
     "output_type": "stream",
     "text": [
      "5\n",
      "37\n",
      "9\n",
      "3\n",
      "3\n",
      "9\n",
      "[4, 6, 7, 8, 9]\n"
     ]
    },
    {
     "ename": "NameError",
     "evalue": "name 'str' is not defined",
     "output_type": "error",
     "traceback": [
      "\u001b[0;31m---------------------------------------------------------------------------\u001b[0m",
      "\u001b[0;31mNameError\u001b[0m                                 Traceback (most recent call last)",
      "Input \u001b[0;32mIn [462]\u001b[0m, in \u001b[0;36m<cell line: 17>\u001b[0;34m()\u001b[0m\n\u001b[1;32m     14\u001b[0m \u001b[38;5;28mprint\u001b[39m(b)\n\u001b[1;32m     15\u001b[0m \u001b[38;5;28;01mdel\u001b[39;00m(b[\u001b[38;5;241m0\u001b[39m])\n\u001b[0;32m---> 17\u001b[0m \u001b[38;5;28;01mdel\u001b[39;00m \u001b[38;5;28mstr\u001b[39m\n",
      "\u001b[0;31mNameError\u001b[0m: name 'str' is not defined"
     ]
    }
   ],
   "source": [
    "a = [1,2,3,4, [a,b,c]]\n",
    "b = [6,7,8,9,3,4]\n",
    "\n",
    "print(len(a))\n",
    "#print(sum(a)) -- error\n",
    "print(sum(b))\n",
    "print(max(b))\n",
    "print(min(b))\n",
    "\n",
    "b.sort()\n",
    "print(b[0])\n",
    "print(b[-1])\n",
    "b.remove(b[0])\n",
    "print(b)\n",
    "del(b[0])\n"
   ]
  },
  {
   "cell_type": "code",
   "execution_count": 464,
   "id": "5aba19eb",
   "metadata": {},
   "outputs": [
    {
     "name": "stdout",
     "output_type": "stream",
     "text": [
      "[2, 3, 4]\n",
      "[4]\n",
      "<class 'str'>\n"
     ]
    }
   ],
   "source": [
    "\n",
    "b=[1,2,3,4]\n",
    "del(b[0])\n",
    "print(b)\n",
    "b=[1,2,3,4]\n",
    "del(b[:3])\n",
    "print(b)\n",
    "b =[1,2,3,4]\n",
    "str(b[3])\n",
    "print(type(str(b[3])))"
   ]
  },
  {
   "cell_type": "code",
   "execution_count": 469,
   "id": "4a2a522b",
   "metadata": {},
   "outputs": [
    {
     "name": "stdout",
     "output_type": "stream",
     "text": [
      "['6', '7', '8', '9', '10', ['11', '12'], '11', '12']\n"
     ]
    }
   ],
   "source": [
    "b = ['6','7','8','9']\n",
    "b.append('10')\n",
    "b.append(['11','12'])\n",
    "b.extend(['11','12'])\n",
    "print(b)\n"
   ]
  },
  {
   "cell_type": "code",
   "execution_count": 470,
   "id": "453caea6",
   "metadata": {},
   "outputs": [
    {
     "name": "stdout",
     "output_type": "stream",
     "text": [
      "['6', '7', '8', '9']\n",
      "['9', '8', '7', '6']\n"
     ]
    }
   ],
   "source": [
    "c = ['6','9','8','7']\n",
    "c.sort()\n",
    "print(c)\n",
    "c.sort(reverse=True)\n",
    "print(c)"
   ]
  },
  {
   "cell_type": "code",
   "execution_count": 471,
   "id": "c85cc070",
   "metadata": {},
   "outputs": [
    {
     "name": "stdout",
     "output_type": "stream",
     "text": [
      "['a', 'd', 'x', 'z']\n",
      "['z', 'x', 'd', 'a']\n"
     ]
    }
   ],
   "source": [
    "d = ['x','a','d','z']\n",
    "d.sort()\n",
    "print(d)\n",
    "d.sort(reverse=True)\n",
    "print(d)"
   ]
  },
  {
   "cell_type": "code",
   "execution_count": 484,
   "id": "20b88e98",
   "metadata": {
    "scrolled": true
   },
   "outputs": [
    {
     "name": "stdout",
     "output_type": "stream",
     "text": [
      "['8', '9', '2', '9', '4', '6']\n",
      "['8', '9', '2', '9', '10', '4', '6']\n",
      "['5', '8', '9', '2', '9', '10', '4', '6']\n",
      "2\n"
     ]
    }
   ],
   "source": [
    "c = ['6','4','9','2','9','8',]\n",
    "c.reverse()\n",
    "print(c)\n",
    "c.insert(4,'10')\n",
    "print(c)\n",
    "c.insert(0,'5')\n",
    "print(c)\n",
    "print(c.index('9'))"
   ]
  },
  {
   "cell_type": "code",
   "execution_count": 498,
   "id": "cf4c4227",
   "metadata": {},
   "outputs": [
    {
     "name": "stdout",
     "output_type": "stream",
     "text": [
      "[]\n",
      "['3', '3', '5']\n",
      "['3', '4', '3', '4']\n"
     ]
    }
   ],
   "source": [
    "e = ['3','4','3','4','5']\n",
    "e.clear()\n",
    "print(e)\n",
    "\n",
    "e = ['3','4','3','4','5']\n",
    "e.remove('4') #첫번째 '4'를 삭제\n",
    "e.remove('4') #다음 '4'를 삭제\n",
    "print(e)\n",
    "\n",
    "e = ['3','4','3','4','5']\n",
    "e.pop() #default값이 index -1이라서 기본적으로 맨 마지막 데이터를 뽑아감\n",
    "print(e)"
   ]
  },
  {
   "cell_type": "code",
   "execution_count": 500,
   "id": "792953cd",
   "metadata": {},
   "outputs": [
    {
     "data": {
      "text/plain": [
       "5"
      ]
     },
     "execution_count": 500,
     "metadata": {},
     "output_type": "execute_result"
    }
   ],
   "source": [
    "c = [6,6,6,6,7,8,9,6]\n",
    "c.count(6)"
   ]
  },
  {
   "cell_type": "code",
   "execution_count": 501,
   "id": "3fe51263",
   "metadata": {},
   "outputs": [
    {
     "name": "stdout",
     "output_type": "stream",
     "text": [
      "[6, 6, 6, 6, 7, 8, 9, 6, 4, 5]\n"
     ]
    }
   ],
   "source": [
    "c = [6,6,6,6,7,8,9,6]\n",
    "c.append(4)\n",
    "c.extend([5])\n",
    "print(c)"
   ]
  },
  {
   "cell_type": "code",
   "execution_count": 518,
   "id": "073b2562",
   "metadata": {},
   "outputs": [
    {
     "name": "stdout",
     "output_type": "stream",
     "text": [
      "we are the world\n"
     ]
    }
   ],
   "source": [
    "print(\" \".join(['we','are','the','world']))"
   ]
  },
  {
   "cell_type": "code",
   "execution_count": 510,
   "id": "b7f6f881",
   "metadata": {},
   "outputs": [
    {
     "data": {
      "text/plain": [
       "[8, 8, 8, 1, 5]"
      ]
     },
     "execution_count": 510,
     "metadata": {},
     "output_type": "execute_result"
    }
   ],
   "source": [
    "a = [8,8,8,]\n",
    "\n",
    "a+[1,5]"
   ]
  },
  {
   "cell_type": "code",
   "execution_count": 513,
   "id": "0f3df944",
   "metadata": {},
   "outputs": [
    {
     "name": "stdout",
     "output_type": "stream",
     "text": [
      "[8, 8, 8, 'cola', 'cola', 'cola']\n"
     ]
    }
   ],
   "source": [
    "a.extend(['cola'])\n",
    "print(a)"
   ]
  },
  {
   "cell_type": "code",
   "execution_count": 520,
   "id": "1e7d0621",
   "metadata": {},
   "outputs": [
    {
     "name": "stdout",
     "output_type": "stream",
     "text": [
      "[['순위', '영화'], ['', '알라딘'], ['', '토이스토리'], ['', '슈퍼맨 리턴즈'], ['', '기생충'], ['', '롱 리브 더 킹']]\n",
      "[['순위', '영화'], ['', '알라딘'], ['', '토이스토리'], ['', '슈퍼맨 리턴즈'], ['', '롱 리브 더 킹']]\n"
     ]
    }
   ],
   "source": [
    "m_r =[['순위', '영화'],['','알라딘'],['','토이스토리'],['','기생충']]\n",
    "\n",
    "m_r.append(['','롱 리브 더 킹']) #리스트 마지막에 롱 리브 더 킹을 추가\n",
    "\n",
    "m_r.insert(3,['','슈퍼맨 리턴즈']) #토이스토리와 기생충 사이에 '슈퍼맨 리턴즈 추가'\n",
    "print(m_r)\n",
    "\n",
    "m_r.remove(['','기생충'])\n",
    "print(m_r)"
   ]
  },
  {
   "cell_type": "code",
   "execution_count": 522,
   "id": "0c231c07",
   "metadata": {},
   "outputs": [
    {
     "name": "stdout",
     "output_type": "stream",
     "text": [
      "['BTS', '엑소', '뉴이스트', 'blackpink', '아이즈원', '트와이스']\n"
     ]
    }
   ],
   "source": [
    "a = ['BTS','엑소', '뉴이스트']\n",
    "b = ['blackpink', '아이즈원', '트와이스']\n",
    "\n",
    "print(a+b)"
   ]
  },
  {
   "cell_type": "code",
   "execution_count": 526,
   "id": "029a8444",
   "metadata": {},
   "outputs": [
    {
     "name": "stdout",
     "output_type": "stream",
     "text": [
      "7\n",
      "1\n"
     ]
    }
   ],
   "source": [
    "num = [1,2,3,4,5,6,7]\n",
    "print(max(num))\n",
    "print(min(num))"
   ]
  },
  {
   "cell_type": "code",
   "execution_count": 527,
   "id": "400d7521",
   "metadata": {},
   "outputs": [
    {
     "data": {
      "text/plain": [
       "15"
      ]
     },
     "execution_count": 527,
     "metadata": {},
     "output_type": "execute_result"
    }
   ],
   "source": [
    "num = [1,2,3,4,5]\n",
    "sum(num)"
   ]
  },
  {
   "cell_type": "code",
   "execution_count": 2,
   "id": "7fc7b0a3",
   "metadata": {},
   "outputs": [
    {
     "data": {
      "text/plain": [
       "5"
      ]
     },
     "execution_count": 2,
     "metadata": {},
     "output_type": "execute_result"
    }
   ],
   "source": [
    "cook = [\"피자\",\"김밥\",\"만두\",\"양념치킨\",\"족발\"]\n",
    "len(cook)"
   ]
  },
  {
   "cell_type": "code",
   "execution_count": 4,
   "id": "fa5cc3c2",
   "metadata": {},
   "outputs": [
    {
     "name": "stdout",
     "output_type": "stream",
     "text": [
      "3.0\n"
     ]
    }
   ],
   "source": [
    "num = [1,2,3,4,5]\n",
    "a = sum(num) \n",
    "print(a/len(num))"
   ]
  },
  {
   "cell_type": "code",
   "execution_count": 6,
   "id": "034597d9",
   "metadata": {},
   "outputs": [
    {
     "name": "stdout",
     "output_type": "stream",
     "text": [
      "[1000, 3000, 4000, 5000, 7000]\n"
     ]
    }
   ],
   "source": [
    "price = ['20190625', 1000, 3000, 4000, 5000, 7000]\n",
    "print(price[1:])"
   ]
  },
  {
   "cell_type": "code",
   "execution_count": 12,
   "id": "5b2bbfd6",
   "metadata": {},
   "outputs": [
    {
     "name": "stdout",
     "output_type": "stream",
     "text": [
      "[1, 3, 5, 7, 9]\n",
      "[2, 4, 6, 8, 10]\n"
     ]
    }
   ],
   "source": [
    "num = [1,2,3,4,5,6,7,8,9,10]\n",
    "print(num[0::2])\n",
    "print(num[1::2])"
   ]
  },
  {
   "cell_type": "code",
   "execution_count": 19,
   "id": "867d1b42",
   "metadata": {},
   "outputs": [
    {
     "ename": "SyntaxError",
     "evalue": "invalid syntax (1886244930.py, line 8)",
     "output_type": "error",
     "traceback": [
      "\u001b[0;36m  Input \u001b[0;32mIn [19]\u001b[0;36m\u001b[0m\n\u001b[0;31m    print(num[::-])\u001b[0m\n\u001b[0m                 ^\u001b[0m\n\u001b[0;31mSyntaxError\u001b[0m\u001b[0;31m:\u001b[0m invalid syntax\n"
     ]
    }
   ],
   "source": [
    "num = [1,2,3,4,5]\n",
    "num.sort(reverse=True)\n",
    "print(num)\n",
    "num = [1,2,3,4,5]\n",
    "num.reverse()\n",
    "print(num)\n"
   ]
  },
  {
   "cell_type": "code",
   "execution_count": 21,
   "id": "e10a8333",
   "metadata": {},
   "outputs": [
    {
     "name": "stdout",
     "output_type": "stream",
     "text": [
      "[5, 4, 3, 2, 1]\n"
     ]
    }
   ],
   "source": [
    "num = [1,2,3,4,5]\n",
    "print(num[::-1])"
   ]
  },
  {
   "cell_type": "code",
   "execution_count": 26,
   "id": "4d4dc395",
   "metadata": {},
   "outputs": [
    {
     "name": "stdout",
     "output_type": "stream",
     "text": [
      "['구글', '아마존', '페이스북']\n",
      "['페이스북', '아마존', '구글']\n"
     ]
    }
   ],
   "source": [
    "string = '구글/아마존/페이스북'\n",
    "wish = string.split('/')\n",
    "print(wish)\n",
    "wish.reverse()\n",
    "print(wish)"
   ]
  },
  {
   "cell_type": "code",
   "execution_count": 23,
   "id": "3f3c8b69",
   "metadata": {},
   "outputs": [
    {
     "name": "stdout",
     "output_type": "stream",
     "text": [
      "구글,아마존,페이스북\n"
     ]
    }
   ],
   "source": [
    "string = '구글/아마존/페이스북'\n",
    "wish = string.replace('/',',')\n",
    "print(wish)"
   ]
  },
  {
   "cell_type": "code",
   "execution_count": null,
   "id": "335d5672",
   "metadata": {},
   "outputs": [],
   "source": []
  }
 ],
 "metadata": {
  "kernelspec": {
   "display_name": "Python 3 (ipykernel)",
   "language": "python",
   "name": "python3"
  },
  "language_info": {
   "codemirror_mode": {
    "name": "ipython",
    "version": 3
   },
   "file_extension": ".py",
   "mimetype": "text/x-python",
   "name": "python",
   "nbconvert_exporter": "python",
   "pygments_lexer": "ipython3",
   "version": "3.9.13"
  }
 },
 "nbformat": 4,
 "nbformat_minor": 5
}
