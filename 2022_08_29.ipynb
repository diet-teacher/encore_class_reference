{
 "cells": [
  {
   "cell_type": "code",
   "execution_count": 12,
   "id": "f34131eb",
   "metadata": {},
   "outputs": [
    {
     "name": "stdout",
     "output_type": "stream",
     "text": [
      "1\n",
      "2\n",
      "3\n",
      "4\n",
      "5\n"
     ]
    }
   ],
   "source": [
    "number = 1\n",
    "\n",
    "while number < 6:\n",
    "    print(number)\n",
    "    number += 1\n",
    "    \n",
    "    "
   ]
  },
  {
   "cell_type": "code",
   "execution_count": 4,
   "id": "a80ca5dc",
   "metadata": {},
   "outputs": [
    {
     "name": "stdout",
     "output_type": "stream",
     "text": [
      "5050\n"
     ]
    }
   ],
   "source": [
    "s = 1\n",
    "su = 0\n",
    "while s <= 100:\n",
    "    \n",
    "    su += s\n",
    "    s += 1\n",
    "    \n",
    "\n",
    "print(su)"
   ]
  },
  {
   "cell_type": "code",
   "execution_count": 9,
   "id": "cf39318f",
   "metadata": {},
   "outputs": [
    {
     "name": "stdout",
     "output_type": "stream",
     "text": [
      "5150\n"
     ]
    }
   ],
   "source": [
    "s = 1\n",
    "su = 0\n",
    "while s <= 100:\n",
    "    \n",
    "    s += 1\n",
    "    su += s\n",
    "  \n",
    "    \n",
    "    \n",
    "print(su)"
   ]
  },
  {
   "cell_type": "code",
   "execution_count": 14,
   "id": "d17c1cf1",
   "metadata": {},
   "outputs": [
    {
     "name": "stdout",
     "output_type": "stream",
     "text": [
      "5050\n"
     ]
    }
   ],
   "source": [
    "\n",
    "su = 0\n",
    "for i in range(1,101):\n",
    "    su += i\n",
    "print(su)\n",
    "    "
   ]
  },
  {
   "cell_type": "code",
   "execution_count": 49,
   "id": "aee71571",
   "metadata": {},
   "outputs": [
    {
     "name": "stdout",
     "output_type": "stream",
     "text": [
      "몇 단을 출력할까요? : 7\n",
      "7 * 1 = 7\n",
      "7 * 2 = 14\n",
      "7 * 3 = 21\n",
      "7 * 4 = 28\n",
      "7 * 5 = 35\n",
      "7 * 6 = 42\n",
      "7 * 7 = 49\n",
      "7 * 8 = 56\n",
      "7 * 9 = 63\n",
      "while 문 끝\n"
     ]
    }
   ],
   "source": [
    "q = int(input('몇 단을 출력할까요? : '))\n",
    "d = 1\n",
    "a = 0\n",
    "while q <= 9 and d <=8:\n",
    "    \n",
    "    d += 1\n",
    "    a = q*d\n",
    "    print(f'{q} * {d} = {a}')\n",
    "print('while 문 끝')"
   ]
  },
  {
   "cell_type": "code",
   "execution_count": 16,
   "id": "555d42ca",
   "metadata": {
    "scrolled": true
   },
   "outputs": [
    {
     "name": "stdout",
     "output_type": "stream",
     "text": [
      "몇 단을 출력할까요? : 9\n",
      "9 * 2 = 18\n",
      "9 * 3 = 27\n",
      "9 * 4 = 36\n",
      "9 * 5 = 45\n",
      "9 * 6 = 54\n",
      "9 * 7 = 63\n",
      "9 * 8 = 72\n",
      "9 * 9 = 81\n",
      "while 문 끝\n"
     ]
    }
   ],
   "source": [
    "q = int(input('몇 단을 출력할까요? : '))\n",
    "d = 1\n",
    "a = 0\n",
    "while d <=8:\n",
    "    \n",
    "    d += 1\n",
    "    a = q*d\n",
    "    print(f'{q} * {d} = {a}')\n",
    "print('while 문 끝')"
   ]
  },
  {
   "cell_type": "code",
   "execution_count": 50,
   "id": "956da2ca",
   "metadata": {
    "scrolled": true
   },
   "outputs": [
    {
     "name": "stdout",
     "output_type": "stream",
     "text": [
      "몇 단을 출력할까요? : 5\n",
      "5x1=5\n",
      "5x2=10\n",
      "5x3=15\n",
      "5x4=20\n",
      "5x5=25\n",
      "5x6=30\n",
      "5x7=35\n",
      "5x8=40\n",
      "5x9=45\n",
      "while 문 끝\n"
     ]
    }
   ],
   "source": [
    "q = int(input('몇 단을 출력할까요? : '))\n",
    "d = 1\n",
    "\n",
    "while d <10:\n",
    "    print(f'{q}x{d}={q*d}')\n",
    "    d += 1\n",
    "    \n",
    "print('while 문 끝')"
   ]
  },
  {
   "cell_type": "code",
   "execution_count": 105,
   "id": "7150deea",
   "metadata": {},
   "outputs": [
    {
     "name": "stdout",
     "output_type": "stream",
     "text": [
      "첫 수를 입력하세요. :100\n",
      "끝 수를 입력하세요. :200\n",
      "합계를 구하고자 하는 배수를 입력하세요. :5\n",
      "3150\n"
     ]
    }
   ],
   "source": [
    "s = int(input('첫 수를 입력하세요. :'))\n",
    "e = int(input('끝 수를 입력하세요. :'))\n",
    "m = int(input('합계를 구하고자 하는 배수를 입력하세요. :'))\n",
    "\n",
    "su = 0\n",
    "while s <= e:\n",
    "    \n",
    "    if s%m ==0:\n",
    "        su += s\n",
    "    s += 1\n",
    "print(su)\n",
    "    "
   ]
  },
  {
   "cell_type": "code",
   "execution_count": 102,
   "id": "9d18fb20",
   "metadata": {},
   "outputs": [
    {
     "name": "stdout",
     "output_type": "stream",
     "text": [
      "첫 수를 입력하세요. :100\n",
      "끝 수를 입력하세요. :300\n",
      "합계를 구하고자 하는 배수를 입력하세요. :5\n",
      "100~300까지 정수 중 5의 배수의 합계 : 8200\n"
     ]
    }
   ],
   "source": [
    "n1 = int(input('첫 수를 입력하세요. :'))\n",
    "n2 = int(input('끝 수를 입력하세요. :'))\n",
    "n = int(input('합계를 구하고자 하는 배수를 입력하세요. :'))\n",
    "\n",
    "sum = 0\n",
    "i = n1\n",
    "while i <= n2:\n",
    "    if i%n == 0:\n",
    "        sum +=i\n",
    "    i+=1\n",
    "\n",
    "\n",
    "print(f'{n1}~{n2}까지 정수 중 {n}의 배수의 합계 : {sum}')"
   ]
  },
  {
   "cell_type": "markdown",
   "id": "5abdeb02",
   "metadata": {},
   "source": [
    "# 100부터 300\n",
    "# "
   ]
  },
  {
   "cell_type": "code",
   "execution_count": 73,
   "id": "7c3cc42b",
   "metadata": {},
   "outputs": [],
   "source": [
    "#100부터 300중에 7의 배수의 합"
   ]
  },
  {
   "cell_type": "code",
   "execution_count": 77,
   "id": "ff468cb0",
   "metadata": {
    "scrolled": true
   },
   "outputs": [
    {
     "name": "stdout",
     "output_type": "stream",
     "text": [
      "첫 수를 입력하세요. :100\n",
      "끝 수를 입력하세요. :300\n",
      "합계를 구하고자 하는 배수를 입력하세요. :5\n",
      "100~300까지 정수 중 5의 배수의 합계 : 8200\n"
     ]
    }
   ],
   "source": [
    "n1 = int(input('첫 수를 입력하세요. :'))\n",
    "n2 = int(input('끝 수를 입력하세요. :'))\n",
    "n = int(input('합계를 구하고자 하는 배수를 입력하세요. :'))\n",
    "\n",
    "sum = 0\n",
    "i = n1\n",
    "while i <= n2:\n",
    "    if i%n == 0:\n",
    "        sum +=i\n",
    "    i+=1\n",
    "\n",
    "\n",
    "print(f'{n1}~{n2}까지 정수 중 {n}의 배수의 합계 : {sum}')"
   ]
  },
  {
   "cell_type": "code",
   "execution_count": 100,
   "id": "efcadec5",
   "metadata": {},
   "outputs": [
    {
     "name": "stdout",
     "output_type": "stream",
     "text": [
      "—————————————————————————-\n",
      "섭씨 | 화씨\n",
      "—————————————————————————-\n",
      "-20 | -4.0\n",
      "-19 | -2.2\n",
      "-18 | -0.4\n",
      "-17 | 1.4\n",
      "-16 | 3.2\n",
      "-15 | 5.0\n",
      "-14 | 6.8\n",
      "-13 | 8.6\n",
      "-12 | 10.4\n",
      "-11 | 12.2\n",
      "-10 | 14.0\n",
      " -9 | 15.8\n",
      " -8 | 17.6\n",
      " -7 | 19.4\n",
      " -6 | 21.2\n",
      " -5 | 23.0\n",
      " -4 | 24.8\n",
      " -3 | 26.6\n",
      " -2 | 28.4\n",
      " -1 | 30.2\n",
      "  0 | 32.0\n",
      "  1 | 33.8\n",
      "  2 | 35.6\n",
      "  3 | 37.4\n",
      "  4 | 39.2\n",
      "  5 | 41.0\n",
      "  6 | 42.8\n",
      "  7 | 44.6\n",
      "  8 | 46.4\n",
      "  9 | 48.2\n",
      " 10 | 50.0\n",
      " 11 | 51.8\n",
      " 12 | 53.6\n",
      " 13 | 55.4\n",
      " 14 | 57.2\n",
      " 15 | 59.0\n",
      " 16 | 60.8\n",
      " 17 | 62.6\n",
      " 18 | 64.4\n",
      " 19 | 66.2\n",
      " 20 | 68.0\n",
      " 21 | 69.8\n",
      " 22 | 71.6\n",
      " 23 | 73.4\n",
      " 24 | 75.2\n",
      " 25 | 77.0\n",
      " 26 | 78.8\n",
      " 27 | 80.6\n",
      " 28 | 82.4\n",
      " 29 | 84.2\n",
      " 30 | 86.0\n",
      " 31 | 87.8\n",
      " 32 | 89.6\n",
      " 33 | 91.4\n",
      " 34 | 93.2\n",
      " 35 | 95.0\n",
      " 36 | 96.8\n",
      " 37 | 98.6\n",
      " 38 | 100.4\n",
      " 39 | 102.2\n",
      " 40 | 104.0\n"
     ]
    }
   ],
   "source": [
    "print('—————————————————————————-')\n",
    "print('섭씨 | 화씨')\n",
    "print('—————————————————————————-')\n",
    "c = -20\n",
    "while c <= 40:\n",
    "    print(\"%3d | %.1f\"%(c, c*1.8+32))\n",
    "    c += 1\n",
    "\n",
    "    "
   ]
  },
  {
   "cell_type": "code",
   "execution_count": 112,
   "id": "90533f6b",
   "metadata": {},
   "outputs": [
    {
     "name": "stdout",
     "output_type": "stream",
     "text": [
      "시작 수 : 200\n",
      "끝 수 : 600\n",
      "배수가 아닐 수 : 3\n",
      "200 202 203 205 206 208 209 211 \n",
      "212 214 215 217 218 220 221 223 \n",
      "224 226 227 229 230 232 233 235 \n",
      "236 238 239 241 242 244 245 247 \n",
      "248 250 251 253 254 256 257 259 \n",
      "260 262 263 265 266 268 269 271 \n",
      "272 274 275 277 278 280 281 283 \n",
      "284 286 287 289 290 292 293 295 \n",
      "296 298 299 301 302 304 305 307 \n",
      "308 310 311 313 314 316 317 319 \n",
      "320 322 323 325 326 328 329 331 \n",
      "332 334 335 337 338 340 341 343 \n",
      "344 346 347 349 350 352 353 355 \n",
      "356 358 359 361 362 364 365 367 \n",
      "368 370 371 373 374 376 377 379 \n",
      "380 382 383 385 386 388 389 391 \n",
      "392 394 395 397 398 400 401 403 \n",
      "404 406 407 409 410 412 413 415 \n",
      "416 418 419 421 422 424 425 427 \n",
      "428 430 431 433 434 436 437 439 \n",
      "440 442 443 445 446 448 449 451 \n",
      "452 454 455 457 458 460 461 463 \n",
      "464 466 467 469 470 472 473 475 \n",
      "476 478 479 481 482 484 485 487 \n",
      "488 490 491 493 494 496 497 499 \n",
      "500 502 503 505 506 508 509 511 \n",
      "512 514 515 517 518 520 521 523 \n",
      "524 526 527 529 530 532 533 535 \n",
      "536 538 539 541 542 544 545 547 \n",
      "548 550 551 553 554 556 557 559 \n",
      "560 562 563 565 566 568 569 571 \n",
      "572 574 575 577 578 580 581 583 \n",
      "584 586 587 589 590 592 593 595 \n",
      "596 598 599 "
     ]
    }
   ],
   "source": [
    "n1 = int(input('시작 수 : '))\n",
    "n2 = int(input('끝 수 : '))\n",
    "n3 = int(input('배수가 아닐 수 : '))\n",
    "count = 0\n",
    "while n1 <= n2:\n",
    "    if n1%n3 != 0:\n",
    "        print(n1, end=' ')\n",
    "        count += 1   #n1이 3의 배수가 아닐때마다 1씩 더해준다.\n",
    "        if count %8 ==0:   #카운트가 8의 배수가 되면 줄 바꿈을 출력\n",
    "            print()\n",
    "    n1+=1   #1씩 더하기, print문 밑에 있어야 출력될 첫 수가 +1이 안 된 상태에서 시작할 수 있다."
   ]
  },
  {
   "cell_type": "code",
   "execution_count": 158,
   "id": "f5bff8d2",
   "metadata": {},
   "outputs": [
    {
     "name": "stdout",
     "output_type": "stream",
     "text": [
      "시작 수 : 100\n",
      "끝 수 : 300\n",
      "배수가 아닐 수 : 3\n",
      "100\n",
      "101\n",
      "103\n",
      "104\n",
      "106\n",
      "107\n",
      "109\n",
      "110\n",
      "112\n",
      "113\n",
      "115\n",
      "116\n",
      "118\n",
      "119\n",
      "121\n",
      "122\n",
      "124\n",
      "125\n",
      "127\n",
      "128\n",
      "130\n",
      "131\n",
      "133\n",
      "134\n",
      "136\n",
      "137\n",
      "139\n",
      "140\n",
      "142\n",
      "143\n",
      "145\n",
      "146\n",
      "148\n",
      "149\n",
      "151\n",
      "152\n",
      "154\n",
      "155\n",
      "157\n",
      "158\n",
      "160\n",
      "161\n",
      "163\n",
      "164\n",
      "166\n",
      "167\n",
      "169\n",
      "170\n",
      "172\n",
      "173\n",
      "175\n",
      "176\n",
      "178\n",
      "179\n",
      "181\n",
      "182\n",
      "184\n",
      "185\n",
      "187\n",
      "188\n",
      "190\n",
      "191\n",
      "193\n",
      "194\n",
      "196\n",
      "197\n",
      "199\n",
      "200\n",
      "202\n",
      "203\n",
      "205\n",
      "206\n",
      "208\n",
      "209\n",
      "211\n",
      "212\n",
      "214\n",
      "215\n",
      "217\n",
      "218\n",
      "220\n",
      "221\n",
      "223\n",
      "224\n",
      "226\n",
      "227\n",
      "229\n",
      "230\n",
      "232\n",
      "233\n",
      "235\n",
      "236\n",
      "238\n",
      "239\n",
      "241\n",
      "242\n",
      "244\n",
      "245\n",
      "247\n",
      "248\n",
      "250\n",
      "251\n",
      "253\n",
      "254\n",
      "256\n",
      "257\n",
      "259\n",
      "260\n",
      "262\n",
      "263\n",
      "265\n",
      "266\n",
      "268\n",
      "269\n",
      "271\n",
      "272\n",
      "274\n",
      "275\n",
      "277\n",
      "278\n",
      "280\n",
      "281\n",
      "283\n",
      "284\n",
      "286\n",
      "287\n",
      "289\n",
      "290\n",
      "292\n",
      "293\n",
      "295\n",
      "296\n",
      "298\n",
      "299\n"
     ]
    }
   ],
   "source": [
    "n1 = int(input('시작 수 : '))\n",
    "n2 = int(input('끝 수 : '))\n",
    "n3 = int(input('배수가 아닐 수 : '))\n",
    "\n",
    "for i in range(n1,n2):\n",
    "    if n1%n3!=0:\n",
    "        print(n1)\n",
    "    n1+=1   #1씩 더하기, print문 밑에 있어야 출력될 첫 수가 +1이 안 된 상태에서 시작할 수 있다."
   ]
  },
  {
   "cell_type": "code",
   "execution_count": 159,
   "id": "c52cec02",
   "metadata": {},
   "outputs": [
    {
     "name": "stdout",
     "output_type": "stream",
     "text": [
      "영어 문장을 입력하세요. : sajkhgdfiuwqe\n",
      "모음 : a i u w e \n",
      "모음의 개수 : 5\n"
     ]
    }
   ],
   "source": [
    "w = input('영어 문장을 입력하세요. : ').lower()\n",
    "v = ['w','e','y','u','i','o','a']\n",
    "i = 0\n",
    "su = 0\n",
    "print('모음 : ', end='')\n",
    "while i < len(w):   #index는 0부터 시작하고 갯수 새는건 1부터 새기 때문에 (예시 0~7 < 8개) =은 들어가면 안됨\n",
    "    \n",
    "    if w[i] in v:\n",
    "        print(w[i], end=' ')\n",
    "        su+=1\n",
    "    i+=1\n",
    "print()\n",
    "print('모음의 개수 : %d' %su)"
   ]
  },
  {
   "cell_type": "code",
   "execution_count": 114,
   "id": "330210e3",
   "metadata": {},
   "outputs": [
    {
     "name": "stdout",
     "output_type": "stream",
     "text": [
      "jjfyughd\n"
     ]
    }
   ],
   "source": [
    "print('JJFYughd'.lower())"
   ]
  },
  {
   "cell_type": "code",
   "execution_count": 161,
   "id": "90ef1f70",
   "metadata": {},
   "outputs": [
    {
     "data": {
      "text/plain": [
       "True"
      ]
     },
     "execution_count": 161,
     "metadata": {},
     "output_type": "execute_result"
    }
   ],
   "source": [
    "v = ['w','e','y','u','i','o','a']\n",
    "'e' in v"
   ]
  },
  {
   "cell_type": "code",
   "execution_count": 162,
   "id": "9f940f45",
   "metadata": {
    "scrolled": true
   },
   "outputs": [
    {
     "name": "stdout",
     "output_type": "stream",
     "text": [
      "영어 문장을 입력하세요. : skdjhfiuhw\n",
      "모음 : \n",
      "모음의 개수 : 0\n"
     ]
    }
   ],
   "source": [
    "s=input('영어 문장을 입력하세요. : ')\n",
    "i=0\n",
    "count = 0\n",
    "print('모음 : ', end = '')\n",
    "while i < len(s):\n",
    "    if s[i].lower in ['w','e','y','u','i','o','a']:\n",
    "        print(s[i], end=' ')\n",
    "        count += 1\n",
    "    i += 1\n",
    "print()\n",
    "print('모음의 개수 :', count)"
   ]
  },
  {
   "cell_type": "code",
   "execution_count": 205,
   "id": "79b49bd5",
   "metadata": {},
   "outputs": [
    {
     "name": "stdout",
     "output_type": "stream",
     "text": [
      "문장을 입력해 주세요. : 쥐 구멍에 볕 들 날 있다.\n",
      "-구멍에-볕-들-날-있다.쥐"
     ]
    }
   ],
   "source": [
    "s = input('문장을 입력해 주세요. : ')\n",
    "i = -len(s) + 1\n",
    "\n",
    "while i <= 0:\n",
    "    \n",
    "    if s[i] ==' ':\n",
    "        print('-', end='')\n",
    "    else:\n",
    "        print(s[i], end='')\n",
    "    i += 1\n",
    "    "
   ]
  },
  {
   "cell_type": "code",
   "execution_count": 201,
   "id": "b2082df2",
   "metadata": {},
   "outputs": [
    {
     "name": "stdout",
     "output_type": "stream",
     "text": [
      "123123\n"
     ]
    }
   ],
   "source": [
    "l = ['dsdfsg','123123','ㅁㄴㅇㄹㅎㅁ','sdfwe']\n",
    "print(l[-3])\n"
   ]
  },
  {
   "cell_type": "code",
   "execution_count": 176,
   "id": "44db672b",
   "metadata": {},
   "outputs": [
    {
     "name": "stdout",
     "output_type": "stream",
     "text": [
      "문장 입력 : 쥐 구멍에 볕 들날 있다.\n",
      ".다있-날들-볕-에멍구-쥐"
     ]
    }
   ],
   "source": [
    "s = input('문장 입력 : ')\n",
    "i =len(s)-1 #1 = str 숫자\n",
    "\n",
    "while i >= 0:\n",
    "    if s[i] ==' ':\n",
    "        print('-', end='')\n",
    "    else:\n",
    "        print(s[i], end='')\n",
    "    i -= 1"
   ]
  },
  {
   "cell_type": "code",
   "execution_count": 168,
   "id": "c4c25289",
   "metadata": {},
   "outputs": [
    {
     "data": {
      "text/plain": [
       "14"
      ]
     },
     "execution_count": 168,
     "metadata": {},
     "output_type": "execute_result"
    }
   ],
   "source": [
    "i"
   ]
  },
  {
   "cell_type": "code",
   "execution_count": 177,
   "id": "03176d77",
   "metadata": {},
   "outputs": [
    {
     "name": "stdout",
     "output_type": "stream",
     "text": [
      "1\n",
      "2\n",
      "3\n",
      "4\n",
      "5\n",
      "6\n",
      "7\n",
      "8\n",
      "9\n",
      "10\n"
     ]
    }
   ],
   "source": [
    "for i in range(1,1001):\n",
    "    print(i)\n",
    "    if i == 10:\n",
    "        break"
   ]
  },
  {
   "cell_type": "code",
   "execution_count": 181,
   "id": "7c5666a3",
   "metadata": {},
   "outputs": [
    {
     "name": "stdout",
     "output_type": "stream",
     "text": [
      "1번 합격\n",
      "3번 합격\n"
     ]
    }
   ],
   "source": [
    "score = [100,7,75,32]\n",
    "num =0\n",
    "for a in score:\n",
    "    num = num+1\n",
    "    if a >= 70:\n",
    "        print('%d번 합격' %num)\n",
    "    else:\n",
    "        continue\n",
    "        print('%d번 불합격' %num)"
   ]
  },
  {
   "cell_type": "code",
   "execution_count": 182,
   "id": "d387f914",
   "metadata": {},
   "outputs": [
    {
     "name": "stdout",
     "output_type": "stream",
     "text": [
      "1번 합격\n",
      "3번 합격\n"
     ]
    }
   ],
   "source": [
    "no = 0\n",
    "for i in [100, 7, 75, 32]:\n",
    "    no += 1\n",
    "    if i < 70:\n",
    "        continue\n",
    "    else:\n",
    "        print(f'{no}번 합격')"
   ]
  },
  {
   "cell_type": "code",
   "execution_count": 233,
   "id": "992b721b",
   "metadata": {},
   "outputs": [
    {
     "name": "stdout",
     "output_type": "stream",
     "text": [
      "지불했으니 사탕을 줍니다.\n",
      "남은 사탕은 3개 입니다.\n",
      "지불했으니 사탕을 줍니다.\n",
      "남은 사탕은 2개 입니다.\n",
      "지불했으니 사탕을 줍니다.\n",
      "남은 사탕은 1개 입니다.\n",
      "지불했으니 사탕을 줍니다.\n",
      "남은 사탕은 0개 입니다.\n",
      "사탕이 다 떨어졌습니다. 판매를 중지합니다.\n"
     ]
    }
   ],
   "source": [
    "candy = 4\n",
    "money = 300\n",
    "while money:\n",
    "    if candy > 0:\n",
    "        print('지불했으니 사탕을 줍니다.')\n",
    "        candy -= 1\n",
    "        print('남은 사탕은 %d개 입니다.'%candy)\n",
    "        \n",
    "    else:\n",
    "        print('사탕이 다 떨어졌습니다. 판매를 중지합니다.')\n",
    "        break"
   ]
  },
  {
   "cell_type": "code",
   "execution_count": 236,
   "id": "db1045f4",
   "metadata": {},
   "outputs": [
    {
     "name": "stdout",
     "output_type": "stream",
     "text": [
      "지불했으니 사탕을 줍니다.\n",
      "남은 사탕은 3개 입니다.\n",
      "지불했으니 사탕을 줍니다.\n",
      "남은 사탕은 2개 입니다.\n",
      "지불했으니 사탕을 줍니다.\n",
      "남은 사탕은 1개 입니다.\n",
      "지불했으니 사탕을 줍니다.\n",
      "남은 사탕은 0개 입니다.\n",
      "사탕이 다 떨어졌습니다. 판매를 중지합니다.\n"
     ]
    }
   ],
   "source": [
    "candy = 4\n",
    "money = 300\n",
    "while money:\n",
    "    \n",
    "        print('지불했으니 사탕을 줍니다.')\n",
    "        candy -= 1\n",
    "        print('남은 사탕은 %d개 입니다.'%candy)\n",
    "        \n",
    "        if candy ==0:\n",
    "            print('사탕이 다 떨어졌습니다. 판매를 중지합니다.')\n",
    "            break"
   ]
  },
  {
   "cell_type": "code",
   "execution_count": 251,
   "id": "660ac338",
   "metadata": {},
   "outputs": [
    {
     "name": "stdout",
     "output_type": "stream",
     "text": [
      "중단할 문자를 입력하시오. :p\n",
      "py\n",
      "p\n",
      "ppt\n",
      "pp\n",
      "pppph\n",
      "pppp\n",
      "ppppppppo\n",
      "pppppppp\n",
      "ppppppppppppppppn\n",
      "pppppppppppppppp\n"
     ]
    },
    {
     "ename": "KeyboardInterrupt",
     "evalue": "Interrupted by user",
     "output_type": "error",
     "traceback": [
      "\u001b[0;31m---------------------------------------------------------------------------\u001b[0m",
      "\u001b[0;31mKeyboardInterrupt\u001b[0m                         Traceback (most recent call last)",
      "Input \u001b[0;32mIn [251]\u001b[0m, in \u001b[0;36m<cell line: 2>\u001b[0;34m()\u001b[0m\n\u001b[1;32m      1\u001b[0m a \u001b[38;5;241m=\u001b[39m \u001b[38;5;28minput\u001b[39m(\u001b[38;5;124m'\u001b[39m\u001b[38;5;124m중단할 문자를 입력하시오. :\u001b[39m\u001b[38;5;124m'\u001b[39m)\n\u001b[1;32m      2\u001b[0m \u001b[38;5;28;01mfor\u001b[39;00m i \u001b[38;5;129;01min\u001b[39;00m \u001b[38;5;124m'\u001b[39m\u001b[38;5;124mpython\u001b[39m\u001b[38;5;124m'\u001b[39m:\n\u001b[0;32m----> 3\u001b[0m     \u001b[38;5;28;43minput\u001b[39;49m\u001b[43m(\u001b[49m\u001b[43ma\u001b[49m\u001b[43m)\u001b[49m\n\u001b[1;32m      4\u001b[0m     \u001b[38;5;28mprint\u001b[39m(a)\n\u001b[1;32m      5\u001b[0m     a \u001b[38;5;241m+\u001b[39m\u001b[38;5;241m=\u001b[39m a\n",
      "File \u001b[0;32m/opt/anaconda3/lib/python3.9/site-packages/ipykernel/kernelbase.py:1075\u001b[0m, in \u001b[0;36mKernel.raw_input\u001b[0;34m(self, prompt)\u001b[0m\n\u001b[1;32m   1071\u001b[0m \u001b[38;5;28;01mif\u001b[39;00m \u001b[38;5;129;01mnot\u001b[39;00m \u001b[38;5;28mself\u001b[39m\u001b[38;5;241m.\u001b[39m_allow_stdin:\n\u001b[1;32m   1072\u001b[0m     \u001b[38;5;28;01mraise\u001b[39;00m StdinNotImplementedError(\n\u001b[1;32m   1073\u001b[0m         \u001b[38;5;124m\"\u001b[39m\u001b[38;5;124mraw_input was called, but this frontend does not support input requests.\u001b[39m\u001b[38;5;124m\"\u001b[39m\n\u001b[1;32m   1074\u001b[0m     )\n\u001b[0;32m-> 1075\u001b[0m \u001b[38;5;28;01mreturn\u001b[39;00m \u001b[38;5;28;43mself\u001b[39;49m\u001b[38;5;241;43m.\u001b[39;49m\u001b[43m_input_request\u001b[49m\u001b[43m(\u001b[49m\n\u001b[1;32m   1076\u001b[0m \u001b[43m    \u001b[49m\u001b[38;5;28;43mstr\u001b[39;49m\u001b[43m(\u001b[49m\u001b[43mprompt\u001b[49m\u001b[43m)\u001b[49m\u001b[43m,\u001b[49m\n\u001b[1;32m   1077\u001b[0m \u001b[43m    \u001b[49m\u001b[38;5;28;43mself\u001b[39;49m\u001b[38;5;241;43m.\u001b[39;49m\u001b[43m_parent_ident\u001b[49m\u001b[43m[\u001b[49m\u001b[38;5;124;43m\"\u001b[39;49m\u001b[38;5;124;43mshell\u001b[39;49m\u001b[38;5;124;43m\"\u001b[39;49m\u001b[43m]\u001b[49m\u001b[43m,\u001b[49m\n\u001b[1;32m   1078\u001b[0m \u001b[43m    \u001b[49m\u001b[38;5;28;43mself\u001b[39;49m\u001b[38;5;241;43m.\u001b[39;49m\u001b[43mget_parent\u001b[49m\u001b[43m(\u001b[49m\u001b[38;5;124;43m\"\u001b[39;49m\u001b[38;5;124;43mshell\u001b[39;49m\u001b[38;5;124;43m\"\u001b[39;49m\u001b[43m)\u001b[49m\u001b[43m,\u001b[49m\n\u001b[1;32m   1079\u001b[0m \u001b[43m    \u001b[49m\u001b[43mpassword\u001b[49m\u001b[38;5;241;43m=\u001b[39;49m\u001b[38;5;28;43;01mFalse\u001b[39;49;00m\u001b[43m,\u001b[49m\n\u001b[1;32m   1080\u001b[0m \u001b[43m\u001b[49m\u001b[43m)\u001b[49m\n",
      "File \u001b[0;32m/opt/anaconda3/lib/python3.9/site-packages/ipykernel/kernelbase.py:1120\u001b[0m, in \u001b[0;36mKernel._input_request\u001b[0;34m(self, prompt, ident, parent, password)\u001b[0m\n\u001b[1;32m   1117\u001b[0m             \u001b[38;5;28;01mbreak\u001b[39;00m\n\u001b[1;32m   1118\u001b[0m \u001b[38;5;28;01mexcept\u001b[39;00m \u001b[38;5;167;01mKeyboardInterrupt\u001b[39;00m:\n\u001b[1;32m   1119\u001b[0m     \u001b[38;5;66;03m# re-raise KeyboardInterrupt, to truncate traceback\u001b[39;00m\n\u001b[0;32m-> 1120\u001b[0m     \u001b[38;5;28;01mraise\u001b[39;00m \u001b[38;5;167;01mKeyboardInterrupt\u001b[39;00m(\u001b[38;5;124m\"\u001b[39m\u001b[38;5;124mInterrupted by user\u001b[39m\u001b[38;5;124m\"\u001b[39m) \u001b[38;5;28;01mfrom\u001b[39;00m \u001b[38;5;28mNone\u001b[39m\n\u001b[1;32m   1121\u001b[0m \u001b[38;5;28;01mexcept\u001b[39;00m \u001b[38;5;167;01mException\u001b[39;00m:\n\u001b[1;32m   1122\u001b[0m     \u001b[38;5;28mself\u001b[39m\u001b[38;5;241m.\u001b[39mlog\u001b[38;5;241m.\u001b[39mwarning(\u001b[38;5;124m\"\u001b[39m\u001b[38;5;124mInvalid Message:\u001b[39m\u001b[38;5;124m\"\u001b[39m, exc_info\u001b[38;5;241m=\u001b[39m\u001b[38;5;28;01mTrue\u001b[39;00m)\n",
      "\u001b[0;31mKeyboardInterrupt\u001b[0m: Interrupted by user"
     ]
    }
   ],
   "source": [
    "a = input('중단할 문자를 입력하시오. :')\n",
    "for i in 'python':\n",
    "    input()\n",
    "    print(a)\n",
    "    a += a\n",
    "    if a == 'python':\n",
    "        print('python 모든 문자 출력 완료!')\n",
    "        \n",
    "        "
   ]
  },
  {
   "cell_type": "code",
   "execution_count": 270,
   "id": "041066f0",
   "metadata": {},
   "outputs": [
    {
     "name": "stdout",
     "output_type": "stream",
     "text": [
      "중단할 문자를 입력하시오. :o\n",
      "pyth"
     ]
    }
   ],
   "source": [
    "a = input('중단할 문자를 입력하시오. :')\n",
    "\n",
    "for i in 'python':\n",
    "    if i == a:\n",
    "        break\n",
    "    else:\n",
    "        print(i, end=\"\")\n",
    "else:\n",
    "    print('모든 문자 출력 완료!')"
   ]
  },
  {
   "cell_type": "code",
   "execution_count": 272,
   "id": "7a9c834a",
   "metadata": {},
   "outputs": [
    {
     "name": "stdout",
     "output_type": "stream",
     "text": [
      "중단할 문자를 입력하시오. :q\n",
      "python모든 문자 출력 완료!\n"
     ]
    }
   ],
   "source": [
    "a = input('중단할 문자를 입력하시오. :')\n",
    "\n",
    "for i in 'python':\n",
    "    if i == a:\n",
    "        continue\n",
    "    else:\n",
    "        print(i, end=\"\")\n",
    "else:\n",
    "    print('모든 문자 출력 완료!')"
   ]
  },
  {
   "cell_type": "code",
   "execution_count": 273,
   "id": "afdac915",
   "metadata": {},
   "outputs": [
    {
     "name": "stdout",
     "output_type": "stream",
     "text": [
      "중단할 문자를 입력하시오. :h\n",
      "pyton모든 문자 출력 완료!\n"
     ]
    }
   ],
   "source": [
    "a = input('중단할 문자를 입력하시오. :')\n",
    "\n",
    "for i in 'python':\n",
    "    if i == a:\n",
    "        pass\n",
    "    else:\n",
    "        print(i, end=\"\")\n",
    "else:\n",
    "    print('모든 문자 출력 완료!')"
   ]
  },
  {
   "cell_type": "code",
   "execution_count": 306,
   "id": "d86b951c",
   "metadata": {
    "scrolled": true
   },
   "outputs": [
    {
     "name": "stdout",
     "output_type": "stream",
     "text": [
      "넣을 돈400\n",
      "커피가 나왔습니다. 거스름 돈 : 100원\n",
      "넣을 돈300\n",
      "커피가 나왔습니다.\n",
      "넣을 돈200\n",
      "금액이 모자랍니다.\n",
      "넣을 돈500\n",
      "커피가 나왔습니다. 거스름 돈 : 200원\n"
     ]
    },
    {
     "ename": "SyntaxError",
     "evalue": "'break' outside loop (4003557993.py, line 18)",
     "output_type": "error",
     "traceback": [
      "\u001b[0;36m  Input \u001b[0;32mIn [306]\u001b[0;36m\u001b[0m\n\u001b[0;31m    break\u001b[0m\n\u001b[0m    ^\u001b[0m\n\u001b[0;31mSyntaxError\u001b[0m\u001b[0;31m:\u001b[0m 'break' outside loop\n"
     ]
    }
   ],
   "source": [
    "c = 3\n",
    "co = 300\n",
    "\n",
    "while c > 0:\n",
    "    p = int(input('넣을 돈'))\n",
    "\n",
    "    if p > co:\n",
    "            print(f'커피가 나왔습니다. 거스름 돈 : {p-co}원')\n",
    "            c -= 1\n",
    "        \n",
    "    elif p == co:\n",
    "            print('커피가 나왔습니다.')\n",
    "            c -= 1\n",
    "        \n",
    "    else:\n",
    "            print('금액이 모자랍니다.')\n",
    "        \n",
    "break"
   ]
  },
  {
   "cell_type": "markdown",
   "id": "7211bb70",
   "metadata": {},
   "source": [
    "### "
   ]
  },
  {
   "cell_type": "code",
   "execution_count": 307,
   "id": "0c3791b9",
   "metadata": {},
   "outputs": [
    {
     "name": "stdout",
     "output_type": "stream",
     "text": [
      "현금을 넣어주세요. :400\n",
      "커피를 제공합니다.\n",
      "거스름돈 100원을 반환합니다.\n",
      "현금을 넣어주세요. :1000\n",
      "커피를 제공합니다.\n",
      "거스름돈 700원을 반환합니다.\n",
      "현금을 넣어주세요. :100\n",
      "돈을 다시 돌려줍니다.\n",
      "커피를 제공하지 않습니다.\n",
      "현금을 넣어주세요. :200\n",
      "돈을 다시 돌려줍니다.\n",
      "커피를 제공하지 않습니다.\n",
      "현금을 넣어주세요. :300\n",
      "커피를 제공합니다.\n",
      "커피 재고가 없습니다. 판매 중지!\n"
     ]
    }
   ],
   "source": [
    "coffee = 3\n",
    "\n",
    "while True:\n",
    "    money = int(input('현금을 넣어주세요. :'))\n",
    "    if money == 300:\n",
    "        print('커피를 제공합니다.')\n",
    "        coffee -= 1\n",
    "    elif money >= 300:\n",
    "        print('커피를 제공합니다.')\n",
    "        coffee -= 1\n",
    "        print(f'거스름돈 {money - 300}원을 반환합니다.')\n",
    "    else: \n",
    "        print('돈을 다시 돌려줍니다.')\n",
    "        print('커피를 제공하지 않습니다.')\n",
    "    if coffee == 0:\n",
    "        print('커피 재고가 없습니다. 판매 중지!')\n",
    "        break"
   ]
  },
  {
   "cell_type": "code",
   "execution_count": null,
   "id": "cc1b2f4d",
   "metadata": {},
   "outputs": [],
   "source": [
    "m_dic{'.-':'a','-...':'b','-.-.':'c','-..':'d','.':'e','..-.':'f','--.':'g','....':'h','..':'i','.---':'j','-.-':'k','.-..':'l','--':'m','-.':'n','---':'o','.--.':'p',''}\n",
    "\n",
    "while True:\n",
    "    m = input('모스부호를 입력하시오. :')\n",
    "    "
   ]
  },
  {
   "cell_type": "code",
   "execution_count": 323,
   "id": "96b8878a",
   "metadata": {},
   "outputs": [
    {
     "name": "stdout",
     "output_type": "stream",
     "text": [
      "....\n",
      "H\n",
      ".\n",
      "E\n",
      "...\n",
      "S\n",
      ".-..\n",
      "L\n",
      ".\n",
      "E\n",
      ".\n",
      "E\n",
      ".--.\n",
      "P\n",
      "...\n",
      "S\n",
      ".\n",
      "E\n",
      ".-\n",
      "A\n",
      ".-.\n",
      "R\n",
      ".-..\n",
      "L\n",
      "-.--\n",
      "Y\n",
      "\n"
     ]
    },
    {
     "ename": "KeyError",
     "evalue": "''",
     "output_type": "error",
     "traceback": [
      "\u001b[0;31m---------------------------------------------------------------------------\u001b[0m",
      "\u001b[0;31mKeyError\u001b[0m                                  Traceback (most recent call last)",
      "Input \u001b[0;32mIn [323]\u001b[0m, in \u001b[0;36m<cell line: 10>\u001b[0;34m()\u001b[0m\n\u001b[1;32m      9\u001b[0m \u001b[38;5;28;01mwhile\u001b[39;00m \u001b[38;5;28;01mTrue\u001b[39;00m:\n\u001b[1;32m     10\u001b[0m     m \u001b[38;5;241m=\u001b[39m \u001b[38;5;28minput\u001b[39m()\n\u001b[0;32m---> 11\u001b[0m     \u001b[38;5;28mprint\u001b[39m(\u001b[43mdic\u001b[49m\u001b[43m[\u001b[49m\u001b[43mm\u001b[49m\u001b[43m]\u001b[49m)\n\u001b[1;32m     12\u001b[0m     \u001b[38;5;28;01mif\u001b[39;00m m \u001b[38;5;241m==\u001b[39m \u001b[38;5;124m'\u001b[39m\u001b[38;5;124m'\u001b[39m:\n\u001b[1;32m     13\u001b[0m         \u001b[38;5;28;01mbreak\u001b[39;00m\n",
      "\u001b[0;31mKeyError\u001b[0m: ''"
     ]
    }
   ],
   "source": [
    "dic = {\n",
    "    '.-':'A','-...':'B','-.-.':'C','-..':'D','.':'E','..-.':'F',\n",
    "    '--.':'G','....':'H','..':'I','.---':'J','-.-':'K','.-..':'L',\n",
    "    '--':'M','-.':'N','---':'O','.--.':'P','--.-':'Q','.-.':'R',\n",
    "    '...':'S','-':'T','..-':'U','...-':'V','.--':'W','-..-':'X',\n",
    "    '-.--':'Y','--..':'Z'\n",
    "}\n",
    "\n",
    "while True:\n",
    "    m = input()\n",
    "    print(dic[m])\n",
    "    if m == '':\n",
    "        break\n"
   ]
  },
  {
   "cell_type": "code",
   "execution_count": 397,
   "id": "49459612",
   "metadata": {},
   "outputs": [
    {
     "ename": "TypeError",
     "evalue": "string indices must be integers",
     "output_type": "error",
     "traceback": [
      "\u001b[0;31m---------------------------------------------------------------------------\u001b[0m",
      "\u001b[0;31mTypeError\u001b[0m                                 Traceback (most recent call last)",
      "Input \u001b[0;32mIn [397]\u001b[0m, in \u001b[0;36m<cell line: 11>\u001b[0;34m()\u001b[0m\n\u001b[1;32m     10\u001b[0m s \u001b[38;5;241m=\u001b[39m code\u001b[38;5;241m.\u001b[39msplit(\u001b[38;5;124m'\u001b[39m\u001b[38;5;124m \u001b[39m\u001b[38;5;124m'\u001b[39m)\n\u001b[1;32m     11\u001b[0m \u001b[38;5;28;01mfor\u001b[39;00m word \u001b[38;5;129;01min\u001b[39;00m s:\n\u001b[0;32m---> 12\u001b[0m     \u001b[38;5;28mprint\u001b[39m(\u001b[43mcode\u001b[49m\u001b[43m[\u001b[49m\u001b[43mword\u001b[49m\u001b[43m]\u001b[49m, end\u001b[38;5;241m=\u001b[39m\u001b[38;5;124m'\u001b[39m\u001b[38;5;124m'\u001b[39m)\n",
      "\u001b[0;31mTypeError\u001b[0m: string indices must be integers"
     ]
    }
   ],
   "source": [
    "dic = {\n",
    "    '.-':'A','-...':'B','-.-.':'C','-..':'D','.':'E','..-.':'F',\n",
    "    '--.':'G','....':'H','..':'I','.---':'J','-.-':'K','.-..':'L',\n",
    "    '--':'M','-.':'N','---':'O','.--.':'P','--.-':'Q','.-.':'R',\n",
    "    '...':'S','-':'T','..-':'U','...-':'V','.--':'W','-..-':'X',\n",
    "    '-.--':'Y','--..':'Z'\n",
    "}\n",
    "\n",
    "code = '.... . ... .-.. . . .--. ... . .- .-. .-.. -.--'\n",
    "s = code.split(' ')\n",
    "for word in s:\n",
    "    print(code[word], end='')"
   ]
  },
  {
   "cell_type": "code",
   "execution_count": 333,
   "id": "335e395a",
   "metadata": {},
   "outputs": [
    {
     "name": "stdout",
     "output_type": "stream",
     "text": [
      "['....', '.', '...', '.-..', '.', '.', '.--.', '...', '.', '.-', '.-.', '.-..', '-.--']\n"
     ]
    }
   ],
   "source": [
    "print(s)"
   ]
  },
  {
   "cell_type": "code",
   "execution_count": 349,
   "id": "0d736513",
   "metadata": {},
   "outputs": [
    {
     "ename": "SyntaxError",
     "evalue": "unexpected EOF while parsing (429584008.py, line 13)",
     "output_type": "error",
     "traceback": [
      "\u001b[0;36m  Input \u001b[0;32mIn [349]\u001b[0;36m\u001b[0m\n\u001b[0;31m    print(tag)\u001b[0m\n\u001b[0m              ^\u001b[0m\n\u001b[0;31mSyntaxError\u001b[0m\u001b[0;31m:\u001b[0m unexpected EOF while parsing\n"
     ]
    }
   ],
   "source": [
    "title = \"\"\"On top of the world! Life is so fantastic if you let it. \n",
    "i have never been happier. #nyc #newyork #vacation #traveling\"\"\"\n",
    "\n",
    "tag_list = title.split(' ')\n",
    "\n",
    "rs = '#'\n",
    "tag =[]\n",
    "\n",
    "for word in tag_list:\n",
    "    if '#' in word:\n",
    "        tag.append(word)\n",
    "print(tag)"
   ]
  },
  {
   "cell_type": "code",
   "execution_count": 353,
   "id": "4e69306c",
   "metadata": {},
   "outputs": [
    {
     "name": "stdout",
     "output_type": "stream",
     "text": [
      "['nyc', 'newyork', 'vacation', 'traveling']\n"
     ]
    }
   ],
   "source": [
    "title = \"\"\"On top of the world! Life is so fantastic if you let it. \n",
    "i have never been happier. #nyc #newyork #vacation #traveling\"\"\"\n",
    "\n",
    "tag_list = []\n",
    "\n",
    "for i in title.split(' '):\n",
    "    if i[0] ==\"#\":\n",
    "        tag_list.append(i[1:])\n",
    "print(tag_list)"
   ]
  },
  {
   "cell_type": "code",
   "execution_count": 354,
   "id": "f5c48ad8",
   "metadata": {},
   "outputs": [
    {
     "name": "stdout",
     "output_type": "stream",
     "text": [
      "\n",
      "\n",
      "\n",
      "\n"
     ]
    }
   ],
   "source": [
    "title = \"\"\"On top of the world! Life is so fantastic if you let it. \n",
    "i have never been happier. #nyc #newyork #vacation #traveling\"\"\"\n",
    "\n",
    "tag_list = []\n",
    "\n",
    "for i in title.split(' '):\n",
    "    if i[0] ==\"#\":\n",
    "        print()"
   ]
  },
  {
   "cell_type": "code",
   "execution_count": 357,
   "id": "b796529a",
   "metadata": {},
   "outputs": [
    {
     "name": "stdout",
     "output_type": "stream",
     "text": [
      "False\n"
     ]
    }
   ],
   "source": [
    "print(5>=8) "
   ]
  },
  {
   "cell_type": "code",
   "execution_count": 374,
   "id": "0f52b760",
   "metadata": {},
   "outputs": [
    {
     "name": "stdout",
     "output_type": "stream",
     "text": [
      "반급습니다\n",
      "반급습니다반급습니다\n"
     ]
    }
   ],
   "source": [
    "h = input()\n",
    "print(h*2)"
   ]
  },
  {
   "cell_type": "code",
   "execution_count": 360,
   "id": "536e3715",
   "metadata": {},
   "outputs": [
    {
     "name": "stdout",
     "output_type": "stream",
     "text": [
      "숫자를 입력하세요. : 30\n",
      "50\n"
     ]
    }
   ],
   "source": [
    "s = int(input('숫자를 입력하세요. : '))\n",
    "print(s+20)"
   ]
  },
  {
   "cell_type": "code",
   "execution_count": 362,
   "id": "7118a5d2",
   "metadata": {},
   "outputs": [
    {
     "name": "stdout",
     "output_type": "stream",
     "text": [
      "숫자 입력3\n",
      "홀수\n"
     ]
    }
   ],
   "source": [
    "e = int(input('숫자 입력 : '))\n",
    "if e%2==0:\n",
    "    print('짝수')\n",
    "else:\n",
    "    print('홀수')"
   ]
  },
  {
   "cell_type": "code",
   "execution_count": 371,
   "id": "70d57992",
   "metadata": {},
   "outputs": [
    {
     "name": "stdout",
     "output_type": "stream",
     "text": [
      "입력값 : 200\n",
      "출력값 : 210\n",
      "입력값 : 250\n",
      "출력값 : 255\n"
     ]
    }
   ],
   "source": [
    "while True:\n",
    "    c = int(input('입력값 : '))\n",
    "    d = c+10\n",
    "    \n",
    "    if d <= 255:\n",
    "        print('출력값 : %d'%d)\n",
    "    else:\n",
    "        print('출력값 : 255')\n",
    "        break  "
   ]
  },
  {
   "cell_type": "code",
   "execution_count": 373,
   "id": "acbae9e5",
   "metadata": {},
   "outputs": [
    {
     "name": "stdout",
     "output_type": "stream",
     "text": [
      "입력값 : 200\n",
      "출력값 : 190\n",
      "입력값 : 19\n",
      "출력값 : 9\n",
      "입력값 : 5\n",
      "출력값 : 0\n"
     ]
    }
   ],
   "source": [
    "while True:\n",
    "    c = int(input('입력값 : '))\n",
    "    d = c-10\n",
    "    \n",
    "    if d > 0:\n",
    "        print('출력값 : %d'%d)\n",
    "    else:\n",
    "        print('출력값 : 0')\n",
    "        break"
   ]
  },
  {
   "cell_type": "code",
   "execution_count": 379,
   "id": "329f42e9",
   "metadata": {},
   "outputs": [
    {
     "name": "stdout",
     "output_type": "stream",
     "text": [
      "현재 시간 : 12:00\n",
      "정각입니다.\n"
     ]
    }
   ],
   "source": [
    "t = input('현재 시간 : ')\n",
    "if t[3] == '0' and t[4] == '0':\n",
    "    print('정각입니다.')\n",
    "else:\n",
    "    print('정각이 아닙니다.')"
   ]
  },
  {
   "cell_type": "code",
   "execution_count": 392,
   "id": "0c23b3d9",
   "metadata": {},
   "outputs": [
    {
     "name": "stdout",
     "output_type": "stream",
     "text": [
      "현재 시간 : 13:00\n",
      "정각입니다.\n"
     ]
    }
   ],
   "source": [
    "t = input('현재 시간 : ')\n",
    "if t[-2:] =='00':\n",
    "    print('정각입니다.')\n",
    "else:\n",
    "    print('정각이 아닙니다.')"
   ]
  },
  {
   "cell_type": "code",
   "execution_count": 382,
   "id": "603fdf20",
   "metadata": {},
   "outputs": [
    {
     "name": "stdout",
     "output_type": "stream",
     "text": [
      "좋아하는 과일은 ? 홍시\n",
      "정답입니다.\n"
     ]
    }
   ],
   "source": [
    "fruit = ['사과', '포도', '홍시']\n",
    "q = input('좋아하는 과일은 ? ')\n",
    "if q in fruit:\n",
    "    print('정답입니다.')\n",
    "else:\n",
    "    print('오답입니다.')"
   ]
  },
  {
   "cell_type": "code",
   "execution_count": 385,
   "id": "6054a7ae",
   "metadata": {},
   "outputs": [
    {
     "name": "stdout",
     "output_type": "stream",
     "text": [
      "종목 : ba\n",
      "투자 경고 종목이 아닙니다.\n"
     ]
    }
   ],
   "source": [
    "investing_warning = ['Microsoft', 'Google','Naver', 'Kakao','SAMSUNG','LG']\n",
    "q = input('종목 : ')\n",
    "if q in investing_warning:\n",
    "    print('투자 경고 종목입니다.')\n",
    "else:\n",
    "    print('투자 경고 종목이 아닙니다.')"
   ]
  },
  {
   "cell_type": "code",
   "execution_count": 396,
   "id": "b1f1f7b2",
   "metadata": {},
   "outputs": [
    {
     "name": "stdout",
     "output_type": "stream",
     "text": [
      "좋아하는 과일은 ? 배\n",
      "오답입니다.\n"
     ]
    }
   ],
   "source": [
    "fruit = {'봄':'딸기', '여름':'토마토', '가을':'사과'}\n",
    "q = input('좋아하는 과일은 ? ')\n",
    "\n",
    "if q in fruit.values():\n",
    "    print('정답입니다.')\n",
    "else:\n",
    "    print('오답입니다.')"
   ]
  },
  {
   "cell_type": "code",
   "execution_count": 24,
   "id": "a0c96bb8",
   "metadata": {},
   "outputs": [
    {
     "name": "stdout",
     "output_type": "stream",
     "text": [
      "오늘의 메뉴 : 김밥\n",
      "오늘의 메뉴 : 라면\n",
      "오늘의 메뉴 : 튀김\n"
     ]
    }
   ],
   "source": [
    "menu = ['김밥','라면','튀김']\n",
    "for i in range(len(menu)):\n",
    "    print('오늘의 메뉴 : %s' %menu[i])\n",
    "    "
   ]
  },
  {
   "cell_type": "code",
   "execution_count": 17,
   "id": "22009c7c",
   "metadata": {},
   "outputs": [
    {
     "name": "stdout",
     "output_type": "stream",
     "text": [
      "sk하이닉스 보유중\n",
      "삼성전자 보유중\n",
      "LG전자 보유중\n"
     ]
    }
   ],
   "source": [
    "portfolio = ['sk하이닉스','삼성전자','LG전자']\n",
    "i = 0\n",
    "while i < len(portfolio):\n",
    "    print(\"%s 보유중\"%portfolio[i])\n",
    "    i += 1"
   ]
  },
  {
   "cell_type": "code",
   "execution_count": 33,
   "id": "789702d1",
   "metadata": {},
   "outputs": [
    {
     "name": "stdout",
     "output_type": "stream",
     "text": [
      "dog 3\n",
      "cat 3\n",
      "parrot 6\n",
      "squirrel 8\n",
      "goldfish 8\n"
     ]
    }
   ],
   "source": [
    "pets = ['dog', 'cat', 'parrot', 'squirrel', 'goldfish']\n",
    "i=0\n",
    "while i < len(pets):\n",
    "    \n",
    "    print('%s %d'%(pets[i], len(pets[i])))\n",
    "    i += 1"
   ]
  },
  {
   "cell_type": "code",
   "execution_count": 35,
   "id": "50a7a538",
   "metadata": {},
   "outputs": [
    {
     "name": "stdout",
     "output_type": "stream",
     "text": [
      "110\n",
      "210\n",
      "310\n"
     ]
    }
   ],
   "source": [
    "tax = 10\n",
    "price = [100,200,300]\n",
    "for j in range(len(price)):\n",
    "    print(price[j] + tax)\n"
   ]
  },
  {
   "cell_type": "code",
   "execution_count": 48,
   "id": "4a6329c2",
   "metadata": {},
   "outputs": [
    {
     "name": "stdout",
     "output_type": "stream",
     "text": [
      "129300\n",
      "1000\n",
      "2300\n"
     ]
    }
   ],
   "source": [
    "prices = ['129,300','1,000','2,300']\n",
    "\n",
    "for j in prices:\n",
    "    j = j.replace(',','')\n",
    "    print(int(j))"
   ]
  },
  {
   "cell_type": "code",
   "execution_count": 51,
   "id": "170da919",
   "metadata": {},
   "outputs": [
    {
     "name": "stdout",
     "output_type": "stream",
     "text": [
      "라면\n",
      "김밥\n",
      "튀김\n"
     ]
    }
   ],
   "source": [
    "menu = ['면라', '밥김', '김튀']\n",
    "for j in menu:\n",
    "    print(j[::-1])"
   ]
  },
  {
   "cell_type": "code",
   "execution_count": 53,
   "id": "624649cc",
   "metadata": {},
   "outputs": [
    {
     "name": "stdout",
     "output_type": "stream",
     "text": [
      "1\n",
      "3\n",
      "5\n"
     ]
    }
   ],
   "source": [
    "my_list = [1,2,3,4,5,6]\n",
    "for i in my_list[::2]:\n",
    "    print(i)"
   ]
  },
  {
   "cell_type": "code",
   "execution_count": 54,
   "id": "0391d660",
   "metadata": {},
   "outputs": [
    {
     "name": "stdout",
     "output_type": "stream",
     "text": [
      "study\n",
      "python\n",
      "language\n"
     ]
    }
   ],
   "source": [
    "my_list = ['i','study', 'python','language','!']\n",
    "for i in my_list:\n",
    "    if len(i) >= 3:\n",
    "        print(i)"
   ]
  },
  {
   "cell_type": "code",
   "execution_count": 55,
   "id": "1428b651",
   "metadata": {},
   "outputs": [
    {
     "name": "stdout",
     "output_type": "stream",
     "text": [
      "7\n",
      "6\n"
     ]
    }
   ],
   "source": [
    "my_list = [3,1,7,10,5,6]\n",
    "for i in my_list:\n",
    "    if i > 5 and i < 10:\n",
    "        print(i)"
   ]
  },
  {
   "cell_type": "code",
   "execution_count": 62,
   "id": "c117e75c",
   "metadata": {},
   "outputs": [
    {
     "name": "stdout",
     "output_type": "stream",
     "text": [
      "12\n",
      "18\n"
     ]
    }
   ],
   "source": [
    "my_list = [13,21,12,14,30,18]\n",
    "for i in my_list:\n",
    "    if 10 < i < 20 and i%3 == 0:\n",
    "        print(i)"
   ]
  },
  {
   "cell_type": "code",
   "execution_count": 61,
   "id": "9f68b810",
   "metadata": {},
   "outputs": [
    {
     "name": "stdout",
     "output_type": "stream",
     "text": [
      "3\n",
      "12\n",
      "16\n"
     ]
    }
   ],
   "source": [
    "my_list = [3,1,7,12,5,16]\n",
    "for i in my_list:\n",
    "    if i % 3 == 0 or i % 4 ==0:\n",
    "        print(i)\n"
   ]
  },
  {
   "cell_type": "code",
   "execution_count": null,
   "id": "f4861d7f",
   "metadata": {},
   "outputs": [],
   "source": []
  }
 ],
 "metadata": {
  "kernelspec": {
   "display_name": "Python 3 (ipykernel)",
   "language": "python",
   "name": "python3"
  },
  "language_info": {
   "codemirror_mode": {
    "name": "ipython",
    "version": 3
   },
   "file_extension": ".py",
   "mimetype": "text/x-python",
   "name": "python",
   "nbconvert_exporter": "python",
   "pygments_lexer": "ipython3",
   "version": "3.9.12"
  }
 },
 "nbformat": 4,
 "nbformat_minor": 5
}
