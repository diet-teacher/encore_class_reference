{
 "cells": [
  {
   "cell_type": "code",
   "execution_count": 3,
   "metadata": {},
   "outputs": [
    {
     "data": {
      "text/plain": [
       "-1"
      ]
     },
     "execution_count": 3,
     "metadata": {},
     "output_type": "execute_result"
    }
   ],
   "source": [
    "import cv2\n",
    "import numpy as np\n",
    "\n",
    "path = './강의 파일/5 실습이미지데이터/'\n",
    "src = cv2.imread(path + 'human1.jpg', 0)\n",
    "_, img = cv2.threshold(src, 0, 255, \n",
    "                         cv2.THRESH_BINARY_INV+cv2.THRESH_OTSU)\n",
    "rows, cols = img.shape[:2]\n",
    "# 마스크 생성, 원래 이미지 보다 2픽셀 크게 ---①\n",
    "mask = np.zeros((rows+2, cols+2), np.uint8)\n",
    "\n",
    "# 채우기에 사용할 색 ---②\n",
    "newVal = (100)\n",
    "\n",
    "# 최소 최대 차이 값 ---③\n",
    "loDiff, upDiff = (10), (10)\n",
    "\n",
    "# 마우스 이벤트 처리 함수\n",
    "def onMouse(event, x, y, flags, param):\n",
    "    global mask, img\n",
    "    if event == cv2.EVENT_LBUTTONDOWN:\n",
    "        seed = (x,y)\n",
    "        # 색 채우기 적용 ---④\n",
    "        retval = cv2.floodFill(img, mask, seed, newVal, loDiff, upDiff)\n",
    "        # 채우기 변경 결과 표시 ---⑤\n",
    "        cv2.imshow('img', img)\n",
    "\n",
    "# 화면 출력\n",
    "cv2.imshow('img', img)\n",
    "cv2.setMouseCallback('img', onMouse)\n",
    "cv2.waitKey()\n",
    "cv2.destroyAllWindows()\n",
    "cv2.waitKey(1)"
   ]
  },
  {
   "cell_type": "code",
   "execution_count": null,
   "metadata": {},
   "outputs": [],
   "source": []
  }
 ],
 "metadata": {
  "kernelspec": {
   "display_name": "Python 3",
   "language": "python",
   "name": "python3"
  },
  "language_info": {
   "codemirror_mode": {
    "name": "ipython",
    "version": 3
   },
   "file_extension": ".py",
   "mimetype": "text/x-python",
   "name": "python",
   "nbconvert_exporter": "python",
   "pygments_lexer": "ipython3",
   "version": "3.8.3"
  }
 },
 "nbformat": 4,
 "nbformat_minor": 4
}
