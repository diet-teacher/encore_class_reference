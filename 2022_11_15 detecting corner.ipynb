{
 "cells": [
  {
   "cell_type": "code",
   "execution_count": 3,
   "id": "b0c2a0e7",
   "metadata": {},
   "outputs": [],
   "source": [
    "import cv2\n",
    "import numpy as np\n",
    "import matplotlib.pyplot as plt"
   ]
  },
  {
   "cell_type": "code",
   "execution_count": 4,
   "id": "adcdd06b",
   "metadata": {},
   "outputs": [
    {
     "name": "stdout",
     "output_type": "stream",
     "text": [
      "-1.1220559\n",
      "1.125\n"
     ]
    }
   ],
   "source": [
    "src = cv2.imread('/Users/iseung-won/CornerTest.jpg')\n",
    "gray = cv2.cvtColor(src, cv2.COLOR_BGR2GRAY)\n",
    "res = cv2.preCornerDetect(gray, ksize=3)\n",
    "\n",
    "cv2.imshow('gray', gray)\n",
    "cv2.imshow('res', res)\n",
    "cv2.waitKey()\n",
    "cv2.destroyAllWindows()\n",
    "cv2.waitKey(1)\n",
    "print(np.min(res))\n",
    "print(np.max(res))"
   ]
  },
  {
   "cell_type": "code",
   "execution_count": 27,
   "id": "61c053f3",
   "metadata": {},
   "outputs": [
    {
     "name": "stdout",
     "output_type": "stream",
     "text": [
      "0.0\n",
      "1.125\n"
     ]
    }
   ],
   "source": [
    "res1 = np.abs(res)\n",
    "print(np.min(res1))\n",
    "print(np.max(res1))"
   ]
  },
  {
   "cell_type": "code",
   "execution_count": 5,
   "id": "4c96945c",
   "metadata": {},
   "outputs": [
    {
     "data": {
      "text/plain": [
       "-1"
      ]
     },
     "execution_count": 5,
     "metadata": {},
     "output_type": "execute_result"
    }
   ],
   "source": [
    "ret, dst = cv2.threshold(np.abs(res), 0.1, 255, cv2.THRESH_BINARY)\n",
    "cv2.imshow('dst', dst)\n",
    "cv2.waitKey()\n",
    "cv2.destroyAllWindows()\n",
    "cv2.waitKey(1)"
   ]
  },
  {
   "cell_type": "code",
   "execution_count": 8,
   "id": "705744aa",
   "metadata": {},
   "outputs": [
    {
     "data": {
      "text/plain": [
       "-1"
      ]
     },
     "execution_count": 8,
     "metadata": {},
     "output_type": "execute_result"
    }
   ],
   "source": [
    "ret, res2 = cv2.threshold(np.abs(res), 0.1, 0, cv2.THRESH_TOZERO)\n",
    "cv2.imshow('res2', res2)\n",
    "cv2.waitKey()\n",
    "cv2.destroyAllWindows()\n",
    "cv2.waitKey(1)"
   ]
  },
  {
   "cell_type": "code",
   "execution_count": 32,
   "id": "21068e44",
   "metadata": {},
   "outputs": [
    {
     "data": {
      "text/plain": [
       "array([[125, 108],\n",
       "       [125, 265],\n",
       "       [126, 107],\n",
       "       [126, 108],\n",
       "       [126, 265],\n",
       "       [126, 266],\n",
       "       [168, 265],\n",
       "       [168, 266],\n",
       "       [168, 387],\n",
       "       [169, 266],\n",
       "       [169, 387],\n",
       "       [169, 388],\n",
       "       [269, 107],\n",
       "       [269, 108],\n",
       "       [269, 168],\n",
       "       [270, 108],\n",
       "       [270, 168],\n",
       "       [270, 169],\n",
       "       [375, 168],\n",
       "       [375, 169],\n",
       "       [375, 387],\n",
       "       [375, 388],\n",
       "       [376, 169],\n",
       "       [376, 387]])"
      ]
     },
     "execution_count": 32,
     "metadata": {},
     "output_type": "execute_result"
    }
   ],
   "source": [
    "points = np.argwhere(res2 > 0)\n",
    "points"
   ]
  },
  {
   "cell_type": "code",
   "execution_count": 31,
   "id": "8c5fa071",
   "metadata": {},
   "outputs": [
    {
     "data": {
      "text/plain": [
       "0.18749999"
      ]
     },
     "execution_count": 31,
     "metadata": {},
     "output_type": "execute_result"
    }
   ],
   "source": [
    "res2[125, 108]"
   ]
  },
  {
   "cell_type": "code",
   "execution_count": 33,
   "id": "6d88ea72",
   "metadata": {},
   "outputs": [
    {
     "data": {
      "text/plain": [
       "Text(0.5, 1.0, 'res2')"
      ]
     },
     "execution_count": 33,
     "metadata": {},
     "output_type": "execute_result"
    },
    {
     "data": {
      "image/png": "[encoded data removed]",
      "text/plain": [
       "<Figure size 1000x1000 with 4 Axes>"
      ]
     },
     "metadata": {},
     "output_type": "display_data"
    }
   ],
   "source": [
    "import matplotlib.pyplot as plt\n",
    "fig = plt.figure(figsize=(10,10))\n",
    "\n",
    "\n",
    "fig.add_subplot(4,2,1)\n",
    "plt.hist(gray)\n",
    "plt.title('gray')\n",
    "\n",
    "fig.add_subplot(4,2,2)\n",
    "plt.hist(res)\n",
    "plt.title('res')\n",
    "\n",
    "fig.add_subplot(4,2,3)\n",
    "plt.hist(dst)\n",
    "plt.title('dst')\n",
    "\n",
    "fig.add_subplot(4,2,4)\n",
    "plt.hist(res2)\n",
    "plt.title('res2')"
   ]
  },
  {
   "cell_type": "code",
   "execution_count": 9,
   "id": "2865ea76",
   "metadata": {},
   "outputs": [
    {
     "data": {
      "text/plain": [
       "-1"
      ]
     },
     "execution_count": 9,
     "metadata": {},
     "output_type": "execute_result"
    }
   ],
   "source": [
    "src = cv2.imread('/Users/iseung-won/CornerTest.jpg')\n",
    "gray = cv2.cvtColor(src, cv2.COLOR_BGR2GRAY)\n",
    "res = cv2.preCornerDetect(gray, ksize=3)\n",
    "ret, res2 = cv2.threshold(np.abs(res), 0.1, 0, cv2.THRESH_TOZERO)\n",
    "points = np.argwhere(res2 > 0)\n",
    "\n",
    "\n",
    "for center in points:\n",
    "    y, x = center\n",
    "    cv2.circle(src, (x, y), 3, (0, 0, 255), 2)\n",
    "\n",
    "\n",
    "cv2.imshow('src', src)\n",
    "cv2.waitKey()\n",
    "cv2.destroyAllWindows()\n",
    "cv2.waitKey(1)"
   ]
  },
  {
   "cell_type": "code",
   "execution_count": 45,
   "id": "225a1411",
   "metadata": {},
   "outputs": [],
   "source": [
    "def findLocalMaxima(src):\n",
    "    kernel = cv2.getStructuringElement(shape=cv2.MORPH_RECT, ksize=(11,11))\n",
    "    dilate = cv2.dilate(src, kernel)\n",
    "    localMax = (src == dilate)\n",
    "    erode = cv2.erode(src, kernel)\n",
    "    localMax2 = (src > erode)\n",
    "    localMax &= localMax2\n",
    "    points = np.argwhere(localMax == True)\n",
    "    points[:, [0, 1]] = points[:, [1, 0]]\n",
    "    return points"
   ]
  },
  {
   "cell_type": "code",
   "execution_count": 46,
   "id": "f2e05e16",
   "metadata": {},
   "outputs": [
    {
     "data": {
      "text/plain": [
       "-1"
      ]
     },
     "execution_count": 46,
     "metadata": {},
     "output_type": "execute_result"
    }
   ],
   "source": [
    "src = cv2.imread('/Users/iseung-won/CornerTest.jpg')\n",
    "gray = cv2.cvtColor(src, cv2.COLOR_BGR2GRAY)\n",
    "res = cv2.preCornerDetect(gray, ksize=3)\n",
    "_, res2 = cv2.threshold(np.abs(res), 0.1, 0, cv2.THRESH_TOZERO)\n",
    "points = findLocalMaxima(res2)\n",
    "dst = src.copy()\n",
    "for x, y in points:\n",
    "    r = np.random.randint(0, 255)\n",
    "    g = np.random.randint(0, 255)\n",
    "    b = np.random.randint(0, 255)\n",
    "    cv2.circle(dst, (x, y), 4, (b, g, r), 2) # corners 이용 작은 원 그리기\n",
    "cv2.imshow('src', gray)\n",
    "cv2.imshow('res2', res2)\n",
    "cv2.imshow('dst', dst)\n",
    "cv2.waitKey()\n",
    "cv2.destroyAllWindows()\n",
    "cv2.waitKey(1)"
   ]
  },
  {
   "cell_type": "code",
   "execution_count": 62,
   "id": "61faea8f",
   "metadata": {},
   "outputs": [
    {
     "name": "stdout",
     "output_type": "stream",
     "text": [
      "8\n",
      "8\n",
      "4\n",
      "0\n",
      "8\n",
      "24\n"
     ]
    }
   ],
   "source": [
    "# 비트 연산 - 이진수로 바꿔서 같은 수가 있으면 나옴\n",
    "print(10 & 8)\n",
    "print(8 & 10)\n",
    "print(4 & 5)\n",
    "print(6 & 8)\n",
    "print(12 & 24)\n",
    "print(26 & 25)"
   ]
  },
  {
   "cell_type": "code",
   "execution_count": 7,
   "id": "0ee638be",
   "metadata": {},
   "outputs": [
    {
     "data": {
      "text/plain": [
       "-1"
      ]
     },
     "execution_count": 7,
     "metadata": {},
     "output_type": "execute_result"
    }
   ],
   "source": [
    "src = cv2.imread('/Users/iseung-won/CornerTest.jpg')\n",
    "gray = cv2.cvtColor(src, cv2.COLOR_BGR2GRAY)\n",
    "\n",
    "eigen = cv2.cornerMinEigenVal(gray, blockSize=5)\n",
    "corners = np.argwhere(eigen>0.2)\n",
    "corners[:,[0,1]]= corners[:,[1,0]]\n",
    "\n",
    "corners\n",
    "\n",
    "\n",
    "for x, y in corners:\n",
    "    r = np.random.randint(0, 255)\n",
    "    g = np.random.randint(0, 255)\n",
    "    b = np.random.randint(0, 255)\n",
    "    cv2.circle(src, (x, y), 4, (b, g, r), 2) # corners 이용 작은 원 그리기\n",
    "cv2.imshow('src', src)\n",
    "cv2.imshow('eigen', eigen)\n",
    "\n",
    "cv2.waitKey()\n",
    "cv2.destroyAllWindows()\n",
    "cv2.waitKey(1)"
   ]
  },
  {
   "cell_type": "code",
   "execution_count": 8,
   "id": "c9cb6671",
   "metadata": {},
   "outputs": [
    {
     "data": {
      "text/plain": [
       "-1"
      ]
     },
     "execution_count": 8,
     "metadata": {},
     "output_type": "execute_result"
    }
   ],
   "source": [
    "def findLocalMaxima(src):\n",
    "    kernel = cv2.getStructuringElement(shape=cv2.MORPH_RECT, ksize=(11,11))\n",
    "    dilate = cv2.dilate(src, kernel)\n",
    "    localMax = (src == dilate)\n",
    "    erode = cv2.erode(src, kernel)\n",
    "    localMax2 = (src > erode)\n",
    "    localMax &= localMax2\n",
    "    points = np.argwhere(localMax == True)\n",
    "    points[:, [0, 1]] = points[:, [1, 0]]\n",
    "    return points\n",
    "\n",
    "src = cv2.imread('/Users/iseung-won/lena.jpg')\n",
    "gray = cv2.cvtColor(src, cv2.COLOR_BGR2GRAY)\n",
    "res = cv2.preCornerDetect(gray, ksize=7)\n",
    "_, res2 = cv2.threshold(np.abs(res), 0.2, 0, cv2.THRESH_TOZERO)\n",
    "points = findLocalMaxima(res2)\n",
    "len(points)\n",
    "dst = src.copy()\n",
    "for x, y in points:\n",
    "    r = np.random.randint(0, 255)\n",
    "    g = np.random.randint(0, 255)\n",
    "    b = np.random.randint(0, 255)\n",
    "    cv2.circle(src, (x, y), 4, (b, g, r), 2) # corners 이용 작은 원 그리기\n",
    "cv2.imshow('src', src)\n",
    "cv2.imshow('res2', res2)\n",
    "\n",
    "cv2.waitKey()\n",
    "cv2.destroyAllWindows()\n",
    "cv2.waitKey(1)"
   ]
  },
  {
   "cell_type": "code",
   "execution_count": 14,
   "id": "cf0c6eed",
   "metadata": {},
   "outputs": [
    {
     "data": {
      "text/plain": [
       "-1"
      ]
     },
     "execution_count": 14,
     "metadata": {},
     "output_type": "execute_result"
    }
   ],
   "source": [
    "def findLocalMaxima(src):\n",
    "    kernel = cv2.getStructuringElement(shape=cv2.MORPH_RECT, ksize=(11,11))\n",
    "    dilate = cv2.dilate(src, kernel)\n",
    "    localMax = (src == dilate)\n",
    "    erode = cv2.erode(src, kernel)\n",
    "    localMax2 = (src > erode)\n",
    "    localMax &= localMax2\n",
    "    points = np.argwhere(localMax == True)\n",
    "    points[:, [0, 1]] = points[:, [1, 0]]\n",
    "    return points\n",
    "\n",
    "src = cv2.imread('/Users/iseung-won/lena.jpg')\n",
    "gray = cv2.cvtColor(src, cv2.COLOR_BGR2GRAY)\n",
    "\n",
    "eigen = cv2.cornerMinEigenVal(gray, blockSize=7)\n",
    "corners = np.argwhere(eigen>0.5)\n",
    "corners[:,[0,1]]= corners[:,[1,0]]\n",
    "\n",
    "# fig = plt.figure(figsize=(10,10))\n",
    "# plt.hist(eigen)\n",
    "# plt.show()\n",
    "\n",
    "for x, y in corners:\n",
    "    r = np.random.randint(0, 255)\n",
    "    g = np.random.randint(0, 255)\n",
    "    b = np.random.randint(0, 255)\n",
    "    cv2.circle(src, (x, y), 4, (b, g, r), 2) # corners 이용 작은 원 그리기\n",
    "cv2.imshow('src', src)\n",
    "cv2.imshow('eigen', eigen)\n",
    "\n",
    "cv2.waitKey()\n",
    "cv2.destroyAllWindows()\n",
    "cv2.waitKey(1)"
   ]
  },
  {
   "cell_type": "code",
   "execution_count": 15,
   "id": "fdb404a8",
   "metadata": {},
   "outputs": [
    {
     "data": {
      "text/plain": [
       "-1"
      ]
     },
     "execution_count": 15,
     "metadata": {},
     "output_type": "execute_result"
    }
   ],
   "source": [
    "\n",
    "src = cv2.imread('/Users/iseung-won/lena.jpg')\n",
    "gray = cv2.cvtColor(src, cv2.COLOR_BGR2GRAY)\n",
    "\n",
    "eigen = cv2.cornerMinEigenVal(gray, blockSize=11)\n",
    "points = findLocalMaxima(eigen)\n",
    "\n",
    "# fig = plt.figure(figsize=(10,10))\n",
    "# plt.hist(eigen)\n",
    "# plt.show()\n",
    "\n",
    "for x, y in points:\n",
    "    r = np.random.randint(0, 255)\n",
    "    g = np.random.randint(0, 255)\n",
    "    b = np.random.randint(0, 255)\n",
    "    cv2.circle(src, (x, y), 4, (b, g, r), 2) # corners 이용 작은 원 그리기\n",
    "cv2.imshow('src', src)\n",
    "cv2.imshow('eigen', eigen)\n",
    "\n",
    "cv2.waitKey()\n",
    "cv2.destroyAllWindows()\n",
    "cv2.waitKey(1)"
   ]
  },
  {
   "cell_type": "code",
   "execution_count": 180,
   "id": "e2bedc60",
   "metadata": {},
   "outputs": [
    {
     "data": {
      "text/plain": [
       "-1"
      ]
     },
     "execution_count": 180,
     "metadata": {},
     "output_type": "execute_result"
    }
   ],
   "source": [
    "src = cv2.imread('/Users/iseung-won/lena.jpg')\n",
    "gray = cv2.cvtColor(src, cv2.COLOR_BGR2GRAY)\n",
    "res = cv2.cornerHarris(gray, blockSize=5,ksize=3, k=0.01)\n",
    "ret, res2 = cv2.threshold(np.abs(res), 0.001, 0, cv2.THRESH_TOZERO)\n",
    "points = findLocalMaxima(res2)\n",
    "for x, y in points:\n",
    "    cv2.circle(src, (x, y), 4, (0, 0, 255), 2) # corners 이용 작은 원 그리기\n",
    "cv2.imshow('src', src)\n",
    "cv2.imshow('eigen', eigen)\n",
    "\n",
    "cv2.waitKey()\n",
    "cv2.destroyAllWindows()\n",
    "cv2.waitKey(1)"
   ]
  },
  {
   "cell_type": "code",
   "execution_count": 188,
   "id": "803aef11",
   "metadata": {},
   "outputs": [
    {
     "data": {
      "text/plain": [
       "-1"
      ]
     },
     "execution_count": 188,
     "metadata": {},
     "output_type": "execute_result"
    }
   ],
   "source": [
    "src = cv2.imread('/Users/iseung-won/CornerTest.jpg')\n",
    "gray = cv2.cvtColor(src, cv2.COLOR_BGR2GRAY)\n",
    "res = cv2.cornerHarris(gray, blockSize=5, ksize=3, k=0.01)\n",
    "ret, res2 = cv2.threshold(np.abs(res), 0.01, 0, cv2.THRESH_TOZERO)\n",
    "\n",
    "points = findLocalMaxima(res2)\n",
    "for x, y in points:\n",
    "    cv2.circle(src, (x, y), 4, (0, 0, 255), 2) # corners 이용 작은 원 그리기\n",
    "cv2.imshow('src', src)\n",
    "cv2.imshow('eigen', eigen)\n",
    "\n",
    "cv2.waitKey()\n",
    "cv2.destroyAllWindows()\n",
    "cv2.waitKey(1)"
   ]
  },
  {
   "cell_type": "code",
   "execution_count": 189,
   "id": "10631755",
   "metadata": {},
   "outputs": [
    {
     "name": "stdout",
     "output_type": "stream",
     "text": [
      "corners = [[109 127]\n",
      " [264 127]\n",
      " [267 167]\n",
      " [386 170]\n",
      " [109 268]\n",
      " [167 271]\n",
      " [170 374]\n",
      " [386 374]]\n"
     ]
    },
    {
     "data": {
      "text/plain": [
       "-1"
      ]
     },
     "execution_count": 189,
     "metadata": {},
     "output_type": "execute_result"
    }
   ],
   "source": [
    "#강사님 코드\n",
    "\n",
    "src = cv2.imread('/Users/iseung-won/CornerTest.jpg')\n",
    "gray = cv2.cvtColor(src, cv2.COLOR_BGR2GRAY)\n",
    "res = cv2.cornerHarris(gray, blockSize=5, ksize=3, k=0.01) # 해리스에서 지정하는 k 상수\n",
    "ret, res2 = cv2.threshold(np.abs(res), 0.005, 0, cv2.THRESH_TOZERO) # 임계값 0.02 기준, res 절대값 낮으면 0, 높으면 원래 값\n",
    "corners = findLocalMaxima(res2) # 위 함수에 적용, 로컬 맥시마 위치 저장\n",
    "print('corners =', corners) # 코너 좌표 출력\n",
    "dst = src.copy()\n",
    "for x, y in corners:\n",
    "    cv2.circle(dst, (x, y), 3, (0, 0, 255), 2)\n",
    "cv2.imshow('cornerHarris', dst)\n",
    "cv2.waitKey()\n",
    "cv2.destroyAllWindows()\n",
    "cv2.waitKey(1)"
   ]
  },
  {
   "cell_type": "code",
   "execution_count": 214,
   "id": "b7110795",
   "metadata": {},
   "outputs": [
    {
     "name": "stdout",
     "output_type": "stream",
     "text": [
      "48\n",
      "(< cv2.KeyPoint 0x7f986017da50>, < cv2.KeyPoint 0x7f986017d9c0>, < cv2.KeyPoint 0x7f986014d090>, < cv2.KeyPoint 0x7f986014d720>, < cv2.KeyPoint 0x7f986014d270>, < cv2.KeyPoint 0x7f986014d180>, < cv2.KeyPoint 0x7f986014de70>, < cv2.KeyPoint 0x7f986014d450>, < cv2.KeyPoint 0x7f9860114d80>, < cv2.KeyPoint 0x7f9860157b10>, < cv2.KeyPoint 0x7f98601577b0>, < cv2.KeyPoint 0x7f98601571e0>, < cv2.KeyPoint 0x7f9860157630>, < cv2.KeyPoint 0x7f9860157330>, < cv2.KeyPoint 0x7f9860157780>, < cv2.KeyPoint 0x7f98600a0ba0>, < cv2.KeyPoint 0x7f98600a0270>, < cv2.KeyPoint 0x7f98600a0a50>, < cv2.KeyPoint 0x7f98600a0f00>, < cv2.KeyPoint 0x7f98600a0ab0>, < cv2.KeyPoint 0x7f98600a0870>, < cv2.KeyPoint 0x7f98600a0420>, < cv2.KeyPoint 0x7f98600a0990>, < cv2.KeyPoint 0x7f98600a05a0>, < cv2.KeyPoint 0x7f98600a0150>, < cv2.KeyPoint 0x7f98600a0b70>, < cv2.KeyPoint 0x7f98600a0cc0>, < cv2.KeyPoint 0x7f98600a03c0>, < cv2.KeyPoint 0x7f98600a5870>, < cv2.KeyPoint 0x7f98600a51e0>, < cv2.KeyPoint 0x7f98600a5960>, < cv2.KeyPoint 0x7f98600a5120>, < cv2.KeyPoint 0x7f98600a55d0>, < cv2.KeyPoint 0x7f98600a53c0>, < cv2.KeyPoint 0x7f98600a54b0>, < cv2.KeyPoint 0x7f98600a5780>, < cv2.KeyPoint 0x7f98600a5ea0>, < cv2.KeyPoint 0x7f98600a5630>, < cv2.KeyPoint 0x7f98600a5a20>, < cv2.KeyPoint 0x7f98600a55a0>, < cv2.KeyPoint 0x7f98600a5e40>, < cv2.KeyPoint 0x7f98600a5030>, < cv2.KeyPoint 0x7f98600a5f30>, < cv2.KeyPoint 0x7f98600a5990>, < cv2.KeyPoint 0x7f98600a53f0>, < cv2.KeyPoint 0x7f98600a5720>, < cv2.KeyPoint 0x7f98600a5a50>, < cv2.KeyPoint 0x7f98600a58a0>)\n"
     ]
    },
    {
     "data": {
      "text/plain": [
       "-1"
      ]
     },
     "execution_count": 214,
     "metadata": {},
     "output_type": "execute_result"
    }
   ],
   "source": [
    "src = cv2.imread('/Users/iseung-won/CornerTest.jpg')\n",
    "gray = cv2.cvtColor(src, cv2.COLOR_BGR2GRAY)\n",
    "\n",
    "fast = cv2.FastFeatureDetector_create(30)\n",
    "fast.setNonmaxSuppression(0)\n",
    "kp = fast.detect(src, None)\n",
    "dst = src.copy()\n",
    "cv2.drawKeypoints(src, kp, dst, (0,0,255))\n",
    "print(len(kp))\n",
    "print(kp)\n",
    "cv2.imshow('Fast', dst)\n",
    "cv2.waitKey()\n",
    "cv2.destroyAllWindows()\n",
    "cv2.waitKey(1)"
   ]
  },
  {
   "cell_type": "code",
   "execution_count": 212,
   "id": "b356d08c",
   "metadata": {},
   "outputs": [
    {
     "name": "stdout",
     "output_type": "stream",
     "text": [
      "3\n"
     ]
    },
    {
     "data": {
      "text/plain": [
       "-1"
      ]
     },
     "execution_count": 212,
     "metadata": {},
     "output_type": "execute_result"
    }
   ],
   "source": [
    "src = cv2.imread('/Users/iseung-won/CornerTest.jpg')\n",
    "gray = cv2.cvtColor(src, cv2.COLOR_BGR2GRAY)\n",
    "\n",
    "fast = cv2.FastFeatureDetector_create(30)\n",
    "\n",
    "kp = fast.detect(src, None)\n",
    "dst = src.copy()\n",
    "cv2.drawKeypoints(src, kp, dst, (0,0,255))\n",
    "print(len(kp))\n",
    "\n",
    "cv2.imshow('Fast', dst)\n",
    "cv2.waitKey()\n",
    "cv2.destroyAllWindows()\n",
    "cv2.waitKey(1)"
   ]
  },
  {
   "cell_type": "code",
   "execution_count": 213,
   "id": "911ff0b9",
   "metadata": {},
   "outputs": [
    {
     "name": "stdout",
     "output_type": "stream",
     "text": [
      "89\n"
     ]
    },
    {
     "data": {
      "text/plain": [
       "-1"
      ]
     },
     "execution_count": 213,
     "metadata": {},
     "output_type": "execute_result"
    }
   ],
   "source": [
    "src = cv2.imread('/Users/iseung-won/CornerTest.jpg')\n",
    "gray = cv2.cvtColor(src, cv2.COLOR_BGR2GRAY)\n",
    "\n",
    "fast = cv2.FastFeatureDetector_create(0)\n",
    "fast.setNonmaxSuppression(0)\n",
    "kp = fast.detect(src, None)\n",
    "dst = src.copy()\n",
    "cv2.drawKeypoints(src, kp, dst, (0,0,255))\n",
    "print(len(kp))\n",
    "cv2.imshow('Fast', dst)\n",
    "cv2.waitKey()\n",
    "cv2.destroyAllWindows()\n",
    "cv2.waitKey(1)"
   ]
  },
  {
   "cell_type": "code",
   "execution_count": 219,
   "id": "af3ff6ae",
   "metadata": {},
   "outputs": [
    {
     "name": "stdout",
     "output_type": "stream",
     "text": [
      "3\n"
     ]
    },
    {
     "data": {
      "text/plain": [
       "-1"
      ]
     },
     "execution_count": 219,
     "metadata": {},
     "output_type": "execute_result"
    }
   ],
   "source": [
    "src = cv2.imread('/Users/iseung-won/CornerTest.jpg')\n",
    "gray = cv2.cvtColor(src, cv2.COLOR_BGR2GRAY)\n",
    "\n",
    "fast = cv2.FastFeatureDetector_create(200)\n",
    "\n",
    "kp = fast.detect(src, None)\n",
    "dst = src.copy()\n",
    "cv2.drawKeypoints(src, kp, dst, (0,0,255))\n",
    "print(len(kp))\n",
    "cv2.imshow('Fast', dst)\n",
    "cv2.waitKey()\n",
    "cv2.destroyAllWindows()\n",
    "cv2.waitKey(1)"
   ]
  },
  {
   "cell_type": "code",
   "execution_count": 215,
   "id": "5a12df5a",
   "metadata": {},
   "outputs": [
    {
     "data": {
      "text/plain": [
       "-1"
      ]
     },
     "execution_count": 215,
     "metadata": {},
     "output_type": "execute_result"
    }
   ],
   "source": [
    "src = cv2.imread('/Users/iseung-won/lena.jpg')\n",
    "gray = cv2.cvtColor(src, cv2.COLOR_BGR2GRAY)\n",
    "\n",
    "fast = cv2.FastFeatureDetector_create(50)\n",
    "fast.setNonmaxSuppression(0)\n",
    "kp = fast.detect(src, None)\n",
    "dst = src.copy()\n",
    "cv2.drawKeypoints(src, kp, dst, (0,0,255))\n",
    "\n",
    "cv2.imshow('Fast', dst)\n",
    "cv2.waitKey()\n",
    "cv2.destroyAllWindows()\n",
    "cv2.waitKey(1)"
   ]
  },
  {
   "cell_type": "code",
   "execution_count": 216,
   "id": "3341d10f",
   "metadata": {},
   "outputs": [
    {
     "data": {
      "text/plain": [
       "-1"
      ]
     },
     "execution_count": 216,
     "metadata": {},
     "output_type": "execute_result"
    }
   ],
   "source": [
    "src = cv2.imread('/Users/iseung-won/lena.jpg')\n",
    "gray = cv2.cvtColor(src, cv2.COLOR_BGR2GRAY)\n",
    "\n",
    "fast = cv2.FastFeatureDetector_create(50)\n",
    "\n",
    "kp = fast.detect(src, None)\n",
    "dst = src.copy()\n",
    "cv2.drawKeypoints(src, kp, dst, (0,0,255))\n",
    "\n",
    "cv2.imshow('Fast', dst)\n",
    "cv2.waitKey()\n",
    "cv2.destroyAllWindows()\n",
    "cv2.waitKey(1)"
   ]
  },
  {
   "cell_type": "code",
   "execution_count": 208,
   "id": "e236e63b",
   "metadata": {},
   "outputs": [
    {
     "data": {
      "text/plain": [
       "-1"
      ]
     },
     "execution_count": 208,
     "metadata": {},
     "output_type": "execute_result"
    }
   ],
   "source": [
    "src = cv2.imread('/Users/iseung-won/baboon.jpg')\n",
    "gray = cv2.cvtColor(src, cv2.COLOR_BGR2GRAY)\n",
    "\n",
    "fast = cv2.FastFeatureDetector_create(90)\n",
    "fast.setNonmaxSuppression(0)\n",
    "kp = fast.detect(src, None)\n",
    "dst = src.copy()\n",
    "cv2.drawKeypoints(src, kp, dst, (0,0,255))\n",
    "\n",
    "cv2.imshow('Fast', dst)\n",
    "cv2.waitKey()\n",
    "cv2.destroyAllWindows()\n",
    "cv2.waitKey(1)"
   ]
  },
  {
   "cell_type": "code",
   "execution_count": 221,
   "id": "9f7f8d75",
   "metadata": {},
   "outputs": [
    {
     "name": "stdout",
     "output_type": "stream",
     "text": [
      "48\n"
     ]
    },
    {
     "data": {
      "text/plain": [
       "-1"
      ]
     },
     "execution_count": 221,
     "metadata": {},
     "output_type": "execute_result"
    }
   ],
   "source": [
    "# 강사님 코드\n",
    "\n",
    "import cv2\n",
    "import numpy as np\n",
    "src = cv2.imread('/Users/iseung-won/CornerTest.jpg')\n",
    "gray = cv2.cvtColor(src, cv2.COLOR_BGR2GRAY)\n",
    "fast = cv2.FastFeatureDetector_create(30)\n",
    "fast.setNonmaxSuppression(0)\n",
    "kp = fast.detect(src, None)\n",
    "print(len(kp))\n",
    "dst = src.copy()\n",
    "cv2.drawKeypoints(src, kp, dst, (0, 0, 255))\n",
    "cv2.imshow('FAST', dst)\n",
    "cv2.waitKey()\n",
    "cv2.destroyAllWindows()\n",
    "cv2.waitKey(1)\n",
    "cv2.waitKey(1)"
   ]
  },
  {
   "cell_type": "code",
   "execution_count": 10,
   "id": "48874df4",
   "metadata": {},
   "outputs": [
    {
     "data": {
      "text/plain": [
       "-1"
      ]
     },
     "execution_count": 10,
     "metadata": {},
     "output_type": "execute_result"
    }
   ],
   "source": [
    "# findChessboardCorners\n",
    "\n",
    "src = cv2.imread('/Users/iseung-won/chessBoard.jpg')\n",
    "gray = cv2.cvtColor(src, cv2.COLOR_BGR2GRAY)\n",
    "found, corners = cv2.findChessboardCorners(gray, patternSize=(6,3))\n",
    "dst = src.copy()\n",
    "cv2.drawChessboardCorners(dst, patternSize=(6,3),corners=corners, patternWasFound=found)\n",
    "cv2.imshow('chessboard', dst)\n",
    "cv2.waitKey()\n",
    "cv2.destroyAllWindows()\n",
    "cv2.waitKey(1)"
   ]
  },
  {
   "cell_type": "code",
   "execution_count": 236,
   "id": "4ac725fa",
   "metadata": {},
   "outputs": [
    {
     "name": "stdout",
     "output_type": "stream",
     "text": [
      "505\n"
     ]
    },
    {
     "data": {
      "text/plain": [
       "-1"
      ]
     },
     "execution_count": 236,
     "metadata": {},
     "output_type": "execute_result"
    }
   ],
   "source": [
    "# FastFeatureDetector\n",
    "\n",
    "src = cv2.imread('/Users/iseung-won/chessBoard.jpg')\n",
    "gray = cv2.cvtColor(src, cv2.COLOR_BGR2GRAY)\n",
    "fast = cv2.FastFeatureDetector_create(45)\n",
    "fast.setNonmaxSuppression(0)\n",
    "kp = fast.detect(src, None)\n",
    "print(len(kp))\n",
    "dst = src.copy()\n",
    "cv2.drawKeypoints(src, kp, dst, (0, 0, 255))\n",
    "cv2.imshow('FAST', dst)\n",
    "cv2.waitKey()\n",
    "cv2.destroyAllWindows()\n",
    "cv2.waitKey(1)\n",
    "cv2.waitKey(1)"
   ]
  },
  {
   "cell_type": "code",
   "execution_count": 11,
   "id": "5668d8e8",
   "metadata": {},
   "outputs": [
    {
     "name": "stdout",
     "output_type": "stream",
     "text": [
      "107\n"
     ]
    },
    {
     "data": {
      "text/plain": [
       "-1"
      ]
     },
     "execution_count": 11,
     "metadata": {},
     "output_type": "execute_result"
    }
   ],
   "source": [
    "# FastFeatureDetector\n",
    "\n",
    "src = cv2.imread('/Users/iseung-won/chessBoard.jpg')\n",
    "gray = cv2.cvtColor(src, cv2.COLOR_BGR2GRAY)\n",
    "fast = cv2.FastFeatureDetector_create(26)\n",
    "\n",
    "kp = fast.detect(src, None)\n",
    "print(len(kp))\n",
    "dst = src.copy()\n",
    "cv2.drawKeypoints(src, kp, dst, (0, 0, 255))\n",
    "cv2.imshow('FAST', dst)\n",
    "cv2.waitKey()\n",
    "cv2.destroyAllWindows()\n",
    "cv2.waitKey(1)\n",
    "cv2.waitKey(1)"
   ]
  },
  {
   "cell_type": "code",
   "execution_count": 274,
   "id": "05b63ab7",
   "metadata": {},
   "outputs": [
    {
     "name": "stdout",
     "output_type": "stream",
     "text": [
      "corners = 39\n"
     ]
    },
    {
     "data": {
      "text/plain": [
       "-1"
      ]
     },
     "execution_count": 274,
     "metadata": {},
     "output_type": "execute_result"
    }
   ],
   "source": [
    "# cornerHarris\n",
    "\n",
    "src = cv2.imread('/Users/iseung-won/chessBoard.jpg')\n",
    "gray = cv2.cvtColor(src, cv2.COLOR_BGR2GRAY)\n",
    "res = cv2.cornerHarris(gray, blockSize=3, ksize=5, k=0.01) # 해리스에서 지정하는 k 상수\n",
    "ret, res2 = cv2.threshold(np.abs(res), 0.1, 0, cv2.THRESH_TOZERO) # 임계값 0.02 기준, res 절대값 낮으면 0, 높으면 원래 값\n",
    "corners = findLocalMaxima(res2) # 위 함수에 적용, 로컬 맥시마 위치 저장\n",
    "print('corners =', len(corners)) # 코너 좌표 출력\n",
    "dst = src.copy()\n",
    "for x, y in corners:\n",
    "    cv2.circle(dst, (x, y), 3, (0, 0, 255), 2)\n",
    "cv2.imshow('cornerHarris', dst)\n",
    "cv2.waitKey()\n",
    "cv2.destroyAllWindows()\n",
    "cv2.waitKey(1)"
   ]
  },
  {
   "cell_type": "code",
   "execution_count": 285,
   "id": "c597658b",
   "metadata": {},
   "outputs": [
    {
     "name": "stdout",
     "output_type": "stream",
     "text": [
      "492\n"
     ]
    }
   ],
   "source": [
    "# cornerMinEigenVal\n",
    "\n",
    "src = cv2.imread('/Users/iseung-won/chessBoard.jpg')\n",
    "gray = cv2.cvtColor(src, cv2.COLOR_BGR2GRAY)\n",
    "\n",
    "eigen = cv2.cornerMinEigenVal(gray, blockSize=5)\n",
    "corners = np.argwhere(eigen>0.03)\n",
    "corners[:,[0,1]]= corners[:,[1,0]]\n",
    "\n",
    "\n",
    "for x, y in corners:\n",
    "\n",
    "    cv2.circle(src, (x, y), 4, (0, 0, 255), 2) # corners 이용 작은 원 그리기\n",
    "cv2.imshow('src', src)\n",
    "cv2.imshow('eigen', eigen)\n",
    "\n",
    "cv2.waitKey()\n",
    "cv2.destroyAllWindows()\n",
    "cv2.waitKey(1)\n",
    "print(len(corners))"
   ]
  },
  {
   "cell_type": "code",
   "execution_count": 12,
   "id": "df3faf6d",
   "metadata": {},
   "outputs": [
    {
     "data": {
      "image/png": "[encoded data removed]",
      "text/plain": [
       "<Figure size 1000x1000 with 1 Axes>"
      ]
     },
     "metadata": {},
     "output_type": "display_data"
    },
    {
     "name": "stdout",
     "output_type": "stream",
     "text": [
      "38\n"
     ]
    }
   ],
   "source": [
    "# preCornerDetect\n",
    "\n",
    "def findLocalMaxima(src):\n",
    "    kernel = cv2.getStructuringElement(shape=cv2.MORPH_RECT, ksize=(11,11))\n",
    "    dilate = cv2.dilate(src, kernel)\n",
    "    localMax = (src == dilate)\n",
    "    erode = cv2.erode(src, kernel)\n",
    "    localMax2 = (src > erode)\n",
    "    localMax &= localMax2\n",
    "    points = np.argwhere(localMax == True)\n",
    "    points[:, [0, 1]] = points[:, [1, 0]]\n",
    "    return points\n",
    "\n",
    "src = cv2.imread('/Users/iseung-won/chessBoard.jpg')\n",
    "gray = cv2.cvtColor(src, cv2.COLOR_BGR2GRAY)\n",
    "res = cv2.preCornerDetect(gray, ksize=5)\n",
    "\n",
    "fig = plt.figure(figsize=(10,10))\n",
    "plt.hist(res)\n",
    "plt.show()\n",
    "\n",
    "\n",
    "ret, res2 = cv2.threshold(np.abs(res), 0.4, 0, cv2.THRESH_TOZERO)\n",
    "points = findLocalMaxima(res2)\n",
    "len(points)\n",
    "dst = src.copy()\n",
    "for x, y in points:\n",
    "    cv2.circle(src, (x, y), 4, (0,0,255), 2) # corners 이용 작은 원 그리기\n",
    "cv2.imshow('src', src)\n",
    "cv2.imshow('res2', res2)\n",
    "\n",
    "cv2.waitKey()\n",
    "cv2.destroyAllWindows()\n",
    "cv2.waitKey(1)\n",
    "\n",
    "print(len(points))"
   ]
  },
  {
   "cell_type": "code",
   "execution_count": 296,
   "id": "49098f64",
   "metadata": {},
   "outputs": [
    {
     "name": "stdout",
     "output_type": "stream",
     "text": [
      "corners.shape = (18, 1, 2)\n"
     ]
    },
    {
     "data": {
      "text/plain": [
       "-1"
      ]
     },
     "execution_count": 296,
     "metadata": {},
     "output_type": "execute_result"
    }
   ],
   "source": [
    "# findChessboardCorners with ChessBoard.jpg 강사님 코드\n",
    "src = cv2.imread('/Users/iseung-won/chessBoard.jpg')\n",
    "gray = cv2.cvtColor(src, cv2.COLOR_BGR2GRAY)\n",
    "patternSize = (6, 3) # 가로 6개 세로 3개\n",
    "found, corners = cv2.findChessboardCorners(gray, patternSize)\n",
    "print('corners.shape =', corners.shape)\n",
    "dst = src.copy()\n",
    "cv2.drawChessboardCorners(dst, patternSize, corners, found)\n",
    "cv2.imshow('Chessboard', dst)\n",
    "cv2.waitKey()\n",
    "cv2.destroyAllWindows()\n",
    "cv2.waitKey(1)"
   ]
  },
  {
   "cell_type": "code",
   "execution_count": 303,
   "id": "379943a0",
   "metadata": {
    "scrolled": true
   },
   "outputs": [
    {
     "name": "stderr",
     "output_type": "stream",
     "text": [
      "libpng warning: bKGD: invalid\n"
     ]
    },
    {
     "data": {
      "text/plain": [
       "-1"
      ]
     },
     "execution_count": 303,
     "metadata": {},
     "output_type": "execute_result"
    }
   ],
   "source": [
    "src = cv2.imread('/Users/iseung-won/circleGrid.jpg')\n",
    "gray = cv2.cvtColor(src, cv2.COLOR_BGR2GRAY)\n",
    "found, corners = cv2.findCirclesGrid(gray, patternSize=(6,4))\n",
    "dst = src.copy()\n",
    "cv2.drawChessboardCorners(dst, patternSize=(6,4), corners=corners, patternWasFound=found)\n",
    "cv2.imshow('dst', dst)\n",
    "cv2.waitKey()\n",
    "cv2.destroyAllWindows()\n",
    "cv2.waitKey(1)"
   ]
  },
  {
   "cell_type": "code",
   "execution_count": 306,
   "id": "a11ecc9f",
   "metadata": {},
   "outputs": [
    {
     "name": "stderr",
     "output_type": "stream",
     "text": [
      "libpng warning: bKGD: invalid\n"
     ]
    },
    {
     "data": {
      "image/png": "[encoded data removed]",
      "text/plain": [
       "<Figure size 1000x1000 with 1 Axes>"
      ]
     },
     "metadata": {},
     "output_type": "display_data"
    },
    {
     "name": "stdout",
     "output_type": "stream",
     "text": [
      "192\n"
     ]
    }
   ],
   "source": [
    "# preCornerDetect\n",
    "\n",
    "def findLocalMaxima(src):\n",
    "    kernel = cv2.getStructuringElement(shape=cv2.MORPH_RECT, ksize=(11,11))\n",
    "    dilate = cv2.dilate(src, kernel)\n",
    "    localMax = (src == dilate)\n",
    "    erode = cv2.erode(src, kernel)\n",
    "    localMax2 = (src > erode)\n",
    "    localMax &= localMax2\n",
    "    points = np.argwhere(localMax == True)\n",
    "    points[:, [0, 1]] = points[:, [1, 0]]\n",
    "    return points\n",
    "\n",
    "src = cv2.imread('/Users/iseung-won/circleGrid.jpg')\n",
    "gray = cv2.cvtColor(src, cv2.COLOR_BGR2GRAY)\n",
    "res = cv2.preCornerDetect(gray, ksize=5)\n",
    "\n",
    "fig = plt.figure(figsize=(10,10))\n",
    "plt.hist(res)\n",
    "plt.show()\n",
    "\n",
    "\n",
    "ret, res2 = cv2.threshold(np.abs(res), 0.4, 0, cv2.THRESH_TOZERO)\n",
    "points = findLocalMaxima(res2)\n",
    "len(points)\n",
    "dst = src.copy()\n",
    "for x, y in points:\n",
    "    cv2.circle(src, (x, y), 4, (0,0,255), 2) # corners 이용 작은 원 그리기\n",
    "cv2.imshow('src', src)\n",
    "cv2.imshow('res2', res2)\n",
    "\n",
    "cv2.waitKey()\n",
    "cv2.destroyAllWindows()\n",
    "cv2.waitKey(1)\n",
    "\n",
    "print(len(points))"
   ]
  },
  {
   "cell_type": "code",
   "execution_count": 308,
   "id": "c2a88a8c",
   "metadata": {},
   "outputs": [
    {
     "data": {
      "image/png": "[encoded data removed]",
      "text/plain": [
       "<Figure size 1000x1000 with 1 Axes>"
      ]
     },
     "metadata": {},
     "output_type": "display_data"
    }
   ],
   "source": [
    "src= cv2.imread('/Users/iseung-won/momentTest.jpg')\n",
    "gray = cv2.cvtColor(src, cv2.COLOR_BGR2GRAY)\n",
    "fig=plt.figure(figsize=(10,10))\n",
    "plt.hist(gray)\n",
    "plt.show()"
   ]
  },
  {
   "cell_type": "code",
   "execution_count": 17,
   "id": "0ee0cb50",
   "metadata": {},
   "outputs": [
    {
     "name": "stdout",
     "output_type": "stream",
     "text": [
      "hu.shape = (7, 1)\n",
      "hu = [[ 1.72272960e-01]\n",
      " [ 2.17960438e-03]\n",
      " [ 9.24428655e-05]\n",
      " [ 1.90785217e-06]\n",
      " [ 1.11977849e-12]\n",
      " [-6.96325160e-09]\n",
      " [-2.53121609e-11]]\n",
      "hu2.shape = (7, 1)\n",
      "hu2 = [[ 1.71993727e-01]\n",
      " [ 2.20668974e-03]\n",
      " [ 7.76013960e-05]\n",
      " [ 1.49675473e-06]\n",
      " [ 3.17817500e-14]\n",
      " [-7.44069092e-09]\n",
      " [-1.61309477e-11]]\n",
      "diffSum = 0.0003215707378081359\n"
     ]
    },
    {
     "data": {
      "text/plain": [
       "-1"
      ]
     },
     "execution_count": 17,
     "metadata": {},
     "output_type": "execute_result"
    }
   ],
   "source": [
    "src= cv2.imread('/Users/iseung-won/momentTest.jpg')\n",
    "gray = cv2.cvtColor(src, cv2.COLOR_BGR2GRAY)\n",
    "\n",
    "ret, blmage = cv2.threshold(gray, 128, 255, cv2.THRESH_BINARY)\n",
    "\n",
    "mode = cv2.RETR_EXTERNAL\n",
    "methos = cv2.CHAIN_APPROX_SIMPLE\n",
    "contours, _ = cv2.findContours(blmage, mode, methos)\n",
    "dst = src.copy()\n",
    "cnt= contours[0]\n",
    "M = cv2.moments(cnt)\n",
    "hu = cv2.HuMoments(M)\n",
    "print('hu.shape =', hu.shape)\n",
    "print('hu =', hu)\n",
    "\n",
    "angle = 45.0 # 원본 영상 45도 회전\n",
    "scale = 0.2 # 사이즈도 20%로 변경\n",
    "cx = M['m10']/M['m00']\n",
    "cy = M['m01']/M['m00']\n",
    "center = (cx, cy)\n",
    "t = (20,30) # 이만큼 이동\n",
    "\n",
    "A = cv2.getRotationMatrix2D(center, angle, scale)\n",
    "A[:,2] += t # translation\n",
    "cnt2 = cv2.transform(cnt, A) # 변경 적용\n",
    "M2 = cv2.moments(cnt2)\n",
    "hu2 = cv2.HuMoments(M2)\n",
    "diffSum = np.sum(cv2.absdiff(hu, hu2))\n",
    "print('hu2.shape =', hu2.shape)\n",
    "print('hu2 =', hu2)\n",
    "print('diffSum =', diffSum)\n",
    "\n",
    "cv2.drawContours(dst, [cnt2], 0, (0,255,0), 3)\n",
    "cv2.drawContours(dst,[cnt],0,(255,0,0),3)\n",
    "cv2.imshow('cnt', dst)\n",
    "cv2.waitKey()\n",
    "cv2.destroyAllWindows()\n",
    "cv2.waitKey(1)\n",
    "\n",
    "# print(contours)\n",
    "# print(_)"
   ]
  },
  {
   "cell_type": "code",
   "execution_count": 324,
   "id": "c9e1614f",
   "metadata": {},
   "outputs": [
    {
     "data": {
      "image/png": "[encoded data removed]",
      "text/plain": [
       "<Figure size 1000x1000 with 2 Axes>"
      ]
     },
     "metadata": {},
     "output_type": "display_data"
    }
   ],
   "source": [
    "src= cv2.imread('/Users/iseung-won/refShapes.jpg')\n",
    "gray = cv2.cvtColor(src, cv2.COLOR_BGR2GRAY)\n",
    "ret, blmage = cv2.threshold(gray, 128, 255, cv2.THRESH_BINARY)\n",
    "\n",
    "fig=plt.figure(figsize=(10,10))\n",
    "ax1 = plt.subplot(121)\n",
    "plt.hist(gray)\n",
    "ax2 = plt.subplot(122)\n",
    "plt.hist(blmage)\n",
    "plt.show()"
   ]
  },
  {
   "cell_type": "code",
   "execution_count": 18,
   "id": "12f8765d",
   "metadata": {},
   "outputs": [
    {
     "name": "stdout",
     "output_type": "stream",
     "text": [
      "hu.shape = (7, 1)\n",
      "hu = [[ 1.72272960e-01]\n",
      " [ 2.17960438e-03]\n",
      " [ 9.24428655e-05]\n",
      " [ 1.90785217e-06]\n",
      " [ 1.11977849e-12]\n",
      " [-6.96325160e-09]\n",
      " [-2.53121609e-11]]\n",
      "hu1.shape = (7, 1)\n",
      "hu = [[ 3.05814203e-01]\n",
      " [ 6.57667673e-02]\n",
      " [ 4.48727108e-09]\n",
      " [ 4.72798934e-10]\n",
      " [-3.87406943e-19]\n",
      " [-1.09143858e-10]\n",
      " [ 5.69359905e-19]]\n",
      "hu2.shape = (7, 1)\n",
      "hu = [[ 1.92227733e-01]\n",
      " [ 2.10625309e-07]\n",
      " [ 4.52098684e-03]\n",
      " [ 7.97607524e-09]\n",
      " [ 3.91161684e-14]\n",
      " [ 3.19227059e-12]\n",
      " [-2.76399218e-14]]\n"
     ]
    },
    {
     "data": {
      "text/plain": [
       "-1"
      ]
     },
     "execution_count": 18,
     "metadata": {},
     "output_type": "execute_result"
    }
   ],
   "source": [
    "ref_src= cv2.imread('/Users/iseung-won/refShapes.jpg')\n",
    "test_src= cv2.imread('/Users/iseung-won/testShapes.jpg')\n",
    "gray = cv2.cvtColor(ref_src, cv2.COLOR_BGR2GRAY)\n",
    "ret, blmage = cv2.threshold(gray, 128, 255, cv2.THRESH_BINARY_INV)\n",
    "dst = ref_src.copy()\n",
    "mode = cv2.RETR_EXTERNAL\n",
    "methos = cv2.CHAIN_APPROX_SIMPLE\n",
    "contours, _ = cv2.findContours(blmage, mode, methos)\n",
    "contours2, _ = cv2.findContours(blmage, mode, methos)\n",
    "\n",
    "cnt0 = contours[0]\n",
    "M0 = cv2.moments(cnt0)\n",
    "hu0 = cv2.HuMoments(M0)\n",
    "cnt1 = contours[1]\n",
    "M1 = cv2.moments(cnt1)\n",
    "hu1 = cv2.HuMoments(M1)\n",
    "cnt2 = contours[2]\n",
    "M2 = cv2.moments(cnt2)\n",
    "hu2 = cv2.HuMoments(M2)\n",
    "print('hu.shape =', hu0.shape)\n",
    "print('hu =', hu)\n",
    "print('hu1.shape =', hu1.shape)\n",
    "print('hu =', hu1)\n",
    "print('hu2.shape =', hu2.shape)\n",
    "print('hu =', hu2)\n",
    "cv2.drawContours(dst,[cnt0],0,(255,0,0),3)\n",
    "cv2.drawContours(dst,[cnt1],0,(255,0,0),3)\n",
    "cv2.drawContours(dst,[cnt2],0,(255,0,0),3)\n",
    "\n",
    "\n",
    "cv2.imshow('cnt', dst)\n",
    "cv2.waitKey()\n",
    "cv2.destroyAllWindows()\n",
    "cv2.waitKey(1)"
   ]
  },
  {
   "cell_type": "code",
   "execution_count": 20,
   "id": "5f14434b",
   "metadata": {},
   "outputs": [
    {
     "name": "stdout",
     "output_type": "stream",
     "text": [
      "10\n",
      "hu0 [[ 1.59174584e-01]\n",
      " [ 2.68787079e-06]\n",
      " [ 2.74115386e-08]\n",
      " [ 5.80005467e-13]\n",
      " [-5.12066832e-23]\n",
      " [-6.94287660e-16]\n",
      " [-5.22144324e-23]]\n",
      "hu1 [[ 3.05814203e-01]\n",
      " [ 6.57667673e-02]\n",
      " [ 4.48727108e-09]\n",
      " [ 4.72798934e-10]\n",
      " [-3.87406943e-19]\n",
      " [-1.09143858e-10]\n",
      " [ 5.69359905e-19]]\n",
      "hu2 [[ 1.92227733e-01]\n",
      " [ 2.10625309e-07]\n",
      " [ 4.52098684e-03]\n",
      " [ 7.97607524e-09]\n",
      " [ 3.91161684e-14]\n",
      " [ 3.19227059e-12]\n",
      " [-2.76399218e-14]]\n",
      "hu3 [[ 3.05814203e-01]\n",
      " [ 6.57667673e-02]\n",
      " [ 4.48727107e-09]\n",
      " [ 4.72798933e-10]\n",
      " [-3.87406945e-19]\n",
      " [-1.09143858e-10]\n",
      " [-5.69359900e-19]]\n",
      "hu4 [[ 1.92897284e-01]\n",
      " [ 1.87072111e-04]\n",
      " [ 4.57225892e-03]\n",
      " [ 6.15586206e-06]\n",
      " [ 1.03275018e-09]\n",
      " [ 8.41959337e-08]\n",
      " [-4.11432946e-12]]\n",
      "hu5 [[3.09312858e-01]\n",
      " [6.79129099e-02]\n",
      " [3.44025931e-09]\n",
      " [2.69628115e-09]\n",
      " [8.21030566e-18]\n",
      " [6.88552475e-10]\n",
      " [1.61521949e-19]]\n",
      "hu6 [[ 1.59705650e-01]\n",
      " [ 1.60973442e-04]\n",
      " [ 9.57533897e-08]\n",
      " [ 2.32718514e-10]\n",
      " [ 1.09854972e-18]\n",
      " [ 2.94083168e-12]\n",
      " [-4.57307252e-21]]\n",
      "hu7 [[1.92055227e-01]\n",
      " [2.12422028e-05]\n",
      " [4.47801745e-03]\n",
      " [7.17183630e-07]\n",
      " [2.84872947e-11]\n",
      " [2.61796929e-09]\n",
      " [2.89887551e-11]]\n",
      "hu8 [[ 2.94929775e-01]\n",
      " [ 5.92819776e-02]\n",
      " [ 5.56878978e-08]\n",
      " [ 5.62215719e-09]\n",
      " [-6.42449769e-17]\n",
      " [-1.27640982e-09]\n",
      " [ 7.59527012e-17]]\n",
      "hu9 [[ 1.59163244e-01]\n",
      " [ 1.75236810e-08]\n",
      " [ 6.62917163e-09]\n",
      " [ 1.38651373e-14]\n",
      " [-1.04569818e-25]\n",
      " [-1.62076907e-18]\n",
      " [-8.20667988e-26]]\n",
      "hu10 [[ 1.59174764e-01]\n",
      " [ 2.76777880e-06]\n",
      " [ 2.12886197e-08]\n",
      " [ 3.57412158e-13]\n",
      " [-1.99865362e-24]\n",
      " [-9.04772948e-17]\n",
      " [-3.11123966e-23]]\n",
      "hu11 [[ 3.05814203e-01]\n",
      " [ 6.57667673e-02]\n",
      " [ 4.48727108e-09]\n",
      " [ 4.72798934e-10]\n",
      " [-3.87406944e-19]\n",
      " [-1.09143858e-10]\n",
      " [ 5.69359906e-19]]\n",
      "hu12 [[ 1.92271409e-01]\n",
      " [ 2.34033366e-07]\n",
      " [ 4.52869838e-03]\n",
      " [ 5.29018302e-09]\n",
      " [-8.53449842e-15]\n",
      " [ 1.36234363e-13]\n",
      " [-2.44467138e-14]]\n"
     ]
    }
   ],
   "source": [
    "ref_src= cv2.imread('/Users/iseung-won/refShapes.jpg')\n",
    "test_src= cv2.imread('/Users/iseung-won/testShapes.jpg')\n",
    "gray = cv2.cvtColor(ref_src, cv2.COLOR_BGR2GRAY)\n",
    "ret, blmage = cv2.threshold(gray, 128, 255, cv2.THRESH_BINARY_INV)\n",
    "dst = ref_src.copy()\n",
    "mode = cv2.RETR_EXTERNAL\n",
    "methos = cv2.CHAIN_APPROX_SIMPLE\n",
    "contours, _ = cv2.findContours(blmage, mode, methos)\n",
    "contours2, _ = cv2.findContours(blmage, mode, methos)\n",
    "\n",
    "cnt0 = contours[0]\n",
    "M0 = cv2.moments(cnt0)\n",
    "hu0 = cv2.HuMoments(M0)\n",
    "cnt1 = contours[1]\n",
    "M1 = cv2.moments(cnt1)\n",
    "hu1 = cv2.HuMoments(M1)\n",
    "cnt2 = contours[2]\n",
    "M2 = cv2.moments(cnt2)\n",
    "hu2 = cv2.HuMoments(M2)\n",
    "\n",
    "cv2.drawContours(dst,[cnt0],0,(255,0,0),3)\n",
    "cv2.drawContours(dst,[cnt1],0,(255,0,0),3)\n",
    "cv2.drawContours(dst,[cnt2],0,(255,0,0),3)\n",
    "\n",
    "\n",
    "cv2.imshow('cnt', dst)\n",
    "cv2.waitKey()\n",
    "cv2.destroyAllWindows()\n",
    "cv2.waitKey(1)\n",
    "\n",
    "\n",
    "ref_src= cv2.imread('/Users/iseung-won/refShapes.jpg')\n",
    "test_src= cv2.imread('/Users/iseung-won/testShapes.jpg')\n",
    "gray = cv2.cvtColor(test_src, cv2.COLOR_BGR2GRAY)\n",
    "ret, blmage = cv2.threshold(gray, 128, 255, cv2.THRESH_BINARY_INV)\n",
    "dst = test_src.copy()\n",
    "mode = cv2.RETR_EXTERNAL\n",
    "methos = cv2.CHAIN_APPROX_SIMPLE\n",
    "contours, _ = cv2.findContours(blmage, mode, methos)\n",
    "\n",
    "\n",
    "for i in range(len(contours)):\n",
    "    globals()[f'cnt{i+3}'] = contours[i]\n",
    "    globals()[f'M{i}'] = cv2.moments(globals()[f'cnt{i+3}'])\n",
    "    globals()[f'hu{i+3}'] = cv2.HuMoments(globals()[f'M{i}'])\n",
    "\n",
    "\n",
    "\n",
    "cv2.drawContours(dst,[cnt3],0,(255,0,0),3)\n",
    "cv2.drawContours(dst,[cnt4],0,(255,0,0),3)\n",
    "cv2.drawContours(dst,[cnt5],0,(255,0,0),3)\n",
    "cv2.drawContours(dst,[cnt6],0,(255,0,0),3)\n",
    "cv2.drawContours(dst,[cnt7],0,(255,0,0),3)\n",
    "cv2.drawContours(dst,[cnt8],0,(255,0,0),3)\n",
    "cv2.drawContours(dst,[cnt9],0,(255,0,0),3)\n",
    "cv2.drawContours(dst,[cnt10],0,(255,0,0),3)\n",
    "cv2.drawContours(dst,[cnt11],0,(255,0,0),3)\n",
    "cv2.drawContours(dst,[cnt12],0,(255,0,0),3)\n",
    "\n",
    "print(len(contours))\n",
    "cv2.imshow('cnt', dst)\n",
    "cv2.waitKey()\n",
    "cv2.destroyAllWindows()\n",
    "cv2.waitKey(1)\n",
    "\n",
    "for i in range(13):\n",
    "\n",
    "    print(f'hu{i}', globals()[f'hu{i}'])\n",
    "\n"
   ]
  },
  {
   "cell_type": "code",
   "execution_count": 372,
   "id": "cc2cff88",
   "metadata": {},
   "outputs": [
    {
     "name": "stdout",
     "output_type": "stream",
     "text": [
      "0.0006894195640093897\n"
     ]
    }
   ],
   "source": [
    "diffSum06 = np.sum(cv2.absdiff(hu0, hu6))\n",
    "diffSum06 = np.sum(cv2.absdiff(hu0, hu6))\n",
    "print(diffSum)"
   ]
  },
  {
   "cell_type": "code",
   "execution_count": 21,
   "id": "960bf886",
   "metadata": {},
   "outputs": [
    {
     "data": {
      "text/plain": [
       "-1"
      ]
     },
     "execution_count": 21,
     "metadata": {},
     "output_type": "execute_result"
    }
   ],
   "source": [
    "import cv2\n",
    "import numpy as np\n",
    "ref_src= cv2.imread('/Users/iseung-won/refShapes.jpg')\n",
    "test_src= cv2.imread('/Users/iseung-won/testShapes.jpg')\n",
    "ref_gray = cv2.cvtColor(ref_src, cv2.COLOR_BGR2GRAY)\n",
    "ret, ref_bin = cv2.threshold(ref_gray, 0, 255, cv2.THRESH_BINARY_INV+cv2.THRESH_OTSU)\n",
    "\n",
    "test_gray = cv2.cvtColor(test_src, cv2.COLOR_BGR2GRAY)\n",
    "ret, test_bin = cv2.threshold(test_gray, 0, 255, cv2.THRESH_BINARY_INV+cv2.THRESH_OTSU)\n",
    "mode = cv2.RETR_EXTERNAL\n",
    "method = cv2.CHAIN_APPROX_SIMPLE\n",
    "ref_contours, _ = cv2.findContours(ref_bin, mode, method)\n",
    "test_contours, _ = cv2.findContours(test_bin, mode, method)\n",
    "ref_dst = ref_src.copy()\n",
    "colors = ((0,0,255), (0,255,0), (255,0,0))\n",
    "for i, cnt in enumerate(ref_contours):\n",
    "    cv2.drawContours(ref_dst, [cnt], 0, colors[i], 2)\n",
    "test_dst = test_src.copy()\n",
    "method = cv2.CONTOURS_MATCH_I1\n",
    "for i, cnt1 in enumerate(test_contours):\n",
    "    matches = []\n",
    "    for cnt2 in ref_contours:\n",
    "        ret = cv2.matchShapes(cnt1, cnt2, method, 0)\n",
    "        matches.append(ret)\n",
    "    k = np.argmin(matches)\n",
    "    cv2.drawContours(test_dst, [cnt1], 0, colors[k], 2)\n",
    "cv2.imshow('reference', ref_dst)\n",
    "cv2.imshow('test', test_dst)\n",
    "cv2.waitKey()\n",
    "cv2.destroyAllWindows()\n",
    "cv2.waitKey(1)\n",
    "cv2.waitKey(1)"
   ]
  },
  {
   "cell_type": "code",
   "execution_count": null,
   "id": "6dbfcb47",
   "metadata": {},
   "outputs": [],
   "source": []
  }
 ],
 "metadata": {
  "kernelspec": {
   "display_name": "Python 3 (ipykernel)",
   "language": "python",
   "name": "python3"
  },
  "language_info": {
   "codemirror_mode": {
    "name": "ipython",
    "version": 3
   },
   "file_extension": ".py",
   "mimetype": "text/x-python",
   "name": "python",
   "nbconvert_exporter": "python",
   "pygments_lexer": "ipython3",
   "version": "3.9.13"
  }
 },
 "nbformat": 4,
 "nbformat_minor": 5
}
