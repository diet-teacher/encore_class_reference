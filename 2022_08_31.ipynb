{
 "cells": [
  {
   "cell_type": "code",
   "execution_count": 4,
   "id": "b96f79c6",
   "metadata": {},
   "outputs": [
    {
     "name": "stdout",
     "output_type": "stream",
     "text": [
      "*args: (10, 12, 13)\n"
     ]
    },
    {
     "data": {
      "text/plain": [
       "NoneType"
      ]
     },
     "execution_count": 4,
     "metadata": {},
     "output_type": "execute_result"
    }
   ],
   "source": [
    "def adder(*args):\n",
    "    print('*args:',args)\n",
    "    \n",
    "type(adder(10,12,13))\n",
    "\n"
   ]
  },
  {
   "cell_type": "code",
   "execution_count": 2,
   "id": "3cc2a02a",
   "metadata": {},
   "outputs": [
    {
     "name": "stdout",
     "output_type": "stream",
     "text": [
      "sum: 35\n"
     ]
    }
   ],
   "source": [
    "def adder(*num):\n",
    "    result = 0\n",
    "    for n in num:\n",
    "        result += n\n",
    "    print('sum:',result)\n",
    "    \n",
    "adder(10,12,13)"
   ]
  },
  {
   "cell_type": "code",
   "execution_count": 5,
   "id": "f975d713",
   "metadata": {},
   "outputs": [
    {
     "name": "stdout",
     "output_type": "stream",
     "text": [
      "3과목의 평균 : 90.00\n"
     ]
    }
   ],
   "source": [
    "def average(*args):\n",
    "    total = 0\n",
    "   \n",
    "    for i in args:\n",
    "        total += i\n",
    "    avg = total / len(args)\n",
    "    print('%d과목의 평균 : %.2f'%(len(args), avg))\n",
    "\n",
    "average(80,90,100)"
   ]
  },
  {
   "cell_type": "code",
   "execution_count": 39,
   "id": "493ff265",
   "metadata": {},
   "outputs": [
    {
     "name": "stdout",
     "output_type": "stream",
     "text": [
      "15\n"
     ]
    }
   ],
   "source": [
    "def two_choice(word, *args):\n",
    "    \n",
    "    if word =='arithmetic':  \n",
    "        total = 0\n",
    "        for i in args:\n",
    "            total += i\n",
    "    elif word =='multiplication':\n",
    "        total = 1\n",
    "        for i in args:\n",
    "            total *= i\n",
    "    return total\n",
    "\n",
    "x = two_choice('arithmetic',1,2,3,4,5)\n",
    "print(x)"
   ]
  },
  {
   "cell_type": "code",
   "execution_count": 38,
   "id": "9914201e",
   "metadata": {},
   "outputs": [
    {
     "name": "stdout",
     "output_type": "stream",
     "text": [
      "120\n"
     ]
    }
   ],
   "source": [
    "x = two_choice('multiplication',1,2,3,4,5)\n",
    "print(x)"
   ]
  },
  {
   "cell_type": "code",
   "execution_count": 46,
   "id": "78c05b47",
   "metadata": {},
   "outputs": [
    {
     "ename": "TypeError",
     "evalue": "SingleA() takes 0 positional arguments but 1 was given",
     "output_type": "error",
     "traceback": [
      "\u001b[0;31m---------------------------------------------------------------------------\u001b[0m",
      "\u001b[0;31mTypeError\u001b[0m                                 Traceback (most recent call last)",
      "Input \u001b[0;32mIn [46]\u001b[0m, in \u001b[0;36m<cell line: 3>\u001b[0;34m()\u001b[0m\n\u001b[1;32m      1\u001b[0m \u001b[38;5;28;01mdef\u001b[39;00m \u001b[38;5;21mSingleA\u001b[39m(\u001b[38;5;241m*\u001b[39m\u001b[38;5;241m*\u001b[39mkwargs):\n\u001b[1;32m      2\u001b[0m     \u001b[38;5;28mprint\u001b[39m(kwargs)\n\u001b[0;32m----> 3\u001b[0m \u001b[43mSingleA\u001b[49m\u001b[43m(\u001b[49m\u001b[38;5;241;43m10\u001b[39;49m\u001b[43m)\u001b[49m\n",
      "\u001b[0;31mTypeError\u001b[0m: SingleA() takes 0 positional arguments but 1 was given"
     ]
    }
   ],
   "source": [
    "def SingleA(**kwargs):\n",
    "    print(kwargs)\n",
    "SingleA(10)"
   ]
  },
  {
   "cell_type": "code",
   "execution_count": 47,
   "id": "db999206",
   "metadata": {},
   "outputs": [
    {
     "name": "stdout",
     "output_type": "stream",
     "text": [
      "{'a': 10}\n"
     ]
    }
   ],
   "source": [
    "SingleA(a=10)"
   ]
  },
  {
   "cell_type": "code",
   "execution_count": 48,
   "id": "35c61597",
   "metadata": {},
   "outputs": [
    {
     "name": "stdout",
     "output_type": "stream",
     "text": [
      "{'num': 1, 'name': 'Kristina', 'age': 30}\n"
     ]
    }
   ],
   "source": [
    "SingleA(num = 1, name = 'Kristina',age = 30)"
   ]
  },
  {
   "cell_type": "code",
   "execution_count": 66,
   "id": "954f77f1",
   "metadata": {},
   "outputs": [
    {
     "name": "stdout",
     "output_type": "stream",
     "text": [
      "dict_items([('num', 1), ('name', 'Kristina'), ('age', 30)])\n"
     ]
    }
   ],
   "source": [
    "a = {'num': 1, 'name': 'Kristina', 'age': 30}\n",
    "print(a.items())"
   ]
  },
  {
   "cell_type": "code",
   "execution_count": 71,
   "id": "4097e05f",
   "metadata": {},
   "outputs": [
    {
     "name": "stdout",
     "output_type": "stream",
     "text": [
      "Data type of argument : <class 'dict'>\n",
      "firstname is Dave\n",
      "Lastname is Karim\n",
      "Age is 32\n",
      "Phone is 01034567890\n"
     ]
    }
   ],
   "source": [
    "def intro(**kwargs):\n",
    "    print('Data type of argument : %s'%type(kwargs))\n",
    "    for key, value in kwargs.items():\n",
    "        print('%s is %s'%(key, value))\n",
    "\n",
    "intro(firstname = 'Dave', Lastname = 'Karim', Age = 32, Phone = '01034567890')\n"
   ]
  },
  {
   "cell_type": "code",
   "execution_count": 87,
   "id": "7c1ff0db",
   "metadata": {},
   "outputs": [
    {
     "data": {
      "text/plain": [
       "('no', (5, 10, 15, 8), {'b': 1, 'c': 2})"
      ]
     },
     "execution_count": 87,
     "metadata": {},
     "output_type": "execute_result"
    }
   ],
   "source": [
    "def f(a, *args, **kwargs):\n",
    "    return a, args, kwargs\n",
    "f('no',5,10,15,8,b=1,c=2)"
   ]
  },
  {
   "cell_type": "code",
   "execution_count": 113,
   "id": "ec7b4d68",
   "metadata": {},
   "outputs": [
    {
     "name": "stdout",
     "output_type": "stream",
     "text": [
      "Name:Kristina\n",
      "Age:27\n",
      "Female\n"
     ]
    }
   ],
   "source": [
    "def Triple(name, age, woman=True):\n",
    "    print('Name:%s'%name)\n",
    "    print('Age:%s'%age)\n",
    "    if woman:\n",
    "        print('Female')\n",
    "    else:\n",
    "        print('male')\n",
    "\n",
    "        \n",
    "Triple('Kristina', 27, True)"
   ]
  },
  {
   "cell_type": "code",
   "execution_count": 110,
   "id": "d4ce5634",
   "metadata": {},
   "outputs": [
    {
     "name": "stdout",
     "output_type": "stream",
     "text": [
      "Kristina 27 True\n"
     ]
    }
   ],
   "source": [
    "print()"
   ]
  },
  {
   "cell_type": "code",
   "execution_count": 111,
   "id": "8e679969",
   "metadata": {},
   "outputs": [
    {
     "name": "stdout",
     "output_type": "stream",
     "text": [
      "Kristina 27 False\n"
     ]
    }
   ],
   "source": [
    "print('Kristina', 27, False)"
   ]
  },
  {
   "cell_type": "code",
   "execution_count": 114,
   "id": "563c28f8",
   "metadata": {},
   "outputs": [
    {
     "name": "stdout",
     "output_type": "stream",
     "text": [
      "Name:Kristina\n",
      "Age:27\n",
      "남자입니다.\n"
     ]
    }
   ],
   "source": [
    "def Triple(name, age, woman=True):\n",
    "    print('Name:%s'%name)\n",
    "    print('Age:%s'%age)\n",
    "    if True:\n",
    "        print('남자입니다.')\n",
    "    else:\n",
    "        print('여자입니다.')\n",
    "\n",
    "Triple('Kristina', 27, True)"
   ]
  },
  {
   "cell_type": "code",
   "execution_count": 107,
   "id": "5c15dccc",
   "metadata": {},
   "outputs": [
    {
     "name": "stdout",
     "output_type": "stream",
     "text": [
      "19\n"
     ]
    }
   ],
   "source": [
    "double = lambda a, b: a+b\n",
    "y=double(9,10)\n",
    "print(y)"
   ]
  },
  {
   "cell_type": "code",
   "execution_count": 108,
   "id": "ef42254d",
   "metadata": {},
   "outputs": [
    {
     "name": "stdout",
     "output_type": "stream",
     "text": [
      "18\n"
     ]
    }
   ],
   "source": [
    "def double(a,b):\n",
    "    return a+b\n",
    "x = double(8,10)\n",
    "print(x)"
   ]
  },
  {
   "cell_type": "code",
   "execution_count": 118,
   "id": "227c1f8a",
   "metadata": {},
   "outputs": [
    {
     "name": "stdout",
     "output_type": "stream",
     "text": [
      "25\n",
      "100\n"
     ]
    }
   ],
   "source": [
    "x = lambda a:a**2\n",
    "print(x(5))\n",
    "print(x(10))"
   ]
  },
  {
   "cell_type": "code",
   "execution_count": 119,
   "id": "df7c46a2",
   "metadata": {},
   "outputs": [
    {
     "name": "stdout",
     "output_type": "stream",
     "text": [
      "60\n"
     ]
    }
   ],
   "source": [
    "f = lambda a,b,c:a+b+c\n",
    "print(f(10,20,30))"
   ]
  },
  {
   "cell_type": "code",
   "execution_count": 133,
   "id": "75d1aaa3",
   "metadata": {},
   "outputs": [
    {
     "name": "stdout",
     "output_type": "stream",
     "text": [
      "16 100\n"
     ]
    }
   ],
   "source": [
    "def mul(n):\n",
    "    return lambda x:x*n\n",
    "a=mul(8)\n",
    "a(2)\n",
    "b=mul(10)\n",
    "b(10)\n",
    "print(a(2),b(10))"
   ]
  },
  {
   "cell_type": "code",
   "execution_count": 141,
   "id": "78ffd0cb",
   "metadata": {},
   "outputs": [
    {
     "name": "stdout",
     "output_type": "stream",
     "text": [
      "메인 : x =  10 ,id =  140341680466512\n",
      "func(): x= 100 ,id= 140341680657872\n",
      "메인 : x =  10 ,id =  140341680466512\n"
     ]
    }
   ],
   "source": [
    "def func(x): #x는 매개변수 즉 지역변수\n",
    "    x=100\n",
    "    print('func(): x=', x,',id=', id(x))\n",
    "x=10 #x는 변수, 전역변수 -위에 x와는 다른 x임\n",
    "print('메인 : x = ', x, ',id = ',id(x))\n",
    "\n",
    "func(x) #func(10) - func에 어떤 수를 넣더라도 함수가 강제로 x를 100으로 변환해 버린다.\n",
    "\n",
    "print('메인 : x = ', x, ',id = ',id(x)) #다시 프린트 문을 실행하면 위에 x =10이 실행 되어 버린다."
   ]
  },
  {
   "cell_type": "code",
   "execution_count": 153,
   "id": "7889c212",
   "metadata": {},
   "outputs": [],
   "source": [
    "def func(x):\n",
    "    x=100\n",
    "    print('func(): x=', x,',id=', id(x))"
   ]
  },
  {
   "cell_type": "code",
   "execution_count": 154,
   "id": "0ebfb214",
   "metadata": {},
   "outputs": [],
   "source": [
    "del x"
   ]
  },
  {
   "cell_type": "code",
   "execution_count": 160,
   "id": "f35d925b",
   "metadata": {},
   "outputs": [
    {
     "name": "stdout",
     "output_type": "stream",
     "text": [
      "30\n",
      "140341680467152\n",
      "30\n",
      "140341680467152\n"
     ]
    }
   ],
   "source": [
    "def func():\n",
    "    print(x)\n",
    "    print(id(x))\n",
    "    \n",
    "x=30\n",
    "print(x)\n",
    "print(id(x))\n",
    "func()\n",
    "\n",
    "\n"
   ]
  },
  {
   "cell_type": "code",
   "execution_count": 161,
   "id": "d6a14c5f",
   "metadata": {},
   "outputs": [],
   "source": [
    "del x"
   ]
  },
  {
   "cell_type": "code",
   "execution_count": 162,
   "id": "33a23048",
   "metadata": {},
   "outputs": [
    {
     "ename": "NameError",
     "evalue": "name 'x' is not defined",
     "output_type": "error",
     "traceback": [
      "\u001b[0;31m---------------------------------------------------------------------------\u001b[0m",
      "\u001b[0;31mNameError\u001b[0m                                 Traceback (most recent call last)",
      "Input \u001b[0;32mIn [162]\u001b[0m, in \u001b[0;36m<cell line: 3>\u001b[0;34m()\u001b[0m\n\u001b[1;32m      1\u001b[0m \u001b[38;5;28;01mdef\u001b[39;00m \u001b[38;5;21mfunc\u001b[39m():\n\u001b[1;32m      2\u001b[0m     x \u001b[38;5;241m=\u001b[39m \u001b[38;5;241m100\u001b[39m\n\u001b[0;32m----> 3\u001b[0m \u001b[38;5;28mprint\u001b[39m(\u001b[43mx\u001b[49m)\n\u001b[1;32m      4\u001b[0m \u001b[38;5;28mprint\u001b[39m(\u001b[38;5;28mid\u001b[39m(x))\n\u001b[1;32m      6\u001b[0m x\u001b[38;5;241m=\u001b[39m\u001b[38;5;241m10\u001b[39m\n",
      "\u001b[0;31mNameError\u001b[0m: name 'x' is not defined"
     ]
    }
   ],
   "source": [
    "def func(): \n",
    "    x = 100\n",
    "print(x) #지역변수는 정의되지 않아서 오류가 나옴\n",
    "print(id(x))\n",
    "\n"
   ]
  },
  {
   "cell_type": "code",
   "execution_count": 164,
   "id": "01980474",
   "metadata": {},
   "outputs": [
    {
     "name": "stdout",
     "output_type": "stream",
     "text": [
      "10\n",
      "140341680466512\n",
      "10\n",
      "140341680466512\n"
     ]
    }
   ],
   "source": [
    "x=10\n",
    "print(x)\n",
    "print(id(x))\n",
    "func() #아무것도 안뜸\n",
    "\n",
    "print(x)\n",
    "print(id(x))\n",
    "\n"
   ]
  },
  {
   "cell_type": "code",
   "execution_count": 181,
   "id": "17274159",
   "metadata": {},
   "outputs": [
    {
     "name": "stdout",
     "output_type": "stream",
     "text": [
      "300\n",
      "140340896988208\n"
     ]
    }
   ],
   "source": [
    "def func(): \n",
    "    y = 300\n",
    "    print(y) #들여쓰기를 통해 함수안에 프린트문을 넣어 버림\n",
    "    print(id(y))\n",
    "\n",
    "func()\n"
   ]
  },
  {
   "cell_type": "code",
   "execution_count": 173,
   "id": "64beb36a",
   "metadata": {},
   "outputs": [
    {
     "ename": "SyntaxError",
     "evalue": "cannot delete function call (2625954448.py, line 2)",
     "output_type": "error",
     "traceback": [
      "\u001b[0;36m  Input \u001b[0;32mIn [173]\u001b[0;36m\u001b[0m\n\u001b[0;31m    del func()\u001b[0m\n\u001b[0m        ^\u001b[0m\n\u001b[0;31mSyntaxError\u001b[0m\u001b[0;31m:\u001b[0m cannot delete function call\n"
     ]
    }
   ],
   "source": [
    "del x\n",
    "del func()"
   ]
  },
  {
   "cell_type": "code",
   "execution_count": 180,
   "id": "77a15cc4",
   "metadata": {},
   "outputs": [
    {
     "name": "stdout",
     "output_type": "stream",
     "text": [
      "10\n",
      "140341680466512\n",
      "----------\n",
      "300\n",
      "140340896987440\n",
      "----------\n",
      "300\n",
      "140340896987440\n"
     ]
    }
   ],
   "source": [
    "def func():\n",
    "    global x\n",
    "    x = 300\n",
    "    print(x) #지역변수는 정의되지 않아서 오류가 나옴\n",
    "    print(id(x))\n",
    "    \n",
    "x = 10\n",
    "\n",
    "print(x)\n",
    "print(id(x))\n",
    "print('-'*10)\n",
    "func()\n",
    "print('-'*10)\n",
    "print(x)\n",
    "print(id(x))"
   ]
  },
  {
   "cell_type": "code",
   "execution_count": 182,
   "id": "c4601cfa",
   "metadata": {},
   "outputs": [],
   "source": [
    "def func():\n",
    "    global x\n",
    "    x = 500\n",
    "    print(x)\n",
    "    print(id(x))"
   ]
  },
  {
   "cell_type": "code",
   "execution_count": 183,
   "id": "8d31a916",
   "metadata": {},
   "outputs": [
    {
     "name": "stdout",
     "output_type": "stream",
     "text": [
      "500\n",
      "140340896988976\n"
     ]
    }
   ],
   "source": [
    "func()"
   ]
  },
  {
   "cell_type": "code",
   "execution_count": 184,
   "id": "9644f2d0",
   "metadata": {},
   "outputs": [
    {
     "name": "stdout",
     "output_type": "stream",
     "text": [
      "500\n",
      "140340896988976\n"
     ]
    }
   ],
   "source": [
    "print(x)\n",
    "print(id(x))"
   ]
  },
  {
   "cell_type": "code",
   "execution_count": 189,
   "id": "e190c545",
   "metadata": {},
   "outputs": [
    {
     "ename": "IndentationError",
     "evalue": "unexpected indent (1454059336.py, line 6)",
     "output_type": "error",
     "traceback": [
      "\u001b[0;36m  Input \u001b[0;32mIn [189]\u001b[0;36m\u001b[0m\n\u001b[0;31m    print('%s에 맞는 영어 단어는? %s'%(word, answer))\u001b[0m\n\u001b[0m    ^\u001b[0m\n\u001b[0;31mIndentationError\u001b[0m\u001b[0;31m:\u001b[0m unexpected indent\n"
     ]
    }
   ],
   "source": [
    "def matchWorld(word, answer):\n",
    "    word = []\n",
    "    answer = []\n",
    "    eng_dict = {'orange' : '오렌지', 'cookie' : '과자', 'mother' : '어머니', 'brother' : '형제', 'python' : '파이썬'}  \n",
    "        \n",
    "        print('%s에 맞는 영어 단어는? %s'%(word, answer))\n",
    "    if answer == eng_dict.keys:\n",
    "        print('맞습니다!')\n",
    "    else:\n",
    "        print('틀렸습니다.')\n",
    "            \n",
    "        \n",
    "result=matchWorld('오렌지', 'orange')\n",
    "print(result)"
   ]
  },
  {
   "cell_type": "code",
   "execution_count": 187,
   "id": "c5aaafe1",
   "metadata": {},
   "outputs": [
    {
     "data": {
      "text/plain": [
       "dict_keys(['orange', 'cookie', 'mother', 'brother', 'python'])"
      ]
     },
     "execution_count": 187,
     "metadata": {},
     "output_type": "execute_result"
    }
   ],
   "source": [
    "eng_dict = {'orange' : '오렌지', 'cookie' : '과자', 'mother' : '어머니', 'brother' : '형제', 'python' : '파이썬'}\n",
    "eng_dict.keys()"
   ]
  },
  {
   "cell_type": "code",
   "execution_count": 190,
   "id": "29f588e3",
   "metadata": {},
   "outputs": [
    {
     "name": "stdout",
     "output_type": "stream",
     "text": [
      "오렌지에 맞는 영어 단어는?orange\n",
      "맞습니다\n",
      "과자에 맞는 영어 단어는?cookie\n",
      "맞습니다\n",
      "어머니에 맞는 영어 단어는?mothere\n",
      "틀렸습니다.\n",
      "형제에 맞는 영어 단어는?brother\n",
      "맞습니다\n",
      "파이썬에 맞는 영어 단어는?pithon\n",
      "틀렸습니다.\n"
     ]
    }
   ],
   "source": [
    "def matchWorld(word, answer):\n",
    "    message = '맞습니다' if word == answer else '틀렸습니다.'\n",
    "    return message\n",
    "\n",
    "eng_dict = {'orange' : '오렌지', 'cookie' : '과자', 'mother' : '어머니', 'brother' : '형제', 'python' : '파이썬'}  \n",
    "        \n",
    "        \n",
    "for key in eng_dict:\n",
    "    string = input(f'{eng_dict[key]}에 맞는 영어 단어는?')     \n",
    "    result=matchWorld(string, key)\n",
    "    print(result)"
   ]
  },
  {
   "cell_type": "code",
   "execution_count": 204,
   "id": "88cf7e8d",
   "metadata": {},
   "outputs": [
    {
     "ename": "NameError",
     "evalue": "name 'keys' is not defined",
     "output_type": "error",
     "traceback": [
      "\u001b[0;31m---------------------------------------------------------------------------\u001b[0m",
      "\u001b[0;31mNameError\u001b[0m                                 Traceback (most recent call last)",
      "Input \u001b[0;32mIn [204]\u001b[0m, in \u001b[0;36m<cell line: 2>\u001b[0;34m()\u001b[0m\n\u001b[1;32m      1\u001b[0m eng_dict \u001b[38;5;241m=\u001b[39m {\u001b[38;5;124m'\u001b[39m\u001b[38;5;124morange\u001b[39m\u001b[38;5;124m'\u001b[39m : \u001b[38;5;124m'\u001b[39m\u001b[38;5;124m오렌지\u001b[39m\u001b[38;5;124m'\u001b[39m, \u001b[38;5;124m'\u001b[39m\u001b[38;5;124mcookie\u001b[39m\u001b[38;5;124m'\u001b[39m : \u001b[38;5;124m'\u001b[39m\u001b[38;5;124m과자\u001b[39m\u001b[38;5;124m'\u001b[39m, \u001b[38;5;124m'\u001b[39m\u001b[38;5;124mmother\u001b[39m\u001b[38;5;124m'\u001b[39m : \u001b[38;5;124m'\u001b[39m\u001b[38;5;124m어머니\u001b[39m\u001b[38;5;124m'\u001b[39m, \u001b[38;5;124m'\u001b[39m\u001b[38;5;124mbrother\u001b[39m\u001b[38;5;124m'\u001b[39m : \u001b[38;5;124m'\u001b[39m\u001b[38;5;124m형제\u001b[39m\u001b[38;5;124m'\u001b[39m, \u001b[38;5;124m'\u001b[39m\u001b[38;5;124mpython\u001b[39m\u001b[38;5;124m'\u001b[39m : \u001b[38;5;124m'\u001b[39m\u001b[38;5;124m파이썬\u001b[39m\u001b[38;5;124m'\u001b[39m}\n\u001b[0;32m----> 2\u001b[0m \u001b[38;5;28mprint\u001b[39m(eng_dict[\u001b[43mkeys\u001b[49m])\n",
      "\u001b[0;31mNameError\u001b[0m: name 'keys' is not defined"
     ]
    }
   ],
   "source": [
    "eng_dict = {'orange' : '오렌지', 'cookie' : '과자', 'mother' : '어머니', 'brother' : '형제', 'python' : '파이썬'}\n",
    "print(eng_dict[keys])"
   ]
  },
  {
   "cell_type": "code",
   "execution_count": 197,
   "id": "c12a92d4",
   "metadata": {},
   "outputs": [
    {
     "name": "stdout",
     "output_type": "stream",
     "text": [
      "첫 번째 수를 입력하세요.12\n",
      "두 번째 수를 입력하세요.8\n",
      "세 번째 수를 입력하세요.17\n",
      "12,8,17중 가장 큰 수 : 17\n"
     ]
    }
   ],
   "source": [
    "def max_two(i,j):\n",
    "    \n",
    "    if i <= j:\n",
    "        result = j\n",
    "    else:\n",
    "        result = i\n",
    "    return result\n",
    "    \n",
    "def max_three(x,y,z):\n",
    "    \n",
    "    if max_two(x,y) == x:\n",
    "        result = x\n",
    "        if max_two(x,z) == z:\n",
    "            result = z\n",
    "    elif max_two(x,y) == y:\n",
    "        result = y\n",
    "        if max_two(y,z) == z:\n",
    "            result = z\n",
    "    return result\n",
    "    \n",
    "a = int(input('첫 번째 수를 입력하세요.'))\n",
    "b = int(input('두 번째 수를 입력하세요.'))\n",
    "c = int(input('세 번째 수를 입력하세요.'))\n",
    "        \n",
    "\n",
    "max_num = max_three(a,b,c)\n",
    "print('%d,%d,%d중 가장 큰 수 : %d'%(a,b,c,max_num))"
   ]
  },
  {
   "cell_type": "code",
   "execution_count": 198,
   "id": "cd43f5d9",
   "metadata": {},
   "outputs": [
    {
     "name": "stdout",
     "output_type": "stream",
     "text": [
      "첫 번째 수를 입력하세요.10\n",
      "두 번째 수를 입력하세요.4\n",
      "세 번째 수를 입력하세요.11\n",
      "10,4,11중 가장 큰 수 : 11\n"
     ]
    }
   ],
   "source": [
    "def max_two(i,j):\n",
    "    \n",
    "    if i > j:\n",
    "        return i\n",
    "    else:\n",
    "        return j\n",
    "    \n",
    "def max_three(x,y,z):\n",
    "    max1 = max_two(x,y)\n",
    "    max2 = max_two(y,z)\n",
    "    max3 = max_two(max1, max2)\n",
    "    return max3\n",
    "    \n",
    "    \n",
    "a = int(input('첫 번째 수를 입력하세요.'))\n",
    "b = int(input('두 번째 수를 입력하세요.'))\n",
    "c = int(input('세 번째 수를 입력하세요.'))\n",
    "\n",
    "max_num = max_three(a,b,c)\n",
    "print('%d,%d,%d중 가장 큰 수 : %d'%(a,b,c,max_num))"
   ]
  },
  {
   "cell_type": "code",
   "execution_count": 201,
   "id": "ed699e30",
   "metadata": {},
   "outputs": [
    {
     "name": "stdout",
     "output_type": "stream",
     "text": [
      "6\n"
     ]
    }
   ],
   "source": [
    "def add(n):\n",
    "    if n == 1:\n",
    "        return 1\n",
    "    return n +add(n-1)\n",
    "print(add(3))"
   ]
  },
  {
   "cell_type": "code",
   "execution_count": 205,
   "id": "3c4df78f",
   "metadata": {},
   "outputs": [
    {
     "name": "stdout",
     "output_type": "stream",
     "text": [
      "True\n",
      "True\n",
      "False\n",
      "True\n",
      "True\n",
      "False\n"
     ]
    }
   ],
   "source": [
    "print(all([1,2,3]))\n",
    "print(all([1,2,-3]))\n",
    "print(all([1,0, 2,3]))\n",
    "print(all([]))\n",
    "print(all([1,True]))\n",
    "print(all([1,False]))\n"
   ]
  },
  {
   "cell_type": "code",
   "execution_count": 207,
   "id": "715ea1f8",
   "metadata": {},
   "outputs": [
    {
     "name": "stdout",
     "output_type": "stream",
     "text": [
      "True\n",
      "True\n",
      "True\n",
      "False\n",
      "True\n",
      "True\n"
     ]
    }
   ],
   "source": [
    "print(any([1,2,3]))\n",
    "print(any([1,2,-3]))\n",
    "print(any([1,0,2,3]))\n",
    "print(any([]))\n",
    "print(any([1,True]))\n",
    "print(any([1,False]))"
   ]
  },
  {
   "cell_type": "code",
   "execution_count": 208,
   "id": "2f386cc5",
   "metadata": {},
   "outputs": [
    {
     "name": "stdout",
     "output_type": "stream",
     "text": [
      "3\n",
      "goodmorning\n"
     ]
    }
   ],
   "source": [
    "print(eval('1+2'))\n",
    "print(eval(\"'good'+'morning'\"))"
   ]
  },
  {
   "cell_type": "code",
   "execution_count": 209,
   "id": "252b9b06",
   "metadata": {},
   "outputs": [
    {
     "name": "stdout",
     "output_type": "stream",
     "text": [
      "person: [{'name': 'park', 'addr': '제주'}, {'name': 'choi', 'addr': '제주'}]\n",
      "per: {'name': 'park', 'addr': '제주'}\n",
      "per: {'name': 'choi', 'addr': '제주'}\n"
     ]
    }
   ],
   "source": [
    "members = [\n",
    "    {'name':'kim','addr':'서울'}, {'name':'park','addr':'제주'},{'name':'jung','addr':'부산'},\n",
    "    {'name':'seo','addr':'부산'},{'name':'choi','addr':'제주'}\n",
    "]\n",
    "\n",
    "def searchaddr(mem):\n",
    "    return mem['addr'] == '제주'\n",
    "\n",
    "person = list(filter(searchaddr, members))\n",
    "print('person:', person)\n",
    "for per in filter(searchaddr, members):\n",
    "    print('per:', per)"
   ]
  },
  {
   "cell_type": "code",
   "execution_count": 210,
   "id": "0f1849ea",
   "metadata": {},
   "outputs": [
    {
     "name": "stdout",
     "output_type": "stream",
     "text": [
      "result :  <map object at 0x7fa3880ab370>\n",
      "listresult :  [1, 4, 9, 16, 25]\n",
      "1\n",
      "4\n",
      "9\n",
      "16\n",
      "25\n"
     ]
    }
   ],
   "source": [
    "L = [1,2,3,4,5]\n",
    "\n",
    "def mul(num):\n",
    "    return num*num\n",
    "result = map(mul,L)\n",
    "print('result : ',result)\n",
    "listresult = list(map(mul,L))\n",
    "print('listresult : ',listresult)\n",
    "for i in map(mul,L):\n",
    "    print(i)"
   ]
  },
  {
   "cell_type": "code",
   "execution_count": 212,
   "id": "3c31dd48",
   "metadata": {},
   "outputs": [
    {
     "data": {
      "text/plain": [
       "8"
      ]
     },
     "execution_count": 212,
     "metadata": {},
     "output_type": "execute_result"
    }
   ],
   "source": [
    "pow(2,3)"
   ]
  },
  {
   "cell_type": "code",
   "execution_count": 213,
   "id": "4a44ef2b",
   "metadata": {},
   "outputs": [
    {
     "data": {
      "text/plain": [
       "3.1435"
      ]
     },
     "execution_count": 213,
     "metadata": {},
     "output_type": "execute_result"
    }
   ],
   "source": [
    "round(3.143523463, 4)"
   ]
  },
  {
   "cell_type": "code",
   "execution_count": 217,
   "id": "3abbfcc8",
   "metadata": {},
   "outputs": [
    {
     "name": "stdout",
     "output_type": "stream",
     "text": [
      "result :  <zip object at 0x7fa3a93d81c0>\n",
      "listresult :  [('kim', 30, 162.9), ('park', 20, 142.7), ('jung', 40, 189.3)]\n"
     ]
    }
   ],
   "source": [
    "name = ['kim','park','jung']\n",
    "age = [30,20,40]\n",
    "height = [162.9, 142.7,189.3]\n",
    "result = zip(name,age,height)\n",
    "print('result : ', result)\n",
    "listresult = list(result)\n",
    "print('listresult : ', listresult)"
   ]
  },
  {
   "cell_type": "code",
   "execution_count": 218,
   "id": "234db229",
   "metadata": {},
   "outputs": [
    {
     "data": {
      "text/plain": [
       "['c', 'b', 'a']"
      ]
     },
     "execution_count": 218,
     "metadata": {},
     "output_type": "execute_result"
    }
   ],
   "source": [
    "test = {'a':1, 'b':5, 'c':3}\n",
    "sorted(test, reverse = True)"
   ]
  },
  {
   "cell_type": "code",
   "execution_count": 219,
   "id": "d04a3ed9",
   "metadata": {},
   "outputs": [
    {
     "data": {
      "text/plain": [
       "['a', 'c', 'b']"
      ]
     },
     "execution_count": 219,
     "metadata": {},
     "output_type": "execute_result"
    }
   ],
   "source": [
    "test = {'a':1, 'b':5, 'c':3}\n",
    "sorted(test, key = lambda x: test[x])  #value 의 크기를 확인후 오름차순 정렬함"
   ]
  },
  {
   "cell_type": "code",
   "execution_count": 222,
   "id": "f12a0475",
   "metadata": {},
   "outputs": [],
   "source": [
    "file = open('new.txt','w')\n",
    "file.close()"
   ]
  },
  {
   "cell_type": "code",
   "execution_count": 227,
   "id": "bbc701d2",
   "metadata": {},
   "outputs": [],
   "source": [
    "file = open('./Desktop/hello.txt','w')\n",
    "file.close()"
   ]
  },
  {
   "cell_type": "code",
   "execution_count": 226,
   "id": "8e3244d9",
   "metadata": {},
   "outputs": [
    {
     "name": "stdout",
     "output_type": "stream",
     "text": [
      "2022_08_23.ipynb   2022_08_31.ipynb   \u001b[34mMovies\u001b[m\u001b[m/            Untitled2.ipynb\r\n",
      "2022_08_24.ipynb   \u001b[34mApplications\u001b[m\u001b[m/      \u001b[34mMusic\u001b[m\u001b[m/             Untitled3.ipynb\r\n",
      "2022_08_25.ipynb   \u001b[34mDesktop\u001b[m\u001b[m/           \u001b[34mPictures\u001b[m\u001b[m/          Untitled4.ipynb\r\n",
      "2022_08_26.ipynb   \u001b[34mDocuments\u001b[m\u001b[m/         \u001b[34mPublic\u001b[m\u001b[m/            \u001b[34meclipse-workspace\u001b[m\u001b[m/\r\n",
      "2022_08_29.ipynb   \u001b[34mDownloads\u001b[m\u001b[m/         Untitled.ipynb     hello.txt\r\n",
      "2022_08_30.ipynb   \u001b[34mLibrary\u001b[m\u001b[m/           Untitled1.ipynb    new.txt\r\n"
     ]
    }
   ],
   "source": [
    "ls"
   ]
  },
  {
   "cell_type": "code",
   "execution_count": 228,
   "id": "0acddfdc",
   "metadata": {},
   "outputs": [],
   "source": [
    "file = open('./Desktop/sample1.txt', 'w',encoding='utf8')\n",
    "file.write('안녕하세요. 반갑습니다.')\n",
    "file.close()"
   ]
  },
  {
   "cell_type": "code",
   "execution_count": 230,
   "id": "35f44c9f",
   "metadata": {},
   "outputs": [
    {
     "name": "stdout",
     "output_type": "stream",
     "text": [
      "/Users/iseung-won\n"
     ]
    },
    {
     "ename": "TypeError",
     "evalue": "TextIOWrapper.write() takes exactly one argument (0 given)",
     "output_type": "error",
     "traceback": [
      "\u001b[0;31m---------------------------------------------------------------------------\u001b[0m",
      "\u001b[0;31mTypeError\u001b[0m                                 Traceback (most recent call last)",
      "Input \u001b[0;32mIn [230]\u001b[0m, in \u001b[0;36m<cell line: 7>\u001b[0;34m()\u001b[0m\n\u001b[1;32m      5\u001b[0m f\u001b[38;5;241m.\u001b[39mwrite(\u001b[38;5;124m'\u001b[39m\u001b[38;5;124m-------------------\u001b[39m\u001b[38;5;124m'\u001b[39m)\n\u001b[1;32m      6\u001b[0m f\u001b[38;5;241m.\u001b[39mwrite(\u001b[38;5;124m'\u001b[39m\u001b[38;5;124m1번 항목.\u001b[39m\u001b[38;5;124m'\u001b[39m)\n\u001b[0;32m----> 7\u001b[0m \u001b[43mf\u001b[49m\u001b[38;5;241;43m.\u001b[39;49m\u001b[43mwrite\u001b[49m\u001b[43m(\u001b[49m\u001b[43m)\u001b[49m\n\u001b[1;32m      8\u001b[0m f\u001b[38;5;241m.\u001b[39mwrite(\u001b[38;5;124m'\u001b[39m\u001b[38;5;124m2번 항목.\u001b[39m\u001b[38;5;124m'\u001b[39m)\n\u001b[1;32m      9\u001b[0m f\u001b[38;5;241m.\u001b[39mwrite()\n",
      "\u001b[0;31mTypeError\u001b[0m: TextIOWrapper.write() takes exactly one argument (0 given)"
     ]
    }
   ],
   "source": [
    "import os\n",
    "print(os.getcwd())\n",
    "\n"
   ]
  },
  {
   "cell_type": "code",
   "execution_count": 250,
   "id": "7ae07dc2",
   "metadata": {},
   "outputs": [],
   "source": [
    "f = open('sample2.txt','w')\n",
    "f.write('-'*10 + '\\n')\n",
    "for i in range(1,4):\n",
    "    s = f'{i}번 항목 \\n'\n",
    "    f.write(s)\n",
    "\n",
    "f.write('-'*10 + '\\n')\n",
    "f.close()"
   ]
  },
  {
   "cell_type": "code",
   "execution_count": 251,
   "id": "daae3415",
   "metadata": {},
   "outputs": [],
   "source": [
    "f = open('sample3.txt','w')\n",
    "f.write('-'*10 + '\\n')\n",
    "for i in range(1,4):\n",
    "    s = f'{i}번 항목 \\n'\n",
    "    f.write(s)\n",
    "\n",
    "f.write('-'*10 + '\\n')\n",
    "f.close()"
   ]
  },
  {
   "cell_type": "code",
   "execution_count": 260,
   "id": "b0ec190a",
   "metadata": {},
   "outputs": [],
   "source": [
    "scores = ['김소영 82 80 93 97 93 88' ,\n",
    "           '정예린 86 100 93 86 90 77',\n",
    "           '이세영 91 88 99 79 92 68',\n",
    "           '정수정 86 100 93 89 92 93',\n",
    "           '박지수 80 100 95 89 90 84']\n",
    "\n",
    "f = open('score.txt','w')\n",
    "f.write('%s'%scores)\n",
    "f.close()\n"
   ]
  },
  {
   "cell_type": "code",
   "execution_count": 261,
   "id": "7bc4a730",
   "metadata": {},
   "outputs": [
    {
     "name": "stdout",
     "output_type": "stream",
     "text": [
      "김소영 82 80 93 97 93 88\n",
      "정예린 86 100 93 86 90 77\n",
      "이세영 91 88 99 79 92 68\n",
      "정수정 86 100 93 89 92 93\n",
      "박지수 80 100 95 89 90 84\n"
     ]
    }
   ],
   "source": [
    "scores = ['김소영 82 80 93 97 93 88' ,\n",
    "           '정예린 86 100 93 86 90 77',\n",
    "           '이세영 91 88 99 79 92 68',\n",
    "           '정수정 86 100 93 89 92 93',\n",
    "           '박지수 80 100 95 89 90 84']\n",
    "\n",
    "for i in scores:\n",
    "    print(i)"
   ]
  },
  {
   "cell_type": "code",
   "execution_count": 263,
   "id": "ad76dee1",
   "metadata": {},
   "outputs": [],
   "source": [
    "f = open('scores.txt','w')\n",
    "for i in scores:\n",
    "    f.write(i + '\\n')\n",
    "f.close()"
   ]
  },
  {
   "cell_type": "code",
   "execution_count": 268,
   "id": "c3eb9771",
   "metadata": {},
   "outputs": [],
   "source": [
    "del f"
   ]
  },
  {
   "cell_type": "code",
   "execution_count": 279,
   "id": "fd3eabf0",
   "metadata": {},
   "outputs": [],
   "source": [
    "f = open('sample2.txt','w')\n",
    "f.write('-'*10 + '\\n')\n",
    "for i in range(1,4):\n",
    "    s = f'{i}번 항목 \\n'\n",
    "    f.write(s)\n",
    "\n",
    "f.write('-'*10 + '\\n')\n",
    "f.close()"
   ]
  },
  {
   "cell_type": "code",
   "execution_count": 291,
   "id": "20281600",
   "metadata": {},
   "outputs": [
    {
     "name": "stdout",
     "output_type": "stream",
     "text": [
      "----------\n",
      "\n"
     ]
    }
   ],
   "source": [
    "f = open('./sample2.txt','r')\n",
    "line1 = f.readline()\n",
    "print(line1)"
   ]
  },
  {
   "cell_type": "code",
   "execution_count": 292,
   "id": "fd5eb8cf",
   "metadata": {},
   "outputs": [
    {
     "name": "stdout",
     "output_type": "stream",
     "text": [
      "----------\n",
      "\n"
     ]
    }
   ],
   "source": [
    "print(line1)"
   ]
  },
  {
   "cell_type": "code",
   "execution_count": 293,
   "id": "a1e30def",
   "metadata": {},
   "outputs": [
    {
     "name": "stdout",
     "output_type": "stream",
     "text": [
      "1번 항목 \n",
      "\n"
     ]
    }
   ],
   "source": [
    "line2 = f.readline()\n",
    "print(line2)"
   ]
  },
  {
   "cell_type": "code",
   "execution_count": 294,
   "id": "91998eb7",
   "metadata": {},
   "outputs": [
    {
     "data": {
      "text/plain": [
       "True"
      ]
     },
     "execution_count": 294,
     "metadata": {},
     "output_type": "execute_result"
    }
   ],
   "source": [
    "bool(line2)"
   ]
  },
  {
   "cell_type": "code",
   "execution_count": 295,
   "id": "94d930fb",
   "metadata": {},
   "outputs": [
    {
     "data": {
      "text/plain": [
       "True"
      ]
     },
     "execution_count": 295,
     "metadata": {},
     "output_type": "execute_result"
    }
   ],
   "source": [
    "line3 = f.readline()\n",
    "line4 = f.readline()\n",
    "bool(line4)"
   ]
  },
  {
   "cell_type": "code",
   "execution_count": 286,
   "id": "f99debb0",
   "metadata": {},
   "outputs": [],
   "source": []
  },
  {
   "cell_type": "code",
   "execution_count": 296,
   "id": "036c4fcb",
   "metadata": {},
   "outputs": [
    {
     "name": "stdout",
     "output_type": "stream",
     "text": [
      "2번 항목 \n",
      "\n",
      "3번 항목 \n",
      "\n"
     ]
    }
   ],
   "source": [
    "print(line3)\n",
    "print(line4)"
   ]
  },
  {
   "cell_type": "code",
   "execution_count": 297,
   "id": "f3b98803",
   "metadata": {},
   "outputs": [
    {
     "name": "stdout",
     "output_type": "stream",
     "text": [
      "----------\n",
      "\n",
      "\n"
     ]
    }
   ],
   "source": [
    "line5 = f.readline()\n",
    "line6 = f.readline()\n",
    "\n",
    "print(line5)\n",
    "print(line6)"
   ]
  },
  {
   "cell_type": "code",
   "execution_count": 298,
   "id": "347db928",
   "metadata": {},
   "outputs": [
    {
     "data": {
      "text/plain": [
       "False"
      ]
     },
     "execution_count": 298,
     "metadata": {},
     "output_type": "execute_result"
    }
   ],
   "source": [
    "bool(line6)"
   ]
  },
  {
   "cell_type": "code",
   "execution_count": 289,
   "id": "984033bb",
   "metadata": {},
   "outputs": [],
   "source": [
    "f.close()"
   ]
  },
  {
   "cell_type": "code",
   "execution_count": 300,
   "id": "8410f9ec",
   "metadata": {},
   "outputs": [
    {
     "name": "stdout",
     "output_type": "stream",
     "text": [
      "----------\n",
      "\n",
      "1번 항목 \n",
      "\n",
      "2번 항목 \n",
      "\n",
      "3번 항목 \n",
      "\n",
      "----------\n",
      "\n"
     ]
    }
   ],
   "source": [
    "f = open('./sample2.txt')\n",
    "\n",
    "while True:\n",
    "    line = f.readline()\n",
    "    if not line:\n",
    "        break\n",
    "    print(line)\n",
    "f.close()"
   ]
  },
  {
   "cell_type": "code",
   "execution_count": 307,
   "id": "67620d28",
   "metadata": {},
   "outputs": [
    {
     "name": "stdout",
     "output_type": "stream",
     "text": [
      "['----------\\n', '1번 항목 \\n', '2번 항목 \\n', '3번 항목 \\n', '----------\\n']\n"
     ]
    }
   ],
   "source": [
    "f = open('sample2.txt','r')\n",
    "lines = f.readlines()  # readlines는 리스트로 저장이 된다.\n",
    "print(lines)\n",
    "f.close()\n"
   ]
  },
  {
   "cell_type": "code",
   "execution_count": 308,
   "id": "e45232ea",
   "metadata": {},
   "outputs": [
    {
     "name": "stdout",
     "output_type": "stream",
     "text": [
      "----------\n",
      "\n",
      "1번 항목 \n",
      "\n",
      "2번 항목 \n",
      "\n",
      "3번 항목 \n",
      "\n",
      "----------\n",
      "\n"
     ]
    }
   ],
   "source": [
    "for i in lines:\n",
    "    print(i)\n"
   ]
  },
  {
   "cell_type": "code",
   "execution_count": 310,
   "id": "55b1a7d5",
   "metadata": {},
   "outputs": [
    {
     "data": {
      "text/plain": [
       "['----------\\n', '1번 항목 \\n', '2번 항목 \\n', '3번 항목 \\n', '----------\\n']"
      ]
     },
     "execution_count": 310,
     "metadata": {},
     "output_type": "execute_result"
    }
   ],
   "source": [
    "lines"
   ]
  },
  {
   "cell_type": "code",
   "execution_count": 311,
   "id": "e1e12b1d",
   "metadata": {},
   "outputs": [
    {
     "data": {
      "text/plain": [
       "5"
      ]
     },
     "execution_count": 311,
     "metadata": {},
     "output_type": "execute_result"
    }
   ],
   "source": [
    "len(lines)"
   ]
  },
  {
   "cell_type": "code",
   "execution_count": 312,
   "id": "513f172d",
   "metadata": {},
   "outputs": [
    {
     "name": "stdout",
     "output_type": "stream",
     "text": [
      "----------\n",
      "1번 항목 \n",
      "2번 항목 \n",
      "3번 항목 \n",
      "----------\n",
      "\n"
     ]
    }
   ],
   "source": [
    "f = open('sample2.txt','r')\n",
    "a = f.read()\n",
    "print(a)\n",
    "f.close()"
   ]
  },
  {
   "cell_type": "code",
   "execution_count": 317,
   "id": "9aed673a",
   "metadata": {},
   "outputs": [
    {
     "name": "stdout",
     "output_type": "stream",
     "text": [
      "<class 'list'>\n"
     ]
    }
   ],
   "source": [
    "f = open('./scores.txt')\n",
    "score_lines = f.readlines()\n",
    "print(type(score_lines))\n",
    "f.close()"
   ]
  },
  {
   "cell_type": "code",
   "execution_count": 316,
   "id": "0d9a763f",
   "metadata": {},
   "outputs": [
    {
     "name": "stdout",
     "output_type": "stream",
     "text": [
      "김소영 82 80 93 97 93 88\n",
      "\n",
      "정예린 86 100 93 86 90 77\n",
      "\n",
      "이세영 91 88 99 79 92 68\n",
      "\n",
      "정수정 86 100 93 89 92 93\n",
      "\n",
      "박지수 80 100 95 89 90 84\n",
      "\n"
     ]
    }
   ],
   "source": [
    "for i in score_lines:\n",
    "    print(i)"
   ]
  },
  {
   "cell_type": "code",
   "execution_count": 358,
   "id": "885cdf3e",
   "metadata": {},
   "outputs": [
    {
     "name": "stdout",
     "output_type": "stream",
     "text": [
      "--------------------------------------------------\n",
      "김소영\n",
      "합계 : 533 평균 : 88.83\n",
      "--------------------------------------------------\n",
      "정예린\n",
      "합계 : 532 평균 : 88.67\n",
      "--------------------------------------------------\n",
      "이세영\n",
      "합계 : 517 평균 : 86.17\n",
      "--------------------------------------------------\n",
      "정수정\n",
      "합계 : 553 평균 : 92.17\n",
      "--------------------------------------------------\n",
      "박지수\n",
      "합계 : 538 평균 : 89.67\n",
      "--------------------------------------------------\n"
     ]
    }
   ],
   "source": [
    "f = open('scores.txt','r',encoding='utf8')\n",
    "scores = f.readlines()\n",
    "f.close()\n",
    "\n",
    "print('-'*50)\n",
    "\n",
    "\n",
    "for line in scores:\n",
    "    student = line.split()   \n",
    "    print(student[0])\n",
    "    sum_student = 0\n",
    "    for i in student[1:]:\n",
    "        sum_student = sum_student + int(i)\n",
    "    print('합계 :', sum_student, '평균 : %.2f'%(sum_student/len(student[1:])))\n",
    "    print('-'*50)"
   ]
  },
  {
   "cell_type": "code",
   "execution_count": 350,
   "id": "90227b74",
   "metadata": {},
   "outputs": [
    {
     "data": {
      "text/plain": [
       "5"
      ]
     },
     "execution_count": 350,
     "metadata": {},
     "output_type": "execute_result"
    }
   ],
   "source": [
    "len(scores)"
   ]
  },
  {
   "cell_type": "code",
   "execution_count": null,
   "id": "5a00f0b2",
   "metadata": {},
   "outputs": [],
   "source": [
    "sum_student = 0\n",
    "    while i < len(scores):\n",
    "        \n",
    "            print(student[i])\n",
    "            sum_student +=int(student)\n",
    "            sum_student[]\n",
    "            print('-'*50)\n",
    "            i += i"
   ]
  }
 ],
 "metadata": {
  "kernelspec": {
   "display_name": "Python 3 (ipykernel)",
   "language": "python",
   "name": "python3"
  },
  "language_info": {
   "codemirror_mode": {
    "name": "ipython",
    "version": 3
   },
   "file_extension": ".py",
   "mimetype": "text/x-python",
   "name": "python",
   "nbconvert_exporter": "python",
   "pygments_lexer": "ipython3",
   "version": "3.9.12"
  }
 },
 "nbformat": 4,
 "nbformat_minor": 5
}
